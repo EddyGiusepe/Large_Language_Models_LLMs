{
 "cells": [
  {
   "attachments": {},
   "cell_type": "markdown",
   "metadata": {},
   "source": [
    "<h1 align=\"center\"><font color=\"yellow\">Using HuggingFace's Inference API with an NLP model.</font></h1>"
   ]
  },
  {
   "attachments": {},
   "cell_type": "markdown",
   "metadata": {},
   "source": [
    "<font color=\"yellow\">Data Scientist.: Dr.Eddy Giusepe Chirinos Isidro</font>"
   ]
  },
  {
   "attachments": {},
   "cell_type": "markdown",
   "metadata": {},
   "source": [
    "# Contextualizando"
   ]
  },
  {
   "attachments": {},
   "cell_type": "markdown",
   "metadata": {},
   "source": [
    "Neste pequeno script vamos usar um modelo de NLP hospedado no [Ecosistema do Hugging Face](https://huggingface.co/). O modelo que vamos a Instanciar é um Modelo de Classificação de Sentimento. Este modelo de classificador MULTILÍNGUE, `cardiffnlp/twitter-xlm-roberta-base-sentiment`, pode ser baixado [aqui](https://huggingface.co/cardiffnlp/twitter-xlm-roberta-base-sentiment).\n"
   ]
  },
  {
   "attachments": {},
   "cell_type": "markdown",
   "metadata": {},
   "source": [
    "# Instanciando o modelo da HuggingFace"
   ]
  },
  {
   "attachments": {},
   "cell_type": "markdown",
   "metadata": {},
   "source": [
    "<font color=\"orange\">Para usar os Modelos do HuggingFace você precisa criar uma conta lá e pegar o TOKEN da API de Inferência.</font>"
   ]
  },
  {
   "cell_type": "code",
   "execution_count": 94,
   "metadata": {},
   "outputs": [
    {
     "name": "stdout",
     "output_type": "stream",
     "text": [
      "Carregando a minha chave Key:  True\n"
     ]
    }
   ],
   "source": [
    "# Isto é quando usas o arquivo .env:\n",
    "from dotenv import load_dotenv\n",
    "import os\n",
    "print('Carregando a minha chave Key: ', load_dotenv())\n",
    "Eddy_HUGGINGFACEHUB_API_TOKEN = os.environ['HUGGINGFACEHUB_API_TOKEN'] "
   ]
  },
  {
   "attachments": {},
   "cell_type": "markdown",
   "metadata": {},
   "source": [
    "# <font color=\"red\">Modelo em Inglês</font>"
   ]
  },
  {
   "cell_type": "code",
   "execution_count": 95,
   "metadata": {},
   "outputs": [
    {
     "data": {
      "text/plain": [
       "[[{'label': 'LABEL_0', 'score': 0.0016051668208092451},\n",
       "  {'label': 'LABEL_1', 'score': 0.012928708456456661},\n",
       "  {'label': 'LABEL_2', 'score': 0.9854661226272583}]]"
      ]
     },
     "execution_count": 95,
     "metadata": {},
     "output_type": "execute_result"
    }
   ],
   "source": [
    "import requests\n",
    "\n",
    "\n",
    "API_URL = \"https://api-inference.huggingface.co/models/cardiffnlp/twitter-roberta-base-sentiment\"\n",
    "headers = {\"Authorization\": Eddy_HUGGINGFACEHUB_API_TOKEN}\n",
    "\n",
    "\n",
    "def query(payload):\n",
    "\tresponse = requests.post(API_URL, headers=headers, json=payload)\n",
    "\treturn response.json()\n",
    "\t\n",
    "\n",
    "output = query({\n",
    "\t\"inputs\": \"It's fantastic to be a data scientist!\",\n",
    "})\n",
    "\n",
    "# A nossa saída é uma lista Bidimensional:\n",
    "output"
   ]
  },
  {
   "cell_type": "code",
   "execution_count": 96,
   "metadata": {},
   "outputs": [
    {
     "data": {
      "text/plain": [
       "[{'label': 'LABEL_0', 'score': 0.0016051668208092451},\n",
       " {'label': 'LABEL_1', 'score': 0.012928708456456661},\n",
       " {'label': 'LABEL_2', 'score': 0.9854661226272583}]"
      ]
     },
     "execution_count": 96,
     "metadata": {},
     "output_type": "execute_result"
    }
   ],
   "source": [
    "output[0]"
   ]
  },
  {
   "cell_type": "code",
   "execution_count": 97,
   "metadata": {},
   "outputs": [
    {
     "data": {
      "text/plain": [
       "[{'label': 'LABEL_2', 'score': 0.9854661226272583},\n",
       " {'label': 'LABEL_1', 'score': 0.012928708456456661},\n",
       " {'label': 'LABEL_0', 'score': 0.0016051668208092451}]"
      ]
     },
     "execution_count": 97,
     "metadata": {},
     "output_type": "execute_result"
    }
   ],
   "source": [
    "# Criamos um obejto para ORDENAR A NOSSA SAÍDA:\n",
    "sorted_output = sorted(output[0], key=lambda x: x['score'], reverse=True) \n",
    "sorted_output"
   ]
  },
  {
   "cell_type": "code",
   "execution_count": 98,
   "metadata": {},
   "outputs": [
    {
     "data": {
      "text/plain": [
       "{'label': 'LABEL_2', 'score': 0.9854661226272583}"
      ]
     },
     "execution_count": 98,
     "metadata": {},
     "output_type": "execute_result"
    }
   ],
   "source": [
    "# Agora a predição será apenas uma Label (aquela de máxima SCORE):\n",
    "prediction = sorted_output[0]\n",
    "prediction\n"
   ]
  },
  {
   "cell_type": "code",
   "execution_count": 99,
   "metadata": {},
   "outputs": [],
   "source": [
    "# Podemos mapear todas as LABELS ao respectivo SENTIMENTO:\n",
    "label_mapping = {\n",
    "    'LABEL_0':'Negative',\n",
    "    'LABEL_1':'Neutral',\n",
    "    'LABEL_2':'Positive'\n",
    "}"
   ]
  },
  {
   "cell_type": "code",
   "execution_count": 100,
   "metadata": {},
   "outputs": [
    {
     "data": {
      "text/plain": [
       "'Positive'"
      ]
     },
     "execution_count": 100,
     "metadata": {},
     "output_type": "execute_result"
    }
   ],
   "source": [
    "# Printamos o SENTIMENTO da query: \n",
    "label_mapping[prediction['label']]"
   ]
  },
  {
   "attachments": {},
   "cell_type": "markdown",
   "metadata": {},
   "source": [
    "# <font color=\"red\">Modelo em Português</font>"
   ]
  },
  {
   "attachments": {},
   "cell_type": "markdown",
   "metadata": {},
   "source": [
    "<font color=\"orange\">Este é um modelo de `base XLM-roBERTa multilíngue` treinado em `~ 198 milhões de tweets` e ajustado para ANÁLISE DE SENTIMENTO. O ajuste fino de sentimento foi feito em `8` idiomas (Ar, En, Fr, De, Hi, It, Sp, `Pt`), mas pode ser usado para mais idiomas (consulte o artigo para obter detalhes).</font>\n"
   ]
  },
  {
   "cell_type": "code",
   "execution_count": 101,
   "metadata": {},
   "outputs": [
    {
     "data": {
      "text/plain": [
       "[[{'label': 'positive', 'score': 0.9046845436096191},\n",
       "  {'label': 'neutral', 'score': 0.07992047071456909},\n",
       "  {'label': 'negative', 'score': 0.015395013615489006}]]"
      ]
     },
     "execution_count": 101,
     "metadata": {},
     "output_type": "execute_result"
    }
   ],
   "source": [
    "import requests\n",
    "\n",
    "\n",
    "API_URL = \"https://api-inference.huggingface.co/models/cardiffnlp/twitter-xlm-roberta-base-sentiment\"\n",
    "headers = {\"Authorization\": Eddy_HUGGINGFACEHUB_API_TOKEN}\n",
    "\n",
    "\n",
    "def query(payload):\n",
    "\tresponse = requests.post(API_URL, headers=headers, json=payload)\n",
    "\treturn response.json()\n",
    "\t\n",
    "input_texto = input(\"Digite a sua sentença em Português: \") #\"Feliz porque todos na minha família estão com saúde, graças a DEUS!\"\n",
    "\n",
    "output = query({\n",
    "\t\"inputs\": input_texto\n",
    "})\n",
    "\n",
    "# A nossa saída é uma lista Bidimensional:\n",
    "output"
   ]
  },
  {
   "cell_type": "code",
   "execution_count": 102,
   "metadata": {},
   "outputs": [
    {
     "data": {
      "text/plain": [
       "[{'label': 'positive', 'score': 0.9046845436096191},\n",
       " {'label': 'neutral', 'score': 0.07992047071456909},\n",
       " {'label': 'negative', 'score': 0.015395013615489006}]"
      ]
     },
     "execution_count": 102,
     "metadata": {},
     "output_type": "execute_result"
    }
   ],
   "source": [
    "# Aqui, observamos que já está ordenado de maneira DECRESCENTE:\n",
    "output[0]"
   ]
  },
  {
   "cell_type": "code",
   "execution_count": 103,
   "metadata": {},
   "outputs": [
    {
     "data": {
      "text/plain": [
       "'positive'"
      ]
     },
     "execution_count": 103,
     "metadata": {},
     "output_type": "execute_result"
    }
   ],
   "source": [
    "# A predição será apenas uma Label (aquela de máxima SCORE):\n",
    "prediction = output[0][0]['label']\n",
    "prediction"
   ]
  },
  {
   "cell_type": "code",
   "execution_count": 104,
   "metadata": {},
   "outputs": [
    {
     "name": "stdout",
     "output_type": "stream",
     "text": [
      "A sentença: \n",
      "É muito massa ser um Cientista de Dados 🤗.\n",
      "Tem SENTIMENTO --> positive\n"
     ]
    }
   ],
   "source": [
    "print(\"A sentença: \")\n",
    "print(f\"{input_texto}\")\n",
    "print(f\"Tem SENTIMENTO --> {prediction}\")"
   ]
  }
 ],
 "metadata": {
  "kernelspec": {
   "display_name": "venv_LLMs",
   "language": "python",
   "name": "python3"
  },
  "language_info": {
   "codemirror_mode": {
    "name": "ipython",
    "version": 3
   },
   "file_extension": ".py",
   "mimetype": "text/x-python",
   "name": "python",
   "nbconvert_exporter": "python",
   "pygments_lexer": "ipython3",
   "version": "3.10.6"
  },
  "orig_nbformat": 4
 },
 "nbformat": 4,
 "nbformat_minor": 2
}
