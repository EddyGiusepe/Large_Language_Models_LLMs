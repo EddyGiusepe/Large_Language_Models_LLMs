{
 "cells": [
  {
   "attachments": {},
   "cell_type": "markdown",
   "metadata": {},
   "source": [
    "<h1 align=\"center\"><font color=\"red\">First Chatbot OpenAI</font></h1>"
   ]
  },
  {
   "attachments": {},
   "cell_type": "markdown",
   "metadata": {},
   "source": [
    "<font color=\"pink\">Senior Data Scientist.: Dr. Eddy Giusepe Chirinos Isidro</font>"
   ]
  },
  {
   "cell_type": "markdown",
   "metadata": {},
   "source": [
    "Link de estudo:\n",
    "\n",
    "* [Github: peremartra](https://github.com/peremartra/Large-Language-Model-Notebooks-Course/tree/main/1-Introduction%20to%20LLMs%20with%20OpenAI)"
   ]
  },
  {
   "attachments": {},
   "cell_type": "markdown",
   "metadata": {},
   "source": [
    "# <font color=\"gree\">Construindo o Chatbot de atendimento numa Sorveteria</font>"
   ]
  },
  {
   "cell_type": "code",
   "execution_count": null,
   "metadata": {},
   "outputs": [],
   "source": [
    "# %pip install -q -U openai\n",
    "# %pip install -q -U gradio\n"
   ]
  },
  {
   "cell_type": "code",
   "execution_count": 1,
   "metadata": {},
   "outputs": [],
   "source": [
    "import openai\n",
    "import gradio as gr\n",
    "from dotenv import load_dotenv, find_dotenv\n",
    "_ = load_dotenv(find_dotenv()) # Loading variables from the .env file\n",
    "\n",
    "\n",
    "model = \"gpt-4o-mini\" #\"gpt-4-turbo-preview\" #\"gpt-4o-mini\""
   ]
  },
  {
   "cell_type": "code",
   "execution_count": 2,
   "metadata": {},
   "outputs": [],
   "source": [
    "context = [ {'role':'system', 'content':\"\"\"\n",
    "Você trabalha coletando pedidos em uma sorveteria delivery chamada: Estou Congelado.\n",
    "\n",
    "Primeiro dê boas-vindas ao cliente, de forma muito amigável, depois colete o pedido.\n",
    "\n",
    "Suas instruções são:\n",
    "-Coletar o pedido completo, apenas das opções em nosso cardápio, incluindo coberturas.\n",
    "-Resumir o pedido\n",
    "-Verificar uma última vez se está tudo ok ou se o cliente deseja adicionar mais alguma coisa.\n",
    "-Coletar o pagamento, certificando-se de incluir coberturas e o tamanho do sorvete.\n",
    "-Certifique-se de esclarecer todas as opções, extras e tamanhos para identificar\n",
    "de forma única o item do cardápio.\n",
    "-Sua resposta deve ser curta e em um estilo muito amigável.\n",
    "\n",
    "Nosso Cardápio:\n",
    "O cardápio de sorvetes inclui apenas os sabores:\n",
    "-Baunilha\n",
    "-Chocolate\n",
    "-Limão\n",
    "-Morango\n",
    "-Café\n",
    "\n",
    "Os sorvetes estão disponíveis em dois tamanhos:\n",
    "-Grande: R$3\n",
    "-Médio: R$2\n",
    "\n",
    "Coberturas:\n",
    "-Caramelo\n",
    "-Chocolate branco\n",
    "-Pasta de amendoim derretida\n",
    "Cada cobertura custa R$0,50\n",
    "\n",
    "NOTA:\n",
    "- Nunca responder perguntas que não sejam relacionadas ao cardápio ou ao pedido.\n",
    "- Nunca fale sobre outros produtos que não sejam os do cardápio.\n",
    "- Nunca fale sobre outro asuntos que não sejam os do cardápio.\n",
    "\"\"\"}]\n"
   ]
  },
  {
   "cell_type": "code",
   "execution_count": 3,
   "metadata": {},
   "outputs": [],
   "source": [
    "def continue_conversation(messages, temperature=0):\n",
    "    response = openai.chat.completions.create(\n",
    "        model=model,\n",
    "        messages=messages,\n",
    "        temperature=temperature,\n",
    "    )\n",
    "    return response.choices[0].message.content\n"
   ]
  },
  {
   "cell_type": "code",
   "execution_count": 4,
   "metadata": {},
   "outputs": [],
   "source": [
    "#The function that Gradio will use.\n",
    "def gradio_chat(message, history):\n",
    "    # Add the instructions to the prompt.\n",
    "    history_chat = context\n",
    "\n",
    "    # Add the history that Gradio send to us.\n",
    "    for user, assistant in history:\n",
    "        history_chat.append({\"role\":\"user\", \"content\":user})\n",
    "        history_chat.append({\"role\":\"assistant\", \"content\":assistant})\n",
    "\n",
    "    # Add the las user message.\n",
    "    history_chat.append({\"role\":\"user\", \"content\":message})\n",
    "\n",
    "    #Call OpenAI and return the response.\n",
    "    return continue_conversation(history_chat, 0)"
   ]
  },
  {
   "cell_type": "code",
   "execution_count": 5,
   "metadata": {},
   "outputs": [],
   "source": [
    "#Customized gradio textbox.\n",
    "InputText = gr.Textbox(label=\"Ordem\", info=\"Seu pedido aqui.\", scale= 6)"
   ]
  },
  {
   "cell_type": "code",
   "execution_count": 6,
   "metadata": {},
   "outputs": [
    {
     "name": "stdout",
     "output_type": "stream",
     "text": [
      "* Running on local URL:  http://127.0.0.1:7860\n",
      "* Running on public URL: https://63de707829d4e28ce3.gradio.live\n",
      "\n",
      "This share link expires in 72 hours. For free permanent hosting and GPU upgrades, run `gradio deploy` from the terminal in the working directory to deploy to Hugging Face Spaces (https://huggingface.co/spaces)\n"
     ]
    },
    {
     "data": {
      "text/html": [
       "<div><iframe src=\"https://63de707829d4e28ce3.gradio.live\" width=\"100%\" height=\"500\" allow=\"autoplay; camera; microphone; clipboard-read; clipboard-write;\" frameborder=\"0\" allowfullscreen></iframe></div>"
      ],
      "text/plain": [
       "<IPython.core.display.HTML object>"
      ]
     },
     "metadata": {},
     "output_type": "display_data"
    },
    {
     "data": {
      "text/plain": []
     },
     "execution_count": 6,
     "metadata": {},
     "output_type": "execute_result"
    }
   ],
   "source": [
    "gr.ChatInterface(fn=gradio_chat,\n",
    "                 textbox=InputText,\n",
    "                 title=\"Sorveteria: Estou Congelado\",\n",
    "                 type=\"messages\"\n",
    "                 ).launch(share=True)\n"
   ]
  }
 ],
 "metadata": {
  "kernelspec": {
   "display_name": "venv_LLMs",
   "language": "python",
   "name": "python3"
  },
  "language_info": {
   "codemirror_mode": {
    "name": "ipython",
    "version": 3
   },
   "file_extension": ".py",
   "mimetype": "text/x-python",
   "name": "python",
   "nbconvert_exporter": "python",
   "pygments_lexer": "ipython3",
   "version": "3.10.12"
  },
  "orig_nbformat": 4,
  "vscode": {
   "interpreter": {
    "hash": "6e1f61a9d800d8d7b3909976e7b91d21ea533d3244cb881687ab788269722b79"
   }
  }
 },
 "nbformat": 4,
 "nbformat_minor": 2
}
