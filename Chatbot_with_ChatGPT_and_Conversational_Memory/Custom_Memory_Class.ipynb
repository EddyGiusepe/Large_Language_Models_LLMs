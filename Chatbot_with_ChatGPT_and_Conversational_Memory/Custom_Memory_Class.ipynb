{
 "cells": [
  {
   "attachments": {},
   "cell_type": "markdown",
   "metadata": {},
   "source": [
    "<h1 align=\"center\"><font color=\"yellow\">Como criar uma classe de memória personalizada</font></h1>"
   ]
  },
  {
   "attachments": {},
   "cell_type": "markdown",
   "metadata": {},
   "source": [
    "<font color=\"yellow\">Data Scientist.: Dr.Eddy Giusepe Chirinos Isidro</font>"
   ]
  },
  {
   "attachments": {},
   "cell_type": "markdown",
   "metadata": {},
   "source": [
    "Embora existam alguns tipos predefinidos de memória no `LangChain`, é altamente possível que você queira adicionar `seu próprio tipo de memória ideal para sua aplicação`. Este Notebook cobre como fazer isso.\n",
    "\n",
    "Para este notebook, adicionaremos um tipo de `memória customizada` a `ConversationChain`. Para adicionar uma classe de memória personalizada, precisamos importar a `classe de memória base` e criar uma `subclasse` dela."
   ]
  },
  {
   "cell_type": "code",
   "execution_count": 1,
   "metadata": {},
   "outputs": [
    {
     "name": "stdout",
     "output_type": "stream",
     "text": [
      "Carregando a minha chave Key:  True\n"
     ]
    }
   ],
   "source": [
    "# Isto é quando usas o arquivo .env:\n",
    "from dotenv import load_dotenv\n",
    "import os\n",
    "print('Carregando a minha chave Key: ', load_dotenv())\n",
    "Eddy_API_KEY_OpenAI = os.environ['OPENAI_API_KEY'] "
   ]
  },
  {
   "cell_type": "code",
   "execution_count": 2,
   "metadata": {},
   "outputs": [],
   "source": [
    "from langchain import OpenAI, ConversationChain\n",
    "from langchain.schema import BaseMemory\n",
    "from pydantic import BaseModel\n",
    "from typing import List, Dict, Any\n"
   ]
  },
  {
   "attachments": {},
   "cell_type": "markdown",
   "metadata": {},
   "source": [
    "Neste exemplo, escreveremos uma `classe de memória personalizada` que usa `spaCy` para extrair Entidades e salvar informações sobre elas em uma `tabela de hash` simples. Então, durante a conversa, vamos olhar para o `texto de entrada`, extrair quaisquer entidades e colocar qualquer informação sobre elas no contexto.\n",
    "\n",
    "* Observe que esta implementação é bastante simples e frágil e provavelmente não é útil em uma configuração de produção. Sua finalidade é mostrar que você pode adicionar implementações de memória personalizadas.\n",
    "\n",
    "Para isso, precisaremos do `spaCy`. Seguidamente fazemos as instalação:"
   ]
  },
  {
   "cell_type": "code",
   "execution_count": 3,
   "metadata": {},
   "outputs": [],
   "source": [
    "#%pip install spacy\n",
    "#%python -m spacy download en_core_web_lg\n",
    "# Nós usaremos um modelo pré-treinado em Português:\n",
    "#%python -m spacy download pt_core_news_sm"
   ]
  },
  {
   "cell_type": "code",
   "execution_count": 3,
   "metadata": {},
   "outputs": [],
   "source": [
    "import spacy\n",
    "nlp = spacy.load('pt_core_news_sm')\n"
   ]
  },
  {
   "cell_type": "code",
   "execution_count": 4,
   "metadata": {},
   "outputs": [],
   "source": [
    "class SpacyEntityMemory(BaseMemory, BaseModel):\n",
    "    \"\"\"Classe de memória para armazenar informações sobre Entidades.\"\"\"\n",
    "\n",
    "    # Definir dicionário para armazenar informações sobre entidades.\n",
    "    entities: dict = {}\n",
    "    # Definir chave para passar informações sobre entidades no prompt.\n",
    "    memory_key: str = \"entities\"\n",
    "        \n",
    "    def clear(self):\n",
    "        self.entities = {}\n",
    "\n",
    "    @property\n",
    "    def memory_variables(self) -> List[str]:\n",
    "        \"\"\"Defina as variáveis que estamos fornecendo ao prompt.\"\"\"\n",
    "        return [self.memory_key]\n",
    "\n",
    "    def load_memory_variables(self, inputs: Dict[str, Any]) -> Dict[str, str]:\n",
    "        \"\"\"Carregue as variáveis de memória, neste caso a chave da Entidade.\"\"\"\n",
    "        # Obtenha o texto de entrada e execute o spaCy \n",
    "        doc = nlp(inputs[list(inputs.keys())[0]])\n",
    "        # Extraia informações conhecidas sobre Entidades, se existirem.\n",
    "        entities = [self.entities[str(ent)] for ent in doc.ents if str(ent) in self.entities]\n",
    "        # Retorne informações combinadas sobre entidades para coloque em contexto.\n",
    "        return {self.memory_key: \"\\n\".join(entities)}\n",
    "\n",
    "    def save_context(self, inputs: Dict[str, Any], outputs: Dict[str, str]) -> None:\n",
    "        \"\"\"Salve o contexto desta conversa no buffer.\"\"\"\n",
    "        # Obtenha o texto de entrada e execute através do spaCy\n",
    "        text = inputs[list(inputs.keys())[0]]\n",
    "        doc = nlp(text)\n",
    "        # Para cada entidade mencionada, salve essa informação no dicionário.\n",
    "        for ent in doc.ents:\n",
    "            ent_str = str(ent)\n",
    "            if ent_str in self.entities:\n",
    "                self.entities[ent_str] += f\"\\n{text}\"\n",
    "            else:\n",
    "                self.entities[ent_str] = text\n"
   ]
  },
  {
   "attachments": {},
   "cell_type": "markdown",
   "metadata": {},
   "source": [
    "<font color=\"orange\">Agora definimos um prompt que recebe informações sobre Entidades, bem como entrada do `usuário`.</font>"
   ]
  },
  {
   "cell_type": "code",
   "execution_count": 5,
   "metadata": {},
   "outputs": [],
   "source": [
    "from langchain.prompts.prompt import PromptTemplate\n",
    "\n",
    "template = \"\"\"O que se segue é uma conversa amigável entre um humano e uma IA. A IA é falante e fornece muitos\n",
    "detalhes específicos de seu contexto. Se a IA não souber a resposta para uma pergunta, ela diz com sinceridade\n",
    "que não sabe. Você recebe informações sobre as entidades mencionadas pelo Humano, se for o caso.\n",
    "\n",
    "Relevant entity information:\n",
    "{entities}\n",
    "\n",
    "Conversation:\n",
    "Human: {input}\n",
    "AI:\"\"\"\n",
    "prompt = PromptTemplate(\n",
    "    input_variables=[\"entities\", \"input\"],\n",
    "    template=template\n",
    "                       )\n",
    "\n"
   ]
  },
  {
   "attachments": {},
   "cell_type": "markdown",
   "metadata": {},
   "source": [
    "<font color=\"orange\">E agora juntamos tudo!</font>"
   ]
  },
  {
   "cell_type": "code",
   "execution_count": 6,
   "metadata": {},
   "outputs": [],
   "source": [
    "llm = OpenAI(temperature=0)\n",
    "\n",
    "conversation = ConversationChain(\n",
    "    llm=llm,\n",
    "    prompt=prompt,\n",
    "    verbose=True,\n",
    "    memory=SpacyEntityMemory()\n",
    "                                )\n"
   ]
  },
  {
   "attachments": {},
   "cell_type": "markdown",
   "metadata": {},
   "source": [
    "<font color=\"orange\">No `primeiro exemplo:` sem nenhum conhecimento prévio sobre `Eddy Giusepe`, a seção `“Informações relevantes da Entidade”` está vazia.</font>"
   ]
  },
  {
   "cell_type": "code",
   "execution_count": 7,
   "metadata": {},
   "outputs": [
    {
     "name": "stdout",
     "output_type": "stream",
     "text": [
      "\n",
      "\n",
      "\u001b[1m> Entering new ConversationChain chain...\u001b[0m\n",
      "Prompt after formatting:\n",
      "\u001b[32;1m\u001b[1;3mO que se segue é uma conversa amigável entre um humano e uma IA. A IA é falante e fornece muitos\n",
      "detalhes específicos de seu contexto. Se a IA não souber a resposta para uma pergunta, ela diz com sinceridade\n",
      "que não sabe. Você recebe informações sobre as entidades mencionadas pelo Humano, se for o caso.\n",
      "\n",
      "Relevant entity information:\n",
      "\n",
      "\n",
      "Conversation:\n",
      "Human: Eu sou Eddy Giusepe e estudei na UFES o curso de Física teórica e hoje em dia sou Cientista de Dados.\n",
      "AI:\u001b[0m\n",
      "\n",
      "\u001b[1m> Finished chain.\u001b[0m\n"
     ]
    },
    {
     "data": {
      "text/plain": [
       "' Olá Eddy Giusepe! É um prazer conhecê-lo. Então, você estudou Física Teórica na UFES e agora é Cientista de Dados? Isso é muito interessante! Você gosta do que faz?'"
      ]
     },
     "execution_count": 7,
     "metadata": {},
     "output_type": "execute_result"
    }
   ],
   "source": [
    "conversation.predict(input=\"Eu sou Eddy Giusepe e estudei na UFES o curso de Física teórica e hoje em dia sou Cientista de Dados.\")\n",
    "\n"
   ]
  },
  {
   "attachments": {},
   "cell_type": "markdown",
   "metadata": {},
   "source": [
    "<font color=\"orange\">Agora, no `segundo exemplo:` podemos ver que ele extrai informações sobre Eddy Giusepe.</font>"
   ]
  },
  {
   "cell_type": "code",
   "execution_count": 8,
   "metadata": {},
   "outputs": [
    {
     "name": "stdout",
     "output_type": "stream",
     "text": [
      "\n",
      "\n",
      "\u001b[1m> Entering new ConversationChain chain...\u001b[0m\n",
      "Prompt after formatting:\n",
      "\u001b[32;1m\u001b[1;3mO que se segue é uma conversa amigável entre um humano e uma IA. A IA é falante e fornece muitos\n",
      "detalhes específicos de seu contexto. Se a IA não souber a resposta para uma pergunta, ela diz com sinceridade\n",
      "que não sabe. Você recebe informações sobre as entidades mencionadas pelo Humano, se for o caso.\n",
      "\n",
      "Relevant entity information:\n",
      "\n",
      "\n",
      "Conversation:\n",
      "Human: Sou apaxionado pelo que faço sim. Aqui, preciso de informações sobre onde posso fazer uma matrícula para aprimorar meus conhecimentos?\n",
      "AI:\u001b[0m\n",
      "\n",
      "\u001b[1m> Finished chain.\u001b[0m\n"
     ]
    },
    {
     "data": {
      "text/plain": [
       "' Claro! Existem muitos cursos online que você pode fazer para aprimorar seus conhecimentos. Alguns deles são oferecidos por universidades renomadas, como a Universidade de Harvard, a Universidade de Stanford e a Universidade de Oxford. Você também pode procurar por cursos específicos em sites como o Coursera, o Udemy e o edX. Além disso, existem muitos cursos gratuitos disponíveis em plataformas como o Khan Academy.'"
      ]
     },
     "execution_count": 8,
     "metadata": {},
     "output_type": "execute_result"
    }
   ],
   "source": [
    "conversation.predict(input=\"Sou apaxionado pelo que faço sim. Aqui, preciso de informações sobre onde posso fazer uma matrícula para aprimorar meus conhecimentos?\")\n"
   ]
  },
  {
   "cell_type": "code",
   "execution_count": 9,
   "metadata": {},
   "outputs": [
    {
     "data": {
      "text/plain": [
       "SpacyEntityMemory(entities={'Eddy Giusepe': 'Eu sou Eddy Giusepe e estudei na UFES o curso de Física teórica e hoje em dia sou Cientista de Dados.', 'UFES': 'Eu sou Eddy Giusepe e estudei na UFES o curso de Física teórica e hoje em dia sou Cientista de Dados.', 'Física': 'Eu sou Eddy Giusepe e estudei na UFES o curso de Física teórica e hoje em dia sou Cientista de Dados.', 'Cientista de Dados': 'Eu sou Eddy Giusepe e estudei na UFES o curso de Física teórica e hoje em dia sou Cientista de Dados.'}, memory_key='entities')"
      ]
     },
     "execution_count": 9,
     "metadata": {},
     "output_type": "execute_result"
    }
   ],
   "source": [
    "conversation.memory"
   ]
  },
  {
   "attachments": {},
   "cell_type": "markdown",
   "metadata": {},
   "source": [
    "<font color=\"red\">NOTA:</font>\n",
    "\n",
    "Esta implementação é apenas um exemplo e não é recomendado para um ambiente de produção."
   ]
  }
 ],
 "metadata": {
  "kernelspec": {
   "display_name": "venv_LLMs",
   "language": "python",
   "name": "python3"
  },
  "language_info": {
   "codemirror_mode": {
    "name": "ipython",
    "version": 3
   },
   "file_extension": ".py",
   "mimetype": "text/x-python",
   "name": "python",
   "nbconvert_exporter": "python",
   "pygments_lexer": "ipython3",
   "version": "3.10.6"
  },
  "orig_nbformat": 4,
  "vscode": {
   "interpreter": {
    "hash": "6e1f61a9d800d8d7b3909976e7b91d21ea533d3244cb881687ab788269722b79"
   }
  }
 },
 "nbformat": 4,
 "nbformat_minor": 2
}
