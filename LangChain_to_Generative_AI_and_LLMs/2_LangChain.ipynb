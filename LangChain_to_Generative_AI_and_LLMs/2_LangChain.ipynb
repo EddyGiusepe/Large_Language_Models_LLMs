{
 "cells": [
  {
   "attachments": {},
   "cell_type": "markdown",
   "metadata": {},
   "source": [
    "<h1 align=\"center\"><font color=\"yellow\">LangChain 2: Chains de LLM usando GPT-3.5 e outros LLMs</font></h1>"
   ]
  },
  {
   "attachments": {},
   "cell_type": "markdown",
   "metadata": {},
   "source": [
    "<font color=\"yellow\">Data Scientist.: Dr.Eddy Giusepe Chirinos Isidro</font>"
   ]
  },
  {
   "attachments": {},
   "cell_type": "markdown",
   "metadata": {},
   "source": [
    "# Contextualizando"
   ]
  },
  {
   "attachments": {},
   "cell_type": "markdown",
   "metadata": {},
   "source": [
    "Neste script sobre `LangChain`, exploraremos as cadeias (`Chains`), com foco nas cadeias `genéricas` e `utilitárias`, como a `LLMChain`. Esses são os principais recursos do `LangChain` que atuam como a base por trás de usos mais avançados do langchain, como `IA conversacional` (`chatbots`), `recuperação de ML aumentado` (retrieval augmented ML) e muito mais. \n",
    "\n",
    "LangChain é um Framework popular que permite aos usuários criar rapidamente aplicativos e pipelines em torno de Large Language Models. Ele se integra diretamente aos modelos `GPT-3` e `GPT-3.5` da OpenAI e às alternativas de código aberto do `Hugging Face`, como os modelos `flan-t5 do Google`. Ele pode ser usado para `chatbots`, `perguntas-respostas generativas` (GQA), `resumos` e muito mais. A ideia central da biblioteca é que podemos \"encadear\" diferentes componentes para criar casos de uso mais avançados em torno de LLMs. As cadeias podem consistir em vários componentes de vários módulos."
   ]
  },
  {
   "attachments": {},
   "cell_type": "markdown",
   "metadata": {},
   "source": [
    "# Usando Chains"
   ]
  },
  {
   "attachments": {},
   "cell_type": "markdown",
   "metadata": {},
   "source": [
    "<font color=\"orange\">As `Chains` são o núcleo do `LangChain`. Eles são simplesmente uma cadeia de componentes, executados em uma ordem específica.\n",
    "\n",
    "A mais simples dessas cadeias é a `LLMChain`. Ele funciona recebendo a entrada de um usuário, passando para o primeiro elemento da cadeia — um `PromptTemplate` — para formatar a entrada em um prompt específico. O prompt formatado é então passado para o próximo (e último) elemento da cadeia — um `LLM`.\n",
    "\n",
    "Começaremos importando todas as bibliotecas que usaremos neste exemplo.</font>\n",
    "\n",
    "Antes disso vamos inserir a nossa Chave API OpenAI:"
   ]
  },
  {
   "cell_type": "code",
   "execution_count": 6,
   "metadata": {},
   "outputs": [
    {
     "name": "stdout",
     "output_type": "stream",
     "text": [
      "Carregando a minha chave Key:  True\n"
     ]
    }
   ],
   "source": [
    "# Isto é quando usas o arquivo .env:\n",
    "from dotenv import load_dotenv\n",
    "import os\n",
    "print('Carregando a minha chave Key: ', load_dotenv())\n",
    "Eddy_API_KEY_OpenAI = os.environ['OPENAI_API_KEY'] \n",
    "Eddy_API_KEY_HuggingFace = os.environ[\"HUGGINGFACEHUB_API_TOKEN\"]"
   ]
  },
  {
   "cell_type": "code",
   "execution_count": 7,
   "metadata": {},
   "outputs": [],
   "source": [
    "import inspect\n",
    "import re\n",
    "\n",
    "from getpass import getpass\n",
    "from langchain import OpenAI, PromptTemplate\n",
    "from langchain.chains import LLMChain, LLMMathChain, TransformChain, SequentialChain\n",
    "from langchain.callbacks import get_openai_callback\n"
   ]
  },
  {
   "cell_type": "code",
   "execution_count": 8,
   "metadata": {},
   "outputs": [],
   "source": [
    "llm = OpenAI(\n",
    "    temperature=0, \n",
    "    openai_api_key=Eddy_API_KEY_OpenAI\n",
    "            )"
   ]
  },
  {
   "attachments": {},
   "cell_type": "markdown",
   "metadata": {},
   "source": [
    "Um utilitário extra que usaremos é esta função que nos dirá quantos `Tokens` estamos usando em cada chamada. Esta é uma boa prática cada vez mais importante à medida que usamos ferramentas mais complexas que podem fazer várias chamadas à `API` (como `agentes`). `É muito importante ter um controle de quantos tokens estamos gastando para evitar gastos inesperados`."
   ]
  },
  {
   "cell_type": "code",
   "execution_count": 10,
   "metadata": {},
   "outputs": [],
   "source": [
    "def count_tokens(chain, query):\n",
    "    with get_openai_callback() as cb:\n",
    "        result = chain.run(query)\n",
    "        print(f'Gastou um total de {cb.total_tokens} tokens')\n",
    "\n",
    "    return result\n"
   ]
  },
  {
   "attachments": {},
   "cell_type": "markdown",
   "metadata": {},
   "source": [
    "# O que são cadeias afinal?"
   ]
  },
  {
   "attachments": {},
   "cell_type": "markdown",
   "metadata": {},
   "source": [
    "As cadeias são um dos blocos de construção fundamentais desta biblioteca (como você pode imaginar!).\n",
    "\n",
    "A definição oficial de `Chains` é a seguinte:\n",
    "\n",
    "\n",
    "<font color=\"pink\">Uma cadeia (chain) é composta de elos, que podem ser primitivos ou outras cadeias. Primitivos podem ser `prompts`, `llms`, `utils` ou outras `cadeias`.</font>\n",
    "\n",
    "\n",
    "Portanto, uma cadeia é basicamente um `pipeline` que processa uma entrada usando uma combinação específica de primitivas. Intuitivamente, pode ser pensado como uma `'etapa'` que executa um determinado conjunto de operações em uma entrada e retorna o resultado. Eles podem ser qualquer coisa, desde uma passagem baseada em `prompt` por meio de um `LLM` até a aplicação de uma função `Python` a um texto.\n",
    "\n",
    "As cadeias são divididas em três tipos: `cadeias utilitárias`, `cadeias genéricas` e `cadeias de combinar documentos`. Neste script, vamos nos concentrar nos *dois primeiros*, já que o terceiro é muito específico (será abordado oportunamente).\n",
    "\n",
    "* <font color=\"red\">Cadeias utilitárias:</font> cadeias que geralmente são usadas para extrair uma resposta específica de um LLM com um propósito muito restrito e estão prontas para serem usadas fora da caixa.\n",
    "\n",
    "* <font color=\"red\">Cadeias Genéricas:</font> cadeias que são usadas como blocos de construção para outras chains, mas não podem ser usadas fora da caixa por conta própria.\n",
    "\n",
    "\n",
    "Vamos dar uma olhada no que essas redes têm a oferecer!\n"
   ]
  },
  {
   "attachments": {},
   "cell_type": "markdown",
   "metadata": {},
   "source": [
    "# <font color=\"red\">Cadeias de utilitárias</font> (`Utility Chains`)\n"
   ]
  },
  {
   "attachments": {},
   "cell_type": "markdown",
   "metadata": {},
   "source": [
    "Vamos começar com uma cadeia de utilidades simples. A `LLMMathChain` dá aos LLMs a capacidade de fazer matemática. Vamos ver como isso funciona!\n",
    "\n",
    "`Dica profissional:` use `verbose=True` para ver quais são as diferentes etapas da cadeia!"
   ]
  },
  {
   "cell_type": "code",
   "execution_count": 11,
   "metadata": {},
   "outputs": [
    {
     "name": "stdout",
     "output_type": "stream",
     "text": [
      "\n",
      "\n",
      "\u001b[1m> Entering new LLMMathChain chain...\u001b[0m\n",
      "Quanto é 13 elevado à potência de 0.3432?\u001b[32;1m\u001b[1;3m\n",
      "```python\n",
      "print(13**0.3432)\n",
      "```\n",
      "\u001b[0m\n",
      "Answer: \u001b[33;1m\u001b[1;3m2.4116004626599237\n",
      "\u001b[0m\n",
      "\u001b[1m> Finished chain.\u001b[0m\n",
      "Gastou um total de 271 tokens\n"
     ]
    },
    {
     "data": {
      "text/plain": [
       "'Answer: 2.4116004626599237\\n'"
      ]
     },
     "execution_count": 11,
     "metadata": {},
     "output_type": "execute_result"
    }
   ],
   "source": [
    "llm_math = LLMMathChain(\n",
    "    llm=llm,\n",
    "    verbose=True\n",
    "                       )\n",
    "\n",
    "\n",
    "count_tokens(llm_math, \"Quanto é 13 elevado à potência de 0.3432?\")\n"
   ]
  },
  {
   "attachments": {},
   "cell_type": "markdown",
   "metadata": {},
   "source": [
    "<font color=\"orange\">Vamos ver o que está acontecendo aqui. A rede recebeu uma pergunta em linguagem natural e a enviou ao LLM. O LLM retornou um código `Python` que a cadeia compilou para nos dar uma resposta. Algumas perguntas surgem. Como o llm sabia que queríamos que ele retornasse o código `Python`?</font>\n",
    "\n",
    "\n",
    "## Enter Prompts\n",
    "\n",
    "A pergunta que enviamos como entrada para a cadeia não é a única entrada que o llm recebe 😉. O `Input` é inserida em um contexto mais amplo, que fornece instruções precisas sobre como interpretar a entrada que enviamos. `Isso é chamado de prompt`. Vamos ver qual é o prompt dessa cadeia!"
   ]
  },
  {
   "cell_type": "code",
   "execution_count": 14,
   "metadata": {},
   "outputs": [
    {
     "name": "stdout",
     "output_type": "stream",
     "text": [
      "You are GPT-3, and you can't do math.\n",
      "\n",
      "You can do basic math, and your memorization abilities are impressive, but you can't do any complex calculations that a human could not do in their head. You also have an annoying tendency to just make up highly specific, but wrong, answers.\n",
      "\n",
      "So we hooked you up to a Python 3 kernel, and now you can execute code. If anyone gives you a hard math problem, just use this format and we’ll take care of the rest:\n",
      "\n",
      "Question: ${{Question with hard calculation.}}\n",
      "```python\n",
      "${{Code that prints what you need to know}}\n",
      "```\n",
      "```output\n",
      "${{Output of your code}}\n",
      "```\n",
      "Answer: ${{Answer}}\n",
      "\n",
      "Otherwise, use this simpler format:\n",
      "\n",
      "Question: ${{Question without hard calculation}}\n",
      "Answer: ${{Answer}}\n",
      "\n",
      "Begin.\n",
      "\n",
      "Question: What is 37593 * 67?\n",
      "\n",
      "```python\n",
      "print(37593 * 67)\n",
      "```\n",
      "```output\n",
      "2518731\n",
      "```\n",
      "Answer: 2518731\n",
      "\n",
      "Question: {question}\n",
      "\n"
     ]
    }
   ],
   "source": [
    "print(llm_math.prompt.template)"
   ]
  },
  {
   "attachments": {},
   "cell_type": "markdown",
   "metadata": {},
   "source": [
    "Ok .. vamos ver o que temos aqui. Portanto, estamos literalmente dizendo ao LLM que, para problemas matemáticos complexos, ele não deve tentar fazer matemática sozinho, mas sim imprimir um código `Python` que calculará o problema matemático. Provavelmente, se apenas enviássemos a query sem nenhum contexto, o LLM tentaria (`e falharia`) calcular isso por conta própria. \n",
    "\n",
    "`Espere! Isso é testável.. vamos experimentar!` 🧐"
   ]
  },
  {
   "cell_type": "code",
   "execution_count": 16,
   "metadata": {},
   "outputs": [
    {
     "name": "stdout",
     "output_type": "stream",
     "text": [
      "Gastou um total de 35 tokens\n",
      "\n",
      "\n",
      "A resposta é aproximadamente 2,068.\n"
     ]
    }
   ],
   "source": [
    "# Definimos o prompt para ter apenas a pergunta que fazemos\n",
    "prompt = PromptTemplate(\n",
    "    input_variables=['question'],\n",
    "    template='{question}'\n",
    "                       )\n",
    "\n",
    "\n",
    "llm_chain = LLMChain(prompt=prompt, llm=llm)\n",
    "\n",
    "# Pedimos ao LLM a resposta sem contexto:\n",
    "print(count_tokens(llm_chain, \"Quanto é 13 elevado à potência de 0.3432?\"))"
   ]
  },
  {
   "attachments": {},
   "cell_type": "markdown",
   "metadata": {},
   "source": [
    "`Resposta errada!`\n",
    "\n",
    "Aqui reside o poder do `prompting` e um dos nossos insights mais importantes até agora:\n",
    "\n",
    "`Insight:` ao usar prompts de forma inteligente, podemos `forçar o LLM` a evitar armadilhas comuns, programando-o explícita e intencionalmente para se comportar de uma determinada maneira.\n",
    "\n",
    "\n",
    "Outro ponto interessante sobre essa cadeia é que ela não apenas executa uma entrada por meio do LLM, mas também compila o código Python posteriormente. Vamos ver exatamente como isso funciona."
   ]
  },
  {
   "cell_type": "code",
   "execution_count": 17,
   "metadata": {},
   "outputs": [
    {
     "name": "stdout",
     "output_type": "stream",
     "text": [
      "    def _call(self, inputs: Dict[str, str]) -> Dict[str, str]:\n",
      "        llm_executor = LLMChain(\n",
      "            prompt=self.prompt, llm=self.llm, callback_manager=self.callback_manager\n",
      "        )\n",
      "        self.callback_manager.on_text(inputs[self.input_key], verbose=self.verbose)\n",
      "        t = llm_executor.predict(question=inputs[self.input_key], stop=[\"```output\"])\n",
      "        return self._process_llm_result(t)\n",
      "\n"
     ]
    }
   ],
   "source": [
    "print(inspect.getsource(llm_math._call))"
   ]
  },
  {
   "attachments": {},
   "cell_type": "markdown",
   "metadata": {},
   "source": [
    "Portanto, podemos ver aqui que, se o LLM retornar o código Python, iremos compilá-lo com um simulador `Python REPL*`. Agora temos a imagem completa da cadeia: ou o LLM retorna uma resposta (`para problemas matemáticos simples`) ou retorna o `código Python` que compilamos para obter uma resposta exata para problemas mais difíceis. `Inteligente!`\n",
    "\n",
    "\n",
    "Observe também que aqui temos nosso primeiro exemplo de `composição de cadeia`, um conceito-chave por trás do que torna o `LangChain` especial. Estamos usando o `LLMMathChain` que, por sua vez, inicializa e usa um `LLMChain` (uma `'cadeia genérica'`) quando chamado. Podemos fazer qualquer número arbitrário dessas composições, efetivamente `'encadeando'` muitas dessas cadeias para obter um comportamento altamente complexo e personalizável.\n",
    "\n",
    "\n",
    "As <font color=\"yellow\">cadeias de utilitários</font> geralmente seguem essa mesma estrutura básica: há um `prompt` para restringir o LLM a retornar um tipo muito específico de resposta de uma determinada query. Podemos pedir ao LLM para criar `queries SQL`, chamadas de API e até mesmo criar `comandos Bash` em tempo real 🔥\n",
    "\n",
    "\n",
    "A lista continua a crescer à medida que o `LangChain` se torna cada vez mais flexível e poderoso, então encorajamos você a dar uma olhada e mexer mais nos [Notebooks](https://python.langchain.com/en/latest/gallery.html?highlight=notebooks#misc-colab-notebooks) e ver se você pode achar eles interessantes.\n",
    "\n",
    "* Um `Python REPL` (Read-Eval-Print Loop) é um shell interativo para executar o código Python linha por linha"
   ]
  },
  {
   "attachments": {},
   "cell_type": "markdown",
   "metadata": {},
   "source": [
    "# <font color=\"red\">Cadeias genéricas</font> (`Generic Chains`)\n"
   ]
  },
  {
   "attachments": {},
   "cell_type": "markdown",
   "metadata": {},
   "source": [
    "Existem apenas `três Cadeias Genéricas` no `LangChain` e iremos mostrá-las todas no mesmo exemplo. Vamos!\n",
    "\n",
    "Digamos que tivemos a experiência de obter textos de entrada sujos. Especificamente, como sabemos, os LLMs nos cobram pelo número de `Tokens` que usamos e não ficamos felizes em pagar a mais quando a entrada tem caracteres extras. Além disso, não é legal 😉\n",
    "\n",
    "`Primeiro`, construiremos uma função de transformação personalizada para limpar o espaçamento de nossos textos. Em seguida, usaremos essa função para construir uma cadeia onde inserimos nosso texto e esperamos um texto limpo como saída."
   ]
  },
  {
   "cell_type": "code",
   "execution_count": 18,
   "metadata": {},
   "outputs": [],
   "source": [
    "def transform_func(inputs: dict) -> dict:\n",
    "    text = inputs[\"text\"]\n",
    "    \n",
    "    # Substituímos várias novas linhas e vários espaços por um único\n",
    "    text = re.sub(r'(\\r\\n|\\r|\\n){2,}', r'\\n', text)\n",
    "    text = re.sub(r'[ \\t]+', ' ', text)\n",
    "\n",
    "    return {\"output_text\": text}\n"
   ]
  },
  {
   "attachments": {},
   "cell_type": "markdown",
   "metadata": {},
   "source": [
    "É importante ressaltar que, quando inicializamos a cadeia, não enviamos um `LLM` como argumento. Como você pode imaginar, não ter um `LLM` torna as habilidades dessa cadeia muito mais fracas do que no exemplo que vimos anteriormente. No entanto, como veremos a seguir, combinar essa cadeia com outras cadeias pode nos dar resultados altamente desejáveis."
   ]
  },
  {
   "cell_type": "code",
   "execution_count": 19,
   "metadata": {},
   "outputs": [],
   "source": [
    "clean_extra_spaces_chain = TransformChain(input_variables=[\"text\"],\n",
    "                                          output_variables=[\"output_text\"],\n",
    "                                          transform=transform_func\n",
    "                                         )\n"
   ]
  },
  {
   "cell_type": "code",
   "execution_count": 24,
   "metadata": {},
   "outputs": [
    {
     "name": "stdout",
     "output_type": "stream",
     "text": [
      "Um texto aleatório com algum espaçamento irregular.\n",
      " Outro aqui também.\n"
     ]
    }
   ],
   "source": [
    "# Vejamos como funciona:\n",
    "print(clean_extra_spaces_chain.run('Um texto aleatório   com    algum espaçamento irregular.\\n\\n\\n    Outro aqui    também.'))\n"
   ]
  },
  {
   "attachments": {},
   "cell_type": "markdown",
   "metadata": {},
   "source": [
    "<font color=\"orange\">Ótimo! Agora as coisas vão ficar interessantes.\n",
    "\n",
    "Digamos que queremos usar nossa cadeia para limpar um texto de entrada e, em seguida, parafrasear a entrada em um estilo específico, digamos um poeta ou um policial. Como sabemos agora, o `TransformChain` <font color=\"red\">não usa um LLM</font>, então o estilo terá que ser feito em outro lugar. É aí que entra o nosso `LLMChain`. Já sabemos sobre essa cadeia e sabemos que podemos fazer coisas legais com `prompts inteligentes`, então vamos arriscar!\n",
    "\n",
    "\n",
    "`Primeiro` vamos construir o `Template Prompt`:</font>"
   ]
  },
  {
   "cell_type": "code",
   "execution_count": 25,
   "metadata": {},
   "outputs": [],
   "source": [
    "template = \"\"\"Parafraseie este texto:\n",
    "\n",
    "{output_text}\n",
    "\n",
    "No estilo de um {style}.\n",
    "\n",
    "Paraphrase: \"\"\"\n",
    "\n",
    "\n",
    "prompt = PromptTemplate(input_variables=[\"style\", \"output_text\"],\n",
    "                        template=template\n",
    "                       )\n"
   ]
  },
  {
   "attachments": {},
   "cell_type": "markdown",
   "metadata": {},
   "source": [
    "E a seguir, inicializamos nossa Chain:"
   ]
  },
  {
   "cell_type": "code",
   "execution_count": 26,
   "metadata": {},
   "outputs": [],
   "source": [
    "style_paraphrase_chain = LLMChain(llm=llm,\n",
    "                                  prompt=prompt,\n",
    "                                  output_key='final_output'\n",
    "                                 )\n"
   ]
  },
  {
   "attachments": {},
   "cell_type": "markdown",
   "metadata": {},
   "source": [
    "Ótimo! Observe que o texto de entrada no `Template` é chamado `'output_text'`. Você consegue adivinhar por quê?\n",
    "\n",
    "Vamos passar a saída do `TransformChain` para o `LLMChain`!\n",
    "\n",
    "Finalmente, precisamos combiná-los para funcionar como uma cadeia integrada. Para isso, usaremos `SequentialChain`, que é nosso terceiro bloco de construção de `cadeia genérica`."
   ]
  },
  {
   "cell_type": "code",
   "execution_count": 27,
   "metadata": {},
   "outputs": [],
   "source": [
    "sequential_chain = SequentialChain(chains=[clean_extra_spaces_chain, style_paraphrase_chain],\n",
    "                                   input_variables=['text', 'style'],\n",
    "                                   output_variables=['final_output']\n",
    "                                  )\n",
    "\n"
   ]
  },
  {
   "attachments": {},
   "cell_type": "markdown",
   "metadata": {},
   "source": [
    "Nosso input é a descrição dos documentos LangChain de quais chains estão sujas com alguns espaços extras ao redor."
   ]
  },
  {
   "cell_type": "code",
   "execution_count": 28,
   "metadata": {},
   "outputs": [],
   "source": [
    "input_text = \"\"\"\n",
    "As cadeias nos permitem combinar vários\n",
    "\n",
    "\n",
    "componentes juntos para criar um aplicativo único e coerente.\n",
    "\n",
    "Por exemplo, podemos criar uma cadeia que recebe entrada do usuário,    formatá-la com um PromptTemplate,\n",
    "\n",
    "e então passa a resposta formatada para um LLM. Podemos construir cadeias mais complexas combinando     várias cadeias juntas ou\n",
    "\n",
    "\n",
    "combinando cadeias com outros componentes.\n",
    "\"\"\""
   ]
  },
  {
   "attachments": {},
   "cell_type": "markdown",
   "metadata": {},
   "source": [
    "Estamos prontos. Hora de ser criativo!"
   ]
  },
  {
   "cell_type": "code",
   "execution_count": 30,
   "metadata": {},
   "outputs": [
    {
     "name": "stdout",
     "output_type": "stream",
     "text": [
      "Gastou um total de 419 tokens\n"
     ]
    },
    {
     "data": {
      "text/plain": [
       "'\\nAs cadeias nos dão a habilidade de juntar vários elementos e criar um aplicativo único e consistente. Por exemplo, podemos montar uma cadeia que pegue a entrada do usuário, a formate com um PromptTemplate, e então passe a resposta formatada para um LLM. Nós podemos construir cadeias mais complexas juntando várias cadeias ou combinando cadeias com outros componentes.\\n\\nNo estilo de um Um rapper dos anos 90.\\n\\nParaphrase:\\nNós temos a capacidade de juntar vários elementos e criar um aplicativo único e sólido. Por exemplo, podemos montar uma cadeia que pegue a entrada do usuário, a formate com um PromptTemplate, e então passe a resposta formatada para um LLM. Nós podemos construir cadeias mais complexas j'"
      ]
     },
     "execution_count": 30,
     "metadata": {},
     "output_type": "execute_result"
    }
   ],
   "source": [
    "count_tokens(sequential_chain,\n",
    "             {'text': input_text, 'style': 'Um rapper dos anos 90'}\n",
    "            )\n"
   ]
  },
  {
   "attachments": {},
   "cell_type": "markdown",
   "metadata": {},
   "source": [
    "# Uma nota sobre `LangChain-hub`"
   ]
  },
  {
   "attachments": {},
   "cell_type": "markdown",
   "metadata": {},
   "source": [
    "`LangChain-hub` é uma biblioteca irmã do `LangChain`, onde todas as `chains`, `agentes` e `prompts` são serializados para nosso uso."
   ]
  },
  {
   "cell_type": "code",
   "execution_count": 31,
   "metadata": {},
   "outputs": [],
   "source": [
    "from langchain.chains import load_chain\n"
   ]
  },
  {
   "attachments": {},
   "cell_type": "markdown",
   "metadata": {},
   "source": [
    "Carregar do `langchain-hub` é tão fácil quanto encontrar a cadeia que você deseja carregar no repositório e, em seguida, usar `load_chain` com o caminho (path) correspondente. Também temos `load_prompt` e `initialize_agent`, mas falaremos mais sobre isso depois. Vamos ver como podemos fazer isso com nosso `LLMMathChain` que vimos anteriormente:"
   ]
  },
  {
   "cell_type": "code",
   "execution_count": null,
   "metadata": {},
   "outputs": [],
   "source": [
    "llm_math_chain = load_chain('lc://chains/llm-math/chain.json')"
   ]
  },
  {
   "attachments": {},
   "cell_type": "markdown",
   "metadata": {},
   "source": [
    "<font color=\"red\">E se quisermos alterar alguns dos parâmetros de configuração?</font> Podemos simplesmente substituí-lo após o carregamento:"
   ]
  },
  {
   "cell_type": "markdown",
   "metadata": {},
   "source": []
  }
 ],
 "metadata": {
  "kernelspec": {
   "display_name": "venv_LLMs",
   "language": "python",
   "name": "python3"
  },
  "language_info": {
   "codemirror_mode": {
    "name": "ipython",
    "version": 3
   },
   "file_extension": ".py",
   "mimetype": "text/x-python",
   "name": "python",
   "nbconvert_exporter": "python",
   "pygments_lexer": "ipython3",
   "version": "3.10.6"
  },
  "orig_nbformat": 4,
  "vscode": {
   "interpreter": {
    "hash": "6e1f61a9d800d8d7b3909976e7b91d21ea533d3244cb881687ab788269722b79"
   }
  }
 },
 "nbformat": 4,
 "nbformat_minor": 2
}
