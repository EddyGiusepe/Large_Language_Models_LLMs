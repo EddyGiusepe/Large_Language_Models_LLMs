{
 "cells": [
  {
   "attachments": {},
   "cell_type": "markdown",
   "metadata": {},
   "source": [
    "<h1 align=\"center\"><font color=\"yellow\">LangChain 3a: Contando TOKENS em conversas para diferentes tipos de Memória conversacional</font></h1>"
   ]
  },
  {
   "attachments": {},
   "cell_type": "markdown",
   "metadata": {},
   "source": [
    "<font color=\"yellow\">Data Scientist.: Dr.Eddy Giusepe Chirinos Isidro</font>"
   ]
  },
  {
   "attachments": {},
   "cell_type": "markdown",
   "metadata": {},
   "source": [
    "# Contextualizando"
   ]
  },
  {
   "attachments": {},
   "cell_type": "markdown",
   "metadata": {},
   "source": [
    "<font color=\"orange\">Neste script seguimos estudando o uso de Memória Conversacional. Mas agora vamos contar o Tokens usados em uma conversa para cada tipo de memória</font>"
   ]
  },
  {
   "attachments": {},
   "cell_type": "markdown",
   "metadata": {},
   "source": [
    "# Instalamos as bibliotecas necessárias e para a OpenAI API KEY"
   ]
  },
  {
   "cell_type": "code",
   "execution_count": null,
   "metadata": {},
   "outputs": [],
   "source": [
    "#%pip install -qU langchain openai transformers"
   ]
  },
  {
   "cell_type": "code",
   "execution_count": 1,
   "metadata": {},
   "outputs": [
    {
     "name": "stdout",
     "output_type": "stream",
     "text": [
      "Carregando a minha chave Key:  True\n"
     ]
    }
   ],
   "source": [
    "# Isto é quando usas o arquivo .env:\n",
    "from dotenv import load_dotenv\n",
    "import os\n",
    "print('Carregando a minha chave Key: ', load_dotenv())\n",
    "Eddy_API_KEY_OpenAI = os.environ['OPENAI_API_KEY'] "
   ]
  },
  {
   "cell_type": "code",
   "execution_count": 2,
   "metadata": {},
   "outputs": [],
   "source": [
    "from getpass import getpass\n",
    "\n",
    "import openai\n",
    "from langchain import OpenAI\n",
    "from langchain.chains import LLMChain, ConversationChain\n",
    "from langchain.chains.conversation.memory import (\n",
    "    ConversationBufferMemory,\n",
    "    ConversationSummaryMemory,\n",
    "    ConversationBufferWindowMemory,\n",
    "    ConversationSummaryBufferMemory\n",
    ")\n",
    "from langchain.callbacks import get_openai_callback\n",
    "from tqdm.auto import tqdm\n"
   ]
  },
  {
   "attachments": {},
   "cell_type": "markdown",
   "metadata": {},
   "source": [
    "<font color=\"orange\">Usaremos o modelo `gpt-3.5-turbo` da OpenAI. Inicializamos via `LangChain` assim:</font>"
   ]
  },
  {
   "cell_type": "code",
   "execution_count": 4,
   "metadata": {},
   "outputs": [],
   "source": [
    "llm = OpenAI(\n",
    "    temperature=0, \n",
    "    openai_api_key=Eddy_API_KEY_OpenAI,\n",
    "    model_name='gpt-3.5-turbo'  # Pode usar a LLM como 'text-davinci-003', também.\n",
    "            )\n",
    "\n"
   ]
  },
  {
   "attachments": {},
   "cell_type": "markdown",
   "metadata": {},
   "source": [
    "<font color=\"orange\">Para contar o número de TOKENS usados durante cada chamada, definiremos uma função `count_tokens`:</font>"
   ]
  },
  {
   "cell_type": "code",
   "execution_count": 5,
   "metadata": {},
   "outputs": [],
   "source": [
    "def count_tokens(chain, query):\n",
    "    with get_openai_callback() as cb:\n",
    "        result = chain.run(query)\n",
    "    return {\n",
    "        'result': result,\n",
    "        'token_count': cb.total_tokens\n",
    "    }\n"
   ]
  },
  {
   "attachments": {},
   "cell_type": "markdown",
   "metadata": {},
   "source": [
    "<font color=\"orange\">Vamos definir a função de conversação:</font>"
   ]
  },
  {
   "cell_type": "code",
   "execution_count": 6,
   "metadata": {},
   "outputs": [],
   "source": [
    "queries = [\n",
    "     \"Bom dia IA?\",\n",
    "     \"\"\"Meu interesse aqui é explorar o potencial da integração de Grandes\n",
    "     Modelos de linguagem com conhecimento externo\"\"\",\n",
    "     \"Eu só quero analisar as diferentes possibilidades. O que você pode pensar?\"\n",
    "    #  \"E quanto ao uso de aumento de recuperação, isso também pode ser usado?\",\n",
    "    #  \"\"\"Isso é muito interessante, você pode me contar mais sobre isso?\n",
    "    #  sistemas eu usaria para armazenar as informações e recuperar informações relevantes?\"\"\",\n",
    "    #  \"\"\"Tudo bem, tenho ouvido falar sobre 'bancos de dados vetoriais', eles são\n",
    "    #  relevantes neste contexto?\"\"\",\n",
    "    #  \"\"\"Ok, isso é útil, mas como eu vou do meu conhecimento externo para\n",
    "    #  criar esses 'vetores'? Não faço ideia de como um texto pode se tornar um vetor?\"\"\",\n",
    "    #  \"\"\"Bem, acho que não usaria word Embeddings, certo? Se eu quisesse\n",
    "    #  armazenar meus documentos neste banco de dados vetorial, suponho que precisaria\n",
    "    #  transformar os documentos em vetores? Talvez eu possa usar a 'sentence\n",
    "    #  embeddings' para isso, o que você acha?\"\"\",\n",
    "    #  \"\"\"Sentence Embeddings podem representar apenas frases de texto? Isso parece\n",
    "    #  meio pequeno para capturar qualquer significado de um documento? Existe alguma abordagem\n",
    "    #  que pode codificar pelo menos um parágrafo de texto?\"\"\",\n",
    "    #  \"\"\"Huh, interessante. Lembro-me de ter lido algo sobre 'mpnet' ou\n",
    "    #  Modelos de 'transformers' sentence 'minilm' que podem codificar de pequeno a\n",
    "    #  parágrafos de tamanho médio. Estou errado sobre isso?\"\"\",\n",
    "    #  \"\"\"Ah, que bom ouvir isso, você sabe quanto texto eu posso alimentar\n",
    "    #  nesses tipos de modelos?\"\"\",\n",
    "    #  \"\"\"Nunca ouvi falar de embeddings hierárquicos, você poderia explicar isso em\n",
    "    #  Mais detalhes?\"\"\" \n",
    "          ]"
   ]
  },
  {
   "cell_type": "code",
   "execution_count": 7,
   "metadata": {},
   "outputs": [],
   "source": [
    "def talk(conversation_chain):\n",
    "    tokens_used = []\n",
    "    # Percorremos a conversa acima, comntando o uso de Tokens à medida que avançamos:\n",
    "    for user_query in tqdm(queries):\n",
    "        try:\n",
    "            res = count_tokens(conversation_chain, user_query)\n",
    "            tokens_used.append(res['token_count'])\n",
    "        except openai.error.InvalidRequestError:\n",
    "            # Atingimos o Limite de token do Modelo, então quebre:\n",
    "            break\n",
    "    return tokens_used\n"
   ]
  },
  {
   "attachments": {},
   "cell_type": "markdown",
   "metadata": {},
   "source": [
    "<font color=\"orange\">Criamos um conjunto de Chains de conversação que usaremos:</font>"
   ]
  },
  {
   "cell_type": "code",
   "execution_count": 10,
   "metadata": {},
   "outputs": [],
   "source": [
    "conversation_chains = {\n",
    "    'ConversationBufferMemory': ConversationChain(\n",
    "        llm=llm, memory=ConversationBufferMemory()\n",
    "    ),\n",
    "    'ConversationSummaryMemory': ConversationChain(\n",
    "        llm=llm, memory=ConversationSummaryMemory(llm=llm)\n",
    "    ),\n",
    "    'ConversationBufferWindowMemory(k=6)': ConversationChain(\n",
    "        llm=llm, memory=ConversationBufferWindowMemory(k=1) # k=6\n",
    "    ),\n",
    "    'ConversationBufferWindowMemory(k=12)': ConversationChain(\n",
    "        llm=llm, memory=ConversationBufferWindowMemory(k=1) # k=12\n",
    "    ),\n",
    "    'ConversationSummaryBufferMemory(k=6)': ConversationChain(\n",
    "        llm=llm, memory=ConversationSummaryBufferMemory(\n",
    "            llm=llm,\n",
    "            max_token_limit= 3 # 650\n",
    "        )\n",
    "    ),\n",
    "    'ConversationSummaryBufferMemory(k=12)': ConversationChain(\n",
    "        llm=llm, memory=ConversationSummaryBufferMemory(\n",
    "            llm=llm,\n",
    "            max_token_limit= 5 # 1_300\n",
    "        )\n",
    "    )\n",
    "}"
   ]
  },
  {
   "cell_type": "code",
   "execution_count": null,
   "metadata": {},
   "outputs": [],
   "source": [
    "counts = {}\n",
    "# Percorre cada um dos nossos tipos de memória acima:\n",
    "for key, chain in conversation_chains.items():\n",
    "    print(key)\n",
    "    counts[key] = talk(chain)\n",
    "    "
   ]
  },
  {
   "cell_type": "code",
   "execution_count": 12,
   "metadata": {},
   "outputs": [
    {
     "data": {
      "image/png": "[encoded data removed]",
      "text/plain": [
       "<Figure size 1200x800 with 1 Axes>"
      ]
     },
     "metadata": {},
     "output_type": "display_data"
    }
   ],
   "source": [
    "import seaborn as sns\n",
    "import matplotlib.pyplot as plt\n",
    "\n",
    "plt.figure(figsize=(12,8))\n",
    "max_tokens = 4096\n",
    "\n",
    "colors = [\"#1c17ff\", \"#738FAB\", \"#f77f00\", \"#fcbf49\", \"#38c172\", \"#4dc0b5\"]\n",
    "\n",
    "for i, (key, count) in enumerate(counts.items()):\n",
    "    color = colors[i]\n",
    "    sns.lineplot(\n",
    "        x=range(1, len(count)+1),\n",
    "        y=count,\n",
    "        label=key,\n",
    "        color=color\n",
    "    )\n",
    "    if max_tokens in count:\n",
    "        plt.plot(\n",
    "            len(count), max_tokens, marker=\"X\", color=\"red\", markersize=10\n",
    "        )\n",
    "\n",
    "plt.show()\n",
    "\n"
   ]
  }
 ],
 "metadata": {
  "kernelspec": {
   "display_name": "venv_LLMs",
   "language": "python",
   "name": "python3"
  },
  "language_info": {
   "codemirror_mode": {
    "name": "ipython",
    "version": 3
   },
   "file_extension": ".py",
   "mimetype": "text/x-python",
   "name": "python",
   "nbconvert_exporter": "python",
   "pygments_lexer": "ipython3",
   "version": "3.9.16"
  },
  "orig_nbformat": 4
 },
 "nbformat": 4,
 "nbformat_minor": 2
}
