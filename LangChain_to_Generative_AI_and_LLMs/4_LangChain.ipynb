{
 "cells": [
  {
   "attachments": {},
   "cell_type": "markdown",
   "metadata": {},
   "source": [
    "<h1 align=\"center\"><font color=\"yellow\">LangChain 4: Bate-papo em LangChain</font></h1>"
   ]
  },
  {
   "attachments": {},
   "cell_type": "markdown",
   "metadata": {},
   "source": [
    "<font color=\"yellow\">Data Scientist.: Dr.Eddy Giusepe Chirinos Isidro</font>"
   ]
  },
  {
   "cell_type": "code",
   "execution_count": 1,
   "metadata": {},
   "outputs": [
    {
     "name": "stdout",
     "output_type": "stream",
     "text": [
      "Note: you may need to restart the kernel to use updated packages.\n"
     ]
    }
   ],
   "source": [
    "#%pip install -qU langchain openai"
   ]
  },
  {
   "attachments": {},
   "cell_type": "markdown",
   "metadata": {},
   "source": [
    "Começaremos inicializando o objeto `ChatOpenAI`. Para isso, precisaremos de uma `chave de API OpenAI`. Observe que há naturalmente um pequeno custo para executar este notebook devido à natureza paga do acesso à `API do OpenAI`."
   ]
  },
  {
   "cell_type": "code",
   "execution_count": 2,
   "metadata": {},
   "outputs": [
    {
     "name": "stdout",
     "output_type": "stream",
     "text": [
      "Carregando a minha chave Key:  True\n"
     ]
    }
   ],
   "source": [
    "# Isto é quando usas o arquivo .env:\n",
    "from dotenv import load_dotenv\n",
    "import os\n",
    "print('Carregando a minha chave Key: ', load_dotenv())\n",
    "Eddy_API_KEY_OpenAI = os.environ['OPENAI_API_KEY'] \n"
   ]
  },
  {
   "attachments": {},
   "cell_type": "markdown",
   "metadata": {},
   "source": [
    "<font color=\"orange\">Inicialize o objeto `ChatOpenAI`. Definiremos a `temperature = 0` para minimizar a aleatoriedade e tornar as `saídas repetíveis`.</font>"
   ]
  },
  {
   "cell_type": "code",
   "execution_count": 3,
   "metadata": {},
   "outputs": [],
   "source": [
    "from langchain.chat_models import ChatOpenAI\n",
    "\n",
    "chat = ChatOpenAI(\n",
    "    openai_api_key=Eddy_API_KEY_OpenAI,\n",
    "    temperature=0,\n",
    "    model='gpt-3.5-turbo'\n",
    ")\n"
   ]
  },
  {
   "attachments": {},
   "cell_type": "markdown",
   "metadata": {},
   "source": [
    "<font color=\"orange\">Os chats com o modelo `Chat-GPT gpt-3.5-turbo` são normalmente estruturados da seguinte forma:</font>\n",
    "\n",
    "\n",
    "```\n",
    "System: Você é um assistente útil.\n",
    "\n",
    "User: Oi AI, como você está hoje?\n",
    "\n",
    "Assistant: Estou ótimo obrigado. Como posso ajudá-lo?\n",
    "\n",
    "User: Eu gostaria de entender a teoria das cordas.\n",
    "\n",
    "Assistant: \n",
    "```\n",
    "\n",
    "\n",
    "\n",
    "O \"Assistant:\" final sem uma resposta é o que levaria o modelo a continuar a conversação. No endpoint oficial da `OpenAI ChatCompletion`, eles seriam passados para o modelo em um formato como:\n",
    "\n",
    "\n",
    "\n",
    "```\n",
    "[\n",
    "    {\"role\": \"system\", \"content\": \"Você é um assistente útil.\"},\n",
    "    {\"role\": \"user\", \"content\": \"Oi AI, como você está hoje?\"},\n",
    "    {\"role\": \"assistant\", \"content\": \"Estou ótimo obrigado. Como posso ajudá-lo?\"}\n",
    "    {\"role\": \"user\", \"content\": \"Eu gostaria de entender a teoria das cordas.\"}\n",
    "]\n",
    "```\n",
    "\n",
    "\n",
    "<font color=\"orange\">No `LangChain` existe um formato ligeiramente diferente. Usamos três objetos de mensagem da seguinte forma:</font>"
   ]
  },
  {
   "cell_type": "code",
   "execution_count": 4,
   "metadata": {},
   "outputs": [],
   "source": [
    "from langchain.schema import (SystemMessage, HumanMessage, AIMessage)\n",
    "\n",
    "\n",
    "\n",
    "messages = [\n",
    "    SystemMessage(content=\"Você é um assistente útil.\"),\n",
    "    HumanMessage(content=\"Oi AI, como você está hoje?\"),\n",
    "    AIMessage(content=\"Estou ótimo obrigado. Como posso ajudá-lo?\"),\n",
    "    HumanMessage(content=\"Eu gostaria de entender a teoria das cordas.\")\n",
    "]\n",
    "\n"
   ]
  },
  {
   "attachments": {},
   "cell_type": "markdown",
   "metadata": {},
   "source": [
    "<font color=\"orange\">O formato é muito parecido, apenas trocamos a função de `\"user\"` por `HumanMessage`, e a função de `\"Assistant\"` por `AIMessage`.\n",
    "\n",
    "Geramos a próxima resposta da AI passando essas mensagens para o objeto `ChatOpenAI`.</font>"
   ]
  },
  {
   "cell_type": "code",
   "execution_count": 5,
   "metadata": {},
   "outputs": [
    {
     "data": {
      "text/plain": [
       "AIMessage(content='A teoria das cordas é uma teoria física que tenta unificar a relatividade geral e a mecânica quântica. Ela propõe que as partículas subatômicas não são pontos, mas sim cordas vibrantes em um espaço-tempo de 10 ou 11 dimensões. Essas cordas podem vibrar em diferentes frequências, o que determina suas propriedades, como massa e carga elétrica.\\n\\nA teoria das cordas é uma das principais candidatas a uma teoria de tudo, que busca explicar todas as forças fundamentais da natureza em um único quadro teórico. No entanto, ainda há muitas questões em aberto e a teoria das cordas continua sendo objeto de intensa pesquisa e debate na comunidade científica.', additional_kwargs={})"
      ]
     },
     "execution_count": 5,
     "metadata": {},
     "output_type": "execute_result"
    }
   ],
   "source": [
    "res = chat(messages)\n",
    "res\n"
   ]
  },
  {
   "attachments": {},
   "cell_type": "markdown",
   "metadata": {},
   "source": [
    "<font color=\"orange\">Em resposta, obtemos outro `objeto de mensagem AI`. Podemos imprimi-lo mais claramente assim:</font>"
   ]
  },
  {
   "cell_type": "code",
   "execution_count": 6,
   "metadata": {},
   "outputs": [
    {
     "name": "stdout",
     "output_type": "stream",
     "text": [
      "A teoria das cordas é uma teoria física que tenta unificar a relatividade geral e a mecânica quântica. Ela propõe que as partículas subatômicas não são pontos, mas sim cordas vibrantes em um espaço-tempo de 10 ou 11 dimensões. Essas cordas podem vibrar em diferentes frequências, o que determina suas propriedades, como massa e carga elétrica.\n",
      "\n",
      "A teoria das cordas é uma das principais candidatas a uma teoria de tudo, que busca explicar todas as forças fundamentais da natureza em um único quadro teórico. No entanto, ainda há muitas questões em aberto e a teoria das cordas continua sendo objeto de intensa pesquisa e debate na comunidade científica.\n"
     ]
    }
   ],
   "source": [
    "print(res.content)\n"
   ]
  },
  {
   "attachments": {},
   "cell_type": "markdown",
   "metadata": {},
   "source": [
    "<font color=\"orange\">Como `res` é apenas outro objeto `AIMessage`, podemos anexá-lo às `messages`, adicionar outro `HumanMessage` e gerar a próxima resposta na conversa.</font>"
   ]
  },
  {
   "cell_type": "code",
   "execution_count": null,
   "metadata": {},
   "outputs": [],
   "source": [
    "# Adiciona a última resposta de IA às mensagens\n",
    "messages.append(res)\n",
    "\n",
    "\n",
    "# Criamos um novo PROMPT de usuário:\n",
    "prompt = HumanMessage(\n",
    "    content=\"Por que os físicos acreditam que ela pode produzir uma 'teoria unificada'?\"\n",
    ")\n",
    "\n",
    "\n",
    "# Adicionar às mensagens\n",
    "messages.append(prompt)\n",
    "\n",
    "# Enviar para Chat-GPT:\n",
    "res = chat(messages)\n",
    "\n",
    "print(res.content)\n"
   ]
  },
  {
   "attachments": {},
   "cell_type": "markdown",
   "metadata": {},
   "source": [
    "# Novos modelos de prompt (New Prompt Templates)"
   ]
  },
  {
   "cell_type": "code",
   "execution_count": null,
   "metadata": {},
   "outputs": [],
   "source": []
  }
 ],
 "metadata": {
  "kernelspec": {
   "display_name": "venv_LLMs",
   "language": "python",
   "name": "python3"
  },
  "language_info": {
   "codemirror_mode": {
    "name": "ipython",
    "version": 3
   },
   "file_extension": ".py",
   "mimetype": "text/x-python",
   "name": "python",
   "nbconvert_exporter": "python",
   "pygments_lexer": "ipython3",
   "version": "3.10.6"
  },
  "orig_nbformat": 4
 },
 "nbformat": 4,
 "nbformat_minor": 2
}
