{
 "cells": [
  {
   "cell_type": "markdown",
   "metadata": {},
   "source": [
    "<h1 align=\"center\"><font color=\"red\">Evaluating RAG Applications with RAGAs</font></h1>"
   ]
  },
  {
   "cell_type": "markdown",
   "metadata": {},
   "source": [
    "### <font color=\"yellow\">Data Scientist.: Dr. Eddy Giusepe Chirinos Isidro</font>"
   ]
  },
  {
   "cell_type": "markdown",
   "metadata": {},
   "source": [
    "Link de estudo:\n",
    "\n",
    "* [Nov 14, 2023: Retrieval-Augmented Generation (RAG): From Theory to LangChain Implementation](https://towardsdatascience.com/retrieval-augmented-generation-rag-from-theory-to-langchain-implementation-4e9bd5f6a4f2)\n",
    "\n",
    "* [Dec 13, 2023: Evaluating RAG Applications with RAGAs](https://towardsdatascience.com/evaluating-rag-applications-with-ragas-81d67b0ee31a)\n",
    "\n",
    "* [Evaluaing LangChain QA Chains](https://docs.ragas.io/en/latest/howtos/integrations/langchain.html#)"
   ]
  },
  {
   "cell_type": "markdown",
   "metadata": {},
   "source": [
    "# <font color=\"pink\">O que é `RAGAs`</font>"
   ]
  },
  {
   "cell_type": "markdown",
   "metadata": {},
   "source": [
    "<font color=\"orange\">`RAGAs` (`R`etrieval - `A`ugmented `G`eneration `As`sessment) é um Framework ([GitHub](https://github.com/explodinggradients/ragas), [Docs](https://docs.ragas.io/en/latest/)) que fornece os ingredientes necessários para ajudá-lo a avaliar seu `pipeline RAG` em um nível de componente .</font>"
   ]
  },
  {
   "cell_type": "code",
   "execution_count": null,
   "metadata": {},
   "outputs": [],
   "source": [
    "%pip install -qU openai langchain==0.1.11 tiktoken qdrant-client # transformers sentence-transformers\n",
    "%pip install ragas==0.0.22 -qq"
   ]
  },
  {
   "cell_type": "markdown",
   "metadata": {},
   "source": [
    "## <font color=\"gree\">Geração Aumentada de Recuperação (RAG): Da Teoria à Implementação LangChain</font>"
   ]
  },
  {
   "cell_type": "code",
   "execution_count": 1,
   "metadata": {},
   "outputs": [],
   "source": [
    "import os\n",
    "\n",
    "from dotenv import load_dotenv, find_dotenv\n",
    "_ = load_dotenv(find_dotenv()) # read local .env file\n"
   ]
  },
  {
   "cell_type": "code",
   "execution_count": 2,
   "metadata": {},
   "outputs": [],
   "source": [
    "import requests\n",
    "from langchain.document_loaders import TextLoader\n",
    "\n",
    "# url = \"https://raw.githubusercontent.com/langchain-ai/langchain/master/docs/docs/modules/state_of_the_union.txt\"\n",
    "# res = requests.get(url)\n",
    "# with open(\"state_of_the_union.txt\", \"w\") as f:\n",
    "#     f.write(res.text)\n",
    "\n",
    "loader = TextLoader('./data/1-Administracao_digital.txt')\n",
    "documents = loader.load()"
   ]
  },
  {
   "cell_type": "code",
   "execution_count": 3,
   "metadata": {},
   "outputs": [
    {
     "data": {
      "text/plain": [
       "[Document(page_content='ACUMULADOR DE ENTULHO \\nO que é o serviço? A acumulação de lixo/entulho é um problema de saúde pública. Você pode solicitar à Secretaria de Saúde do DF uma visita à área de acumuladores para analisar o caso e iniciar as ações para a solução do problema. \\nInformações importantes do serviço: As visitas técnicas/inspeções podem ser solicitadas em qualquer uma das seguintes situações: \\n• Inspeção ambiental, residencial e comercial, e em órgãos públicos para controle de vetores, peçonhentos, sinantrópicos para controle pragas urbanas de importância médica; \\n• Pesquisas vetoriais técnicas aos imóveis do distrito federal, para identificar e avaliar as condições ambientais que venham a representar riscos à saúde humana; \\n• Para avaliação de roedores, animais peçonhentos, sinantrópicos nos imóveis residenciais, comerciais e órgãos públicos e possíveis providencias; \\n• Para avaliação e recomendações sobre pombos na residência; \\n• Para avaliação sobre roedores na residência e possíveis providências. \\nPara mais informações acesse a Carta de Serviços da SES-DF (https://www.saude.df.gov.br/documents/37101/0/Carta-Servicos-da-Saude_Cidadao-1.pdf/764377b8-3235-2fb9-b918-2dd49d1d2d9e?t=1658771250421) e Cartas de Serviços do SLU (https://www.slu.df.gov.br/carta-de-servicos/). \\nPrazo para prestação do serviço: 7 (sete) dias, podendo variar de acordo com a demanda. Ver carta de serviço do órgão. \\nComo solicitar o serviço: Você pode solicitar por meio do Portal de Serviços do GDF (https://servicos.df.gov.br/categorias?categoria=ADMINISTRA%C3%87%C3%83O%20REGIONAL%2024h&persona=Cidad%C3%A3o#servicos), através do telefone 156 ou pelo aplicativo eGDF, que você está utilizando. Para solicitar, clique no ícone de \"casinha\", na barra inferior, em seguida, clique no botão \"informe aqui\", lá você terá acesso a todos os serviços de forma simples e prática.\\n\\nBUEIRO/BOCA DE LOBO/GRELHA/MEIO-FIO/TAMPA DE FERRO OU CONCRETO \\nO que é o serviço: É execução dos seguintes serviços: \\n• Reposição de tampa de boca de lobo em concreto e/ou ferro; \\n• Limpeza de bueiros / boca de lobos / grelha; e \\n• Reposição de grelha / tampa de ferro \\nInformações importantes do serviço de manutenção: \\n• As bocas de lobo e bueiros deverão estar em vias públicas; \\n• O serviço de limpeza da boca de lobo / bueiro é realizada em 2 etapas e por equipes diferentes: \\n    • A 1ª equipe realiza a limpeza e coloca o resíduo perto do bueiro; \\n    • A 2ª equipe, em um outro momento, recolhe o material. \\n• Já a reposição da tampa e outros acessórios é realizada em 3 etapas: \\n    • 1ª etapa - A Administração Regional faz uma visita prévia ao local para verificar se realmente é uma boca de lobo ou bueiro em via pública. Depois, identifica quais e quantos acessórios deverão ser substituídos ou reparados, e encaminha o relatório à Novacap; \\n    • 2ª etapa - As equipes da Novacap vão ao local indicado, e executam o serviço; \\n    • 3ª etapa - A Novacap retira todo entulho que sobrou do serviço executado. \\nRestrições do serviço: Os serviços de limpeza, desobstrução (desentupimento), reposição de acessórios (ex. troca de tampa) ou qualquer tipo de manutenção não são realizados em áreas particulares; \\n• Para mais informações, acesse a Carta de Serviços da NOVACAP (https://www.novacap.df.gov.br/wp-content/uploads/2017/06/Carta-de-Servicos-2021.pdf).\\nPrazo para prestação do serviço: Até 60 (sessenta) dias, podendo variar de acordo com a demanda.\\nComo solicitar o serviço: Você pode solicitar por meio do Portal de Serviços do GDF (https://servicos.df.gov.br/categorias?categoria=ADMINISTRA%C3%87%C3%83O%20REGIONAL%2024h&persona=Cidad%C3%A3o#servicos), através do telefone 156 ou pelo aplicativo eGDF, que você está utilizando. Para solicitar, clique no ícone de \"casinha\", na barra inferior, em seguida, clique no botão \"informe aqui\", lá você terá acesso a todos os serviços de forma simples e prática.\\n\\nCICLOVIA OU CICLOFAIXA EM RODOVIA \\nO que é o serviço? É a construção de uma nova ciclovia em via do Sistema Rodoviário do Distrito Federal. O cidadão pode solicitar a implantação de sinalização de ciclovia ou ciclofaixa, e/ou a manutenção ou restauração da ciclovia. \\nInformações importantes do serviço: \\n• Deve ser apresentada a necessidade da melhoria da via; \\n• Se possível, anexe fotos do local e dos problemas relatados. \\n• Para mais informações acesse a Carta de Serviços do DER (https://www.der.df.gov.br/category/carta-de-servicos/). \\nPrazo para prestação do serviço: Deverá ocorrer no prazo de 10 (dez) a 30 (trinta) dias conforme programação do Distrito Rodoviário. \\nComo solicitar o serviço: Você pode solicitar por meio do Portal de Serviços do GDF (https://servicos.df.gov.br/categorias?categoria=ADMINISTRA%C3%87%C3%83O%20REGIONAL%2024h&persona=Cidad%C3%A3o#servicos), através do telefone 156 ou pelo aplicativo eGDF, que você está utilizando. Para solicitar, clique no ícone de \"casinha\", na barra inferior, em seguida, clique no botão \"informe aqui\", lá você terá acesso a todos os serviços de forma simples e prática.\\n\\nCICLOVIA OU CICLOFAIXA EM VIA URBANA \\nO que é o serviço? É o planejamento de implantação, manutenção e/ou reforma de ciclovias do DF. \\nInformações importantes do serviço: A SEMOB é responsável pela articulação com os órgãos que realizam e/ou executam projetos de infraestrutura viária (DER/DF, Detran-DF, Novacap, Seduh) e Secretaria de Obras.\\nImplantação de ciclovias: \\n• Novacap: Implanta infraestrutura de ciclovias no DF. \\nManutenção e reforma de ciclovias: Análise prévia no local e/ou via documento e aplicativos: Google Maps e Earth, aplicativo DF no Ponto e Geoportal.\\nPrazo para prestação do serviço: Até 180 (cento e oitenta dias), podendo variar de acordo com a demanda. O prazo está condicionado à disponibilidade contratual, bem como às prioridades de atendimento.\\nComo solicitar o serviço: Você pode solicitar por meio do Portal de Serviços do GDF (https://servicos.df.gov.br/categorias?categoria=ADMINISTRA%C3%87%C3%83O%20REGIONAL%2024h&persona=Cidad%C3%A3o#servicos), através do telefone 156 ou pelo aplicativo eGDF, que você está utilizando. Para solicitar, clique no ícone de \"casinha\", na barra inferior, em seguida, clique no botão \"informe aqui\", lá você terá acesso a todos os serviços de forma simples e prática.\\n\\nCOMBATE AO FOCO DA DENGUE \\nO que é? Verificação de foco e do combate ao mosquito da dengue em ambientes, residências, comércios e/ou órgãos públicos. \\nInformações importantes do serviço: \\n• Os agentes da Secretaria de Estado de Saúde do DF (SES-DF) realizam visitas frequentes aos imóveis em todo o DF;\\n• Mas, se você suspeita que um local pode ser ponto de foco da dengue, entre em contato por esse canal para solicitar uma visita da equipe da SES-DF;\\n• A equipe realizará a avaliação no local para determinar a necessidade do controle de pragas. Após determinar a necessidade de controle, será feito a utilização de substâncias químicas e biológicas. \\nPara mais informações acesse a Carta de Serviços da SES-DF (https://www.saude.df.gov.br/documents/37101/54669/1-DIRETORIA-DE-VIGIL%C3%82NCIA-AMBIENTAL-EM-SA%C3%9ADE-DIVAL.pdf/b73a6762-b752-b15e-4cca-13e00be53f4c?t=1648222410793), Carta de Serviços da DIVAL, Carta de Serviços do SLU e Carta de Serviços do CBMDF. \\nPrazo para prestação do serviço: 7 (sete) dias, podendo variar de acordo com a demanda.\\nComo solicitar o serviço: Você pode solicitar por meio do Portal de Serviços do GDF (https://servicos.df.gov.br/categorias?categoria=ADMINISTRA%C3%87%C3%83O%20REGIONAL%2024h&persona=Cidad%C3%A3o#servicos), através do telefone 156 ou pelo aplicativo eGDF, que você está utilizando. Para solicitar, clique no ícone de \"casinha\", na barra inferior, em seguida, clique no botão \"informe aqui\", lá você terá acesso a todos os serviços de forma simples e prática.\\n\\nCALÇADA / MEIO-FIO / RAMPA \\n• Novacap: nas ciclovias do DF. \\n• Detran: responsável pela sinalização das ciclovias do DF. \\nO que é o serviço? Serviço de construção ou manutenção de calçada, meio-fio e/ou rampa de acessibilidade ao longo da via pública. \\nInformações importantes do serviço:\\n• As vias necessitam constar no Projeto Urbanístico Aprovado pelo DF; \\n• As Administrações Regionais indicarão um croqui georeferenciado identificando a área para construção ou manutenção da calçada; \\n• Uma equipe da Novacap realiza vistoria no local e quantifica os serviços necessários. \\nRestrições do serviço: Não será realizado o serviço em áreas particulares. \\n• Para mais informações acesse a Carta de Serviços da Novacap e/ou Carta de Serviços da SEMOB. \\nPrazo para prestação do serviço: Até 180 (cento e oitenta) dias, podendo variar de acordo com a demanda. Ver carta de serviço do órgão. \\nComo solicitar o serviço: Você pode solicitar por meio do Portal de Serviços do GDF (https://servicos.df.gov.br/categorias?categoria=ADMINISTRA%C3%87%C3%83O%20REGIONAL%2024h&persona=Cidad%C3%A3o#servicos), através do telefone 156 ou pelo aplicativo eGDF, que você está utilizando. Para solicitar, clique no ícone de \"casinha\", na barra inferior, em seguida, clique no botão \"informe aqui\", lá você terá acesso a todos os serviços de forma simples e prática.\\n\\nFAIXA DE PEDESTRE / SINALIZAÇÃO VIÁRIA \\nO que é o serviço? : É a solicitação de criação, revitalização, remoção ou mudança do local de faixa de pedestre nas vias urbanas do DF, bem como de sinalização viária. \\nInformações importantes do serviço:\\n• O Detran fará uma análise e emitirá um parecer: \\n    • Se favorável, o Detran fará a instalação da sinalização de trânsito.\\n    • Se desfavorável, o Detran encaminhará correspondência informando os motivos da não implantação e as alternativas de tráfego mais indicadas para o local. \\n• Para mais informações, acesse a Carta de Serviços do Detran e/ou Carta de Serviços do DER. \\nPrazo para prestação do serviço: O prazo é superior à 30 (trinta) dias podendo variar de acordo com a demanda. Ver detalhamento dos prazos na carta de serviço do órgão.\\nComo solicitar o serviço: Você pode solicitar por meio do Portal de Serviços do GDF (https://servicos.df.gov.br/categorias?categoria=ADMINISTRA%C3%87%C3%83O%20REGIONAL%2024h&persona=Cidad%C3%A3o#servicos), através do telefone 156 ou pelo aplicativo eGDF, que você está utilizando. Para solicitar, clique no ícone de \"casinha\", na barra inferior, em seguida, clique no botão \"informe aqui\", lá você terá acesso a todos os serviços de forma simples e prática.\\n\\nFISCALIZAÇÃO EM LOTE VAZIO SUJO \\nO que é o serviço? É a fiscalização de imóveis não edificados localizados dentro da área urbana do DF, com o objetivo de manter a propriedade limpa e conservada. \\nInformações importantes do serviço: Para mais informações, acesse a Carta de Serviços da DF LEGAL. \\nPrazo para prestação do serviço: 30 (trinta) dias, podendo variar de acordo com a demanda.\\nComo solicitar o serviço: Você pode solicitar por meio do Portal de Serviços do GDF (https://servicos.df.gov.br/categorias?categoria=ADMINISTRA%C3%87%C3%83O%20REGIONAL%2024h&persona=Cidad%C3%A3o#servicos), através do telefone 156 ou pelo aplicativo eGDF, que você está utilizando. Para solicitar, clique no ícone de \"casinha\", na barra inferior, em seguida, clique no botão \"informe aqui\", lá você terá acesso a todos os serviços de forma simples e prática.\\n\\nGALERIA DE ÁGUAS PLUVIAIS \\nO que é o serviço? É a reconstrução de redes e/ou ramais, poços de visita, dissipadores, bem como recuperação de erosões causadas em função de danos ocorridos na rede pública do sistema de águas pluviais. \\nInformações importantes do serviço:\\n• As redes e poços de visita deverão estar em vias públicas sob a responsabilidade da NOVACAP. O serviço é realizado em várias etapas: \\n    • Vistoria prévia para identificar corretamente o local e verificar se o serviço a ser executado é de fato pertencente ao sistema público de drenagem pluvial; \\n    • Levantamento dos equipamentos, materiais e insumos necessários para execução dos serviços; \\n    • Consulta às demais concessionárias para verificar a interferência de redes que possam ser danificadas durante a execução dos serviços; \\n    • Transporte de materiais e maquinário, e a sinalização do local; \\n    • Execução dos serviços; \\n    • Recuperação do pavimento asfáltico, calçadas, etc., que tenham sido danificados durante a execução dos serviços; \\n    • Retirada de todo entulho e restos de materiais quando terminar as obras e serviços. • Para mais informações acesse a Carta de Serviços da Novacap e/ou Carta de Serviços do DER (estradas e rodovias). \\nRestrições do serviço: Não serão realizados serviços que não pertençam ao sistema público de drenagem pluvial, nem em áreas particulares nem áreas públicas. Também não são aceitos pedidos anônimos ou genéricos. \\n• Para mais informações acesse a Carta de Serviços da Novacap e/ou Carta de Serviços do DER (estradas e rodovias). \\nPrazo para prestação do serviço: 180 (cento e oitenta) dias, podendo variar de acordo com a demanda. Ver carta de serviço do órgão.\\nComo solicitar o serviço: Você pode solicitar por meio do Portal de Serviços do GDF (https://servicos.df.gov.br/categorias?categoria=ADMINISTRA%C3%87%C3%83O%20REGIONAL%2024h&persona=Cidad%C3%A3o#servicos), através do telefone 156 ou pelo aplicativo eGDF, que você está utilizando. Para solicitar, clique no ícone de \"casinha\", na barra inferior, em seguida, clique no botão \"informe aqui\", lá você terá acesso a todos os serviços de forma simples e prática.\\n\\nILUMINAÇÃO PÚBLICA \\nO que é o serviço? Compreende os seguintes serviços:\\n• Manutenção de Iluminação Pública (manutenção e substituição de iluminarias, troca de postes, remanejamento de postes de iluminação pública);\\n• Implantação e ampliação de parque de Iluminação Pública (obras em lugares onde não existe um parque de Iluminação Pública ou ampliação da iluminação em um parque que não atende mais as demandas da região.)\\nInformações importantes do serviço: \\n• A CEB é responsável pela execução e fiscalização dos serviços; \\n• Os pedidos de implantação e ampliação do parque de iluminação pública feitos pelo cidadão serão qualificados conforme os requisitos necessários;\\n• Para mais informações, acesse a Carta de Serviços da SODF. \\nPrazo para prestação do serviço: Os prazos para as ordens de serviço variam de acordo com a demanda.\\nComo solicitar o serviço: Você pode solicitar por meio do Portal de Serviços do GDF (https://servicos.df.gov.br/categorias?categoria=ADMINISTRA%C3%87%C3%83O%20REGIONAL%2024h&persona=Cidad%C3%A3o#servicos), através do telefone 156 ou pelo aplicativo eGDF, que você está utilizando. Para solicitar, clique no ícone de \"casinha\", na barra inferior, em seguida, clique no botão \"informe aqui\", lá você terá acesso a todos os serviços de forma simples e prática.\\n\\nLINHA DE ÔNIBUS \\nO que é o serviço? É a Criação de novas linhas de ônibus do Sistema de Transporte Público Coletivo do Distrito Federal (STPC/DF) ou a alteração/desativação das já existentes. Se sua solicitação é para definição de itinerários, tabelas horárias e tempos de percurso acesse DF no ponto. \\nInformações importantes do serviço: A ação pode ser sem a provocação ou mediante solicitação do cidadão. Para mais informações, acesse a Carta de Serviços da SEMOB. \\nPrazo para prestação do serviço: 180 (cento e oitenta) dias, podendo variar de acordo com a demanda e a análise de viabilidade do pleito.\\nComo solicitar o serviço: Você pode solicitar por meio do Portal de Serviços do GDF (https://servicos.df.gov.br/categorias?categoria=ADMINISTRA%C3%87%C3%83O%20REGIONAL%2024h&persona=Cidad%C3%A3o#servicos), através do telefone 156 ou pelo aplicativo eGDF, que você está utilizando. Para solicitar, clique no ícone de \"casinha\", na barra inferior, em seguida, clique no botão \"informe aqui\", lá você terá acesso a todos os serviços de forma simples e prática.\\n\\nMANUTENÇÃO DE ESTRADAS E RODOVIAS \\nO que é o serviço? É a manutenção ou implantação de uma obra nova de pavimentação, viaduto, passarela, ponte, alargamento, faixa de pedestre e outros. \\nInformações importantes do serviço: Deve ser apresentada no relato a necessidade da melhoria da via, por meio de obra. Apresentar justificativa e o detalhamento do local e do defeito apresentado. Para mais informações acesse a Carta de Serviços do DER. \\nPrazo para prestação do serviço: O prazo é de 10 (dez) a 30 (trinta) dias, podendo ser prorrogado, conforme o tipo de serviço a ser executado. Uma vez identificado o ponto como de perigo iminente, o prazo para execução da operação é de 5 (cinco) dias. \\nComo solicitar o serviço: Você pode solicitar por meio do Portal de Serviços do GDF (https://servicos.df.gov.br/categorias?categoria=ADMINISTRA%C3%87%C3%83O%20REGIONAL%2024h&persona=Cidad%C3%A3o#servicos), através do telefone 156 ou pelo aplicativo eGDF, que você está utilizando. Para solicitar, clique no ícone de \"casinha\", na barra inferior, em seguida, clique no botão \"informe aqui\", lá você terá acesso a todos os serviços de forma simples e prática.\\n\\nPARADA, ABRIGO DE ÔNIBUS \\nO que é o serviço? Engloba os seguintes serviços relacionado ao abrigo (parada de ônibus): \\n• Substituição ou nova instalação de placa de sinalização; \\n• Limpeza; \\n• Pintura, reparo no piso da acessibilidade e substituição; \\n• Estudo para verificar a viabilidade de implantação. \\nInformações importantes do serviço: Forma de prestação dos serviços: \\n• Analise técnica pelos aplicativos: Google Maps e Earth, aplicativo DF no Ponto e Geoportal; \\n• Analise técnica presencial (no local);\\n• Para mais informações, acesse a Carta de Serviços da SEMOB. \\nPrazo para prestação do serviço: Prazo de até 30 (trinta) dias para resposta após análise. Para execução do serviço o prazo está condicionado à disponibilidade contratual e às prioridades de atendimento (regiões escolar, hospitalar e comunidade de maior carência e demanda do transporte público).\\nComo solicitar o serviço: Você pode solicitar por meio do Portal de Serviços do GDF (https://servicos.df.gov.br/categorias?categoria=ADMINISTRA%C3%87%C3%83O%20REGIONAL%2024h&persona=Cidad%C3%A3o#servicos), através do telefone 156 ou pelo aplicativo eGDF, que você está utilizando. Para solicitar, clique no ícone de \"casinha\", na barra inferior, em seguida, clique no botão \"informe aqui\", lá você terá acesso a todos os serviços de forma simples e prática.\\n\\nPARQUINHOS INFANTIS \\nO que é o serviço? É a instalação e manutenção dos equipamentos referentes aos parquinhos infantis em área pública. \\nInformações importantes do serviço:\\n• A NOVACAP somente poderá executar esses serviços em áreas públicas se demandados pela Administração Regional e SECID/GDF, que definirão os locais de implantação dos mobiliários urbanos, de acordo com o Plano Urbanístico. \\n• A instalação de mobiliário urbano pela NOVACAP está condicionada à disponibilidade orçamentária, bem como à vigência de Ata de Registro de Preços em vigor na Companhia;\\n• Para mais informações, acesse a Carta de Serviços da NOVACAP. \\nPrazo para prestação do serviço: Até 60 dias, podendo variar conforme demanda. Ver carta de serviços do órgão.\\nComo solicitar o serviço: Você pode solicitar por meio do Portal de Serviços do GDF (https://servicos.df.gov.br/categorias?categoria=ADMINISTRA%C3%87%C3%83O%20REGIONAL%2024h&persona=Cidad%C3%A3o#servicos), através do telefone 156 ou pelo aplicativo eGDF, que você está utilizando. Para solicitar, clique no ícone de \"casinha\", na barra inferior, em seguida, clique no botão \"informe aqui\", lá você terá acesso a todos os serviços de forma simples e prática.\\n\\nPISTA DE SKATE \\nO que é o serviço? É a revitalização ou construção de pista de skate (skate park) em área pública. \\nInformações importantes do serviço: \\n• Descreva em seu relato o local onde o serviço de ser realizado; \\n• Se possível, anexe fotos do local e dos problemas relatados; \\n• Para mais informações, acesse a Carta de Serviços da NOVACAP. \\nPrazo para prestação do serviço: 60 (sessenta) dias, podendo variar de acordo com a demanda. Quando constatado risco a vida, são acionados procedimentos de emergência para o atendimento de determinados serviços.\\nComo solicitar o serviço: Você pode solicitar por meio do Portal de Serviços do GDF (https://servicos.df.gov.br/categorias?categoria=ADMINISTRA%C3%87%C3%83O%20REGIONAL%2024h&persona=Cidad%C3%A3o#servicos), através do telefone 156 ou pelo aplicativo eGDF, que você está utilizando. Para solicitar, clique no ícone de \"casinha\", na barra inferior, em seguida, clique no botão \"informe aqui\", lá você terá acesso a todos os serviços de forma simples e prática.\\n\\nPLACAS RODOVIÁRIAS, DE ENDEREÇAMENTO E TURISMO DO DF \\nO que é o serviço? É a implantação de nova sinalização em via do Sistema Rodoviário do Distrito Federal. \\nInformações importantes do serviço: Deverá ser apresentada a necessidade da melhoria da via, por meio de instalação de sinalização. Para mais informações acesse a Carta de Serviços do DER. \\nPrazo para prestação do serviço: Prazo de 10 a 30 dias – conforme programação do Distrito Rodoviário responsável pela área.\\nComo solicitar o serviço: Você pode solicitar por meio do Portal de Serviços do GDF (https://servicos.df.gov.br/categorias?categoria=ADMINISTRA%C3%87%C3%83O%20REGIONAL%2024h&persona=Cidad%C3%A3o#servicos), através do telefone 156 ou pelo aplicativo eGDF, que você está utilizando. Para solicitar, clique no ícone de \"casinha\", na barra inferior, em seguida, clique no botão \"informe aqui\", lá você terá acesso a todos os serviços de forma simples e prática.\\n\\nPODA DE ÁRVORE EM ÁREA PÚBLICA / PODA ALTA \\nO que é o serviço? Serviços de poda e erradicação de árvores em áreas públicas no Distrito Federal. \\n• A poda é uma forma de eliminar ramos mortos, danificados, doentes ou praguejados, remover partes da árvore que colocam em risco a segurança das pessoas e remover partes da árvore que interferem ou causam danos incontornáveis às edificações ou aos equipamentos urbanos. \\n• O corte é a erradicação (supressão) de árvores em áreas públicas no Distrito Federal. \\nInformações importantes do serviço: O serviço é realizado em 2 etapas e por equipes diferentes: \\n• 1ª equipe: realiza o corte e poda das árvores;\\n• 2ª equipe: passa recolhendo o material. \\nRestrições do serviço: \\n• O corte total de espécies tombadas como patrimônio ecológico do DF e espécimes arbóreo-arbustivo deverão ser solicitadas diretamente ao IBRAM. Em se tratando apenas de poda em área pública, o pedido poderá ser feito à Novacap; \\n• No caso de supressão de árvores por conta de obras, é necessária a apresentação de alvará de construção, junto à Administração Regional local; \\n• A NOVACAP não executa serviço em área particular; \\n• Por medida de segurança, o Departamento de Parques e Jardins não executa poda de árvores próximas à rede elétrica. Esse serviço deve ser solicitado à CEB; \\n• A NOVACAP não realiza o recolhimento de poda, galhadas e resíduos de jardinagem que não tenham sido realizados por ela;\\n• Para mais informações, acesse a Carta de Serviços da NOVACAP. \\nPrazo para prestação do serviço: 60 dias, podendo variar de acordo com a demanda. Quando constatado risco a vida, são acionados procedimentos de emergência para o atendimento de determinados serviços. \\nComo solicitar o serviço: Você pode solicitar por meio do Portal de Serviços do GDF (https://servicos.df.gov.br/categorias?categoria=ADMINISTRA%C3%87%C3%83O%20REGIONAL%2024h&persona=Cidad%C3%A3o#servicos), através do telefone 156 ou pelo aplicativo eGDF, que você está utilizando. Para solicitar, clique no ícone de \"casinha\", na barra inferior, em seguida, clique no botão \"informe aqui\", lá você terá acesso a todos os serviços de forma simples e prática.\\n\\nPONTO DE ENCONTRO COMUNITÁRIO (PEC) \\nO que é o serviço? É o reparo, revitalização ou instalação dos equipamentos que fazem parte do Ponto de Encontro Comunitário - PEC em área pública. \\nInformações importantes do serviço:\\n• Instalação e ou manutenção de equipamentos somente poderá ser realizada em áreas públicas em locais definidos de acordo com o Plano Urbanístico; \\n• A instalação depende de disponibilidade orçamentária para a execução do serviço;\\n• Para mais informações, acesse a Carta de Serviços da NOVACAP. \\nPrazo para prestação do serviço: De 60 a 120 dias, podendo variar de acordo com a demanda. Quando constatado risco a vida, são acionados procedimentos de emergência para o atendimento de determinados serviços.\\nComo solicitar o serviço: Você pode solicitar por meio do Portal de Serviços do GDF (https://servicos.df.gov.br/categorias?categoria=ADMINISTRA%C3%87%C3%83O%20REGIONAL%2024h&persona=Cidad%C3%A3o#servicos), através do telefone 156 ou pelo aplicativo eGDF, que você está utilizando. Para solicitar, clique no ícone de \"casinha\", na barra inferior, em seguida, clique no botão \"informe aqui\", lá você terá acesso a todos os serviços de forma simples e prática.\\n\\nPRAÇAS E JARDINS \\nO que é o serviço? É o reparo, revitalização ou construção de praças e ou jardins em área pública. \\nInformações importantes do serviço: \\n• Serviço realizado em área pública e de acordo com o plano urbanístico da região; \\n• A instalação depende de disponibilidade orçamentária para a execução do serviço; \\n• Para mais informações, acesse a Carta de Serviços da NOVACAP.\\nPrazo para prestação do serviço: 60 dias, podendo variar de acordo com a demanda. Quando constatado risco a vida, são acionados procedimentos de emergência para o atendimento de determinados serviços.\\nComo solicitar o serviço: Você pode solicitar por meio do Portal de Serviços do GDF (https://servicos.df.gov.br/categorias?categoria=ADMINISTRA%C3%87%C3%83O%20REGIONAL%2024h&persona=Cidad%C3%A3o#servicos), através do telefone 156 ou pelo aplicativo eGDF, que você está utilizando. Para solicitar, clique no ícone de \"casinha\", na barra inferior, em seguida, clique no botão \"informe aqui\", lá você terá acesso a todos os serviços de forma simples e prática.\\n\\nQUADRAS DE ESPORTE \\nO que é o serviço? É a manutenção (revitalização/reforma) em quadras esportivas já existentes ou a construção de novas onde ainda não existem. \\nInformações importantes do serviço:\\n• Informar em seu relato o local preciso para a realização do serviço; \\n• Anexar fotos do local e dos problemas, se possível;\\n• Serviço realizado em área pública e de acordo com o plano urbanístico da região; \\n• A instalação depende de disponibilidade orçamentária para a execução do serviço;\\n• Para mais informações, acesse a Carta de Serviços da NOVACAP. \\nPrazo para prestação do serviço: 60 dias, podendo variar de acordo com a demanda. \\nComo solicitar o serviço: Você pode solicitar por meio do Portal de Serviços do GDF (https://servicos.df.gov.br/categorias?categoria=ADMINISTRA%C3%87%C3%83O%20REGIONAL%2024h&persona=Cidad%C3%A3o#servicos), através do telefone 156 ou pelo aplicativo eGDF, que você está utilizando. Para solicitar, clique no ícone de \"casinha\", na barra inferior, em seguida, clique no botão \"informe aqui\", lá você terá acesso a todos os serviços de forma simples e prática.\\n\\nROÇAGEM DE MATO, CAPIM \\nO que é o serviço? Execução de serviços de manutenção de áreas verdes, corte de grama e de roçagem de vegetação espontânea, plantio e manutenção em canteiros ornamentais, arborização em áreas públicas do Distrito Federal. \\nInformações importantes do serviço:\\n• Executados exclusivamente em áreas públicas; \\n• No caso de rodovias e estradas, quando necessário o corte de vegetação de pequeno e médio porte, bem como a poda de árvores na faixa de domínio para melhorar a visibilidade, segurança e aspecto da rodovia, o serviço será realizado pelo Departamento de Estrada e Rodagem (DER/DF); \\n• No caso de manter as estradas rurais em condições ideais para o tráfego e para o escoamento da produção agrícola, especialmente, na época de chuvas, o serviço será realizado pela Secretaria de Agricultura – SEAGRI/DF; \\nRestrições do serviço: \\n• Serviço não executado em áreas de proteção ambiental sem anuência do órgão competente; \\n• Serviço não envolve capina com enxada em calçadas ou parquinho; \\n• O serviço não envolve o recolhimento de desejos gerados por terceiros; \\n• Pedidos anônimos ou genéricos não serão realizados; \\n• Para mais informações, acesse a Carta de Serviços da NOVACAP. Para mais informações, acesse a Carta de Serviços do DER;\\n• Para mais informações, acesse a Carta de Serviços da SEAGRI. \\nPrazo para prestação do serviço: 60 dias, podendo variar de acordo com a demanda. Quando constatado risco a vida, são acionados procedimentos de emergência para o atendimento de determinados serviços.\\nComo solicitar o serviço: Você pode solicitar por meio do Portal de Serviços do GDF (https://servicos.df.gov.br/categorias?categoria=ADMINISTRA%C3%87%C3%83O%20REGIONAL%2024h&persona=Cidad%C3%A3o#servicos), através do telefone 156 ou pelo aplicativo eGDF, que você está utilizando. Para solicitar, clique no ícone de \"casinha\", na barra inferior, em seguida, clique no botão \"informe aqui\", lá você terá acesso a todos os serviços de forma simples e prática.\\n\\nSEMÁFOROS \\nO que é o serviço? É a solicitação de instalação ou manutenção de semáforo. \\nInformações importantes do serviço: Etapas do serviço de instalação de semáforo: \\n• Após análise, será emitido um parecer da Gerência de Engenharia (Geren);\\n• Se o parecer for favorável, proceder-se-á instalação da sinalização de trânsito;\\n• Se o parecer for desfavorável, o Detran-DF encaminhará correspondência elencando os motivos da não implantação, bem como, as alternativas de engenharia de tráfego mais aconselháveis para o local; \\n• Etapas do serviço de manutenção de semáforo: \\n    • Ligar no telefone 3905-5988, informando o endereço completo ou o código que está fixado no semáforo que necessita de manutenção; \\n    • O Detran-DF enviará uma equipe de manutenção para o local. Para mais informações, acesse a Carta de Serviços do Detran. \\nPara mais informações acesse a Carta de Serviços do DER (estradas e rodovias). \\nPrazo para prestação do serviço:\\n• O\\tprazo para implantação será de acordo com a analise da demanda e condições contratuais;\\n• O prazo para o inicio do atendimento da manutenção do semáforo é de 03 (três) horas.\\nComo solicitar o serviço: Você pode solicitar por meio do Portal de Serviços do GDF (https://servicos.df.gov.br/categorias?categoria=ADMINISTRA%C3%87%C3%83O%20REGIONAL%2024h&persona=Cidad%C3%A3o#servicos), através do telefone 156 ou pelo aplicativo eGDF, que você está utilizando. Para solicitar, clique no ícone de \"casinha\", na barra inferior, em seguida, clique no botão \"informe aqui\", lá você terá acesso a todos os serviços de forma simples e prática.\\n\\nORIENTAÇÃO PARA INSTALAÇÃO DE CONTÊINER\\nO que é o serviço? É o serviço de orientação à população quanto à localização adequada para instalação de contêineres, para permitir as manobras dos caminhões coletores. \\nInformações importantes do serviço:\\n• O usuário deve procurar a Administração Regional para a concessão do uso do espaço público (recuo ou rebaixamento de calçadas, disposição em vagas, não obstrução de vias ou saídas de condomínios, proximidade com residências, entre outros); \\n• A quantidade de contêineres deve ser adequada à geração de resíduos e suficiente para acondicionar os resíduos gerados por um período de 2 dias; \\n• Os contêineres devem conter: tampa, dispositivos de redução de ruídos, identificação do proprietário e do tipo de resíduos; \\n• Os contêineres devem ser devidamente identificados e, preferencialmente, possuir a cor conforme o resíduo acondicionado, sendo na cor verde para o resíduo reciclável seco e na cor cinza para os resíduos úmidos/indiferenciados; \\n• Somente o proprietário do contêiner pode solicitar a orientação de disposição adequada dos contêineres de resíduos (orgânicos e seletivos). \\nRestrições do serviço: \\n• O SLU não fornece contêiner, pois é um bem de uso particular. Sua aquisição, manutenção preventiva, corretiva e limpeza são de responsabilidade do proprietário; \\n• O SLU não possui competência para a fiscalização ou remoção de contêineres de lixo e/ou caçambas de entulho; \\n• É vedada a disposição de resíduos sólidos especiais (exemplo: saúde), materiais da logística reversa (exemplo: pneu, pilhas, entre outros), resíduos da construção civil, resíduos verdes (podas de árvores), animais mortos, volumosos (colchão, cama, sofá, etc) e que excedam a capacidade de armazenamento dos contêineres; \\n• Para mais informações, acesse a Carta de Serviços do SLU. \\nPrazo para prestação do serviço: A vistoria ocorrerá em até 7 (sete) dias do registro da solicitação. \\nComo solicitar o serviço: Você pode solicitar por meio do Portal de Serviços do GDF (https://servicos.df.gov.br/categorias?categoria=ADMINISTRA%C3%87%C3%83O%20REGIONAL%2024h&persona=Cidad%C3%A3o#servicos), através do telefone 156 ou pelo aplicativo eGDF, que você está utilizando. Para solicitar, clique no ícone de \"casinha\", na barra inferior, em seguida, clique no botão \"informe aqui\", lá você terá acesso a todos os serviços de forma simples e prática.\\n\\nTAPA BURACO EM VIAS PÚBLICAS \\nO que é o serviço? É a reparação de buraco ou depressão no asfalto para tornar a via segura e confortável. \\nInformações importantes do serviço: \\n• Os serviços de tapa-buraco são realizados exclusivamente em áreas públicas; \\n• É importante informar com precisão o local do problema; \\n• Se possível, anexe fotos recentes do caso;\\n• A NOVACAP não realiza serviços em áreas particulares, rural e via pública não asfaltada; \\n• Para mais informações, acesse a Carta de Serviços da NOVACAP. \\nQuando constatado risco a vida, são acionados procedimentos de emergência para o atendimento de determinados serviços. \\nComo solicitar o serviço: Você pode solicitar por meio do Portal de Serviços do GDF (https://servicos.df.gov.br/categorias?categoria=ADMINISTRA%C3%87%C3%83O%20REGIONAL%2024h&persona=Cidad%C3%A3o#servicos), através do telefone 156 ou pelo aplicativo eGDF, que você está utilizando. Para solicitar, clique no ícone de \"casinha\", na barra inferior, em seguida, clique no botão \"informe aqui\", lá você terá acesso a todos os serviços de forma simples e prática.\\n\\nVEÍCULO ABANDONADO \\nO que é o serviço? Solicita providências sobre os problemas gerados pela existência de veículo abandonado. \\nInformações importantes do serviço:\\n• O órgão acionado pode variar de acordo com o fato relatado e a situação do veículo. Coloque no texto do relato dados como localização (com referência), marca, modelo, placa e cor do veículo. \\n• A Operação DF Livre de Carcaças é coordenada pela Secretaria de Segurança Pública do DF (SSP-DF), e reúne, além das Administrações Regionais, representantes da Polícia Militar do Distrito Federal (PMDF), Departamento de Trânsito (Detran-DF), Departamento de Estradas de Rodagem (DER-DF), Companhia Urbanizadora da Nova Capital (Novacap), Serviço de Limpeza Urbana (SLU), DF Legal e Secretaria de Saúde, por meio da Diretoria de Vigilância Ambiental (Dival). \\n• Canal para encaminhamento de informações – SSP-DF: \\nPrazo para prestação do serviço: 90 (noventa) dias, de acordo com o planejamento do programa Operação DF Livre de Carcaças. Uma vez identificado o local como de perigo iminente, o prazo para execução da operação será de até 10 (dez) dias.\\nComo solicitar o serviço: Você pode solicitar por meio do Portal de Serviços do GDF (https://servicos.df.gov.br/categorias?categoria=ADMINISTRA%C3%87%C3%83O%20REGIONAL%2024h&persona=Cidad%C3%A3o#servicos), através do telefone 156 ou pelo aplicativo eGDF, que você está utilizando. Para solicitar, clique no ícone de \"casinha\", na barra inferior, em seguida, clique no botão \"informe aqui\", lá você terá acesso a todos os serviços de forma simples e prática.\\n\\nSINALIZAÇÃO DE TRÂNSITO EM VIAS PÚBLICAS \\nO que é o serviço? É a solicitação de sinalização de trânsito pelo cidadão quando este perceber a necessidade de instalação/revitalização de sinalização nas vias urbanas do Distrito Federal. Podem ser solicitados os serviços abaixo:\\n• Instalação de Sinalização de vagas especiais (deficiente/idoso); \\n• Instalação de placa nova;\\n• Instalação de fiscalização eletrônica;\\n• Revitalização de sinalização horizontal e vertical. \\nInformações Importantes do serviço: \\n• Se o parecer for favorável, proceder-se-á instalação da sinalização de trânsito;\\n• Se o parecer for desfavorável, o Detran-DF encaminhará correspondência elencando os motivos da não implantação, bem como, as alternativas de engenharia de tráfego mais aconselháveis para o local. Para mais informações, acesse a Carta de Serviços do Detran. \\nPrazo para prestação do serviço: O prazo para emissão do parecer é de 30 (trinta) dias. O prazo para implantação da sinalização de trânsito irá depender da complexidade do tipo de sinalização e do local.\\nComo solicitar o serviço: Você pode solicitar por meio do Portal de Serviços do GDF (https://servicos.df.gov.br/categorias?categoria=ADMINISTRA%C3%87%C3%83O%20REGIONAL%2024h&persona=Cidad%C3%A3o#servicos), através do telefone 156 ou pelo aplicativo eGDF, que você está utilizando. Para solicitar, clique no ícone de \"casinha\", na barra inferior, em seguida, clique no botão \"informe aqui\", lá você terá acesso a todos os serviços de forma simples e prática.\\n\\nESTRADAS VICINAIS \\nO que é o serviço? É a solicitação para a recuperação de trechos de estradas não pavimentadas em áreas rurais que sofrem a ação das chuvas e por vezes ficam intransitáveis. \\nInformações Importantes do serviço: O órgão acionado pode variar de acordo com a localização do trecho e do tamanho da demanda. É realizada uma vistoria no local para análise da situação e posterior direcionamento ao órgão responsável. Para mais informações, acesse a Carta de Serviços do DER e/ou a Carta de Serviços da SEAGRI.\\nPrazo para prestação do serviço: O prazo para a avaliação do DER é de 15 dias. E o prazo de execução pode variar de 5 dias de até 30 dias conforme a programação do Distrito Rodoviário.\\nComo solicitar o serviço: Você pode solicitar por meio do Portal de Serviços do GDF (https://servicos.df.gov.br/categorias?categoria=ADMINISTRA%C3%87%C3%83O%20REGIONAL%2024h&persona=Cidad%C3%A3o#servicos), através do telefone 156 ou pelo aplicativo eGDF, que você está utilizando. Para solicitar, clique no ícone de \"casinha\", na barra inferior, em seguida, clique no botão \"informe aqui\", lá você terá acesso a todos os serviços de forma simples e prática.\\n\\nESTACIONAMENTOS \\nO que é o serviço? É a solicitação de manutenção de estacionamentos em pavimento asfáltico em áreas urbanas na qual o cidadão quando perceber a necessidade de revitalização do pavimento, da sinalização do local ou falta de acessibilidade para condutores pode solicitar os serviços abaixo: \\n• Revitalização de sinalização horizontal e vertical; \\n• Manutenção da pavimentação asfáltica; \\n• Instalação de rampas de acesso para cadeirantes. \\nInformações Importantes do serviço: Para a instalação de rampas de acesso a RA faz uma vistoria no local para análise de viabilidade de execução. Para mais informações, acesse a Carta de Serviços do Detran e/ou a Carta de Serviços da NOVACAP. \\nPrazo para prestação do serviço: O prazo para a revitalização da sinalização é 30 dias. O prazo para ser realizada a manutenção da pavimentação é de 30 dias. O prazo para execução de rampas de acesso é de 30 dias. \\nComo solicitar o serviço: Você pode solicitar por meio do Portal de Serviços do GDF (https://servicos.df.gov.br/categorias?categoria=ADMINISTRA%C3%87%C3%83O%20REGIONAL%2024h&persona=Cidad%C3%A3o#servicos), através do telefone 156 ou pelo aplicativo eGDF, que você está utilizando. Para solicitar, clique no ícone de \"casinha\", na barra inferior, em seguida, clique no botão \"informe aqui\", lá você terá acesso a todos os serviços de forma simples e prática.\\n\\nPISO ARTICULADO OU BLOQUETE OU PISO INTERTRAVADO \\nO que é o serviço? É a solicitação de manutenção de trechos de pavimento executados em pisos articulados, ou bloquetes ou pisos intertravados em áreas urbanas e que o cidadão quando perceber a necessidade de revitalização do pavimento pode solicitar o serviço. \\nPrazo para prestação do serviço: O prazo para execução da manutenção vai depender da necessidade de reposição de peças ou não e se haverá necessidade de aporte financeiro.\\nComo solicitar o serviço: Você pode solicitar por meio do Portal de Serviços do GDF (https://servicos.df.gov.br/categorias?categoria=ADMINISTRA%C3%87%C3%83O%20REGIONAL%2024h&persona=Cidad%C3%A3o#servicos), através do telefone 156 ou pelo aplicativo eGDF, que você está utilizando. Para solicitar, clique no ícone de \"casinha\", na barra inferior, em seguida, clique no botão \"informe aqui\", lá você terá acesso a todos os serviços de forma simples e prática.\\n\\nALAMBRADO (CERCAMENTO) \\nO que é o serviço? É a solicitação de manutenção em trechos do alambrado existente em quadras, campos ou outros equipamentos públicos feita pelo cidadão quando este perceber a necessidade de reparos na tela aramada ou na pintura. \\nInformações Importantes do serviço: Os serviços de reparos solicitados são vistoriados pela NOVACAP e incluídos na programação de execução. Para mais informações, acesse a Carta de Serviços da NOVACAP. \\nPrazo para prestação do serviço: O prazo para os reparos é de 120 (cento e vinte) dias.\\nComo solicitar o serviço: Você pode solicitar por meio do Portal de Serviços do GDF (https://servicos.df.gov.br/categorias?categoria=ADMINISTRA%C3%87%C3%83O%20REGIONAL%2024h&persona=Cidad%C3%A3o#servicos), através do telefone 156 ou pelo aplicativo eGDF, que você está utilizando. Para solicitar, clique no ícone de \"casinha\", na barra inferior, em seguida, clique no botão \"informe aqui\", lá você terá acesso a todos os serviços de forma simples e prática.\\n\\nANIMAIS SOLTOS \\nO que é o serviço? É o recolhimento de animais de grande porte (bovinos, bubalinos, equinos, muares e asininos) soltos em vias e logradouros públicos. Os Animais permanecem na Gerência de Apreensão de Animais para realização de exames obrigatórios e tem o prazo de 30 dias para serem reclamados pelo proprietário ou responsável legal. \\nInformações Importantes do serviço: É necessário que seja informado o local exato de onde está o animal. Para mais informações, acesse a Carta de Serviços da SEAGRI. \\nPrazo para prestação do serviço: O prazo para o recolhimento dos animais soltos é o mais rápido possível ou assim que a equipe de plantão estiver a postos, após ter atendido a demanda anterior.\\nComo solicitar o serviço: Você pode solicitar por meio do Portal de Serviços do GDF (https://servicos.df.gov.br/categorias?categoria=ADMINISTRA%C3%87%C3%83O%20REGIONAL%2024h&persona=Cidad%C3%A3o#servicos), através do telefone 156 ou pelo aplicativo eGDF, que você está utilizando. Para solicitar, clique no ícone de \"casinha\", na barra inferior, em seguida, clique no botão \"informe aqui\", lá você terá acesso a todos os serviços de forma simples e prática.\\n\\nREDE DE ESGOTO / ÁGUA POTÁVEL \\nO que é o serviço? É a solicitação de desobstrução na rede de esgoto ou conserto de vazamento na rede de água potável feita pelo cidadão quando este perceber a necessidade dos reparos. \\nInformações Importantes do serviço: No caso de eliminação de esgoto a céu aberto ao longo de calçada em rodovia do Sistema Rodoviário, o serviço será realizado pelo Departamento de Estrada e Rodagem (DER/DF). Para mais informações, acesse a Carta de Serviços da Caesb e/ou a Carta de Serviços do DER (estradas e rodovias). \\nPrazo para prestação do serviço: O prazo para conserto de vazamento de água potável é de 8 horas úteis. O prazo para desobstrução na rede de esgoto é de 10 horas úteis. \\nComo solicitar o serviço: Você pode solicitar por meio do Portal de Serviços do GDF (https://servicos.df.gov.br/categorias?categoria=ADMINISTRA%C3%87%C3%83O%20REGIONAL%2024h&persona=Cidad%C3%A3o#servicos), através do telefone 156 ou pelo aplicativo eGDF, que você está utilizando. Para solicitar, clique no ícone de \"casinha\", na barra inferior, em seguida, clique no botão \"informe aqui\", lá você terá acesso a todos os serviços de forma simples e prática.\\n\\nPASSAGEM DE PEDESTRES / PASSARELAS \\nO que é o serviço? É a solicitação de limpeza, manutenção ou reparo nas estruturas a fim de garantir a segurança e acessibilidades dos pedestres. \\nInformações Importantes do serviço: \\n• No caso de passarela localizada em rodovia do Sistema Rodoviário, o serviço será realizado pelo Departamento de Estrada e Rodagem (DER/DF);\\n• A limpeza das passagens subterrâneas dos eixos sul e norte são realizadas pelo SLU;\\n• Nas situadas no Metrô, a manutenção e conservação é de sua responsabilidade; \\n• As demais são de responsabilidade da NOVACAP. \\n• Para mais informações, acesse a Carta de Serviços da NOVACAP ou Carta de Serviços do DER \\nPrazo para prestação do serviço: No caso de responsabilidade do DER, uma vez identificado o ponto como de perigo iminente, o prazo para execução da operação é de 5 (cinco) dias. Nos demais casos, o prazo é de até 30 dias – conforme programação do Distrito Rodoviário responsável pela área. O prazo para limpeza das passagens de pedestres é de 10 (dez) dias após o registro da manifestação ou conforme o cronograma das equipes de execução. O prazo para conserto de passarelas é de 60 (sessenta) dias, no caso de responsabilidade da NOVACAP, podendo variar de acordo com a demanda, com a complexidade e tipologia de serviço.\\nComo solicitar o serviço: Você pode solicitar por meio do Portal de Serviços do GDF (https://servicos.df.gov.br/categorias?categoria=ADMINISTRA%C3%87%C3%83O%20REGIONAL%2024h&persona=Cidad%C3%A3o#servicos), através do telefone 156 ou pelo aplicativo eGDF, que você está utilizando. Para solicitar, clique no ícone de \"casinha\", na barra inferior, em seguida, clique no botão \"informe aqui\", lá você terá acesso a todos os serviços de forma simples e prática.', metadata={'source': './data/1-Administracao_digital.txt'})]"
      ]
     },
     "execution_count": 3,
     "metadata": {},
     "output_type": "execute_result"
    }
   ],
   "source": [
    "documents"
   ]
  },
  {
   "cell_type": "code",
   "execution_count": null,
   "metadata": {},
   "outputs": [],
   "source": [
    "from langchain.text_splitter import CharacterTextSplitter\n",
    "\n",
    "text_splitter = CharacterTextSplitter(chunk_size=600,\n",
    "                                      chunk_overlap=60\n",
    "                                     )\n",
    "\n",
    "chunks = text_splitter.split_documents(documents)\n"
   ]
  },
  {
   "cell_type": "code",
   "execution_count": null,
   "metadata": {},
   "outputs": [],
   "source": [
    "chunks"
   ]
  },
  {
   "cell_type": "code",
   "execution_count": 6,
   "metadata": {},
   "outputs": [
    {
     "data": {
      "text/plain": [
       "33"
      ]
     },
     "execution_count": 6,
     "metadata": {},
     "output_type": "execute_result"
    }
   ],
   "source": [
    "len(chunks)"
   ]
  },
  {
   "cell_type": "code",
   "execution_count": 7,
   "metadata": {},
   "outputs": [],
   "source": [
    "#%pip install weaviate-client"
   ]
  },
  {
   "cell_type": "code",
   "execution_count": 17,
   "metadata": {},
   "outputs": [],
   "source": [
    "import warnings\n",
    "warnings.filterwarnings('ignore')"
   ]
  },
  {
   "cell_type": "code",
   "execution_count": null,
   "metadata": {},
   "outputs": [],
   "source": [
    "from langchain.embeddings import OpenAIEmbeddings\n",
    "from langchain.vectorstores import Weaviate\n",
    "import weaviate\n",
    "from weaviate.embedded import EmbeddedOptions\n",
    "\n",
    "\n",
    "client = weaviate.Client(embedded_options = EmbeddedOptions())\n",
    "\n",
    "\n",
    "vectorstore = Weaviate.from_documents(client = client,    \n",
    "                                      documents = chunks,\n",
    "                                      embedding = OpenAIEmbeddings(),\n",
    "                                      by_text = False\n",
    "                                     )\n"
   ]
  },
  {
   "cell_type": "code",
   "execution_count": 10,
   "metadata": {},
   "outputs": [],
   "source": [
    "retriever = vectorstore.as_retriever()"
   ]
  },
  {
   "cell_type": "code",
   "execution_count": 11,
   "metadata": {},
   "outputs": [],
   "source": [
    "from langchain.prompts import ChatPromptTemplate\n",
    "\n",
    "template = \"\"\"Você é um assistente para tarefas de resposta a perguntas.\n",
    "Use as seguintes partes do contexto recuperado para responder à pergunta.\n",
    "Se você não sabe a resposta, basta dizer que não sabe.\n",
    "Use no máximo duas frases e mantenha a resposta concisa.\n",
    "Question: {question} \n",
    "Context: {context} \n",
    "Answer:\n",
    "\"\"\"\n",
    "\n",
    "prompt = ChatPromptTemplate.from_template(template)\n"
   ]
  },
  {
   "cell_type": "code",
   "execution_count": 12,
   "metadata": {},
   "outputs": [
    {
     "name": "stdout",
     "output_type": "stream",
     "text": [
      "input_variables=['context', 'question'] messages=[HumanMessagePromptTemplate(prompt=PromptTemplate(input_variables=['context', 'question'], template='Você é um assistente para tarefas de resposta a perguntas.\\nUse as seguintes partes do contexto recuperado para responder à pergunta.\\nSe você não sabe a resposta, basta dizer que não sabe.\\nUse no máximo duas frases e mantenha a resposta concisa.\\nQuestion: {question} \\nContext: {context} \\nAnswer:\\n'))]\n"
     ]
    }
   ],
   "source": [
    "print(prompt)"
   ]
  },
  {
   "cell_type": "code",
   "execution_count": 15,
   "metadata": {},
   "outputs": [],
   "source": [
    "from langchain.chat_models import ChatOpenAI\n",
    "from langchain.schema.runnable import RunnablePassthrough\n",
    "from langchain.schema.output_parser import StrOutputParser\n",
    "\n",
    "\n",
    "llm = ChatOpenAI(model_name=\"gpt-3.5-turbo\", temperature=0)\n",
    "\n",
    "\n",
    "rag_chain = (\n",
    "    {\"context\": retriever,  \"question\": RunnablePassthrough()} \n",
    "    | prompt \n",
    "    | llm\n",
    "    | StrOutputParser() \n",
    ")\n",
    "\n"
   ]
  },
  {
   "cell_type": "code",
   "execution_count": 18,
   "metadata": {},
   "outputs": [
    {
     "data": {
      "text/plain": [
       "'A limpeza de entulho beneficia a saúde pública e contribui para a conservação do ambiente urbano.'"
      ]
     },
     "execution_count": 18,
     "metadata": {},
     "output_type": "execute_result"
    }
   ],
   "source": [
    "query = \"A quem beneficia a limpeza de Entulho?\"\n",
    "\n",
    "rag_chain.invoke(query)"
   ]
  },
  {
   "cell_type": "code",
   "execution_count": 19,
   "metadata": {},
   "outputs": [
    {
     "data": {
      "text/plain": [
       "'Não sei.'"
      ]
     },
     "execution_count": 19,
     "metadata": {},
     "output_type": "execute_result"
    }
   ],
   "source": [
    "query = \"Quem foi Pelé?\"\n",
    "\n",
    "rag_chain.invoke(query)"
   ]
  },
  {
   "cell_type": "markdown",
   "metadata": {},
   "source": [
    "## <font color=\"gree\">Evaluating RAG Applications with RAGAs</font>"
   ]
  },
  {
   "cell_type": "code",
   "execution_count": 20,
   "metadata": {},
   "outputs": [
    {
     "name": "stderr",
     "output_type": "stream",
     "text": [
      "Created a chunk of size 1856, which is longer than the specified 600\n",
      "Created a chunk of size 2023, which is longer than the specified 600\n",
      "Created a chunk of size 1134, which is longer than the specified 600\n",
      "Created a chunk of size 1235, which is longer than the specified 600\n",
      "Created a chunk of size 1513, which is longer than the specified 600\n",
      "Created a chunk of size 1345, which is longer than the specified 600\n",
      "Created a chunk of size 1252, which is longer than the specified 600\n",
      "Created a chunk of size 844, which is longer than the specified 600\n",
      "Created a chunk of size 2153, which is longer than the specified 600\n",
      "Created a chunk of size 1294, which is longer than the specified 600\n",
      "Created a chunk of size 1064, which is longer than the specified 600\n",
      "Created a chunk of size 1151, which is longer than the specified 600\n",
      "Created a chunk of size 1329, which is longer than the specified 600\n",
      "Created a chunk of size 1202, which is longer than the specified 600\n",
      "Created a chunk of size 1018, which is longer than the specified 600\n",
      "Created a chunk of size 931, which is longer than the specified 600\n",
      "Created a chunk of size 2152, which is longer than the specified 600\n",
      "Created a chunk of size 1185, which is longer than the specified 600\n",
      "Created a chunk of size 1045, which is longer than the specified 600\n",
      "Created a chunk of size 1098, which is longer than the specified 600\n",
      "Created a chunk of size 1989, which is longer than the specified 600\n",
      "Created a chunk of size 1587, which is longer than the specified 600\n",
      "Created a chunk of size 2382, which is longer than the specified 600\n",
      "Created a chunk of size 1092, which is longer than the specified 600\n",
      "Created a chunk of size 1569, which is longer than the specified 600\n",
      "Created a chunk of size 1508, which is longer than the specified 600\n",
      "Created a chunk of size 1164, which is longer than the specified 600\n",
      "Created a chunk of size 1371, which is longer than the specified 600\n",
      "Created a chunk of size 941, which is longer than the specified 600\n",
      "Created a chunk of size 1003, which is longer than the specified 600\n",
      "Created a chunk of size 1170, which is longer than the specified 600\n",
      "Created a chunk of size 1168, which is longer than the specified 600\n"
     ]
    }
   ],
   "source": [
    "import requests\n",
    "from langchain.document_loaders import TextLoader\n",
    "from langchain.text_splitter import CharacterTextSplitter\n",
    "\n",
    "# url = \"https://raw.githubusercontent.com/langchain-ai/langchain/master/docs/docs/modules/state_of_the_union.txt\"\n",
    "# res = requests.get(url)\n",
    "# with open(\"state_of_the_union.txt\", \"w\") as f:\n",
    "#     f.write(res.text)\n",
    "\n",
    "\n",
    "# Load the data\n",
    "loader = TextLoader('./data/1-Administracao_digital.txt')\n",
    "documents = loader.load()\n",
    "\n",
    "# Chunk the data\n",
    "text_splitter = CharacterTextSplitter(chunk_size=600, chunk_overlap=60)\n",
    "chunks = text_splitter.split_documents(documents)"
   ]
  },
  {
   "cell_type": "code",
   "execution_count": 21,
   "metadata": {},
   "outputs": [
    {
     "data": {
      "text/plain": [
       "[Document(page_content='ACUMULADOR DE ENTULHO \\nO que é o serviço? A acumulação de lixo/entulho é um problema de saúde pública. Você pode solicitar à Secretaria de Saúde do DF uma visita à área de acumuladores para analisar o caso e iniciar as ações para a solução do problema. \\nInformações importantes do serviço: As visitas técnicas/inspeções podem ser solicitadas em qualquer uma das seguintes situações: \\n• Inspeção ambiental, residencial e comercial, e em órgãos públicos para controle de vetores, peçonhentos, sinantrópicos para controle pragas urbanas de importância médica; \\n• Pesquisas vetoriais técnicas aos imóveis do distrito federal, para identificar e avaliar as condições ambientais que venham a representar riscos à saúde humana; \\n• Para avaliação de roedores, animais peçonhentos, sinantrópicos nos imóveis residenciais, comerciais e órgãos públicos e possíveis providencias; \\n• Para avaliação e recomendações sobre pombos na residência; \\n• Para avaliação sobre roedores na residência e possíveis providências. \\nPara mais informações acesse a Carta de Serviços da SES-DF (https://www.saude.df.gov.br/documents/37101/0/Carta-Servicos-da-Saude_Cidadao-1.pdf/764377b8-3235-2fb9-b918-2dd49d1d2d9e?t=1658771250421) e Cartas de Serviços do SLU (https://www.slu.df.gov.br/carta-de-servicos/). \\nPrazo para prestação do serviço: 7 (sete) dias, podendo variar de acordo com a demanda. Ver carta de serviço do órgão. \\nComo solicitar o serviço: Você pode solicitar por meio do Portal de Serviços do GDF (https://servicos.df.gov.br/categorias?categoria=ADMINISTRA%C3%87%C3%83O%20REGIONAL%2024h&persona=Cidad%C3%A3o#servicos), através do telefone 156 ou pelo aplicativo eGDF, que você está utilizando. Para solicitar, clique no ícone de \"casinha\", na barra inferior, em seguida, clique no botão \"informe aqui\", lá você terá acesso a todos os serviços de forma simples e prática.', metadata={'source': './data/1-Administracao_digital.txt'}),\n",
       " Document(page_content='BUEIRO/BOCA DE LOBO/GRELHA/MEIO-FIO/TAMPA DE FERRO OU CONCRETO \\nO que é o serviço: É execução dos seguintes serviços: \\n• Reposição de tampa de boca de lobo em concreto e/ou ferro; \\n• Limpeza de bueiros / boca de lobos / grelha; e \\n• Reposição de grelha / tampa de ferro \\nInformações importantes do serviço de manutenção: \\n• As bocas de lobo e bueiros deverão estar em vias públicas; \\n• O serviço de limpeza da boca de lobo / bueiro é realizada em 2 etapas e por equipes diferentes: \\n    • A 1ª equipe realiza a limpeza e coloca o resíduo perto do bueiro; \\n    • A 2ª equipe, em um outro momento, recolhe o material. \\n• Já a reposição da tampa e outros acessórios é realizada em 3 etapas: \\n    • 1ª etapa - A Administração Regional faz uma visita prévia ao local para verificar se realmente é uma boca de lobo ou bueiro em via pública. Depois, identifica quais e quantos acessórios deverão ser substituídos ou reparados, e encaminha o relatório à Novacap; \\n    • 2ª etapa - As equipes da Novacap vão ao local indicado, e executam o serviço; \\n    • 3ª etapa - A Novacap retira todo entulho que sobrou do serviço executado. \\nRestrições do serviço: Os serviços de limpeza, desobstrução (desentupimento), reposição de acessórios (ex. troca de tampa) ou qualquer tipo de manutenção não são realizados em áreas particulares; \\n• Para mais informações, acesse a Carta de Serviços da NOVACAP (https://www.novacap.df.gov.br/wp-content/uploads/2017/06/Carta-de-Servicos-2021.pdf).\\nPrazo para prestação do serviço: Até 60 (sessenta) dias, podendo variar de acordo com a demanda.\\nComo solicitar o serviço: Você pode solicitar por meio do Portal de Serviços do GDF (https://servicos.df.gov.br/categorias?categoria=ADMINISTRA%C3%87%C3%83O%20REGIONAL%2024h&persona=Cidad%C3%A3o#servicos), através do telefone 156 ou pelo aplicativo eGDF, que você está utilizando. Para solicitar, clique no ícone de \"casinha\", na barra inferior, em seguida, clique no botão \"informe aqui\", lá você terá acesso a todos os serviços de forma simples e prática.', metadata={'source': './data/1-Administracao_digital.txt'}),\n",
       " Document(page_content='CICLOVIA OU CICLOFAIXA EM RODOVIA \\nO que é o serviço? É a construção de uma nova ciclovia em via do Sistema Rodoviário do Distrito Federal. O cidadão pode solicitar a implantação de sinalização de ciclovia ou ciclofaixa, e/ou a manutenção ou restauração da ciclovia. \\nInformações importantes do serviço: \\n• Deve ser apresentada a necessidade da melhoria da via; \\n• Se possível, anexe fotos do local e dos problemas relatados. \\n• Para mais informações acesse a Carta de Serviços do DER (https://www.der.df.gov.br/category/carta-de-servicos/). \\nPrazo para prestação do serviço: Deverá ocorrer no prazo de 10 (dez) a 30 (trinta) dias conforme programação do Distrito Rodoviário. \\nComo solicitar o serviço: Você pode solicitar por meio do Portal de Serviços do GDF (https://servicos.df.gov.br/categorias?categoria=ADMINISTRA%C3%87%C3%83O%20REGIONAL%2024h&persona=Cidad%C3%A3o#servicos), através do telefone 156 ou pelo aplicativo eGDF, que você está utilizando. Para solicitar, clique no ícone de \"casinha\", na barra inferior, em seguida, clique no botão \"informe aqui\", lá você terá acesso a todos os serviços de forma simples e prática.', metadata={'source': './data/1-Administracao_digital.txt'}),\n",
       " Document(page_content='CICLOVIA OU CICLOFAIXA EM VIA URBANA \\nO que é o serviço? É o planejamento de implantação, manutenção e/ou reforma de ciclovias do DF. \\nInformações importantes do serviço: A SEMOB é responsável pela articulação com os órgãos que realizam e/ou executam projetos de infraestrutura viária (DER/DF, Detran-DF, Novacap, Seduh) e Secretaria de Obras.\\nImplantação de ciclovias: \\n• Novacap: Implanta infraestrutura de ciclovias no DF. \\nManutenção e reforma de ciclovias: Análise prévia no local e/ou via documento e aplicativos: Google Maps e Earth, aplicativo DF no Ponto e Geoportal.\\nPrazo para prestação do serviço: Até 180 (cento e oitenta dias), podendo variar de acordo com a demanda. O prazo está condicionado à disponibilidade contratual, bem como às prioridades de atendimento.\\nComo solicitar o serviço: Você pode solicitar por meio do Portal de Serviços do GDF (https://servicos.df.gov.br/categorias?categoria=ADMINISTRA%C3%87%C3%83O%20REGIONAL%2024h&persona=Cidad%C3%A3o#servicos), através do telefone 156 ou pelo aplicativo eGDF, que você está utilizando. Para solicitar, clique no ícone de \"casinha\", na barra inferior, em seguida, clique no botão \"informe aqui\", lá você terá acesso a todos os serviços de forma simples e prática.', metadata={'source': './data/1-Administracao_digital.txt'}),\n",
       " Document(page_content='COMBATE AO FOCO DA DENGUE \\nO que é? Verificação de foco e do combate ao mosquito da dengue em ambientes, residências, comércios e/ou órgãos públicos. \\nInformações importantes do serviço: \\n• Os agentes da Secretaria de Estado de Saúde do DF (SES-DF) realizam visitas frequentes aos imóveis em todo o DF;\\n• Mas, se você suspeita que um local pode ser ponto de foco da dengue, entre em contato por esse canal para solicitar uma visita da equipe da SES-DF;\\n• A equipe realizará a avaliação no local para determinar a necessidade do controle de pragas. Após determinar a necessidade de controle, será feito a utilização de substâncias químicas e biológicas. \\nPara mais informações acesse a Carta de Serviços da SES-DF (https://www.saude.df.gov.br/documents/37101/54669/1-DIRETORIA-DE-VIGIL%C3%82NCIA-AMBIENTAL-EM-SA%C3%9ADE-DIVAL.pdf/b73a6762-b752-b15e-4cca-13e00be53f4c?t=1648222410793), Carta de Serviços da DIVAL, Carta de Serviços do SLU e Carta de Serviços do CBMDF. \\nPrazo para prestação do serviço: 7 (sete) dias, podendo variar de acordo com a demanda.\\nComo solicitar o serviço: Você pode solicitar por meio do Portal de Serviços do GDF (https://servicos.df.gov.br/categorias?categoria=ADMINISTRA%C3%87%C3%83O%20REGIONAL%2024h&persona=Cidad%C3%A3o#servicos), através do telefone 156 ou pelo aplicativo eGDF, que você está utilizando. Para solicitar, clique no ícone de \"casinha\", na barra inferior, em seguida, clique no botão \"informe aqui\", lá você terá acesso a todos os serviços de forma simples e prática.', metadata={'source': './data/1-Administracao_digital.txt'}),\n",
       " Document(page_content='CALÇADA / MEIO-FIO / RAMPA \\n• Novacap: nas ciclovias do DF. \\n• Detran: responsável pela sinalização das ciclovias do DF. \\nO que é o serviço? Serviço de construção ou manutenção de calçada, meio-fio e/ou rampa de acessibilidade ao longo da via pública. \\nInformações importantes do serviço:\\n• As vias necessitam constar no Projeto Urbanístico Aprovado pelo DF; \\n• As Administrações Regionais indicarão um croqui georeferenciado identificando a área para construção ou manutenção da calçada; \\n• Uma equipe da Novacap realiza vistoria no local e quantifica os serviços necessários. \\nRestrições do serviço: Não será realizado o serviço em áreas particulares. \\n• Para mais informações acesse a Carta de Serviços da Novacap e/ou Carta de Serviços da SEMOB. \\nPrazo para prestação do serviço: Até 180 (cento e oitenta) dias, podendo variar de acordo com a demanda. Ver carta de serviço do órgão. \\nComo solicitar o serviço: Você pode solicitar por meio do Portal de Serviços do GDF (https://servicos.df.gov.br/categorias?categoria=ADMINISTRA%C3%87%C3%83O%20REGIONAL%2024h&persona=Cidad%C3%A3o#servicos), através do telefone 156 ou pelo aplicativo eGDF, que você está utilizando. Para solicitar, clique no ícone de \"casinha\", na barra inferior, em seguida, clique no botão \"informe aqui\", lá você terá acesso a todos os serviços de forma simples e prática.', metadata={'source': './data/1-Administracao_digital.txt'}),\n",
       " Document(page_content='FAIXA DE PEDESTRE / SINALIZAÇÃO VIÁRIA \\nO que é o serviço? : É a solicitação de criação, revitalização, remoção ou mudança do local de faixa de pedestre nas vias urbanas do DF, bem como de sinalização viária. \\nInformações importantes do serviço:\\n• O Detran fará uma análise e emitirá um parecer: \\n    • Se favorável, o Detran fará a instalação da sinalização de trânsito.\\n    • Se desfavorável, o Detran encaminhará correspondência informando os motivos da não implantação e as alternativas de tráfego mais indicadas para o local. \\n• Para mais informações, acesse a Carta de Serviços do Detran e/ou Carta de Serviços do DER. \\nPrazo para prestação do serviço: O prazo é superior à 30 (trinta) dias podendo variar de acordo com a demanda. Ver detalhamento dos prazos na carta de serviço do órgão.\\nComo solicitar o serviço: Você pode solicitar por meio do Portal de Serviços do GDF (https://servicos.df.gov.br/categorias?categoria=ADMINISTRA%C3%87%C3%83O%20REGIONAL%2024h&persona=Cidad%C3%A3o#servicos), através do telefone 156 ou pelo aplicativo eGDF, que você está utilizando. Para solicitar, clique no ícone de \"casinha\", na barra inferior, em seguida, clique no botão \"informe aqui\", lá você terá acesso a todos os serviços de forma simples e prática.', metadata={'source': './data/1-Administracao_digital.txt'}),\n",
       " Document(page_content='FISCALIZAÇÃO EM LOTE VAZIO SUJO \\nO que é o serviço? É a fiscalização de imóveis não edificados localizados dentro da área urbana do DF, com o objetivo de manter a propriedade limpa e conservada. \\nInformações importantes do serviço: Para mais informações, acesse a Carta de Serviços da DF LEGAL. \\nPrazo para prestação do serviço: 30 (trinta) dias, podendo variar de acordo com a demanda.\\nComo solicitar o serviço: Você pode solicitar por meio do Portal de Serviços do GDF (https://servicos.df.gov.br/categorias?categoria=ADMINISTRA%C3%87%C3%83O%20REGIONAL%2024h&persona=Cidad%C3%A3o#servicos), através do telefone 156 ou pelo aplicativo eGDF, que você está utilizando. Para solicitar, clique no ícone de \"casinha\", na barra inferior, em seguida, clique no botão \"informe aqui\", lá você terá acesso a todos os serviços de forma simples e prática.', metadata={'source': './data/1-Administracao_digital.txt'}),\n",
       " Document(page_content='GALERIA DE ÁGUAS PLUVIAIS \\nO que é o serviço? É a reconstrução de redes e/ou ramais, poços de visita, dissipadores, bem como recuperação de erosões causadas em função de danos ocorridos na rede pública do sistema de águas pluviais. \\nInformações importantes do serviço:\\n• As redes e poços de visita deverão estar em vias públicas sob a responsabilidade da NOVACAP. O serviço é realizado em várias etapas: \\n    • Vistoria prévia para identificar corretamente o local e verificar se o serviço a ser executado é de fato pertencente ao sistema público de drenagem pluvial; \\n    • Levantamento dos equipamentos, materiais e insumos necessários para execução dos serviços; \\n    • Consulta às demais concessionárias para verificar a interferência de redes que possam ser danificadas durante a execução dos serviços; \\n    • Transporte de materiais e maquinário, e a sinalização do local; \\n    • Execução dos serviços; \\n    • Recuperação do pavimento asfáltico, calçadas, etc., que tenham sido danificados durante a execução dos serviços; \\n    • Retirada de todo entulho e restos de materiais quando terminar as obras e serviços. • Para mais informações acesse a Carta de Serviços da Novacap e/ou Carta de Serviços do DER (estradas e rodovias). \\nRestrições do serviço: Não serão realizados serviços que não pertençam ao sistema público de drenagem pluvial, nem em áreas particulares nem áreas públicas. Também não são aceitos pedidos anônimos ou genéricos. \\n• Para mais informações acesse a Carta de Serviços da Novacap e/ou Carta de Serviços do DER (estradas e rodovias). \\nPrazo para prestação do serviço: 180 (cento e oitenta) dias, podendo variar de acordo com a demanda. Ver carta de serviço do órgão.\\nComo solicitar o serviço: Você pode solicitar por meio do Portal de Serviços do GDF (https://servicos.df.gov.br/categorias?categoria=ADMINISTRA%C3%87%C3%83O%20REGIONAL%2024h&persona=Cidad%C3%A3o#servicos), através do telefone 156 ou pelo aplicativo eGDF, que você está utilizando. Para solicitar, clique no ícone de \"casinha\", na barra inferior, em seguida, clique no botão \"informe aqui\", lá você terá acesso a todos os serviços de forma simples e prática.', metadata={'source': './data/1-Administracao_digital.txt'}),\n",
       " Document(page_content='ILUMINAÇÃO PÚBLICA \\nO que é o serviço? Compreende os seguintes serviços:\\n• Manutenção de Iluminação Pública (manutenção e substituição de iluminarias, troca de postes, remanejamento de postes de iluminação pública);\\n• Implantação e ampliação de parque de Iluminação Pública (obras em lugares onde não existe um parque de Iluminação Pública ou ampliação da iluminação em um parque que não atende mais as demandas da região.)\\nInformações importantes do serviço: \\n• A CEB é responsável pela execução e fiscalização dos serviços; \\n• Os pedidos de implantação e ampliação do parque de iluminação pública feitos pelo cidadão serão qualificados conforme os requisitos necessários;\\n• Para mais informações, acesse a Carta de Serviços da SODF. \\nPrazo para prestação do serviço: Os prazos para as ordens de serviço variam de acordo com a demanda.\\nComo solicitar o serviço: Você pode solicitar por meio do Portal de Serviços do GDF (https://servicos.df.gov.br/categorias?categoria=ADMINISTRA%C3%87%C3%83O%20REGIONAL%2024h&persona=Cidad%C3%A3o#servicos), através do telefone 156 ou pelo aplicativo eGDF, que você está utilizando. Para solicitar, clique no ícone de \"casinha\", na barra inferior, em seguida, clique no botão \"informe aqui\", lá você terá acesso a todos os serviços de forma simples e prática.', metadata={'source': './data/1-Administracao_digital.txt'}),\n",
       " Document(page_content='LINHA DE ÔNIBUS \\nO que é o serviço? É a Criação de novas linhas de ônibus do Sistema de Transporte Público Coletivo do Distrito Federal (STPC/DF) ou a alteração/desativação das já existentes. Se sua solicitação é para definição de itinerários, tabelas horárias e tempos de percurso acesse DF no ponto. \\nInformações importantes do serviço: A ação pode ser sem a provocação ou mediante solicitação do cidadão. Para mais informações, acesse a Carta de Serviços da SEMOB. \\nPrazo para prestação do serviço: 180 (cento e oitenta) dias, podendo variar de acordo com a demanda e a análise de viabilidade do pleito.\\nComo solicitar o serviço: Você pode solicitar por meio do Portal de Serviços do GDF (https://servicos.df.gov.br/categorias?categoria=ADMINISTRA%C3%87%C3%83O%20REGIONAL%2024h&persona=Cidad%C3%A3o#servicos), através do telefone 156 ou pelo aplicativo eGDF, que você está utilizando. Para solicitar, clique no ícone de \"casinha\", na barra inferior, em seguida, clique no botão \"informe aqui\", lá você terá acesso a todos os serviços de forma simples e prática.', metadata={'source': './data/1-Administracao_digital.txt'}),\n",
       " Document(page_content='MANUTENÇÃO DE ESTRADAS E RODOVIAS \\nO que é o serviço? É a manutenção ou implantação de uma obra nova de pavimentação, viaduto, passarela, ponte, alargamento, faixa de pedestre e outros. \\nInformações importantes do serviço: Deve ser apresentada no relato a necessidade da melhoria da via, por meio de obra. Apresentar justificativa e o detalhamento do local e do defeito apresentado. Para mais informações acesse a Carta de Serviços do DER. \\nPrazo para prestação do serviço: O prazo é de 10 (dez) a 30 (trinta) dias, podendo ser prorrogado, conforme o tipo de serviço a ser executado. Uma vez identificado o ponto como de perigo iminente, o prazo para execução da operação é de 5 (cinco) dias. \\nComo solicitar o serviço: Você pode solicitar por meio do Portal de Serviços do GDF (https://servicos.df.gov.br/categorias?categoria=ADMINISTRA%C3%87%C3%83O%20REGIONAL%2024h&persona=Cidad%C3%A3o#servicos), através do telefone 156 ou pelo aplicativo eGDF, que você está utilizando. Para solicitar, clique no ícone de \"casinha\", na barra inferior, em seguida, clique no botão \"informe aqui\", lá você terá acesso a todos os serviços de forma simples e prática.', metadata={'source': './data/1-Administracao_digital.txt'}),\n",
       " Document(page_content='PARADA, ABRIGO DE ÔNIBUS \\nO que é o serviço? Engloba os seguintes serviços relacionado ao abrigo (parada de ônibus): \\n• Substituição ou nova instalação de placa de sinalização; \\n• Limpeza; \\n• Pintura, reparo no piso da acessibilidade e substituição; \\n• Estudo para verificar a viabilidade de implantação. \\nInformações importantes do serviço: Forma de prestação dos serviços: \\n• Analise técnica pelos aplicativos: Google Maps e Earth, aplicativo DF no Ponto e Geoportal; \\n• Analise técnica presencial (no local);\\n• Para mais informações, acesse a Carta de Serviços da SEMOB. \\nPrazo para prestação do serviço: Prazo de até 30 (trinta) dias para resposta após análise. Para execução do serviço o prazo está condicionado à disponibilidade contratual e às prioridades de atendimento (regiões escolar, hospitalar e comunidade de maior carência e demanda do transporte público).\\nComo solicitar o serviço: Você pode solicitar por meio do Portal de Serviços do GDF (https://servicos.df.gov.br/categorias?categoria=ADMINISTRA%C3%87%C3%83O%20REGIONAL%2024h&persona=Cidad%C3%A3o#servicos), através do telefone 156 ou pelo aplicativo eGDF, que você está utilizando. Para solicitar, clique no ícone de \"casinha\", na barra inferior, em seguida, clique no botão \"informe aqui\", lá você terá acesso a todos os serviços de forma simples e prática.', metadata={'source': './data/1-Administracao_digital.txt'}),\n",
       " Document(page_content='PARQUINHOS INFANTIS \\nO que é o serviço? É a instalação e manutenção dos equipamentos referentes aos parquinhos infantis em área pública. \\nInformações importantes do serviço:\\n• A NOVACAP somente poderá executar esses serviços em áreas públicas se demandados pela Administração Regional e SECID/GDF, que definirão os locais de implantação dos mobiliários urbanos, de acordo com o Plano Urbanístico. \\n• A instalação de mobiliário urbano pela NOVACAP está condicionada à disponibilidade orçamentária, bem como à vigência de Ata de Registro de Preços em vigor na Companhia;\\n• Para mais informações, acesse a Carta de Serviços da NOVACAP. \\nPrazo para prestação do serviço: Até 60 dias, podendo variar conforme demanda. Ver carta de serviços do órgão.\\nComo solicitar o serviço: Você pode solicitar por meio do Portal de Serviços do GDF (https://servicos.df.gov.br/categorias?categoria=ADMINISTRA%C3%87%C3%83O%20REGIONAL%2024h&persona=Cidad%C3%A3o#servicos), através do telefone 156 ou pelo aplicativo eGDF, que você está utilizando. Para solicitar, clique no ícone de \"casinha\", na barra inferior, em seguida, clique no botão \"informe aqui\", lá você terá acesso a todos os serviços de forma simples e prática.', metadata={'source': './data/1-Administracao_digital.txt'}),\n",
       " Document(page_content='PISTA DE SKATE \\nO que é o serviço? É a revitalização ou construção de pista de skate (skate park) em área pública. \\nInformações importantes do serviço: \\n• Descreva em seu relato o local onde o serviço de ser realizado; \\n• Se possível, anexe fotos do local e dos problemas relatados; \\n• Para mais informações, acesse a Carta de Serviços da NOVACAP. \\nPrazo para prestação do serviço: 60 (sessenta) dias, podendo variar de acordo com a demanda. Quando constatado risco a vida, são acionados procedimentos de emergência para o atendimento de determinados serviços.\\nComo solicitar o serviço: Você pode solicitar por meio do Portal de Serviços do GDF (https://servicos.df.gov.br/categorias?categoria=ADMINISTRA%C3%87%C3%83O%20REGIONAL%2024h&persona=Cidad%C3%A3o#servicos), através do telefone 156 ou pelo aplicativo eGDF, que você está utilizando. Para solicitar, clique no ícone de \"casinha\", na barra inferior, em seguida, clique no botão \"informe aqui\", lá você terá acesso a todos os serviços de forma simples e prática.', metadata={'source': './data/1-Administracao_digital.txt'}),\n",
       " Document(page_content='PLACAS RODOVIÁRIAS, DE ENDEREÇAMENTO E TURISMO DO DF \\nO que é o serviço? É a implantação de nova sinalização em via do Sistema Rodoviário do Distrito Federal. \\nInformações importantes do serviço: Deverá ser apresentada a necessidade da melhoria da via, por meio de instalação de sinalização. Para mais informações acesse a Carta de Serviços do DER. \\nPrazo para prestação do serviço: Prazo de 10 a 30 dias – conforme programação do Distrito Rodoviário responsável pela área.\\nComo solicitar o serviço: Você pode solicitar por meio do Portal de Serviços do GDF (https://servicos.df.gov.br/categorias?categoria=ADMINISTRA%C3%87%C3%83O%20REGIONAL%2024h&persona=Cidad%C3%A3o#servicos), através do telefone 156 ou pelo aplicativo eGDF, que você está utilizando. Para solicitar, clique no ícone de \"casinha\", na barra inferior, em seguida, clique no botão \"informe aqui\", lá você terá acesso a todos os serviços de forma simples e prática.', metadata={'source': './data/1-Administracao_digital.txt'}),\n",
       " Document(page_content='PODA DE ÁRVORE EM ÁREA PÚBLICA / PODA ALTA \\nO que é o serviço? Serviços de poda e erradicação de árvores em áreas públicas no Distrito Federal. \\n• A poda é uma forma de eliminar ramos mortos, danificados, doentes ou praguejados, remover partes da árvore que colocam em risco a segurança das pessoas e remover partes da árvore que interferem ou causam danos incontornáveis às edificações ou aos equipamentos urbanos. \\n• O corte é a erradicação (supressão) de árvores em áreas públicas no Distrito Federal. \\nInformações importantes do serviço: O serviço é realizado em 2 etapas e por equipes diferentes: \\n• 1ª equipe: realiza o corte e poda das árvores;\\n• 2ª equipe: passa recolhendo o material. \\nRestrições do serviço: \\n• O corte total de espécies tombadas como patrimônio ecológico do DF e espécimes arbóreo-arbustivo deverão ser solicitadas diretamente ao IBRAM. Em se tratando apenas de poda em área pública, o pedido poderá ser feito à Novacap; \\n• No caso de supressão de árvores por conta de obras, é necessária a apresentação de alvará de construção, junto à Administração Regional local; \\n• A NOVACAP não executa serviço em área particular; \\n• Por medida de segurança, o Departamento de Parques e Jardins não executa poda de árvores próximas à rede elétrica. Esse serviço deve ser solicitado à CEB; \\n• A NOVACAP não realiza o recolhimento de poda, galhadas e resíduos de jardinagem que não tenham sido realizados por ela;\\n• Para mais informações, acesse a Carta de Serviços da NOVACAP. \\nPrazo para prestação do serviço: 60 dias, podendo variar de acordo com a demanda. Quando constatado risco a vida, são acionados procedimentos de emergência para o atendimento de determinados serviços. \\nComo solicitar o serviço: Você pode solicitar por meio do Portal de Serviços do GDF (https://servicos.df.gov.br/categorias?categoria=ADMINISTRA%C3%87%C3%83O%20REGIONAL%2024h&persona=Cidad%C3%A3o#servicos), através do telefone 156 ou pelo aplicativo eGDF, que você está utilizando. Para solicitar, clique no ícone de \"casinha\", na barra inferior, em seguida, clique no botão \"informe aqui\", lá você terá acesso a todos os serviços de forma simples e prática.', metadata={'source': './data/1-Administracao_digital.txt'}),\n",
       " Document(page_content='PONTO DE ENCONTRO COMUNITÁRIO (PEC) \\nO que é o serviço? É o reparo, revitalização ou instalação dos equipamentos que fazem parte do Ponto de Encontro Comunitário - PEC em área pública. \\nInformações importantes do serviço:\\n• Instalação e ou manutenção de equipamentos somente poderá ser realizada em áreas públicas em locais definidos de acordo com o Plano Urbanístico; \\n• A instalação depende de disponibilidade orçamentária para a execução do serviço;\\n• Para mais informações, acesse a Carta de Serviços da NOVACAP. \\nPrazo para prestação do serviço: De 60 a 120 dias, podendo variar de acordo com a demanda. Quando constatado risco a vida, são acionados procedimentos de emergência para o atendimento de determinados serviços.\\nComo solicitar o serviço: Você pode solicitar por meio do Portal de Serviços do GDF (https://servicos.df.gov.br/categorias?categoria=ADMINISTRA%C3%87%C3%83O%20REGIONAL%2024h&persona=Cidad%C3%A3o#servicos), através do telefone 156 ou pelo aplicativo eGDF, que você está utilizando. Para solicitar, clique no ícone de \"casinha\", na barra inferior, em seguida, clique no botão \"informe aqui\", lá você terá acesso a todos os serviços de forma simples e prática.', metadata={'source': './data/1-Administracao_digital.txt'}),\n",
       " Document(page_content='PRAÇAS E JARDINS \\nO que é o serviço? É o reparo, revitalização ou construção de praças e ou jardins em área pública. \\nInformações importantes do serviço: \\n• Serviço realizado em área pública e de acordo com o plano urbanístico da região; \\n• A instalação depende de disponibilidade orçamentária para a execução do serviço; \\n• Para mais informações, acesse a Carta de Serviços da NOVACAP.\\nPrazo para prestação do serviço: 60 dias, podendo variar de acordo com a demanda. Quando constatado risco a vida, são acionados procedimentos de emergência para o atendimento de determinados serviços.\\nComo solicitar o serviço: Você pode solicitar por meio do Portal de Serviços do GDF (https://servicos.df.gov.br/categorias?categoria=ADMINISTRA%C3%87%C3%83O%20REGIONAL%2024h&persona=Cidad%C3%A3o#servicos), através do telefone 156 ou pelo aplicativo eGDF, que você está utilizando. Para solicitar, clique no ícone de \"casinha\", na barra inferior, em seguida, clique no botão \"informe aqui\", lá você terá acesso a todos os serviços de forma simples e prática.', metadata={'source': './data/1-Administracao_digital.txt'}),\n",
       " Document(page_content='QUADRAS DE ESPORTE \\nO que é o serviço? É a manutenção (revitalização/reforma) em quadras esportivas já existentes ou a construção de novas onde ainda não existem. \\nInformações importantes do serviço:\\n• Informar em seu relato o local preciso para a realização do serviço; \\n• Anexar fotos do local e dos problemas, se possível;\\n• Serviço realizado em área pública e de acordo com o plano urbanístico da região; \\n• A instalação depende de disponibilidade orçamentária para a execução do serviço;\\n• Para mais informações, acesse a Carta de Serviços da NOVACAP. \\nPrazo para prestação do serviço: 60 dias, podendo variar de acordo com a demanda. \\nComo solicitar o serviço: Você pode solicitar por meio do Portal de Serviços do GDF (https://servicos.df.gov.br/categorias?categoria=ADMINISTRA%C3%87%C3%83O%20REGIONAL%2024h&persona=Cidad%C3%A3o#servicos), através do telefone 156 ou pelo aplicativo eGDF, que você está utilizando. Para solicitar, clique no ícone de \"casinha\", na barra inferior, em seguida, clique no botão \"informe aqui\", lá você terá acesso a todos os serviços de forma simples e prática.', metadata={'source': './data/1-Administracao_digital.txt'}),\n",
       " Document(page_content='ROÇAGEM DE MATO, CAPIM \\nO que é o serviço? Execução de serviços de manutenção de áreas verdes, corte de grama e de roçagem de vegetação espontânea, plantio e manutenção em canteiros ornamentais, arborização em áreas públicas do Distrito Federal. \\nInformações importantes do serviço:\\n• Executados exclusivamente em áreas públicas; \\n• No caso de rodovias e estradas, quando necessário o corte de vegetação de pequeno e médio porte, bem como a poda de árvores na faixa de domínio para melhorar a visibilidade, segurança e aspecto da rodovia, o serviço será realizado pelo Departamento de Estrada e Rodagem (DER/DF); \\n• No caso de manter as estradas rurais em condições ideais para o tráfego e para o escoamento da produção agrícola, especialmente, na época de chuvas, o serviço será realizado pela Secretaria de Agricultura – SEAGRI/DF; \\nRestrições do serviço: \\n• Serviço não executado em áreas de proteção ambiental sem anuência do órgão competente; \\n• Serviço não envolve capina com enxada em calçadas ou parquinho; \\n• O serviço não envolve o recolhimento de desejos gerados por terceiros; \\n• Pedidos anônimos ou genéricos não serão realizados; \\n• Para mais informações, acesse a Carta de Serviços da NOVACAP. Para mais informações, acesse a Carta de Serviços do DER;\\n• Para mais informações, acesse a Carta de Serviços da SEAGRI. \\nPrazo para prestação do serviço: 60 dias, podendo variar de acordo com a demanda. Quando constatado risco a vida, são acionados procedimentos de emergência para o atendimento de determinados serviços.\\nComo solicitar o serviço: Você pode solicitar por meio do Portal de Serviços do GDF (https://servicos.df.gov.br/categorias?categoria=ADMINISTRA%C3%87%C3%83O%20REGIONAL%2024h&persona=Cidad%C3%A3o#servicos), através do telefone 156 ou pelo aplicativo eGDF, que você está utilizando. Para solicitar, clique no ícone de \"casinha\", na barra inferior, em seguida, clique no botão \"informe aqui\", lá você terá acesso a todos os serviços de forma simples e prática.', metadata={'source': './data/1-Administracao_digital.txt'}),\n",
       " Document(page_content='SEMÁFOROS \\nO que é o serviço? É a solicitação de instalação ou manutenção de semáforo. \\nInformações importantes do serviço: Etapas do serviço de instalação de semáforo: \\n• Após análise, será emitido um parecer da Gerência de Engenharia (Geren);\\n• Se o parecer for favorável, proceder-se-á instalação da sinalização de trânsito;\\n• Se o parecer for desfavorável, o Detran-DF encaminhará correspondência elencando os motivos da não implantação, bem como, as alternativas de engenharia de tráfego mais aconselháveis para o local; \\n• Etapas do serviço de manutenção de semáforo: \\n    • Ligar no telefone 3905-5988, informando o endereço completo ou o código que está fixado no semáforo que necessita de manutenção; \\n    • O Detran-DF enviará uma equipe de manutenção para o local. Para mais informações, acesse a Carta de Serviços do Detran. \\nPara mais informações acesse a Carta de Serviços do DER (estradas e rodovias). \\nPrazo para prestação do serviço:\\n• O\\tprazo para implantação será de acordo com a analise da demanda e condições contratuais;\\n• O prazo para o inicio do atendimento da manutenção do semáforo é de 03 (três) horas.\\nComo solicitar o serviço: Você pode solicitar por meio do Portal de Serviços do GDF (https://servicos.df.gov.br/categorias?categoria=ADMINISTRA%C3%87%C3%83O%20REGIONAL%2024h&persona=Cidad%C3%A3o#servicos), através do telefone 156 ou pelo aplicativo eGDF, que você está utilizando. Para solicitar, clique no ícone de \"casinha\", na barra inferior, em seguida, clique no botão \"informe aqui\", lá você terá acesso a todos os serviços de forma simples e prática.', metadata={'source': './data/1-Administracao_digital.txt'}),\n",
       " Document(page_content='ORIENTAÇÃO PARA INSTALAÇÃO DE CONTÊINER\\nO que é o serviço? É o serviço de orientação à população quanto à localização adequada para instalação de contêineres, para permitir as manobras dos caminhões coletores. \\nInformações importantes do serviço:\\n• O usuário deve procurar a Administração Regional para a concessão do uso do espaço público (recuo ou rebaixamento de calçadas, disposição em vagas, não obstrução de vias ou saídas de condomínios, proximidade com residências, entre outros); \\n• A quantidade de contêineres deve ser adequada à geração de resíduos e suficiente para acondicionar os resíduos gerados por um período de 2 dias; \\n• Os contêineres devem conter: tampa, dispositivos de redução de ruídos, identificação do proprietário e do tipo de resíduos; \\n• Os contêineres devem ser devidamente identificados e, preferencialmente, possuir a cor conforme o resíduo acondicionado, sendo na cor verde para o resíduo reciclável seco e na cor cinza para os resíduos úmidos/indiferenciados; \\n• Somente o proprietário do contêiner pode solicitar a orientação de disposição adequada dos contêineres de resíduos (orgânicos e seletivos). \\nRestrições do serviço: \\n• O SLU não fornece contêiner, pois é um bem de uso particular. Sua aquisição, manutenção preventiva, corretiva e limpeza são de responsabilidade do proprietário; \\n• O SLU não possui competência para a fiscalização ou remoção de contêineres de lixo e/ou caçambas de entulho; \\n• É vedada a disposição de resíduos sólidos especiais (exemplo: saúde), materiais da logística reversa (exemplo: pneu, pilhas, entre outros), resíduos da construção civil, resíduos verdes (podas de árvores), animais mortos, volumosos (colchão, cama, sofá, etc) e que excedam a capacidade de armazenamento dos contêineres; \\n• Para mais informações, acesse a Carta de Serviços do SLU. \\nPrazo para prestação do serviço: A vistoria ocorrerá em até 7 (sete) dias do registro da solicitação. \\nComo solicitar o serviço: Você pode solicitar por meio do Portal de Serviços do GDF (https://servicos.df.gov.br/categorias?categoria=ADMINISTRA%C3%87%C3%83O%20REGIONAL%2024h&persona=Cidad%C3%A3o#servicos), através do telefone 156 ou pelo aplicativo eGDF, que você está utilizando. Para solicitar, clique no ícone de \"casinha\", na barra inferior, em seguida, clique no botão \"informe aqui\", lá você terá acesso a todos os serviços de forma simples e prática.', metadata={'source': './data/1-Administracao_digital.txt'}),\n",
       " Document(page_content='TAPA BURACO EM VIAS PÚBLICAS \\nO que é o serviço? É a reparação de buraco ou depressão no asfalto para tornar a via segura e confortável. \\nInformações importantes do serviço: \\n• Os serviços de tapa-buraco são realizados exclusivamente em áreas públicas; \\n• É importante informar com precisão o local do problema; \\n• Se possível, anexe fotos recentes do caso;\\n• A NOVACAP não realiza serviços em áreas particulares, rural e via pública não asfaltada; \\n• Para mais informações, acesse a Carta de Serviços da NOVACAP. \\nQuando constatado risco a vida, são acionados procedimentos de emergência para o atendimento de determinados serviços. \\nComo solicitar o serviço: Você pode solicitar por meio do Portal de Serviços do GDF (https://servicos.df.gov.br/categorias?categoria=ADMINISTRA%C3%87%C3%83O%20REGIONAL%2024h&persona=Cidad%C3%A3o#servicos), através do telefone 156 ou pelo aplicativo eGDF, que você está utilizando. Para solicitar, clique no ícone de \"casinha\", na barra inferior, em seguida, clique no botão \"informe aqui\", lá você terá acesso a todos os serviços de forma simples e prática.', metadata={'source': './data/1-Administracao_digital.txt'}),\n",
       " Document(page_content='VEÍCULO ABANDONADO \\nO que é o serviço? Solicita providências sobre os problemas gerados pela existência de veículo abandonado. \\nInformações importantes do serviço:\\n• O órgão acionado pode variar de acordo com o fato relatado e a situação do veículo. Coloque no texto do relato dados como localização (com referência), marca, modelo, placa e cor do veículo. \\n• A Operação DF Livre de Carcaças é coordenada pela Secretaria de Segurança Pública do DF (SSP-DF), e reúne, além das Administrações Regionais, representantes da Polícia Militar do Distrito Federal (PMDF), Departamento de Trânsito (Detran-DF), Departamento de Estradas de Rodagem (DER-DF), Companhia Urbanizadora da Nova Capital (Novacap), Serviço de Limpeza Urbana (SLU), DF Legal e Secretaria de Saúde, por meio da Diretoria de Vigilância Ambiental (Dival). \\n• Canal para encaminhamento de informações – SSP-DF: \\nPrazo para prestação do serviço: 90 (noventa) dias, de acordo com o planejamento do programa Operação DF Livre de Carcaças. Uma vez identificado o local como de perigo iminente, o prazo para execução da operação será de até 10 (dez) dias.\\nComo solicitar o serviço: Você pode solicitar por meio do Portal de Serviços do GDF (https://servicos.df.gov.br/categorias?categoria=ADMINISTRA%C3%87%C3%83O%20REGIONAL%2024h&persona=Cidad%C3%A3o#servicos), através do telefone 156 ou pelo aplicativo eGDF, que você está utilizando. Para solicitar, clique no ícone de \"casinha\", na barra inferior, em seguida, clique no botão \"informe aqui\", lá você terá acesso a todos os serviços de forma simples e prática.', metadata={'source': './data/1-Administracao_digital.txt'}),\n",
       " Document(page_content='SINALIZAÇÃO DE TRÂNSITO EM VIAS PÚBLICAS \\nO que é o serviço? É a solicitação de sinalização de trânsito pelo cidadão quando este perceber a necessidade de instalação/revitalização de sinalização nas vias urbanas do Distrito Federal. Podem ser solicitados os serviços abaixo:\\n• Instalação de Sinalização de vagas especiais (deficiente/idoso); \\n• Instalação de placa nova;\\n• Instalação de fiscalização eletrônica;\\n• Revitalização de sinalização horizontal e vertical. \\nInformações Importantes do serviço: \\n• Se o parecer for favorável, proceder-se-á instalação da sinalização de trânsito;\\n• Se o parecer for desfavorável, o Detran-DF encaminhará correspondência elencando os motivos da não implantação, bem como, as alternativas de engenharia de tráfego mais aconselháveis para o local. Para mais informações, acesse a Carta de Serviços do Detran. \\nPrazo para prestação do serviço: O prazo para emissão do parecer é de 30 (trinta) dias. O prazo para implantação da sinalização de trânsito irá depender da complexidade do tipo de sinalização e do local.\\nComo solicitar o serviço: Você pode solicitar por meio do Portal de Serviços do GDF (https://servicos.df.gov.br/categorias?categoria=ADMINISTRA%C3%87%C3%83O%20REGIONAL%2024h&persona=Cidad%C3%A3o#servicos), através do telefone 156 ou pelo aplicativo eGDF, que você está utilizando. Para solicitar, clique no ícone de \"casinha\", na barra inferior, em seguida, clique no botão \"informe aqui\", lá você terá acesso a todos os serviços de forma simples e prática.', metadata={'source': './data/1-Administracao_digital.txt'}),\n",
       " Document(page_content='ESTRADAS VICINAIS \\nO que é o serviço? É a solicitação para a recuperação de trechos de estradas não pavimentadas em áreas rurais que sofrem a ação das chuvas e por vezes ficam intransitáveis. \\nInformações Importantes do serviço: O órgão acionado pode variar de acordo com a localização do trecho e do tamanho da demanda. É realizada uma vistoria no local para análise da situação e posterior direcionamento ao órgão responsável. Para mais informações, acesse a Carta de Serviços do DER e/ou a Carta de Serviços da SEAGRI.\\nPrazo para prestação do serviço: O prazo para a avaliação do DER é de 15 dias. E o prazo de execução pode variar de 5 dias de até 30 dias conforme a programação do Distrito Rodoviário.\\nComo solicitar o serviço: Você pode solicitar por meio do Portal de Serviços do GDF (https://servicos.df.gov.br/categorias?categoria=ADMINISTRA%C3%87%C3%83O%20REGIONAL%2024h&persona=Cidad%C3%A3o#servicos), através do telefone 156 ou pelo aplicativo eGDF, que você está utilizando. Para solicitar, clique no ícone de \"casinha\", na barra inferior, em seguida, clique no botão \"informe aqui\", lá você terá acesso a todos os serviços de forma simples e prática.', metadata={'source': './data/1-Administracao_digital.txt'}),\n",
       " Document(page_content='ESTACIONAMENTOS \\nO que é o serviço? É a solicitação de manutenção de estacionamentos em pavimento asfáltico em áreas urbanas na qual o cidadão quando perceber a necessidade de revitalização do pavimento, da sinalização do local ou falta de acessibilidade para condutores pode solicitar os serviços abaixo: \\n• Revitalização de sinalização horizontal e vertical; \\n• Manutenção da pavimentação asfáltica; \\n• Instalação de rampas de acesso para cadeirantes. \\nInformações Importantes do serviço: Para a instalação de rampas de acesso a RA faz uma vistoria no local para análise de viabilidade de execução. Para mais informações, acesse a Carta de Serviços do Detran e/ou a Carta de Serviços da NOVACAP. \\nPrazo para prestação do serviço: O prazo para a revitalização da sinalização é 30 dias. O prazo para ser realizada a manutenção da pavimentação é de 30 dias. O prazo para execução de rampas de acesso é de 30 dias. \\nComo solicitar o serviço: Você pode solicitar por meio do Portal de Serviços do GDF (https://servicos.df.gov.br/categorias?categoria=ADMINISTRA%C3%87%C3%83O%20REGIONAL%2024h&persona=Cidad%C3%A3o#servicos), através do telefone 156 ou pelo aplicativo eGDF, que você está utilizando. Para solicitar, clique no ícone de \"casinha\", na barra inferior, em seguida, clique no botão \"informe aqui\", lá você terá acesso a todos os serviços de forma simples e prática.', metadata={'source': './data/1-Administracao_digital.txt'}),\n",
       " Document(page_content='PISO ARTICULADO OU BLOQUETE OU PISO INTERTRAVADO \\nO que é o serviço? É a solicitação de manutenção de trechos de pavimento executados em pisos articulados, ou bloquetes ou pisos intertravados em áreas urbanas e que o cidadão quando perceber a necessidade de revitalização do pavimento pode solicitar o serviço. \\nPrazo para prestação do serviço: O prazo para execução da manutenção vai depender da necessidade de reposição de peças ou não e se haverá necessidade de aporte financeiro.\\nComo solicitar o serviço: Você pode solicitar por meio do Portal de Serviços do GDF (https://servicos.df.gov.br/categorias?categoria=ADMINISTRA%C3%87%C3%83O%20REGIONAL%2024h&persona=Cidad%C3%A3o#servicos), através do telefone 156 ou pelo aplicativo eGDF, que você está utilizando. Para solicitar, clique no ícone de \"casinha\", na barra inferior, em seguida, clique no botão \"informe aqui\", lá você terá acesso a todos os serviços de forma simples e prática.', metadata={'source': './data/1-Administracao_digital.txt'}),\n",
       " Document(page_content='ALAMBRADO (CERCAMENTO) \\nO que é o serviço? É a solicitação de manutenção em trechos do alambrado existente em quadras, campos ou outros equipamentos públicos feita pelo cidadão quando este perceber a necessidade de reparos na tela aramada ou na pintura. \\nInformações Importantes do serviço: Os serviços de reparos solicitados são vistoriados pela NOVACAP e incluídos na programação de execução. Para mais informações, acesse a Carta de Serviços da NOVACAP. \\nPrazo para prestação do serviço: O prazo para os reparos é de 120 (cento e vinte) dias.\\nComo solicitar o serviço: Você pode solicitar por meio do Portal de Serviços do GDF (https://servicos.df.gov.br/categorias?categoria=ADMINISTRA%C3%87%C3%83O%20REGIONAL%2024h&persona=Cidad%C3%A3o#servicos), através do telefone 156 ou pelo aplicativo eGDF, que você está utilizando. Para solicitar, clique no ícone de \"casinha\", na barra inferior, em seguida, clique no botão \"informe aqui\", lá você terá acesso a todos os serviços de forma simples e prática.', metadata={'source': './data/1-Administracao_digital.txt'}),\n",
       " Document(page_content='ANIMAIS SOLTOS \\nO que é o serviço? É o recolhimento de animais de grande porte (bovinos, bubalinos, equinos, muares e asininos) soltos em vias e logradouros públicos. Os Animais permanecem na Gerência de Apreensão de Animais para realização de exames obrigatórios e tem o prazo de 30 dias para serem reclamados pelo proprietário ou responsável legal. \\nInformações Importantes do serviço: É necessário que seja informado o local exato de onde está o animal. Para mais informações, acesse a Carta de Serviços da SEAGRI. \\nPrazo para prestação do serviço: O prazo para o recolhimento dos animais soltos é o mais rápido possível ou assim que a equipe de plantão estiver a postos, após ter atendido a demanda anterior.\\nComo solicitar o serviço: Você pode solicitar por meio do Portal de Serviços do GDF (https://servicos.df.gov.br/categorias?categoria=ADMINISTRA%C3%87%C3%83O%20REGIONAL%2024h&persona=Cidad%C3%A3o#servicos), através do telefone 156 ou pelo aplicativo eGDF, que você está utilizando. Para solicitar, clique no ícone de \"casinha\", na barra inferior, em seguida, clique no botão \"informe aqui\", lá você terá acesso a todos os serviços de forma simples e prática.', metadata={'source': './data/1-Administracao_digital.txt'}),\n",
       " Document(page_content='REDE DE ESGOTO / ÁGUA POTÁVEL \\nO que é o serviço? É a solicitação de desobstrução na rede de esgoto ou conserto de vazamento na rede de água potável feita pelo cidadão quando este perceber a necessidade dos reparos. \\nInformações Importantes do serviço: No caso de eliminação de esgoto a céu aberto ao longo de calçada em rodovia do Sistema Rodoviário, o serviço será realizado pelo Departamento de Estrada e Rodagem (DER/DF). Para mais informações, acesse a Carta de Serviços da Caesb e/ou a Carta de Serviços do DER (estradas e rodovias). \\nPrazo para prestação do serviço: O prazo para conserto de vazamento de água potável é de 8 horas úteis. O prazo para desobstrução na rede de esgoto é de 10 horas úteis. \\nComo solicitar o serviço: Você pode solicitar por meio do Portal de Serviços do GDF (https://servicos.df.gov.br/categorias?categoria=ADMINISTRA%C3%87%C3%83O%20REGIONAL%2024h&persona=Cidad%C3%A3o#servicos), através do telefone 156 ou pelo aplicativo eGDF, que você está utilizando. Para solicitar, clique no ícone de \"casinha\", na barra inferior, em seguida, clique no botão \"informe aqui\", lá você terá acesso a todos os serviços de forma simples e prática.', metadata={'source': './data/1-Administracao_digital.txt'}),\n",
       " Document(page_content='PASSAGEM DE PEDESTRES / PASSARELAS \\nO que é o serviço? É a solicitação de limpeza, manutenção ou reparo nas estruturas a fim de garantir a segurança e acessibilidades dos pedestres. \\nInformações Importantes do serviço: \\n• No caso de passarela localizada em rodovia do Sistema Rodoviário, o serviço será realizado pelo Departamento de Estrada e Rodagem (DER/DF);\\n• A limpeza das passagens subterrâneas dos eixos sul e norte são realizadas pelo SLU;\\n• Nas situadas no Metrô, a manutenção e conservação é de sua responsabilidade; \\n• As demais são de responsabilidade da NOVACAP. \\n• Para mais informações, acesse a Carta de Serviços da NOVACAP ou Carta de Serviços do DER \\nPrazo para prestação do serviço: No caso de responsabilidade do DER, uma vez identificado o ponto como de perigo iminente, o prazo para execução da operação é de 5 (cinco) dias. Nos demais casos, o prazo é de até 30 dias – conforme programação do Distrito Rodoviário responsável pela área. O prazo para limpeza das passagens de pedestres é de 10 (dez) dias após o registro da manifestação ou conforme o cronograma das equipes de execução. O prazo para conserto de passarelas é de 60 (sessenta) dias, no caso de responsabilidade da NOVACAP, podendo variar de acordo com a demanda, com a complexidade e tipologia de serviço.\\nComo solicitar o serviço: Você pode solicitar por meio do Portal de Serviços do GDF (https://servicos.df.gov.br/categorias?categoria=ADMINISTRA%C3%87%C3%83O%20REGIONAL%2024h&persona=Cidad%C3%A3o#servicos), através do telefone 156 ou pelo aplicativo eGDF, que você está utilizando. Para solicitar, clique no ícone de \"casinha\", na barra inferior, em seguida, clique no botão \"informe aqui\", lá você terá acesso a todos os serviços de forma simples e prática.', metadata={'source': './data/1-Administracao_digital.txt'})]"
      ]
     },
     "execution_count": 21,
     "metadata": {},
     "output_type": "execute_result"
    }
   ],
   "source": [
    "chunks"
   ]
  },
  {
   "cell_type": "code",
   "execution_count": 22,
   "metadata": {},
   "outputs": [
    {
     "data": {
      "text/plain": [
       "33"
      ]
     },
     "execution_count": 22,
     "metadata": {},
     "output_type": "execute_result"
    }
   ],
   "source": [
    "len(chunks)"
   ]
  },
  {
   "cell_type": "code",
   "execution_count": 23,
   "metadata": {},
   "outputs": [
    {
     "name": "stdout",
     "output_type": "stream",
     "text": [
      "embedded weaviate is already listening on port 8079\n"
     ]
    },
    {
     "name": "stderr",
     "output_type": "stream",
     "text": [
      "{\"level\":\"info\",\"msg\":\"Created shard langchain_74059867733b4b758123d89d04124258_BhxvrKmaBoXq in 446.025µs\",\"time\":\"2024-04-07T01:01:22-03:00\"}\n",
      "{\"action\":\"hnsw_vector_cache_prefill\",\"count\":1000,\"index_id\":\"main\",\"level\":\"info\",\"limit\":1000000000000,\"msg\":\"prefilled vector cache\",\"time\":\"2024-04-07T01:01:22-03:00\",\"took\":51260}\n"
     ]
    }
   ],
   "source": [
    "from langchain.embeddings import OpenAIEmbeddings\n",
    "from langchain.vectorstores import Weaviate\n",
    "import weaviate\n",
    "from weaviate.embedded import EmbeddedOptions\n",
    "from dotenv import load_dotenv,find_dotenv\n",
    "\n",
    "\n",
    "# Setup vector database\n",
    "client = weaviate.Client(embedded_options = EmbeddedOptions())\n",
    "\n",
    "\n",
    "# Populate vector database\n",
    "vectorstore = Weaviate.from_documents(client = client,\n",
    "                                      documents = chunks,\n",
    "                                      embedding = OpenAIEmbeddings(),\n",
    "                                      by_text = False\n",
    "                                     )\n",
    "\n",
    "\n",
    "# Define vectorstore as retriever to enable semantic search\n",
    "retriever = vectorstore.as_retriever()"
   ]
  },
  {
   "cell_type": "code",
   "execution_count": 24,
   "metadata": {},
   "outputs": [
    {
     "name": "stderr",
     "output_type": "stream",
     "text": [
      "{\"action\":\"restapi_management\",\"level\":\"info\",\"msg\":\"Shutting down... \",\"time\":\"2024-04-07T01:01:28-03:00\"}\n",
      "{\"action\":\"restapi_management\",\"level\":\"info\",\"msg\":\"Stopped serving weaviate at http://127.0.0.1:8079\",\"time\":\"2024-04-07T01:01:28-03:00\"}\n"
     ]
    }
   ],
   "source": [
    "from langchain.chat_models import ChatOpenAI\n",
    "from langchain.prompts import ChatPromptTemplate\n",
    "from langchain.schema.runnable import RunnablePassthrough\n",
    "from langchain.schema.output_parser import StrOutputParser\n",
    "\n",
    "# Define LLM\n",
    "llm = ChatOpenAI(model_name=\"gpt-3.5-turbo\",\n",
    "                 temperature=0\n",
    "                )\n",
    "\n",
    "\n",
    "# Define prompt template\n",
    "template = \"\"\"Você é um assistente para tarefas de resposta a perguntas.\n",
    "Use as seguintes partes do contexto recuperado para responder à pergunta.\n",
    "Se você não sabe a resposta, basta dizer que não sabe.\n",
    "Use no máximo duas frases e mantenha a resposta concisa.\n",
    "Question: {question} \n",
    "Context: {context} \n",
    "Answer:\n",
    "\"\"\"\n",
    "\n",
    "prompt = ChatPromptTemplate.from_template(template)\n",
    "\n",
    "# Setup RAG pipeline\n",
    "rag_chain = (\n",
    "    {\"context\": retriever,  \"question\": RunnablePassthrough()} \n",
    "    | prompt \n",
    "    | llm\n",
    "    | StrOutputParser() \n",
    ")"
   ]
  },
  {
   "cell_type": "markdown",
   "metadata": {},
   "source": [
    "### <font color=\"red\">Preparando os dados de avaliação - RAGAs</font>"
   ]
  },
  {
   "cell_type": "markdown",
   "metadata": {},
   "source": [
    "<font color=\"orange\">Como os `RAGAs` pretendem ser um Framework de avaliação sem referências, os preparativos necessários do conjunto de dados de avaliação são mínimos. Você precisará preparar pares `question` e `ground_truths` a partir dos quais poderá preparar as informações restantes por meio de inferência da seguinte forma:</font>"
   ]
  },
  {
   "cell_type": "code",
   "execution_count": 38,
   "metadata": {},
   "outputs": [
    {
     "data": {
      "text/plain": [
       "{'question': ['O que é Acumulador de entulho?',\n",
       "  'O que é o serviço de limpeza de Grelha?',\n",
       "  'Como solicitar o serviço de implantação, manutenção e/ou reforma de ciclovias do DF?',\n",
       "  'Prazo pra prestação do serviço de criação, revitalização, remoção ou mudança Faixa de pedestre / Sinalização Viária?',\n",
       "  'Prazo pra prestação do serviço de Iluminação pública?',\n",
       "  'O que é Instalação de Parquinhos infantis?'],\n",
       " 'answer': ['O Acumulador de entulho é um serviço para lidar com a acumulação de lixo/entulho, considerado um problema de saúde pública. É possível solicitar uma visita à área de acumuladores para análise e ações de solução do problema.',\n",
       "  'O serviço de limpeza de grelha consiste na reposição e limpeza de tampas de boca de lobo, bueiros e grelhas de ferro ou concreto em vias públicas.',\n",
       "  'Você pode solicitar o serviço de implantação, manutenção e/ou reforma de ciclovias do DF através do Portal de Serviços do GDF, telefone 156 ou pelo aplicativo eGDF.',\n",
       "  'O prazo para prestação do serviço de criação, revitalização, remoção ou mudança de faixa de pedestre/sinalização viária é superior a 30 dias, podendo variar de acordo com a demanda.',\n",
       "  'O prazo para prestação do serviço de Iluminação Pública varia de acordo com a demanda.',\n",
       "  'Instalação de Parquinhos infantis é a instalação e manutenção dos equipamentos referentes aos parquinhos infantis em área pública.'],\n",
       " 'contexts': [['ACUMULADOR DE ENTULHO \\nO que é o serviço? A acumulação de lixo/entulho é um problema de saúde pública. Você pode solicitar à Secretaria de Saúde do DF uma visita à área de acumuladores para analisar o caso e iniciar as ações para a solução do problema. \\nInformações importantes do serviço: As visitas técnicas/inspeções podem ser solicitadas em qualquer uma das seguintes situações: \\n• Inspeção ambiental, residencial e comercial, e em órgãos públicos para controle de vetores, peçonhentos, sinantrópicos para controle pragas urbanas de importância médica; \\n• Pesquisas vetoriais técnicas aos imóveis do distrito federal, para identificar e avaliar as condições ambientais que venham a representar riscos à saúde humana; \\n• Para avaliação de roedores, animais peçonhentos, sinantrópicos nos imóveis residenciais, comerciais e órgãos públicos e possíveis providencias; \\n• Para avaliação e recomendações sobre pombos na residência; \\n• Para avaliação sobre roedores na residência e possíveis providências. \\nPara mais informações acesse a Carta de Serviços da SES-DF (https://www.saude.df.gov.br/documents/37101/0/Carta-Servicos-da-Saude_Cidadao-1.pdf/764377b8-3235-2fb9-b918-2dd49d1d2d9e?t=1658771250421) e Cartas de Serviços do SLU (https://www.slu.df.gov.br/carta-de-servicos/). \\nPrazo para prestação do serviço: 7 (sete) dias, podendo variar de acordo com a demanda. Ver carta de serviço do órgão. \\nComo solicitar o serviço: Você pode solicitar por meio do Portal de Serviços do GDF (https://servicos.df.gov.br/categorias?categoria=ADMINISTRA%C3%87%C3%83O%20REGIONAL%2024h&persona=Cidad%C3%A3o#servicos), através do telefone 156 ou pelo aplicativo eGDF, que você está utilizando. Para solicitar, clique no ícone de \"casinha\", na barra inferior, em seguida, clique no botão \"informe aqui\", lá você terá acesso a todos os serviços de forma simples e prática.',\n",
       "   'ORIENTAÇÃO PARA INSTALAÇÃO DE CONTÊINER\\nO que é o serviço? É o serviço de orientação à população quanto à localização adequada para instalação de contêineres, para permitir as manobras dos caminhões coletores. \\nInformações importantes do serviço:\\n• O usuário deve procurar a Administração Regional para a concessão do uso do espaço público (recuo ou rebaixamento de calçadas, disposição em vagas, não obstrução de vias ou saídas de condomínios, proximidade com residências, entre outros); \\n• A quantidade de contêineres deve ser adequada à geração de resíduos e suficiente para acondicionar os resíduos gerados por um período de 2 dias; \\n• Os contêineres devem conter: tampa, dispositivos de redução de ruídos, identificação do proprietário e do tipo de resíduos; \\n• Os contêineres devem ser devidamente identificados e, preferencialmente, possuir a cor conforme o resíduo acondicionado, sendo na cor verde para o resíduo reciclável seco e na cor cinza para os resíduos úmidos/indiferenciados; \\n• Somente o proprietário do contêiner pode solicitar a orientação de disposição adequada dos contêineres de resíduos (orgânicos e seletivos). \\nRestrições do serviço: \\n• O SLU não fornece contêiner, pois é um bem de uso particular. Sua aquisição, manutenção preventiva, corretiva e limpeza são de responsabilidade do proprietário; \\n• O SLU não possui competência para a fiscalização ou remoção de contêineres de lixo e/ou caçambas de entulho; \\n• É vedada a disposição de resíduos sólidos especiais (exemplo: saúde), materiais da logística reversa (exemplo: pneu, pilhas, entre outros), resíduos da construção civil, resíduos verdes (podas de árvores), animais mortos, volumosos (colchão, cama, sofá, etc) e que excedam a capacidade de armazenamento dos contêineres; \\n• Para mais informações, acesse a Carta de Serviços do SLU. \\nPrazo para prestação do serviço: A vistoria ocorrerá em até 7 (sete) dias do registro da solicitação. \\nComo solicitar o serviço: Você pode solicitar por meio do Portal de Serviços do GDF (https://servicos.df.gov.br/categorias?categoria=ADMINISTRA%C3%87%C3%83O%20REGIONAL%2024h&persona=Cidad%C3%A3o#servicos), através do telefone 156 ou pelo aplicativo eGDF, que você está utilizando. Para solicitar, clique no ícone de \"casinha\", na barra inferior, em seguida, clique no botão \"informe aqui\", lá você terá acesso a todos os serviços de forma simples e prática.',\n",
       "   'GALERIA DE ÁGUAS PLUVIAIS \\nO que é o serviço? É a reconstrução de redes e/ou ramais, poços de visita, dissipadores, bem como recuperação de erosões causadas em função de danos ocorridos na rede pública do sistema de águas pluviais. \\nInformações importantes do serviço:\\n• As redes e poços de visita deverão estar em vias públicas sob a responsabilidade da NOVACAP. O serviço é realizado em várias etapas: \\n    • Vistoria prévia para identificar corretamente o local e verificar se o serviço a ser executado é de fato pertencente ao sistema público de drenagem pluvial; \\n    • Levantamento dos equipamentos, materiais e insumos necessários para execução dos serviços; \\n    • Consulta às demais concessionárias para verificar a interferência de redes que possam ser danificadas durante a execução dos serviços; \\n    • Transporte de materiais e maquinário, e a sinalização do local; \\n    • Execução dos serviços; \\n    • Recuperação do pavimento asfáltico, calçadas, etc., que tenham sido danificados durante a execução dos serviços; \\n    • Retirada de todo entulho e restos de materiais quando terminar as obras e serviços. • Para mais informações acesse a Carta de Serviços da Novacap e/ou Carta de Serviços do DER (estradas e rodovias). \\nRestrições do serviço: Não serão realizados serviços que não pertençam ao sistema público de drenagem pluvial, nem em áreas particulares nem áreas públicas. Também não são aceitos pedidos anônimos ou genéricos. \\n• Para mais informações acesse a Carta de Serviços da Novacap e/ou Carta de Serviços do DER (estradas e rodovias). \\nPrazo para prestação do serviço: 180 (cento e oitenta) dias, podendo variar de acordo com a demanda. Ver carta de serviço do órgão.\\nComo solicitar o serviço: Você pode solicitar por meio do Portal de Serviços do GDF (https://servicos.df.gov.br/categorias?categoria=ADMINISTRA%C3%87%C3%83O%20REGIONAL%2024h&persona=Cidad%C3%A3o#servicos), através do telefone 156 ou pelo aplicativo eGDF, que você está utilizando. Para solicitar, clique no ícone de \"casinha\", na barra inferior, em seguida, clique no botão \"informe aqui\", lá você terá acesso a todos os serviços de forma simples e prática.',\n",
       "   'ANIMAIS SOLTOS \\nO que é o serviço? É o recolhimento de animais de grande porte (bovinos, bubalinos, equinos, muares e asininos) soltos em vias e logradouros públicos. Os Animais permanecem na Gerência de Apreensão de Animais para realização de exames obrigatórios e tem o prazo de 30 dias para serem reclamados pelo proprietário ou responsável legal. \\nInformações Importantes do serviço: É necessário que seja informado o local exato de onde está o animal. Para mais informações, acesse a Carta de Serviços da SEAGRI. \\nPrazo para prestação do serviço: O prazo para o recolhimento dos animais soltos é o mais rápido possível ou assim que a equipe de plantão estiver a postos, após ter atendido a demanda anterior.\\nComo solicitar o serviço: Você pode solicitar por meio do Portal de Serviços do GDF (https://servicos.df.gov.br/categorias?categoria=ADMINISTRA%C3%87%C3%83O%20REGIONAL%2024h&persona=Cidad%C3%A3o#servicos), através do telefone 156 ou pelo aplicativo eGDF, que você está utilizando. Para solicitar, clique no ícone de \"casinha\", na barra inferior, em seguida, clique no botão \"informe aqui\", lá você terá acesso a todos os serviços de forma simples e prática.'],\n",
       "  ['BUEIRO/BOCA DE LOBO/GRELHA/MEIO-FIO/TAMPA DE FERRO OU CONCRETO \\nO que é o serviço: É execução dos seguintes serviços: \\n• Reposição de tampa de boca de lobo em concreto e/ou ferro; \\n• Limpeza de bueiros / boca de lobos / grelha; e \\n• Reposição de grelha / tampa de ferro \\nInformações importantes do serviço de manutenção: \\n• As bocas de lobo e bueiros deverão estar em vias públicas; \\n• O serviço de limpeza da boca de lobo / bueiro é realizada em 2 etapas e por equipes diferentes: \\n    • A 1ª equipe realiza a limpeza e coloca o resíduo perto do bueiro; \\n    • A 2ª equipe, em um outro momento, recolhe o material. \\n• Já a reposição da tampa e outros acessórios é realizada em 3 etapas: \\n    • 1ª etapa - A Administração Regional faz uma visita prévia ao local para verificar se realmente é uma boca de lobo ou bueiro em via pública. Depois, identifica quais e quantos acessórios deverão ser substituídos ou reparados, e encaminha o relatório à Novacap; \\n    • 2ª etapa - As equipes da Novacap vão ao local indicado, e executam o serviço; \\n    • 3ª etapa - A Novacap retira todo entulho que sobrou do serviço executado. \\nRestrições do serviço: Os serviços de limpeza, desobstrução (desentupimento), reposição de acessórios (ex. troca de tampa) ou qualquer tipo de manutenção não são realizados em áreas particulares; \\n• Para mais informações, acesse a Carta de Serviços da NOVACAP (https://www.novacap.df.gov.br/wp-content/uploads/2017/06/Carta-de-Servicos-2021.pdf).\\nPrazo para prestação do serviço: Até 60 (sessenta) dias, podendo variar de acordo com a demanda.\\nComo solicitar o serviço: Você pode solicitar por meio do Portal de Serviços do GDF (https://servicos.df.gov.br/categorias?categoria=ADMINISTRA%C3%87%C3%83O%20REGIONAL%2024h&persona=Cidad%C3%A3o#servicos), através do telefone 156 ou pelo aplicativo eGDF, que você está utilizando. Para solicitar, clique no ícone de \"casinha\", na barra inferior, em seguida, clique no botão \"informe aqui\", lá você terá acesso a todos os serviços de forma simples e prática.',\n",
       "   'ORIENTAÇÃO PARA INSTALAÇÃO DE CONTÊINER\\nO que é o serviço? É o serviço de orientação à população quanto à localização adequada para instalação de contêineres, para permitir as manobras dos caminhões coletores. \\nInformações importantes do serviço:\\n• O usuário deve procurar a Administração Regional para a concessão do uso do espaço público (recuo ou rebaixamento de calçadas, disposição em vagas, não obstrução de vias ou saídas de condomínios, proximidade com residências, entre outros); \\n• A quantidade de contêineres deve ser adequada à geração de resíduos e suficiente para acondicionar os resíduos gerados por um período de 2 dias; \\n• Os contêineres devem conter: tampa, dispositivos de redução de ruídos, identificação do proprietário e do tipo de resíduos; \\n• Os contêineres devem ser devidamente identificados e, preferencialmente, possuir a cor conforme o resíduo acondicionado, sendo na cor verde para o resíduo reciclável seco e na cor cinza para os resíduos úmidos/indiferenciados; \\n• Somente o proprietário do contêiner pode solicitar a orientação de disposição adequada dos contêineres de resíduos (orgânicos e seletivos). \\nRestrições do serviço: \\n• O SLU não fornece contêiner, pois é um bem de uso particular. Sua aquisição, manutenção preventiva, corretiva e limpeza são de responsabilidade do proprietário; \\n• O SLU não possui competência para a fiscalização ou remoção de contêineres de lixo e/ou caçambas de entulho; \\n• É vedada a disposição de resíduos sólidos especiais (exemplo: saúde), materiais da logística reversa (exemplo: pneu, pilhas, entre outros), resíduos da construção civil, resíduos verdes (podas de árvores), animais mortos, volumosos (colchão, cama, sofá, etc) e que excedam a capacidade de armazenamento dos contêineres; \\n• Para mais informações, acesse a Carta de Serviços do SLU. \\nPrazo para prestação do serviço: A vistoria ocorrerá em até 7 (sete) dias do registro da solicitação. \\nComo solicitar o serviço: Você pode solicitar por meio do Portal de Serviços do GDF (https://servicos.df.gov.br/categorias?categoria=ADMINISTRA%C3%87%C3%83O%20REGIONAL%2024h&persona=Cidad%C3%A3o#servicos), através do telefone 156 ou pelo aplicativo eGDF, que você está utilizando. Para solicitar, clique no ícone de \"casinha\", na barra inferior, em seguida, clique no botão \"informe aqui\", lá você terá acesso a todos os serviços de forma simples e prática.',\n",
       "   'FISCALIZAÇÃO EM LOTE VAZIO SUJO \\nO que é o serviço? É a fiscalização de imóveis não edificados localizados dentro da área urbana do DF, com o objetivo de manter a propriedade limpa e conservada. \\nInformações importantes do serviço: Para mais informações, acesse a Carta de Serviços da DF LEGAL. \\nPrazo para prestação do serviço: 30 (trinta) dias, podendo variar de acordo com a demanda.\\nComo solicitar o serviço: Você pode solicitar por meio do Portal de Serviços do GDF (https://servicos.df.gov.br/categorias?categoria=ADMINISTRA%C3%87%C3%83O%20REGIONAL%2024h&persona=Cidad%C3%A3o#servicos), através do telefone 156 ou pelo aplicativo eGDF, que você está utilizando. Para solicitar, clique no ícone de \"casinha\", na barra inferior, em seguida, clique no botão \"informe aqui\", lá você terá acesso a todos os serviços de forma simples e prática.',\n",
       "   'ALAMBRADO (CERCAMENTO) \\nO que é o serviço? É a solicitação de manutenção em trechos do alambrado existente em quadras, campos ou outros equipamentos públicos feita pelo cidadão quando este perceber a necessidade de reparos na tela aramada ou na pintura. \\nInformações Importantes do serviço: Os serviços de reparos solicitados são vistoriados pela NOVACAP e incluídos na programação de execução. Para mais informações, acesse a Carta de Serviços da NOVACAP. \\nPrazo para prestação do serviço: O prazo para os reparos é de 120 (cento e vinte) dias.\\nComo solicitar o serviço: Você pode solicitar por meio do Portal de Serviços do GDF (https://servicos.df.gov.br/categorias?categoria=ADMINISTRA%C3%87%C3%83O%20REGIONAL%2024h&persona=Cidad%C3%A3o#servicos), através do telefone 156 ou pelo aplicativo eGDF, que você está utilizando. Para solicitar, clique no ícone de \"casinha\", na barra inferior, em seguida, clique no botão \"informe aqui\", lá você terá acesso a todos os serviços de forma simples e prática.'],\n",
       "  ['CICLOVIA OU CICLOFAIXA EM VIA URBANA \\nO que é o serviço? É o planejamento de implantação, manutenção e/ou reforma de ciclovias do DF. \\nInformações importantes do serviço: A SEMOB é responsável pela articulação com os órgãos que realizam e/ou executam projetos de infraestrutura viária (DER/DF, Detran-DF, Novacap, Seduh) e Secretaria de Obras.\\nImplantação de ciclovias: \\n• Novacap: Implanta infraestrutura de ciclovias no DF. \\nManutenção e reforma de ciclovias: Análise prévia no local e/ou via documento e aplicativos: Google Maps e Earth, aplicativo DF no Ponto e Geoportal.\\nPrazo para prestação do serviço: Até 180 (cento e oitenta dias), podendo variar de acordo com a demanda. O prazo está condicionado à disponibilidade contratual, bem como às prioridades de atendimento.\\nComo solicitar o serviço: Você pode solicitar por meio do Portal de Serviços do GDF (https://servicos.df.gov.br/categorias?categoria=ADMINISTRA%C3%87%C3%83O%20REGIONAL%2024h&persona=Cidad%C3%A3o#servicos), através do telefone 156 ou pelo aplicativo eGDF, que você está utilizando. Para solicitar, clique no ícone de \"casinha\", na barra inferior, em seguida, clique no botão \"informe aqui\", lá você terá acesso a todos os serviços de forma simples e prática.',\n",
       "   'CICLOVIA OU CICLOFAIXA EM RODOVIA \\nO que é o serviço? É a construção de uma nova ciclovia em via do Sistema Rodoviário do Distrito Federal. O cidadão pode solicitar a implantação de sinalização de ciclovia ou ciclofaixa, e/ou a manutenção ou restauração da ciclovia. \\nInformações importantes do serviço: \\n• Deve ser apresentada a necessidade da melhoria da via; \\n• Se possível, anexe fotos do local e dos problemas relatados. \\n• Para mais informações acesse a Carta de Serviços do DER (https://www.der.df.gov.br/category/carta-de-servicos/). \\nPrazo para prestação do serviço: Deverá ocorrer no prazo de 10 (dez) a 30 (trinta) dias conforme programação do Distrito Rodoviário. \\nComo solicitar o serviço: Você pode solicitar por meio do Portal de Serviços do GDF (https://servicos.df.gov.br/categorias?categoria=ADMINISTRA%C3%87%C3%83O%20REGIONAL%2024h&persona=Cidad%C3%A3o#servicos), através do telefone 156 ou pelo aplicativo eGDF, que você está utilizando. Para solicitar, clique no ícone de \"casinha\", na barra inferior, em seguida, clique no botão \"informe aqui\", lá você terá acesso a todos os serviços de forma simples e prática.',\n",
       "   'MANUTENÇÃO DE ESTRADAS E RODOVIAS \\nO que é o serviço? É a manutenção ou implantação de uma obra nova de pavimentação, viaduto, passarela, ponte, alargamento, faixa de pedestre e outros. \\nInformações importantes do serviço: Deve ser apresentada no relato a necessidade da melhoria da via, por meio de obra. Apresentar justificativa e o detalhamento do local e do defeito apresentado. Para mais informações acesse a Carta de Serviços do DER. \\nPrazo para prestação do serviço: O prazo é de 10 (dez) a 30 (trinta) dias, podendo ser prorrogado, conforme o tipo de serviço a ser executado. Uma vez identificado o ponto como de perigo iminente, o prazo para execução da operação é de 5 (cinco) dias. \\nComo solicitar o serviço: Você pode solicitar por meio do Portal de Serviços do GDF (https://servicos.df.gov.br/categorias?categoria=ADMINISTRA%C3%87%C3%83O%20REGIONAL%2024h&persona=Cidad%C3%A3o#servicos), através do telefone 156 ou pelo aplicativo eGDF, que você está utilizando. Para solicitar, clique no ícone de \"casinha\", na barra inferior, em seguida, clique no botão \"informe aqui\", lá você terá acesso a todos os serviços de forma simples e prática.',\n",
       "   'CALÇADA / MEIO-FIO / RAMPA \\n• Novacap: nas ciclovias do DF. \\n• Detran: responsável pela sinalização das ciclovias do DF. \\nO que é o serviço? Serviço de construção ou manutenção de calçada, meio-fio e/ou rampa de acessibilidade ao longo da via pública. \\nInformações importantes do serviço:\\n• As vias necessitam constar no Projeto Urbanístico Aprovado pelo DF; \\n• As Administrações Regionais indicarão um croqui georeferenciado identificando a área para construção ou manutenção da calçada; \\n• Uma equipe da Novacap realiza vistoria no local e quantifica os serviços necessários. \\nRestrições do serviço: Não será realizado o serviço em áreas particulares. \\n• Para mais informações acesse a Carta de Serviços da Novacap e/ou Carta de Serviços da SEMOB. \\nPrazo para prestação do serviço: Até 180 (cento e oitenta) dias, podendo variar de acordo com a demanda. Ver carta de serviço do órgão. \\nComo solicitar o serviço: Você pode solicitar por meio do Portal de Serviços do GDF (https://servicos.df.gov.br/categorias?categoria=ADMINISTRA%C3%87%C3%83O%20REGIONAL%2024h&persona=Cidad%C3%A3o#servicos), através do telefone 156 ou pelo aplicativo eGDF, que você está utilizando. Para solicitar, clique no ícone de \"casinha\", na barra inferior, em seguida, clique no botão \"informe aqui\", lá você terá acesso a todos os serviços de forma simples e prática.'],\n",
       "  ['FAIXA DE PEDESTRE / SINALIZAÇÃO VIÁRIA \\nO que é o serviço? : É a solicitação de criação, revitalização, remoção ou mudança do local de faixa de pedestre nas vias urbanas do DF, bem como de sinalização viária. \\nInformações importantes do serviço:\\n• O Detran fará uma análise e emitirá um parecer: \\n    • Se favorável, o Detran fará a instalação da sinalização de trânsito.\\n    • Se desfavorável, o Detran encaminhará correspondência informando os motivos da não implantação e as alternativas de tráfego mais indicadas para o local. \\n• Para mais informações, acesse a Carta de Serviços do Detran e/ou Carta de Serviços do DER. \\nPrazo para prestação do serviço: O prazo é superior à 30 (trinta) dias podendo variar de acordo com a demanda. Ver detalhamento dos prazos na carta de serviço do órgão.\\nComo solicitar o serviço: Você pode solicitar por meio do Portal de Serviços do GDF (https://servicos.df.gov.br/categorias?categoria=ADMINISTRA%C3%87%C3%83O%20REGIONAL%2024h&persona=Cidad%C3%A3o#servicos), através do telefone 156 ou pelo aplicativo eGDF, que você está utilizando. Para solicitar, clique no ícone de \"casinha\", na barra inferior, em seguida, clique no botão \"informe aqui\", lá você terá acesso a todos os serviços de forma simples e prática.',\n",
       "   'MANUTENÇÃO DE ESTRADAS E RODOVIAS \\nO que é o serviço? É a manutenção ou implantação de uma obra nova de pavimentação, viaduto, passarela, ponte, alargamento, faixa de pedestre e outros. \\nInformações importantes do serviço: Deve ser apresentada no relato a necessidade da melhoria da via, por meio de obra. Apresentar justificativa e o detalhamento do local e do defeito apresentado. Para mais informações acesse a Carta de Serviços do DER. \\nPrazo para prestação do serviço: O prazo é de 10 (dez) a 30 (trinta) dias, podendo ser prorrogado, conforme o tipo de serviço a ser executado. Uma vez identificado o ponto como de perigo iminente, o prazo para execução da operação é de 5 (cinco) dias. \\nComo solicitar o serviço: Você pode solicitar por meio do Portal de Serviços do GDF (https://servicos.df.gov.br/categorias?categoria=ADMINISTRA%C3%87%C3%83O%20REGIONAL%2024h&persona=Cidad%C3%A3o#servicos), através do telefone 156 ou pelo aplicativo eGDF, que você está utilizando. Para solicitar, clique no ícone de \"casinha\", na barra inferior, em seguida, clique no botão \"informe aqui\", lá você terá acesso a todos os serviços de forma simples e prática.',\n",
       "   'SINALIZAÇÃO DE TRÂNSITO EM VIAS PÚBLICAS \\nO que é o serviço? É a solicitação de sinalização de trânsito pelo cidadão quando este perceber a necessidade de instalação/revitalização de sinalização nas vias urbanas do Distrito Federal. Podem ser solicitados os serviços abaixo:\\n• Instalação de Sinalização de vagas especiais (deficiente/idoso); \\n• Instalação de placa nova;\\n• Instalação de fiscalização eletrônica;\\n• Revitalização de sinalização horizontal e vertical. \\nInformações Importantes do serviço: \\n• Se o parecer for favorável, proceder-se-á instalação da sinalização de trânsito;\\n• Se o parecer for desfavorável, o Detran-DF encaminhará correspondência elencando os motivos da não implantação, bem como, as alternativas de engenharia de tráfego mais aconselháveis para o local. Para mais informações, acesse a Carta de Serviços do Detran. \\nPrazo para prestação do serviço: O prazo para emissão do parecer é de 30 (trinta) dias. O prazo para implantação da sinalização de trânsito irá depender da complexidade do tipo de sinalização e do local.\\nComo solicitar o serviço: Você pode solicitar por meio do Portal de Serviços do GDF (https://servicos.df.gov.br/categorias?categoria=ADMINISTRA%C3%87%C3%83O%20REGIONAL%2024h&persona=Cidad%C3%A3o#servicos), através do telefone 156 ou pelo aplicativo eGDF, que você está utilizando. Para solicitar, clique no ícone de \"casinha\", na barra inferior, em seguida, clique no botão \"informe aqui\", lá você terá acesso a todos os serviços de forma simples e prática.',\n",
       "   'ESTACIONAMENTOS \\nO que é o serviço? É a solicitação de manutenção de estacionamentos em pavimento asfáltico em áreas urbanas na qual o cidadão quando perceber a necessidade de revitalização do pavimento, da sinalização do local ou falta de acessibilidade para condutores pode solicitar os serviços abaixo: \\n• Revitalização de sinalização horizontal e vertical; \\n• Manutenção da pavimentação asfáltica; \\n• Instalação de rampas de acesso para cadeirantes. \\nInformações Importantes do serviço: Para a instalação de rampas de acesso a RA faz uma vistoria no local para análise de viabilidade de execução. Para mais informações, acesse a Carta de Serviços do Detran e/ou a Carta de Serviços da NOVACAP. \\nPrazo para prestação do serviço: O prazo para a revitalização da sinalização é 30 dias. O prazo para ser realizada a manutenção da pavimentação é de 30 dias. O prazo para execução de rampas de acesso é de 30 dias. \\nComo solicitar o serviço: Você pode solicitar por meio do Portal de Serviços do GDF (https://servicos.df.gov.br/categorias?categoria=ADMINISTRA%C3%87%C3%83O%20REGIONAL%2024h&persona=Cidad%C3%A3o#servicos), através do telefone 156 ou pelo aplicativo eGDF, que você está utilizando. Para solicitar, clique no ícone de \"casinha\", na barra inferior, em seguida, clique no botão \"informe aqui\", lá você terá acesso a todos os serviços de forma simples e prática.'],\n",
       "  ['ILUMINAÇÃO PÚBLICA \\nO que é o serviço? Compreende os seguintes serviços:\\n• Manutenção de Iluminação Pública (manutenção e substituição de iluminarias, troca de postes, remanejamento de postes de iluminação pública);\\n• Implantação e ampliação de parque de Iluminação Pública (obras em lugares onde não existe um parque de Iluminação Pública ou ampliação da iluminação em um parque que não atende mais as demandas da região.)\\nInformações importantes do serviço: \\n• A CEB é responsável pela execução e fiscalização dos serviços; \\n• Os pedidos de implantação e ampliação do parque de iluminação pública feitos pelo cidadão serão qualificados conforme os requisitos necessários;\\n• Para mais informações, acesse a Carta de Serviços da SODF. \\nPrazo para prestação do serviço: Os prazos para as ordens de serviço variam de acordo com a demanda.\\nComo solicitar o serviço: Você pode solicitar por meio do Portal de Serviços do GDF (https://servicos.df.gov.br/categorias?categoria=ADMINISTRA%C3%87%C3%83O%20REGIONAL%2024h&persona=Cidad%C3%A3o#servicos), através do telefone 156 ou pelo aplicativo eGDF, que você está utilizando. Para solicitar, clique no ícone de \"casinha\", na barra inferior, em seguida, clique no botão \"informe aqui\", lá você terá acesso a todos os serviços de forma simples e prática.',\n",
       "   'MANUTENÇÃO DE ESTRADAS E RODOVIAS \\nO que é o serviço? É a manutenção ou implantação de uma obra nova de pavimentação, viaduto, passarela, ponte, alargamento, faixa de pedestre e outros. \\nInformações importantes do serviço: Deve ser apresentada no relato a necessidade da melhoria da via, por meio de obra. Apresentar justificativa e o detalhamento do local e do defeito apresentado. Para mais informações acesse a Carta de Serviços do DER. \\nPrazo para prestação do serviço: O prazo é de 10 (dez) a 30 (trinta) dias, podendo ser prorrogado, conforme o tipo de serviço a ser executado. Uma vez identificado o ponto como de perigo iminente, o prazo para execução da operação é de 5 (cinco) dias. \\nComo solicitar o serviço: Você pode solicitar por meio do Portal de Serviços do GDF (https://servicos.df.gov.br/categorias?categoria=ADMINISTRA%C3%87%C3%83O%20REGIONAL%2024h&persona=Cidad%C3%A3o#servicos), através do telefone 156 ou pelo aplicativo eGDF, que você está utilizando. Para solicitar, clique no ícone de \"casinha\", na barra inferior, em seguida, clique no botão \"informe aqui\", lá você terá acesso a todos os serviços de forma simples e prática.',\n",
       "   'PRAÇAS E JARDINS \\nO que é o serviço? É o reparo, revitalização ou construção de praças e ou jardins em área pública. \\nInformações importantes do serviço: \\n• Serviço realizado em área pública e de acordo com o plano urbanístico da região; \\n• A instalação depende de disponibilidade orçamentária para a execução do serviço; \\n• Para mais informações, acesse a Carta de Serviços da NOVACAP.\\nPrazo para prestação do serviço: 60 dias, podendo variar de acordo com a demanda. Quando constatado risco a vida, são acionados procedimentos de emergência para o atendimento de determinados serviços.\\nComo solicitar o serviço: Você pode solicitar por meio do Portal de Serviços do GDF (https://servicos.df.gov.br/categorias?categoria=ADMINISTRA%C3%87%C3%83O%20REGIONAL%2024h&persona=Cidad%C3%A3o#servicos), através do telefone 156 ou pelo aplicativo eGDF, que você está utilizando. Para solicitar, clique no ícone de \"casinha\", na barra inferior, em seguida, clique no botão \"informe aqui\", lá você terá acesso a todos os serviços de forma simples e prática.',\n",
       "   'SINALIZAÇÃO DE TRÂNSITO EM VIAS PÚBLICAS \\nO que é o serviço? É a solicitação de sinalização de trânsito pelo cidadão quando este perceber a necessidade de instalação/revitalização de sinalização nas vias urbanas do Distrito Federal. Podem ser solicitados os serviços abaixo:\\n• Instalação de Sinalização de vagas especiais (deficiente/idoso); \\n• Instalação de placa nova;\\n• Instalação de fiscalização eletrônica;\\n• Revitalização de sinalização horizontal e vertical. \\nInformações Importantes do serviço: \\n• Se o parecer for favorável, proceder-se-á instalação da sinalização de trânsito;\\n• Se o parecer for desfavorável, o Detran-DF encaminhará correspondência elencando os motivos da não implantação, bem como, as alternativas de engenharia de tráfego mais aconselháveis para o local. Para mais informações, acesse a Carta de Serviços do Detran. \\nPrazo para prestação do serviço: O prazo para emissão do parecer é de 30 (trinta) dias. O prazo para implantação da sinalização de trânsito irá depender da complexidade do tipo de sinalização e do local.\\nComo solicitar o serviço: Você pode solicitar por meio do Portal de Serviços do GDF (https://servicos.df.gov.br/categorias?categoria=ADMINISTRA%C3%87%C3%83O%20REGIONAL%2024h&persona=Cidad%C3%A3o#servicos), através do telefone 156 ou pelo aplicativo eGDF, que você está utilizando. Para solicitar, clique no ícone de \"casinha\", na barra inferior, em seguida, clique no botão \"informe aqui\", lá você terá acesso a todos os serviços de forma simples e prática.'],\n",
       "  ['PARQUINHOS INFANTIS \\nO que é o serviço? É a instalação e manutenção dos equipamentos referentes aos parquinhos infantis em área pública. \\nInformações importantes do serviço:\\n• A NOVACAP somente poderá executar esses serviços em áreas públicas se demandados pela Administração Regional e SECID/GDF, que definirão os locais de implantação dos mobiliários urbanos, de acordo com o Plano Urbanístico. \\n• A instalação de mobiliário urbano pela NOVACAP está condicionada à disponibilidade orçamentária, bem como à vigência de Ata de Registro de Preços em vigor na Companhia;\\n• Para mais informações, acesse a Carta de Serviços da NOVACAP. \\nPrazo para prestação do serviço: Até 60 dias, podendo variar conforme demanda. Ver carta de serviços do órgão.\\nComo solicitar o serviço: Você pode solicitar por meio do Portal de Serviços do GDF (https://servicos.df.gov.br/categorias?categoria=ADMINISTRA%C3%87%C3%83O%20REGIONAL%2024h&persona=Cidad%C3%A3o#servicos), através do telefone 156 ou pelo aplicativo eGDF, que você está utilizando. Para solicitar, clique no ícone de \"casinha\", na barra inferior, em seguida, clique no botão \"informe aqui\", lá você terá acesso a todos os serviços de forma simples e prática.',\n",
       "   'PISTA DE SKATE \\nO que é o serviço? É a revitalização ou construção de pista de skate (skate park) em área pública. \\nInformações importantes do serviço: \\n• Descreva em seu relato o local onde o serviço de ser realizado; \\n• Se possível, anexe fotos do local e dos problemas relatados; \\n• Para mais informações, acesse a Carta de Serviços da NOVACAP. \\nPrazo para prestação do serviço: 60 (sessenta) dias, podendo variar de acordo com a demanda. Quando constatado risco a vida, são acionados procedimentos de emergência para o atendimento de determinados serviços.\\nComo solicitar o serviço: Você pode solicitar por meio do Portal de Serviços do GDF (https://servicos.df.gov.br/categorias?categoria=ADMINISTRA%C3%87%C3%83O%20REGIONAL%2024h&persona=Cidad%C3%A3o#servicos), através do telefone 156 ou pelo aplicativo eGDF, que você está utilizando. Para solicitar, clique no ícone de \"casinha\", na barra inferior, em seguida, clique no botão \"informe aqui\", lá você terá acesso a todos os serviços de forma simples e prática.',\n",
       "   'ESTACIONAMENTOS \\nO que é o serviço? É a solicitação de manutenção de estacionamentos em pavimento asfáltico em áreas urbanas na qual o cidadão quando perceber a necessidade de revitalização do pavimento, da sinalização do local ou falta de acessibilidade para condutores pode solicitar os serviços abaixo: \\n• Revitalização de sinalização horizontal e vertical; \\n• Manutenção da pavimentação asfáltica; \\n• Instalação de rampas de acesso para cadeirantes. \\nInformações Importantes do serviço: Para a instalação de rampas de acesso a RA faz uma vistoria no local para análise de viabilidade de execução. Para mais informações, acesse a Carta de Serviços do Detran e/ou a Carta de Serviços da NOVACAP. \\nPrazo para prestação do serviço: O prazo para a revitalização da sinalização é 30 dias. O prazo para ser realizada a manutenção da pavimentação é de 30 dias. O prazo para execução de rampas de acesso é de 30 dias. \\nComo solicitar o serviço: Você pode solicitar por meio do Portal de Serviços do GDF (https://servicos.df.gov.br/categorias?categoria=ADMINISTRA%C3%87%C3%83O%20REGIONAL%2024h&persona=Cidad%C3%A3o#servicos), através do telefone 156 ou pelo aplicativo eGDF, que você está utilizando. Para solicitar, clique no ícone de \"casinha\", na barra inferior, em seguida, clique no botão \"informe aqui\", lá você terá acesso a todos os serviços de forma simples e prática.',\n",
       "   'PRAÇAS E JARDINS \\nO que é o serviço? É o reparo, revitalização ou construção de praças e ou jardins em área pública. \\nInformações importantes do serviço: \\n• Serviço realizado em área pública e de acordo com o plano urbanístico da região; \\n• A instalação depende de disponibilidade orçamentária para a execução do serviço; \\n• Para mais informações, acesse a Carta de Serviços da NOVACAP.\\nPrazo para prestação do serviço: 60 dias, podendo variar de acordo com a demanda. Quando constatado risco a vida, são acionados procedimentos de emergência para o atendimento de determinados serviços.\\nComo solicitar o serviço: Você pode solicitar por meio do Portal de Serviços do GDF (https://servicos.df.gov.br/categorias?categoria=ADMINISTRA%C3%87%C3%83O%20REGIONAL%2024h&persona=Cidad%C3%A3o#servicos), através do telefone 156 ou pelo aplicativo eGDF, que você está utilizando. Para solicitar, clique no ícone de \"casinha\", na barra inferior, em seguida, clique no botão \"informe aqui\", lá você terá acesso a todos os serviços de forma simples e prática.']],\n",
       " 'ground_truths': [['Acumulador de entulho é um problema de saúde pública que pode ser solicitado à Secretaria de Saúde do DF para análise e ações de solução do problema.'],\n",
       "  ['O serviço de limpeza de grelha é a remoção de resíduos e sujeira das grelhas localizadas em vias públicas, garantindo o bom funcionamento do sistema de drenagem e evitando alagamentos.'],\n",
       "  ['Você pode solicitar por meio do Portal de Serviços do GDF (https://servicos.df.gov.br/categorias?categoria=ADMINISTRA%C3%87%C3%83O%20REGIONAL%2024h&persona=Cidad%C3%A3o#servicos), através do telefone 156 ou pelo aplicativo eGDF, que você está utilizando. Para solicitar, clique no ícone de casinha, na barra inferior, em seguida, clique no botão informe aqui, lá você terá acesso a todos os serviços de forma simples e prática.'],\n",
       "  ['O prazo é superior à 30 (trinta) dias podendo variar de acordo com a demanda. Ver detalhamento dos prazos na carta de serviço do órgão.'],\n",
       "  ['Os prazos para as ordens de serviço variam de acordo com a demanda.'],\n",
       "  ['É uma garrafa de cerveja']]}"
      ]
     },
     "execution_count": 38,
     "metadata": {},
     "output_type": "execute_result"
    }
   ],
   "source": [
    "from datasets import Dataset\n",
    "\n",
    "questions = [\n",
    "             \"O que é Acumulador de entulho?\",\n",
    "             \"O que é o serviço de limpeza de Grelha?\",\n",
    "             \"Como solicitar o serviço de implantação, manutenção e/ou reforma de ciclovias do DF?\",\n",
    "             \"Prazo pra prestação do serviço de criação, revitalização, remoção ou mudança Faixa de pedestre / Sinalização Viária?\",\n",
    "             \"Prazo pra prestação do serviço de Iluminação pública?\",\n",
    "             \"O que é Instalação de Parquinhos infantis?\",\n",
    "            ]\n",
    "\n",
    "ground_truths = [\n",
    "                [\"Acumulador de entulho é um problema de saúde pública que pode ser solicitado à Secretaria de Saúde do DF para análise e ações de solução do problema.\"],\n",
    "                [\"O serviço de limpeza de grelha é a remoção de resíduos e sujeira das grelhas localizadas em vias públicas, garantindo o bom funcionamento do sistema de drenagem e evitando alagamentos.\"], \n",
    "                [\"Você pode solicitar por meio do Portal de Serviços do GDF (https://servicos.df.gov.br/categorias?categoria=ADMINISTRA%C3%87%C3%83O%20REGIONAL%2024h&persona=Cidad%C3%A3o#servicos), através do telefone 156 ou pelo aplicativo eGDF, que você está utilizando. Para solicitar, clique no ícone de \"\"casinha\"\", na barra inferior, em seguida, clique no botão \"\"informe aqui\"\", lá você terá acesso a todos os serviços de forma simples e prática.\"],\n",
    "                [\"O prazo é superior à 30 (trinta) dias podendo variar de acordo com a demanda. Ver detalhamento dos prazos na carta de serviço do órgão.\"],\n",
    "                [\"Os prazos para as ordens de serviço variam de acordo com a demanda.\"],\n",
    "                [\"É uma garrafa de cerveja\"]  #\"É a instalação e manutenção dos equipamentos referentes aos parquinhos infantis em área pública.\", # É uma garrafa de cerveja.\n",
    "               ]\n",
    "\n",
    "answers = []\n",
    "contexts = []\n",
    "\n",
    "# Inference\n",
    "for query in questions:\n",
    "  answers.append(rag_chain.invoke(query))\n",
    "  contexts.append([docs.page_content for docs in retriever.get_relevant_documents(query)])\n",
    "\n",
    "# To dict\n",
    "data = {\n",
    "    \"question\": questions,\n",
    "    \"answer\": answers,\n",
    "    \"contexts\": contexts,\n",
    "    \"ground_truths\": ground_truths\n",
    "}\n",
    "\n",
    "\n",
    "data\n"
   ]
  },
  {
   "cell_type": "code",
   "execution_count": 39,
   "metadata": {},
   "outputs": [
    {
     "data": {
      "text/plain": [
       "Dataset({\n",
       "    features: ['question', 'answer', 'contexts', 'ground_truths'],\n",
       "    num_rows: 6\n",
       "})"
      ]
     },
     "execution_count": 39,
     "metadata": {},
     "output_type": "execute_result"
    }
   ],
   "source": [
    "# Convert dict to dataset\n",
    "dataset = Dataset.from_dict(data)\n",
    "\n",
    "dataset"
   ]
  },
  {
   "cell_type": "code",
   "execution_count": 40,
   "metadata": {},
   "outputs": [
    {
     "data": {
      "text/html": [
       "<div>\n",
       "<style scoped>\n",
       "    .dataframe tbody tr th:only-of-type {\n",
       "        vertical-align: middle;\n",
       "    }\n",
       "\n",
       "    .dataframe tbody tr th {\n",
       "        vertical-align: top;\n",
       "    }\n",
       "\n",
       "    .dataframe thead th {\n",
       "        text-align: right;\n",
       "    }\n",
       "</style>\n",
       "<table border=\"1\" class=\"dataframe\">\n",
       "  <thead>\n",
       "    <tr style=\"text-align: right;\">\n",
       "      <th></th>\n",
       "      <th>question</th>\n",
       "      <th>answer</th>\n",
       "      <th>contexts</th>\n",
       "      <th>ground_truths</th>\n",
       "    </tr>\n",
       "  </thead>\n",
       "  <tbody>\n",
       "    <tr>\n",
       "      <th>0</th>\n",
       "      <td>O que é Acumulador de entulho?</td>\n",
       "      <td>O Acumulador de entulho é um serviço para lida...</td>\n",
       "      <td>[ACUMULADOR DE ENTULHO \\nO que é o serviço? A ...</td>\n",
       "      <td>[Acumulador de entulho é um problema de saúde ...</td>\n",
       "    </tr>\n",
       "    <tr>\n",
       "      <th>1</th>\n",
       "      <td>O que é o serviço de limpeza de Grelha?</td>\n",
       "      <td>O serviço de limpeza de grelha consiste na rep...</td>\n",
       "      <td>[BUEIRO/BOCA DE LOBO/GRELHA/MEIO-FIO/TAMPA DE ...</td>\n",
       "      <td>[O serviço de limpeza de grelha é a remoção de...</td>\n",
       "    </tr>\n",
       "    <tr>\n",
       "      <th>2</th>\n",
       "      <td>Como solicitar o serviço de implantação, manut...</td>\n",
       "      <td>Você pode solicitar o serviço de implantação, ...</td>\n",
       "      <td>[CICLOVIA OU CICLOFAIXA EM VIA URBANA \\nO que ...</td>\n",
       "      <td>[Você pode solicitar por meio do Portal de Ser...</td>\n",
       "    </tr>\n",
       "    <tr>\n",
       "      <th>3</th>\n",
       "      <td>Prazo pra prestação do serviço de criação, rev...</td>\n",
       "      <td>O prazo para prestação do serviço de criação, ...</td>\n",
       "      <td>[FAIXA DE PEDESTRE / SINALIZAÇÃO VIÁRIA \\nO qu...</td>\n",
       "      <td>[O prazo é superior à 30 (trinta) dias podendo...</td>\n",
       "    </tr>\n",
       "    <tr>\n",
       "      <th>4</th>\n",
       "      <td>Prazo pra prestação do serviço de Iluminação p...</td>\n",
       "      <td>O prazo para prestação do serviço de Iluminaçã...</td>\n",
       "      <td>[ILUMINAÇÃO PÚBLICA \\nO que é o serviço? Compr...</td>\n",
       "      <td>[Os prazos para as ordens de serviço variam de...</td>\n",
       "    </tr>\n",
       "    <tr>\n",
       "      <th>5</th>\n",
       "      <td>O que é Instalação de Parquinhos infantis?</td>\n",
       "      <td>Instalação de Parquinhos infantis é a instalaç...</td>\n",
       "      <td>[PARQUINHOS INFANTIS \\nO que é o serviço? É a ...</td>\n",
       "      <td>[É uma garrafa de cerveja]</td>\n",
       "    </tr>\n",
       "  </tbody>\n",
       "</table>\n",
       "</div>"
      ],
      "text/plain": [
       "                                            question  \\\n",
       "0                     O que é Acumulador de entulho?   \n",
       "1            O que é o serviço de limpeza de Grelha?   \n",
       "2  Como solicitar o serviço de implantação, manut...   \n",
       "3  Prazo pra prestação do serviço de criação, rev...   \n",
       "4  Prazo pra prestação do serviço de Iluminação p...   \n",
       "5         O que é Instalação de Parquinhos infantis?   \n",
       "\n",
       "                                              answer  \\\n",
       "0  O Acumulador de entulho é um serviço para lida...   \n",
       "1  O serviço de limpeza de grelha consiste na rep...   \n",
       "2  Você pode solicitar o serviço de implantação, ...   \n",
       "3  O prazo para prestação do serviço de criação, ...   \n",
       "4  O prazo para prestação do serviço de Iluminaçã...   \n",
       "5  Instalação de Parquinhos infantis é a instalaç...   \n",
       "\n",
       "                                            contexts  \\\n",
       "0  [ACUMULADOR DE ENTULHO \\nO que é o serviço? A ...   \n",
       "1  [BUEIRO/BOCA DE LOBO/GRELHA/MEIO-FIO/TAMPA DE ...   \n",
       "2  [CICLOVIA OU CICLOFAIXA EM VIA URBANA \\nO que ...   \n",
       "3  [FAIXA DE PEDESTRE / SINALIZAÇÃO VIÁRIA \\nO qu...   \n",
       "4  [ILUMINAÇÃO PÚBLICA \\nO que é o serviço? Compr...   \n",
       "5  [PARQUINHOS INFANTIS \\nO que é o serviço? É a ...   \n",
       "\n",
       "                                       ground_truths  \n",
       "0  [Acumulador de entulho é um problema de saúde ...  \n",
       "1  [O serviço de limpeza de grelha é a remoção de...  \n",
       "2  [Você pode solicitar por meio do Portal de Ser...  \n",
       "3  [O prazo é superior à 30 (trinta) dias podendo...  \n",
       "4  [Os prazos para as ordens de serviço variam de...  \n",
       "5                         [É uma garrafa de cerveja]  "
      ]
     },
     "execution_count": 40,
     "metadata": {},
     "output_type": "execute_result"
    }
   ],
   "source": [
    "# Aqui vou passar para DataFrame, só para ter uma maior claridade:\n",
    "import pandas as pd\n",
    "\n",
    "df_eddy = pd.DataFrame(dataset)\n",
    "df_eddy.head(10)\n"
   ]
  },
  {
   "cell_type": "code",
   "execution_count": 41,
   "metadata": {},
   "outputs": [
    {
     "data": {
      "text/plain": [
       "(6, 4)"
      ]
     },
     "execution_count": 41,
     "metadata": {},
     "output_type": "execute_result"
    }
   ],
   "source": [
    "df_eddy.shape\n"
   ]
  },
  {
   "cell_type": "markdown",
   "metadata": {},
   "source": [
    "### <font color=\"red\">Avaliando o aplicativo RAG</font>"
   ]
  },
  {
   "cell_type": "markdown",
   "metadata": {},
   "source": [
    "<font color=\"orange\">Primeiro, importe todas as MÉTRICAS que deseja usar do `ragas.metrics`. Então, você pode usar a função `evaluate()` e simplesmente passar as métricas relevantes e o conjunto de dados preparado.</font>"
   ]
  },
  {
   "cell_type": "code",
   "execution_count": 42,
   "metadata": {},
   "outputs": [
    {
     "name": "stdout",
     "output_type": "stream",
     "text": [
      "evaluating with [context_precision]\n"
     ]
    },
    {
     "name": "stderr",
     "output_type": "stream",
     "text": [
      "100%|██████████| 1/1 [00:01<00:00,  1.90s/it]\n"
     ]
    },
    {
     "name": "stdout",
     "output_type": "stream",
     "text": [
      "evaluating with [context_recall]\n"
     ]
    },
    {
     "name": "stderr",
     "output_type": "stream",
     "text": [
      "100%|██████████| 1/1 [00:03<00:00,  3.30s/it]\n"
     ]
    },
    {
     "name": "stdout",
     "output_type": "stream",
     "text": [
      "evaluating with [faithfulness]\n"
     ]
    },
    {
     "name": "stderr",
     "output_type": "stream",
     "text": [
      "100%|██████████| 1/1 [00:05<00:00,  5.01s/it]\n"
     ]
    },
    {
     "name": "stdout",
     "output_type": "stream",
     "text": [
      "evaluating with [answer_relevancy]\n"
     ]
    },
    {
     "name": "stderr",
     "output_type": "stream",
     "text": [
      "100%|██████████| 1/1 [00:06<00:00,  6.11s/it]\n"
     ]
    },
    {
     "data": {
      "text/plain": [
       "{'context_precision': 0.1667, 'context_recall': 0.8333, 'faithfulness': 0.9444, 'answer_relevancy': 0.9077}"
      ]
     },
     "execution_count": 42,
     "metadata": {},
     "output_type": "execute_result"
    }
   ],
   "source": [
    "from ragas import evaluate\n",
    "\n",
    "from ragas.metrics import (faithfulness,\n",
    "                           answer_relevancy,\n",
    "                           context_recall,\n",
    "                           context_precision,\n",
    "                          )\n",
    "\n",
    "\n",
    "result = evaluate(dataset = dataset, \n",
    "                  metrics=[context_precision,\n",
    "                           context_recall,\n",
    "                           faithfulness,\n",
    "                           answer_relevancy,\n",
    "                          ],\n",
    "                 )\n",
    "\n",
    "\n",
    "result"
   ]
  },
  {
   "cell_type": "code",
   "execution_count": 43,
   "metadata": {},
   "outputs": [
    {
     "data": {
      "text/html": [
       "<div>\n",
       "<style scoped>\n",
       "    .dataframe tbody tr th:only-of-type {\n",
       "        vertical-align: middle;\n",
       "    }\n",
       "\n",
       "    .dataframe tbody tr th {\n",
       "        vertical-align: top;\n",
       "    }\n",
       "\n",
       "    .dataframe thead th {\n",
       "        text-align: right;\n",
       "    }\n",
       "</style>\n",
       "<table border=\"1\" class=\"dataframe\">\n",
       "  <thead>\n",
       "    <tr style=\"text-align: right;\">\n",
       "      <th></th>\n",
       "      <th>question</th>\n",
       "      <th>answer</th>\n",
       "      <th>contexts</th>\n",
       "      <th>ground_truths</th>\n",
       "      <th>context_precision</th>\n",
       "      <th>context_recall</th>\n",
       "      <th>faithfulness</th>\n",
       "      <th>answer_relevancy</th>\n",
       "    </tr>\n",
       "  </thead>\n",
       "  <tbody>\n",
       "    <tr>\n",
       "      <th>0</th>\n",
       "      <td>O que é Acumulador de entulho?</td>\n",
       "      <td>O Acumulador de entulho é um serviço para lida...</td>\n",
       "      <td>[ACUMULADOR DE ENTULHO \\nO que é o serviço? A ...</td>\n",
       "      <td>[Acumulador de entulho é um problema de saúde ...</td>\n",
       "      <td>0.0</td>\n",
       "      <td>1.0</td>\n",
       "      <td>1.000000</td>\n",
       "      <td>0.818544</td>\n",
       "    </tr>\n",
       "    <tr>\n",
       "      <th>1</th>\n",
       "      <td>O que é o serviço de limpeza de Grelha?</td>\n",
       "      <td>O serviço de limpeza de grelha consiste na rep...</td>\n",
       "      <td>[BUEIRO/BOCA DE LOBO/GRELHA/MEIO-FIO/TAMPA DE ...</td>\n",
       "      <td>[O serviço de limpeza de grelha é a remoção de...</td>\n",
       "      <td>0.0</td>\n",
       "      <td>1.0</td>\n",
       "      <td>0.666667</td>\n",
       "      <td>0.963392</td>\n",
       "    </tr>\n",
       "    <tr>\n",
       "      <th>2</th>\n",
       "      <td>Como solicitar o serviço de implantação, manut...</td>\n",
       "      <td>Você pode solicitar o serviço de implantação, ...</td>\n",
       "      <td>[CICLOVIA OU CICLOFAIXA EM VIA URBANA \\nO que ...</td>\n",
       "      <td>[Você pode solicitar por meio do Portal de Ser...</td>\n",
       "      <td>1.0</td>\n",
       "      <td>1.0</td>\n",
       "      <td>1.000000</td>\n",
       "      <td>0.893880</td>\n",
       "    </tr>\n",
       "    <tr>\n",
       "      <th>3</th>\n",
       "      <td>Prazo pra prestação do serviço de criação, rev...</td>\n",
       "      <td>O prazo para prestação do serviço de criação, ...</td>\n",
       "      <td>[FAIXA DE PEDESTRE / SINALIZAÇÃO VIÁRIA \\nO qu...</td>\n",
       "      <td>[O prazo é superior à 30 (trinta) dias podendo...</td>\n",
       "      <td>0.0</td>\n",
       "      <td>1.0</td>\n",
       "      <td>1.000000</td>\n",
       "      <td>0.896015</td>\n",
       "    </tr>\n",
       "    <tr>\n",
       "      <th>4</th>\n",
       "      <td>Prazo pra prestação do serviço de Iluminação p...</td>\n",
       "      <td>O prazo para prestação do serviço de Iluminaçã...</td>\n",
       "      <td>[ILUMINAÇÃO PÚBLICA \\nO que é o serviço? Compr...</td>\n",
       "      <td>[Os prazos para as ordens de serviço variam de...</td>\n",
       "      <td>0.0</td>\n",
       "      <td>1.0</td>\n",
       "      <td>1.000000</td>\n",
       "      <td>0.905807</td>\n",
       "    </tr>\n",
       "    <tr>\n",
       "      <th>5</th>\n",
       "      <td>O que é Instalação de Parquinhos infantis?</td>\n",
       "      <td>Instalação de Parquinhos infantis é a instalaç...</td>\n",
       "      <td>[PARQUINHOS INFANTIS \\nO que é o serviço? É a ...</td>\n",
       "      <td>[É uma garrafa de cerveja]</td>\n",
       "      <td>0.0</td>\n",
       "      <td>0.0</td>\n",
       "      <td>1.000000</td>\n",
       "      <td>0.968439</td>\n",
       "    </tr>\n",
       "  </tbody>\n",
       "</table>\n",
       "</div>"
      ],
      "text/plain": [
       "                                            question  \\\n",
       "0                     O que é Acumulador de entulho?   \n",
       "1            O que é o serviço de limpeza de Grelha?   \n",
       "2  Como solicitar o serviço de implantação, manut...   \n",
       "3  Prazo pra prestação do serviço de criação, rev...   \n",
       "4  Prazo pra prestação do serviço de Iluminação p...   \n",
       "5         O que é Instalação de Parquinhos infantis?   \n",
       "\n",
       "                                              answer  \\\n",
       "0  O Acumulador de entulho é um serviço para lida...   \n",
       "1  O serviço de limpeza de grelha consiste na rep...   \n",
       "2  Você pode solicitar o serviço de implantação, ...   \n",
       "3  O prazo para prestação do serviço de criação, ...   \n",
       "4  O prazo para prestação do serviço de Iluminaçã...   \n",
       "5  Instalação de Parquinhos infantis é a instalaç...   \n",
       "\n",
       "                                            contexts  \\\n",
       "0  [ACUMULADOR DE ENTULHO \\nO que é o serviço? A ...   \n",
       "1  [BUEIRO/BOCA DE LOBO/GRELHA/MEIO-FIO/TAMPA DE ...   \n",
       "2  [CICLOVIA OU CICLOFAIXA EM VIA URBANA \\nO que ...   \n",
       "3  [FAIXA DE PEDESTRE / SINALIZAÇÃO VIÁRIA \\nO qu...   \n",
       "4  [ILUMINAÇÃO PÚBLICA \\nO que é o serviço? Compr...   \n",
       "5  [PARQUINHOS INFANTIS \\nO que é o serviço? É a ...   \n",
       "\n",
       "                                       ground_truths  context_precision  \\\n",
       "0  [Acumulador de entulho é um problema de saúde ...                0.0   \n",
       "1  [O serviço de limpeza de grelha é a remoção de...                0.0   \n",
       "2  [Você pode solicitar por meio do Portal de Ser...                1.0   \n",
       "3  [O prazo é superior à 30 (trinta) dias podendo...                0.0   \n",
       "4  [Os prazos para as ordens de serviço variam de...                0.0   \n",
       "5                         [É uma garrafa de cerveja]                0.0   \n",
       "\n",
       "   context_recall  faithfulness  answer_relevancy  \n",
       "0             1.0      1.000000          0.818544  \n",
       "1             1.0      0.666667          0.963392  \n",
       "2             1.0      1.000000          0.893880  \n",
       "3             1.0      1.000000          0.896015  \n",
       "4             1.0      1.000000          0.905807  \n",
       "5             0.0      1.000000          0.968439  "
      ]
     },
     "execution_count": 43,
     "metadata": {},
     "output_type": "execute_result"
    }
   ],
   "source": [
    "df = result.to_pandas()\n",
    "\n",
    "df.head(10)"
   ]
  },
  {
   "cell_type": "code",
   "execution_count": 37,
   "metadata": {},
   "outputs": [
    {
     "data": {
      "text/html": [
       "<div>\n",
       "<style scoped>\n",
       "    .dataframe tbody tr th:only-of-type {\n",
       "        vertical-align: middle;\n",
       "    }\n",
       "\n",
       "    .dataframe tbody tr th {\n",
       "        vertical-align: top;\n",
       "    }\n",
       "\n",
       "    .dataframe thead th {\n",
       "        text-align: right;\n",
       "    }\n",
       "</style>\n",
       "<table border=\"1\" class=\"dataframe\">\n",
       "  <thead>\n",
       "    <tr style=\"text-align: right;\">\n",
       "      <th></th>\n",
       "      <th>question</th>\n",
       "      <th>answer</th>\n",
       "      <th>contexts</th>\n",
       "      <th>ground_truths</th>\n",
       "      <th>context_precision</th>\n",
       "      <th>context_recall</th>\n",
       "      <th>faithfulness</th>\n",
       "      <th>answer_relevancy</th>\n",
       "    </tr>\n",
       "  </thead>\n",
       "  <tbody>\n",
       "    <tr>\n",
       "      <th>0</th>\n",
       "      <td>O que é Acumulador de entulho?</td>\n",
       "      <td>O Acumulador de entulho é um problema de saúde...</td>\n",
       "      <td>[ACUMULADOR DE ENTULHO \\nO que é o serviço? A ...</td>\n",
       "      <td>[Acumulador de entulho é um problema de saúde ...</td>\n",
       "      <td>0.0</td>\n",
       "      <td>1.0</td>\n",
       "      <td>1.000000</td>\n",
       "      <td>0.756356</td>\n",
       "    </tr>\n",
       "    <tr>\n",
       "      <th>1</th>\n",
       "      <td>O que é o serviço de limpeza de Grelha?</td>\n",
       "      <td>O serviço de limpeza de grelha consiste na rep...</td>\n",
       "      <td>[BUEIRO/BOCA DE LOBO/GRELHA/MEIO-FIO/TAMPA DE ...</td>\n",
       "      <td>[O serviço de limpeza de grelha é a remoção de...</td>\n",
       "      <td>0.0</td>\n",
       "      <td>1.0</td>\n",
       "      <td>0.666667</td>\n",
       "      <td>0.963392</td>\n",
       "    </tr>\n",
       "    <tr>\n",
       "      <th>2</th>\n",
       "      <td>Como solicitar o serviço de implantação, manut...</td>\n",
       "      <td>Você pode solicitar o serviço de implantação, ...</td>\n",
       "      <td>[CICLOVIA OU CICLOFAIXA EM VIA URBANA \\nO que ...</td>\n",
       "      <td>[Você pode solicitar por meio do Portal de Ser...</td>\n",
       "      <td>1.0</td>\n",
       "      <td>1.0</td>\n",
       "      <td>1.000000</td>\n",
       "      <td>0.893865</td>\n",
       "    </tr>\n",
       "    <tr>\n",
       "      <th>3</th>\n",
       "      <td>Prazo pra prestação do serviço de criação, rev...</td>\n",
       "      <td>O prazo para prestação do serviço de criação, ...</td>\n",
       "      <td>[FAIXA DE PEDESTRE / SINALIZAÇÃO VIÁRIA \\nO qu...</td>\n",
       "      <td>[O prazo é superior à 30 (trinta) dias podendo...</td>\n",
       "      <td>0.0</td>\n",
       "      <td>1.0</td>\n",
       "      <td>1.000000</td>\n",
       "      <td>0.896193</td>\n",
       "    </tr>\n",
       "    <tr>\n",
       "      <th>4</th>\n",
       "      <td>Prazo pra prestação do serviço de Iluminação p...</td>\n",
       "      <td>O prazo para prestação do serviço de Iluminaçã...</td>\n",
       "      <td>[ILUMINAÇÃO PÚBLICA \\nO que é o serviço? Compr...</td>\n",
       "      <td>[Os prazos para as ordens de serviço variam de...</td>\n",
       "      <td>0.0</td>\n",
       "      <td>1.0</td>\n",
       "      <td>1.000000</td>\n",
       "      <td>0.905807</td>\n",
       "    </tr>\n",
       "    <tr>\n",
       "      <th>5</th>\n",
       "      <td>O que é Instalação de Parquinhos infantis?</td>\n",
       "      <td>Instalação de Parquinhos infantis é a instalaç...</td>\n",
       "      <td>[PARQUINHOS INFANTIS \\nO que é o serviço? É a ...</td>\n",
       "      <td>[É a instalação e manutenção dos equipamentos ...</td>\n",
       "      <td>0.0</td>\n",
       "      <td>1.0</td>\n",
       "      <td>1.000000</td>\n",
       "      <td>0.968451</td>\n",
       "    </tr>\n",
       "  </tbody>\n",
       "</table>\n",
       "</div>"
      ],
      "text/plain": [
       "                                            question  \\\n",
       "0                     O que é Acumulador de entulho?   \n",
       "1            O que é o serviço de limpeza de Grelha?   \n",
       "2  Como solicitar o serviço de implantação, manut...   \n",
       "3  Prazo pra prestação do serviço de criação, rev...   \n",
       "4  Prazo pra prestação do serviço de Iluminação p...   \n",
       "5         O que é Instalação de Parquinhos infantis?   \n",
       "\n",
       "                                              answer  \\\n",
       "0  O Acumulador de entulho é um problema de saúde...   \n",
       "1  O serviço de limpeza de grelha consiste na rep...   \n",
       "2  Você pode solicitar o serviço de implantação, ...   \n",
       "3  O prazo para prestação do serviço de criação, ...   \n",
       "4  O prazo para prestação do serviço de Iluminaçã...   \n",
       "5  Instalação de Parquinhos infantis é a instalaç...   \n",
       "\n",
       "                                            contexts  \\\n",
       "0  [ACUMULADOR DE ENTULHO \\nO que é o serviço? A ...   \n",
       "1  [BUEIRO/BOCA DE LOBO/GRELHA/MEIO-FIO/TAMPA DE ...   \n",
       "2  [CICLOVIA OU CICLOFAIXA EM VIA URBANA \\nO que ...   \n",
       "3  [FAIXA DE PEDESTRE / SINALIZAÇÃO VIÁRIA \\nO qu...   \n",
       "4  [ILUMINAÇÃO PÚBLICA \\nO que é o serviço? Compr...   \n",
       "5  [PARQUINHOS INFANTIS \\nO que é o serviço? É a ...   \n",
       "\n",
       "                                       ground_truths  context_precision  \\\n",
       "0  [Acumulador de entulho é um problema de saúde ...                0.0   \n",
       "1  [O serviço de limpeza de grelha é a remoção de...                0.0   \n",
       "2  [Você pode solicitar por meio do Portal de Ser...                1.0   \n",
       "3  [O prazo é superior à 30 (trinta) dias podendo...                0.0   \n",
       "4  [Os prazos para as ordens de serviço variam de...                0.0   \n",
       "5  [É a instalação e manutenção dos equipamentos ...                0.0   \n",
       "\n",
       "   context_recall  faithfulness  answer_relevancy  \n",
       "0             1.0      1.000000          0.756356  \n",
       "1             1.0      0.666667          0.963392  \n",
       "2             1.0      1.000000          0.893865  \n",
       "3             1.0      1.000000          0.896193  \n",
       "4             1.0      1.000000          0.905807  \n",
       "5             1.0      1.000000          0.968451  "
      ]
     },
     "execution_count": 37,
     "metadata": {},
     "output_type": "execute_result"
    }
   ],
   "source": [
    "df = result.to_pandas()\n",
    "\n",
    "df.head(10)"
   ]
  },
  {
   "cell_type": "code",
   "execution_count": null,
   "metadata": {},
   "outputs": [],
   "source": []
  }
 ],
 "metadata": {
  "kernelspec": {
   "display_name": "venv_LLMs",
   "language": "python",
   "name": "python3"
  },
  "language_info": {
   "codemirror_mode": {
    "name": "ipython",
    "version": 3
   },
   "file_extension": ".py",
   "mimetype": "text/x-python",
   "name": "python",
   "nbconvert_exporter": "python",
   "pygments_lexer": "ipython3",
   "version": "3.10.12"
  },
  "orig_nbformat": 4
 },
 "nbformat": 4,
 "nbformat_minor": 2
}
