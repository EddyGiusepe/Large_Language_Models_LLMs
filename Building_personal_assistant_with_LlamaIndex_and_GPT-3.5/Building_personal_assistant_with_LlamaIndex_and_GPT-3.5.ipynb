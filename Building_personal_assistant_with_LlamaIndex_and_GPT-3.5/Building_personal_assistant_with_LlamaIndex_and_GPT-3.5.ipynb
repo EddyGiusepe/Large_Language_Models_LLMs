{
 "cells": [
  {
   "attachments": {},
   "cell_type": "markdown",
   "metadata": {},
   "source": [
    "<h1 align=\"center\">Construindo um assistente pessoal com LlamaIndex e GPT-3.5</h1>"
   ]
  },
  {
   "attachments": {},
   "cell_type": "markdown",
   "metadata": {},
   "source": [
    "Data Scientist.: Dr.Eddy Giusepe Chirinos Isidro"
   ]
  },
  {
   "attachments": {},
   "cell_type": "markdown",
   "metadata": {},
   "source": [
    "# Contextualizando"
   ]
  },
  {
   "attachments": {},
   "cell_type": "markdown",
   "metadata": {},
   "source": [
    "Com o recente lançamento da `API` da série `GPT 3.5` da `OpenAI`, agora é possível criar seu próprio `chatbot de perguntas e respostas` com base em seus próprios dados.\n",
    "\n",
    "\n",
    "Neste script, exploraremos como criar um chatbot de `Q&A` de documentos de forma eficiente com o `llama-index` e a `API GPT`.\n",
    "\n",
    "\n",
    "Um aplicativo interessante é o `Question Answering (QA)`, que permite que o bot recupere informações de documentos e forneça respostas rápidas às suas consultas em linguagem natural. Podemos usar esse avançado sistema de `NLP` para diversos fins, `como simplificar o suporte ao cliente`, `sintetizar a pesquisa do usuário` e `gerenciar o conhecimento pessoal`. Leve sua produtividade para o próximo nível com a `API GPT 3.5!`\n",
    "\n",
    "\n",
    "## <font color=\"red\">A ideia</font>\n",
    "\n",
    "\n",
    "A [ideia](https://medium.com/artificialis/building-personal-assistant-with-llamaindex-and-gpt-3-5-934a9ba1fd89) de usar o `ChatGPT` como um assistente para sintetizar o feedback do cliente ou encontrar documentos de produtos antigos relacionados a um recurso que está sendo trabalhado é um caso de uso em potencial. Inicialmente, o `fine-tune do modelo GPT` com dados específicos foi considerado para atingir esse objetivo, mas essa abordagem requer um `grande conjunto de dados` e é cara. O fine-tune do modelo pode apenas ensinar uma nova habilidade, em vez de fornecer informações completas sobre os documentos. Para QA de (vários) documentos, a engenharia de prompt fornecendo contexto nos prompts é outra abordagem. Por outro lado, o `modelo GPT` tem um capacidade de atenção limitada e passar um contexto longo para a `API` pode ser caro, visto que existem milhares de e-mails de feedback de clientes e centenas de documentos de produtos.\n",
    "\n",
    "Enquanto pesquisava maneiras de superar as `limitações do limite de token de entrada do prompt`, tive a ideia de usar um algoritmo para pesquisar documentos e extrair apenas os trechos relevantes. Ao passar esses contextos relevantes junto com minhas perguntas para o modelo `GPT`, esperava alcançar melhores resultados. Durante minha pesquisa, descobri a biblioteca `gpt-index`, que mais tarde foi renomeada para `LlamaIndex`. Essa biblioteca forneceu uma solução direta para o meu problema e me permitiu implementar facilmente a ideia.\n",
    "\n"
   ]
  },
  {
   "attachments": {},
   "cell_type": "markdown",
   "metadata": {},
   "source": [
    "# Construindo um ChatBot de QA sobre Documentos"
   ]
  },
  {
   "attachments": {},
   "cell_type": "markdown",
   "metadata": {},
   "source": [
    "Usaremos `LlamaIndex` e `GPT` (`text-davinci-003`) para criar um `chatbot` de `Q&A` que opera em documentos existentes.\n",
    "\n",
    "### Pré-requisitos\n",
    "\n",
    "* Uma chave de `API OpenAI`, que pode ser obtida [AQUI](https://platform.openai.com/account/api-keys)\n",
    "\n",
    "* Um banco de dados (`database`) de seus documentos. O `LlamaIndex` oferece suporte a várias fontes de dados, como `Notion` ou `Google Docs`. Para este tutorial, um arquivo de texto simples será usado para demonstração.\n",
    "\n",
    "* Um ambiente `Python` local ou um notebook on-line do `Google Colab`.\n",
    "\n",
    "\n",
    "### Etapas \n",
    "\n",
    "* Crie um índice dos dados do seu documento utilizando o `LlamaIndex`\n",
    "\n",
    "* Formule uma consulta de linguagem natural para pesquisar o índice\n",
    "\n",
    "* O `LlamaIndex` recuperará as partes pertinentes do documento e as fornecerá ao `prompt do GPT`\n",
    "\n",
    "* Faça a pergunta ao GPT com o contexto relevante e gere uma resposta."
   ]
  },
  {
   "attachments": {},
   "cell_type": "markdown",
   "metadata": {},
   "source": [
    "O `LlamaIndex` cria um `índice vetorizado` a partir dos dados do documento, tornando a consulta altamente eficiente. Em seguida, ele usa esse `índice` para identificar as seções mais relevantes do documento com base na semelhança entre a consulta e os dados. As informações recuperadas são incorporadas ao prompt enviado ao GPT, fornecendo o contexto necessário para responder à sua pergunta.\n",
    "\n",
    "Vamos fazê-lo!\n",
    "\n",
    "A seguir, esses comandos instalarão o `LlamaIndex` e o `OpenAI`."
   ]
  },
  {
   "cell_type": "code",
   "execution_count": null,
   "metadata": {},
   "outputs": [],
   "source": [
    "%pip install llama-index\n",
    "%pip install openai"
   ]
  },
  {
   "cell_type": "code",
   "execution_count": null,
   "metadata": {},
   "outputs": [],
   "source": [
    "%pip install python-dotenv"
   ]
  },
  {
   "cell_type": "code",
   "execution_count": 17,
   "metadata": {},
   "outputs": [
    {
     "name": "stdout",
     "output_type": "stream",
     "text": [
      "Carregando a minha chave Key:  True\n"
     ]
    }
   ],
   "source": [
    "import os\n",
    "import openai\n",
    "from llama_index import GPTSimpleVectorIndex, Document, SimpleDirectoryReader\n",
    "\n",
    "\n",
    "\n",
    "# Isto é quando usas o arquivo .env: \n",
    "from dotenv import load_dotenv\n",
    "import os\n",
    "print('Carregando a minha chave Key: ', load_dotenv())\n",
    "Eddy_API_KEY = os.environ['OPENAI_KEY']  \n",
    "openai.api_key = Eddy_API_KEY \n"
   ]
  },
  {
   "attachments": {},
   "cell_type": "markdown",
   "metadata": {},
   "source": [
    "Agora precisamos construir um índice do nosso documento."
   ]
  },
  {
   "cell_type": "code",
   "execution_count": null,
   "metadata": {},
   "outputs": [],
   "source": [
    "documents = SimpleDirectoryReader('/home/eddygiusepe/1_Eddy_Giusepe/3_estudando_LLMs/Large_Language_Models_LLMs/Building_personal_assistant_with_LlamaIndex_and_GPT-3.5/data').load_data()\n"
   ]
  },
  {
   "attachments": {},
   "cell_type": "markdown",
   "metadata": {},
   "source": [
    "<font color=\"orange\">Depois de carregar os documentos, podemos então construir o índice:</font>"
   ]
  },
  {
   "cell_type": "code",
   "execution_count": 19,
   "metadata": {},
   "outputs": [
    {
     "ename": "ValidationError",
     "evalue": "1 validation error for OpenAI\n__root__\n  Did not find openai_api_key, please add an environment variable `OPENAI_API_KEY` which contains it, or pass  `openai_api_key` as a named parameter. (type=value_error)",
     "output_type": "error",
     "traceback": [
      "\u001b[0;31m---------------------------------------------------------------------------\u001b[0m",
      "\u001b[0;31mValidationError\u001b[0m                           Traceback (most recent call last)",
      "Cell \u001b[0;32mIn[19], line 1\u001b[0m\n\u001b[0;32m----> 1\u001b[0m index \u001b[39m=\u001b[39m GPTSimpleVectorIndex(documents)\n",
      "File \u001b[0;32m~/1_Eddy_Giusepe/3_estudando_LLMs/Large_Language_Models_LLMs/venv_LLMs/lib/python3.10/site-packages/llama_index/indices/vector_store/vector_indices.py:84\u001b[0m, in \u001b[0;36mGPTSimpleVectorIndex.__init__\u001b[0;34m(self, documents, index_struct, text_qa_template, llm_predictor, embed_model, simple_vector_store_data_dict, **kwargs)\u001b[0m\n\u001b[1;32m     79\u001b[0m \u001b[39m\u001b[39m\u001b[39m\"\"\"Init params.\"\"\"\u001b[39;00m\n\u001b[1;32m     80\u001b[0m vector_store \u001b[39m=\u001b[39m SimpleVectorStore(\n\u001b[1;32m     81\u001b[0m     simple_vector_store_data_dict\u001b[39m=\u001b[39msimple_vector_store_data_dict\n\u001b[1;32m     82\u001b[0m )\n\u001b[0;32m---> 84\u001b[0m \u001b[39msuper\u001b[39;49m()\u001b[39m.\u001b[39;49m\u001b[39m__init__\u001b[39;49m(\n\u001b[1;32m     85\u001b[0m     documents\u001b[39m=\u001b[39;49mdocuments,\n\u001b[1;32m     86\u001b[0m     index_struct\u001b[39m=\u001b[39;49mindex_struct,\n\u001b[1;32m     87\u001b[0m     text_qa_template\u001b[39m=\u001b[39;49mtext_qa_template,\n\u001b[1;32m     88\u001b[0m     llm_predictor\u001b[39m=\u001b[39;49mllm_predictor,\n\u001b[1;32m     89\u001b[0m     embed_model\u001b[39m=\u001b[39;49membed_model,\n\u001b[1;32m     90\u001b[0m     vector_store\u001b[39m=\u001b[39;49mvector_store,\n\u001b[1;32m     91\u001b[0m     \u001b[39m*\u001b[39;49m\u001b[39m*\u001b[39;49mkwargs,\n\u001b[1;32m     92\u001b[0m )\n\u001b[1;32m     94\u001b[0m \u001b[39m# TODO: Temporary hack to also store embeddings in index_struct\u001b[39;00m\n\u001b[1;32m     95\u001b[0m embedding_dict \u001b[39m=\u001b[39m vector_store\u001b[39m.\u001b[39m_data\u001b[39m.\u001b[39membedding_dict\n",
      "File \u001b[0;32m~/1_Eddy_Giusepe/3_estudando_LLMs/Large_Language_Models_LLMs/venv_LLMs/lib/python3.10/site-packages/llama_index/indices/vector_store/base.py:63\u001b[0m, in \u001b[0;36mGPTVectorStoreIndex.__init__\u001b[0;34m(self, documents, index_struct, text_qa_template, llm_predictor, embed_model, vector_store, text_splitter, use_async, **kwargs)\u001b[0m\n\u001b[1;32m     61\u001b[0m \u001b[39mself\u001b[39m\u001b[39m.\u001b[39mtext_qa_template \u001b[39m=\u001b[39m text_qa_template \u001b[39mor\u001b[39;00m DEFAULT_TEXT_QA_PROMPT\n\u001b[1;32m     62\u001b[0m \u001b[39mself\u001b[39m\u001b[39m.\u001b[39m_use_async \u001b[39m=\u001b[39m use_async\n\u001b[0;32m---> 63\u001b[0m \u001b[39msuper\u001b[39;49m()\u001b[39m.\u001b[39;49m\u001b[39m__init__\u001b[39;49m(\n\u001b[1;32m     64\u001b[0m     documents\u001b[39m=\u001b[39;49mdocuments,\n\u001b[1;32m     65\u001b[0m     index_struct\u001b[39m=\u001b[39;49mindex_struct,\n\u001b[1;32m     66\u001b[0m     llm_predictor\u001b[39m=\u001b[39;49mllm_predictor,\n\u001b[1;32m     67\u001b[0m     embed_model\u001b[39m=\u001b[39;49membed_model,\n\u001b[1;32m     68\u001b[0m     text_splitter\u001b[39m=\u001b[39;49mtext_splitter,\n\u001b[1;32m     69\u001b[0m     \u001b[39m*\u001b[39;49m\u001b[39m*\u001b[39;49mkwargs,\n\u001b[1;32m     70\u001b[0m )\n",
      "File \u001b[0;32m~/1_Eddy_Giusepe/3_estudando_LLMs/Large_Language_Models_LLMs/venv_LLMs/lib/python3.10/site-packages/llama_index/indices/base.py:84\u001b[0m, in \u001b[0;36mBaseGPTIndex.__init__\u001b[0;34m(self, documents, index_struct, llm_predictor, embed_model, docstore, index_registry, prompt_helper, text_splitter, chunk_size_limit, include_extra_info, llama_logger)\u001b[0m\n\u001b[1;32m     81\u001b[0m \u001b[39mif\u001b[39;00m index_struct \u001b[39mis\u001b[39;00m \u001b[39mnot\u001b[39;00m \u001b[39mNone\u001b[39;00m \u001b[39mand\u001b[39;00m documents \u001b[39mis\u001b[39;00m \u001b[39mnot\u001b[39;00m \u001b[39mNone\u001b[39;00m:\n\u001b[1;32m     82\u001b[0m     \u001b[39mraise\u001b[39;00m \u001b[39mValueError\u001b[39;00m(\u001b[39m\"\u001b[39m\u001b[39mOnly one of documents or index_struct can be provided.\u001b[39m\u001b[39m\"\u001b[39m)\n\u001b[0;32m---> 84\u001b[0m \u001b[39mself\u001b[39m\u001b[39m.\u001b[39m_llm_predictor \u001b[39m=\u001b[39m llm_predictor \u001b[39mor\u001b[39;00m LLMPredictor()\n\u001b[1;32m     85\u001b[0m \u001b[39m# NOTE: the embed_model isn't used in all indices\u001b[39;00m\n\u001b[1;32m     86\u001b[0m \u001b[39mself\u001b[39m\u001b[39m.\u001b[39m_embed_model \u001b[39m=\u001b[39m embed_model \u001b[39mor\u001b[39;00m OpenAIEmbedding()\n",
      "File \u001b[0;32m~/1_Eddy_Giusepe/3_estudando_LLMs/Large_Language_Models_LLMs/venv_LLMs/lib/python3.10/site-packages/llama_index/langchain_helpers/chain_wrapper.py:81\u001b[0m, in \u001b[0;36mLLMPredictor.__init__\u001b[0;34m(self, llm, retry_on_throttling)\u001b[0m\n\u001b[1;32m     77\u001b[0m \u001b[39mdef\u001b[39;00m \u001b[39m__init__\u001b[39m(\n\u001b[1;32m     78\u001b[0m     \u001b[39mself\u001b[39m, llm: Optional[BaseLanguageModel] \u001b[39m=\u001b[39m \u001b[39mNone\u001b[39;00m, retry_on_throttling: \u001b[39mbool\u001b[39m \u001b[39m=\u001b[39m \u001b[39mTrue\u001b[39;00m\n\u001b[1;32m     79\u001b[0m ) \u001b[39m-\u001b[39m\u001b[39m>\u001b[39m \u001b[39mNone\u001b[39;00m:\n\u001b[1;32m     80\u001b[0m \u001b[39m    \u001b[39m\u001b[39m\"\"\"Initialize params.\"\"\"\u001b[39;00m\n\u001b[0;32m---> 81\u001b[0m     \u001b[39mself\u001b[39m\u001b[39m.\u001b[39m_llm \u001b[39m=\u001b[39m llm \u001b[39mor\u001b[39;00m OpenAI(temperature\u001b[39m=\u001b[39;49m\u001b[39m0\u001b[39;49m, model_name\u001b[39m=\u001b[39;49m\u001b[39m\"\u001b[39;49m\u001b[39mtext-davinci-003\u001b[39;49m\u001b[39m\"\u001b[39;49m)\n\u001b[1;32m     82\u001b[0m     \u001b[39mself\u001b[39m\u001b[39m.\u001b[39mretry_on_throttling \u001b[39m=\u001b[39m retry_on_throttling\n\u001b[1;32m     83\u001b[0m     \u001b[39mself\u001b[39m\u001b[39m.\u001b[39m_total_tokens_used \u001b[39m=\u001b[39m \u001b[39m0\u001b[39m\n",
      "File \u001b[0;32m~/1_Eddy_Giusepe/3_estudando_LLMs/Large_Language_Models_LLMs/venv_LLMs/lib/python3.10/site-packages/pydantic/main.py:341\u001b[0m, in \u001b[0;36mpydantic.main.BaseModel.__init__\u001b[0;34m()\u001b[0m\n",
      "\u001b[0;31mValidationError\u001b[0m: 1 validation error for OpenAI\n__root__\n  Did not find openai_api_key, please add an environment variable `OPENAI_API_KEY` which contains it, or pass  `openai_api_key` as a named parameter. (type=value_error)"
     ]
    }
   ],
   "source": [
    "index = GPTSimpleVectorIndex(documents)"
   ]
  },
  {
   "cell_type": "code",
   "execution_count": null,
   "metadata": {},
   "outputs": [],
   "source": []
  }
 ],
 "metadata": {
  "kernelspec": {
   "display_name": "venv_LLMs",
   "language": "python",
   "name": "python3"
  },
  "language_info": {
   "codemirror_mode": {
    "name": "ipython",
    "version": 3
   },
   "file_extension": ".py",
   "mimetype": "text/x-python",
   "name": "python",
   "nbconvert_exporter": "python",
   "pygments_lexer": "ipython3",
   "version": "3.10.6"
  },
  "orig_nbformat": 4,
  "vscode": {
   "interpreter": {
    "hash": "6e1f61a9d800d8d7b3909976e7b91d21ea533d3244cb881687ab788269722b79"
   }
  }
 },
 "nbformat": 4,
 "nbformat_minor": 2
}
