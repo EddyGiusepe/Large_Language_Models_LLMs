{
 "cells": [
  {
   "attachments": {},
   "cell_type": "markdown",
   "metadata": {},
   "source": [
    "<h1 align=\"center\">Construindo um assistente pessoal com LlamaIndex e GPT-3.5</h1>"
   ]
  },
  {
   "attachments": {},
   "cell_type": "markdown",
   "metadata": {},
   "source": [
    "Data Scientist.: Dr.Eddy Giusepe Chirinos Isidro"
   ]
  },
  {
   "attachments": {},
   "cell_type": "markdown",
   "metadata": {},
   "source": [
    "# Contextualizando"
   ]
  },
  {
   "attachments": {},
   "cell_type": "markdown",
   "metadata": {},
   "source": [
    "Com o recente lançamento da `API` da série `GPT 3.5` da `OpenAI`, agora é possível criar seu próprio `chatbot de perguntas e respostas` com base em seus próprios dados.\n",
    "\n",
    "\n",
    "Neste script, exploraremos como criar um chatbot de `Q&A` de documentos de forma eficiente com o `llama-index` e a `API GPT`.\n",
    "\n",
    "\n",
    "Um aplicativo interessante é o `Question Answering (QA)`, que permite que o bot recupere informações de documentos e forneça respostas rápidas às suas consultas em linguagem natural. Podemos usar esse avançado sistema de `NLP` para diversos fins, `como simplificar o suporte ao cliente`, `sintetizar a pesquisa do usuário` e `gerenciar o conhecimento pessoal`. Leve sua produtividade para o próximo nível com a `API GPT 3.5!`\n",
    "\n",
    "\n",
    "## <font color=\"red\">A ideia</font>\n",
    "\n",
    "\n",
    "A [ideia](https://medium.com/artificialis/building-personal-assistant-with-llamaindex-and-gpt-3-5-934a9ba1fd89) de usar o `ChatGPT` como um assistente para sintetizar o feedback do cliente ou encontrar documentos de produtos antigos relacionados a um recurso que está sendo trabalhado é um caso de uso em potencial. Inicialmente, o `fine-tune do modelo GPT` com dados específicos foi considerado para atingir esse objetivo, mas essa abordagem requer um `grande conjunto de dados` e é cara. O fine-tune do modelo pode apenas ensinar uma nova habilidade, em vez de fornecer informações completas sobre os documentos. Para QA de (vários) documentos, a engenharia de prompt fornecendo contexto nos prompts é outra abordagem. Por outro lado, o `modelo GPT` tem um capacidade de atenção limitada e passar um contexto longo para a `API` pode ser caro, visto que existem milhares de e-mails de feedback de clientes e centenas de documentos de produtos.\n",
    "\n",
    "Enquanto pesquisava maneiras de superar as `limitações do limite de token de entrada do prompt`, tive a ideia de usar um algoritmo para pesquisar documentos e extrair apenas os trechos relevantes. Ao passar esses contextos relevantes junto com minhas perguntas para o modelo `GPT`, esperava alcançar melhores resultados. Durante minha pesquisa, descobri a biblioteca `gpt-index`, que mais tarde foi renomeada para `LlamaIndex`. Essa biblioteca forneceu uma solução direta para o meu problema e me permitiu implementar facilmente a ideia.\n",
    "\n"
   ]
  },
  {
   "attachments": {},
   "cell_type": "markdown",
   "metadata": {},
   "source": [
    "# Construindo um ChatBot de QA sobre Documentos"
   ]
  },
  {
   "attachments": {},
   "cell_type": "markdown",
   "metadata": {},
   "source": [
    "Usaremos `LlamaIndex` e `GPT` (`text-davinci-003`) para criar um `chatbot` de `Q&A` que opera em documentos existentes.\n",
    "\n",
    "### Pré-requisitos\n",
    "\n",
    "* Uma chave de `API OpenAI`, que pode ser obtida [AQUI](https://platform.openai.com/account/api-keys)\n",
    "\n",
    "* Um banco de dados (`database`) de seus documentos. O `LlamaIndex` oferece suporte a várias fontes de dados, como `Notion` ou `Google Docs`. Para este tutorial, um arquivo de texto simples será usado para demonstração.\n",
    "\n",
    "* Um ambiente `Python` local ou um notebook on-line do `Google Colab`.\n",
    "\n",
    "\n",
    "### Etapas \n",
    "\n",
    "* Crie um índice dos dados do seu documento utilizando o `LlamaIndex`\n",
    "\n",
    "* Formule uma consulta de linguagem natural para pesquisar o índice\n",
    "\n",
    "* O `LlamaIndex` recuperará as partes pertinentes do documento e as fornecerá ao `prompt do GPT`\n",
    "\n",
    "* Faça a pergunta ao GPT com o contexto relevante e gere uma resposta."
   ]
  },
  {
   "attachments": {},
   "cell_type": "markdown",
   "metadata": {},
   "source": [
    "O `LlamaIndex` cria um `índice vetorizado` a partir dos dados do documento, tornando a consulta altamente eficiente. Em seguida, ele usa esse `índice` para identificar as seções mais relevantes do documento com base na semelhança entre a consulta e os dados. As informações recuperadas são incorporadas ao prompt enviado ao GPT, fornecendo o contexto necessário para responder à sua pergunta.\n",
    "\n",
    "Vamos fazê-lo!\n",
    "\n",
    "A seguir, esses comandos instalarão o `LlamaIndex` e o `OpenAI`."
   ]
  },
  {
   "cell_type": "code",
   "execution_count": null,
   "metadata": {},
   "outputs": [],
   "source": []
  }
 ],
 "metadata": {
  "language_info": {
   "name": "python"
  },
  "orig_nbformat": 4
 },
 "nbformat": 4,
 "nbformat_minor": 2
}
