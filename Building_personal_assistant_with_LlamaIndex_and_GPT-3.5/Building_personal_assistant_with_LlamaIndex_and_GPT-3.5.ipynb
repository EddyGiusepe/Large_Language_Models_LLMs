{
 "cells": [
  {
   "attachments": {},
   "cell_type": "markdown",
   "metadata": {},
   "source": [
    "<h1 align=\"center\">Construindo um assistente pessoal com LlamaIndex e GPT-3.5</h1>"
   ]
  },
  {
   "attachments": {},
   "cell_type": "markdown",
   "metadata": {},
   "source": [
    "Data Scientist.: Dr.Eddy Giusepe Chirinos Isidro"
   ]
  },
  {
   "attachments": {},
   "cell_type": "markdown",
   "metadata": {},
   "source": [
    "# Contextualizando"
   ]
  },
  {
   "attachments": {},
   "cell_type": "markdown",
   "metadata": {},
   "source": [
    "Com o recente lançamento da `API` da série `GPT 3.5` da `OpenAI`, agora é possível criar seu próprio `chatbot de perguntas e respostas` com base em seus próprios dados.\n",
    "\n",
    "\n",
    "Neste script, exploraremos como criar um chatbot de `Q&A` de documentos de forma eficiente com o `llama-index` e a `API GPT`.\n",
    "\n",
    "\n",
    "Um aplicativo interessante é o `Question Answering (QA)`, que permite que o bot recupere informações de documentos e forneça respostas rápidas às suas consultas em linguagem natural. Podemos usar esse avançado sistema de `NLP` para diversos fins, `como simplificar o suporte ao cliente`, `sintetizar a pesquisa do usuário` e `gerenciar o conhecimento pessoal`. Leve sua produtividade para o próximo nível com a `API GPT 3.5!`\n",
    "\n",
    "\n",
    "## <font color=\"red\">A ideia</font>\n",
    "\n",
    "\n",
    "A [ideia](https://medium.com/artificialis/building-personal-assistant-with-llamaindex-and-gpt-3-5-934a9ba1fd89) de usar o `ChatGPT` como um assistente para sintetizar o feedback do cliente ou encontrar documentos de produtos antigos relacionados a um recurso que está sendo trabalhado é um caso de uso em potencial. Inicialmente, o `fine-tune do modelo GPT` com dados específicos foi considerado para atingir esse objetivo, mas essa abordagem requer um `grande conjunto de dados` e é cara. O fine-tune do modelo pode apenas ensinar uma nova habilidade, em vez de fornecer informações completas sobre os documentos. Para QA de (vários) documentos, a engenharia de prompt fornecendo contexto nos prompts é outra abordagem. Por outro lado, o `modelo GPT` tem um capacidade de atenção limitada e passar um contexto longo para a `API` pode ser caro, visto que existem milhares de e-mails de feedback de clientes e centenas de documentos de produtos.\n",
    "\n",
    "Enquanto pesquisava maneiras de superar as `limitações do limite de token de entrada do prompt`, tive a ideia de usar um algoritmo para pesquisar documentos e extrair apenas os trechos relevantes. Ao passar esses contextos relevantes junto com minhas perguntas para o modelo `GPT`, esperava alcançar melhores resultados. Durante minha pesquisa, descobri a biblioteca `gpt-index`, que mais tarde foi renomeada para `LlamaIndex`. Essa biblioteca forneceu uma solução direta para o meu problema e me permitiu implementar facilmente a ideia.\n",
    "\n"
   ]
  },
  {
   "attachments": {},
   "cell_type": "markdown",
   "metadata": {},
   "source": [
    "# Construindo um ChatBot de QA sobre Documentos"
   ]
  },
  {
   "attachments": {},
   "cell_type": "markdown",
   "metadata": {},
   "source": [
    "Usaremos `LlamaIndex` e `GPT` (`text-davinci-003`) para criar um `chatbot` de `Q&A` que opera em documentos existentes.\n",
    "\n",
    "### Pré-requisitos\n",
    "\n",
    "* Uma chave de `API OpenAI`, que pode ser obtida [AQUI](https://platform.openai.com/account/api-keys)\n",
    "\n",
    "* Um banco de dados (`database`) de seus documentos. O `LlamaIndex` oferece suporte a várias fontes de dados, como `Notion` ou `Google Docs`. Para este tutorial, um arquivo de texto simples será usado para demonstração.\n",
    "\n",
    "* Um ambiente `Python` local ou um notebook on-line do `Google Colab`.\n",
    "\n",
    "\n",
    "### Etapas \n",
    "\n",
    "* Crie um índice dos dados do seu documento utilizando o `LlamaIndex`\n",
    "\n",
    "* Formule uma consulta de linguagem natural para pesquisar o índice\n",
    "\n",
    "* O `LlamaIndex` recuperará as partes pertinentes do documento e as fornecerá ao `prompt do GPT`\n",
    "\n",
    "* Faça a pergunta ao GPT com o contexto relevante e gere uma resposta."
   ]
  },
  {
   "attachments": {},
   "cell_type": "markdown",
   "metadata": {},
   "source": [
    "O `LlamaIndex` cria um `índice vetorizado` a partir dos dados do documento, tornando a consulta altamente eficiente. Em seguida, ele usa esse `índice` para identificar as seções mais relevantes do documento com base na semelhança entre a consulta e os dados. As informações recuperadas são incorporadas ao prompt enviado ao GPT, fornecendo o contexto necessário para responder à sua pergunta.\n",
    "\n",
    "Vamos fazê-lo!\n",
    "\n",
    "A seguir, esses comandos instalarão o `LlamaIndex` e o `OpenAI`."
   ]
  },
  {
   "cell_type": "code",
   "execution_count": null,
   "metadata": {},
   "outputs": [],
   "source": [
    "%pip install llama-index\n",
    "%pip install openai"
   ]
  },
  {
   "cell_type": "code",
   "execution_count": null,
   "metadata": {},
   "outputs": [],
   "source": [
    "%pip install python-dotenv"
   ]
  },
  {
   "cell_type": "code",
   "execution_count": 49,
   "metadata": {},
   "outputs": [
    {
     "name": "stdout",
     "output_type": "stream",
     "text": [
      "Carregando a minha chave Key:  True\n"
     ]
    }
   ],
   "source": [
    "import os\n",
    "import openai\n",
    "from llama_index import GPTSimpleVectorIndex, Document, SimpleDirectoryReader\n",
    "\n",
    "\n",
    "\n",
    "# Isto é quando usas o arquivo .env: \n",
    "from dotenv import load_dotenv\n",
    "import os\n",
    "print('Carregando a minha chave Key: ', load_dotenv())\n",
    "Eddy_API_KEY = os.environ['OPENAI_API_KEY']  \n",
    "openai.api_key = Eddy_API_KEY \n",
    "\n"
   ]
  },
  {
   "cell_type": "code",
   "execution_count": 50,
   "metadata": {},
   "outputs": [
    {
     "data": {
      "text/html": [
       "<div>\n",
       "<style scoped>\n",
       "    .dataframe tbody tr th:only-of-type {\n",
       "        vertical-align: middle;\n",
       "    }\n",
       "\n",
       "    .dataframe tbody tr th {\n",
       "        vertical-align: top;\n",
       "    }\n",
       "\n",
       "    .dataframe thead th {\n",
       "        text-align: right;\n",
       "    }\n",
       "</style>\n",
       "<table border=\"1\" class=\"dataframe\">\n",
       "  <thead>\n",
       "    <tr style=\"text-align: right;\">\n",
       "      <th></th>\n",
       "      <th>resposta_text</th>\n",
       "    </tr>\n",
       "  </thead>\n",
       "  <tbody>\n",
       "    <tr>\n",
       "      <th>0</th>\n",
       "      <td>agendamento</td>\n",
       "    </tr>\n",
       "    <tr>\n",
       "      <th>1</th>\n",
       "      <td>caso o cidadão selecione o setor correto mas ...</td>\n",
       "    </tr>\n",
       "    <tr>\n",
       "      <th>2</th>\n",
       "      <td>quais os canais de atendimento para esclarece...</td>\n",
       "    </tr>\n",
       "    <tr>\n",
       "      <th>3</th>\n",
       "      <td>orientações para inscrição creche qual a docum...</td>\n",
       "    </tr>\n",
       "    <tr>\n",
       "      <th>4</th>\n",
       "      <td>administrações regionais  águas claras - ra x...</td>\n",
       "    </tr>\n",
       "  </tbody>\n",
       "</table>\n",
       "</div>"
      ],
      "text/plain": [
       "                                       resposta_text\n",
       "0                                        agendamento\n",
       "1   caso o cidadão selecione o setor correto mas ...\n",
       "2   quais os canais de atendimento para esclarece...\n",
       "3  orientações para inscrição creche qual a docum...\n",
       "4   administrações regionais  águas claras - ra x..."
      ]
     },
     "execution_count": 50,
     "metadata": {},
     "output_type": "execute_result"
    }
   ],
   "source": [
    "import pandas as pd\n",
    "\n",
    "csv = pd.read_csv('/home/eddygiusepe/1_Eddy_Giusepe/3_estudando_LLMs/Large_Language_Models_LLMs/resposta_text.csv', lineterminator='\\n')\n",
    "csv.head()\n"
   ]
  },
  {
   "cell_type": "code",
   "execution_count": 51,
   "metadata": {},
   "outputs": [
    {
     "data": {
      "text/html": [
       "<div>\n",
       "<style scoped>\n",
       "    .dataframe tbody tr th:only-of-type {\n",
       "        vertical-align: middle;\n",
       "    }\n",
       "\n",
       "    .dataframe tbody tr th {\n",
       "        vertical-align: top;\n",
       "    }\n",
       "\n",
       "    .dataframe thead th {\n",
       "        text-align: right;\n",
       "    }\n",
       "</style>\n",
       "<table border=\"1\" class=\"dataframe\">\n",
       "  <thead>\n",
       "    <tr style=\"text-align: right;\">\n",
       "      <th></th>\n",
       "      <th>index</th>\n",
       "      <th>label</th>\n",
       "      <th>preprocessed_news</th>\n",
       "    </tr>\n",
       "  </thead>\n",
       "  <tbody>\n",
       "    <tr>\n",
       "      <th>0</th>\n",
       "      <td>0</td>\n",
       "      <td>fake</td>\n",
       "      <td>katia abreu diz vai colocar expulsao moldura n...</td>\n",
       "    </tr>\n",
       "    <tr>\n",
       "      <th>1</th>\n",
       "      <td>1</td>\n",
       "      <td>fake</td>\n",
       "      <td>ray peita bolsonaro conservador fake entrevist...</td>\n",
       "    </tr>\n",
       "    <tr>\n",
       "      <th>2</th>\n",
       "      <td>2</td>\n",
       "      <td>fake</td>\n",
       "      <td>reinaldo azevedo desmascarado policia federal ...</td>\n",
       "    </tr>\n",
       "    <tr>\n",
       "      <th>3</th>\n",
       "      <td>3</td>\n",
       "      <td>fake</td>\n",
       "      <td>relatorio assustador bndes mostra dinheiro pub...</td>\n",
       "    </tr>\n",
       "    <tr>\n",
       "      <th>4</th>\n",
       "      <td>4</td>\n",
       "      <td>fake</td>\n",
       "      <td>radialista americano fala sobre pt vendem ilus...</td>\n",
       "    </tr>\n",
       "  </tbody>\n",
       "</table>\n",
       "</div>"
      ],
      "text/plain": [
       "   index label                                  preprocessed_news\n",
       "0      0  fake  katia abreu diz vai colocar expulsao moldura n...\n",
       "1      1  fake  ray peita bolsonaro conservador fake entrevist...\n",
       "2      2  fake  reinaldo azevedo desmascarado policia federal ...\n",
       "3      3  fake  relatorio assustador bndes mostra dinheiro pub...\n",
       "4      4  fake  radialista americano fala sobre pt vendem ilus..."
      ]
     },
     "execution_count": 51,
     "metadata": {},
     "output_type": "execute_result"
    }
   ],
   "source": [
    "import pandas as pd\n",
    "\n",
    "df = pd.read_csv('/home/eddygiusepe/1_Eddy_Giusepe/3_estudando_LLMs/Large_Language_Models_LLMs/pre-processed.csv')\n",
    "df.head()"
   ]
  },
  {
   "cell_type": "code",
   "execution_count": 44,
   "metadata": {},
   "outputs": [],
   "source": [
    "df.drop(['index', 'label'], axis = 1, inplace = True)"
   ]
  },
  {
   "cell_type": "code",
   "execution_count": 46,
   "metadata": {},
   "outputs": [],
   "source": [
    "#df.to_csv('./data/fakenews.csv', index=False)"
   ]
  },
  {
   "attachments": {},
   "cell_type": "markdown",
   "metadata": {},
   "source": [
    "Agora precisamos construir um índice do nosso documento."
   ]
  },
  {
   "cell_type": "code",
   "execution_count": 52,
   "metadata": {},
   "outputs": [],
   "source": [
    "documents = SimpleDirectoryReader('/home/eddygiusepe/1_Eddy_Giusepe/3_estudando_LLMs/Large_Language_Models_LLMs/Building_personal_assistant_with_LlamaIndex_and_GPT-3.5/data').load_data()\n",
    "\n",
    "# Descomentar o seguinte para poder carregar qualquer arquvio .csv: \n",
    "\n",
    "# from pathlib import Path\n",
    "# from llama_index import download_loader\n",
    "\n",
    "# SimpleCSVReader = download_loader(\"SimpleCSVReader\")\n",
    "\n",
    "# loader = SimpleCSVReader()\n",
    "# documents = loader.load_data(file=Path('./data/fakenews.csv'))\n",
    "\n"
   ]
  },
  {
   "attachments": {},
   "cell_type": "markdown",
   "metadata": {},
   "source": [
    "<font color=\"orange\">Depois de carregar os documentos, podemos então construir o índice:</font>"
   ]
  },
  {
   "cell_type": "code",
   "execution_count": 53,
   "metadata": {},
   "outputs": [
    {
     "name": "stderr",
     "output_type": "stream",
     "text": [
      "INFO:llama_index.token_counter.token_counter:> [build_index_from_documents] Total LLM token usage: 0 tokens\n",
      "INFO:llama_index.token_counter.token_counter:> [build_index_from_documents] Total embedding token usage: 453 tokens\n"
     ]
    }
   ],
   "source": [
    "index = GPTSimpleVectorIndex(documents)"
   ]
  },
  {
   "attachments": {},
   "cell_type": "markdown",
   "metadata": {},
   "source": [
    "<font color=\"orange\">Consultando o índice:</font>"
   ]
  },
  {
   "cell_type": "code",
   "execution_count": 55,
   "metadata": {},
   "outputs": [
    {
     "name": "stderr",
     "output_type": "stream",
     "text": [
      "INFO:llama_index.token_counter.token_counter:> [query] Total LLM token usage: 281 tokens\n",
      "INFO:llama_index.token_counter.token_counter:> [query] Total embedding token usage: 21 tokens\n"
     ]
    },
    {
     "name": "stdout",
     "output_type": "stream",
     "text": [
      "\n",
      "R$ 30,00\n"
     ]
    }
   ],
   "source": [
    "resposta = index.query(\"Quando de dineiro devo ter se eu quiser comprar uma camisa?\") \n",
    "print(resposta)\n"
   ]
  },
  {
   "attachments": {},
   "cell_type": "markdown",
   "metadata": {},
   "source": [
    "# Conclusão:"
   ]
  },
  {
   "attachments": {},
   "cell_type": "markdown",
   "metadata": {},
   "source": [
    "Neste pequeno script demonstrou a eficácia da combinação de `GPT`com LlamaIndex para a criação de um `ChatBot` de resposta a perguntas de Documentos. \n",
    "\n",
    "Embora o `GPT` sozinho seja uma ferramenta impressionante, seus recursos podem ser bastante aprimorados pela integração com outras ferramentas, dados e processos."
   ]
  }
 ],
 "metadata": {
  "kernelspec": {
   "display_name": "venv_LLMs",
   "language": "python",
   "name": "python3"
  },
  "language_info": {
   "codemirror_mode": {
    "name": "ipython",
    "version": 3
   },
   "file_extension": ".py",
   "mimetype": "text/x-python",
   "name": "python",
   "nbconvert_exporter": "python",
   "pygments_lexer": "ipython3",
   "version": "3.10.6"
  },
  "orig_nbformat": 4,
  "vscode": {
   "interpreter": {
    "hash": "6e1f61a9d800d8d7b3909976e7b91d21ea533d3244cb881687ab788269722b79"
   }
  }
 },
 "nbformat": 4,
 "nbformat_minor": 2
}
