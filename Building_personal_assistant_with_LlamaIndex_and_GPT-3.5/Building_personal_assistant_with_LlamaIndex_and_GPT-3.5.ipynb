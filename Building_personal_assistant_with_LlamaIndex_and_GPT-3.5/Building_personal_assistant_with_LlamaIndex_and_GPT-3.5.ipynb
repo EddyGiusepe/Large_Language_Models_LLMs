{
 "cells": [
  {
   "attachments": {},
   "cell_type": "markdown",
   "metadata": {},
   "source": [
    "<h1 align=\"center\">Construindo um assistente pessoal com LlamaIndex e GPT-3.5</h1>"
   ]
  },
  {
   "attachments": {},
   "cell_type": "markdown",
   "metadata": {},
   "source": [
    "Data Scientist.: Dr.Eddy Giusepe Chirinos Isidro"
   ]
  },
  {
   "attachments": {},
   "cell_type": "markdown",
   "metadata": {},
   "source": [
    "# Contextualizando"
   ]
  },
  {
   "attachments": {},
   "cell_type": "markdown",
   "metadata": {},
   "source": [
    "Com o recente lançamento da `API` da série `GPT 3.5` da `OpenAI`, agora é possível criar seu próprio `chatbot de perguntas e respostas` com base em seus próprios dados.\n",
    "\n",
    "\n",
    "Neste script, exploraremos como criar um chatbot de `Q&A` de documentos de forma eficiente com o `llama-index` e a `API GPT`.\n",
    "\n",
    "\n",
    "Um aplicativo interessante é o `Question Answering (QA)`, que permite que o bot recupere informações de documentos e forneça respostas rápidas às suas consultas em linguagem natural. Podemos usar esse avançado sistema de `NLP` para diversos fins, `como simplificar o suporte ao cliente`, `sintetizar a pesquisa do usuário` e `gerenciar o conhecimento pessoal`. Leve sua produtividade para o próximo nível com a `API GPT 3.5!`\n",
    "\n",
    "\n",
    "## <font color=\"red\">A ideia</font>\n",
    "\n",
    "\n",
    "A ideia de usar o `ChatGPT` como um assistente para sintetizar o feedback do cliente ou encontrar documentos de produtos antigos relacionados a um recurso que está sendo trabalhado é um caso de uso em potencial. Inicialmente, o `fine-tune do modelo GPT` com dados específicos foi considerado para atingir esse objetivo, mas essa abordagem requer um `grande conjunto de dados` e é cara. O fine-tune do modelo pode apenas ensinar uma nova habilidade, em vez de fornecer informações completas sobre os documentos. Para QA de (vários) documentos, a engenharia de prompt fornecendo contexto nos prompts é outra abordagem. Por outro lado, o `modelo GPT` tem um capacidade de atenção limitada e passar um contexto longo para a `API` pode ser caro, visto que existem milhares de e-mails de feedback de clientes e centenas de documentos de produtos.\n",
    "\n",
    "Enquanto pesquisava maneiras de superar as `limitações do limite de token de entrada do prompt`, tive a ideia de usar um algoritmo para pesquisar documentos e extrair apenas os trechos relevantes. Ao passar esses contextos relevantes junto com minhas perguntas para o modelo `GPT`, esperava alcançar melhores resultados. Durante minha pesquisa, descobri a biblioteca `gpt-index`, que mais tarde foi renomeada para `LlamaIndex`. Essa biblioteca forneceu uma solução direta para o meu problema e me permitiu implementar facilmente a ideia.\n",
    "\n"
   ]
  },
  {
   "cell_type": "code",
   "execution_count": null,
   "metadata": {},
   "outputs": [],
   "source": []
  }
 ],
 "metadata": {
  "language_info": {
   "name": "python"
  },
  "orig_nbformat": 4
 },
 "nbformat": 4,
 "nbformat_minor": 2
}
