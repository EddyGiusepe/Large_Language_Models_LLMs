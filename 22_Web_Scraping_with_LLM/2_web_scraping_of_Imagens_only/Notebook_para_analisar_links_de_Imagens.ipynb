{
 "cells": [
  {
   "cell_type": "code",
   "execution_count": 2,
   "metadata": {},
   "outputs": [
    {
     "data": {
      "text/html": [
       "<style type=\"text/css\">\n",
       "</style>\n",
       "<table id=\"T_c8c02\">\n",
       "  <thead>\n",
       "    <tr>\n",
       "      <th class=\"blank level0\" >&nbsp;</th>\n",
       "      <th id=\"T_c8c02_level0_col0\" class=\"col_heading level0 col0\" >alt</th>\n",
       "      <th id=\"T_c8c02_level0_col1\" class=\"col_heading level0 col1\" >desc</th>\n",
       "      <th id=\"T_c8c02_level0_col2\" class=\"col_heading level0 col2\" >score</th>\n",
       "      <th id=\"T_c8c02_level0_col3\" class=\"col_heading level0 col3\" >type</th>\n",
       "      <th id=\"T_c8c02_level0_col4\" class=\"col_heading level0 col4\" >group_id</th>\n",
       "      <th id=\"T_c8c02_level0_col5\" class=\"col_heading level0 col5\" >format</th>\n",
       "      <th id=\"T_c8c02_level0_col6\" class=\"col_heading level0 col6\" >src</th>\n",
       "      <th id=\"T_c8c02_level0_col7\" class=\"col_heading level0 col7\" >width</th>\n",
       "    </tr>\n",
       "  </thead>\n",
       "  <tbody>\n",
       "    <tr>\n",
       "      <th id=\"T_c8c02_level0_row0\" class=\"row_heading level0 row0\" >0</th>\n",
       "      <td id=\"T_c8c02_row0_col0\" class=\"data row0 col0\" ></td>\n",
       "      <td id=\"T_c8c02_row0_col1\" class=\"data row0 col1\" >Technology Degree Crafting Tech Geniuses, Not Just Consumers. Join over 7,000 young innovators mastering the future of technology. Our courses incorporate cutting-edge software engineering and technology concepts, developed in sync with the latest industry standards. Apply for Trial Class</td>\n",
       "      <td id=\"T_c8c02_row0_col2\" class=\"data row0 col2\" >5</td>\n",
       "      <td id=\"T_c8c02_row0_col3\" class=\"data row0 col3\" >image</td>\n",
       "      <td id=\"T_c8c02_row0_col4\" class=\"data row0 col4\" >0</td>\n",
       "      <td id=\"T_c8c02_row0_col5\" class=\"data row0 col5\" >jpg</td>\n",
       "      <td id=\"T_c8c02_row0_col6\" class=\"data row0 col6\" >https://cdn.prod.website-files.com/61d6943d6b59241863c825d6/663dfd4378e2f1104770a326_pexels-vanessa-loring-7868883.jpg</td>\n",
       "      <td id=\"T_c8c02_row0_col7\" class=\"data row0 col7\" >None</td>\n",
       "    </tr>\n",
       "    <tr>\n",
       "      <th id=\"T_c8c02_level0_row1\" class=\"row_heading level0 row1\" >1</th>\n",
       "      <td id=\"T_c8c02_row1_col0\" class=\"data row1 col0\" ></td>\n",
       "      <td id=\"T_c8c02_row1_col1\" class=\"data row1 col1\" >Technology Degree Crafting Tech Geniuses, Not Just Consumers. Join over 7,000 young innovators mastering the future of technology. Our courses incorporate cutting-edge software engineering and technology concepts, developed in sync with the latest industry standards. Apply for Trial Class</td>\n",
       "      <td id=\"T_c8c02_row1_col2\" class=\"data row1 col2\" >5</td>\n",
       "      <td id=\"T_c8c02_row1_col3\" class=\"data row1 col3\" >image</td>\n",
       "      <td id=\"T_c8c02_row1_col4\" class=\"data row1 col4\" >0</td>\n",
       "      <td id=\"T_c8c02_row1_col5\" class=\"data row1 col5\" >jpg</td>\n",
       "      <td id=\"T_c8c02_row1_col6\" class=\"data row1 col6\" >https://cdn.prod.website-files.com/61d6943d6b59241863c825d6/663dfd4378e2f1104770a326_pexels-vanessa-loring-7868883-p-500.jpg</td>\n",
       "      <td id=\"T_c8c02_row1_col7\" class=\"data row1 col7\" >500w,</td>\n",
       "    </tr>\n",
       "    <tr>\n",
       "      <th id=\"T_c8c02_level0_row2\" class=\"row_heading level0 row2\" >2</th>\n",
       "      <td id=\"T_c8c02_row2_col0\" class=\"data row2 col0\" ></td>\n",
       "      <td id=\"T_c8c02_row2_col1\" class=\"data row2 col1\" >Technology Degree Crafting Tech Geniuses, Not Just Consumers. Join over 7,000 young innovators mastering the future of technology. Our courses incorporate cutting-edge software engineering and technology concepts, developed in sync with the latest industry standards. Apply for Trial Class</td>\n",
       "      <td id=\"T_c8c02_row2_col2\" class=\"data row2 col2\" >5</td>\n",
       "      <td id=\"T_c8c02_row2_col3\" class=\"data row2 col3\" >image</td>\n",
       "      <td id=\"T_c8c02_row2_col4\" class=\"data row2 col4\" >0</td>\n",
       "      <td id=\"T_c8c02_row2_col5\" class=\"data row2 col5\" >jpg</td>\n",
       "      <td id=\"T_c8c02_row2_col6\" class=\"data row2 col6\" >https://cdn.prod.website-files.com/61d6943d6b59241863c825d6/663dfd4378e2f1104770a326_pexels-vanessa-loring-7868883-p-800.jpg</td>\n",
       "      <td id=\"T_c8c02_row2_col7\" class=\"data row2 col7\" >800w,</td>\n",
       "    </tr>\n",
       "    <tr>\n",
       "      <th id=\"T_c8c02_level0_row3\" class=\"row_heading level0 row3\" >3</th>\n",
       "      <td id=\"T_c8c02_row3_col0\" class=\"data row3 col0\" ></td>\n",
       "      <td id=\"T_c8c02_row3_col1\" class=\"data row3 col1\" >Technology Degree Crafting Tech Geniuses, Not Just Consumers. Join over 7,000 young innovators mastering the future of technology. Our courses incorporate cutting-edge software engineering and technology concepts, developed in sync with the latest industry standards. Apply for Trial Class</td>\n",
       "      <td id=\"T_c8c02_row3_col2\" class=\"data row3 col2\" >5</td>\n",
       "      <td id=\"T_c8c02_row3_col3\" class=\"data row3 col3\" >image</td>\n",
       "      <td id=\"T_c8c02_row3_col4\" class=\"data row3 col4\" >0</td>\n",
       "      <td id=\"T_c8c02_row3_col5\" class=\"data row3 col5\" >jpg</td>\n",
       "      <td id=\"T_c8c02_row3_col6\" class=\"data row3 col6\" >https://cdn.prod.website-files.com/61d6943d6b59241863c825d6/663dfd4378e2f1104770a326_pexels-vanessa-loring-7868883-p-1080.jpg</td>\n",
       "      <td id=\"T_c8c02_row3_col7\" class=\"data row3 col7\" >1080w,</td>\n",
       "    </tr>\n",
       "    <tr>\n",
       "      <th id=\"T_c8c02_level0_row4\" class=\"row_heading level0 row4\" >4</th>\n",
       "      <td id=\"T_c8c02_row4_col0\" class=\"data row4 col0\" ></td>\n",
       "      <td id=\"T_c8c02_row4_col1\" class=\"data row4 col1\" >Technology Degree Crafting Tech Geniuses, Not Just Consumers. Join over 7,000 young innovators mastering the future of technology. Our courses incorporate cutting-edge software engineering and technology concepts, developed in sync with the latest industry standards. Apply for Trial Class</td>\n",
       "      <td id=\"T_c8c02_row4_col2\" class=\"data row4 col2\" >5</td>\n",
       "      <td id=\"T_c8c02_row4_col3\" class=\"data row4 col3\" >image</td>\n",
       "      <td id=\"T_c8c02_row4_col4\" class=\"data row4 col4\" >0</td>\n",
       "      <td id=\"T_c8c02_row4_col5\" class=\"data row4 col5\" >jpg</td>\n",
       "      <td id=\"T_c8c02_row4_col6\" class=\"data row4 col6\" >https://cdn.prod.website-files.com/61d6943d6b59241863c825d6/663dfd4378e2f1104770a326_pexels-vanessa-loring-7868883-p-1600.jpg</td>\n",
       "      <td id=\"T_c8c02_row4_col7\" class=\"data row4 col7\" >1600w,</td>\n",
       "    </tr>\n",
       "  </tbody>\n",
       "</table>\n"
      ],
      "text/plain": [
       "<pandas.io.formats.style.Styler at 0x7e6396bb5690>"
      ]
     },
     "execution_count": 2,
     "metadata": {},
     "output_type": "execute_result"
    }
   ],
   "source": [
    "import pandas as pd\n",
    "import json\n",
    "\n",
    "# Carregar o arquivo JSON\n",
    "with open('../2_web_scraping_of_Imagens_only/imagens_cursos.json', 'r') as arquivo:\n",
    "    dados = json.load(arquivo)\n",
    "\n",
    "# Criar DataFrame com as imagens\n",
    "df = pd.DataFrame(dados['imagens'])\n",
    "\n",
    "df.head().style"
   ]
  },
  {
   "cell_type": "code",
   "execution_count": 3,
   "metadata": {},
   "outputs": [
    {
     "data": {
      "text/plain": [
       "(11, 8)"
      ]
     },
     "execution_count": 3,
     "metadata": {},
     "output_type": "execute_result"
    }
   ],
   "source": [
    "df.shape"
   ]
  },
  {
   "cell_type": "code",
   "execution_count": null,
   "metadata": {},
   "outputs": [],
   "source": []
  }
 ],
 "metadata": {
  "kernelspec": {
   "display_name": "venv_LLMs",
   "language": "python",
   "name": "python3"
  },
  "language_info": {
   "codemirror_mode": {
    "name": "ipython",
    "version": 3
   },
   "file_extension": ".py",
   "mimetype": "text/x-python",
   "name": "python",
   "nbconvert_exporter": "python",
   "pygments_lexer": "ipython3",
   "version": "3.10.12"
  }
 },
 "nbformat": 4,
 "nbformat_minor": 2
}
