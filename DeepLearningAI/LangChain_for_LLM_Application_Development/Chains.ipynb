{
 "cells": [
  {
   "attachments": {},
   "cell_type": "markdown",
   "metadata": {},
   "source": [
    "<h1 align=\"center\"><font color=\"yellow\">LangChain: Chains</font></h1>"
   ]
  },
  {
   "attachments": {},
   "cell_type": "markdown",
   "metadata": {},
   "source": [
    "<font color=\"yellow\">Data Scientist.: Dr.Eddy Giusepe Chirinos Isidro</font>"
   ]
  },
  {
   "attachments": {},
   "cell_type": "markdown",
   "metadata": {},
   "source": [
    "Estudaremos:\n",
    "\n",
    "* LLMChain\n",
    "\n",
    "* Sequential Chains\n",
    "  \n",
    "  * SimpleSequentialChain\n",
    "  * SequentialChain\n",
    "\n",
    "* Router Chain"
   ]
  },
  {
   "cell_type": "code",
   "execution_count": 1,
   "metadata": {},
   "outputs": [],
   "source": [
    "import warnings\n",
    "warnings.filterwarnings('ignore')"
   ]
  },
  {
   "cell_type": "code",
   "execution_count": 2,
   "metadata": {},
   "outputs": [],
   "source": [
    "import os\n",
    "\n",
    "from dotenv import load_dotenv, find_dotenv\n",
    "_ = load_dotenv(find_dotenv()) # read local .env file\n"
   ]
  },
  {
   "cell_type": "code",
   "execution_count": 3,
   "metadata": {},
   "outputs": [
    {
     "data": {
      "text/html": [
       "<div>\n",
       "<style scoped>\n",
       "    .dataframe tbody tr th:only-of-type {\n",
       "        vertical-align: middle;\n",
       "    }\n",
       "\n",
       "    .dataframe tbody tr th {\n",
       "        vertical-align: top;\n",
       "    }\n",
       "\n",
       "    .dataframe thead th {\n",
       "        text-align: right;\n",
       "    }\n",
       "</style>\n",
       "<table border=\"1\" class=\"dataframe\">\n",
       "  <thead>\n",
       "    <tr style=\"text-align: right;\">\n",
       "      <th></th>\n",
       "      <th>question</th>\n",
       "      <th>answer</th>\n",
       "    </tr>\n",
       "  </thead>\n",
       "  <tbody>\n",
       "    <tr>\n",
       "      <th>0</th>\n",
       "      <td>❗ Como fazer uma reclamação da Vivo?</td>\n",
       "      <td>Para reclamar com a Vivo, basta ligar no 103 15</td>\n",
       "    </tr>\n",
       "    <tr>\n",
       "      <th>1</th>\n",
       "      <td>🏠 Como sei que a cobertura da Vivo Fibra atend...</td>\n",
       "      <td>A Vivo está presente em mais de 5.000 estados ...</td>\n",
       "    </tr>\n",
       "    <tr>\n",
       "      <th>2</th>\n",
       "      <td>📞 Qual o telefone de SAC da Vivo Internet?</td>\n",
       "      <td>Para atendimento, problemas de conexão ou cont...</td>\n",
       "    </tr>\n",
       "    <tr>\n",
       "      <th>3</th>\n",
       "      <td>📲 Como entrar em contato com a Vivo para emiss...</td>\n",
       "      <td>Para emitir a segunda via da sua fatura, basta...</td>\n",
       "    </tr>\n",
       "    <tr>\n",
       "      <th>4</th>\n",
       "      <td>📳 Qual o telefone da Vivo para falar com atend...</td>\n",
       "      <td>O número de telefone da Vivo para falar com at...</td>\n",
       "    </tr>\n",
       "  </tbody>\n",
       "</table>\n",
       "</div>"
      ],
      "text/plain": [
       "                                            question   \n",
       "0               ❗ Como fazer uma reclamação da Vivo?  \\\n",
       "1  🏠 Como sei que a cobertura da Vivo Fibra atend...   \n",
       "2         📞 Qual o telefone de SAC da Vivo Internet?   \n",
       "3  📲 Como entrar em contato com a Vivo para emiss...   \n",
       "4  📳 Qual o telefone da Vivo para falar com atend...   \n",
       "\n",
       "                                              answer  \n",
       "0    Para reclamar com a Vivo, basta ligar no 103 15  \n",
       "1  A Vivo está presente em mais de 5.000 estados ...  \n",
       "2  Para atendimento, problemas de conexão ou cont...  \n",
       "3  Para emitir a segunda via da sua fatura, basta...  \n",
       "4  O número de telefone da Vivo para falar com at...  "
      ]
     },
     "execution_count": 3,
     "metadata": {},
     "output_type": "execute_result"
    }
   ],
   "source": [
    "import pandas as pd\n",
    "\n",
    "df = pd.read_csv('./Q&A_operadora_vivo.csv')\n",
    "df.head()\n",
    "\n",
    "\n",
    "# NOTA: No DataFrame original têm as colunas: \"Product\" e \"Review\" (a qual é a abordagem de satisfação do cliente)"
   ]
  },
  {
   "cell_type": "code",
   "execution_count": 4,
   "metadata": {},
   "outputs": [
    {
     "data": {
      "text/plain": [
       "(26, 2)"
      ]
     },
     "execution_count": 4,
     "metadata": {},
     "output_type": "execute_result"
    }
   ],
   "source": [
    "df.shape"
   ]
  },
  {
   "attachments": {},
   "cell_type": "markdown",
   "metadata": {},
   "source": [
    "# <font color=\"red\">LLMChain</font>"
   ]
  },
  {
   "cell_type": "code",
   "execution_count": 5,
   "metadata": {},
   "outputs": [],
   "source": [
    "from langchain.chat_models import ChatOpenAI\n",
    "from langchain.prompts import ChatPromptTemplate\n",
    "from langchain.chains import LLMChain\n",
    "\n",
    "\n",
    "llm = ChatOpenAI(temperature=0.0)"
   ]
  },
  {
   "cell_type": "code",
   "execution_count": 6,
   "metadata": {},
   "outputs": [],
   "source": [
    "\n",
    "prompt = ChatPromptTemplate.from_template(\n",
    "    \" Qual é o melhor nome para descrever \\\n",
    "    uma empresa que fabrica {product}?\"\n",
    ")"
   ]
  },
  {
   "cell_type": "code",
   "execution_count": 7,
   "metadata": {},
   "outputs": [],
   "source": [
    "chain = LLMChain(llm=llm, prompt=prompt)"
   ]
  },
  {
   "cell_type": "code",
   "execution_count": 8,
   "metadata": {},
   "outputs": [
    {
     "data": {
      "text/plain": [
       "'Um possível nome para descrever uma empresa que fabrica persianas de diferentes cores e impermeáveis poderia ser \"ColorBlind Shades\" (Persianas Coloridas e Impermeáveis).'"
      ]
     },
     "execution_count": 8,
     "metadata": {},
     "output_type": "execute_result"
    }
   ],
   "source": [
    "product = \"Persianas de diferentes cores e impermeáveis.\"\n",
    "\n",
    "chain.run(product)\n"
   ]
  },
  {
   "attachments": {},
   "cell_type": "markdown",
   "metadata": {},
   "source": [
    "# <font color=\"red\">SimpleSequentialChain</font>"
   ]
  },
  {
   "cell_type": "code",
   "execution_count": 9,
   "metadata": {},
   "outputs": [],
   "source": [
    "from langchain.chains import SimpleSequentialChain\n",
    "\n",
    "\n",
    "llm = ChatOpenAI(temperature=0.0)\n",
    "\n",
    "\n",
    "# Prompt template 1:\n",
    "first_prompt = ChatPromptTemplate.from_template(\n",
    "    \"Qual é o melhor nome para descrever \\\n",
    "    uma empresa que fabrica {product}?\"\n",
    ")\n",
    "\n",
    "\n",
    "# Chain 1:\n",
    "chain_one = LLMChain(llm=llm, prompt=first_prompt)"
   ]
  },
  {
   "cell_type": "code",
   "execution_count": 10,
   "metadata": {},
   "outputs": [],
   "source": [
    "# Prompt template 2:\n",
    "second_prompt = ChatPromptTemplate.from_template(\n",
    "    \"Escreva uma descrição de 20 palavras para a \\\n",
    "    seguinte empresa:{company_name}\"\n",
    ")\n",
    "\n",
    "\n",
    "# chain 2\n",
    "chain_two = LLMChain(llm=llm, prompt=second_prompt)"
   ]
  },
  {
   "cell_type": "code",
   "execution_count": 11,
   "metadata": {},
   "outputs": [],
   "source": [
    "overall_simple_chain = SimpleSequentialChain(chains=[chain_one, chain_two],\n",
    "                                             verbose=True\n",
    "                                            )"
   ]
  },
  {
   "cell_type": "code",
   "execution_count": 12,
   "metadata": {},
   "outputs": [
    {
     "name": "stdout",
     "output_type": "stream",
     "text": [
      "\n",
      "\n",
      "\u001b[1m> Entering new  chain...\u001b[0m\n",
      "\u001b[36;1m\u001b[1;3mUm possível nome para descrever uma empresa que fabrica persianas de diferentes cores e impermeáveis poderia ser \"ColorBlind\" ou \"AquaShade\".\u001b[0m\n",
      "\u001b[33;1m\u001b[1;3m\"ColorBlind\" é uma empresa especializada na fabricação de persianas impermeáveis em uma ampla variedade de cores vibrantes.\u001b[0m\n",
      "\n",
      "\u001b[1m> Finished chain.\u001b[0m\n"
     ]
    },
    {
     "data": {
      "text/plain": [
       "'\"ColorBlind\" é uma empresa especializada na fabricação de persianas impermeáveis em uma ampla variedade de cores vibrantes.'"
      ]
     },
     "execution_count": 12,
     "metadata": {},
     "output_type": "execute_result"
    }
   ],
   "source": [
    "overall_simple_chain.run(product)\n"
   ]
  },
  {
   "attachments": {},
   "cell_type": "markdown",
   "metadata": {},
   "source": [
    "# <font color=\"red\">SequentialChain</font>"
   ]
  },
  {
   "cell_type": "code",
   "execution_count": 13,
   "metadata": {},
   "outputs": [],
   "source": [
    "from langchain.chains import SequentialChain\n",
    "\n",
    "\n",
    "llm = ChatOpenAI(temperature=0.0)\n",
    "\n",
    "# prompt template 1: translate to english\n",
    "first_prompt = ChatPromptTemplate.from_template(\n",
    "    \"Traduza a seguinte resenha para o Inglês:\"\n",
    "    \"\\n\\n{Review}\"\n",
    ")\n",
    "# chain 1: input = Review  and  output = English_Review\n",
    "chain_one = LLMChain(llm=llm, prompt=first_prompt, \n",
    "                     output_key=\"English_Review\"\n",
    "                    )\n"
   ]
  },
  {
   "cell_type": "code",
   "execution_count": 14,
   "metadata": {},
   "outputs": [],
   "source": [
    "second_prompt = ChatPromptTemplate.from_template(\n",
    "    \"Você pode resumir a seguinte resenha em 1 frase:\"\n",
    "    \"\\n\\n{English_Review}\"\n",
    ")\n",
    "# chain 2: input = English_Review   and   output = summary\n",
    "chain_two = LLMChain(llm=llm, prompt=second_prompt, \n",
    "                     output_key=\"summary\"\n",
    "                    )\n"
   ]
  },
  {
   "cell_type": "code",
   "execution_count": 15,
   "metadata": {},
   "outputs": [],
   "source": [
    "# prompt template 3: translate to english\n",
    "third_prompt = ChatPromptTemplate.from_template(\n",
    "    \"Em que idioma está a seguinte resenha:\\n\\n{Review}\"\n",
    ")\n",
    "\n",
    "# chain 3: input = Review   and  output = language\n",
    "chain_three = LLMChain(llm=llm, prompt=third_prompt,\n",
    "                       output_key=\"language\"\n",
    "                      )"
   ]
  },
  {
   "cell_type": "code",
   "execution_count": 16,
   "metadata": {},
   "outputs": [],
   "source": [
    "# prompt template 4: follow up message\n",
    "fourth_prompt = ChatPromptTemplate.from_template(\n",
    "    \"Escreva uma resposta de acompanhamento para o seguinte\"\n",
    "    \"resumo no idioma especificado:\"\n",
    "    \"\\n\\nResumo: {summary}\\n\\nIdioma: {language}\"\n",
    ")\n",
    "\n",
    "# chain 4: input= summary, language and output= followup_message\n",
    "chain_four = LLMChain(llm=llm, prompt=fourth_prompt,\n",
    "                      output_key=\"followup_message\"\n",
    "                     )\n"
   ]
  },
  {
   "cell_type": "code",
   "execution_count": 21,
   "metadata": {},
   "outputs": [],
   "source": [
    "# overall_chain: input= Review \n",
    "# and output= English_Review,summary, followup_message\n",
    "overall_chain = SequentialChain(\n",
    "    chains=[chain_one, chain_two, chain_three, chain_four],\n",
    "    input_variables=[\"Review\"],\n",
    "    output_variables=[\"English_Review\", \"summary\", \"language\", \"followup_message\"],\n",
    "    verbose=True\n",
    ")\n"
   ]
  },
  {
   "cell_type": "code",
   "execution_count": 22,
   "metadata": {},
   "outputs": [
    {
     "name": "stdout",
     "output_type": "stream",
     "text": [
      "\n",
      "\n",
      "\u001b[1m> Entering new  chain...\u001b[0m\n",
      "\n",
      "\u001b[1m> Finished chain.\u001b[0m\n"
     ]
    },
    {
     "data": {
      "text/plain": [
       "{'Review': 'Para reclamar com a Vivo, basta ligar no 103 15',\n",
       " 'English_Review': 'To complain to Vivo, just call 103 15.',\n",
       " 'summary': 'To file a complaint with Vivo, dial 103 15.',\n",
       " 'language': 'A resenha está em português.',\n",
       " 'followup_message': 'Caro cliente,\\n\\nAgradecemos por entrar em contato conosco e por compartilhar seu resumo em português. Se você está procurando registrar uma reclamação com a Vivo, sugerimos que você disque o número 103 15. Nossa equipe de atendimento ao cliente estará pronta para ajudá-lo e resolver qualquer problema que você possa ter.\\n\\nLembramos que estamos disponíveis para atendê-lo 24 horas por dia, 7 dias por semana. Se você tiver alguma dúvida adicional ou precisar de assistência adicional, não hesite em nos contatar novamente.\\n\\nAgradecemos por escolher a Vivo como seu provedor de serviços e esperamos poder atendê-lo da melhor maneira possível.\\n\\nAtenciosamente,\\nEquipe de Atendimento ao Cliente da Vivo'}"
      ]
     },
     "execution_count": 22,
     "metadata": {},
     "output_type": "execute_result"
    }
   ],
   "source": [
    "review = df.answer[0]\n",
    "overall_chain(review)\n"
   ]
  },
  {
   "attachments": {},
   "cell_type": "markdown",
   "metadata": {},
   "source": [
    "# <font color=\"red\">Router Chain</font>"
   ]
  },
  {
   "cell_type": "code",
   "execution_count": 23,
   "metadata": {},
   "outputs": [],
   "source": [
    "physics_template = \"\"\"Você é um professor de física muito inteligente. \\\n",
    "Você é ótimo em responder perguntas sobre física de maneira concisa e fácil \\\n",
    "de entender. Quando você não sabe a resposta para uma pergunta, você admite \\\n",
    "que não sabe. \\\n",
    "\n",
    "Aqui está uma pergunta: {input}\"\"\"\n",
    "\n",
    "\n",
    "math_template = \"\"\"Você é um matemático muito bom. Você é ótimo em responder \\\n",
    "perguntas de matemática. Você é tão bom porque é capaz de dividir problemas difíceis \\\n",
    "em suas partes componentes, responder às partes componentes e depois reuni-las para \\\n",
    "responder à pergunta mais ampla. \\\n",
    "\n",
    "Aqui está uma pergunta: {input}\"\"\"\n",
    "\n",
    "history_template = \"\"\"Você é um historiador muito bom. Você tem um excelente conhecimento \\\n",
    "e compreensão de pessoas, eventos e contextos de uma variedade de períodos históricos. \\\n",
    "Você tem a capacidade de pensar, refletir, debater, discutir e avaliar o passado. Você tem \\\n",
    "respeito pelas evidências históricas e a capacidade de usá-las para apoiar suas explicações \\\n",
    "e julgamentos. \\\n",
    "\n",
    "Aqui está uma pergunta:\n",
    "{input}\"\"\"\n",
    "\n",
    "\n",
    "computerscience_template = \"\"\"Você é um cientista da computação de sucesso. Você tem paixão \\\n",
    "por criatividade, colaboração, visão de futuro, confiança, fortes capacidades de resolução de \\\n",
    "problemas, compreensão de teorias e algoritmos e excelentes habilidades de comunicação. \\\n",
    "Você é ótimo em responder perguntas de codificação. Você é tão bom porque sabe como resolver \\\n",
    "um problema descrevendo a solução em etapas imperativas que uma máquina pode interpretar \\\n",
    "facilmente e sabe como escolher uma solução que tenha um bom equilíbrio entre complexidade de \\\n",
    "tempo e complexidade de espaço. \\\n",
    "\n",
    "Aqui está uma pergunta:\n",
    "{input}\"\"\"\n",
    "\n"
   ]
  },
  {
   "cell_type": "code",
   "execution_count": 24,
   "metadata": {},
   "outputs": [],
   "source": [
    "prompt_infos = [\n",
    "    {\n",
    "        \"name\": \"Física\", \n",
    "        \"description\": \"Bom para responder perguntas sobre física\", \n",
    "        \"prompt_template\": physics_template\n",
    "    },\n",
    "    {\n",
    "        \"name\": \"Matemática\", \n",
    "        \"description\": \"Bom para responder questões de matemática\", \n",
    "        \"prompt_template\": math_template\n",
    "    },\n",
    "    {\n",
    "        \"name\": \"História\", \n",
    "        \"description\": \"Bom para responder perguntas de história\", \n",
    "        \"prompt_template\": history_template\n",
    "    },\n",
    "    {\n",
    "        \"name\": \"Ciência da Computação\", \n",
    "        \"description\": \"Bom para responder perguntas de ciência da computação\", \n",
    "        \"prompt_template\": computerscience_template\n",
    "    }\n",
    "]"
   ]
  },
  {
   "cell_type": "code",
   "execution_count": 25,
   "metadata": {},
   "outputs": [],
   "source": [
    "from langchain.chains.router import MultiPromptChain\n",
    "from langchain.chains.router.llm_router import LLMRouterChain,RouterOutputParser\n",
    "from langchain.prompts import PromptTemplate\n",
    "\n",
    "\n",
    "llm = ChatOpenAI(temperature=0)"
   ]
  },
  {
   "cell_type": "code",
   "execution_count": 26,
   "metadata": {},
   "outputs": [],
   "source": [
    "destination_chains = {}\n",
    "\n",
    "for p_info in prompt_infos:\n",
    "    name = p_info[\"name\"]\n",
    "    prompt_template = p_info[\"prompt_template\"]\n",
    "    prompt = ChatPromptTemplate.from_template(template=prompt_template)\n",
    "\n",
    "    chain = LLMChain(llm=llm, prompt=prompt)\n",
    "    \n",
    "    destination_chains[name] = chain  \n",
    "    \n",
    "destinations = [f\"{p['name']}: {p['description']}\" for p in prompt_infos]\n",
    "destinations_str = \"\\n\".join(destinations)\n"
   ]
  },
  {
   "cell_type": "code",
   "execution_count": 27,
   "metadata": {},
   "outputs": [],
   "source": [
    "default_prompt = ChatPromptTemplate.from_template(\"{input}\")\n",
    "default_chain = LLMChain(llm=llm, prompt=default_prompt)\n"
   ]
  },
  {
   "cell_type": "code",
   "execution_count": 28,
   "metadata": {},
   "outputs": [],
   "source": [
    "MULTI_PROMPT_ROUTER_TEMPLATE = \"\"\"Dada uma entrada de texto bruto para um modelo de idioma, \\\n",
    "selecione o prompt do modelo mais adequado para a entrada. Você receberá os nomes dos prompts \\\n",
    "disponíveis e uma descrição do que o prompt é mais adequado. Você também pode revisar a entrada \\\n",
    "original se achar que a revisão levará a uma melhor resposta do modelo de linguagem.\n",
    "\n",
    "<< FORMATTING >>\n",
    "Retorne um snippet de código markdown com um objeto JSON formatado para se parecer com:\n",
    "```json\n",
    "{{{{\n",
    "    \"destination\": string \\ name of the prompt to use or \"DEFAULT\"\n",
    "    \"next_inputs\": string \\ a potentially modified version of the original input\n",
    "}}}}\n",
    "```\n",
    "\n",
    "REMEMBER: \"destination\" MUST be one of the candidate prompt \\\n",
    "names specified below OR it can be \"DEFAULT\" if the input is not\\\n",
    "well suited for any of the candidate prompts.\n",
    "REMEMBER: \"next_inputs\" can just be the original input \\\n",
    "if you don't think any modifications are needed.\n",
    "\n",
    "<< CANDIDATE PROMPTS >>\n",
    "{destinations}\n",
    "\n",
    "<< INPUT >>\n",
    "{{input}}\n",
    "\n",
    "<< OUTPUT (remember to include the ```json)>>\"\"\""
   ]
  },
  {
   "cell_type": "code",
   "execution_count": 29,
   "metadata": {},
   "outputs": [],
   "source": [
    "router_template = MULTI_PROMPT_ROUTER_TEMPLATE.format(\n",
    "    destinations=destinations_str\n",
    ")\n",
    "router_prompt = PromptTemplate(\n",
    "    template=router_template,\n",
    "    input_variables=[\"input\"],\n",
    "    output_parser=RouterOutputParser(),\n",
    ")\n",
    "\n",
    "router_chain = LLMRouterChain.from_llm(llm, router_prompt)\n"
   ]
  },
  {
   "cell_type": "code",
   "execution_count": 30,
   "metadata": {},
   "outputs": [],
   "source": [
    "chain = MultiPromptChain(router_chain=router_chain, \n",
    "                         destination_chains=destination_chains, \n",
    "                         default_chain=default_chain, verbose=True\n",
    "                        )\n"
   ]
  },
  {
   "cell_type": "code",
   "execution_count": 31,
   "metadata": {},
   "outputs": [
    {
     "name": "stdout",
     "output_type": "stream",
     "text": [
      "\n",
      "\n",
      "\u001b[1m> Entering new  chain...\u001b[0m\n",
      "Física: {'input': 'O que é radiação de corpo negro?'}\n",
      "\u001b[1m> Finished chain.\u001b[0m\n"
     ]
    },
    {
     "data": {
      "text/plain": [
       "'A radiação de corpo negro é um conceito importante na física que descreve a radiação eletromagnética emitida por um objeto que absorve toda a radiação incidente sobre ele, sem refletir ou transmitir qualquer parte dela. Um corpo negro ideal é um objeto hipotético que absorve toda a radiação que incide sobre ele, independentemente da frequência ou comprimento de onda. \\n\\nA radiação de corpo negro é caracterizada por sua distribuição espectral de energia, conhecida como distribuição de Planck. Essa distribuição descreve como a energia é distribuída em diferentes comprimentos de onda ou frequências. A distribuição de Planck mostra que a radiação de corpo negro tem um pico de intensidade em uma determinada frequência, que está relacionada à temperatura do objeto. \\n\\nA radiação de corpo negro é um fenômeno importante em várias áreas da física, como a termodinâmica e a teoria quântica. Ela desempenhou um papel fundamental no desenvolvimento da teoria quântica, pois a distribuição de Planck não podia ser explicada pela física clássica. A descoberta da radiação de corpo negro e sua explicação através da teoria quântica foram marcos importantes na compreensão da natureza da radiação eletromagnética.'"
      ]
     },
     "execution_count": 31,
     "metadata": {},
     "output_type": "execute_result"
    }
   ],
   "source": [
    "chain.run(\"O que é radiação de corpo negro?\")\n"
   ]
  },
  {
   "cell_type": "code",
   "execution_count": 32,
   "metadata": {},
   "outputs": [
    {
     "name": "stdout",
     "output_type": "stream",
     "text": [
      "\n",
      "\n",
      "\u001b[1m> Entering new  chain...\u001b[0m\n",
      "Matemática: {'input': 'Quanto é 2 + 2'}\n",
      "\u001b[1m> Finished chain.\u001b[0m\n"
     ]
    },
    {
     "data": {
      "text/plain": [
       "'A resposta para a pergunta \"Quanto é 2 + 2?\" é 4.'"
      ]
     },
     "execution_count": 32,
     "metadata": {},
     "output_type": "execute_result"
    }
   ],
   "source": [
    "chain.run(\"Quanto é 2 + 2\")"
   ]
  },
  {
   "cell_type": "code",
   "execution_count": 33,
   "metadata": {},
   "outputs": [
    {
     "name": "stdout",
     "output_type": "stream",
     "text": [
      "\n",
      "\n",
      "\u001b[1m> Entering new  chain...\u001b[0m\n",
      "Ciência da Computação: {'input': 'Por que todas as células do nosso corpo contêm DNA?'}\n",
      "\u001b[1m> Finished chain.\u001b[0m\n"
     ]
    },
    {
     "data": {
      "text/plain": [
       "'Todas as células do nosso corpo contêm DNA porque o DNA é a molécula responsável por armazenar e transmitir informações genéticas. O DNA contém instruções para a síntese de proteínas, que são essenciais para o funcionamento e desenvolvimento de um organismo.\\n\\nCada célula do nosso corpo possui um conjunto completo de DNA, que contém todas as informações necessárias para a formação e manutenção do organismo. Essas informações são transmitidas de geração em geração e são responsáveis por determinar as características físicas e biológicas de um indivíduo.\\n\\nAlém disso, o DNA também desempenha um papel fundamental na regulação dos processos celulares. Ele controla a expressão dos genes, ou seja, determina quais genes serão ativados ou desativados em cada tipo de célula. Isso permite que as células desempenhem funções específicas de acordo com sua especialização, como as células musculares, células nervosas, células sanguíneas, entre outras.\\n\\nEm resumo, todas as células do nosso corpo contêm DNA porque ele é a molécula responsável por armazenar e transmitir informações genéticas, controlando o funcionamento e desenvolvimento de um organismo.'"
      ]
     },
     "execution_count": 33,
     "metadata": {},
     "output_type": "execute_result"
    }
   ],
   "source": [
    "chain.run(\"Por que todas as células do nosso corpo contêm DNA?\")"
   ]
  }
 ],
 "metadata": {
  "kernelspec": {
   "display_name": "venv_LLMs",
   "language": "python",
   "name": "python3"
  },
  "language_info": {
   "codemirror_mode": {
    "name": "ipython",
    "version": 3
   },
   "file_extension": ".py",
   "mimetype": "text/x-python",
   "name": "python",
   "nbconvert_exporter": "python",
   "pygments_lexer": "ipython3",
   "version": "3.10.12"
  },
  "orig_nbformat": 4
 },
 "nbformat": 4,
 "nbformat_minor": 2
}
