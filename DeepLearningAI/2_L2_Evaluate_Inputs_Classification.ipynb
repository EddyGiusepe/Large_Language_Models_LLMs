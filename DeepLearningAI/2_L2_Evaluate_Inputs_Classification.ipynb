{
 "cells": [
  {
   "attachments": {},
   "cell_type": "markdown",
   "metadata": {},
   "source": [
    "<h1 align=\"center\">Building Systems with the ChatGPT API</h1>"
   ]
  },
  {
   "attachments": {},
   "cell_type": "markdown",
   "metadata": {},
   "source": [
    "Data Scientist.: PhD.Eddy Giusepe Chirinos Isidro"
   ]
  },
  {
   "attachments": {},
   "cell_type": "markdown",
   "metadata": {},
   "source": [
    "<font color=\"orange\">Este estudo é baseado no `DeepLearning.AI`.</font>"
   ]
  },
  {
   "attachments": {},
   "cell_type": "markdown",
   "metadata": {},
   "source": [
    "![](https://img.evbuc.com/https%3A%2F%2Fcdn.evbuc.com%2Fimages%2F125559383%2F317212851579%2F1%2Foriginal.20210208-232017?w=512&auto=format%2Ccompress&q=75&sharp=10&rect=0%2C0%2C2246%2C2246&s=40aa0fb13fe40ce86241ae7b8fc8caea)"
   ]
  },
  {
   "attachments": {},
   "cell_type": "markdown",
   "metadata": {},
   "source": [
    "# L2: Avaliar entradas: classificação"
   ]
  },
  {
   "cell_type": "code",
   "execution_count": 1,
   "metadata": {},
   "outputs": [],
   "source": [
    "import os\n",
    "import openai\n",
    "import tiktoken\n",
    "from dotenv import load_dotenv, find_dotenv\n",
    "_ = load_dotenv(find_dotenv()) # read local .env file\n",
    "\n",
    "openai.api_key  = os.environ['OPENAI_API_KEY']"
   ]
  },
  {
   "cell_type": "code",
   "execution_count": 2,
   "metadata": {},
   "outputs": [],
   "source": [
    "def get_completion_from_messages(messages, model=\"gpt-3.5-turbo\", temperature=0, max_tokens=500):\n",
    "\n",
    "    response = openai.ChatCompletion.create(model=model,\n",
    "                                            messages=messages,\n",
    "                                            temperature=temperature, \n",
    "                                            max_tokens=max_tokens,\n",
    "                                           )\n",
    "    \n",
    "    return response.choices[0].message[\"content\"]\n"
   ]
  },
  {
   "attachments": {},
   "cell_type": "markdown",
   "metadata": {},
   "source": [
    "# <font color=\"red\">Classifique as queries dos clientes para lidar com diferentes casos</font>"
   ]
  },
  {
   "cell_type": "code",
   "execution_count": 3,
   "metadata": {},
   "outputs": [
    {
     "name": "stdout",
     "output_type": "stream",
     "text": [
      "{\n",
      "  \"primária\": \"Gerenciamento de contas\",\n",
      "  \"secundária\": \"Encerrar conta\"\n",
      "}\n"
     ]
    }
   ],
   "source": [
    "delimiter = \"####\"\n",
    "\n",
    "system_message = f\"\"\"\n",
    "Você será fornecido com queries de atendimento ao cliente. \\\n",
    "A query de atendimento ao cliente será delimitada por caracteres {delimiter}.\n",
    "Classifique cada query em uma categoria primária \\\n",
    "e uma categoria secundária. \n",
    "Forneça sua saída no formato json com \\\n",
    "chaves: primária e secundária.\n",
    "\n",
    "Categorias primárias: Faturamento, Suporte técnico, \\\n",
    "Gerenciamento de contas ou Consulta geral.\n",
    "\n",
    "Categorias secundárias de faturamento:\n",
    "Cancelar inscrição ou atualizar\n",
    "Adicione um método de pagamento\n",
    "Explicação para cobrar\n",
    "Contestar uma cobrança\n",
    "\n",
    "Categorias secundárias de suporte técnico:\n",
    "Solução geral de problemas\n",
    "Compatibilidade do dispositivo\n",
    "Atualizações de software\n",
    "\n",
    "Categorias secundárias de gerenciamento de contas:\n",
    "Redefinição de senha\n",
    "Atualizar informações pessoais\n",
    "Encerrar conta\n",
    "Segurança da conta\n",
    "\n",
    "Categorias secundárias de Consulta geral:\n",
    "Informação do produto\n",
    "Preços\n",
    "Comentários\n",
    "Falar com um humano\n",
    "\n",
    "\"\"\"\n",
    "user_message = f\"\"\"\\\n",
    "Eu quero que você exclua meu perfil e todos os meus dados de usuário\"\"\"\n",
    "messages =  [  \n",
    "{'role':'system', \n",
    " 'content': system_message},    \n",
    "{'role':'user', \n",
    " 'content': f\"{delimiter}{user_message}{delimiter}\"},  \n",
    "] \n",
    "\n",
    "response = get_completion_from_messages(messages)\n",
    "\n",
    "print(response)"
   ]
  },
  {
   "cell_type": "code",
   "execution_count": 4,
   "metadata": {},
   "outputs": [
    {
     "name": "stdout",
     "output_type": "stream",
     "text": [
      "{\n",
      "  \"primária\": \"Consulta geral\",\n",
      "  \"secundária\": \"Informação do produto\"\n",
      "}\n"
     ]
    }
   ],
   "source": [
    "user_message = f\"\"\"\\\n",
    "Conte-me mais sobre suas TVs de tela plana.\"\"\"\n",
    "messages =  [  \n",
    "{'role':'system', \n",
    " 'content': system_message},    \n",
    "{'role':'user', \n",
    " 'content': f\"{delimiter}{user_message}{delimiter}\"},  \n",
    "] \n",
    "\n",
    "response = get_completion_from_messages(messages)\n",
    "\n",
    "print(response)\n"
   ]
  },
  {
   "cell_type": "code",
   "execution_count": null,
   "metadata": {},
   "outputs": [],
   "source": []
  },
  {
   "cell_type": "code",
   "execution_count": null,
   "metadata": {},
   "outputs": [],
   "source": []
  }
 ],
 "metadata": {
  "kernelspec": {
   "display_name": "venv_LLMs",
   "language": "python",
   "name": "python3"
  },
  "language_info": {
   "codemirror_mode": {
    "name": "ipython",
    "version": 3
   },
   "file_extension": ".py",
   "mimetype": "text/x-python",
   "name": "python",
   "nbconvert_exporter": "python",
   "pygments_lexer": "ipython3",
   "version": "3.9.16"
  },
  "orig_nbformat": 4
 },
 "nbformat": 4,
 "nbformat_minor": 2
}
