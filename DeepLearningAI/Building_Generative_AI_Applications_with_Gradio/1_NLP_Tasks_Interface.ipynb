{
 "cells": [
  {
   "cell_type": "markdown",
   "metadata": {},
   "source": [
    "<h1 align=\"center\"><font color=\"yellow\">L1: NLP tasks with a simple interface  🖼️📝</font></h1>"
   ]
  },
  {
   "cell_type": "markdown",
   "metadata": {},
   "source": [
    "<font color=\"yellow\">Data Scientist.: Dr.Eddy Giusepe Chirinos Isidro</font>"
   ]
  },
  {
   "cell_type": "markdown",
   "metadata": {},
   "source": [
    "# <font color=\"red\">Setup</font>"
   ]
  },
  {
   "cell_type": "code",
   "execution_count": 1,
   "metadata": {},
   "outputs": [],
   "source": [
    "import os\n",
    "import io\n",
    "from IPython.display import Image, display, HTML\n",
    "from PIL import Image\n",
    "import base64 \n",
    "from dotenv import load_dotenv, find_dotenv\n",
    "_ = load_dotenv(find_dotenv()) # read local .env file\n",
    "Eddy_HUGGINGFACEHUB_API_TOKEN = os.environ['HUGGINGFACEHUB_API_TOKEN'] \n"
   ]
  },
  {
   "cell_type": "code",
   "execution_count": null,
   "metadata": {},
   "outputs": [],
   "source": [
    "# Helper function\n",
    "import requests, json\n",
    "\n",
    "#Summarization endpoint\n",
    "def get_completion(inputs, parameters=None, ENDPOINT_URL=\"https://api-inference.huggingface.co/models/csebuetnlp/mT5_multilingual_XLSum\"): \n",
    "    headers = {\n",
    "      \"Authorization\": f\"Bearer {Eddy_HUGGINGFACEHUB_API_TOKEN}\",\n",
    "      \"Content-Type\": \"application/json\"\n",
    "    }\n",
    "    data = { \"inputs\": inputs }\n",
    "    if parameters is not None:\n",
    "        data.update({\"parameters\": parameters})\n",
    "    response = requests.request(\"POST\",\n",
    "                                ENDPOINT_URL, headers=headers,\n",
    "                                data=json.dumps(data)\n",
    "                               )\n",
    "    return json.loads(response.content.decode(\"utf-8\"))"
   ]
  },
  {
   "cell_type": "markdown",
   "metadata": {},
   "source": [
    "# <font color=\"red\">Building a text summarization app</font>"
   ]
  },
  {
   "cell_type": "markdown",
   "metadata": {},
   "source": [
    "Usamos um modelo Multilingual: https://huggingface.co/csebuetnlp/mT5_multilingual_XLSum"
   ]
  },
  {
   "cell_type": "markdown",
   "metadata": {},
   "source": [
    "## <font color=\"yellow\">Que tal executá-lo localmente?</font>"
   ]
  },
  {
   "cell_type": "markdown",
   "metadata": {},
   "source": [
    "O código seria muito semelhante se você o estivesse executando localmente em vez de uma `API`. O mesmo se aplica a todos os modelos do restante do curso, certifique-se de verificar a página de documentação do [Pipelines](https://huggingface.co/docs/transformers/main_classes/pipelines)."
   ]
  },
  {
   "cell_type": "code",
   "execution_count": null,
   "metadata": {},
   "outputs": [],
   "source": [
    "from transformers import pipeline\n",
    "\n",
    "get_completion = pipeline(\"summarization\", model=\"csebuetnlp/mT5_multilingual_XLSum\")\n",
    "\n",
    "def summarize(input):\n",
    "    output = get_completion(input)\n",
    "    return output[0]['summary_text']\n"
   ]
  },
  {
   "cell_type": "code",
   "execution_count": null,
   "metadata": {},
   "outputs": [],
   "source": [
    "text = ('''A torre tem 324 metros (1.063 pés) de altura, quase a mesma altura de um edifício de 81 andares, e é a estrutura mais alta de Paris. \\\n",
    "        Sua base é quadrada, medindo 125 metros (410 pés) de cada lado. \\\n",
    "        Durante sua construção, a Torre Eiffel ultrapassou o Monumento a Washington para se tornar a estrutura artificial mais alta do mundo, \\\n",
    "        título que manteve por 41 anos, até que o Edifício Chrysler na cidade de \\\n",
    "        Nova York foi concluído em 1930. Foi a primeira estrutura a alcançar uma altura de 300 metros. Devido à adição de uma antena de transmissão \\\n",
    "        no topo da torre em 1957, ela agora é 5,2 metros (17 pés) mais alta \\\n",
    "        que o Edifício Chrysler. Excluindo os transmissores, a Torre Eiffel é a segunda estrutura independente mais alta da França, depois do Viaduto Millau.''')\n",
    "\n",
    "\n",
    "get_completion(text)"
   ]
  },
  {
   "cell_type": "markdown",
   "metadata": {},
   "source": [
    "## <font color=\"yellow\">Getting started with Gradio `gr.Interface`</font>"
   ]
  },
  {
   "cell_type": "markdown",
   "metadata": {},
   "source": [
    "<font color=\"pink\">Que tal executá-lo localmente?</font>\n",
    "\n",
    "O código seria muito semelhante se você o estivesse executando localmente. Simplesmente remova todos os parâmetros do método launch\n",
    "\n",
    "`demo.launch()`"
   ]
  },
  {
   "cell_type": "code",
   "execution_count": null,
   "metadata": {},
   "outputs": [],
   "source": [
    "import gradio as gr\n",
    "\n",
    "def summarize(input):\n",
    "    output = get_completion(input)\n",
    "    return output[0]['summary_text']\n",
    "    \n",
    "gr.close_all()\n",
    "\n",
    "demo = gr.Interface(fn=summarize, inputs=\"text\", outputs=\"text\")\n",
    "demo.launch(share=True, debug=True, server_port=7860)\n"
   ]
  },
  {
   "cell_type": "markdown",
   "metadata": {},
   "source": [
    "# <font color=\"red\">Building a Named Entity Recognition app</font>"
   ]
  },
  {
   "cell_type": "markdown",
   "metadata": {},
   "source": [
    "<font color=\"yellow\">A seguinte célula mostra de uma maneira diferente ao Tutorial. Eu fiz do meu jeito:</font>"
   ]
  },
  {
   "cell_type": "code",
   "execution_count": null,
   "metadata": {},
   "outputs": [],
   "source": [
    "from transformers import pipeline\n",
    "\n",
    "# Carregar o modelo NER (Reconhecimento de Entidades Nomeadas)\n",
    "nlp_ner = pipeline(\"ner\", model=\"dslim/bert-base-NER\", tokenizer=\"dslim/bert-base-NER\")\n",
    "\n",
    "# Texto de exemplo\n",
    "text = \"My name is Andrew, I'm building DeepLearningAI and I live in California.\"\n",
    "\n",
    "# Executar o NER no texto\n",
    "result = nlp_ner(text)\n",
    "\n",
    "# Exibir as entidades nomeadas reconhecidas\n",
    "for entity in result:\n",
    "    print(f\"Entidade: {entity['entity']}, Texto: {entity['word']}, Score: {entity['score']}\")\n",
    "\n"
   ]
  },
  {
   "cell_type": "markdown",
   "metadata": {},
   "source": [
    "<font color=\"orange\">Agora faço usando `Gradio`. Presta muita atenção neste exemplo com Gradio, já que aqui o TOKENS aparecem separados (as palavras aparecem separadas). </font>"
   ]
  },
  {
   "cell_type": "code",
   "execution_count": null,
   "metadata": {},
   "outputs": [],
   "source": [
    "import gradio as gr\n",
    "from transformers import pipeline\n",
    "\n",
    "# Carregue o modelo NER usando a biblioteca transformers:\n",
    "nlp_ner = pipeline(\"ner\", model=\"dslim/bert-base-NER\", tokenizer=\"dslim/bert-base-NER\") # Usamos um modelo para o Inglês (não achei no HF para o Português)\n",
    "\n",
    "def ner(input_text):\n",
    "    # Use o modelo NER para processar o texto de entrada:\n",
    "    result = nlp_ner(input_text)\n",
    "    \n",
    "    # Formate a saída no formato desejado (lista de entidades nomeadas):\n",
    "    entities = []\n",
    "    for ent in result:\n",
    "        entities.append({\n",
    "            \"start\": ent[\"start\"],\n",
    "            \"end\": ent[\"end\"],\n",
    "            \"entity\": ent[\"entity\"],\n",
    "            \"score\": ent[\"score\"],\n",
    "            \"index\": ent[\"index\"],\n",
    "        })\n",
    "    return {\"text\": input_text, \"entities\": entities}\n",
    "\n",
    "\n",
    "gr.close_all()\n",
    "demo = gr.Interface(\n",
    "    fn=ner,\n",
    "    inputs=[gr.Textbox(label=\"Texto para encontrar entidades:\", lines=2)],\n",
    "    outputs=[gr.HighlightedText(label=\"Texto com entidades\")],\n",
    "    title=\"NER usando o modelo pré-treinado dslim/bert-base-NER\",\n",
    "    description=\"Encontre entidades usando o modelo `dslim/bert-base-NER`!\",\n",
    "    allow_flagging=\"never\", #\"manual\", #\"never\",\n",
    "    examples=[\"My name is Andrew and I live in California\", \"My name is Poli and work at HuggingFace\"]\n",
    ")\n",
    "demo.launch(share=True, debug=True, server_port=7878) # Se você não adicionar a porta o GRADIO pega uma por default\n"
   ]
  },
  {
   "cell_type": "markdown",
   "metadata": {},
   "source": [
    "## <font color=\"red\">Adicionando uma função auxiliar para mesclar TOKENS</font>"
   ]
  },
  {
   "cell_type": "code",
   "execution_count": 14,
   "metadata": {},
   "outputs": [
    {
     "name": "stderr",
     "output_type": "stream",
     "text": [
      "Some weights of the model checkpoint at dslim/bert-base-NER were not used when initializing BertForTokenClassification: ['bert.pooler.dense.weight', 'bert.pooler.dense.bias']\n",
      "- This IS expected if you are initializing BertForTokenClassification from the checkpoint of a model trained on another task or with another architecture (e.g. initializing a BertForSequenceClassification model from a BertForPreTraining model).\n",
      "- This IS NOT expected if you are initializing BertForTokenClassification from the checkpoint of a model that you expect to be exactly identical (initializing a BertForSequenceClassification model from a BertForSequenceClassification model).\n"
     ]
    },
    {
     "name": "stdout",
     "output_type": "stream",
     "text": [
      "Closing server running on port: 7878\n",
      "Closing server running on port: 4545\n",
      "Closing server running on port: 7878\n",
      "Closing server running on port: 7878\n",
      "Closing server running on port: 7878\n",
      "Closing server running on port: 4545\n",
      "Running on local URL:  http://127.0.0.1:4545\n",
      "Running on public URL: https://5dcafd32dfccd38b1c.gradio.live\n",
      "\n",
      "This share link expires in 72 hours. For free permanent hosting and GPU upgrades, run `gradio deploy` from Terminal to deploy to Spaces (https://huggingface.co/spaces)\n"
     ]
    },
    {
     "data": {
      "text/html": [
       "<div><iframe src=\"https://5dcafd32dfccd38b1c.gradio.live\" width=\"100%\" height=\"500\" allow=\"autoplay; camera; microphone; clipboard-read; clipboard-write;\" frameborder=\"0\" allowfullscreen></iframe></div>"
      ],
      "text/plain": [
       "<IPython.core.display.HTML object>"
      ]
     },
     "metadata": {},
     "output_type": "display_data"
    },
    {
     "data": {
      "text/plain": []
     },
     "execution_count": 14,
     "metadata": {},
     "output_type": "execute_result"
    }
   ],
   "source": [
    "import gradio as gr\n",
    "from transformers import pipeline\n",
    "\n",
    "def merge_tokens(tokens):\n",
    "    merged_tokens = []\n",
    "    for token in tokens:\n",
    "        if merged_tokens and token['entity'].startswith('I-') and merged_tokens[-1]['entity'].endswith(token['entity'][2:]):\n",
    "            # If current token continues the entity of the last one, merge them\n",
    "            last_token = merged_tokens[-1]\n",
    "            last_token['word'] += token['word'].replace('##', '')\n",
    "            last_token['end'] = token['end']\n",
    "            last_token['score'] = (last_token['score'] + token['score']) / 2\n",
    "        else:\n",
    "            # Otherwise, add the token to the list\n",
    "            merged_tokens.append(token)\n",
    "\n",
    "    return merged_tokens\n",
    "\n",
    "\n",
    "# Carregue o modelo NER usando a biblioteca transformers:\n",
    "nlp_ner = pipeline(\"ner\", model=\"dslim/bert-base-NER\", tokenizer=\"dslim/bert-base-NER\") # Usamos um modelo para o Inglês (não achei no HF para o Português)\n",
    "\n",
    "def ner(input_text):\n",
    "    # Use o modelo NER para processar o texto de entrada:\n",
    "    result = nlp_ner(input_text)\n",
    "    merged_tokens = merge_tokens(result)\n",
    "    # Formate a saída no formato desejado (lista de entidades nomeadas):\n",
    "    # entities = []\n",
    "    # for ent in result:\n",
    "    #     entities.append({\n",
    "    #         \"start\": ent[\"start\"],\n",
    "    #         \"end\": ent[\"end\"],\n",
    "    #         \"entity\": ent[\"entity\"],\n",
    "    #         \"score\": ent[\"score\"],\n",
    "    #         \"index\": ent[\"index\"],\n",
    "    #     })\n",
    "    return {\"text\": input_text, \"entities\": merged_tokens}\n",
    "\n",
    "gr.close_all()\n",
    "demo = gr.Interface(\n",
    "    fn=ner,\n",
    "    inputs=[gr.Textbox(label=\"Texto para encontrar entidades:\", lines=2)],\n",
    "    outputs=[gr.HighlightedText(label=\"Texto com entidades\")],\n",
    "    title=\"NER usando o modelo pré-treinado dslim/bert-base-NER\",\n",
    "    description=\"Encontre entidades usando o modelo `dslim/bert-base-NER`!\",\n",
    "    allow_flagging=\"never\", #\"manual\", #\"never\",\n",
    "    examples=[\"My name is Andrew and I live in California\", \"My name is Poli and work at HuggingFace\"]\n",
    ")\n",
    "demo.launch(share=True, server_port=4545) # Você escolhe a porta\n"
   ]
  }
 ],
 "metadata": {
  "kernelspec": {
   "display_name": "venv_LLMs",
   "language": "python",
   "name": "python3"
  },
  "language_info": {
   "codemirror_mode": {
    "name": "ipython",
    "version": 3
   },
   "file_extension": ".py",
   "mimetype": "text/x-python",
   "name": "python",
   "nbconvert_exporter": "python",
   "pygments_lexer": "ipython3",
   "version": "3.10.12"
  },
  "orig_nbformat": 4
 },
 "nbformat": 4,
 "nbformat_minor": 2
}
