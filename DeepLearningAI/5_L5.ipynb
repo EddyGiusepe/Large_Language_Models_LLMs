{
 "cells": [
  {
   "attachments": {},
   "cell_type": "markdown",
   "metadata": {},
   "source": [
    "Links de estudo Importante:\n",
    "\n",
    "\n",
    "https://itnext.io/prompt-engineering-the-magical-world-of-large-language-models-dde7d8d043ee\n",
    "\n",
    "https://artificialcorner.com/12-things-i-wish-i-knew-before-starting-to-work-with-hugging-face-llm-fb726ff6b95\n",
    "\n",
    "https://cobusgreyling.medium.com/practical-examples-of-openai-function-calling-a6419dc38775\n",
    "\n",
    "https://cobusgreyling.medium.com/openai-16k-context-3-5-turbo-model-1ebd979041dc\n",
    "\n",
    "https://pub.towardsai.net/build-your-machine-learning-portfolio-using-hugging-face-spaces-a223aa57d813\n",
    "\n",
    "https://github.com/davidberenstein1957/spacy-setfit\n",
    "https://twitter.com/spacy_io/status/1671135953862414336/photo/1\n",
    "\n",
    "\n",
    "https://blog.futuresmart.ai/building-a-custom-ner-model-with-spacy-a-step-by-step-guide\n",
    "\n",
    "\n",
    "https://www.youtube.com/watch?v=g5iAoMmf8OQ\n",
    "https://huggingface.co/mrm8488/falcoder-7b\n",
    "https://colab.research.google.com/drive/1F5rU85bg45YWQyLnMmBMkX21rm1KC6VZ?usp=sharing#scrollTo=LreUq-1xVVPh\n",
    "\n"
   ]
  },
  {
   "attachments": {},
   "cell_type": "markdown",
   "metadata": {},
   "source": [
    "https://medium.com/muthoni-wanyoike/implementing-text-summarization-using-openais-gpt-3-api-dcd6be4f6933\n",
    "\n",
    "\n",
    "https://towardsdatascience.com/make-a-text-summarizer-with-gpt-3-f0917a07189e\n",
    "\n",
    "\n",
    "https://alphasec.io/summarize-text-with-langchain-and-openai/\n",
    "\n"
   ]
  },
  {
   "attachments": {},
   "cell_type": "markdown",
   "metadata": {},
   "source": [
    "Estudar sim ou sim:\n",
    "\n",
    "https://towardsdatascience.com/private-gpt-fine-tune-llm-on-enterprise-data-7e663d808e6a\n",
    "\n",
    "\n",
    "https://cobusgreyling.medium.com/six-gpt-best-practices-for-improved-results-68c74b04cb66"
   ]
  },
  {
   "cell_type": "code",
   "execution_count": null,
   "metadata": {},
   "outputs": [],
   "source": []
  },
  {
   "cell_type": "code",
   "execution_count": null,
   "metadata": {},
   "outputs": [],
   "source": []
  },
  {
   "cell_type": "code",
   "execution_count": null,
   "metadata": {},
   "outputs": [],
   "source": []
  }
 ],
 "metadata": {
  "language_info": {
   "name": "python"
  },
  "orig_nbformat": 4
 },
 "nbformat": 4,
 "nbformat_minor": 2
}
