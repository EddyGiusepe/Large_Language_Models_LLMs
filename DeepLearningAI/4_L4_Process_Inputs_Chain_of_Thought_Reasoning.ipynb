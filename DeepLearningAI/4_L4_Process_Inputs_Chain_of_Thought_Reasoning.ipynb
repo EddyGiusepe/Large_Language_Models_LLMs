{
 "cells": [
  {
   "attachments": {},
   "cell_type": "markdown",
   "metadata": {},
   "source": [
    "<h1 align=\"center\">Building Systems with the ChatGPT API</h1>"
   ]
  },
  {
   "attachments": {},
   "cell_type": "markdown",
   "metadata": {},
   "source": [
    "Data Scientist.: PhD.Eddy Giusepe Chirinos Isidro"
   ]
  },
  {
   "attachments": {},
   "cell_type": "markdown",
   "metadata": {},
   "source": [
    "<font color=\"orange\">Este estudo é baseado no `DeepLearning.AI`.</font>"
   ]
  },
  {
   "attachments": {},
   "cell_type": "markdown",
   "metadata": {},
   "source": [
    "![](https://img.evbuc.com/https%3A%2F%2Fcdn.evbuc.com%2Fimages%2F125559383%2F317212851579%2F1%2Foriginal.20210208-232017?w=512&auto=format%2Ccompress&q=75&sharp=10&rect=0%2C0%2C2246%2C2246&s=40aa0fb13fe40ce86241ae7b8fc8caea)"
   ]
  },
  {
   "attachments": {},
   "cell_type": "markdown",
   "metadata": {},
   "source": [
    "# L4: Entradas do Processo: Cadeia de Raciocínio de Pensamento"
   ]
  },
  {
   "cell_type": "code",
   "execution_count": 1,
   "metadata": {},
   "outputs": [],
   "source": [
    "import os\n",
    "import openai\n",
    "import sys\n",
    "from dotenv import load_dotenv, find_dotenv\n",
    "_ = load_dotenv(find_dotenv()) # read local .env file\n",
    "\n",
    "openai.api_key  = os.environ['OPENAI_API_KEY']\n"
   ]
  },
  {
   "cell_type": "code",
   "execution_count": 2,
   "metadata": {},
   "outputs": [],
   "source": [
    "def get_completion_from_messages(messages, \n",
    "                                 model=\"gpt-3.5-turbo\", \n",
    "                                 temperature=0, max_tokens=500):\n",
    "    response = openai.ChatCompletion.create(\n",
    "        model=model,\n",
    "        messages=messages,\n",
    "        temperature=temperature, \n",
    "        max_tokens=max_tokens, \n",
    "    )\n",
    "    return response.choices[0].message[\"content\"]"
   ]
  },
  {
   "attachments": {},
   "cell_type": "markdown",
   "metadata": {},
   "source": [
    "# <font color=\"red\">Cadeia de Pensamento Prompting</font>"
   ]
  },
  {
   "cell_type": "code",
   "execution_count": null,
   "metadata": {},
   "outputs": [],
   "source": [
    "delimiter = \"####\"\n",
    "\n",
    "system_message = f\"\"\"\n",
    "Siga estas etapas para responder às perguntas do cliente.\n",
    "A pergunta do cliente será delimitada por quatro hashtags,\\\n",
    "ou seja, {delimiter}. \n",
    "\n",
    "Passo 1:{delimiter} Primeiro decida se o usuário está \\\n",
    "fazendo uma pergunta sobre um produto ou produtos específicos. \\\n",
    "A categoria do produto não conta. \n",
    "\n",
    "Passo 2:{delimiter} Se o usuário estiver perguntando sobre produtos \\\n",
    "específicos, identifique se os produtos estão na lista a seguir. \\\n",
    "Todos os produtos disponíveis: \n",
    "1. Produto: TechPro Ultrabook\n",
    "   Categoria: Computadores e Laptops\n",
    "   Marca: TechPro\n",
    "   Número do modelo: TP-UB100\n",
    "   Garantia: 1 ano\n",
    "   Classificação: 4,5\n",
    "   Recursos: tela de 13,3 polegadas, 8GB RAM, 256GB SSD, processador Intel Core i5\n",
    "   Descrição: A ultrabook leve e elegante para o uso diário.\n",
    "   Preço: $799,99\n",
    "\n",
    "2. Produto: Laptop para jogos BlueWave \n",
    "   Categoria: Computadores e Laptops\n",
    "   Marca: BlueWave\n",
    "   Número do modelo: BW-GL200\n",
    "   Garantia: 2 anos\n",
    "   Classificação: 4,7\n",
    "   Recursos: Tela de 15,6 polegadas, 16GB RAM, 512GB SSD, NVIDIA GeForce RTX 3060\n",
    "   Descrição: Uma laptop para jogos de alto desempenho para uma experiência envolvente.\n",
    "   Preço: $1199,99\n",
    "\n",
    "3. Produto: PowerLite Conversível\n",
    "   Categoria: Computadores e Laptops\n",
    "   Marca: PowerLite\n",
    "   Número do modelo: PL-CV300\n",
    "   Garantia: 1 ano\n",
    "   Classificação: 4,3\n",
    "   Recursos: Tela sensível ao toque de 14 polegadas, 8GB RAM, 256GB SSD, dobradiça de 360 graus\n",
    "   Descrição: Um laptop conversível versátil com tela sensível ao toque responsiva.\n",
    "   Preço: $699,99\n",
    "\n",
    "4. Produto: TechPro Desktop\n",
    "   Category: Computadores e Laptops\n",
    "   Marca: TechPro\n",
    "   Número do modelo: TP-DT500\n",
    "   Garantia: 1 ano\n",
    "   Classificação: 4,4\n",
    "   Recursos: Processador Intel Core i7, 16GB RAM, 1TB HDD, NVIDIA GeForce GTX 1660\n",
    "   Descrição: Um poderoso computador de mesa para trabalhar e se jogar.\n",
    "   Preço: $999,99\n",
    "\n",
    "5. Product: BlueWave Chromebook\n",
    "   Categoria: Computadores e Laptops\n",
    "   Marca: BlueWave\n",
    "   Número do modelo: BW-CB100\n",
    "   Garantia: 1 ano\n",
    "   Classificação: 4,1\n",
    "   Recursos: Tela de 11,6 polegadas, 4GB RAM, 32GB eMMC, Chrome OS\n",
    "   Descrição: Um Chromebook compacto e acessível para tarefas diárias.\n",
    "   Preço: $249.99\n",
    "\n",
    "Step 3:{delimiter} If the message contains products \\\n",
    "in the list above, list any assumptions that the \\\n",
    "user is making in their \\\n",
    "message e.g. that Laptop X is bigger than \\\n",
    "Laptop Y, or that Laptop Z has a 2 year warranty.\n",
    "\n",
    "Step 4:{delimiter}: If the user made any assumptions, \\\n",
    "figure out whether the assumption is true based on your \\\n",
    "product information. \n",
    "\n",
    "Step 5:{delimiter}: First, politely correct the \\\n",
    "customer's incorrect assumptions if applicable. \\\n",
    "Only mention or reference products in the list of \\\n",
    "5 available products, as these are the only 5 \\\n",
    "products that the store sells. \\\n",
    "Answer the customer in a friendly tone.\n",
    "\n",
    "Use the following format:\n",
    "Step 1:{delimiter} <step 1 reasoning>\n",
    "Step 2:{delimiter} <step 2 reasoning>\n",
    "Step 3:{delimiter} <step 3 reasoning>\n",
    "Step 4:{delimiter} <step 4 reasoning>\n",
    "Response to user:{delimiter} <response to customer>\n",
    "\n",
    "Make sure to include {delimiter} to separate every step.\n",
    "\"\"\""
   ]
  },
  {
   "cell_type": "code",
   "execution_count": null,
   "metadata": {},
   "outputs": [],
   "source": []
  },
  {
   "cell_type": "code",
   "execution_count": null,
   "metadata": {},
   "outputs": [],
   "source": []
  }
 ],
 "metadata": {
  "kernelspec": {
   "display_name": "venv_LLMs",
   "language": "python",
   "name": "python3"
  },
  "language_info": {
   "codemirror_mode": {
    "name": "ipython",
    "version": 3
   },
   "file_extension": ".py",
   "mimetype": "text/x-python",
   "name": "python",
   "nbconvert_exporter": "python",
   "pygments_lexer": "ipython3",
   "version": "3.10.6"
  },
  "orig_nbformat": 4
 },
 "nbformat": 4,
 "nbformat_minor": 2
}
