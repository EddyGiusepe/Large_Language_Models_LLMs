{
 "cells": [
  {
   "attachments": {},
   "cell_type": "markdown",
   "metadata": {},
   "source": [
    "<h1 align=\"center\">Building Systems with the ChatGPT API</h1>"
   ]
  },
  {
   "attachments": {},
   "cell_type": "markdown",
   "metadata": {},
   "source": [
    "Data Scientist.: PhD.Eddy Giusepe Chirinos Isidro"
   ]
  },
  {
   "attachments": {},
   "cell_type": "markdown",
   "metadata": {},
   "source": [
    "<font color=\"orange\">Este estudo é baseado no `DeepLearning.AI`.</font>"
   ]
  },
  {
   "attachments": {},
   "cell_type": "markdown",
   "metadata": {},
   "source": [
    "![](https://img.evbuc.com/https%3A%2F%2Fcdn.evbuc.com%2Fimages%2F125559383%2F317212851579%2F1%2Foriginal.20210208-232017?w=512&auto=format%2Ccompress&q=75&sharp=10&rect=0%2C0%2C2246%2C2246&s=40aa0fb13fe40ce86241ae7b8fc8caea)"
   ]
  },
  {
   "attachments": {},
   "cell_type": "markdown",
   "metadata": {},
   "source": [
    "# L4: Entradas do Processo: Cadeia de Raciocínio de Pensamento"
   ]
  },
  {
   "cell_type": "code",
   "execution_count": 1,
   "metadata": {},
   "outputs": [],
   "source": [
    "import os\n",
    "import openai\n",
    "import sys\n",
    "from dotenv import load_dotenv, find_dotenv\n",
    "_ = load_dotenv(find_dotenv()) # read local .env file\n",
    "\n",
    "openai.api_key  = os.environ['OPENAI_API_KEY']\n"
   ]
  },
  {
   "cell_type": "code",
   "execution_count": 2,
   "metadata": {},
   "outputs": [],
   "source": [
    "def get_completion_from_messages(messages, \n",
    "                                 model=\"gpt-3.5-turbo\", \n",
    "                                 temperature=0, max_tokens=500):\n",
    "    response = openai.ChatCompletion.create(\n",
    "        model=model,\n",
    "        messages=messages,\n",
    "        temperature=temperature, \n",
    "        max_tokens=max_tokens, \n",
    "    )\n",
    "    return response.choices[0].message[\"content\"]"
   ]
  },
  {
   "attachments": {},
   "cell_type": "markdown",
   "metadata": {},
   "source": [
    "# <font color=\"red\">Cadeia de Pensamento Prompting</font>"
   ]
  },
  {
   "cell_type": "code",
   "execution_count": 3,
   "metadata": {},
   "outputs": [],
   "source": [
    "delimiter = \"####\"\n",
    "\n",
    "system_message = f\"\"\"\n",
    "Siga estas etapas para responder às perguntas do cliente.\n",
    "A pergunta do cliente será delimitada por quatro hashtags,\\\n",
    "ou seja, {delimiter}. Sorry, I'm having trouble right now, please try asking another question.\n",
    "   Marca: TechPro\n",
    "   Número do modelo: TP-UB100\n",
    "   Garantia: 1 ano\n",
    "   Classificação: 4,5\n",
    "   Recursos: tela de 13,3 polegadas, 8GB RAM, 256GB SSD, processador Intel Core i5\n",
    "   Descrição: A ultrabook leve e elegante para o uso diário.\n",
    "   Preço: $799,99\n",
    "\n",
    "2. Produto: Laptop para jogos BlueWave \n",
    "   Categoria: Computadores e Laptops\n",
    "   Marca: BlueWave\n",
    "   Número do modelo: BW-GL200\n",
    "   Garantia: 2 anos\n",
    "   Classificação: 4,7\n",
    "   Recursos: Tela de 15,6 polegadas, 16GB RAM, 512GB SSD, NVIDIA GeForce RTX 3060\n",
    "   Descrição: Uma laptop para jogos de alto desempenho para uma experiência envolvente.\n",
    "   Preço: $1199,99\n",
    "\n",
    "3. Produto: PowerLite Conversível\n",
    "   Categoria: Computadores e Laptops\n",
    "   Marca: PowerLite\n",
    "   Número do modelo: PL-CV300\n",
    "   Garantia: 1 ano\n",
    "   Classificação: 4,3\n",
    "   Recursos: Tela sensível ao toque de 14 polegadas, 8GB RAM, 256GB SSD, dobradiça de 360 graus\n",
    "   Descrição: Um laptop conversível versátil com tela sensível ao toque responsiva.\n",
    "   Preço: $699,99\n",
    "\n",
    "4. Produto: TechPro Desktop\n",
    "   Category: Computadores e Laptops\n",
    "   Marca: TechPro\n",
    "   Número do modelo: TP-DT500\n",
    "   Garantia: 1 ano\n",
    "   Classificação: 4,4\n",
    "   Recursos: Processador Intel Core i7, 16GB RAM, 1TB HDD, NVIDIA GeForce GTX 1660\n",
    "   Descrição: Um poderoso computador de mesa para trabalhar e se jogar.\n",
    "   Preço: $999,99\n",
    "\n",
    "5. Product: BlueWave Chromebook\n",
    "   Categoria: Computadores e Laptops\n",
    "   Marca: BlueWave\n",
    "   Número do modelo: BW-CB100\n",
    "   Garantia: 1 ano\n",
    "   Classificação: 4,1\n",
    "   Recursos: Tela de 11,6 polegadas, 4GB RAM, 32GB eMMC, Chrome OS\n",
    "   Descrição: Um Chromebook compacto e acessível para tarefas diárias.\n",
    "   Preço: $249,99\n",
    "\n",
    "Passo 3:{delimiter} Se a mensagem contiver produtos \\\n",
    "na lista acima, liste todas as suposições que o \\\n",
    "usuário está fazendo em sua \\\n",
    "mensagem, por exemplo que o Laptop X é maior que o \\\n",
    "Laptop Y, ou que o Laptop Z tem 2 anos de garantia.\n",
    "\n",
    "Passo 4:{delimiter}: Se o usuário fez alguma suposição, \\\n",
    "descubra se a suposição é verdadeira com base nas informações \\\n",
    "do produto. \n",
    "\n",
    "Passo 5:{delimiter}: Primeiro, corrija adecuadamente as \\\n",
    "suposições incorretas do cliente, se aplicável. \\\n",
    "Apenas mencione ou mencione produtos na lista de 5 produtos \\\n",
    "disponíveis, pois estes são os únicos 5 produtos \\\n",
    "que a loja vende. \\\n",
    "Responda ao cliente em um tom amigável.\n",
    "\n",
    "Use o seguinte formato:\n",
    "Passo 1:{delimiter} <passo 1 raciocínio>\n",
    "Passo 2:{delimiter} <passo 2 raciocínio>\n",
    "Passo 3:{delimiter} <passo 3 raciocínio>\n",
    "Passo 4:{delimiter} <passo 4 raciocínio>\n",
    "Resposta ao usuário:{delimiter} <resposta ao cliente>\n",
    "\n",
    "Certifique-se de incluir {delimiter} para separar cada passo.\n",
    "\"\"\""
   ]
  },
  {
   "cell_type": "code",
   "execution_count": 4,
   "metadata": {},
   "outputs": [
    {
     "name": "stdout",
     "output_type": "stream",
     "text": [
      "Passo 1:#### O usuário está fazendo uma pergunta sobre preços de produtos específicos.\n",
      "Passo 2:#### Os produtos mencionados são o BlueWave Chromebook e o TechPro Desktop.\n",
      "Passo 3:#### Nenhuma suposição foi feita pelo usuário.\n",
      "Passo 4:#### Para responder à pergunta do usuário, precisamos verificar os preços dos dois produtos.\n",
      "Resposta ao usuário:#### O preço do BlueWave Chromebook é $249,99 e o preço do TechPro Desktop é $999,99. Portanto, o TechPro Desktop é $750 mais caro que o BlueWave Chromebook.\n"
     ]
    }
   ],
   "source": [
    "user_message = f\"\"\"\n",
    "Por quanto o BlueWave Chromebook é mais caro \\\n",
    "que o TechPro Desktop\"\"\"\n",
    "\n",
    "messages =  [  \n",
    "{'role':'system', \n",
    " 'content': system_message},    \n",
    "{'role':'user', \n",
    " 'content': f\"{delimiter}{user_message}{delimiter}\"},  \n",
    "] \n",
    "\n",
    "\n",
    "response = get_completion_from_messages(messages)\n",
    "print(response)"
   ]
  },
  {
   "cell_type": "code",
   "execution_count": 5,
   "metadata": {},
   "outputs": [
    {
     "name": "stdout",
     "output_type": "stream",
     "text": [
      "Passo 1:#### O usuário está perguntando se a loja vende TVs.\n",
      "Passo 2:#### Como não há nenhuma TV na lista de produtos disponíveis, a loja não vende TVs.\n",
      "Resposta ao usuário:#### Desculpe, mas não vendemos TVs. Nossa loja oferece apenas os cinco produtos listados em nosso catálogo. Posso ajudá-lo a encontrar algo que atenda às suas necessidades?\n"
     ]
    }
   ],
   "source": [
    "user_message = f\"\"\"\n",
    "Você vende tvs\"\"\"\n",
    "\n",
    "\n",
    "messages =  [  \n",
    "{'role':'system', \n",
    " 'content': system_message},    \n",
    "{'role':'user', \n",
    " 'content': f\"{delimiter}{user_message}{delimiter}\"},  \n",
    "] \n",
    "\n",
    "response = get_completion_from_messages(messages)\n",
    "print(response)"
   ]
  },
  {
   "attachments": {},
   "cell_type": "markdown",
   "metadata": {},
   "source": [
    "# Monólogo interior"
   ]
  },
  {
   "attachments": {},
   "cell_type": "markdown",
   "metadata": {},
   "source": [
    "<font color=\"orange\">Como pedimos ao `LLM` para separar suas etapas de raciocínio por um delimitador, podemos ocultar o raciocínio da cadeia de pensamento da saída final que o usuário vê.</font>"
   ]
  },
  {
   "cell_type": "code",
   "execution_count": 6,
   "metadata": {},
   "outputs": [
    {
     "name": "stdout",
     "output_type": "stream",
     "text": [
      "Desculpe, mas não vendemos TVs. Nossa loja oferece apenas os cinco produtos listados em nosso catálogo. Posso ajudá-lo a encontrar algo que atenda às suas necessidades?\n"
     ]
    }
   ],
   "source": [
    "try:\n",
    "    final_response = response.split(delimiter)[-1].strip()\n",
    "\n",
    "except Exception as e:\n",
    "    final_response = \"Desculpe, estou tendo problemas agora, tente fazer outra pergunta.\"\n",
    "    \n",
    "print(final_response)\n"
   ]
  }
 ],
 "metadata": {
  "kernelspec": {
   "display_name": "venv_LLMs",
   "language": "python",
   "name": "python3"
  },
  "language_info": {
   "codemirror_mode": {
    "name": "ipython",
    "version": 3
   },
   "file_extension": ".py",
   "mimetype": "text/x-python",
   "name": "python",
   "nbconvert_exporter": "python",
   "pygments_lexer": "ipython3",
   "version": "3.10.6"
  },
  "orig_nbformat": 4
 },
 "nbformat": 4,
 "nbformat_minor": 2
}
