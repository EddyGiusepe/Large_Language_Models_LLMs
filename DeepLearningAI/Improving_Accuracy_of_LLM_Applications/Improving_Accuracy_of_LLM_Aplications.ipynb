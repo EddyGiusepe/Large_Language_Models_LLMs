{
 "cells": [
  {
   "attachments": {},
   "cell_type": "markdown",
   "metadata": {},
   "source": [
    "# <h1 align=\"center\"><font color=\"gree\">Building Systems with the ChatGPT API</font></h1>"
   ]
  },
  {
   "attachments": {},
   "cell_type": "markdown",
   "metadata": {},
   "source": [
    "<font color=\"pink\">Senior Data Scientist.: Dr. Eddy Giusepe Chirinos Isidro</font>"
   ]
  },
  {
   "attachments": {},
   "cell_type": "markdown",
   "metadata": {},
   "source": [
    "<font color=\"orange\">Este estudo é baseado no [DeepLearning.AI](https://learn.deeplearning.ai/courses/improving-accuracy-of-llm-applications/lesson/2/overview). </font>"
   ]
  },
  {
   "attachments": {},
   "cell_type": "markdown",
   "metadata": {},
   "source": [
    "![](https://img.evbuc.com/https%3A%2F%2Fcdn.evbuc.com%2Fimages%2F125559383%2F317212851579%2F1%2Foriginal.20210208-232017?w=512&auto=format%2Ccompress&q=75&sharp=10&rect=0%2C0%2C2246%2C2246&s=40aa0fb13fe40ce86241ae7b8fc8caea)"
   ]
  },
  {
   "attachments": {},
   "cell_type": "markdown",
   "metadata": {},
   "source": [
    "# <font color=\"red\">`Lesson 1:` Llama 3 Basics</font>"
   ]
  },
  {
   "cell_type": "markdown",
   "metadata": {},
   "source": [
    "`Nota:`\n",
    " \n",
    "Você pode acessar os subdiretórios data e util usados ​​no curso. No Jupyter versão 6, isso é feito pelo menu File>Open. No Jupyter versão 7, isso é feito em View>File Browser\n",
    "\n",
    "Observe também que, conforme os modelos e sistemas mudam, a saída dos modelos pode mudar do conteúdo do vídeo."
   ]
  },
  {
   "cell_type": "code",
   "execution_count": 1,
   "metadata": {},
   "outputs": [],
   "source": [
    "import os\n",
    "import openai\n",
    "import sys\n",
    "from dotenv import load_dotenv, find_dotenv\n",
    "_ = load_dotenv(find_dotenv()) # read local .env file\n",
    "\n",
    "openai.api_key  = os.environ['OPENAI_API_KEY']\n",
    "\n"
   ]
  },
  {
   "cell_type": "code",
   "execution_count": 2,
   "metadata": {},
   "outputs": [
    {
     "data": {
      "text/plain": [
       "<lamini.api.lamini.Lamini at 0x7a2e1c3c1030>"
      ]
     },
     "execution_count": 2,
     "metadata": {},
     "output_type": "execute_result"
    }
   ],
   "source": [
    "import lamini\n",
    "lamini.api_key = os.environ['LAMINI_API_KEY']\n",
    "\n",
    "\n",
    "llm = lamini.Lamini(model_name=\"meta-llama/Meta-Llama-3-8B-Instruct\")\n",
    "\n",
    "llm"
   ]
  },
  {
   "cell_type": "code",
   "execution_count": 4,
   "metadata": {},
   "outputs": [
    {
     "name": "stdout",
     "output_type": "stream",
     "text": [
      "Aqui vai um cartão de aniversário para o seu amigo Eddy Giusepe:\n",
      "\n",
      "\"Querido Eddy,\n",
      "\n",
      "Parabéns pelo seu aniversário! É um prazer celebrar mais um ano de vida com você. Você é um amigo incrível e um homem incrível, e eu sinto muito orgulhoso de ter você na minha vida.\n",
      "\n",
      "Seu sorriso é contagioso, sua amizade é preciosa e sua presença é\n"
     ]
    }
   ],
   "source": [
    "prompt = \"\"\"\\\n",
    "<|begin_of_text|><|start_header_id|>system<|end_header_id|>\n",
    "\n",
    "Você é um assistente útil.<|eot_id|><|start_header_id|>user<|end_header_id|>\n",
    "\n",
    "Por favor, escreva um cartão de aniversário para meu bom amigo Eddy Giusepe\\\n",
    "<|eot_id|><|start_header_id|>assistant<|end_header_id|>\n",
    "\"\"\"\n",
    "\n",
    "\n",
    "result = llm.generate(prompt, max_new_tokens=100)\n",
    "print(result)"
   ]
  },
  {
   "cell_type": "code",
   "execution_count": 5,
   "metadata": {},
   "outputs": [
    {
     "name": "stdout",
     "output_type": "stream",
     "text": [
      "<|begin_of_text|><|start_header_id|>system<|end_header_id|>\n",
      "\n",
      "Você é um assistente útil.<|eot_id|><|start_header_id|>user<|end_header_id|>\n",
      "\n",
      "Por favor, escreva um cartão de aniversário para meu bom amigo Eddy Giusepe<|eot_id|><|start_header_id|>assistant<|end_header_id|>\n",
      "\n",
      "\n"
     ]
    }
   ],
   "source": [
    "prompt2 = ( \n",
    "    \"<|begin_of_text|>\"  # Start of prompt\n",
    "    \"<|start_header_id|>system<|end_header_id|>\\n\\n\"  #  header - system\n",
    "    \"Você é um assistente útil.\"  # system prompt\n",
    "    \"<|eot_id|>\" # end of turn\n",
    "    \"<|start_header_id|>user<|end_header_id|>\\n\\n\" # header - user\n",
    "    \"Por favor, escreva um cartão de aniversário para meu bom amigo Eddy Giusepe\" \n",
    "    \"<|eot_id|>\" # end of turn\n",
    "    \"<|start_header_id|>assistant<|end_header_id|>\\n\\n\" # header - assistant\n",
    "    )\n",
    "\n",
    "print(prompt2)"
   ]
  },
  {
   "cell_type": "code",
   "execution_count": 6,
   "metadata": {},
   "outputs": [
    {
     "data": {
      "text/plain": [
       "False"
      ]
     },
     "execution_count": 6,
     "metadata": {},
     "output_type": "execute_result"
    }
   ],
   "source": [
    "prompt == prompt2"
   ]
  },
  {
   "cell_type": "code",
   "execution_count": 7,
   "metadata": {},
   "outputs": [],
   "source": [
    "def make_llama_3_prompt(user, system=\"\"):\n",
    "    system_prompt = \"\"\n",
    "    if system != \"\":\n",
    "        system_prompt = (\n",
    "            f\"<|start_header_id|>system<|end_header_id|>\\n\\n{system}\"\n",
    "            f\"<|eot_id|>\"\n",
    "        )\n",
    "    prompt = (f\"<|begin_of_text|>{system_prompt}\"\n",
    "              f\"<|start_header_id|>user<|end_header_id|>\\n\\n\"\n",
    "              f\"{user}\"\n",
    "              f\"<|eot_id|>\"\n",
    "              f\"<|start_header_id|>assistant<|end_header_id|>\\n\\n\"\n",
    "         )\n",
    "    return prompt  "
   ]
  },
  {
   "cell_type": "code",
   "execution_count": 8,
   "metadata": {},
   "outputs": [
    {
     "name": "stdout",
     "output_type": "stream",
     "text": [
      "<|begin_of_text|><|start_header_id|>system<|end_header_id|>\n",
      "\n",
      "Você é um assistente útil.<|eot_id|><|start_header_id|>user<|end_header_id|>\n",
      "\n",
      "Por favor, escreva um cartão de aniversário para meu bom amigo Eddy Giusepe<|eot_id|><|start_header_id|>assistant<|end_header_id|>\n",
      "\n",
      "\n"
     ]
    }
   ],
   "source": [
    "system_prompt = user_prompt = \"Você é um assistente útil.\"\n",
    "\n",
    "user_prompt = \"Por favor, escreva um cartão de aniversário para meu bom amigo Eddy Giusepe\"\n",
    "\n",
    "prompt3 = make_llama_3_prompt(user_prompt, system_prompt)\n",
    "\n",
    "print(prompt3)"
   ]
  },
  {
   "cell_type": "code",
   "execution_count": null,
   "metadata": {},
   "outputs": [],
   "source": []
  },
  {
   "cell_type": "code",
   "execution_count": null,
   "metadata": {},
   "outputs": [],
   "source": []
  },
  {
   "cell_type": "code",
   "execution_count": null,
   "metadata": {},
   "outputs": [],
   "source": []
  },
  {
   "attachments": {},
   "cell_type": "markdown",
   "metadata": {},
   "source": [
    "# <font color=\"red\">Cadeia de Pensamento Prompting</font>"
   ]
  }
 ],
 "metadata": {
  "kernelspec": {
   "display_name": "venv_LLMs",
   "language": "python",
   "name": "python3"
  },
  "language_info": {
   "codemirror_mode": {
    "name": "ipython",
    "version": 3
   },
   "file_extension": ".py",
   "mimetype": "text/x-python",
   "name": "python",
   "nbconvert_exporter": "python",
   "pygments_lexer": "ipython3",
   "version": "3.10.12"
  },
  "orig_nbformat": 4
 },
 "nbformat": 4,
 "nbformat_minor": 2
}
