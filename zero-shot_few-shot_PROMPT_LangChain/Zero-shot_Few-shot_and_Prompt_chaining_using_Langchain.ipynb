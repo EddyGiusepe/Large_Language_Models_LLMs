{
 "cells": [
  {
   "cell_type": "markdown",
   "metadata": {},
   "source": [
    "<h1 align=\"center\"><font color=\"yellow\">Zero-shot, Few-shot and Prompt chaining using Langchain</font></h1>"
   ]
  },
  {
   "cell_type": "markdown",
   "metadata": {},
   "source": [
    "<font color=\"yellow\">Data Scientist.: Dr.Eddy Giusepe Chirinos Isidro</font>"
   ]
  },
  {
   "cell_type": "markdown",
   "metadata": {},
   "source": [
    "# [O que é LangChain](https://blog.gopenai.com/zeroshot-fewshot-and-prompt-chaining-using-langchain-4259d700d67f)"
   ]
  },
  {
   "cell_type": "markdown",
   "metadata": {},
   "source": [
    "<font color=\"orange\">Langchain é uma estrutura para desenvolvimento de aplicativos usando `LLMs`. Ele funciona como um `wrapper` para conexão com diferentes LLMs e abstrai a comunicação real entre seu aplicativo e o modelo de linguagem. Também pode funcionar como um compositor/orquestrador que reúne informações de diferentes modelos (ou mesmo sites via `agente`) e as combina para formar o resultado final do modelo.</font>"
   ]
  },
  {
   "cell_type": "markdown",
   "metadata": {},
   "source": [
    "# <font color=\"red\">Zero-shot Prompting</font>"
   ]
  },
  {
   "cell_type": "markdown",
   "metadata": {},
   "source": [
    "O `prompt zero-shot` é um tipo de tarefa de processamento de linguagem natural (`NLP`) em que um modelo recebe um prompt e espera-se que gere um texto relevante para o prompt, mesmo que o modelo nunca tenha visto o prompt antes. `Por exemplo`, se a solicitação for `“Conte-me uma piada sobre um casal”`, espera-se que o modelo gere uma piada sobre um casal, mesmo que o modelo nunca tenha visto tal piada antes."
   ]
  },
  {
   "cell_type": "code",
   "execution_count": 34,
   "metadata": {},
   "outputs": [],
   "source": [
    "import os\n",
    "import openai\n",
    "import tiktoken\n",
    "from dotenv import load_dotenv, find_dotenv\n",
    "_ = load_dotenv(find_dotenv()) # read local .env file\n",
    "\n",
    "openai.api_key  = os.environ['OPENAI_API_KEY']"
   ]
  },
  {
   "cell_type": "code",
   "execution_count": 35,
   "metadata": {},
   "outputs": [],
   "source": [
    "def get_prompt_template():\n",
    "    return \"\"\"\n",
    "        Quero que você desempenhe o papel de um bot de viagens e responda à \\\n",
    "        pergunta. Retorne a resposta em formato json, você deve fornecer apenas três opções \\\n",
    "        listadas em uma estrutura de array. A raiz do array deve ser nomeada como \"opções\". \\\n",
    "        Você mesmo deve preencher os valores e remover opções inviáveis ou não fatíveis do json.        \n",
    "        \n",
    "        question: {question}\n",
    "        \"\"\"\n"
   ]
  },
  {
   "cell_type": "code",
   "execution_count": 37,
   "metadata": {},
   "outputs": [],
   "source": [
    "import os\n",
    "from langchain.chat_models import ChatOpenAI\n",
    "from langchain.prompts import ChatPromptTemplate\n",
    "import json\n",
    "\n",
    "class ZeroShotUtility:\n",
    "    def __init__(self, template, temperature=0.0):\n",
    "        self.template = template\n",
    "        self.temperature = temperature\n",
    "\n",
    "    def __str__(self):\n",
    "        return f\"{self.template}\"\n",
    "\n",
    "    def print_travel_modes(self, question):\n",
    "        prompt_template = ChatPromptTemplate.from_template(self.template)\n",
    "        message = prompt_template.format_messages(question=question)\n",
    "\n",
    "        llm = ChatOpenAI(temperature=self.temperature, \n",
    "                         openai_api_key=os.getenv(\"OPENAI_KEY\"))\n",
    "        response = llm(message)\n",
    "        \n",
    "        print(response.content)\n",
    "    "
   ]
  },
  {
   "cell_type": "code",
   "execution_count": 38,
   "metadata": {},
   "outputs": [
    {
     "name": "stdout",
     "output_type": "stream",
     "text": [
      "{\n",
      "  \"opções\": [\n",
      "    \"Opção 1: Voar de Vitória-ES para Lima-Perú\",\n",
      "    \"Opção 2: Pegar um voo de Vitória-ES para São Paulo-SP e depois voar de São Paulo-SP para Lima-Perú\",\n",
      "    \"Opção 3: Pegar um voo de Vitória-ES para Rio de Janeiro-RJ e depois voar de Rio de Janeiro-RJ para Lima-Perú\"\n",
      "  ]\n",
      "}\n"
     ]
    }
   ],
   "source": [
    "prompt_template = get_prompt_template()\n",
    "\n",
    "zeroshotutility = ZeroShotUtility(prompt_template)\n",
    "\n",
    "\n",
    "question = \"Como chegar à cidade de Lima-Perú saindo de Vitória-ES Brasil?\"\n",
    "zeroshotutility.print_travel_modes(question=question)\n"
   ]
  },
  {
   "cell_type": "markdown",
   "metadata": {},
   "source": [
    "<font color=\"orange\">`OBSERVAÇÃO:`\n",
    "\n",
    "Tenha cuidado com uso de `zero-shot`, já que têm muitos casos em que a estrutura da answer pode ser alterada. Portanto, se você deseja ter a answer em um formato específico ou se deseja que sua answer seja mais padronizada, o `zero-shot` pode não funcionar o tempo todo.</font>"
   ]
  },
  {
   "cell_type": "markdown",
   "metadata": {},
   "source": [
    "# <font color=\"red\">Few-shot Prompting</font>"
   ]
  },
  {
   "cell_type": "markdown",
   "metadata": {},
   "source": [
    "O `few-shot prompt` é um tipo de tarefa de processamento de linguagem natural (`NLP`) em que um modelo recebe um `prompt` e `alguns exemplos de texto` e espera-se que gere texto que seja relevante para o prompt e `semelhante aos exemplos`.\n",
    "\n",
    "<font color=\"orange\">A seguir, forneceremos alguns exemplos sobre o tipo de resultado que desejamos. Além disso, você verá um `prefixo` e um `sufixo` apenas para separar a questão real dos exemplos no prompt (e para seguir a assinatura do método da biblioteca `Langchain`.)</font>"
   ]
  },
  {
   "cell_type": "code",
   "execution_count": 76,
   "metadata": {},
   "outputs": [],
   "source": [
    "class FewShot:\n",
    "\n",
    "    @staticmethod\n",
    "    def get_examples():\n",
    "        examples = [ \n",
    "            { \n",
    "                \"question\" : \"Como chegar ao aeroporto de Calcutá até o Zoológico de Calcutá?\" , \n",
    "                \"answer\" : \"\"\" \n",
    "                opção 1: mode=bus, min_time_in_min=75, max_time_in_min=90, description=pegue o ônibus nº 37 do aeroporto. Ele o deixará \n",
    "                em Alipore. Faça uma caminhada de 5 minutos, \n",
    "                opção 2: mode= metro, min_time_in_min=40, max_time_in_min=60, description=pegue o metrô do aeroporto. Ele \n",
    "                o deixará em Joka. Faça uma caminhada de 10 minutos\n",
    "                opção 3: mod=trem, min_time_in_min=45, max_time_in_min=60, description=pegar o trem local do aeroporto. Isso \n",
    "                o deixará em Nova Alipore. Faça uma caminhada de 10 minutos, \n",
    "                opção 4: mod=walk, min_time_in_min=400, max_time_in_min=500, description=take Faça uma caminhada de 500 minutos \n",
    "                \"\"\"\n",
    "             }, \n",
    "            { \n",
    "                \"question\" : \"Como chegar ao aeroporto de Hyderabad até Hyderabad HiTech City ?\" , \n",
    "                \"answer\" : \"\"\" \n",
    "                opção 1: mode=bus, min_time_in_min=60, max_time_in_min=75, description=pegue o ônibus nº 23 do aeroporto. Isso \n",
    "                o deixará na cidade de alta tecnologia.\n",
    "                opção 2: mode=car, min_time_in_min=30, max_time_in_min=45, description=pegar transporte ola/uber/aeroporto. \n",
    "                Ele o deixará na \n",
    "                opção 3 da cidade HiTech: mode=motorbike, min_time_in_min=25, max_time_in_min=40. description=pegue uma moto.Ela \n",
    "                o deixará na cidade HiTech \n",
    "                \"\"\"\n",
    "             }, \n",
    "            { \n",
    "                \"question\" : \"Como chegar ao aeroporto de Heathrow até Hounslow Central?\" , \n",
    "                \"answer\" : \"\"\" \n",
    "                        opção 1: mode=tube, min_time_in_min= 10, max_time_in_min=15. description=pegue o metrô no aeroporto.\n",
    "\n",
    "                        opção 2: mode=carro, min_time_in_min=25, max_time_in_min=35. description=pegue um carro alugado no \n",
    "                         aeroporto. Ele irá deixá-lo em Hounslow Central \n",
    "                        \"\"\"\n",
    "             } \n",
    "        ]\n",
    "        return examples\n",
    "\n",
    "    @staticmethod\n",
    "    def get_example_template():\n",
    "        template = \"\"\"\n",
    "        Pergunta: {question}\n",
    "        Resposta: {answer}\n",
    "        \"\"\"\n",
    "        example_variables = [\"question\", \"answer\"]\n",
    "        return template, example_variables\n",
    "\n",
    "    @staticmethod\n",
    "    def get_prefix():\n",
    "        return f\"\"\"\n",
    "        Quero que você desempenhe o papel de um bot de viagens e responda à \\\n",
    "        pergunta. Retorne a resposta em formato json, você deve fornecer apenas seis opções \\\n",
    "        listadas em uma estrutura de array. A raiz do array deve ser nomeada como \"opções\". \\\n",
    "        Você mesmo deve preencher os valores e remover opções inviáveis ou não fatíveis do json.\n",
    "        \"\"\"\n",
    "\n",
    "    @staticmethod\n",
    "    def get_suffix():\n",
    "        return \"\"\"\n",
    "                Pergunta: {question}\n",
    "                \"\"\""
   ]
  },
  {
   "cell_type": "code",
   "execution_count": 77,
   "metadata": {},
   "outputs": [],
   "source": [
    "import os\n",
    "from langchain import PromptTemplate\n",
    "from langchain.prompts.few_shot import FewShotPromptTemplate\n",
    "from langchain.chat_models import ChatOpenAI\n",
    "from langchain.prompts import ChatPromptTemplate\n",
    "\n",
    "\n",
    "class FewShotUtility:\n",
    "\n",
    "    def __init__(self, examples, prefix, suffix, input_variables, example_template, example_variables):\n",
    "        self.examples = examples\n",
    "        self.prefix = prefix\n",
    "        self.suffix = suffix\n",
    "        self.input_variables = input_variables\n",
    "        self.example_template = example_template\n",
    "        self.example_variables = example_variables\n",
    "\n",
    "    def get_prompt(self, question):\n",
    "        prompt_template = FewShotPromptTemplate(\n",
    "            examples=self.examples,\n",
    "            example_prompt=self.get_prompt_template(),\n",
    "            prefix=self.prefix,\n",
    "            suffix=self.suffix,\n",
    "            input_variables=self.input_variables\n",
    "        )\n",
    "        prompt = prompt_template.format(question=question)\n",
    "        return prompt\n",
    "\n",
    "    def get_prompt_template(self):\n",
    "        example_prompt = PromptTemplate(\n",
    "            input_variables=self.example_variables,\n",
    "            template=self.example_template\n",
    "        )\n",
    "        return example_prompt\n",
    "\n",
    "    @staticmethod\n",
    "    def print_travel_modes(prompt):\n",
    "        prompt_template = ChatPromptTemplate.from_template(prompt)\n",
    "        message = prompt_template.format_messages()\n",
    "        llm = ChatOpenAI(temperature=0, openai_api_key=os.getenv(\"OPENAI_KEY\"))\n",
    "        response = llm(message)\n",
    "        print(response.content)\n"
   ]
  },
  {
   "cell_type": "code",
   "execution_count": 78,
   "metadata": {},
   "outputs": [
    {
     "name": "stdout",
     "output_type": "stream",
     "text": [
      "Resposta:  \n",
      "                opção 1: mode=avião, min_time_in_min=360, max_time_in_min=420, description=pegue um voo direto de Vitória para Lima. \n",
      "                opção 2: mode=ônibus, min_time_in_min=1440, max_time_in_min=1800, description=pegue um ônibus de Vitória para Lima. \n",
      "                opção 3: mode=carro, min_time_in_min=4320, max_time_in_min=5040, description=dirija de Vitória para Lima. \n",
      "                opção 4: mode=trem, min_time_in_min=7200, max_time_in_min=8640, description=pegue um trem de Vitória para Lima. \n",
      "                opção 5: mode=barco, min_time_in_min=43200, max_time_in_min=50400, description=faça uma viagem de barco de Vitória para Lima. \n",
      "                opção 6: mode=bicicleta, min_time_in_min=129600, max_time_in_min=151200, description=faça uma viagem de bicicleta de Vitória para Lima.\n"
     ]
    }
   ],
   "source": [
    "fewshot = FewShot() # Instancio a Classe\n",
    "\n",
    "examples = fewshot.get_examples()\n",
    "prefix = fewshot.get_prefix()\n",
    "suffix = fewshot.get_suffix()\n",
    "example_template, example_variables = fewshot.get_example_template()\n",
    "\n",
    "\n",
    "fewShot = FewShotUtility(examples=examples,\n",
    "                         prefix=prefix,\n",
    "                         suffix=suffix,\n",
    "                         input_variables=[\"question\"],\n",
    "                         example_template=example_template,\n",
    "                         example_variables=example_variables\n",
    "                        )\n",
    "\n",
    "\n",
    "question = \"Como chegar à cidade de Lima-Perú saindo de Vitória-ES Brasil?\"\n",
    "prompt = fewShot.get_prompt(question)\n",
    "fewShot.print_travel_modes(prompt)\n"
   ]
  }
 ],
 "metadata": {
  "kernelspec": {
   "display_name": "venv_LLMs",
   "language": "python",
   "name": "python3"
  },
  "language_info": {
   "codemirror_mode": {
    "name": "ipython",
    "version": 3
   },
   "file_extension": ".py",
   "mimetype": "text/x-python",
   "name": "python",
   "nbconvert_exporter": "python",
   "pygments_lexer": "ipython3",
   "version": "3.10.12"
  },
  "orig_nbformat": 4
 },
 "nbformat": 4,
 "nbformat_minor": 2
}
