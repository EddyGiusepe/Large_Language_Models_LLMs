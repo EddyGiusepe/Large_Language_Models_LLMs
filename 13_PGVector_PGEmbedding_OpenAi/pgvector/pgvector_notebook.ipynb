{
 "cells": [
  {
   "attachments": {},
   "cell_type": "markdown",
   "metadata": {},
   "source": [
    "<h1 align=\"center\"><font color=\"yellow\">PGVector</font></h1>"
   ]
  },
  {
   "attachments": {},
   "cell_type": "markdown",
   "metadata": {},
   "source": [
    "<font color=\"yellow\">Data Scientist.: Dr.Eddy Giusepe Chirinos Isidro</font>"
   ]
  },
  {
   "cell_type": "code",
   "execution_count": 24,
   "metadata": {},
   "outputs": [],
   "source": [
    "from dotenv import load_dotenv\n",
    "from langchain.embeddings import OpenAIEmbeddings\n",
    "from psycopg.conninfo import make_conninfo\n",
    "import psycopg\n",
    "\n",
    "import os\n",
    "import openai\n",
    "from dotenv import find_dotenv, load_dotenv\n",
    "_ = load_dotenv(find_dotenv()) # read local .env file\n",
    "openai.api_key  = os.getenv('OPENAI_API_KEY')\n",
    "\n",
    "\n",
    "embeddings = OpenAIEmbeddings()\n",
    "\n",
    "connectionString = make_conninfo(\n",
    "    host=os.getenv('DB_HOST'),\n",
    "    port=os.getenv('DB_PORT'),\n",
    "    dbname=os.getenv('DB_NAME'),\n",
    "    user=os.getenv('DB_USER'),\n",
    "    password=os.getenv('DB_PASSWORD')\n",
    ")"
   ]
  },
  {
   "cell_type": "code",
   "execution_count": 25,
   "metadata": {},
   "outputs": [
    {
     "data": {
      "text/plain": [
       "'\\nCREATE TABLE documents (\\n    id serial PRIMARY KEY,\\n    file_name varchar,\\n    content text,\\n    embedding double precision[]\\n);\\n'"
      ]
     },
     "execution_count": 25,
     "metadata": {},
     "output_type": "execute_result"
    }
   ],
   "source": [
    "# Carregar documentos de amostra no banco de dados:\n",
    "\n",
    "directory = './data'\n",
    "\n",
    "# Percorra todos os arquivos no diretório, crie incorporações, salve-os no banco de dados:\n",
    "for file_name in os.listdir(directory):\n",
    "  file_path = os.path.join(directory, file_name)\n",
    "  with open(file_path, 'r') as file:\n",
    "      content = file.read()\n",
    "      embedding_results = embeddings.embed_query(content)\n",
    "      with psycopg.connect(connectionString) as conn:\n",
    "        insert_query = \"INSERT INTO documents (file_name, content, embedding) VALUES (%s, %s, %s)\"\n",
    "        insert_data = (file_name, content, embedding_results)\n",
    "        conn.execute(insert_query, insert_data)\n",
    "        conn.commit()\n",
    "\n",
    "# NOTA: Você precisa criar o TABELA, lá no DB postgres, assim:\n",
    "\n",
    "'''\n",
    "CREATE TABLE documents (\n",
    "    id serial PRIMARY KEY,\n",
    "    file_name varchar,\n",
    "    content text,\n",
    "    embedding double precision[]\n",
    ");\n",
    "'''        \n"
   ]
  },
  {
   "cell_type": "code",
   "execution_count": 74,
   "metadata": {},
   "outputs": [
    {
     "data": {
      "text/plain": [
       "1536"
      ]
     },
     "execution_count": 74,
     "metadata": {},
     "output_type": "execute_result"
    }
   ],
   "source": [
    "search_text = \"Como se chamava a tartaruga?\"\n",
    "\n",
    "\n",
    "# search do texto Embedding:\n",
    "embedding_results = embeddings.embed_query(search_text)\n",
    "\n",
    "len(embedding_results)"
   ]
  },
  {
   "cell_type": "code",
   "execution_count": null,
   "metadata": {},
   "outputs": [],
   "source": [
    "# Encontre documentos com base na SIMILARIDADE de COSSENO com o texto de pesquisa Embedding:\n",
    "with psycopg.connect(connectionString) as conn:\n",
    "   select_query = \"SELECT * FROM documents\"\n",
    "   query_data = (f'{embedding_results}', 0.8, 10)\n",
    "   results = conn.execute(select_query, query_data).fetchall()\n",
    "   for result in results:\n",
    "     print(result) \n",
    "\n"
   ]
  },
  {
   "cell_type": "code",
   "execution_count": null,
   "metadata": {},
   "outputs": [],
   "source": []
  }
 ],
 "metadata": {
  "kernelspec": {
   "display_name": "venv_LLMs",
   "language": "python",
   "name": "python3"
  },
  "language_info": {
   "codemirror_mode": {
    "name": "ipython",
    "version": 3
   },
   "file_extension": ".py",
   "mimetype": "text/x-python",
   "name": "python",
   "nbconvert_exporter": "python",
   "pygments_lexer": "ipython3",
   "version": "3.10.12"
  },
  "orig_nbformat": 4
 },
 "nbformat": 4,
 "nbformat_minor": 2
}
