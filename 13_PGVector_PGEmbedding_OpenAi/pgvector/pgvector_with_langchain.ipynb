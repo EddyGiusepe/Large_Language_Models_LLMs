{
 "cells": [
  {
   "attachments": {},
   "cell_type": "markdown",
   "metadata": {},
   "source": [
    "<h1 align=\"center\"><font color=\"yellow\">PGVector: Crie, armazene e consulte Embeddings OpenAI no PostgreSQL usando pgvector</font></h1>"
   ]
  },
  {
   "attachments": {},
   "cell_type": "markdown",
   "metadata": {},
   "source": [
    "<font color=\"yellow\">Data Scientist.: Dr.Eddy Giusepe Chirinos Isidro</font>"
   ]
  },
  {
   "attachments": {},
   "cell_type": "markdown",
   "metadata": {},
   "source": [
    "Vamos seguir os seguintes passos:\n",
    "\n",
    "* docker pull ankane/pgvector\n",
    "\n",
    "* docker-compose up -d\n",
    "\n",
    "* Connect to the server \n",
    "\n",
    "\n",
    "\n"
   ]
  },
  {
   "cell_type": "code",
   "execution_count": 56,
   "metadata": {},
   "outputs": [],
   "source": [
    "from langchain.document_loaders import TextLoader\n",
    "from langchain.text_splitter import CharacterTextSplitter\n",
    "from langchain.embeddings.openai import OpenAIEmbeddings\n",
    "from langchain.vectorstores.pgvector import PGVector, DistanceStrategy\n",
    "from langchain.docstore.document import Document\n",
    "\n",
    "import os\n",
    "import openai\n",
    "from dotenv import find_dotenv, load_dotenv\n",
    "_ = load_dotenv(find_dotenv()) # read local .env file\n",
    "openai.api_key  = os.getenv('OPENAI_API_KEY')\n",
    "\n",
    "\n",
    "embeddings = OpenAIEmbeddings()\n",
    "\n",
    "connection_string = PGVector.connection_string_from_db_params(\n",
    "    driver=os.environ.get(\"DB_DRIVER\", \"psycopg\"),\n",
    "    host=os.getenv('DB_HOST'),\n",
    "    port=os.getenv('DB_PORT'),\n",
    "    database=os.getenv('DB_NAME'),\n",
    "    user=os.getenv('DB_USER'),\n",
    "    password=os.getenv('DB_PASSWORD')\n",
    ")\n"
   ]
  },
  {
   "cell_type": "code",
   "execution_count": 57,
   "metadata": {},
   "outputs": [],
   "source": [
    "loader = TextLoader('./data/exemplo_DETRAN-DF.txt')\n",
    "documents = loader.load()"
   ]
  },
  {
   "cell_type": "code",
   "execution_count": 58,
   "metadata": {},
   "outputs": [
    {
     "data": {
      "text/plain": [
       "[Document(page_content='Fale com o Detran-DF\\nCentral de Atendimento ao Cidadão\\nO atendimento ao cidadão é feito pelo telefone 154, para quem está no DF, e 0800 644 0154, para quem está fora do DF.\\nO Call Center funciona 24 horas por dia com atendimento eletrônico e, das 7h às 19h, em dias úteis, com atendimento humano.\\nCerca de 40 atendentes trabalham no fornecimento de informações sobre os serviços prestados pelo Detran à população do DF. O usuário poderá pedir esclarecimentos sobre os diversos serviços do Órgão, tirar dúvidas, fazer reclamação, dar sugestão e até mesmo fazer elogios.\\nCaso queira registrar uma reclamação, denúncia, sugestão, elogio ou informações de caráter geral sobre serviços, tais como horários de funcionamento, números de telefone, endereços, entre outros, ligue 162, número da Ouvidoria.\\nSe quiser informar sobre irregularidades ou denúncias de urgência e emergência no trânsito, relacionadas à fiscalização, ligue 190 ou 193. Mas atenção!  Por ser um número destinado a emergências, não use para pedidos de informações sobre serviços, neste caso, use o 154.\\nSaiba quais situações são consideradas emergências momentâneas e emergenciais no trânsito: acidente de trânsito, carro preso em estacionamento, semáforo apresentando defeito, obstáculos na via (veículo quebrado, animais soltos, objetos obstruindo trânsito…) e flagrante de manobras perigosas no trânsito.\\n\\nPostos de Atendimento\\nPostos do Na Hora\\nAs unidades do Na Hora passaram a atender em modelo híbrido, ou seja, com atendimentos com ou sem agendamento, de acordo com a capacidade de cada órgão.\\nO funcionamento das Unidades do Na Hora será de segunda-feira a sexta-feira, no horário das 7h às 19h, e aos sábados das 7h às 13h,\\ncom entrega das senhas de segunda-feira a sexta-feira, das 7h30 às 18h30 e aos sábados das 7h30 às 12h30.\\n\\nUnidades do Detran-DF:\\n\\u200bDetran – Sede (Asa Norte)\\nDetran – Depósito (Asa Norte)\\n\\u200bDetran – Asa Sul\\n\\u200bDetran – Aeroporto\\nDetran – Brazlândia\\n\\u200bDetran – Gama\\n\\u200bDetran – Paranoá\\nDetran – Planaltina\\nDetran – Recanto das Emas\\nDetran – Setor de Cargas (Antiga Vadel)\\nDetran – Shopping Popular\\nDetran – Sobradinho\\nDetran – Taguatinga\\nNa Hora – Ceilândia\\nNa Hora – Gama\\nNa Hora – Riacho Fundo I\\nNa Hora – Rodoviária\\nNa Hora – Sobradinho\\nNa Hora – Taguatinga', metadata={'source': './data/exemplo_DETRAN-DF.txt'})]"
      ]
     },
     "execution_count": 58,
     "metadata": {},
     "output_type": "execute_result"
    }
   ],
   "source": [
    "documents"
   ]
  },
  {
   "cell_type": "code",
   "execution_count": 60,
   "metadata": {},
   "outputs": [
    {
     "name": "stderr",
     "output_type": "stream",
     "text": [
      "Created a chunk of size 271, which is longer than the specified 250\n",
      "Created a chunk of size 270, which is longer than the specified 250\n",
      "Created a chunk of size 304, which is longer than the specified 250\n"
     ]
    },
    {
     "name": "stdout",
     "output_type": "stream",
     "text": [
      "1\n",
      "11\n"
     ]
    }
   ],
   "source": [
    "from langchain.text_splitter import RecursiveCharacterTextSplitter\n",
    "\n",
    "text_splitter = CharacterTextSplitter(chunk_size=250,\n",
    "                                      chunk_overlap=60,\n",
    "                                      separator=\"\\n\"\n",
    "                                     )\n",
    "\n",
    "docs = text_splitter.split_documents(documents)\n",
    "print(len(documents))\n",
    "print(len(docs))"
   ]
  },
  {
   "cell_type": "code",
   "execution_count": 61,
   "metadata": {},
   "outputs": [
    {
     "data": {
      "text/plain": [
       "[Document(page_content='Fale com o Detran-DF\\nCentral de Atendimento ao Cidadão\\nO atendimento ao cidadão é feito pelo telefone 154, para quem está no DF, e 0800 644 0154, para quem está fora do DF.', metadata={'source': './data/exemplo_DETRAN-DF.txt'}),\n",
       " Document(page_content='O Call Center funciona 24 horas por dia com atendimento eletrônico e, das 7h às 19h, em dias úteis, com atendimento humano.', metadata={'source': './data/exemplo_DETRAN-DF.txt'}),\n",
       " Document(page_content='Cerca de 40 atendentes trabalham no fornecimento de informações sobre os serviços prestados pelo Detran à população do DF. O usuário poderá pedir esclarecimentos sobre os diversos serviços do Órgão, tirar dúvidas, fazer reclamação, dar sugestão e até mesmo fazer elogios.', metadata={'source': './data/exemplo_DETRAN-DF.txt'}),\n",
       " Document(page_content='Caso queira registrar uma reclamação, denúncia, sugestão, elogio ou informações de caráter geral sobre serviços, tais como horários de funcionamento, números de telefone, endereços, entre outros, ligue 162, número da Ouvidoria.', metadata={'source': './data/exemplo_DETRAN-DF.txt'}),\n",
       " Document(page_content='Se quiser informar sobre irregularidades ou denúncias de urgência e emergência no trânsito, relacionadas à fiscalização, ligue 190 ou 193. Mas atenção!  Por ser um número destinado a emergências, não use para pedidos de informações sobre serviços, neste caso, use o 154.', metadata={'source': './data/exemplo_DETRAN-DF.txt'}),\n",
       " Document(page_content='Saiba quais situações são consideradas emergências momentâneas e emergenciais no trânsito: acidente de trânsito, carro preso em estacionamento, semáforo apresentando defeito, obstáculos na via (veículo quebrado, animais soltos, objetos obstruindo trânsito…) e flagrante de manobras perigosas no trânsito.', metadata={'source': './data/exemplo_DETRAN-DF.txt'}),\n",
       " Document(page_content='Postos de Atendimento\\nPostos do Na Hora\\nAs unidades do Na Hora passaram a atender em modelo híbrido, ou seja, com atendimentos com ou sem agendamento, de acordo com a capacidade de cada órgão.', metadata={'source': './data/exemplo_DETRAN-DF.txt'}),\n",
       " Document(page_content='O funcionamento das Unidades do Na Hora será de segunda-feira a sexta-feira, no horário das 7h às 19h, e aos sábados das 7h às 13h,\\ncom entrega das senhas de segunda-feira a sexta-feira, das 7h30 às 18h30 e aos sábados das 7h30 às 12h30.', metadata={'source': './data/exemplo_DETRAN-DF.txt'}),\n",
       " Document(page_content='Unidades do Detran-DF:\\n\\u200bDetran – Sede (Asa Norte)\\nDetran – Depósito (Asa Norte)\\n\\u200bDetran – Asa Sul\\n\\u200bDetran – Aeroporto\\nDetran – Brazlândia\\n\\u200bDetran – Gama\\n\\u200bDetran – Paranoá\\nDetran – Planaltina\\nDetran – Recanto das Emas', metadata={'source': './data/exemplo_DETRAN-DF.txt'}),\n",
       " Document(page_content='Detran – Planaltina\\nDetran – Recanto das Emas\\nDetran – Setor de Cargas (Antiga Vadel)\\nDetran – Shopping Popular\\nDetran – Sobradinho\\nDetran – Taguatinga\\nNa Hora – Ceilândia\\nNa Hora – Gama\\nNa Hora – Riacho Fundo I\\nNa Hora – Rodoviária', metadata={'source': './data/exemplo_DETRAN-DF.txt'}),\n",
       " Document(page_content='Na Hora – Gama\\nNa Hora – Riacho Fundo I\\nNa Hora – Rodoviária\\nNa Hora – Sobradinho\\nNa Hora – Taguatinga', metadata={'source': './data/exemplo_DETRAN-DF.txt'})]"
      ]
     },
     "execution_count": 61,
     "metadata": {},
     "output_type": "execute_result"
    }
   ],
   "source": [
    "docs"
   ]
  },
  {
   "cell_type": "code",
   "execution_count": 62,
   "metadata": {},
   "outputs": [],
   "source": [
    "from typing import List, Tuple\n",
    "\n",
    "collection_name = 'DETRAN-DF'\n",
    "# O Módulo PGVector tentará criar uma tabela com o nome da coleção (collection). \n",
    "# Portanto, certifique-se de que o nome da coleção seja exclusivo e que o usuário tenha permissão para criar uma tabela.\n",
    "db = PGVector.from_documents(\n",
    "    embedding=embeddings,\n",
    "    documents=docs,\n",
    "    collection_name=collection_name,\n",
    "    connection_string=connection_string,\n",
    ")\n"
   ]
  },
  {
   "cell_type": "code",
   "execution_count": 70,
   "metadata": {},
   "outputs": [],
   "source": [
    "query =\"O que é a central de atendimento ao cidadão?\" #\"Quais são os requisitos necessários para a educação hospitalar?\"\n",
    "docs_with_score: List[Tuple[Document, float]] = db.similarity_search_with_score(query,\n",
    "                                                                                k=4)\n"
   ]
  },
  {
   "cell_type": "code",
   "execution_count": 71,
   "metadata": {},
   "outputs": [
    {
     "data": {
      "text/plain": [
       "[(Document(page_content='Fale com o Detran-DF\\nCentral de Atendimento ao Cidadão\\nO atendimento ao cidadão é feito pelo telefone 154, para quem está no DF, e 0800 644 0154, para quem está fora do DF.', metadata={'source': './data/exemplo_DETRAN-DF.txt'}),\n",
       "  0.13554074441518482),\n",
       " (Document(page_content='O Call Center funciona 24 horas por dia com atendimento eletrônico e, das 7h às 19h, em dias úteis, com atendimento humano.', metadata={'source': './data/exemplo_DETRAN-DF.txt'}),\n",
       "  0.14110601574583936),\n",
       " (Document(page_content='Cerca de 40 atendentes trabalham no fornecimento de informações sobre os serviços prestados pelo Detran à população do DF. O usuário poderá pedir esclarecimentos sobre os diversos serviços do Órgão, tirar dúvidas, fazer reclamação, dar sugestão e até mesmo fazer elogios.', metadata={'source': './data/exemplo_DETRAN-DF.txt'}),\n",
       "  0.14203222179876396),\n",
       " (Document(page_content='Caso queira registrar uma reclamação, denúncia, sugestão, elogio ou informações de caráter geral sobre serviços, tais como horários de funcionamento, números de telefone, endereços, entre outros, ligue 162, número da Ouvidoria.', metadata={'source': './data/exemplo_DETRAN-DF.txt'}),\n",
       "  0.14507758774540014)]"
      ]
     },
     "execution_count": 71,
     "metadata": {},
     "output_type": "execute_result"
    }
   ],
   "source": [
    "docs_with_score"
   ]
  },
  {
   "cell_type": "code",
   "execution_count": 72,
   "metadata": {},
   "outputs": [
    {
     "name": "stdout",
     "output_type": "stream",
     "text": [
      "----------------------------------------------------------------------------------------------------\n",
      "Score:  0.13554074441518482\n",
      "Conteúdo:  Fale com o Detran-DF\n",
      "Central de Atendimento ao Cidadão\n",
      "O atendimento ao cidadão é feito pelo telefone 154, para quem está no DF, e 0800 644 0154, para quem está fora do DF.\n",
      "\n",
      "{'source': './data/exemplo_DETRAN-DF.txt'}\n",
      "----------------------------------------------------------------------------------------------------\n",
      "----------------------------------------------------------------------------------------------------\n",
      "Score:  0.14110601574583936\n",
      "Conteúdo:  O Call Center funciona 24 horas por dia com atendimento eletrônico e, das 7h às 19h, em dias úteis, com atendimento humano.\n",
      "\n",
      "{'source': './data/exemplo_DETRAN-DF.txt'}\n",
      "----------------------------------------------------------------------------------------------------\n",
      "----------------------------------------------------------------------------------------------------\n",
      "Score:  0.14203222179876396\n",
      "Conteúdo:  Cerca de 40 atendentes trabalham no fornecimento de informações sobre os serviços prestados pelo Detran à população do DF. O usuário poderá pedir esclarecimentos sobre os diversos serviços do Órgão, tirar dúvidas, fazer reclamação, dar sugestão e até mesmo fazer elogios.\n",
      "\n",
      "{'source': './data/exemplo_DETRAN-DF.txt'}\n",
      "----------------------------------------------------------------------------------------------------\n",
      "----------------------------------------------------------------------------------------------------\n",
      "Score:  0.14507758774540014\n",
      "Conteúdo:  Caso queira registrar uma reclamação, denúncia, sugestão, elogio ou informações de caráter geral sobre serviços, tais como horários de funcionamento, números de telefone, endereços, entre outros, ligue 162, número da Ouvidoria.\n",
      "\n",
      "{'source': './data/exemplo_DETRAN-DF.txt'}\n",
      "----------------------------------------------------------------------------------------------------\n"
     ]
    }
   ],
   "source": [
    "for doc, score in docs_with_score:\n",
    "    print(\"-\" * 100)\n",
    "    print(\"Score: \", score)\n",
    "    print(\"Conteúdo: \", doc.page_content)\n",
    "    print(\"\")\n",
    "    print(doc.metadata)\n",
    "    print(\"-\" * 100)\n",
    "    "
   ]
  },
  {
   "cell_type": "code",
   "execution_count": 73,
   "metadata": {},
   "outputs": [],
   "source": [
    "store = PGVector(\n",
    "    connection_string=connection_string, \n",
    "    embedding_function=embeddings, \n",
    "    collection_name= 'DETRAN-DF', \n",
    "    distance_strategy=DistanceStrategy.COSINE\n",
    ")\n",
    "\n",
    "retriever = store.as_retriever(search_kwargs={\"k\": 3})\n"
   ]
  },
  {
   "cell_type": "code",
   "execution_count": 74,
   "metadata": {},
   "outputs": [
    {
     "data": {
      "text/plain": [
       "VectorStoreRetriever(tags=['PGVector', 'OpenAIEmbeddings'], metadata=None, vectorstore=<langchain.vectorstores.pgvector.PGVector object at 0x7f7f5e5830d0>, search_type='similarity', search_kwargs={'k': 3})"
      ]
     },
     "execution_count": 74,
     "metadata": {},
     "output_type": "execute_result"
    }
   ],
   "source": [
    "retriever"
   ]
  },
  {
   "cell_type": "code",
   "execution_count": 76,
   "metadata": {},
   "outputs": [
    {
     "data": {
      "text/plain": [
       "[Document(page_content='Fale com o Detran-DF\\nCentral de Atendimento ao Cidadão\\nO atendimento ao cidadão é feito pelo telefone 154, para quem está no DF, e 0800 644 0154, para quem está fora do DF.', metadata={'source': './data/exemplo_DETRAN-DF.txt'}),\n",
       " Document(page_content='O Call Center funciona 24 horas por dia com atendimento eletrônico e, das 7h às 19h, em dias úteis, com atendimento humano.', metadata={'source': './data/exemplo_DETRAN-DF.txt'}),\n",
       " Document(page_content='Cerca de 40 atendentes trabalham no fornecimento de informações sobre os serviços prestados pelo Detran à população do DF. O usuário poderá pedir esclarecimentos sobre os diversos serviços do Órgão, tirar dúvidas, fazer reclamação, dar sugestão e até mesmo fazer elogios.', metadata={'source': './data/exemplo_DETRAN-DF.txt'})]"
      ]
     },
     "execution_count": 76,
     "metadata": {},
     "output_type": "execute_result"
    }
   ],
   "source": [
    "\n",
    "retriever.get_relevant_documents(query=\"O que é a central de atendimento ao cidadão?\")\n"
   ]
  },
  {
   "cell_type": "code",
   "execution_count": null,
   "metadata": {},
   "outputs": [],
   "source": []
  }
 ],
 "metadata": {
  "kernelspec": {
   "display_name": "venv_LLMs",
   "language": "python",
   "name": "python3"
  },
  "language_info": {
   "codemirror_mode": {
    "name": "ipython",
    "version": 3
   },
   "file_extension": ".py",
   "mimetype": "text/x-python",
   "name": "python",
   "nbconvert_exporter": "python",
   "pygments_lexer": "ipython3",
   "version": "3.9.16"
  },
  "orig_nbformat": 4
 },
 "nbformat": 4,
 "nbformat_minor": 2
}
