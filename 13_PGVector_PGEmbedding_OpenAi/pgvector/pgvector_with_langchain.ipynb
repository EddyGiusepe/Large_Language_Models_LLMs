{
 "cells": [
  {
   "attachments": {},
   "cell_type": "markdown",
   "metadata": {},
   "source": [
    "<h1 align=\"center\"><font color=\"yellow\">PGVector: Crie, armazene e consulte Embeddings OpenAI no PostgreSQL usando pgvector</font></h1>"
   ]
  },
  {
   "attachments": {},
   "cell_type": "markdown",
   "metadata": {},
   "source": [
    "<font color=\"yellow\">Data Scientist.: Dr.Eddy Giusepe Chirinos Isidro</font>"
   ]
  },
  {
   "attachments": {},
   "cell_type": "markdown",
   "metadata": {},
   "source": [
    "Vamos seguir os seguintes passos:\n",
    "\n",
    "* docker pull ankane/pgvector\n",
    "\n",
    "* docker-compose up -d\n",
    "\n",
    "* Connect to the server \n",
    "\n",
    "\n",
    "\n"
   ]
  },
  {
   "cell_type": "code",
   "execution_count": 7,
   "metadata": {},
   "outputs": [],
   "source": [
    "from langchain.document_loaders import TextLoader\n",
    "from langchain.text_splitter import CharacterTextSplitter\n",
    "from langchain.embeddings.openai import OpenAIEmbeddings\n",
    "from langchain.vectorstores.pgvector import PGVector, DistanceStrategy\n",
    "from langchain.docstore.document import Document\n",
    "\n",
    "import os\n",
    "import openai\n",
    "from dotenv import find_dotenv, load_dotenv\n",
    "_ = load_dotenv(find_dotenv()) # read local .env file\n",
    "openai.api_key  = os.getenv('OPENAI_API_KEY')\n",
    "\n",
    "\n",
    "embeddings = OpenAIEmbeddings()\n",
    "\n",
    "connection_string = PGVector.connection_string_from_db_params(\n",
    "    driver=os.environ.get(\"DB_DRIVER\", \"psycopg\"),\n",
    "    host=os.getenv('DB_HOST'),\n",
    "    port=os.getenv('DB_PORT'),\n",
    "    database=os.getenv('DB_NAME'),\n",
    "    user=os.getenv('DB_USER'),\n",
    "    password=os.getenv('DB_PASSWORD')\n",
    ")\n"
   ]
  },
  {
   "cell_type": "code",
   "execution_count": 8,
   "metadata": {},
   "outputs": [],
   "source": [
    "loader = TextLoader('./data/exemplo_SEEDF.txt')\n",
    "documents = loader.load()"
   ]
  },
  {
   "cell_type": "code",
   "execution_count": 9,
   "metadata": {},
   "outputs": [
    {
     "data": {
      "text/plain": [
       "[Document(page_content='Reforço nas classes hospitalares\\nInscrições iniciam dia 7 de fevereiro. São 15 vagas para atuar em dez hospitais\\nCom novos hospitais incluídos, o processo seletivo de professor da educação básica- carreira magistério, \\npara atuar nas classes hospitalares foi publicado nesta segunda-feira (31), no Diário Oficial do DF. De cinco, \\nagora somam 11 as unidades que contam com o programa. Esta portaria da Secretaria de Educação em conjunto com \\na Secretaria de Saúde garante atendimento educacional às crianças da educação infantil e dos anos iniciais do \\nensino fundamental, matriculadas na rede pública de ensino, impossibilitadas de frequentar as escolas em razão \\nde tratamento médico. Serão três etapas: inscrição, análise curricular documental e entrevista individual, \\nconforme critérios definidos no edital.\\n\\nRequisitos necessários\\nEstão aptos a participar professores de educação básica da carreira magistério do DF com \\ncarga horária de 40 horas semanais e efetivo exercício na rede pública de ensino há, no mínimo, \\ntrês anos. É preciso possuir certificado de pós-graduação ou cursos de 180 horas, na área de \\natendimento educacional especializado, aptidão em atendimento educacional especializado e cursos \\nna área de educação hospitalar.\\nO programa de classes hospitalares, além de assegurar o ensino das crianças hospitalizadas, \\nevita a evasão escolar e a repetência do estudante. Há 24 anos na Secretaria de Educação e 18 anos \\ntrabalhando dentro dos hospitais, a pedagoga Caren Queiroz, é só elogios ao comentar sobre o projeto. \\n“Grande ganho para nossos alunos”, destaca.\\n“É o estado abraçando e acolhendo até nos momentos mais vulneráveis”, comenta Caren, ao explicar que várias\\ndestas crianças possuem doenças crônicas e precisam ser internadas para tratamento várias vezes durante o ano. \\n“Mais uma oportunidade para crianças e adolescentes continuarem o atendimento escolar enquanto estão internadas, \\nsem precisar interromper o processo de escolarização”, completa.\\n\\nLocais de atuação\\nSão 15 vagas e cadastro reserva para atuar nas classes hospitalares:\\n▸ Hospital Materno Infantil (HMIB)\\n▸ Hospital Regional da Asa Norte (HRAN)\\n▸ Hospital Regional de Taguatinga (HRT)\\n▸ Hospital Regional de Ceilândia (HRC)\\n▸ Hospital Regional do Gama (HRG)\\n▸ Hospital Regional de Sobradinho (HRS)\\n▸ Hospital Regional de Planaltina (HRP)\\n▸ Hospital Regional de Brazlândia (HRBz)\\n▸ Hospital Regional do Paranoá (HRPa)\\n▸ Hospital Regional de Samambaia (HRSa)\\n▸ Hospital da Criança de Brasília José Alencar', metadata={'source': './data/exemplo_SEEDF.txt'})]"
      ]
     },
     "execution_count": 9,
     "metadata": {},
     "output_type": "execute_result"
    }
   ],
   "source": [
    "documents"
   ]
  },
  {
   "cell_type": "code",
   "execution_count": 10,
   "metadata": {},
   "outputs": [
    {
     "name": "stdout",
     "output_type": "stream",
     "text": [
      "1\n",
      "10\n"
     ]
    }
   ],
   "source": [
    "text_splitter = CharacterTextSplitter(chunk_size=300,\n",
    "                                      chunk_overlap=50,\n",
    "                                      separator=\"\\n\"\n",
    "                                     )\n",
    "\n",
    "docs = text_splitter.split_documents(documents)\n",
    "print(len(documents))\n",
    "print(len(docs))"
   ]
  },
  {
   "cell_type": "code",
   "execution_count": 11,
   "metadata": {},
   "outputs": [
    {
     "data": {
      "text/plain": [
       "[Document(page_content='Reforço nas classes hospitalares\\nInscrições iniciam dia 7 de fevereiro. São 15 vagas para atuar em dez hospitais\\nCom novos hospitais incluídos, o processo seletivo de professor da educação básica- carreira magistério,', metadata={'source': './data/exemplo_SEEDF.txt'}),\n",
       " Document(page_content='para atuar nas classes hospitalares foi publicado nesta segunda-feira (31), no Diário Oficial do DF. De cinco, \\nagora somam 11 as unidades que contam com o programa. Esta portaria da Secretaria de Educação em conjunto com', metadata={'source': './data/exemplo_SEEDF.txt'}),\n",
       " Document(page_content='a Secretaria de Saúde garante atendimento educacional às crianças da educação infantil e dos anos iniciais do \\nensino fundamental, matriculadas na rede pública de ensino, impossibilitadas de frequentar as escolas em razão', metadata={'source': './data/exemplo_SEEDF.txt'}),\n",
       " Document(page_content='de tratamento médico. Serão três etapas: inscrição, análise curricular documental e entrevista individual, \\nconforme critérios definidos no edital.\\nRequisitos necessários\\nEstão aptos a participar professores de educação básica da carreira magistério do DF com', metadata={'source': './data/exemplo_SEEDF.txt'}),\n",
       " Document(page_content='carga horária de 40 horas semanais e efetivo exercício na rede pública de ensino há, no mínimo, \\ntrês anos. É preciso possuir certificado de pós-graduação ou cursos de 180 horas, na área de \\natendimento educacional especializado, aptidão em atendimento educacional especializado e cursos', metadata={'source': './data/exemplo_SEEDF.txt'}),\n",
       " Document(page_content='na área de educação hospitalar.\\nO programa de classes hospitalares, além de assegurar o ensino das crianças hospitalizadas, \\nevita a evasão escolar e a repetência do estudante. Há 24 anos na Secretaria de Educação e 18 anos', metadata={'source': './data/exemplo_SEEDF.txt'}),\n",
       " Document(page_content='trabalhando dentro dos hospitais, a pedagoga Caren Queiroz, é só elogios ao comentar sobre o projeto. \\n“Grande ganho para nossos alunos”, destaca.\\n“É o estado abraçando e acolhendo até nos momentos mais vulneráveis”, comenta Caren, ao explicar que várias', metadata={'source': './data/exemplo_SEEDF.txt'}),\n",
       " Document(page_content='destas crianças possuem doenças crônicas e precisam ser internadas para tratamento várias vezes durante o ano. \\n“Mais uma oportunidade para crianças e adolescentes continuarem o atendimento escolar enquanto estão internadas, \\nsem precisar interromper o processo de escolarização”, completa.', metadata={'source': './data/exemplo_SEEDF.txt'}),\n",
       " Document(page_content='Locais de atuação\\nSão 15 vagas e cadastro reserva para atuar nas classes hospitalares:\\n▸ Hospital Materno Infantil (HMIB)\\n▸ Hospital Regional da Asa Norte (HRAN)\\n▸ Hospital Regional de Taguatinga (HRT)\\n▸ Hospital Regional de Ceilândia (HRC)\\n▸ Hospital Regional do Gama (HRG)', metadata={'source': './data/exemplo_SEEDF.txt'}),\n",
       " Document(page_content='▸ Hospital Regional do Gama (HRG)\\n▸ Hospital Regional de Sobradinho (HRS)\\n▸ Hospital Regional de Planaltina (HRP)\\n▸ Hospital Regional de Brazlândia (HRBz)\\n▸ Hospital Regional do Paranoá (HRPa)\\n▸ Hospital Regional de Samambaia (HRSa)\\n▸ Hospital da Criança de Brasília José Alencar', metadata={'source': './data/exemplo_SEEDF.txt'})]"
      ]
     },
     "execution_count": 11,
     "metadata": {},
     "output_type": "execute_result"
    }
   ],
   "source": [
    "docs"
   ]
  },
  {
   "cell_type": "code",
   "execution_count": 12,
   "metadata": {},
   "outputs": [],
   "source": [
    "from typing import List, Tuple\n",
    "\n",
    "collection_name = 'SEEDF'\n",
    "# O Módulo PGVector tentará criar uma tabela com o nome da coleção (collection). \n",
    "# Portanto, certifique-se de que o nome da coleção seja exclusivo e que o usuário tenha permissão para criar uma tabela.\n",
    "db = PGVector.from_documents(\n",
    "    embedding=embeddings,\n",
    "    documents=docs,\n",
    "    collection_name=collection_name,\n",
    "    connection_string=connection_string,\n",
    ")\n"
   ]
  },
  {
   "cell_type": "code",
   "execution_count": 13,
   "metadata": {},
   "outputs": [],
   "source": [
    "query =\"Quantos locais de Classes Hospitalares no DF há?\" #\"Quais são os requisitos necessários para a educação hospitalar?\"\n",
    "docs_with_score: List[Tuple[Document, float]] = db.similarity_search_with_score(query,\n",
    "                                                                                k=2)\n"
   ]
  },
  {
   "cell_type": "code",
   "execution_count": 14,
   "metadata": {},
   "outputs": [
    {
     "data": {
      "text/plain": [
       "[(Document(page_content='Locais de atuação\\nSão 15 vagas e cadastro reserva para atuar nas classes hospitalares:\\n▸ Hospital Materno Infantil (HMIB)\\n▸ Hospital Regional da Asa Norte (HRAN)\\n▸ Hospital Regional de Taguatinga (HRT)\\n▸ Hospital Regional de Ceilândia (HRC)\\n▸ Hospital Regional do Gama (HRG)', metadata={'source': './data/exemplo_SEEDF.txt'}),\n",
       "  0.10183656915212536),\n",
       " (Document(page_content='para atuar nas classes hospitalares foi publicado nesta segunda-feira (31), no Diário Oficial do DF. De cinco, \\nagora somam 11 as unidades que contam com o programa. Esta portaria da Secretaria de Educação em conjunto com', metadata={'source': './data/exemplo_SEEDF.txt'}),\n",
       "  0.11261681384071764)]"
      ]
     },
     "execution_count": 14,
     "metadata": {},
     "output_type": "execute_result"
    }
   ],
   "source": [
    "docs_with_score"
   ]
  },
  {
   "cell_type": "code",
   "execution_count": null,
   "metadata": {},
   "outputs": [],
   "source": [
    "for doc, score in docs_with_score:\n",
    "    print(\"-\" * 100)\n",
    "    print(\"Score: \", score)\n",
    "    print(\"Conteúdo: \", doc.page_content)\n",
    "    print(\"\")\n",
    "    print(doc.metadata)\n",
    "    print(\"-\" * 100)\n",
    "    "
   ]
  },
  {
   "cell_type": "code",
   "execution_count": null,
   "metadata": {},
   "outputs": [],
   "source": [
    "store = PGVector(\n",
    "    connection_string=connection_string, \n",
    "    embedding_function=embeddings, \n",
    "    collection_name= 'SEEDF', #'Eddy_RESUMINHO_estado_da_Uniao',\n",
    "    distance_strategy=DistanceStrategy.COSINE\n",
    ")\n",
    "\n",
    "retriever = store.as_retriever(search_kwargs={\"k\": 3})\n"
   ]
  },
  {
   "cell_type": "code",
   "execution_count": null,
   "metadata": {},
   "outputs": [],
   "source": [
    "retriever"
   ]
  },
  {
   "cell_type": "code",
   "execution_count": null,
   "metadata": {},
   "outputs": [],
   "source": [
    "\n",
    "retriever.get_relevant_documents(query=\"Quantos locais de Classes Hospitalares no DF há?\")\n"
   ]
  }
 ],
 "metadata": {
  "kernelspec": {
   "display_name": "venv_LLMs",
   "language": "python",
   "name": "python3"
  },
  "language_info": {
   "codemirror_mode": {
    "name": "ipython",
    "version": 3
   },
   "file_extension": ".py",
   "mimetype": "text/x-python",
   "name": "python",
   "nbconvert_exporter": "python",
   "pygments_lexer": "ipython3",
   "version": "3.10.12"
  },
  "orig_nbformat": 4
 },
 "nbformat": 4,
 "nbformat_minor": 2
}
