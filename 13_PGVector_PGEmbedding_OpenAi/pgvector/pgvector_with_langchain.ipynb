{
 "cells": [
  {
   "attachments": {},
   "cell_type": "markdown",
   "metadata": {},
   "source": [
    "<h1 align=\"center\"><font color=\"yellow\">PGVector: Crie, armazene e consulte Embeddings OpenAI no PostgreSQL usando pgvector</font></h1>"
   ]
  },
  {
   "attachments": {},
   "cell_type": "markdown",
   "metadata": {},
   "source": [
    "<font color=\"yellow\">Data Scientist.: Dr.Eddy Giusepe Chirinos Isidro</font>"
   ]
  },
  {
   "attachments": {},
   "cell_type": "markdown",
   "metadata": {},
   "source": [
    "Vamos seguir os seguintes passos:\n",
    "\n",
    "* docker pull ankane/pgvector\n",
    "\n",
    "* docker-compose up -d\n",
    "\n",
    "* Connect to the server \n",
    "\n",
    "\n",
    "\n"
   ]
  },
  {
   "cell_type": "code",
   "execution_count": 8,
   "metadata": {},
   "outputs": [],
   "source": [
    "from langchain.document_loaders import TextLoader\n",
    "from langchain.text_splitter import CharacterTextSplitter\n",
    "from langchain.embeddings.openai import OpenAIEmbeddings\n",
    "from langchain.vectorstores.pgvector import PGVector, DistanceStrategy\n",
    "from langchain.docstore.document import Document\n",
    "\n",
    "import os\n",
    "import openai\n",
    "from dotenv import find_dotenv, load_dotenv\n",
    "_ = load_dotenv(find_dotenv()) # read local .env file\n",
    "openai.api_key  = os.getenv('OPENAI_API_KEY')\n",
    "\n",
    "\n",
    "embeddings = OpenAIEmbeddings()\n",
    "\n",
    "connection_string = PGVector.connection_string_from_db_params(\n",
    "    driver=os.environ.get(\"DB_DRIVER\", \"psycopg\"),\n",
    "    host=os.getenv('DB_HOST'),\n",
    "    port=os.getenv('DB_PORT'),\n",
    "    database=os.getenv('DB_NAME'),\n",
    "    user=os.getenv('DB_USER'),\n",
    "    password=os.getenv('DB_PASSWORD')\n",
    ")\n"
   ]
  },
  {
   "cell_type": "code",
   "execution_count": 9,
   "metadata": {},
   "outputs": [],
   "source": [
    "loader = TextLoader('./data/RESUMINHO_estado_da_Uniao.txt')\n",
    "documents = loader.load()"
   ]
  },
  {
   "cell_type": "code",
   "execution_count": 10,
   "metadata": {},
   "outputs": [
    {
     "data": {
      "text/plain": [
       "[Document(page_content='Senhora Presidente, Senhora Vice-Presidente, nossa Primeira Dama e Segundo Cavalheiro. Membros do Congresso e do Gabinete. Ministros do Supremo Tribunal Federal. Meus companheiros americanos.\\n\\nNo ano passado, a COVID-19 nos separou. Este ano finalmente estamos juntos novamente.\\n\\nHoje à noite, nos encontramos como democratas, republicanos e independentes. Mas o mais importante como americanos.\\n\\nCom um dever para com o outro, para com o povo americano, para com a Constituição.\\n\\nE com uma determinação inabalável de que a liberdade sempre triunfará sobre a tirania.\\n\\nSeis dias atrás, o russo Vladimir Putin procurou abalar as fundações do mundo livre pensando que poderia fazê-lo se curvar a seus modos ameaçadores. Mas ele calculou mal.\\n\\nEle pensou que poderia entrar na Ucrânia e o mundo viraria. Em vez disso, ele encontrou uma parede de força que nunca imaginou.\\n\\nEle conheceu o povo ucraniano.\\n\\nDo presidente Zelenskyy a todos os ucranianos, seu destemor, sua coragem, sua determinação inspiram o mundo.\\n\\nGrupos de cidadãos bloqueando tanques com seus corpos. Todos, de alunos a professores aposentados, viraram soldados defendendo sua pátria.\\n\\nNesta luta, como disse o presidente Zelenskyy em seu discurso ao Parlamento Europeu, “a luz vencerá as trevas”. O embaixador ucraniano nos Estados Unidos está aqui esta noite.\\n\\nQue cada um de nós aqui esta noite nesta Câmara envie um sinal inequívoco à Ucrânia e ao mundo.\\n\\nPor favor, levante-se se puder e mostre que, sim, nós, os Estados Unidos da América, estamos com o povo ucraniano.\\n\\nAo longo de nossa história, aprendemos essa lição quando os ditadores não pagam um preço por sua agressão, eles causam mais caos.\\n\\nEles continuam se movendo.\\n\\nE os custos e as ameaças aos Estados Unidos e ao mundo continuam aumentando.\\n\\nÉ por isso que a Aliança da OTAN foi criada para garantir a paz e a estabilidade na Europa após a Segunda Guerra Mundial.\\n\\nOs Estados Unidos são membros junto com outras 29 nações.\\n\\nImporta. A diplomacia americana é importante. americanos resolvem os problemas.\\n\\nO último ataque de Putin à Ucrânia foi premeditado e não provocado.\\n\\nEle rejeitou repetidos esforços de diplomacia.\\n\\nEle pensou que o Ocidente e a OTAN não responderiam. E ele pensou que poderia nos dividir em casa. Putin estava errado. Estávamos prontos. aqui está o que nós fizemos.\\n\\nNós nos preparamos extensivamente e com cuidado.\\n\\nPassamos meses construindo uma coalizão de outras nações amantes da liberdade da Europa e das Américas à Ásia e África para confrontar Putin.\\n\\nPassei incontáveis horas unificando nossos aliados europeus. Compartilhamos com o mundo com antecedência o que sabíamos que Putin estava planejando e exatamente como ele tentaria justificar falsamente sua agressão.\\n\\nContrariamos as mentiras da Rússia com a verdade.\\n\\nE agora que ele agiu, o mundo livre o está responsabilizando.\\n\\nJunto com vinte e sete membros da União Européia, incluindo França, Alemanha, Itália, além de países como Reino Unido, Canadá, Japão, Coréia, Austrália, Nova Zelândia e muitos outros, até a Suíça.\\n\\nEstamos infligindo dor à Rússia e apoiando o povo da Ucrânia. Putin agora está isolado do mundo mais do que nunca.\\n\\nJuntamente com nossos aliados, estamos neste momento aplicando poderosas sanções econômicas.\\n\\nEstamos isolando os maiores bancos da Rússia do sistema financeiro internacional.\\n\\nImpedir que o banco central da Rússia defenda o rublo russo tornando inútil o “fundo de guerra” de US$ 630 bilhões de Putin.\\n\\nEstamos bloqueando o acesso da Rússia à tecnologia que irá minar sua força econômica e enfraquecer suas forças armadas nos próximos anos.\\n\\nHoje à noite eu digo aos oligarcas russos e líderes corruptos que não roubaram bilhões de dólares deste regime violento.\\n\\nO Departamento de Justiça dos Estados Unidos está montando uma força-tarefa dedicada a investigar os crimes dos oligarcas russos.\\n\\nEstamos nos unindo aos nossos aliados europeus para encontrar e apreender seus iates, seus apartamentos de luxo, seus jatos particulares. Estamos vindo para seus ganhos ilegítimos.\\n\\nE esta noite estou anunciando que nos juntaremos aos nossos aliados para fechar o espaço aéreo americano a todos os vôos russos – isolando ainda mais a Rússia – e adicionando um aperto adicional – em sua economia. O rublo perdeu 30% de seu valor.\\n\\nO mercado de ações russo perdeu 40% de seu valor e as negociações continuam suspensas. A economia da Rússia está cambaleando e Putin é o único culpado.\\n\\nJuntamente com nossos aliados, estamos apoiando os ucranianos em sua luta pela liberdade. Assistência militar. Assistência econômica. Assistência humanitária.\\n\\nEstamos dando mais de US$ 1 bilhão em assistência direta à Ucrânia.\\n\\nE continuaremos a ajudar o povo ucraniano na defesa de seu país e a aliviar seu sofrimento.\\n\\nDeixe-me ser claro, nossas forças não estão engajadas e não entrarão em conflito com as forças russas na Ucrânia.\\n\\nNossas forças não estão indo para a Europa para lutar na Ucrânia, mas para defender nossos aliados da OTAN – no caso de Putin decidir continuar avançando para o oeste.\\n\\nPara esse propósito, mobilizamos forças terrestres americanas, esquadrões aéreos e destacamentos de navios para proteger os países da OTAN, incluindo Polônia, Romênia, Letônia, Lituânia e Estônia.\\n\\nComo deixei bem claro, os Estados Unidos e nossos Aliados defenderão cada centímetro do território dos países da OTAN com toda a força de nosso poder coletivo.\\n\\nE continuamos de olhos claros. Os ucranianos estão lutando com pura coragem. Mas os próximos dias, semanas, meses, serão difíceis para eles.\\n\\nPutin desencadeou violência e caos. Mas, embora ele possa obter ganhos no campo de batalha, ele pagará um preço alto e contínuo no longo prazo.\\n\\nE um orgulhoso povo ucraniano, que conhece 30 anos de independência, tem repetidamente mostrado que não tolerará quem tente fazer seu país retroceder.\\n\\nPara todos os americanos, serei honesto com vocês, como sempre prometi. Um ditador russo, invadindo um país estrangeiro, tem custos em todo o mundo.\\n\\nE estou tomando medidas robustas para garantir que a dor de nossas sanções seja direcionada à economia da Rússia. E usarei todas as ferramentas à nossa disposição para proteger as empresas e os consumidores americanos.', metadata={'source': './data/RESUMINHO_estado_da_Uniao.txt'})]"
      ]
     },
     "execution_count": 10,
     "metadata": {},
     "output_type": "execute_result"
    }
   ],
   "source": [
    "documents"
   ]
  },
  {
   "cell_type": "code",
   "execution_count": 11,
   "metadata": {},
   "outputs": [
    {
     "name": "stdout",
     "output_type": "stream",
     "text": [
      "1\n",
      "7\n"
     ]
    }
   ],
   "source": [
    "text_splitter = CharacterTextSplitter(chunk_size=1000, chunk_overlap=0)\n",
    "docs = text_splitter.split_documents(documents)\n",
    "print(len(documents))\n",
    "print(len(docs))"
   ]
  },
  {
   "cell_type": "code",
   "execution_count": 12,
   "metadata": {},
   "outputs": [
    {
     "data": {
      "text/plain": [
       "[Document(page_content='Senhora Presidente, Senhora Vice-Presidente, nossa Primeira Dama e Segundo Cavalheiro. Membros do Congresso e do Gabinete. Ministros do Supremo Tribunal Federal. Meus companheiros americanos.\\n\\nNo ano passado, a COVID-19 nos separou. Este ano finalmente estamos juntos novamente.\\n\\nHoje à noite, nos encontramos como democratas, republicanos e independentes. Mas o mais importante como americanos.\\n\\nCom um dever para com o outro, para com o povo americano, para com a Constituição.\\n\\nE com uma determinação inabalável de que a liberdade sempre triunfará sobre a tirania.\\n\\nSeis dias atrás, o russo Vladimir Putin procurou abalar as fundações do mundo livre pensando que poderia fazê-lo se curvar a seus modos ameaçadores. Mas ele calculou mal.\\n\\nEle pensou que poderia entrar na Ucrânia e o mundo viraria. Em vez disso, ele encontrou uma parede de força que nunca imaginou.\\n\\nEle conheceu o povo ucraniano.', metadata={'source': './data/RESUMINHO_estado_da_Uniao.txt'}),\n",
       " Document(page_content='Do presidente Zelenskyy a todos os ucranianos, seu destemor, sua coragem, sua determinação inspiram o mundo.\\n\\nGrupos de cidadãos bloqueando tanques com seus corpos. Todos, de alunos a professores aposentados, viraram soldados defendendo sua pátria.\\n\\nNesta luta, como disse o presidente Zelenskyy em seu discurso ao Parlamento Europeu, “a luz vencerá as trevas”. O embaixador ucraniano nos Estados Unidos está aqui esta noite.\\n\\nQue cada um de nós aqui esta noite nesta Câmara envie um sinal inequívoco à Ucrânia e ao mundo.\\n\\nPor favor, levante-se se puder e mostre que, sim, nós, os Estados Unidos da América, estamos com o povo ucraniano.\\n\\nAo longo de nossa história, aprendemos essa lição quando os ditadores não pagam um preço por sua agressão, eles causam mais caos.\\n\\nEles continuam se movendo.\\n\\nE os custos e as ameaças aos Estados Unidos e ao mundo continuam aumentando.\\n\\nÉ por isso que a Aliança da OTAN foi criada para garantir a paz e a estabilidade na Europa após a Segunda Guerra Mundial.', metadata={'source': './data/RESUMINHO_estado_da_Uniao.txt'}),\n",
       " Document(page_content='Os Estados Unidos são membros junto com outras 29 nações.\\n\\nImporta. A diplomacia americana é importante. americanos resolvem os problemas.\\n\\nO último ataque de Putin à Ucrânia foi premeditado e não provocado.\\n\\nEle rejeitou repetidos esforços de diplomacia.\\n\\nEle pensou que o Ocidente e a OTAN não responderiam. E ele pensou que poderia nos dividir em casa. Putin estava errado. Estávamos prontos. aqui está o que nós fizemos.\\n\\nNós nos preparamos extensivamente e com cuidado.\\n\\nPassamos meses construindo uma coalizão de outras nações amantes da liberdade da Europa e das Américas à Ásia e África para confrontar Putin.\\n\\nPassei incontáveis horas unificando nossos aliados europeus. Compartilhamos com o mundo com antecedência o que sabíamos que Putin estava planejando e exatamente como ele tentaria justificar falsamente sua agressão.\\n\\nContrariamos as mentiras da Rússia com a verdade.\\n\\nE agora que ele agiu, o mundo livre o está responsabilizando.', metadata={'source': './data/RESUMINHO_estado_da_Uniao.txt'}),\n",
       " Document(page_content='Junto com vinte e sete membros da União Européia, incluindo França, Alemanha, Itália, além de países como Reino Unido, Canadá, Japão, Coréia, Austrália, Nova Zelândia e muitos outros, até a Suíça.\\n\\nEstamos infligindo dor à Rússia e apoiando o povo da Ucrânia. Putin agora está isolado do mundo mais do que nunca.\\n\\nJuntamente com nossos aliados, estamos neste momento aplicando poderosas sanções econômicas.\\n\\nEstamos isolando os maiores bancos da Rússia do sistema financeiro internacional.\\n\\nImpedir que o banco central da Rússia defenda o rublo russo tornando inútil o “fundo de guerra” de US$ 630 bilhões de Putin.\\n\\nEstamos bloqueando o acesso da Rússia à tecnologia que irá minar sua força econômica e enfraquecer suas forças armadas nos próximos anos.\\n\\nHoje à noite eu digo aos oligarcas russos e líderes corruptos que não roubaram bilhões de dólares deste regime violento.', metadata={'source': './data/RESUMINHO_estado_da_Uniao.txt'}),\n",
       " Document(page_content='O Departamento de Justiça dos Estados Unidos está montando uma força-tarefa dedicada a investigar os crimes dos oligarcas russos.\\n\\nEstamos nos unindo aos nossos aliados europeus para encontrar e apreender seus iates, seus apartamentos de luxo, seus jatos particulares. Estamos vindo para seus ganhos ilegítimos.\\n\\nE esta noite estou anunciando que nos juntaremos aos nossos aliados para fechar o espaço aéreo americano a todos os vôos russos – isolando ainda mais a Rússia – e adicionando um aperto adicional – em sua economia. O rublo perdeu 30% de seu valor.\\n\\nO mercado de ações russo perdeu 40% de seu valor e as negociações continuam suspensas. A economia da Rússia está cambaleando e Putin é o único culpado.\\n\\nJuntamente com nossos aliados, estamos apoiando os ucranianos em sua luta pela liberdade. Assistência militar. Assistência econômica. Assistência humanitária.\\n\\nEstamos dando mais de US$ 1 bilhão em assistência direta à Ucrânia.', metadata={'source': './data/RESUMINHO_estado_da_Uniao.txt'}),\n",
       " Document(page_content='E continuaremos a ajudar o povo ucraniano na defesa de seu país e a aliviar seu sofrimento.\\n\\nDeixe-me ser claro, nossas forças não estão engajadas e não entrarão em conflito com as forças russas na Ucrânia.\\n\\nNossas forças não estão indo para a Europa para lutar na Ucrânia, mas para defender nossos aliados da OTAN – no caso de Putin decidir continuar avançando para o oeste.\\n\\nPara esse propósito, mobilizamos forças terrestres americanas, esquadrões aéreos e destacamentos de navios para proteger os países da OTAN, incluindo Polônia, Romênia, Letônia, Lituânia e Estônia.\\n\\nComo deixei bem claro, os Estados Unidos e nossos Aliados defenderão cada centímetro do território dos países da OTAN com toda a força de nosso poder coletivo.\\n\\nE continuamos de olhos claros. Os ucranianos estão lutando com pura coragem. Mas os próximos dias, semanas, meses, serão difíceis para eles.', metadata={'source': './data/RESUMINHO_estado_da_Uniao.txt'}),\n",
       " Document(page_content='Putin desencadeou violência e caos. Mas, embora ele possa obter ganhos no campo de batalha, ele pagará um preço alto e contínuo no longo prazo.\\n\\nE um orgulhoso povo ucraniano, que conhece 30 anos de independência, tem repetidamente mostrado que não tolerará quem tente fazer seu país retroceder.\\n\\nPara todos os americanos, serei honesto com vocês, como sempre prometi. Um ditador russo, invadindo um país estrangeiro, tem custos em todo o mundo.\\n\\nE estou tomando medidas robustas para garantir que a dor de nossas sanções seja direcionada à economia da Rússia. E usarei todas as ferramentas à nossa disposição para proteger as empresas e os consumidores americanos.', metadata={'source': './data/RESUMINHO_estado_da_Uniao.txt'})]"
      ]
     },
     "execution_count": 12,
     "metadata": {},
     "output_type": "execute_result"
    }
   ],
   "source": [
    "docs"
   ]
  },
  {
   "cell_type": "code",
   "execution_count": 13,
   "metadata": {},
   "outputs": [],
   "source": [
    "from typing import List, Tuple\n",
    "\n",
    "collection_name = 'Eddy_RESUMINHO_estado_da_Uniao'\n",
    "# O Módulo PGVector tentará criar uma tabela com o nome da coleção (collection). \n",
    "# Portanto, certifique-se de que o nome da coleção seja exclusivo e que o usuário tenha permissão para criar uma tabela.\n",
    "db = PGVector.from_documents(\n",
    "    embedding=embeddings,\n",
    "    documents=docs,\n",
    "    collection_name=collection_name,\n",
    "    connection_string=connection_string,\n",
    ")\n"
   ]
  },
  {
   "cell_type": "code",
   "execution_count": 19,
   "metadata": {},
   "outputs": [],
   "source": [
    "query = \"O que falou Putin?\"\n",
    "docs_with_score: List[Tuple[Document, float]] = db.similarity_search_with_score(query,\n",
    "                                                                                k=2)\n"
   ]
  },
  {
   "cell_type": "code",
   "execution_count": 20,
   "metadata": {},
   "outputs": [
    {
     "data": {
      "text/plain": [
       "[(Document(page_content='Os Estados Unidos são membros junto com outras 29 nações.\\n\\nImporta. A diplomacia americana é importante. americanos resolvem os problemas.\\n\\nO último ataque de Putin à Ucrânia foi premeditado e não provocado.\\n\\nEle rejeitou repetidos esforços de diplomacia.\\n\\nEle pensou que o Ocidente e a OTAN não responderiam. E ele pensou que poderia nos dividir em casa. Putin estava errado. Estávamos prontos. aqui está o que nós fizemos.\\n\\nNós nos preparamos extensivamente e com cuidado.\\n\\nPassamos meses construindo uma coalizão de outras nações amantes da liberdade da Europa e das Américas à Ásia e África para confrontar Putin.\\n\\nPassei incontáveis horas unificando nossos aliados europeus. Compartilhamos com o mundo com antecedência o que sabíamos que Putin estava planejando e exatamente como ele tentaria justificar falsamente sua agressão.\\n\\nContrariamos as mentiras da Rússia com a verdade.\\n\\nE agora que ele agiu, o mundo livre o está responsabilizando.', metadata={'source': './data/RESUMINHO_estado_da_Uniao.txt'}),\n",
       "  0.16348958441733807),\n",
       " (Document(page_content='Junto com vinte e sete membros da União Européia, incluindo França, Alemanha, Itália, além de países como Reino Unido, Canadá, Japão, Coréia, Austrália, Nova Zelândia e muitos outros, até a Suíça.\\n\\nEstamos infligindo dor à Rússia e apoiando o povo da Ucrânia. Putin agora está isolado do mundo mais do que nunca.\\n\\nJuntamente com nossos aliados, estamos neste momento aplicando poderosas sanções econômicas.\\n\\nEstamos isolando os maiores bancos da Rússia do sistema financeiro internacional.\\n\\nImpedir que o banco central da Rússia defenda o rublo russo tornando inútil o “fundo de guerra” de US$ 630 bilhões de Putin.\\n\\nEstamos bloqueando o acesso da Rússia à tecnologia que irá minar sua força econômica e enfraquecer suas forças armadas nos próximos anos.\\n\\nHoje à noite eu digo aos oligarcas russos e líderes corruptos que não roubaram bilhões de dólares deste regime violento.', metadata={'source': './data/RESUMINHO_estado_da_Uniao.txt'}),\n",
       "  0.16403889272990457)]"
      ]
     },
     "execution_count": 20,
     "metadata": {},
     "output_type": "execute_result"
    }
   ],
   "source": [
    "docs_with_score"
   ]
  },
  {
   "cell_type": "code",
   "execution_count": 23,
   "metadata": {},
   "outputs": [
    {
     "name": "stdout",
     "output_type": "stream",
     "text": [
      "----------------------------------------------------------------------------------------------------\n",
      "Score:  0.16348958441733807\n",
      "Conteúdo:  Os Estados Unidos são membros junto com outras 29 nações.\n",
      "\n",
      "Importa. A diplomacia americana é importante. americanos resolvem os problemas.\n",
      "\n",
      "O último ataque de Putin à Ucrânia foi premeditado e não provocado.\n",
      "\n",
      "Ele rejeitou repetidos esforços de diplomacia.\n",
      "\n",
      "Ele pensou que o Ocidente e a OTAN não responderiam. E ele pensou que poderia nos dividir em casa. Putin estava errado. Estávamos prontos. aqui está o que nós fizemos.\n",
      "\n",
      "Nós nos preparamos extensivamente e com cuidado.\n",
      "\n",
      "Passamos meses construindo uma coalizão de outras nações amantes da liberdade da Europa e das Américas à Ásia e África para confrontar Putin.\n",
      "\n",
      "Passei incontáveis horas unificando nossos aliados europeus. Compartilhamos com o mundo com antecedência o que sabíamos que Putin estava planejando e exatamente como ele tentaria justificar falsamente sua agressão.\n",
      "\n",
      "Contrariamos as mentiras da Rússia com a verdade.\n",
      "\n",
      "E agora que ele agiu, o mundo livre o está responsabilizando.\n",
      "\n",
      "{'source': './data/RESUMINHO_estado_da_Uniao.txt'}\n",
      "----------------------------------------------------------------------------------------------------\n",
      "----------------------------------------------------------------------------------------------------\n",
      "Score:  0.16403889272990457\n",
      "Conteúdo:  Junto com vinte e sete membros da União Européia, incluindo França, Alemanha, Itália, além de países como Reino Unido, Canadá, Japão, Coréia, Austrália, Nova Zelândia e muitos outros, até a Suíça.\n",
      "\n",
      "Estamos infligindo dor à Rússia e apoiando o povo da Ucrânia. Putin agora está isolado do mundo mais do que nunca.\n",
      "\n",
      "Juntamente com nossos aliados, estamos neste momento aplicando poderosas sanções econômicas.\n",
      "\n",
      "Estamos isolando os maiores bancos da Rússia do sistema financeiro internacional.\n",
      "\n",
      "Impedir que o banco central da Rússia defenda o rublo russo tornando inútil o “fundo de guerra” de US$ 630 bilhões de Putin.\n",
      "\n",
      "Estamos bloqueando o acesso da Rússia à tecnologia que irá minar sua força econômica e enfraquecer suas forças armadas nos próximos anos.\n",
      "\n",
      "Hoje à noite eu digo aos oligarcas russos e líderes corruptos que não roubaram bilhões de dólares deste regime violento.\n",
      "\n",
      "{'source': './data/RESUMINHO_estado_da_Uniao.txt'}\n",
      "----------------------------------------------------------------------------------------------------\n"
     ]
    }
   ],
   "source": [
    "for doc, score in docs_with_score:\n",
    "    print(\"-\" * 100)\n",
    "    print(\"Score: \", score)\n",
    "    print(\"Conteúdo: \", doc.page_content)\n",
    "    print(\"\")\n",
    "    print(doc.metadata)\n",
    "    print(\"-\" * 100)\n",
    "    "
   ]
  },
  {
   "cell_type": "code",
   "execution_count": 24,
   "metadata": {},
   "outputs": [],
   "source": [
    "store = PGVector(\n",
    "    connection_string=connection_string, \n",
    "    embedding_function=embeddings, \n",
    "    collection_name='Eddy_RESUMINHO_estado_da_Uniao',\n",
    "    distance_strategy=DistanceStrategy.COSINE\n",
    ")\n",
    "\n",
    "retriever = store.as_retriever(search_kwargs={\"k\": 3})\n"
   ]
  },
  {
   "cell_type": "code",
   "execution_count": 25,
   "metadata": {},
   "outputs": [
    {
     "data": {
      "text/plain": [
       "VectorStoreRetriever(tags=['PGVector', 'OpenAIEmbeddings'], metadata=None, vectorstore=<langchain.vectorstores.pgvector.PGVector object at 0x7f2d2e247e50>, search_type='similarity', search_kwargs={'k': 3})"
      ]
     },
     "execution_count": 25,
     "metadata": {},
     "output_type": "execute_result"
    }
   ],
   "source": [
    "retriever"
   ]
  },
  {
   "cell_type": "code",
   "execution_count": 26,
   "metadata": {},
   "outputs": [
    {
     "data": {
      "text/plain": [
       "[Document(page_content='Os Estados Unidos são membros junto com outras 29 nações.\\n\\nImporta. A diplomacia americana é importante. americanos resolvem os problemas.\\n\\nO último ataque de Putin à Ucrânia foi premeditado e não provocado.\\n\\nEle rejeitou repetidos esforços de diplomacia.\\n\\nEle pensou que o Ocidente e a OTAN não responderiam. E ele pensou que poderia nos dividir em casa. Putin estava errado. Estávamos prontos. aqui está o que nós fizemos.\\n\\nNós nos preparamos extensivamente e com cuidado.\\n\\nPassamos meses construindo uma coalizão de outras nações amantes da liberdade da Europa e das Américas à Ásia e África para confrontar Putin.\\n\\nPassei incontáveis horas unificando nossos aliados europeus. Compartilhamos com o mundo com antecedência o que sabíamos que Putin estava planejando e exatamente como ele tentaria justificar falsamente sua agressão.\\n\\nContrariamos as mentiras da Rússia com a verdade.\\n\\nE agora que ele agiu, o mundo livre o está responsabilizando.', metadata={'source': './data/RESUMINHO_estado_da_Uniao.txt'}),\n",
       " Document(page_content='Junto com vinte e sete membros da União Européia, incluindo França, Alemanha, Itália, além de países como Reino Unido, Canadá, Japão, Coréia, Austrália, Nova Zelândia e muitos outros, até a Suíça.\\n\\nEstamos infligindo dor à Rússia e apoiando o povo da Ucrânia. Putin agora está isolado do mundo mais do que nunca.\\n\\nJuntamente com nossos aliados, estamos neste momento aplicando poderosas sanções econômicas.\\n\\nEstamos isolando os maiores bancos da Rússia do sistema financeiro internacional.\\n\\nImpedir que o banco central da Rússia defenda o rublo russo tornando inútil o “fundo de guerra” de US$ 630 bilhões de Putin.\\n\\nEstamos bloqueando o acesso da Rússia à tecnologia que irá minar sua força econômica e enfraquecer suas forças armadas nos próximos anos.\\n\\nHoje à noite eu digo aos oligarcas russos e líderes corruptos que não roubaram bilhões de dólares deste regime violento.', metadata={'source': './data/RESUMINHO_estado_da_Uniao.txt'}),\n",
       " Document(page_content='Putin desencadeou violência e caos. Mas, embora ele possa obter ganhos no campo de batalha, ele pagará um preço alto e contínuo no longo prazo.\\n\\nE um orgulhoso povo ucraniano, que conhece 30 anos de independência, tem repetidamente mostrado que não tolerará quem tente fazer seu país retroceder.\\n\\nPara todos os americanos, serei honesto com vocês, como sempre prometi. Um ditador russo, invadindo um país estrangeiro, tem custos em todo o mundo.\\n\\nE estou tomando medidas robustas para garantir que a dor de nossas sanções seja direcionada à economia da Rússia. E usarei todas as ferramentas à nossa disposição para proteger as empresas e os consumidores americanos.', metadata={'source': './data/RESUMINHO_estado_da_Uniao.txt'})]"
      ]
     },
     "execution_count": 26,
     "metadata": {},
     "output_type": "execute_result"
    }
   ],
   "source": [
    "\n",
    "retriever.get_relevant_documents(query='O que falou Putin?')\n"
   ]
  }
 ],
 "metadata": {
  "kernelspec": {
   "display_name": "venv_LLMs",
   "language": "python",
   "name": "python3"
  },
  "language_info": {
   "codemirror_mode": {
    "name": "ipython",
    "version": 3
   },
   "file_extension": ".py",
   "mimetype": "text/x-python",
   "name": "python",
   "nbconvert_exporter": "python",
   "pygments_lexer": "ipython3",
   "version": "3.10.12"
  },
  "orig_nbformat": 4
 },
 "nbformat": 4,
 "nbformat_minor": 2
}
