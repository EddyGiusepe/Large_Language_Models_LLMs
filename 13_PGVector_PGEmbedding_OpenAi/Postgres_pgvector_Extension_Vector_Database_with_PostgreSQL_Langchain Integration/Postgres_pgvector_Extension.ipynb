{
 "cells": [
  {
   "attachments": {},
   "cell_type": "markdown",
   "metadata": {},
   "source": [
    "<h1 align=\"center\"><font color=\"yellow\">Postgres pgvector Extension - Vector Database with PostgreSQL / Langchain Integration</font></h1>"
   ]
  },
  {
   "attachments": {},
   "cell_type": "markdown",
   "metadata": {},
   "source": [
    "<font color=\"yellow\">Data Scientist.: Dr.Eddy Giusepe Chirinos Isidro</font>"
   ]
  },
  {
   "attachments": {},
   "cell_type": "markdown",
   "metadata": {},
   "source": [
    "Link de estudo:\n",
    "\n",
    "* [Extensão Postgres pgvector - Banco de dados de vetores com integração PostgreSQL / Langchain](https://www.youtube.com/watch?v=FDBnyJu_Ndg)"
   ]
  },
  {
   "cell_type": "code",
   "execution_count": 1,
   "metadata": {},
   "outputs": [
    {
     "name": "stdout",
     "output_type": "stream",
     "text": [
      "Name: langchain\n",
      "Version: 0.0.260\n",
      "Summary: Building applications with LLMs through composability\n",
      "Home-page: https://www.github.com/hwchase17/langchain\n",
      "Author: \n",
      "Author-email: \n",
      "License: MIT\n",
      "Location: /home/eddygiusepe/1_Eddy_Giusepe/3_estudando_LLMs/Large_Language_Models_LLMs/venv_LLMs/lib/python3.10/site-packages\n",
      "Requires: aiohttp, async-timeout, dataclasses-json, langsmith, numexpr, numpy, openapi-schema-pydantic, pydantic, PyYAML, requests, SQLAlchemy, tenacity\n",
      "Required-by: \n",
      "Note: you may need to restart the kernel to use updated packages.\n"
     ]
    }
   ],
   "source": [
    "%pip show langchain"
   ]
  },
  {
   "cell_type": "code",
   "execution_count": 2,
   "metadata": {},
   "outputs": [],
   "source": [
    "import os\n",
    "import openai\n",
    "from dotenv import find_dotenv, load_dotenv\n",
    "_ = load_dotenv(find_dotenv()) # read local .env file\n",
    "openai.api_key  = os.getenv('OPENAI_API_KEY')"
   ]
  },
  {
   "cell_type": "code",
   "execution_count": 11,
   "metadata": {},
   "outputs": [
    {
     "name": "stdout",
     "output_type": "stream",
     "text": [
      "[Document(page_content='Senhora Presidente, Senhora Vice-Presidente, nossa Primeira Dama e Segundo Cavalheiro. Membros do Congresso e do Gabinete. Ministros do Supremo Tribunal Federal. Meus companheiros americanos.\\n\\nNo ano passado, a COVID-19 nos separou. Este ano finalmente estamos juntos novamente.\\n\\nHoje à noite, nos encontramos como democratas, republicanos e independentes. Mas o mais importante como americanos.\\n\\nCom um dever para com o outro, para com o povo americano, para com a Constituição.\\n\\nE com uma determinação inabalável de que a liberdade sempre triunfará sobre a tirania.\\n\\nSeis dias atrás, o russo Vladimir Putin procurou abalar as fundações do mundo livre pensando que poderia fazê-lo se curvar a seus modos ameaçadores. Mas ele calculou mal.\\n\\nEle pensou que poderia entrar na Ucrânia e o mundo viraria. Em vez disso, ele encontrou uma parede de força que nunca imaginou.\\n\\nEle conheceu o povo ucraniano.\\n\\nDo presidente Zelenskyy a todos os ucranianos, seu destemor, sua coragem, sua determinação inspiram o mundo.\\n\\nGrupos de cidadãos bloqueando tanques com seus corpos. Todos, de alunos a professores aposentados, viraram soldados defendendo sua pátria.\\n\\nNesta luta, como disse o presidente Zelenskyy em seu discurso ao Parlamento Europeu, “a luz vencerá as trevas”. O embaixador ucraniano nos Estados Unidos está aqui esta noite.\\n\\nQue cada um de nós aqui esta noite nesta Câmara envie um sinal inequívoco à Ucrânia e ao mundo.\\n\\nPor favor, levante-se se puder e mostre que, sim, nós, os Estados Unidos da América, estamos com o povo ucraniano.\\n\\nAo longo de nossa história, aprendemos essa lição quando os ditadores não pagam um preço por sua agressão, eles causam mais caos.\\n\\nEles continuam se movendo.\\n\\nE os custos e as ameaças aos Estados Unidos e ao mundo continuam aumentando.\\n\\nÉ por isso que a Aliança da OTAN foi criada para garantir a paz e a estabilidade na Europa após a Segunda Guerra Mundial.\\n\\nOs Estados Unidos são membros junto com outras 29 nações.\\n\\nImporta. A diplomacia americana é importante. americanos resolvem os problemas.\\n\\nO último ataque de Putin à Ucrânia foi premeditado e não provocado.\\n\\nEle rejeitou repetidos esforços de diplomacia.\\n\\nEle pensou que o Ocidente e a OTAN não responderiam. E ele pensou que poderia nos dividir em casa. Putin estava errado. Estávamos prontos. aqui está o que nós fizemos.\\n\\nNós nos preparamos extensivamente e com cuidado.\\n\\nPassamos meses construindo uma coalizão de outras nações amantes da liberdade da Europa e das Américas à Ásia e África para confrontar Putin.\\n\\nPassei incontáveis horas unificando nossos aliados europeus. Compartilhamos com o mundo com antecedência o que sabíamos que Putin estava planejando e exatamente como ele tentaria justificar falsamente sua agressão.\\n\\nContrariamos as mentiras da Rússia com a verdade.\\n\\nE agora que ele agiu, o mundo livre o está responsabilizando.\\n\\nJunto com vinte e sete membros da União Européia, incluindo França, Alemanha, Itália, além de países como Reino Unido, Canadá, Japão, Coréia, Austrália, Nova Zelândia e muitos outros, até a Suíça.\\n\\nEstamos infligindo dor à Rússia e apoiando o povo da Ucrânia. Putin agora está isolado do mundo mais do que nunca.\\n\\nJuntamente com nossos aliados, estamos neste momento aplicando poderosas sanções econômicas.\\n\\nEstamos isolando os maiores bancos da Rússia do sistema financeiro internacional.\\n\\nImpedir que o banco central da Rússia defenda o rublo russo tornando inútil o “fundo de guerra” de US$ 630 bilhões de Putin.\\n\\nEstamos bloqueando o acesso da Rússia à tecnologia que irá minar sua força econômica e enfraquecer suas forças armadas nos próximos anos.\\n\\nHoje à noite eu digo aos oligarcas russos e líderes corruptos que não roubaram bilhões de dólares deste regime violento.\\n\\nO Departamento de Justiça dos Estados Unidos está montando uma força-tarefa dedicada a investigar os crimes dos oligarcas russos.\\n\\nEstamos nos unindo aos nossos aliados europeus para encontrar e apreender seus iates, seus apartamentos de luxo, seus jatos particulares. Estamos vindo para seus ganhos ilegítimos.\\n\\nE esta noite estou anunciando que nos juntaremos aos nossos aliados para fechar o espaço aéreo americano a todos os vôos russos – isolando ainda mais a Rússia – e adicionando um aperto adicional – em sua economia. O rublo perdeu 30% de seu valor.\\n\\nO mercado de ações russo perdeu 40% de seu valor e as negociações continuam suspensas. A economia da Rússia está cambaleando e Putin é o único culpado.\\n\\nJuntamente com nossos aliados, estamos apoiando os ucranianos em sua luta pela liberdade. Assistência militar. Assistência econômica. Assistência humanitária.\\n\\nEstamos dando mais de US$ 1 bilhão em assistência direta à Ucrânia.\\n\\nE continuaremos a ajudar o povo ucraniano na defesa de seu país e a aliviar seu sofrimento.\\n\\nDeixe-me ser claro, nossas forças não estão engajadas e não entrarão em conflito com as forças russas na Ucrânia.\\n\\nNossas forças não estão indo para a Europa para lutar na Ucrânia, mas para defender nossos aliados da OTAN – no caso de Putin decidir continuar avançando para o oeste.\\n\\nPara esse propósito, mobilizamos forças terrestres americanas, esquadrões aéreos e destacamentos de navios para proteger os países da OTAN, incluindo Polônia, Romênia, Letônia, Lituânia e Estônia.\\n\\nComo deixei bem claro, os Estados Unidos e nossos Aliados defenderão cada centímetro do território dos países da OTAN com toda a força de nosso poder coletivo.\\n\\nE continuamos de olhos claros. Os ucranianos estão lutando com pura coragem. Mas os próximos dias, semanas, meses, serão difíceis para eles.\\n\\nPutin desencadeou violência e caos. Mas, embora ele possa obter ganhos no campo de batalha, ele pagará um preço alto e contínuo no longo prazo.\\n\\nE um orgulhoso povo ucraniano, que conhece 30 anos de independência, tem repetidamente mostrado que não tolerará quem tente fazer seu país retroceder.\\n\\nPara todos os americanos, serei honesto com vocês, como sempre prometi. Um ditador russo, invadindo um país estrangeiro, tem custos em todo o mundo.\\n\\nE estou tomando medidas robustas para garantir que a dor de nossas sanções seja direcionada à economia da Rússia. E usarei todas as ferramentas à nossa disposição para proteger as empresas e os consumidores americanos.', metadata={'source': './RESUMINHO_estado_da_Uniao.txt'})]\n",
      "1\n"
     ]
    }
   ],
   "source": [
    "from langchain.document_loaders import TextLoader\n",
    "from langchain.text_splitter import RecursiveCharacterTextSplitter\n",
    "from langchain.embeddings import OpenAIEmbeddings\n",
    "\n",
    "\n",
    "\n",
    "loader = TextLoader('./RESUMINHO_estado_da_Uniao.txt', encoding='utf-8')\n",
    "documents = loader.load()\n",
    "\n",
    "print(documents)  # Imprime os objetos do documento\n",
    "print(len(documents))  # 1 - lemos apenas um arquivo/documento no carregador\n"
   ]
  },
  {
   "cell_type": "code",
   "execution_count": 12,
   "metadata": {},
   "outputs": [
    {
     "name": "stdout",
     "output_type": "stream",
     "text": [
      "[Document(page_content='Senhora Presidente, Senhora Vice-Presidente, nossa Primeira Dama e Segundo Cavalheiro. Membros do Congresso e do Gabinete. Ministros do Supremo Tribunal Federal. Meus companheiros americanos.\\n\\nNo ano passado, a COVID-19 nos separou. Este ano finalmente estamos juntos novamente.\\n\\nHoje à noite, nos encontramos como democratas, republicanos e independentes. Mas o mais importante como americanos.\\n\\nCom um dever para com o outro, para com o povo americano, para com a Constituição.\\n\\nE com uma determinação inabalável de que a liberdade sempre triunfará sobre a tirania.\\n\\nSeis dias atrás, o russo Vladimir Putin procurou abalar as fundações do mundo livre pensando que poderia fazê-lo se curvar a seus modos ameaçadores. Mas ele calculou mal.\\n\\nEle pensou que poderia entrar na Ucrânia e o mundo viraria. Em vez disso, ele encontrou uma parede de força que nunca imaginou.\\n\\nEle conheceu o povo ucraniano.', metadata={'source': './RESUMINHO_estado_da_Uniao.txt'}), Document(page_content='Do presidente Zelenskyy a todos os ucranianos, seu destemor, sua coragem, sua determinação inspiram o mundo.\\n\\nGrupos de cidadãos bloqueando tanques com seus corpos. Todos, de alunos a professores aposentados, viraram soldados defendendo sua pátria.\\n\\nNesta luta, como disse o presidente Zelenskyy em seu discurso ao Parlamento Europeu, “a luz vencerá as trevas”. O embaixador ucraniano nos Estados Unidos está aqui esta noite.\\n\\nQue cada um de nós aqui esta noite nesta Câmara envie um sinal inequívoco à Ucrânia e ao mundo.\\n\\nPor favor, levante-se se puder e mostre que, sim, nós, os Estados Unidos da América, estamos com o povo ucraniano.\\n\\nAo longo de nossa história, aprendemos essa lição quando os ditadores não pagam um preço por sua agressão, eles causam mais caos.\\n\\nEles continuam se movendo.\\n\\nE os custos e as ameaças aos Estados Unidos e ao mundo continuam aumentando.\\n\\nÉ por isso que a Aliança da OTAN foi criada para garantir a paz e a estabilidade na Europa após a Segunda Guerra Mundial.', metadata={'source': './RESUMINHO_estado_da_Uniao.txt'}), Document(page_content='Os Estados Unidos são membros junto com outras 29 nações.\\n\\nImporta. A diplomacia americana é importante. americanos resolvem os problemas.\\n\\nO último ataque de Putin à Ucrânia foi premeditado e não provocado.\\n\\nEle rejeitou repetidos esforços de diplomacia.\\n\\nEle pensou que o Ocidente e a OTAN não responderiam. E ele pensou que poderia nos dividir em casa. Putin estava errado. Estávamos prontos. aqui está o que nós fizemos.\\n\\nNós nos preparamos extensivamente e com cuidado.\\n\\nPassamos meses construindo uma coalizão de outras nações amantes da liberdade da Europa e das Américas à Ásia e África para confrontar Putin.\\n\\nPassei incontáveis horas unificando nossos aliados europeus. Compartilhamos com o mundo com antecedência o que sabíamos que Putin estava planejando e exatamente como ele tentaria justificar falsamente sua agressão.\\n\\nContrariamos as mentiras da Rússia com a verdade.\\n\\nE agora que ele agiu, o mundo livre o está responsabilizando.', metadata={'source': './RESUMINHO_estado_da_Uniao.txt'}), Document(page_content='Junto com vinte e sete membros da União Européia, incluindo França, Alemanha, Itália, além de países como Reino Unido, Canadá, Japão, Coréia, Austrália, Nova Zelândia e muitos outros, até a Suíça.\\n\\nEstamos infligindo dor à Rússia e apoiando o povo da Ucrânia. Putin agora está isolado do mundo mais do que nunca.\\n\\nJuntamente com nossos aliados, estamos neste momento aplicando poderosas sanções econômicas.\\n\\nEstamos isolando os maiores bancos da Rússia do sistema financeiro internacional.\\n\\nImpedir que o banco central da Rússia defenda o rublo russo tornando inútil o “fundo de guerra” de US$ 630 bilhões de Putin.\\n\\nEstamos bloqueando o acesso da Rússia à tecnologia que irá minar sua força econômica e enfraquecer suas forças armadas nos próximos anos.\\n\\nHoje à noite eu digo aos oligarcas russos e líderes corruptos que não roubaram bilhões de dólares deste regime violento.', metadata={'source': './RESUMINHO_estado_da_Uniao.txt'}), Document(page_content='O Departamento de Justiça dos Estados Unidos está montando uma força-tarefa dedicada a investigar os crimes dos oligarcas russos.\\n\\nEstamos nos unindo aos nossos aliados europeus para encontrar e apreender seus iates, seus apartamentos de luxo, seus jatos particulares. Estamos vindo para seus ganhos ilegítimos.\\n\\nE esta noite estou anunciando que nos juntaremos aos nossos aliados para fechar o espaço aéreo americano a todos os vôos russos – isolando ainda mais a Rússia – e adicionando um aperto adicional – em sua economia. O rublo perdeu 30% de seu valor.\\n\\nO mercado de ações russo perdeu 40% de seu valor e as negociações continuam suspensas. A economia da Rússia está cambaleando e Putin é o único culpado.\\n\\nJuntamente com nossos aliados, estamos apoiando os ucranianos em sua luta pela liberdade. Assistência militar. Assistência econômica. Assistência humanitária.\\n\\nEstamos dando mais de US$ 1 bilhão em assistência direta à Ucrânia.', metadata={'source': './RESUMINHO_estado_da_Uniao.txt'}), Document(page_content='E continuaremos a ajudar o povo ucraniano na defesa de seu país e a aliviar seu sofrimento.\\n\\nDeixe-me ser claro, nossas forças não estão engajadas e não entrarão em conflito com as forças russas na Ucrânia.\\n\\nNossas forças não estão indo para a Europa para lutar na Ucrânia, mas para defender nossos aliados da OTAN – no caso de Putin decidir continuar avançando para o oeste.\\n\\nPara esse propósito, mobilizamos forças terrestres americanas, esquadrões aéreos e destacamentos de navios para proteger os países da OTAN, incluindo Polônia, Romênia, Letônia, Lituânia e Estônia.\\n\\nComo deixei bem claro, os Estados Unidos e nossos Aliados defenderão cada centímetro do território dos países da OTAN com toda a força de nosso poder coletivo.\\n\\nE continuamos de olhos claros. Os ucranianos estão lutando com pura coragem. Mas os próximos dias, semanas, meses, serão difíceis para eles.', metadata={'source': './RESUMINHO_estado_da_Uniao.txt'}), Document(page_content='Putin desencadeou violência e caos. Mas, embora ele possa obter ganhos no campo de batalha, ele pagará um preço alto e contínuo no longo prazo.\\n\\nE um orgulhoso povo ucraniano, que conhece 30 anos de independência, tem repetidamente mostrado que não tolerará quem tente fazer seu país retroceder.\\n\\nPara todos os americanos, serei honesto com vocês, como sempre prometi. Um ditador russo, invadindo um país estrangeiro, tem custos em todo o mundo.\\n\\nE estou tomando medidas robustas para garantir que a dor de nossas sanções seja direcionada à economia da Rússia. E usarei todas as ferramentas à nossa disposição para proteger as empresas e os consumidores americanos.', metadata={'source': './RESUMINHO_estado_da_Uniao.txt'})]\n",
      "7\n"
     ]
    }
   ],
   "source": [
    "text_splitter = RecursiveCharacterTextSplitter(chunk_size=1000, chunk_overlap=20) # Dividimos o texto em chunks\n",
    "texts = text_splitter.split_documents(documents)\n",
    "\n",
    "print(texts)\n",
    "print(len(texts))\n"
   ]
  },
  {
   "cell_type": "code",
   "execution_count": 13,
   "metadata": {},
   "outputs": [
    {
     "name": "stdout",
     "output_type": "stream",
     "text": [
      "page_content='Senhora Presidente, Senhora Vice-Presidente, nossa Primeira Dama e Segundo Cavalheiro. Membros do Congresso e do Gabinete. Ministros do Supremo Tribunal Federal. Meus companheiros americanos.\\n\\nNo ano passado, a COVID-19 nos separou. Este ano finalmente estamos juntos novamente.\\n\\nHoje à noite, nos encontramos como democratas, republicanos e independentes. Mas o mais importante como americanos.\\n\\nCom um dever para com o outro, para com o povo americano, para com a Constituição.\\n\\nE com uma determinação inabalável de que a liberdade sempre triunfará sobre a tirania.\\n\\nSeis dias atrás, o russo Vladimir Putin procurou abalar as fundações do mundo livre pensando que poderia fazê-lo se curvar a seus modos ameaçadores. Mas ele calculou mal.\\n\\nEle pensou que poderia entrar na Ucrânia e o mundo viraria. Em vez disso, ele encontrou uma parede de força que nunca imaginou.\\n\\nEle conheceu o povo ucraniano.' metadata={'source': './RESUMINHO_estado_da_Uniao.txt'}\n"
     ]
    }
   ],
   "source": [
    "print(texts[0]) # Visualizamos o primeiro chunk\n"
   ]
  },
  {
   "attachments": {},
   "cell_type": "markdown",
   "metadata": {},
   "source": [
    "<font color=\"orange\">Agora, vamos converter nossos chunks em embeddings (vetores). </font>"
   ]
  },
  {
   "cell_type": "code",
   "execution_count": 14,
   "metadata": {},
   "outputs": [
    {
     "name": "stdout",
     "output_type": "stream",
     "text": [
      "1536\n"
     ]
    }
   ],
   "source": [
    "embeddings = OpenAIEmbeddings()\n",
    "\n",
    "vector = embeddings.embed_query('Testando o modelo Embeddings.')\n",
    "\n",
    "print(len(vector))  # 1536 dimensions"
   ]
  },
  {
   "cell_type": "code",
   "execution_count": null,
   "metadata": {},
   "outputs": [],
   "source": []
  }
 ],
 "metadata": {
  "kernelspec": {
   "display_name": "venv_LLMs",
   "language": "python",
   "name": "python3"
  },
  "language_info": {
   "codemirror_mode": {
    "name": "ipython",
    "version": 3
   },
   "file_extension": ".py",
   "mimetype": "text/x-python",
   "name": "python",
   "nbconvert_exporter": "python",
   "pygments_lexer": "ipython3",
   "version": "3.10.12"
  },
  "orig_nbformat": 4
 },
 "nbformat": 4,
 "nbformat_minor": 2
}
