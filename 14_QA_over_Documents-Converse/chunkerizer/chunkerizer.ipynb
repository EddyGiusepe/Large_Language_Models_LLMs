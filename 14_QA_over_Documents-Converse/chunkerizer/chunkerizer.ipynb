{
 "cells": [
  {
   "cell_type": "markdown",
   "metadata": {},
   "source": [
    "<h1 align=\"center\"><font color=\"yellow\">LangChain: Text Splitters</font></h1>"
   ]
  },
  {
   "cell_type": "markdown",
   "metadata": {},
   "source": [
    "<font color=\"yellow\">Data Scientist.: Dr.Eddy Giusepe Chirinos Isidro</font>"
   ]
  },
  {
   "cell_type": "markdown",
   "metadata": {},
   "source": [
    "Links de estudo:\n",
    "\n",
    "* [🦜️✂️ Text Splitters: Smart Text Division with Langchain](https://gustavo-espindola.medium.com/%EF%B8%8F-%EF%B8%8F-text-splitters-smart-text-division-with-langchain-1fa8ac09eb3c)\n",
    "\n",
    "* [🦜️✂️ Chunk Division and Overlap: Understanding the Process](https://gustavo-espindola.medium.com/chunk-division-and-overlap-understanding-the-process-ade7eae1b2bd)\n",
    "\n",
    "* [GitHub: gustavoespindola](https://github.com/gustavoespindola/chunkerizer/tree/main)"
   ]
  },
  {
   "cell_type": "markdown",
   "metadata": {},
   "source": [
    "# <font color=\"red\">Contextualizando</font>"
   ]
  },
  {
   "cell_type": "markdown",
   "metadata": {},
   "source": [
    "No fascinante mundo do `processamento de linguagem natural` (NLP), as ferramentas para transformar documentos e dividir textos tornaram-se essenciais, em grande parte graças ao surgimento da “Geração Aumentada de Recuperação” ou `RAG`.\n",
    "\n",
    "O RAG revolucionou a forma como treinamos modelos de linguagem, permitindo-lhes acessar dados externos após o treinamento inicial. É por isso que a divisão eficaz da informação tornou-se indispensável.\n",
    "\n",
    "Aqui vamos a estudar mais a fundo os transformadores de documentos e divisores de texto do `LangChain`."
   ]
  },
  {
   "cell_type": "markdown",
   "metadata": {},
   "source": [
    "# <font color=\"red\">Text Splitters</font>"
   ]
  },
  {
   "cell_type": "markdown",
   "metadata": {},
   "source": [
    "`Text Splitters` são ferramentas que dividem o texto em fragmentos menores com significado semântico, geralmente correspondendo a frases. `Mas é aqui que reside a inteligência`: não se trata apenas de divisão; trata-se de combinar estrategicamente esses fragmentos. Eles funcionam da seguinte forma:\n",
    "\n",
    "1. Divide o texto em pequenos fragmentos com significado semântico, como frases (sentenças).\n",
    "\n",
    "2. Em seguida, combine esses pequenos fragmentos em um fragmento maior até atingir um determinado tamanho, geralmente medido por alguma função.\n",
    "\n",
    "3. Uma vez atingido esse tamanho, esse fragmento se torna sua própria unidade de texto. Em seguida, inicia-se a criação de um novo fragmento de texto, `com alguma sobreposição para manter o contexto entre os fragmentos`.\n",
    "\n",
    "\n",
    "Isso significa que os Divisores de Texto (`Text Splitters`) são altamente personalizáveis ​​em dois aspectos fundamentais:\n",
    "\n",
    "* <font color=\"yellow\">Como o texto é dividido:</font> você pode definir regras de divisão com base em `caracteres`, `palavras` ou `tokens`.\n",
    "\n",
    "* <font color=\"yellow\">Como o tamanho do fragmento é medido:</font> Você pode ajustar o tamanho do fragmento de acordo com suas necessidades específicas.\n"
   ]
  },
  {
   "cell_type": "markdown",
   "metadata": {},
   "source": [
    "# <font color=\"red\">Tipos de `Text Splitters` no LangChain</font>"
   ]
  },
  {
   "cell_type": "markdown",
   "metadata": {},
   "source": [
    "<font color=\"red\">RecursiveCharacterTextSplitter:</font> \n",
    "\n",
    "Divide o texto em fragmentos com base nos `caracteres`, começando pelo primeiro caractere. Se os fragmentos forem muito grandes, passa para o próximo caractere. Ele oferece flexibilidade ao permitir definir os `caracteres de divisão` e o `tamanho do fragmento`.\n",
    "\n",
    "CharacterTextSplitter: semelhante ao RecursiveCharacterTextSplitter, mas com a capacidade de definir um separador personalizado para uma divisão mais específica. Por padrão, ele tenta dividir em caracteres como “\\n\\n”, “\\n”, ““ e “”.\n",
    "\n",
    "RecursiveTextSplitter: Ao contrário dos anteriores, o RecursiveTextSplitter divide o texto em fragmentos baseados em palavras ou tokens em vez de caracteres. Isso fornece uma visão mais semântica e é ideal para análise de conteúdo em vez de estrutura.\n",
    "\n",
    "TokenTextSplitter: utiliza o modelo de linguagem OpenAI para dividir texto em fragmentos baseados em tokens, permitindo segmentação precisa e contextualizada, ideal para aplicações avançadas de processamento de linguagem natural.\n",
    "\n",
    "Espero que este artigo e exemplos sejam úteis para a compreensão deste novo desafio de trabalhar com IA. Deixo vocês com a demonstração e o código para experimentar e usar em seus projetos."
   ]
  },
  {
   "cell_type": "code",
   "execution_count": null,
   "metadata": {},
   "outputs": [],
   "source": []
  },
  {
   "cell_type": "code",
   "execution_count": null,
   "metadata": {},
   "outputs": [],
   "source": []
  }
 ],
 "metadata": {
  "language_info": {
   "name": "python"
  },
  "orig_nbformat": 4
 },
 "nbformat": 4,
 "nbformat_minor": 2
}
