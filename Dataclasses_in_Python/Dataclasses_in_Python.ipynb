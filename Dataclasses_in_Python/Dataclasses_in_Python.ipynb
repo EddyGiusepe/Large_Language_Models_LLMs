{
 "cells": [
  {
   "attachments": {},
   "cell_type": "markdown",
   "metadata": {},
   "source": [
    "<h1 align=\"center\"><font color=\"yellow\">Dataclasses in Python</font></h1>"
   ]
  },
  {
   "attachments": {},
   "cell_type": "markdown",
   "metadata": {},
   "source": [
    "<font color=\"yellow\">Data Scientist.: PhD.Eddy Giusepe Chirinos Isidro</font>"
   ]
  },
  {
   "attachments": {},
   "cell_type": "markdown",
   "metadata": {},
   "source": [
    "Se você precisar definir um tipo de dados composto em `Python`, use `Dataclasses`.\n",
    "\n",
    "Aqui faremos o estudo do Dataclasses em base ao artigo de [Alan Jones]()."
   ]
  },
  {
   "attachments": {},
   "cell_type": "markdown",
   "metadata": {},
   "source": [
    "O `dataclass` é um recurso que foi introduzido no `Python 3.7`. É um `decorador` que permite definir classes que são usadas principalmente para armazenar dados. Ele simplifica a criação de classes fornecendo implementações padrão para métodos como `__init__`.\n",
    "\n",
    "Para definir um `dataclass`, você importa o `decorador` do `módulo dataclasses` e o aplica à sua definição de classe. \n",
    "\n",
    "\n",
    "\n",
    "<font color=\"red\">Por exemplo:</font>"
   ]
  },
  {
   "attachments": {},
   "cell_type": "markdown",
   "metadata": {},
   "source": [
    "## O módulo `dataclasses`"
   ]
  },
  {
   "cell_type": "code",
   "execution_count": 1,
   "metadata": {},
   "outputs": [],
   "source": [
    "from dataclasses import dataclass\n",
    "\n",
    "@dataclass\n",
    "class Person:\n",
    "    name: str\n",
    "    age: int\n",
    "    profession: str\n",
    "    "
   ]
  },
  {
   "attachments": {},
   "cell_type": "markdown",
   "metadata": {},
   "source": [
    "No exemplo, a classe `Person` é definida como um `dataclass`. A classe possui três atributos: `name`, `age`, e `profession`, cada um anotado com seus respectivos tipos (observe que as dicas de tipo não são obrigatórias, mas tornam o uso da classe de dados mais explícito).\n",
    "\n",
    "O decorador `dataclass` gera automaticamente vários métodos para a classe:\n",
    "\n",
    "1. `__init__`: Inicializa o objeto e atribui valores aos atributos com base nos argumentos fornecidos.\n",
    "\n",
    "2. `__repr__`: Retorna uma representação de string do objeto.\n",
    "\n",
    "3. `__eq__`: compara dois objetos para igualdade com base em seus valores de atributo.\n",
    "\n",
    "4. `__ne__`: compara dois objetos para desigualdade com base em seus valores de atributo.\n",
    "\n",
    "5. `__lt__`: define a comparação menor que entre dois objetos.\n",
    "\n",
    "6. `__gt__`: define a comparação maior que entre dois objetos.\n",
    "\n",
    "7. `__le__`: define a comparação menor ou igual entre dois objetos.\n",
    "\n",
    "8. `__ge__: define a comparação maior ou igual entre dois objetos.\n",
    "\n",
    "\n",
    "Vamos ver o uso da classe `Person`:"
   ]
  },
  {
   "cell_type": "code",
   "execution_count": 3,
   "metadata": {},
   "outputs": [
    {
     "name": "stdout",
     "output_type": "stream",
     "text": [
      "Person(name='Karina', age=25, profession='Cientista de Dados')\n",
      "\n",
      "Person(name='Eddy Giusepe', age=41, profession='PhD em Física')\n",
      "\n",
      "False\n"
     ]
    }
   ],
   "source": [
    "person1 = Person(\"Karina\", 25, \"Cientista de Dados\")\n",
    "person2 = Person(\"Eddy Giusepe\", 41, \"PhD em Física\")\n",
    "\n",
    "print(person1) \n",
    "print(\"\")\n",
    "\n",
    "print(person2) \n",
    "print(\"\")\n",
    "\n",
    "print(person1 == person2)\n"
   ]
  },
  {
   "attachments": {},
   "cell_type": "markdown",
   "metadata": {},
   "source": [
    "Neste exemplo, criamos duas instâncias da classe `Person` e imprimimos suas representações de string — isso usa o método `__repr__`. Também comparamos as duas instâncias usando o operador `==`, que invoca o método `__eq__`."
   ]
  },
  {
   "attachments": {},
   "cell_type": "markdown",
   "metadata": {},
   "source": [
    "## Listas de `dataclasses`\n",
    "\n",
    "\n"
   ]
  },
  {
   "attachments": {},
   "cell_type": "markdown",
   "metadata": {},
   "source": [
    "Dataclasses podem ser usadas com listas para criar um array de registros."
   ]
  },
  {
   "cell_type": "code",
   "execution_count": 9,
   "metadata": {},
   "outputs": [
    {
     "name": "stdout",
     "output_type": "stream",
     "text": [
      "Karina\n",
      "Eddy Giusepe\n"
     ]
    }
   ],
   "source": [
    "people = []\n",
    "\n",
    "people.append(Person(\"Karina\", 25, \"Cientista de Dados\"))\n",
    "people.append(Person(\"Eddy Giusepe\", 41, \"PhD em Física\"))\n",
    "\n",
    "\n",
    "for person in people:\n",
    "    print(person.name)"
   ]
  },
  {
   "attachments": {},
   "cell_type": "markdown",
   "metadata": {},
   "source": [
    "Ao usar uma lista, podemos iterar por ela e realizar operações em cada elemento.\n",
    "\n",
    "Uma lista de `dataclass` também converte muito bem no `dataframe do Pandas`."
   ]
  },
  {
   "cell_type": "code",
   "execution_count": 10,
   "metadata": {},
   "outputs": [
    {
     "data": {
      "text/html": [
       "<div>\n",
       "<style scoped>\n",
       "    .dataframe tbody tr th:only-of-type {\n",
       "        vertical-align: middle;\n",
       "    }\n",
       "\n",
       "    .dataframe tbody tr th {\n",
       "        vertical-align: top;\n",
       "    }\n",
       "\n",
       "    .dataframe thead th {\n",
       "        text-align: right;\n",
       "    }\n",
       "</style>\n",
       "<table border=\"1\" class=\"dataframe\">\n",
       "  <thead>\n",
       "    <tr style=\"text-align: right;\">\n",
       "      <th></th>\n",
       "      <th>name</th>\n",
       "      <th>age</th>\n",
       "      <th>profession</th>\n",
       "    </tr>\n",
       "  </thead>\n",
       "  <tbody>\n",
       "    <tr>\n",
       "      <th>0</th>\n",
       "      <td>Karina</td>\n",
       "      <td>25</td>\n",
       "      <td>Cientista de Dados</td>\n",
       "    </tr>\n",
       "    <tr>\n",
       "      <th>1</th>\n",
       "      <td>Eddy Giusepe</td>\n",
       "      <td>41</td>\n",
       "      <td>PhD em Física</td>\n",
       "    </tr>\n",
       "  </tbody>\n",
       "</table>\n",
       "</div>"
      ],
      "text/plain": [
       "           name  age          profession\n",
       "0        Karina   25  Cientista de Dados\n",
       "1  Eddy Giusepe   41       PhD em Física"
      ]
     },
     "execution_count": 10,
     "metadata": {},
     "output_type": "execute_result"
    }
   ],
   "source": [
    "import pandas as pd\n",
    "\n",
    "df = pd.DataFrame(people)\n",
    "df"
   ]
  },
  {
   "attachments": {},
   "cell_type": "markdown",
   "metadata": {},
   "source": [
    "Concluindo, o decorador `dataclass` simplifica a criação de classes que armazenam principalmente dados, reduzindo a quantidade de código que você precisa escrever e tornando-o mais conciso e legível."
   ]
  },
  {
   "cell_type": "code",
   "execution_count": null,
   "metadata": {},
   "outputs": [],
   "source": []
  }
 ],
 "metadata": {
  "kernelspec": {
   "display_name": "venv_LLMs",
   "language": "python",
   "name": "python3"
  },
  "language_info": {
   "codemirror_mode": {
    "name": "ipython",
    "version": 3
   },
   "file_extension": ".py",
   "mimetype": "text/x-python",
   "name": "python",
   "nbconvert_exporter": "python",
   "pygments_lexer": "ipython3",
   "version": "3.10.6"
  },
  "orig_nbformat": 4
 },
 "nbformat": 4,
 "nbformat_minor": 2
}
