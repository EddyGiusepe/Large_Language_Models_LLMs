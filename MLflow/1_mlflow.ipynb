{
 "cells": [
  {
   "cell_type": "markdown",
   "metadata": {},
   "source": [
    "<h1 align=\"center\"><font color=\"yellow\">MLflow: Uma guia para Iniciantes</font></h1>"
   ]
  },
  {
   "cell_type": "markdown",
   "metadata": {},
   "source": [
    "<font color=\"yellow\">Data Scientist.: Dr.Eddy Giusepe Chirinos Isidro</font>"
   ]
  },
  {
   "cell_type": "markdown",
   "metadata": {},
   "source": [
    "Links de estudo:\n",
    "\n",
    "* [MLflow para Iniciantes](https://levelup.gitconnected.com/mlflow-made-easy-your-beginners-guide-bf63f8fed915)\n",
    "\n",
    "* [MLflow Documentation](https://mlflow.org/docs/latest/index.html)\n",
    "\n",
    "\n",
    "* [Elevate Your Machine Learning Workflow: How to Use MLflow for Experiment Tracking and Model Management](https://dipankarmedh1.medium.com/elevate-your-machine-learning-workflow-how-to-use-mlflow-for-experiment-tracking-and-model-419c2a700ec5)    \n",
    "\n",
    "No seguinte Notebook estudaremos [MLOps](https://levelup.gitconnected.com/mlops-mastering-machine-learning-deployment-an-intro-to-docker-kubernetes-helm-and-modern-web-b14dd140a9bf)\n",
    "\n"
   ]
  },
  {
   "cell_type": "markdown",
   "metadata": {},
   "source": [
    "# <font color=\"red\">Setup e Dataset</font>"
   ]
  },
  {
   "cell_type": "markdown",
   "metadata": {},
   "source": [
    "Aqui vamos aprender a rastrear (track) nossos experimentos. Para isso começamos instalando a seguinte Biblioteca:\n",
    "```\n",
    "pip install mlflow\n",
    "```\n",
    "e logo baixaremos o Dataset [Iris](https://scikit-learn.org/stable/modules/generated/sklearn.datasets.load_iris.html#sklearn.datasets.load_iris) para construir um modelo de `Classificação simples`."
   ]
  },
  {
   "cell_type": "code",
   "execution_count": 1,
   "metadata": {},
   "outputs": [
    {
     "name": "stdout",
     "output_type": "stream",
     "text": [
      "2.18.0\n"
     ]
    }
   ],
   "source": [
    "import mlflow\n",
    "import pandas as pd\n",
    "\n",
    "from sklearn.datasets import load_iris\n",
    "from sklearn.linear_model import LogisticRegression\n",
    "from sklearn.model_selection import train_test_split\n",
    "from sklearn.metrics import accuracy_score, precision_score, recall_score\n",
    "\n",
    "# Verificando a versão do MLflow:\n",
    "print(mlflow.__version__)\n"
   ]
  },
  {
   "cell_type": "code",
   "execution_count": 2,
   "metadata": {},
   "outputs": [
    {
     "data": {
      "text/html": [
       "<div>\n",
       "<style scoped>\n",
       "    .dataframe tbody tr th:only-of-type {\n",
       "        vertical-align: middle;\n",
       "    }\n",
       "\n",
       "    .dataframe tbody tr th {\n",
       "        vertical-align: top;\n",
       "    }\n",
       "\n",
       "    .dataframe thead th {\n",
       "        text-align: right;\n",
       "    }\n",
       "</style>\n",
       "<table border=\"1\" class=\"dataframe\">\n",
       "  <thead>\n",
       "    <tr style=\"text-align: right;\">\n",
       "      <th></th>\n",
       "      <th>sepal length (cm)</th>\n",
       "      <th>sepal width (cm)</th>\n",
       "      <th>petal length (cm)</th>\n",
       "      <th>petal width (cm)</th>\n",
       "      <th>target</th>\n",
       "    </tr>\n",
       "  </thead>\n",
       "  <tbody>\n",
       "    <tr>\n",
       "      <th>0</th>\n",
       "      <td>5.1</td>\n",
       "      <td>3.5</td>\n",
       "      <td>1.4</td>\n",
       "      <td>0.2</td>\n",
       "      <td>0</td>\n",
       "    </tr>\n",
       "    <tr>\n",
       "      <th>1</th>\n",
       "      <td>4.9</td>\n",
       "      <td>3.0</td>\n",
       "      <td>1.4</td>\n",
       "      <td>0.2</td>\n",
       "      <td>0</td>\n",
       "    </tr>\n",
       "    <tr>\n",
       "      <th>2</th>\n",
       "      <td>4.7</td>\n",
       "      <td>3.2</td>\n",
       "      <td>1.3</td>\n",
       "      <td>0.2</td>\n",
       "      <td>0</td>\n",
       "    </tr>\n",
       "    <tr>\n",
       "      <th>3</th>\n",
       "      <td>4.6</td>\n",
       "      <td>3.1</td>\n",
       "      <td>1.5</td>\n",
       "      <td>0.2</td>\n",
       "      <td>0</td>\n",
       "    </tr>\n",
       "    <tr>\n",
       "      <th>4</th>\n",
       "      <td>5.0</td>\n",
       "      <td>3.6</td>\n",
       "      <td>1.4</td>\n",
       "      <td>0.2</td>\n",
       "      <td>0</td>\n",
       "    </tr>\n",
       "  </tbody>\n",
       "</table>\n",
       "</div>"
      ],
      "text/plain": [
       "   sepal length (cm)  sepal width (cm)  petal length (cm)  petal width (cm)  \\\n",
       "0                5.1               3.5                1.4               0.2   \n",
       "1                4.9               3.0                1.4               0.2   \n",
       "2                4.7               3.2                1.3               0.2   \n",
       "3                4.6               3.1                1.5               0.2   \n",
       "4                5.0               3.6                1.4               0.2   \n",
       "\n",
       "   target  \n",
       "0       0  \n",
       "1       0  \n",
       "2       0  \n",
       "3       0  \n",
       "4       0  "
      ]
     },
     "execution_count": 2,
     "metadata": {},
     "output_type": "execute_result"
    }
   ],
   "source": [
    "# Carregar o Dataset Iris:\n",
    "dataset = load_iris()\n",
    "\n",
    "# Passando o Dataset para um DataFrame:\n",
    "df = pd.DataFrame(dataset.data, columns=dataset.feature_names)\n",
    "df['target'] = dataset.target\n",
    "df.head()\n"
   ]
  },
  {
   "cell_type": "code",
   "execution_count": 3,
   "metadata": {},
   "outputs": [
    {
     "data": {
      "text/plain": [
       "(150, 5)"
      ]
     },
     "execution_count": 3,
     "metadata": {},
     "output_type": "execute_result"
    }
   ],
   "source": [
    "df.shape"
   ]
  },
  {
   "cell_type": "code",
   "execution_count": 4,
   "metadata": {},
   "outputs": [
    {
     "name": "stdout",
     "output_type": "stream",
     "text": [
      "Shape do Train: 112 linhas, 4 colunas\n",
      "Shape do Test: 38 linhas, 4 colunas\n",
      "Nome das Colunas: ['sepal length (cm)', 'sepal width (cm)', 'petal length (cm)', 'petal width (cm)']\n"
     ]
    }
   ],
   "source": [
    "# Split do Dataset em train e test:\n",
    "X_train, X_test, y_train, y_test = train_test_split(dataset.data,\n",
    "                                                    dataset.target,\n",
    "                                                    test_size=0.25,\n",
    "                                                    stratify=dataset.target # Usado para manter a mesma proporção de amostras para cada classe no conjunto de treinamento e teste.\n",
    "                                                   )\n",
    "\n",
    "# Verificamos nossos dados de train e test:\n",
    "print(f\"Shape do Train: {X_train.shape[0]} linhas, {X_train.shape[1]} colunas\", )\n",
    "print(f\"Shape do Test: {X_test.shape[0]} linhas, {X_test.shape[1]} colunas\")\n",
    "print(f\"Nome das Colunas: {dataset.feature_names}\")"
   ]
  },
  {
   "cell_type": "markdown",
   "metadata": {},
   "source": [
    "<font color=\"orange\">Então, lembra que estamos construindo um `Modelo de Regressão Logística` com a ajuda de `mlflow` para rastrear nossos experimentos.</font>\n",
    "\n",
    "Você pode executar o seguinte comando no terminal `mlflow ui` para ver a interface de usuário do MLflow e ver que ainda não temos nada registrado. "
   ]
  },
  {
   "cell_type": "code",
   "execution_count": 5,
   "metadata": {},
   "outputs": [
    {
     "name": "stderr",
     "output_type": "stream",
     "text": [
      "2024/12/06 16:23:49 INFO mlflow.tracking.fluent: Experiment with name 'Eddy_Baseline_Model' does not exist. Creating a new experiment.\n",
      "2024/12/06 16:23:51 WARNING mlflow.models.model: Model logged without a signature and input example. Please set `input_example` parameter when logging the model to auto infer the model signature.\n"
     ]
    }
   ],
   "source": [
    "# Definimos o experimento para o MLflow:\n",
    "mlflow.set_experiment('Eddy_Baseline_Model') # As execuções da experiência e os metadados associados serão organizados sob o nome desta experiência no MLflow\n",
    "\n",
    "# Iniciamos um contexto de execução do MLflow:\n",
    "with mlflow.start_run(): # Este contexto encapsula o rastreamento de todas as informações relacionadas a esta execução específica no experimento.\n",
    "    # Inicializamos nosso modelo LogisticRegression:\n",
    "    model = LogisticRegression()\n",
    "    \n",
    "    # Treinamos nosso Modelo com os dados de Treinamento:\n",
    "    model.fit(X_train, y_train)\n",
    "\n",
    "    # Fazemos previsões sobre os dados de teste:\n",
    "    y_pred = model.predict(X_test)\n",
    "\n",
    "    # Calculamos algumas Métricas de avaliação:\n",
    "    accuracy = accuracy_score(y_test, y_pred)\n",
    "    precision = precision_score(y_test, y_pred, average='macro')\n",
    "    recall = recall_score(y_test, y_pred, average='macro')\n",
    "\n",
    "    # Registramos (LOGs) as métricas de avaliação no MLflow run:\n",
    "    mlflow.log_metric('accuracy', accuracy)\n",
    "    mlflow.log_metric('precision', precision)\n",
    "    mlflow.log_metric('recall', recall)\n",
    "\n",
    "    # Registramos o modelo Treinado no MLflow run:\n",
    "    mlflow.sklearn.log_model(model, 'Eddy_Model_Logistic_Regression')\n",
    "\n",
    "    # Metadados adicionais são associados à execução definindo tags 🤗.\n",
    "    # Definimos as informações do Desenvolvedor como uma tag:\n",
    "    mlflow.set_tag('Senior Data Scientist', 'Dr. Eddy Giusepe Chirinos Isidro')\n",
    "\n",
    "    # Definimos os detalhes do pré-processamento como uma tag:\n",
    "    mlflow.set_tag('preprocessing', 'None')\n",
    "\n",
    "    # Definimos o tipo de Modelo como uma tag:\n",
    "    mlflow.set_tag('Tipo de Modelo', 'Logistic Regression')\n"
   ]
  },
  {
   "cell_type": "markdown",
   "metadata": {},
   "source": [
    "<font color=\"pink\">Seguidamente, abra seu prompt de comando (ou `Terminal`) e digite isto: \n",
    "```\n",
    "$ mlflow ui \n",
    "```\n",
    "\n",
    "Você verá a `IU` de rastreamento ganhar vida em `http://localhost:5000`</font>"
   ]
  },
  {
   "cell_type": "markdown",
   "metadata": {},
   "source": [
    "![Alt text](image-1.png)"
   ]
  },
  {
   "cell_type": "markdown",
   "metadata": {},
   "source": [
    "<font color=\"orange\">Clique em `Run Name` para ver os detalhes da execução do experimento. Você verá uma página como esta:</font>"
   ]
  },
  {
   "cell_type": "markdown",
   "metadata": {},
   "source": [
    "![Alt text](image-2.png)"
   ]
  },
  {
   "cell_type": "markdown",
   "metadata": {},
   "source": [
    "<font color=\"orange\">Então, você acabou de acompanhar sua primeira excução experimental. Você pdoe seguir familiarizando-se com MLflow 🤗.</font>"
   ]
  },
  {
   "cell_type": "markdown",
   "metadata": {},
   "source": [
    "# <font color=\"red\">Experimentar</font>"
   ]
  },
  {
   "cell_type": "markdown",
   "metadata": {},
   "source": [
    "<font color=\"orange\">Estamos experimentado, e começamos com o experimento chamado: `Eddy Baseline Model` e esse é a nossa primeira grande ideia. Depois vem outro experimento, o `Eddy modelo melhorado`, onde você mexe em coisas como `Random Forest` e `SVM`. E ei, você pode ir ainda mais fundo, tentando coisas como `ajustar hiperparâmetros`. Cada um deles é um novo `'experiment'` - uma nova aventura.</font>"
   ]
  },
  {
   "cell_type": "markdown",
   "metadata": {},
   "source": [
    "# <font color=\"red\">Analisando mais de perto o MLflow</font>"
   ]
  },
  {
   "cell_type": "markdown",
   "metadata": {},
   "source": [
    "<font color=\"orange\">`MLflow` é uma plataforma de `código aberto` para gerenciar o ciclo de vida de aprendizado de máquina de `end-to-end`. As funções do MLflow que exploraremos neste artigo são:\n",
    "\n",
    "* <font color=\"yellow\">Rastreamento de MLflow</font> (`MLflow Tracking`): uma API para registrar parâmetros, código e resultados de um experimento e compará-los com uma interface de usuário interativa. (Vimos isso em nosso exemplo acima)\n",
    "\n",
    "Você deve ter notado um diretório `mlruns` criado no mesmo diretório onde seu código foi executado. O `MLflow` usou esse diretório para armazenar artefatos e entidades do MLflow.\n",
    "\n",
    "\n",
    "![Alt text](image-3.png)\n",
    "\n",
    "\n",
    "* <font color=\"yellow\">Modelos MLflow</font> (`MLflow Models`): um formato para modelos de empacotamento e ferramentas que simplificam o Deploy do mesmo modelo (`de qualquer biblioteca de ML`) para pontuação em lote e em tempo real em plataformas como `Docker`, `Apache Spark`, `Azure ML` e `AWS SageMaker`. (verifique o formato do modelo registrado)\n",
    "\n",
    "* <font color=\"yellow\">Registro de modelo MLflow</font> (`MLflow Model Registry`): controle de versão de modelo, transições de estágio e anotações podem ser gerenciados de forma colaborativa com a ajuda do Registro de modelo MLflow, que serve como um armazenamento central de modelo.</font>\n"
   ]
  },
  {
   "cell_type": "markdown",
   "metadata": {},
   "source": [
    "# <font color=\"red\">Modelos MLflow</font>"
   ]
  },
  {
   "cell_type": "markdown",
   "metadata": {},
   "source": [
    "<font color=\"orange\">Um modelo `MLflow` é um formato padrão para empacotar seus modelos de aprendizado de máquina. Isso nos permite usar o modelo em uma variedade de ferramentas `downstream`. Pense nisso como colocar seu modelo em uma caixa com etiquetas diferentes para que diferentes ferramentas saibam como abri-lo e usá-lo. `Eles chamam esses diferentes formatos de “flavors”`.\n",
    "\n",
    "`Por exemplo`, se você tiver um modelo de aprendizado de máquina, talvez queira usá-lo em diferentes situações:\n",
    "\n",
    "* `Envio em tempo real` (Real-time Serving): você pode querer servir seu modelo em tempo real por meio de uma `API REST` para que ele possa fazer previsões assim que novos dados chegarem.\n",
    "\n",
    "* `Inferência em lote` (Batch Inference): alternativamente, você pode querer usar o mesmo modelo em um sistema de processamento em lote como o `Apache Spark`, onde ele processa uma grande quantidade de dados em lotes.\n",
    "\n",
    "Esses dois cenários exigem preparações ou `“flavors”` ligeiramente diferentes do mesmo modelo. Portanto, `“flavors”` aqui significam diferentes configurações ou formatos do modelo para atender os diferentes casos de uso ou ferramentas.</font>"
   ]
  },
  {
   "cell_type": "markdown",
   "metadata": {},
   "source": [
    "# <font color=\"red\">Formato de Armazenamento</font>"
   ]
  },
  {
   "cell_type": "markdown",
   "metadata": {},
   "source": [
    "Em nosso exemplo, registramos nosso modelo como um flavor: `mlflow.sklearn`. \n",
    "\n",
    "Para mais detalhes ver a documentação: [MLflow](https://mlflow.org/docs/latest/index.html)."
   ]
  },
  {
   "cell_type": "markdown",
   "metadata": {},
   "source": [
    "Registrar (LOG) o modelo treinado na execução do MLflow (do trecho de código acima)\n",
    "\n",
    "```\n",
    "mlflow.sklearn.log_model(model, 'Eddy_Model_Logistic_Regression')\n",
    "```"
   ]
  },
  {
   "cell_type": "markdown",
   "metadata": {},
   "source": [
    "![Alt text](image-4.png)"
   ]
  },
  {
   "cell_type": "markdown",
   "metadata": {},
   "source": [
    "# <font color=\"red\">Registro de modelo MLflow</font>"
   ]
  },
  {
   "cell_type": "markdown",
   "metadata": {},
   "source": [
    "<font color=\"orange\">Talvez você esteja se perguntando: `'Já salvei ou registrei meu modelo como um artifact (artefato), então por que preciso saber sobre o registro do modelo?'` \n",
    "\n",
    "Vamos considerar um cenário: você executou cinco experimentos e, em cada execução, registrou um modelo. Após uma avaliação completa, você descobriu que o quarto modelo tem o melhor desempenho e deseja implantá-lo em seu aplicativo.\n",
    "\n",
    "Agora, surgem algumas questões essenciais:\n",
    "\n",
    "1. `Em que estágio meu modelo está? Está em preparação, produção ou arquivado?`\n",
    "\n",
    "2. `Se alguém perguntar qual experimento e execução produziram esse modelo, você pode fornecer uma resposta?`\n",
    "\n",
    "3. `No futuro, quando você construir um modelo melhor e quiser substituir o atual, como irá acompanhar os modelos antigos?`\n",
    "\n",
    "\n",
    "É aqui que o `Registro de Modelo` intervém para salvar o dia. Ele fornece uma série de recursos valiosos, incluindo transições de estágio, linhagem de modelo (para rastrear o experimento e a execução que produziu o modelo), controle de versão do modelo e muito mais.\n",
    "\n",
    "Vamos ver o registro do modelo em ação!</font>\n",
    "\n",
    "\n",
    "<font color=\"pink\">Antes de poder adicionar um modelo ao `registro de modelo`, você deve registrar o modelo usando o método `log_model` do flavor do modelo correspondente.\n",
    "\n",
    "Existem quatro maneiras de registrar seu modelo:\n",
    "\n",
    "1. `UI do MLflow`\n",
    "\n",
    "2. `Flavor do modelo MLflow`\n",
    "\n",
    "3. `Modelo de registro MLflow`\n",
    "\n",
    "4. `API de Tracking (rastreamento) do cliente MLflow`"
   ]
  },
  {
   "cell_type": "markdown",
   "metadata": {},
   "source": [
    "## <font color=\"green\">UI do MLflow</font>"
   ]
  },
  {
   "cell_type": "markdown",
   "metadata": {},
   "source": [
    "![Alt text](image-5.png)"
   ]
  },
  {
   "cell_type": "markdown",
   "metadata": {},
   "source": [
    "<font color=\"orange\">\n",
    "\n",
    "* Você encontrará um grande botão azul chamado `Register Model` na seção `Artifacts` na página de detalhes do `MLflow` Runs. Clique nisso!\n",
    "\n",
    "* Se você estiver adicionando um novo modelo, especifique um `Model Name` para identificar exclusivamente o modelo. Se estiver registrando uma nova versão para um modelo existente, você poderá escolher o nome do modelo existente no menu suspenso.\n",
    "\n",
    "* Clique em Cadastre-se!</font>\n",
    "\n",
    "\n",
    "Parabéns, você registrou seu novo modelo! Seria semelhante a:\n"
   ]
  },
  {
   "cell_type": "markdown",
   "metadata": {},
   "source": [
    "![Alt text](image-6.png)"
   ]
  },
  {
   "cell_type": "markdown",
   "metadata": {},
   "source": [
    "<font color=\"orange\">Se você clicar em `Version 1`, poderá navegar até a página de detalhes da versão. Na página de detalhes você pode alterar o estágio do modelo, ver a linhagem do modelo (`source run`) e outros metadados.</font>"
   ]
  },
  {
   "cell_type": "markdown",
   "metadata": {},
   "source": [
    "![Alt text](image-7.png)"
   ]
  },
  {
   "cell_type": "markdown",
   "metadata": {},
   "source": [
    "## <font color=\"green\">Flavor do modelo MLflow</font>"
   ]
  },
  {
   "cell_type": "markdown",
   "metadata": {},
   "source": [
    "<font color=\"orange\">Você pode `LOG` e `register` seu modelo durante a execução do experimento. Você pode usar o método `mlflow.<model_flavor>.log_model()`.</font>"
   ]
  },
  {
   "cell_type": "code",
   "execution_count": null,
   "metadata": {},
   "outputs": [],
   "source": [
    "# Importar as Bibliotecas\n",
    "# Preparar dados e realizar pré-processamento ...\n",
    "\n",
    "with mlflow.start_run():\n",
    "  model = LogisticRegression()\n",
    "\n",
    "  # Train the model\n",
    "  # Predict on test set\n",
    "  # Log metrics and set tags\n",
    "\n",
    "  # Log the sklearn model and register as version 1:\n",
    "  mlflow.sklearn.log_model(\n",
    "    sk_model=model,\n",
    "    artifact_path='Eddy_model',\n",
    "    registered_model_name='Eddy Logistic Regression'\n",
    "  )\n"
   ]
  },
  {
   "cell_type": "markdown",
   "metadata": {},
   "source": [
    "<font color=\"orange\">No trecho de código acima, usamos o flavor de modelo `sklearn` para log e registrar o modelo. Se não existir um modelo registrado com o nome, o método registra um novo modelo e cria a `Versão 1`. Se existir um modelo registrado com o nome, o método cria uma nova versão do modelo.</font>"
   ]
  },
  {
   "cell_type": "markdown",
   "metadata": {},
   "source": [
    "## <font color=\"green\">Modelo de registro MLflow</font>"
   ]
  },
  {
   "cell_type": "markdown",
   "metadata": {},
   "source": [
    "<font color=\"orange\">Usamos o método `mlflow.regiter_model()` para registrar o modelo.\n",
    "\n",
    "Existem dois argumentos obrigatórios para o método acima: `model_uri` e `name`.\n",
    "\n",
    "`model_uri`: URI referente ao diretório `MLmodel`. Use um `runs:/` URI se quiser registrar o ID de run com o modelo no registro de modelo.\n",
    "\n",
    "`name`: O nome do modelo registrado.</font>"
   ]
  },
  {
   "cell_type": "code",
   "execution_count": null,
   "metadata": {},
   "outputs": [],
   "source": [
    "# model_uri format: runs:/<RUN_ID>/<DIRECTORY_NAME>\n",
    "\n",
    "result = mlflow.register_model(\n",
    "    \"runs:/f3f14056a49f48168af1b187f36e5aea/model\", \"Eddy Giusepe Logistic Regression\"\n",
    ")\n"
   ]
  },
  {
   "cell_type": "markdown",
   "metadata": {},
   "source": [
    "<font color=\"orange\">Se não existir um modelo registrado com o nome, o método registra um novo modelo e cria a `Versão 1`. Se existir um modelo registrado com o nome, o método cria uma nova versão do modelo.</font>"
   ]
  },
  {
   "cell_type": "markdown",
   "metadata": {},
   "source": [
    "## <font color=\"green\">API de Tracking (rastreamento) do cliente MLflow</font>"
   ]
  },
  {
   "cell_type": "markdown",
   "metadata": {},
   "source": [
    "<font color=\"orange\">Neste método, primeiro precisamos criar o arquivo `Model Name` caso contrário, ele lançará um arquivo `MLflowException`.</font>"
   ]
  },
  {
   "cell_type": "code",
   "execution_count": null,
   "metadata": {},
   "outputs": [],
   "source": [
    "from mlflow import MlflowClient\n",
    "\n",
    "client = MlflowClient()\n",
    "\n",
    "# Crie o nome do modelo se não existir\n",
    "client.create_registered_model('Eddy G Logistic Regression')\n",
    "\n",
    "# Register the model:\n",
    "client.create_model_version(\n",
    "  name='Logistic Regression',\n",
    "  source='file:///<hidden-privacy>/mlruns/758224673514181683/817ae04665574b2abe5384144a9be015/artifacts/model',\n",
    "  run_id=\"817ae04665574b2abe5384144a9be015\"\n",
    ")"
   ]
  },
  {
   "cell_type": "markdown",
   "metadata": {},
   "source": [
    "<font color=\"orange\">\n",
    "`source`: path de source onde o modelo `MLflow` está armazenado. Você pode copiar o caminho completo do `artifact` do modelo.\n",
    "</font>"
   ]
  },
  {
   "cell_type": "markdown",
   "metadata": {},
   "source": [
    "# <font color=\"red\">Bônus: uso do registro de modelo durante o Deploy (implantação)</font>"
   ]
  },
  {
   "cell_type": "markdown",
   "metadata": {},
   "source": [
    "<font color=\"orange\">Num pipeline de implantação (Deployment) automatizado, é essencial selecionar automaticamente o modelo registado mais recente para **inferência**. \n",
    "\n",
    "<font color=\"pink\">Mas e se você precisar do modelo mais recente de um estágio específico? Como podemos alcançar essa funcionalidade?</font>\n",
    "\n",
    "A resposta está na `API de Tracking de cliente MLflow`.</font>"
   ]
  },
  {
   "cell_type": "code",
   "execution_count": 7,
   "metadata": {},
   "outputs": [],
   "source": [
    "from mlflow import MlflowClient\n",
    "\n",
    "client = MlflowClient()\n",
    "\n",
    "# Parâmetros de filtro:\n",
    "MODEL_NAME = 'Modelo Eddy Logistic Regression'\n",
    "STAGE = 'Staging'\n",
    "\n",
    "# Procure o modelo com NOME DO MODELO e número da versão em ordem decrescente:\n",
    "mlflow_model = client.search_model_versions(\n",
    "  filter_string=f\"name = '{MODEL_NAME}'\", \n",
    "  order_by=[\"version_number DESC\"]\n",
    ")\n",
    "\n",
    "# De todos os modelos, encontre aquele com o estágio atual como Staging. Log (Registrar) esse modelo:\n",
    "for model in mlflow_model:\n",
    "  if model.current_stage == STAGE:\n",
    "    clf = mlflow.sklearn.load_model(model_uri=f\"models:/{model.name}/{model.version}\")\n",
    "    break"
   ]
  }
 ],
 "metadata": {
  "kernelspec": {
   "display_name": "venv_LLMs",
   "language": "python",
   "name": "python3"
  },
  "language_info": {
   "codemirror_mode": {
    "name": "ipython",
    "version": 3
   },
   "file_extension": ".py",
   "mimetype": "text/x-python",
   "name": "python",
   "nbconvert_exporter": "python",
   "pygments_lexer": "ipython3",
   "version": "3.10.12"
  },
  "orig_nbformat": 4
 },
 "nbformat": 4,
 "nbformat_minor": 2
}
