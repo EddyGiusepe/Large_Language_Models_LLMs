{
 "cells": [
  {
   "cell_type": "markdown",
   "metadata": {},
   "source": [
    "<h1 align=\"center\"><font color=\"yellow\">MLflow: Uma guia para Iniciantes</font></h1>"
   ]
  },
  {
   "cell_type": "markdown",
   "metadata": {},
   "source": [
    "<font color=\"yellow\">Data Scientist.: Dr.Eddy Giusepe Chirinos Isidro</font>"
   ]
  },
  {
   "cell_type": "markdown",
   "metadata": {},
   "source": [
    "Links de estudo:\n",
    "\n",
    "* [MLflow para Iniciantes](https://levelup.gitconnected.com/mlflow-made-easy-your-beginners-guide-bf63f8fed915)\n",
    "\n",
    "* [MLflow Documentation](https://mlflow.org/docs/latest/index.html)"
   ]
  },
  {
   "cell_type": "markdown",
   "metadata": {},
   "source": [
    "# <font color=\"red\">Setup e Dataset</font>"
   ]
  },
  {
   "cell_type": "markdown",
   "metadata": {},
   "source": [
    "Aqui vamos aprender a rastrear (track) nossos experimentos. Para isso começamos instalando a seguinte Biblioteca:\n",
    "```\n",
    "pip install mlflow\n",
    "```\n",
    "e logo baixaremos o Dataset [Iris](https://scikit-learn.org/stable/modules/generated/sklearn.datasets.load_iris.html#sklearn.datasets.load_iris) para construir um modelo de Classificação simples."
   ]
  },
  {
   "cell_type": "code",
   "execution_count": 1,
   "metadata": {},
   "outputs": [
    {
     "name": "stdout",
     "output_type": "stream",
     "text": [
      "Shape do Train: 105 linhas, 4 colunas\n",
      "Shape do Test: 45 linhas, 4 colunas\n",
      "Nome das Colunas: ['sepal length (cm)', 'sepal width (cm)', 'petal length (cm)', 'petal width (cm)']\n"
     ]
    }
   ],
   "source": [
    "import mlflow\n",
    "import pandas as pd\n",
    "\n",
    "from sklearn.datasets import load_iris\n",
    "from sklearn.linear_model import LogisticRegression\n",
    "from sklearn.model_selection import train_test_split\n",
    "from sklearn.metrics import accuracy_score, precision_score, recall_score\n",
    "\n",
    "\n",
    "# Carregar o Dataset Iris:\n",
    "dataset = load_iris()\n",
    "\n",
    "# Split do Dataset em train e test:\n",
    "X_train, X_test, y_train, y_test = train_test_split(dataset.data,\n",
    "                                                    dataset.target,\n",
    "                                                    test_size=0.3,\n",
    "                                                    stratify=dataset.target\n",
    "                                                   )\n",
    "\n",
    "# Verificamos nossos dados de train e test:\n",
    "print(f\"Shape do Train: {X_train.shape[0]} linhas, {X_train.shape[1]} colunas\", )\n",
    "print(f\"Shape do Test: {X_test.shape[0]} linhas, {X_test.shape[1]} colunas\")\n",
    "print(f\"Nome das Colunas: {dataset.feature_names}\")\n"
   ]
  },
  {
   "cell_type": "markdown",
   "metadata": {},
   "source": [
    "<font color=\"orange\">Então, lembra que estamos construindo um `Modelo de Regressão Logística` com a ajuda de `mlflow` para rastrear nossos experimentos.</font>"
   ]
  },
  {
   "cell_type": "code",
   "execution_count": 2,
   "metadata": {},
   "outputs": [
    {
     "name": "stderr",
     "output_type": "stream",
     "text": [
      "2023/09/10 15:10:23 INFO mlflow.tracking.fluent: Experiment with name 'Eddy Baseline Model' does not exist. Creating a new experiment.\n",
      "/home/eddygiusepe/1_Eddy_Giusepe/3_estudando_LLMs/Large_Language_Models_LLMs/venv_LLMs/lib/python3.10/site-packages/sklearn/linear_model/_logistic.py:460: ConvergenceWarning: lbfgs failed to converge (status=1):\n",
      "STOP: TOTAL NO. of ITERATIONS REACHED LIMIT.\n",
      "\n",
      "Increase the number of iterations (max_iter) or scale the data as shown in:\n",
      "    https://scikit-learn.org/stable/modules/preprocessing.html\n",
      "Please also refer to the documentation for alternative solver options:\n",
      "    https://scikit-learn.org/stable/modules/linear_model.html#logistic-regression\n",
      "  n_iter_i = _check_optimize_result(\n"
     ]
    }
   ],
   "source": [
    "# Definimos o experimento para o MLflow:\n",
    "mlflow.set_experiment('Eddy Baseline Model') # As execuções da experiência e os metadados associados serão organizados sob o nome desta experiência no MLflow\n",
    "\n",
    "# Iniciamos um contexto de execução do MLflow:\n",
    "with mlflow.start_run(): # Este contexto encapsula o rastreamento de todas as informações relacionadas a esta execução específica no experimento.\n",
    "    # Inicializamos nosso modelo LogisticRegression:\n",
    "    model = LogisticRegression()\n",
    "    \n",
    "    # Trainamos nosso Modelo com os dados de Treinamento:\n",
    "    model.fit(X_train, y_train)\n",
    "\n",
    "    # Fazemos previsões sobre os dados de teste:\n",
    "    y_pred = model.predict(X_test)\n",
    "\n",
    "    # Calculamos algumas Métricas de avaliação:\n",
    "    accuracy = accuracy_score(y_test, y_pred)\n",
    "    precision = precision_score(y_test, y_pred, average='macro')\n",
    "    recall = recall_score(y_test, y_pred, average='macro')\n",
    "\n",
    "    # Registramos (LOGs) as métricas de avaliação no MLflow run:\n",
    "    mlflow.log_metric('accuracy', accuracy)\n",
    "    mlflow.log_metric('precision', precision)\n",
    "    mlflow.log_metric('recall', recall)\n",
    "\n",
    "    # Registramos o modelo Treinado no MLflow run:\n",
    "    mlflow.sklearn.log_model(model, 'Eddy_model')\n",
    "\n",
    "    # Metadados adicionais são associados à execução definindo tags 🤗.\n",
    "    # Definimos as informações do Desenvolvedor como uma tag:\n",
    "    mlflow.set_tag('Data Scientist', 'Dr.Eddy Giusepe Chirinos Isidro')\n",
    "\n",
    "    # Definimos os detalhes do pré-processamento como uma tag:\n",
    "    mlflow.set_tag('preprocessing', 'None')\n",
    "\n",
    "    # Definimos o tipo de Modelo como uma tag:\n",
    "    mlflow.set_tag('Tipo de Modelo', 'Logistic Regression')\n",
    "\n"
   ]
  },
  {
   "cell_type": "markdown",
   "metadata": {},
   "source": [
    "<font color=\"pink\">Seguidamente, abra seu prompt de comando (ou `Terminal`) e digite isto: \n",
    "```\n",
    "$ mlflow ui \n",
    "```\n",
    "\n",
    "Você verá a `IU` de rastreamento ganhar vida em `http://localhost:5000`</font>"
   ]
  },
  {
   "cell_type": "markdown",
   "metadata": {},
   "source": [
    "![Alt text](image-1.png)"
   ]
  },
  {
   "cell_type": "markdown",
   "metadata": {},
   "source": [
    "<font color=\"orange\">Clique em `Run Name` para ver os detalhes da execução do experimento. Você verá uma página como esta:</font>"
   ]
  },
  {
   "cell_type": "markdown",
   "metadata": {},
   "source": [
    "![Alt text](image-2.png)"
   ]
  },
  {
   "cell_type": "markdown",
   "metadata": {},
   "source": [
    "<font color=\"orange\">Então, você acabou de acompanhar sua primeira excução experimental. Você pdoe seguir familiarizando-se com MLflow 🤗.</font>"
   ]
  },
  {
   "cell_type": "markdown",
   "metadata": {},
   "source": [
    "# <font color=\"red\">Experimentar</font>"
   ]
  },
  {
   "cell_type": "markdown",
   "metadata": {},
   "source": [
    "<font color=\"orange\">Estamos experimentado, e começamos com o experimento chamado: `Eddy Baseline Model` e esse é a nossa primeira grande ideia. Depois vem outro experimento, o `Eddy modelo melhorado`, onde você mexe em coisas como `Random Forest` e `SVM`. E ei, você pode ir ainda mais fundo, tentando coisas como `ajustar hiperparâmetros`. Cada um deles é uma novo `'experiment'` - uma nova aventura.</font>"
   ]
  },
  {
   "cell_type": "markdown",
   "metadata": {},
   "source": [
    "# <font color=\"red\">Analisando mais de perto o MLflow</font>"
   ]
  },
  {
   "cell_type": "markdown",
   "metadata": {},
   "source": [
    "<font color=\"orange\">`MLflow` é uma plataforma de `código aberto` para gerenciar o ciclo de vida de aprendizado de máquina de `end-to-end`. As funções do MLflow que exploraremos neste artigo são:\n",
    "\n",
    "* <font color=\"yellow\">Rastreamento de MLflow</font> (`MLflow Tracking`): uma API para registrar parâmetros, código e resultados de um experimento e compará-los com uma interface de usuário interativa. (Vimos isso em nosso exemplo acima)\n",
    "\n",
    "Você deve ter notado um diretório `mlruns` criado no mesmo diretório onde seu código foi executado. O `MLflow` usou esse diretório para armazenar artefatos e entidades do MLflow.\n",
    "\n",
    "\n",
    "![Alt text](image-3.png)\n",
    "\n",
    "\n",
    "* <font color=\"yellow\">Modelos MLflow</font> (`MLflow Models`): um formato para modelos de empacotamento e ferramentas que simplificam o Deploy do mesmo modelo (`de qualquer biblioteca de ML`) para pontuação em lote e em tempo real em plataformas como `Docker`, `Apache Spark`, `Azure ML` e `AWS SageMaker`. (verifique o formato do modelo registrado)\n",
    "\n",
    "* <font color=\"yellow\">Registro de modelo MLflow</font> (`MLflow Model Registry`): controle de versão de modelo, transições de estágio e anotações podem ser gerenciados de forma colaborativa com a ajuda do Registro de modelo MLflow, que serve como um armazenamento central de modelo.</font>\n"
   ]
  },
  {
   "cell_type": "markdown",
   "metadata": {},
   "source": [
    "# <font color=\"red\">Modelos MLflow</font>"
   ]
  },
  {
   "cell_type": "markdown",
   "metadata": {},
   "source": [
    "<font color=\"orange\">Um modelo `MLflow` é um formato padrão para empacotar seus modelos de aprendizado de máquina. Isso nos permite usar o modelo em uma variedade de ferramentas `downstream`. Pense nisso como colocar seu modelo em uma caixa com etiquetas diferentes para que diferentes ferramentas saibam como abri-lo e usá-lo. `Eles chamam esses diferentes formatos de “flavors”`.\n",
    "\n",
    "`Por exemplo`, se você tiver um modelo de aprendizado de máquina, talvez queira usá-lo em diferentes situações:\n",
    "\n",
    "* `Envio em tempo real` (Real-time Serving): você pode querer servir seu modelo em tempo real por meio de uma `API REST` para que ele possa fazer previsões assim que novos dados chegarem.\n",
    "\n",
    "* `Inferência em lote` (Batch Inference): alternativamente, você pode querer usar o mesmo modelo em um sistema de processamento em lote como o `Apache Spark`, onde ele processa uma grande quantidade de dados em lotes.\n",
    "\n",
    "Esses dois cenários exigem preparações ou `“flavors”` ligeiramente diferentes do mesmo modelo. Portanto, `“flavors”` aqui significam diferentes configurações ou formatos do modelo para atender os diferentes casos de uso ou ferramentas.</font>"
   ]
  },
  {
   "cell_type": "markdown",
   "metadata": {},
   "source": [
    "# <font color=\"red\">Formato de Armazenamento</font>"
   ]
  },
  {
   "cell_type": "markdown",
   "metadata": {},
   "source": [
    "Em nosso exemplo, registramos nosso modelo como um flavor: `mlflow.sklearn`. \n",
    "\n",
    "Para mais detalhes ver a documentação: [MLflow](https://mlflow.org/docs/latest/index.html)."
   ]
  },
  {
   "cell_type": "code",
   "execution_count": 3,
   "metadata": {},
   "outputs": [
    {
     "data": {
      "text/plain": [
       "<mlflow.models.model.ModelInfo at 0x7f39b8a5f940>"
      ]
     },
     "execution_count": 3,
     "metadata": {},
     "output_type": "execute_result"
    }
   ],
   "source": [
    "# Registrar (LOG) o modelo treinado na execução do MLflow (do trecho de código acima)\n",
    "mlflow.sklearn.log_model(model, 'Eddy_model')"
   ]
  },
  {
   "cell_type": "markdown",
   "metadata": {},
   "source": [
    "![Alt text](image-4.png)"
   ]
  },
  {
   "cell_type": "markdown",
   "metadata": {},
   "source": [
    "# <font color=\"red\">Registro de modelo MLflow</font>"
   ]
  },
  {
   "cell_type": "markdown",
   "metadata": {},
   "source": [
    "<font color=\"orange\">Talvez você esteja se perguntando: `'Já salvei ou registrei meu modelo como um artifact (artefato), então por que preciso saber sobre o registro do modelo?'` \n",
    "\n",
    "Vamos considerar um cenário: você executou cinco experimentos e, em cada execução, registrou um modelo. Após uma avaliação completa, você descobriu que o quarto modelo tem o melhor desempenho e deseja implantá-lo em seu aplicativo.\n",
    "\n",
    "Agora, surgem algumas questões essenciais:\n",
    "\n",
    "1. `Em que estágio meu modelo está? Está em preparação, produção ou arquivado?`\n",
    "\n",
    "2. `Se alguém perguntar qual experimento e execução produziram esse modelo, você pode fornecer uma resposta?`\n",
    "\n",
    "3. `No futuro, quando você construir um modelo melhor e quiser substituir o atual, como irá acompanhar os modelos antigos?`\n",
    "\n",
    "\n",
    "É aqui que o `Registro de Modelo` intervém para salvar o dia. Ele fornece uma série de recursos valiosos, incluindo transições de estágio, linhagem de modelo (para rastrear o experimento e a execução que produziu o modelo), controle de versão do modelo e muito mais.\n",
    "\n",
    "Vamos ver o registro do modelo em ação!</font>\n",
    "\n",
    "\n",
    "<font color=\"pink\">Antes de poder adicionar um modelo ao `registro de modelo`, você deve registrar o modelo usando o método `log_model` do flavor do modelo correspondente.\n",
    "\n",
    "Existem quatro maneiras de registrar seu modelo:\n",
    "\n",
    "1. `UI do MLflow`\n",
    "\n",
    "2. `Flavor do modelo MLflow`\n",
    "\n",
    "3. `Modelo de registro MLflow`\n",
    "\n",
    "4. `API de Tracking (rastreamento) do cliente MLflow`"
   ]
  },
  {
   "cell_type": "markdown",
   "metadata": {},
   "source": [
    "## <font color=\"green\">UI do MLflow</font>"
   ]
  },
  {
   "cell_type": "markdown",
   "metadata": {},
   "source": [
    "![Alt text](image-5.png)"
   ]
  },
  {
   "cell_type": "code",
   "execution_count": null,
   "metadata": {},
   "outputs": [],
   "source": []
  },
  {
   "cell_type": "code",
   "execution_count": null,
   "metadata": {},
   "outputs": [],
   "source": []
  }
 ],
 "metadata": {
  "kernelspec": {
   "display_name": "venv_LLMs",
   "language": "python",
   "name": "python3"
  },
  "language_info": {
   "codemirror_mode": {
    "name": "ipython",
    "version": 3
   },
   "file_extension": ".py",
   "mimetype": "text/x-python",
   "name": "python",
   "nbconvert_exporter": "python",
   "pygments_lexer": "ipython3",
   "version": "3.10.12"
  },
  "orig_nbformat": 4
 },
 "nbformat": 4,
 "nbformat_minor": 2
}
