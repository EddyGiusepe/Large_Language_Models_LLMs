{
 "cells": [
  {
   "cell_type": "markdown",
   "metadata": {},
   "source": [
    "<h1 align=\"center\"><font color=\"yellow\">Automate Data Analysis with Langchain?</font></h1>"
   ]
  },
  {
   "cell_type": "markdown",
   "metadata": {},
   "source": [
    "<font color=\"yellow\">Data Scientist.: Dr.Eddy Giusepe Chirinos Isidro</font>"
   ]
  },
  {
   "cell_type": "markdown",
   "metadata": {},
   "source": [
    "Link de estudo:\n",
    "\n",
    "* [Langchain: Pandas DataFrame](https://python.langchain.com/docs/integrations/toolkits/pandas)"
   ]
  },
  {
   "cell_type": "markdown",
   "metadata": {},
   "source": [
    "<font color=\"orange\">Usando a ferramenta `LangChain Agent` podemos interagir com `CSV`, `dataframe` com `Natural Language Query`.</font>"
   ]
  },
  {
   "cell_type": "markdown",
   "metadata": {},
   "source": [
    "# <font color=\"red\">Introdução</font>"
   ]
  },
  {
   "cell_type": "markdown",
   "metadata": {},
   "source": [
    "<font color=\"orange\">No atual cenário empresarial orientado por dados, a `automação` desempenha um papel crucial na simplificação dos processos de análise de dados. Estruturas como `Langchain` e `Gen AI` oferecem soluções valiosas para empresas que buscam economizar tempo e recursos. Ao aproveitar o `Langchain`, você pode construir seu próprio agente e automatizar a análise de dados.\n",
    "\n",
    "Este artigo fornece um guia passo a passo conciso para criar um `agente Langchain` usando o `agente pandas pré-construído`. Com os recursos de automação da Langchain, as organizações podem aumentar a produtividade e tomar decisões informadas de forma eficiente no mundo em constante evolução da análise de dados.</font>\n",
    "\n",
    "\n",
    "<font color=\"pink\">O que é Langchain?</font>\n",
    "\n",
    "`Langchain` é um framework usada para construir aplicativos com modelos de linguagem grande como `chatGPT`. Ele fornece uma maneira melhor de gerenciar `memória`, `prompts` e `criar cadeias` – uma série de ações. Além disso, Langchain oferece aos desenvolvedores a facilidade de criar `agentes`. `Um agente é uma entidade que pode executar uma série de ações com base em condições`.\n",
    "\n",
    "\n",
    "<font color=\"pink\">Análise de dados com Langchain</font>\n",
    "\n",
    "Para fazer análise de dados com `langchain`, devemos primeiro instalar as bibliotecas `langchain` e `openai`. Você pode fazer isso baixando as bibliotecas necessárias e importando-as para o seu projeto."
   ]
  },
  {
   "cell_type": "code",
   "execution_count": 1,
   "metadata": {},
   "outputs": [],
   "source": [
    "# Importando bibliotecas \n",
    "import os \n",
    "import pandas as pd \n",
    "import matplotlib.pyplot as plt \n",
    "import seaborn as sns \n",
    "from langchain.agents import create_pandas_dataframe_agent \n",
    "from langchain.llms import OpenAI \n",
    "\n",
    "\n",
    "from dotenv import load_dotenv, find_dotenv\n",
    "_ = load_dotenv(find_dotenv()) # read local .env file\n"
   ]
  },
  {
   "cell_type": "markdown",
   "metadata": {},
   "source": [
    "# <font color=\"red\">Criando um Agente Langchain</font>"
   ]
  },
  {
   "cell_type": "markdown",
   "metadata": {},
   "source": [
    "<font color=\"orange\">Para criar um agente Langchain, usaremos o agente pandas integrado (`create_pandas_dataframe_agent`) . Usaremos um conjunto de dados de risco de `doenças cardíacas` para esta demonstração. Esses dados estão disponíveis online e podem ser lidos diretamente no dataframe do pandas. Veja como você pode fazer isso:</font>"
   ]
  },
  {
   "cell_type": "code",
   "execution_count": 2,
   "metadata": {},
   "outputs": [
    {
     "data": {
      "text/plain": [
       "'text-davinci-003'"
      ]
     },
     "execution_count": 2,
     "metadata": {},
     "output_type": "execute_result"
    }
   ],
   "source": [
    "# Importando os Dados:\n",
    "df = pd.read_csv('http://www-stat.stanford.edu/~tibs/ElemStatLearn/datasets/SAheart.data') \n",
    "\n",
    "# Inicializando o Agent: \n",
    "agent = create_pandas_dataframe_agent(OpenAI(temperature=0),\n",
    "                                      df,\n",
    "                                      verbose=True\n",
    "                                     )\n",
    " \n",
    "openai = OpenAI(temperature=0.0) \n",
    "\n",
    "openai.model_name # Isto irá imprimir o modelo que está sendo usado, por padrão usa ‘text-davinci-003’"
   ]
  },
  {
   "cell_type": "markdown",
   "metadata": {},
   "source": [
    "Posso fazer o seguinte (só para ter uma ideia de meus dados):"
   ]
  },
  {
   "cell_type": "code",
   "execution_count": 3,
   "metadata": {},
   "outputs": [
    {
     "data": {
      "text/html": [
       "<div>\n",
       "<style scoped>\n",
       "    .dataframe tbody tr th:only-of-type {\n",
       "        vertical-align: middle;\n",
       "    }\n",
       "\n",
       "    .dataframe tbody tr th {\n",
       "        vertical-align: top;\n",
       "    }\n",
       "\n",
       "    .dataframe thead th {\n",
       "        text-align: right;\n",
       "    }\n",
       "</style>\n",
       "<table border=\"1\" class=\"dataframe\">\n",
       "  <thead>\n",
       "    <tr style=\"text-align: right;\">\n",
       "      <th></th>\n",
       "      <th>row.names</th>\n",
       "      <th>sbp</th>\n",
       "      <th>tobacco</th>\n",
       "      <th>ldl</th>\n",
       "      <th>adiposity</th>\n",
       "      <th>famhist</th>\n",
       "      <th>typea</th>\n",
       "      <th>obesity</th>\n",
       "      <th>alcohol</th>\n",
       "      <th>age</th>\n",
       "      <th>chd</th>\n",
       "    </tr>\n",
       "  </thead>\n",
       "  <tbody>\n",
       "    <tr>\n",
       "      <th>0</th>\n",
       "      <td>1</td>\n",
       "      <td>160</td>\n",
       "      <td>12.00</td>\n",
       "      <td>5.73</td>\n",
       "      <td>23.11</td>\n",
       "      <td>Present</td>\n",
       "      <td>49</td>\n",
       "      <td>25.30</td>\n",
       "      <td>97.20</td>\n",
       "      <td>52</td>\n",
       "      <td>1</td>\n",
       "    </tr>\n",
       "    <tr>\n",
       "      <th>1</th>\n",
       "      <td>2</td>\n",
       "      <td>144</td>\n",
       "      <td>0.01</td>\n",
       "      <td>4.41</td>\n",
       "      <td>28.61</td>\n",
       "      <td>Absent</td>\n",
       "      <td>55</td>\n",
       "      <td>28.87</td>\n",
       "      <td>2.06</td>\n",
       "      <td>63</td>\n",
       "      <td>1</td>\n",
       "    </tr>\n",
       "    <tr>\n",
       "      <th>2</th>\n",
       "      <td>3</td>\n",
       "      <td>118</td>\n",
       "      <td>0.08</td>\n",
       "      <td>3.48</td>\n",
       "      <td>32.28</td>\n",
       "      <td>Present</td>\n",
       "      <td>52</td>\n",
       "      <td>29.14</td>\n",
       "      <td>3.81</td>\n",
       "      <td>46</td>\n",
       "      <td>0</td>\n",
       "    </tr>\n",
       "    <tr>\n",
       "      <th>3</th>\n",
       "      <td>4</td>\n",
       "      <td>170</td>\n",
       "      <td>7.50</td>\n",
       "      <td>6.41</td>\n",
       "      <td>38.03</td>\n",
       "      <td>Present</td>\n",
       "      <td>51</td>\n",
       "      <td>31.99</td>\n",
       "      <td>24.26</td>\n",
       "      <td>58</td>\n",
       "      <td>1</td>\n",
       "    </tr>\n",
       "    <tr>\n",
       "      <th>4</th>\n",
       "      <td>5</td>\n",
       "      <td>134</td>\n",
       "      <td>13.60</td>\n",
       "      <td>3.50</td>\n",
       "      <td>27.78</td>\n",
       "      <td>Present</td>\n",
       "      <td>60</td>\n",
       "      <td>25.99</td>\n",
       "      <td>57.34</td>\n",
       "      <td>49</td>\n",
       "      <td>1</td>\n",
       "    </tr>\n",
       "  </tbody>\n",
       "</table>\n",
       "</div>"
      ],
      "text/plain": [
       "   row.names  sbp  tobacco   ldl  adiposity  famhist  typea  obesity  alcohol  \\\n",
       "0          1  160    12.00  5.73      23.11  Present     49    25.30    97.20   \n",
       "1          2  144     0.01  4.41      28.61   Absent     55    28.87     2.06   \n",
       "2          3  118     0.08  3.48      32.28  Present     52    29.14     3.81   \n",
       "3          4  170     7.50  6.41      38.03  Present     51    31.99    24.26   \n",
       "4          5  134    13.60  3.50      27.78  Present     60    25.99    57.34   \n",
       "\n",
       "   age  chd  \n",
       "0   52    1  \n",
       "1   63    1  \n",
       "2   46    0  \n",
       "3   58    1  \n",
       "4   49    1  "
      ]
     },
     "execution_count": 3,
     "metadata": {},
     "output_type": "execute_result"
    }
   ],
   "source": [
    "df.head()"
   ]
  },
  {
   "cell_type": "markdown",
   "metadata": {},
   "source": [
    "# <font color=\"red\">Consultando o Agente</font>"
   ]
  },
  {
   "cell_type": "markdown",
   "metadata": {},
   "source": [
    "<font color=\"orange\">Depois de configurar seu agente, você pode começar a consultá-lo. Existem vários tipos de consultas que você pode solicitar ao seu agente. Vamos realizar algumas etapas de análise de dados:</font>"
   ]
  },
  {
   "cell_type": "markdown",
   "metadata": {},
   "source": [
    "## <font color=\"pink\">EDA</font>"
   ]
  },
  {
   "cell_type": "code",
   "execution_count": 4,
   "metadata": {},
   "outputs": [
    {
     "name": "stdout",
     "output_type": "stream",
     "text": [
      "\n",
      "\n",
      "\u001b[1m> Entering new AgentExecutor chain...\u001b[0m\n",
      "\u001b[32;1m\u001b[1;3mThought: Preciso descobrir o número de linhas e colunas.\n",
      "Action: python_repl_ast\n",
      "Action Input: df.shape\u001b[0m\n",
      "Observation: \u001b[36;1m\u001b[1;3m(462, 11)\u001b[0m\n",
      "Thought:\u001b[32;1m\u001b[1;3m Agora sei que o conjunto de dados tem 462 linhas e 11 colunas.\n",
      "Final Answer: O conjunto de dados tem 462 linhas e 11 colunas.\u001b[0m\n",
      "\n",
      "\u001b[1m> Finished chain.\u001b[0m\n"
     ]
    },
    {
     "data": {
      "text/plain": [
       "{'input': 'Qual é a forma do conjunto de dados?',\n",
       " 'output': 'O conjunto de dados tem 462 linhas e 11 colunas.'}"
      ]
     },
     "execution_count": 4,
     "metadata": {},
     "output_type": "execute_result"
    }
   ],
   "source": [
    "# Vamos verificar o formato dos Dados:\n",
    "agent(\"Qual é a forma do conjunto de dados?\")"
   ]
  },
  {
   "cell_type": "code",
   "execution_count": 5,
   "metadata": {},
   "outputs": [
    {
     "name": "stdout",
     "output_type": "stream",
     "text": [
      "\n",
      "\n",
      "\u001b[1m> Entering new AgentExecutor chain...\u001b[0m\n",
      "\u001b[32;1m\u001b[1;3mThought: I need to count the number of missing values in each column\n",
      "Action: python_repl_ast\n",
      "Action Input: df.isnull().sum()\u001b[0m\n",
      "Observation: \u001b[36;1m\u001b[1;3mrow.names    0\n",
      "sbp          0\n",
      "tobacco      0\n",
      "ldl          0\n",
      "adiposity    0\n",
      "famhist      0\n",
      "typea        0\n",
      "obesity      0\n",
      "alcohol      0\n",
      "age          0\n",
      "chd          0\n",
      "dtype: int64\u001b[0m\n",
      "Thought:\u001b[32;1m\u001b[1;3m I now know the final answer\n",
      "Final Answer: 0 valores faltantes em cada coluna.\u001b[0m\n",
      "\n",
      "\u001b[1m> Finished chain.\u001b[0m\n"
     ]
    },
    {
     "data": {
      "text/plain": [
       "{'input': 'Quantos valores faltantes existem em cada coluna?',\n",
       " 'output': '0 valores faltantes em cada coluna.'}"
      ]
     },
     "execution_count": 5,
     "metadata": {},
     "output_type": "execute_result"
    }
   ],
   "source": [
    "# Identificando valores Missing:\n",
    "agent(\"Quantos valores faltantes existem em cada coluna?\")"
   ]
  },
  {
   "cell_type": "markdown",
   "metadata": {},
   "source": [
    "## <font color=\"pink\">Análise com Gráficos</font>"
   ]
  },
  {
   "cell_type": "markdown",
   "metadata": {},
   "source": [
    "<font color=\"orange\">Nesta seção tentaremos ver a distribuição de várias variáveis.</font>"
   ]
  },
  {
   "cell_type": "code",
   "execution_count": 6,
   "metadata": {},
   "outputs": [
    {
     "name": "stdout",
     "output_type": "stream",
     "text": [
      "\n",
      "\n",
      "\u001b[1m> Entering new AgentExecutor chain...\u001b[0m\n",
      "\u001b[32;1m\u001b[1;3mThought: Eu preciso visualizar os dados para responder a pergunta.\n",
      "Action: python_repl_ast\n",
      "Action Input: df.chd.value_counts().plot(kind='bar')\u001b[0m\n",
      "Observation: \u001b[36;1m\u001b[1;3mAxes(0.125,0.11;0.775x0.77)\u001b[0m\n",
      "Thought:\u001b[32;1m\u001b[1;3m Agora eu sei a resposta final.\n",
      "Final Answer: Um gráfico de barras mostrando a distribuição de pessoas que sofrem de doença coronariana.\u001b[0m\n",
      "\n",
      "\u001b[1m> Finished chain.\u001b[0m\n"
     ]
    },
    {
     "data": {
      "text/plain": [
       "{'input': 'Mostre a distribuição de pessoas que sofrem de doença coronariana usando um gráfico de barras.',\n",
       " 'output': 'Um gráfico de barras mostrando a distribuição de pessoas que sofrem de doença coronariana.'}"
      ]
     },
     "execution_count": 6,
     "metadata": {},
     "output_type": "execute_result"
    },
    {
     "data": {
      "image/png": "[encoded data removed]",
      "text/plain": [
       "<Figure size 640x480 with 1 Axes>"
      ]
     },
     "metadata": {},
     "output_type": "display_data"
    }
   ],
   "source": [
    "agent(\"Mostre a distribuição de pessoas que sofrem de doença coronariana usando um gráfico de barras.\")"
   ]
  },
  {
   "cell_type": "markdown",
   "metadata": {},
   "source": [
    "## <font color=\"pink\">Testando hipóteses</font>"
   ]
  },
  {
   "cell_type": "markdown",
   "metadata": {},
   "source": [
    "<font color=\"orange\">Vamos tentar testar algumas hipóteses.</font>"
   ]
  },
  {
   "cell_type": "code",
   "execution_count": 7,
   "metadata": {},
   "outputs": [
    {
     "name": "stdout",
     "output_type": "stream",
     "text": [
      "\n",
      "\n",
      "\u001b[1m> Entering new AgentExecutor chain...\u001b[0m\n",
      "\u001b[32;1m\u001b[1;3mThought: Preciso verificar se há uma correlação entre o consumo de tabaco e a doença coronariana.\n",
      "Action: python_repl_ast\n",
      "Action Input: df[['tobacco', 'chd']].corr()\u001b[0m\n",
      "Observation: \u001b[36;1m\u001b[1;3m          tobacco       chd\n",
      "tobacco  1.000000  0.299718\n",
      "chd      0.299718  1.000000\u001b[0m\n",
      "Thought:\u001b[32;1m\u001b[1;3m A correlação entre o consumo de tabaco e a doença coronariana é de 0.299718.\n",
      "Action: python_repl_ast\n",
      "Action Input: from scipy.stats import ttest_ind\u001b[0m\n",
      "Observation: \u001b[36;1m\u001b[1;3m\u001b[0m\n",
      "Thought:\u001b[32;1m\u001b[1;3m Agora posso usar o test t para verificar a hipótese.\n",
      "Action: python_repl_ast\n",
      "Action Input: ttest_ind(df['tobacco'], df['chd'])\u001b[0m\n",
      "Observation: \u001b[36;1m\u001b[1;3mTtestResult(statistic=15.311112860827938, pvalue=2.553196692382764e-47, df=922.0)\u001b[0m\n",
      "Thought:\u001b[32;1m\u001b[1;3m O valor-p é muito baixo, o que significa que a hipótese nula é rejeitada.\n",
      "Final Answer: A hipótese nula de que o consumo de tabaco não causa doença coronariana é rejeitada.\u001b[0m\n",
      "\n",
      "\u001b[1m> Finished chain.\u001b[0m\n"
     ]
    },
    {
     "data": {
      "text/plain": [
       "{'input': 'valide a seguinte hipótese com o test t.\\n         Hipótese Nula: O consumo de tabaco não causa doença coronariana (chd).\\n         Hipótese Alternativa: O Consumo de Tabaco causa chd.',\n",
       " 'output': 'A hipótese nula de que o consumo de tabaco não causa doença coronariana é rejeitada.'}"
      ]
     },
     "execution_count": 7,
     "metadata": {},
     "output_type": "execute_result"
    }
   ],
   "source": [
    "# O tabaco causa doença coronariana?\n",
    "agent(\"\"\"valide a seguinte hipótese com o test t.\n",
    "         Hipótese Nula: O consumo de tabaco não causa doença coronariana (chd).\n",
    "         Hipótese Alternativa: O Consumo de Tabaco causa chd.\"\"\")\n"
   ]
  }
 ],
 "metadata": {
  "kernelspec": {
   "display_name": "venv_LLMs",
   "language": "python",
   "name": "python3"
  },
  "language_info": {
   "codemirror_mode": {
    "name": "ipython",
    "version": 3
   },
   "file_extension": ".py",
   "mimetype": "text/x-python",
   "name": "python",
   "nbconvert_exporter": "python",
   "pygments_lexer": "ipython3",
   "version": "3.10.12"
  },
  "orig_nbformat": 4
 },
 "nbformat": 4,
 "nbformat_minor": 2
}
