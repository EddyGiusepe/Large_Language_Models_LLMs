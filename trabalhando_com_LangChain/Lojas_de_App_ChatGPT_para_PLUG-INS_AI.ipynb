{
 "cells": [
  {
   "attachments": {},
   "cell_type": "markdown",
   "metadata": {},
   "source": [
    "<h1 align=\"center\"><font color=\"yellow\">Loja de aplicativos ChatGPT para plug-ins AI</font></h1>"
   ]
  },
  {
   "attachments": {},
   "cell_type": "markdown",
   "metadata": {},
   "source": [
    "<font color=\"yellow\">Data Scientist.: Dr.Eddy Giusepe Chirinos Isidro</font>"
   ]
  },
  {
   "attachments": {},
   "cell_type": "markdown",
   "metadata": {},
   "source": [
    "Aqui, seguiremos explorando os `plug-ins` do `ChatGPT` com `LangChain`."
   ]
  },
  {
   "attachments": {},
   "cell_type": "markdown",
   "metadata": {},
   "source": [
    "![](https://miro.medium.com/v2/resize:fit:640/format:webp/1*tTP-wYhH0s5epnA6QN22pg.png)"
   ]
  },
  {
   "attachments": {},
   "cell_type": "markdown",
   "metadata": {},
   "source": [
    "Um dos principais desafios enfrentados pelo `ChatGPT` é que seus dados de treinamento permanecem atualizados apenas até `setembro de 2021`; no entanto, o advento dos `plug-ins do ChatGPT`, como o [Browsing](https://openai.com/blog/chatgpt-plugins#browsing), abriu um novo leque de possibilidades. Esses plug-ins permitem que os usuários naveguem na Internet e coletem informações em tempo real pertinentes aos prompts de conversa, superando efetivamente essa limitação e aprimorando a experiência geral do ChatGPT."
   ]
  },
  {
   "attachments": {},
   "cell_type": "markdown",
   "metadata": {},
   "source": [
    "# O que é um plug-in ChatGPT?"
   ]
  },
  {
   "attachments": {},
   "cell_type": "markdown",
   "metadata": {},
   "source": [
    "<font color=\"red\">Atualmente disponível apenas em uma versão alfa limitada. Entre na [lista de espera](https://openai.com/waitlist/plugins).</font>\n",
    "\n",
    "\n",
    "Plugins são ferramentas que ajudam a melhorar as habilidades do `ChatGPT`. Eles coletam informações atualizadas e conectam-se a serviços externos, permitindo que os `usuários interajam com diferentes plataformas`, como `lojas online`, `calculadoras`, `blogs` e `aplicativos da web usando o ChatGPT`.\n",
    "\n",
    "Para desenvolvedores, plug-ins são especificações OpenAPI que se conectam a APIs.\n",
    "\n",
    "Você também pode pensar em plug-ins como em aplicativos em seu smartphone. Os aplicativos ampliam os recursos do seu telefone e podem ser instalados por meio de uma `App Store`."
   ]
  },
  {
   "attachments": {},
   "cell_type": "markdown",
   "metadata": {},
   "source": [
    "# App Store (para plug-ins ChatGPT)"
   ]
  },
  {
   "attachments": {},
   "cell_type": "markdown",
   "metadata": {},
   "source": [
    "Aqui está uma amostra dos `plugins ChatGPT` iniciais disponíveis para instalação hoje."
   ]
  },
  {
   "attachments": {},
   "cell_type": "markdown",
   "metadata": {},
   "source": [
    "![](https://miro.medium.com/v2/resize:fit:1100/format:webp/1*mTSIqPf0PP5vpKoRozIGaQ.png)"
   ]
  },
  {
   "attachments": {},
   "cell_type": "markdown",
   "metadata": {},
   "source": [
    "A criação de uma loja de aplicativos oferece vários benefícios principais para desenvolvedores, usuários e proprietários de plataformas:\n",
    "\n",
    "😎 `Mercado centralizado:` uma loja de aplicativos oferece uma plataforma centralizada para que os desenvolvedores distribuam seus aplicativos e para que os usuários os descubram e baixem.\n",
    "\n",
    "😎 `Oportunidades de monetização:` as lojas de aplicativos (`App Stores`) permitem que os desenvolvedores monetizem seus aplicativos por meio de vários modelos de negócios, incluindo plug-ins pagos, compras no aplicativo, assinaturas e publicidade.\n",
    "\n",
    "😎 `Análise e insights:` as lojas de aplicativos fornecem aos desenvolvedores análises e insights valiosos sobre o desempenho do aplicativo, o envolvimento do usuário e a receita. Esses dados ajudam os desenvolvedores a entender o desempenho de seus plug-ins, identificar áreas de melhoria e tomar decisões baseadas em dados para otimizar o sucesso de seus plug-ins.\n",
    "\n",
    "\n",
    "Ao criar uma loja de aplicativos para plug-ins, desenvolvedores, usuários e proprietários de plataformas podem se beneficiar de um ecossistema mais simplificado, seguro e potencialmente lucrativo que promove inovação e crescimento.\n",
    "\n",
    "Para começar a desenvolver seus próprios plug-ins ChatGPT, vamos dar uma olhada em um dos plug-ins iniciais, `Klarna Shopping`.\n",
    "\n"
   ]
  },
  {
   "attachments": {},
   "cell_type": "markdown",
   "metadata": {},
   "source": [
    "# Exemplo de plug-in ChatGPT: Klarna Shopping"
   ]
  },
  {
   "attachments": {},
   "cell_type": "markdown",
   "metadata": {},
   "source": [
    "https://www.klarna.com/.well-known/ai-plugin.json"
   ]
  },
  {
   "attachments": {},
   "cell_type": "markdown",
   "metadata": {},
   "source": [
    "```\n",
    "{\n",
    "  \"schema_version\": \"v1\",\n",
    "  \"name_for_model\": \"KlarnaProducts\",\n",
    "  \"name_for_human\": \"Klarna Shopping\",\n",
    "  \"description_for_human\": \"Search and compare prices from thousands of online shops.\",\n",
    "  \"description_for_model\": \"Assistant uses the Klarna plugin to get relevant product suggestions for any shopping or product discovery purpose. Assistant will reply with the following 3 paragraphs 1) Search Results 2) Product Comparison of the Search Results 3) Followup Questions. The first paragraph contains a list of the products with their attributes listed clearly and concisely as bullet points under the product, together with a link to the product and an explanation. Links will always be returned and should be shown to the user. The second paragraph compares the results returned in a summary sentence starting with \\\"In summary\\\". Assistant comparisons consider only the most important features of the products that will help them fit the users request, and each product mention is brief, short and concise. In the third paragraph assistant always asks helpful follow-up questions and end with a question mark. When assistant is asking a follow-up question, it uses it's product expertise to provide information pertaining to the subject of the user's request that may guide them in their search for the right product.\",\n",
    "  \"api\": {\n",
    "    \"type\": \"openapi\",\n",
    "    \"url\": \"https://www.klarna.com/us/shopping/public/openai/v0/api-docs/\",\n",
    "    \"has_user_authentication\": false\n",
    "  },\n",
    "  \"auth\": {\n",
    "    \"type\": \"none\"\n",
    "  },\n",
    "  \"logo_url\": \"https://www.klarna.com/assets/sites/5/2020/04/27143923/klarna-K-150x150.jpg\",\n",
    "  \"contact_email\": \"openai-products@klarna.com\",\n",
    "  \"legal_info_url\": \"https://www.klarna.com/us/legal/\"\n",
    "}\n",
    "```"
   ]
  },
  {
   "attachments": {},
   "cell_type": "markdown",
   "metadata": {},
   "source": [
    "Os arquivos do `plug-in ChatGPT` contêm `metadados` e informações de configuração para um `plug-in AI`. Aqui está um detalhamento de cada campo:\n",
    "\n",
    "1. `\"schema_version\": \"v1\"`: especifica a versão do esquema do plug-in usado neste arquivo `JSON`, que é a versão 1.\n",
    "\n",
    "\n",
    "2. `\"name_for_model\": \"KlarnaProducts\"`: Este é o nome usado pelo modelo AI para identificar e acessar o plug-in.\n",
    "\n",
    "\n",
    "3. `\"name_for_human\": \"Klarna Shopping\"`: Este é o nome amigável do plug-in, destinado a usuários humanos.\n",
    "\n",
    "\n",
    "4. `\"description_for_human\": \"Search and compare prices from thousands of online shops\"`: Esta é uma breve descrição da finalidade do plug-in, destinada a usuários humanos.\n",
    "\n",
    "\n",
    "5. `\"description_for_model\": \"Use the Klarna plugin...\"`: Esta é uma descrição da funcionalidade do plug-in e instruções para o modelo AI sobre como usá-lo.\n",
    "\n",
    "\n",
    "6. `\"api\": {...}`: Este objeto contém informações sobre a API associada ao plug-in.\n",
    "\n",
    "\n",
    "7. `\"type\": \"openapi\"`: especifica o tipo de `API`, que é `OpenAPI` neste caso. Discutiremos a Especificação OpenAPI em breve.\n",
    "\n",
    "\n",
    "8. `\"url\": \"https://www.klarna.com/us/shopping/public/openai/v0/api-docs/\"`: a URL onde a documentação da API (que segue as especificações da OpenAPI) pode ser encontrada.\n",
    "\n",
    "\n",
    "9. `\"has_user_authentication\": false`: Indica se a API requer autenticação do usuário. Neste caso, não.\n",
    "\n",
    "\n",
    "10. `\"auth\": {...}`: contém informações sobre o método de autenticação do plug-in.\n",
    "\n",
    "\n",
    "11. `\"type\": \"none\"`: Especifica que nenhuma autenticação é necessária para este plug-in.\n",
    "\n",
    "\n",
    "12. `\"logo_url\": \"https://www.klarna.com/assets/sites/5/2020/04/27143923/klarna-K-150x150.jpg\"`: a URL onde o logotipo do plug-in pode ser encontrado.\n",
    "\n",
    "\n",
    "13. `\"contact_email\": \"openai-products@klarna.com\"`: O endereço de e-mail de contato para consultas relacionadas ao plug-in.\n",
    "\n",
    "\n",
    "14. `\"legal_info_url\": \"https://www.klarna.com/us/legal/\"`: a URL onde as informações legais relacionadas ao plug-in podem ser encontradas.\n",
    "\n",
    "\n",
    "Este arquivo `JSON` serve como um arquivo de configuração e metadados para o `plug-in Klarna Shopping ChatGPT`, fornecendo ao modelo AI e aos usuários humanos as informações necessárias sobre a finalidade, o uso, os detalhes do contrato e a especificação OpenAPI do plug-in."
   ]
  },
  {
   "attachments": {},
   "cell_type": "markdown",
   "metadata": {},
   "source": [
    "# A Especificação OpenAPI"
   ]
  },
  {
   "attachments": {},
   "cell_type": "markdown",
   "metadata": {},
   "source": [
    "A Especificação OpenAPI (`OAS`), anteriormente conhecida como `Swagger`, é um formato de descrição de API padronizado e amplamente adotado para `APIs RESTful`. Ele fornece uma maneira legível por humanos e legível por máquina para descrever, documentar e compartilhar os detalhes de endpoints de uma API, formatos de solicitação e resposta, autenticação e outras informações importantes. Ao usar a Especificação OpenAPI, os desenvolvedores podem criar e consumir APIs com mais eficiência, enquanto as ferramentas podem gerar código, documentação e testes automaticamente.\n",
    "\n",
    "A `Especificação OpenAPI` consiste em vários componentes principais, descritos em detalhes abaixo:"
   ]
  },
  {
   "attachments": {},
   "cell_type": "markdown",
   "metadata": {},
   "source": [
    "```\n",
    "openapi: 3.0.1\n",
    "info:\n",
    "  title: TODO Plugin\n",
    "  description: A plugin that allows the user to create and manage a TODO list using ChatGPT.\n",
    "  version: 'v1'\n",
    "servers:\n",
    "  - url: http://localhost:3000\n",
    "paths:\n",
    "  /todos:\n",
    "    get:\n",
    "      operationId: getTodos\n",
    "      summary: Get the list of todos\n",
    "      responses:\n",
    "        \"200\":\n",
    "          description: OK\n",
    "          content:\n",
    "            application/json:\n",
    "              schema:\n",
    "                $ref: '#/components/schemas/getTodosResponse'\n",
    "components:\n",
    "  schemas:\n",
    "    getTodosResponse:\n",
    "      type: object\n",
    "      properties:\n",
    "        todos:\n",
    "          type: array\n",
    "          items:\n",
    "            type: string\n",
    "          description: The list of todos.\n",
    "```"
   ]
  },
  {
   "attachments": {},
   "cell_type": "markdown",
   "metadata": {},
   "source": [
    "`Objeto OpenAPI:` O objeto de documento raiz da especificação da API. Ele contém informações gerais sobre a API, como `versão`, `título`, `descrição` e outros `metadados`. O objeto OpenAPI inclui as seguintes propriedades principais:\n",
    "\n",
    "🤠 `openapi:` Especifica a versão do `OAS` que está sendo usada (ou seja, `“3.0.1”`).\n",
    "\n",
    "🤠 `info:` contém metadados sobre a API, como título, descrição, versão, termos de serviço, informações de contato e licença.\n",
    "\n",
    "🤠 `servers:` Uma matriz de objetos de servidor que definem a `URL` base e outros detalhes dos servidores da API.\n",
    "\n",
    "🤠 `paths:` Descreve os caminhos e operações disponíveis (<font color=\"red\">por exemplo:</font> `GET`, `PUT`, `POST`, `DELETE`) para a API.\n",
    "\n",
    "🤠 `componentes:` um contêiner para componentes reutilizáveis, como esquemas, respostas, parâmetros, corpos de solicitação e esquemas de segurança.\n",
    "\n",
    "🤠 `security:` Especifica os requisitos de segurança para a API.\n",
    "\n",
    "🤠 `tags:` Um array de Tag Objects que podem ser usados ​​para organizar e documentar as operações da API."
   ]
  },
  {
   "attachments": {},
   "cell_type": "markdown",
   "metadata": {},
   "source": [
    "### Como podemos nos conectar aos plug-ins do `ChatGPT` hoje - mesmo que NÃO sejamos um dos testadores de versão alfa limitada?\n",
    "\n",
    "Digite [LangChain](https://python.langchain.com/en/latest/) — uma `Framework` para desenvolver aplicativos alimentados por modelos de linguagem.\n",
    "\n",
    "Com o `LangChain`, nos conectaremos aos `plug-ins ChatGPT` e permitiremos que nosso `Large Language Model` (LLM) interprete as especificações OpenAPI do plug-in e se comunique com um serviço terceirizado (por exemplo: Klarna Shopping)."
   ]
  },
  {
   "attachments": {},
   "cell_type": "markdown",
   "metadata": {},
   "source": [
    "# Plug-ins ChatGPT com `LangChain`"
   ]
  },
  {
   "cell_type": "code",
   "execution_count": null,
   "metadata": {},
   "outputs": [],
   "source": []
  },
  {
   "cell_type": "code",
   "execution_count": null,
   "metadata": {},
   "outputs": [],
   "source": []
  },
  {
   "cell_type": "code",
   "execution_count": null,
   "metadata": {},
   "outputs": [],
   "source": []
  },
  {
   "cell_type": "code",
   "execution_count": null,
   "metadata": {},
   "outputs": [],
   "source": []
  },
  {
   "cell_type": "code",
   "execution_count": null,
   "metadata": {},
   "outputs": [],
   "source": []
  },
  {
   "cell_type": "code",
   "execution_count": null,
   "metadata": {},
   "outputs": [],
   "source": []
  }
 ],
 "metadata": {
  "kernelspec": {
   "display_name": "venv_LLMs",
   "language": "python",
   "name": "python3"
  },
  "language_info": {
   "name": "python",
   "version": "3.10.6"
  },
  "orig_nbformat": 4,
  "vscode": {
   "interpreter": {
    "hash": "6e1f61a9d800d8d7b3909976e7b91d21ea533d3244cb881687ab788269722b79"
   }
  }
 },
 "nbformat": 4,
 "nbformat_minor": 2
}
