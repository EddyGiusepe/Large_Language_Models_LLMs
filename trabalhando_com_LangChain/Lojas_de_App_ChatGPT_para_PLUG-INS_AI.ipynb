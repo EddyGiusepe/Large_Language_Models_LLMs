{
 "cells": [
  {
   "attachments": {},
   "cell_type": "markdown",
   "metadata": {},
   "source": [
    "<h1 align=\"center\"><font color=\"yellow\">Loja de aplicativos ChatGPT para plug-ins AI</font></h1>"
   ]
  },
  {
   "attachments": {},
   "cell_type": "markdown",
   "metadata": {},
   "source": [
    "<font color=\"yellow\">Data Scientist.: Dr.Eddy Giusepe Chirinos Isidro</font>"
   ]
  },
  {
   "attachments": {},
   "cell_type": "markdown",
   "metadata": {},
   "source": [
    "Aqui, seguiremos explorando os `plug-ins` do `ChatGPT` com `LangChain`."
   ]
  },
  {
   "attachments": {},
   "cell_type": "markdown",
   "metadata": {},
   "source": [
    "![](https://miro.medium.com/v2/resize:fit:640/format:webp/1*tTP-wYhH0s5epnA6QN22pg.png)"
   ]
  },
  {
   "attachments": {},
   "cell_type": "markdown",
   "metadata": {},
   "source": [
    "Um dos principais desafios enfrentados pelo `ChatGPT` é que seus dados de treinamento permanecem atualizados apenas até `setembro de 2021`; no entanto, o advento dos `plug-ins do ChatGPT`, como o [Browsing](https://openai.com/blog/chatgpt-plugins#browsing), abriu um novo leque de possibilidades. Esses plug-ins permitem que os usuários naveguem na Internet e coletem informações em tempo real pertinentes aos prompts de conversa, superando efetivamente essa limitação e aprimorando a experiência geral do ChatGPT."
   ]
  },
  {
   "attachments": {},
   "cell_type": "markdown",
   "metadata": {},
   "source": [
    "# O que é um plug-in ChatGPT?"
   ]
  },
  {
   "attachments": {},
   "cell_type": "markdown",
   "metadata": {},
   "source": [
    "<font color=\"red\">Atualmente disponível apenas em uma versão alfa limitada. Entre na [lista de espera](https://openai.com/waitlist/plugins).</font>\n",
    "\n",
    "\n",
    "Plugins são ferramentas que ajudam a melhorar as habilidades do `ChatGPT`. Eles coletam informações atualizadas e conectam-se a serviços externos, permitindo que os `usuários interajam com diferentes plataformas`, como `lojas online`, `calculadoras`, `blogs` e `aplicativos da web usando o ChatGPT`.\n",
    "\n",
    "Para desenvolvedores, plug-ins são especificações OpenAPI que se conectam a APIs.\n",
    "\n",
    "Você também pode pensar em plug-ins como em aplicativos em seu smartphone. Os aplicativos ampliam os recursos do seu telefone e podem ser instalados por meio de uma `App Store`."
   ]
  },
  {
   "attachments": {},
   "cell_type": "markdown",
   "metadata": {},
   "source": [
    "# App Store (para plug-ins ChatGPT)"
   ]
  },
  {
   "attachments": {},
   "cell_type": "markdown",
   "metadata": {},
   "source": [
    "Aqui está uma amostra dos `plugins ChatGPT` iniciais disponíveis para instalação hoje."
   ]
  },
  {
   "attachments": {},
   "cell_type": "markdown",
   "metadata": {},
   "source": [
    "![](https://miro.medium.com/v2/resize:fit:1100/format:webp/1*mTSIqPf0PP5vpKoRozIGaQ.png)"
   ]
  },
  {
   "attachments": {},
   "cell_type": "markdown",
   "metadata": {},
   "source": [
    "A criação de uma loja de aplicativos oferece vários benefícios principais para desenvolvedores, usuários e proprietários de plataformas:\n",
    "\n",
    "😎 `Mercado centralizado:` uma loja de aplicativos oferece uma plataforma centralizada para que os desenvolvedores distribuam seus aplicativos e para que os usuários os descubram e baixem.\n",
    "\n",
    "😎 `Oportunidades de monetização:` as lojas de aplicativos (`App Stores`) permitem que os desenvolvedores monetizem seus aplicativos por meio de vários modelos de negócios, incluindo plug-ins pagos, compras no aplicativo, assinaturas e publicidade.\n",
    "\n",
    "😎 `Análise e insights:` as lojas de aplicativos fornecem aos desenvolvedores análises e insights valiosos sobre o desempenho do aplicativo, o envolvimento do usuário e a receita. Esses dados ajudam os desenvolvedores a entender o desempenho de seus plug-ins, identificar áreas de melhoria e tomar decisões baseadas em dados para otimizar o sucesso de seus plug-ins.\n",
    "\n",
    "\n",
    "Ao criar uma loja de aplicativos para plug-ins, desenvolvedores, usuários e proprietários de plataformas podem se beneficiar de um ecossistema mais simplificado, seguro e potencialmente lucrativo que promove inovação e crescimento.\n",
    "\n",
    "Para começar a desenvolver seus próprios plug-ins ChatGPT, vamos dar uma olhada em um dos plug-ins iniciais, `Klarna Shopping`.\n",
    "\n"
   ]
  },
  {
   "attachments": {},
   "cell_type": "markdown",
   "metadata": {},
   "source": [
    "# Exemplo de plug-in ChatGPT: Klarna Shopping"
   ]
  },
  {
   "attachments": {},
   "cell_type": "markdown",
   "metadata": {},
   "source": [
    "https://www.klarna.com/.well-known/ai-plugin.json"
   ]
  },
  {
   "attachments": {},
   "cell_type": "markdown",
   "metadata": {},
   "source": [
    "```\n",
    "{\n",
    "  \"schema_version\": \"v1\",\n",
    "  \"name_for_model\": \"KlarnaProducts\",\n",
    "  \"name_for_human\": \"Klarna Shopping\",\n",
    "  \"description_for_human\": \"Search and compare prices from thousands of online shops.\",\n",
    "  \"description_for_model\": \"Assistant uses the Klarna plugin to get relevant product suggestions for any shopping or product discovery purpose. Assistant will reply with the following 3 paragraphs 1) Search Results 2) Product Comparison of the Search Results 3) Followup Questions. The first paragraph contains a list of the products with their attributes listed clearly and concisely as bullet points under the product, together with a link to the product and an explanation. Links will always be returned and should be shown to the user. The second paragraph compares the results returned in a summary sentence starting with \\\"In summary\\\". Assistant comparisons consider only the most important features of the products that will help them fit the users request, and each product mention is brief, short and concise. In the third paragraph assistant always asks helpful follow-up questions and end with a question mark. When assistant is asking a follow-up question, it uses it's product expertise to provide information pertaining to the subject of the user's request that may guide them in their search for the right product.\",\n",
    "  \"api\": {\n",
    "    \"type\": \"openapi\",\n",
    "    \"url\": \"https://www.klarna.com/us/shopping/public/openai/v0/api-docs/\",\n",
    "    \"has_user_authentication\": false\n",
    "  },\n",
    "  \"auth\": {\n",
    "    \"type\": \"none\"\n",
    "  },\n",
    "  \"logo_url\": \"https://www.klarna.com/assets/sites/5/2020/04/27143923/klarna-K-150x150.jpg\",\n",
    "  \"contact_email\": \"openai-products@klarna.com\",\n",
    "  \"legal_info_url\": \"https://www.klarna.com/us/legal/\"\n",
    "}\n",
    "```"
   ]
  },
  {
   "attachments": {},
   "cell_type": "markdown",
   "metadata": {},
   "source": [
    "Os arquivos do `plug-in ChatGPT` contêm `metadados` e informações de configuração para um `plug-in AI`. Aqui está um detalhamento de cada campo:\n",
    "\n",
    "1. `\"schema_version\": \"v1\"`: especifica a versão do esquema do plug-in usado neste arquivo `JSON`, que é a versão 1.\n",
    "\n",
    "\n",
    "2. `\"name_for_model\": \"KlarnaProducts\"`: Este é o nome usado pelo modelo AI para identificar e acessar o plug-in.\n",
    "\n",
    "\n",
    "3. `\"name_for_human\": \"Klarna Shopping\"`: Este é o nome amigável do plug-in, destinado a usuários humanos.\n",
    "\n",
    "\n",
    "4. `\"description_for_human\": \"Search and compare prices from thousands of online shops\"`: Esta é uma breve descrição da finalidade do plug-in, destinada a usuários humanos.\n",
    "\n",
    "\n",
    "5. `\"description_for_model\": \"Use the Klarna plugin...\"`: Esta é uma descrição da funcionalidade do plug-in e instruções para o modelo AI sobre como usá-lo.\n",
    "\n",
    "\n",
    "6. `\"api\": {...}`: Este objeto contém informações sobre a API associada ao plug-in.\n",
    "\n",
    "\n",
    "7. `\"type\": \"openapi\"`: especifica o tipo de `API`, que é `OpenAPI` neste caso. Discutiremos a Especificação OpenAPI em breve.\n",
    "\n",
    "\n",
    "8. `\"url\": \"https://www.klarna.com/us/shopping/public/openai/v0/api-docs/\"`: a URL onde a documentação da API (que segue as especificações da OpenAPI) pode ser encontrada.\n",
    "\n",
    "\n",
    "9. `\"has_user_authentication\": false`: Indica se a API requer autenticação do usuário. Neste caso, não.\n",
    "\n",
    "\n",
    "10. `\"auth\": {...}`: contém informações sobre o método de autenticação do plug-in.\n",
    "\n",
    "\n",
    "11. `\"type\": \"none\"`: Especifica que nenhuma autenticação é necessária para este plug-in.\n",
    "\n",
    "\n",
    "12. `\"logo_url\": \"https://www.klarna.com/assets/sites/5/2020/04/27143923/klarna-K-150x150.jpg\"`: a URL onde o logotipo do plug-in pode ser encontrado.\n",
    "\n",
    "\n",
    "13. `\"contact_email\": \"openai-products@klarna.com\"`: O endereço de e-mail de contato para consultas relacionadas ao plug-in.\n",
    "\n",
    "\n",
    "14. `\"legal_info_url\": \"https://www.klarna.com/us/legal/\"`: a URL onde as informações legais relacionadas ao plug-in podem ser encontradas.\n",
    "\n",
    "\n",
    "Este arquivo `JSON` serve como um arquivo de configuração e metadados para o `plug-in Klarna Shopping ChatGPT`, fornecendo ao modelo AI e aos usuários humanos as informações necessárias sobre a finalidade, o uso, os detalhes do contrato e a especificação OpenAPI do plug-in."
   ]
  },
  {
   "attachments": {},
   "cell_type": "markdown",
   "metadata": {},
   "source": [
    "# A Especificação OpenAPI"
   ]
  },
  {
   "attachments": {},
   "cell_type": "markdown",
   "metadata": {},
   "source": [
    "A Especificação OpenAPI (`OAS`), anteriormente conhecida como `Swagger`, é um formato de descrição de API padronizado e amplamente adotado para `APIs RESTful`. Ele fornece uma maneira legível por humanos e legível por máquina para descrever, documentar e compartilhar os detalhes de endpoints de uma API, formatos de solicitação e resposta, autenticação e outras informações importantes. Ao usar a Especificação OpenAPI, os desenvolvedores podem criar e consumir APIs com mais eficiência, enquanto as ferramentas podem gerar código, documentação e testes automaticamente.\n",
    "\n",
    "A `Especificação OpenAPI` consiste em vários componentes principais, descritos em detalhes abaixo:"
   ]
  },
  {
   "attachments": {},
   "cell_type": "markdown",
   "metadata": {},
   "source": [
    "```\n",
    "openapi: 3.0.1\n",
    "info:\n",
    "  title: TODO Plugin\n",
    "  description: A plugin that allows the user to create and manage a TODO list using ChatGPT.\n",
    "  version: 'v1'\n",
    "servers:\n",
    "  - url: http://localhost:3000\n",
    "paths:\n",
    "  /todos:\n",
    "    get:\n",
    "      operationId: getTodos\n",
    "      summary: Get the list of todos\n",
    "      responses:\n",
    "        \"200\":\n",
    "          description: OK\n",
    "          content:\n",
    "            application/json:\n",
    "              schema:\n",
    "                $ref: '#/components/schemas/getTodosResponse'\n",
    "components:\n",
    "  schemas:\n",
    "    getTodosResponse:\n",
    "      type: object\n",
    "      properties:\n",
    "        todos:\n",
    "          type: array\n",
    "          items:\n",
    "            type: string\n",
    "          description: The list of todos.\n",
    "```"
   ]
  },
  {
   "attachments": {},
   "cell_type": "markdown",
   "metadata": {},
   "source": [
    "`Objeto OpenAPI:` O objeto de documento raiz da especificação da API. Ele contém informações gerais sobre a API, como `versão`, `título`, `descrição` e outros `metadados`. O objeto OpenAPI inclui as seguintes propriedades principais:\n",
    "\n",
    "🤠 `openapi:` Especifica a versão do `OAS` que está sendo usada (ou seja, `“3.0.1”`).\n",
    "\n",
    "🤠 `info:` contém metadados sobre a API, como título, descrição, versão, termos de serviço, informações de contato e licença.\n",
    "\n",
    "🤠 `servers:` Uma matriz de objetos de servidor que definem a `URL` base e outros detalhes dos servidores da API.\n",
    "\n",
    "🤠 `paths:` Descreve os caminhos e operações disponíveis (<font color=\"red\">por exemplo:</font> `GET`, `PUT`, `POST`, `DELETE`) para a API.\n",
    "\n",
    "🤠 `componentes:` um contêiner para componentes reutilizáveis, como esquemas, respostas, parâmetros, corpos de solicitação e esquemas de segurança.\n",
    "\n",
    "🤠 `security:` Especifica os requisitos de segurança para a API.\n",
    "\n",
    "🤠 `tags:` Um array de Tag Objects que podem ser usados ​​para organizar e documentar as operações da API."
   ]
  },
  {
   "attachments": {},
   "cell_type": "markdown",
   "metadata": {},
   "source": [
    "### Como podemos nos conectar aos plug-ins do `ChatGPT` hoje - mesmo que NÃO sejamos um dos testadores de versão alfa limitada?\n",
    "\n",
    "Digite [LangChain](https://python.langchain.com/en/latest/) — uma `Framework` para desenvolver aplicativos alimentados por modelos de linguagem.\n",
    "\n",
    "Com o `LangChain`, nos conectaremos aos `plug-ins ChatGPT` e permitiremos que nosso `Large Language Model` (LLM) interprete as especificações OpenAPI do plug-in e se comunique com um serviço terceirizado (por exemplo: Klarna Shopping)."
   ]
  },
  {
   "attachments": {},
   "cell_type": "markdown",
   "metadata": {},
   "source": [
    "# Plug-ins ChatGPT com `LangChain`"
   ]
  },
  {
   "attachments": {},
   "cell_type": "markdown",
   "metadata": {},
   "source": [
    "O código a seguir demonstra como criar uma instância `ChatOpenAI` personalizada, carregar plug-ins AI e executar uma cadeia de agentes específica para processar uma pergunta de entrada usando os `plug-ins OpenAI API` e `ChatGPT`."
   ]
  },
  {
   "cell_type": "code",
   "execution_count": null,
   "metadata": {},
   "outputs": [],
   "source": [
    "# Instalamos LangChain\n",
    "%pip install langchain\n",
    "%pip install openai"
   ]
  },
  {
   "cell_type": "code",
   "execution_count": null,
   "metadata": {},
   "outputs": [],
   "source": [
    "from langchain.llms import openai\n",
    "from langchain.chat_models import ChatOpenAI\n",
    "from langchain.agents import load_tools, initialize_agent\n",
    "from langchain.tools import AIPluginTool\n"
   ]
  },
  {
   "cell_type": "code",
   "execution_count": 4,
   "metadata": {},
   "outputs": [
    {
     "name": "stdout",
     "output_type": "stream",
     "text": [
      "Carregando a minha chave Key:  True\n"
     ]
    }
   ],
   "source": [
    "# Isto é quando usas o arquivo .env:\n",
    "from dotenv import load_dotenv\n",
    "import os\n",
    "print('Carregando a minha chave Key: ', load_dotenv())\n",
    "Eddy_API_KEY_OpenAI = os.environ['OPENAI_API_KEY'] "
   ]
  },
  {
   "cell_type": "code",
   "execution_count": null,
   "metadata": {},
   "outputs": [],
   "source": [
    "llm = ChatOpenAI(temperature=0, model_name=\"gpt-3.5-turbo\")\n",
    "\n",
    "tool = AIPluginTool.from_plugin_url(\"https://www.klarna.com/.well-known/ai-plugin.json\")\n",
    "tools = load_tools([\"requests\"] )\n",
    "tools += [tool]\n",
    "\n",
    "PREFIX = \"\"\"\\n\\nHumano: Responda às seguintes perguntas da melhor maneira possível. Você tem acesso às seguintes ferramentas:\"\"\"\n",
    "SUFFIX = \"\"\"Começar!\n",
    "Question: {input}\n",
    "\\n\\nAssistant:\n",
    "Thought:{agent_scratchpad}\"\"\"\n",
    "agent_arguments_prefix_suffix = {\n",
    "    \"prefix\": PREFIX, \n",
    "    \"suffix\": SUFFIX\n",
    "}\n",
    "\n",
    "agent_chain = initialize_agent(\n",
    "    tools, llm, \n",
    "    agent=\"zero-shot-react-description\", verbose=True, \n",
    "    agent_kwargs=agent_arguments_prefix_suffix\n",
    ")\n",
    "agent_chain.run(\"Quais cartões panini estão disponíveis no klarna?\")\n"
   ]
  },
  {
   "attachments": {},
   "cell_type": "markdown",
   "metadata": {},
   "source": [
    "🧐 `llm = ChatOpenAI(temperature=0, model_name=\"gpt-3.5-turbo\"):` Esta linha inicializa uma instância `ChatOpenAI` com o nome do modelo especificado (`gpt-3.5-turbo`) e a temperatura (`0`). A temperatura controla a aleatoriedade da saída da AI; um valor mais baixo como `0` torna a IA mais determinística e focada.\n",
    "\n",
    "🧐 `tool = AIPluginTool.from_plugin_url(\"https://www.klarna.com/.well-known/ai-plugin.json\"):` esta linha cria um objeto `AIPluginTool` carregando o arquivo `JSON` do plug-in AI do site da Klarna.\n",
    "\n",
    "🧐 `tools = load_tools([\"requests\"]):` esta linha carrega uma lista de ferramentas, neste caso, apenas a ferramenta `\"pedidos\"`. Esta é uma ferramenta integrada que permite que a IA faça `solicitações HTTP`.\n",
    "\n",
    "🧐 `tools += [tool]:` Esta linha adiciona o plug-in Klarna (`tool`) à lista de ferramentas disponíveis.\n",
    "\n",
    "🧐 As variáveis `PREFIX​` ​e `SUFFIX` definem o formato de `prompt` para a AI. A variável `PREFIX` informa à AI que ele tem acesso às ferramentas especificadas e deve responder às perguntas da melhor maneira possível. A variável `SUFFIX` estrutura a pergunta de entrada e a resposta usando o bloco de anotações do agente para pensamentos.\n",
    "\n",
    "🧐 `agent_arguments_prefix_suffix = {\"prefix\": PREFIX, \"suffix\": SUFFIX}:` Esta linha cria um dicionário contendo os argumentos de `prefix` e `suffix` a serem passados ​​para o agente durante a inicialização.\n",
    "\n",
    "🧐 `agent_chain = initialize_agent(tools, llm, agent=\"zero-shot-react-description\", verbose=True, agent_kwargs=agent_arguments_prefix_suffix):` Esta linha inicializa uma `cadeia de agentes` com as ferramentas especificadas, a instância `ChatOpenAI` e o tipo de agente (`zero-shot-react-description`). O argumento `verbose=True` habilita a saída detalhada durante a execução, enquanto `agent_kwargs` passa os argumentos de prefixo (`prefix`) e sufixo (`suffix`) para o agente.\n",
    "\n",
    "🧐 `agent_chain.run(\"Quais cartões panini estão disponíveis no klarna?\"):` esta linha executa a cadeia de agentes com a pergunta de entrada, \"Quais cartões panini estão disponíveis no klarna?\" A cadeia de agentes processa a pergunta, utilizando as ferramentas disponíveis (`incluindo o plug-in Klarna`) e o modelo de IA especificado para gerar uma resposta.\n",
    "\n",
    "\n",
    "Em resumo, esse código configura uma `instância ChatOpenAI personalizada`, carrega um `plug-in Klarna ChatGPT` e inicializa uma cadeia de agentes para processar a pergunta de entrada de um usuário usando o LLM, as ferramentas e o formato de prompt especificados."
   ]
  },
  {
   "attachments": {},
   "cell_type": "markdown",
   "metadata": {},
   "source": [
    "# O futuro dos plug-ins ChatGPT"
   ]
  },
  {
   "attachments": {},
   "cell_type": "markdown",
   "metadata": {},
   "source": [
    "Assim como a primeira geração da `App Store` do iPhone era limitada, o primeiro lote de plug-ins do ChatGPT também é. No entanto, se olharmos ao virar da esquina, aqui estão alguns plug-ins que espero que sejam disponibilizados para usuários do ChatGPT e desenvolvedores da OpenAI API:\n",
    "\n",
    "<font color=\"yellow\">1</font> Um plug-in que permitirá ao ChatGPT gerar imagens a partir de texto. `Midjourney` sendo acessível através do ChatGPT seria incrível.\n",
    "\n",
    "<font color=\"yellow\">2</font> Se estamos falando de arte generativa, por que não um plugin para gerar vídeos a partir de texto? `Runwayml` seria um excelente candidato.\n",
    "\n",
    "<font color=\"yellow\">3</font> As visualizações de dados estão prontas para um plug-in. Embora o `Wolfram Alpha` faça parte do lote inicial de plug-ins, podemos esperar que visualizações 3D mais sofisticadas, como o `Apache ECharts`, eventualmente se tornem integradas.\n",
    "\n",
    "<font color=\"yellow\">4</font> Com o `Wolfram Alpha` disponível, a `Wikipedia` agora deve ser antecipada.\n",
    "\n",
    "<font color=\"yellow\">5</font> Um interpretador de código `Python`, juntamente com a navegação, é um plug-in disponibilizado pela OpenAI no primeiro dia; no entanto, um interpretador de código em todas as linguagens de programação (`por exemplo:` JavaScript, Java, C++ etc.) e scripts para plataformas de nuvem (`por exemplo:` AWS, GCP e Azure) parecem inevitáveis.\n",
    "\n",
    "Olhando para o futuro, o ecossistema de plug-ins ChatGPT crescerá e se desenvolverá rapidamente, oferecendo novas oportunidades e criatividade.\n",
    "\n",
    "Os desenvolvedores farão plugins mais variados para melhores interações de IA com diferentes serviços e plataformas.\n",
    "\n",
    "Os usuários podem esperar mais personalização, experiências de usuário aprimoradas e maior utilidade, pois a comunicação baseada em IA se torna parte integrante de nossas vidas diárias.\n",
    "\n",
    "A crescente adoção de plug-ins do ChatGPT abrirá caminho para a próxima geração de soluções orientadas por IA, transformando a maneira como trabalhamos, aprendemos e interagimos com a tecnologia."
   ]
  },
  {
   "cell_type": "markdown",
   "metadata": {},
   "source": []
  }
 ],
 "metadata": {
  "kernelspec": {
   "display_name": "venv_LLMs",
   "language": "python",
   "name": "python3"
  },
  "language_info": {
   "codemirror_mode": {
    "name": "ipython",
    "version": 3
   },
   "file_extension": ".py",
   "mimetype": "text/x-python",
   "name": "python",
   "nbconvert_exporter": "python",
   "pygments_lexer": "ipython3",
   "version": "3.10.6"
  },
  "orig_nbformat": 4,
  "vscode": {
   "interpreter": {
    "hash": "6e1f61a9d800d8d7b3909976e7b91d21ea533d3244cb881687ab788269722b79"
   }
  }
 },
 "nbformat": 4,
 "nbformat_minor": 2
}
