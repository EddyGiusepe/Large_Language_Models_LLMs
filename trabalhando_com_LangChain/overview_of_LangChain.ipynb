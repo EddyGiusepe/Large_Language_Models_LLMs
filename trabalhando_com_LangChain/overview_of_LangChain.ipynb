{
 "cells": [
  {
   "attachments": {},
   "cell_type": "markdown",
   "metadata": {},
   "source": [
    "<h1 align=\"center\"><font color=\"yellow\">Uma visão geral do LangChain</font></h1>"
   ]
  },
  {
   "attachments": {},
   "cell_type": "markdown",
   "metadata": {},
   "source": [
    "<font color=\"yellow\">Data Scientist.: Dr.Eddy Giusepe Chirinos Isidro</font>"
   ]
  },
  {
   "attachments": {},
   "cell_type": "markdown",
   "metadata": {},
   "source": [
    "# Contextualizando"
   ]
  },
  {
   "attachments": {},
   "cell_type": "markdown",
   "metadata": {},
   "source": [
    "LangChain, é uma ferramenta de código aberto e adicionou recentemente `Plugins ChatGPT`. Ele fornece tantos recursos que considero úteis:\n",
    "\n",
    "\n",
    "🤗 integração com vários fornecedores de `LLM`, incluindo `OpenAI`, `Cohere`, `Huggingface` e muito mais.\n",
    "\n",
    "🤗 crie um bot de `Question-Answering` ou `Text Summarization` com seu próprio documento\n",
    "\n",
    "🤗 forneça o `plug-in` OpenAI ChatGPT Retriever\n",
    "\n",
    "🤗 lide com o histórico de bate-papo com memória LangChain\n",
    "\n",
    "🤗 encadeie vários `LLMs` e use `LLMs` com um conjunto de ferramentas como `Google Search`, `Python REPL` e muito mais.\n",
    "\n",
    "\n",
    "\n",
    "O mais incrível é que o `LangChain` é de código aberto e é um esforço da comunidade. Nesta postagem, a [Cientista de Dados Sênior: Sophia Yang](https://www.youtube.com/SophiaYangDS), abordará 6 funcionalidades do `LangChain`.\n",
    "\n"
   ]
  },
  {
   "attachments": {},
   "cell_type": "markdown",
   "metadata": {},
   "source": [
    "# <font color=\"yellow\">1.</font> LangChain integra-se com muitos fornecedores de `LLM`"
   ]
  },
  {
   "attachments": {},
   "cell_type": "markdown",
   "metadata": {},
   "source": [
    "Com a mesma interface, você obtém acesso a muitos modelos `LLM` de vários provedores LLM, incluindo `OpenAI`, `Cohere`, `AI21`, `Huggingface Hub`, `Azure OpenAI`, `Manifest`, `Goose AI`, `Writer`, `Banana`, `Modal`, `StochasticAI`, `Cerebrium`, `Petals`, `Forefront AI`, `PromptLayer Modelos OpenAI`, `Anthropic`, `DeepInfra` e `auto-hospedados`.\n",
    "\n",
    "Aqui está um exemplo de acesso ao `modelo OpenAI ChatGPT` e ao `modelo GPT3`, ao `modelo command-xlarge do Cohere` e ao `modelo Flan T5` do Google hospedado no `Hugging Face Hub`."
   ]
  },
  {
   "cell_type": "code",
   "execution_count": null,
   "metadata": {},
   "outputs": [],
   "source": [
    "# Instalamos as bibliotecas\n",
    "%pip install langchain openai cohere huggingface_hub ipywidgets chromadb google-search-results\n"
   ]
  },
  {
   "cell_type": "code",
   "execution_count": 8,
   "metadata": {},
   "outputs": [],
   "source": [
    "import os\n",
    "import langchain\n",
    "from langchain.llms import OpenAI, Cohere, HuggingFaceHub\n",
    "from langchain.chat_models import ChatOpenAI\n",
    "from langchain.schema import (\n",
    "    AIMessage,\n",
    "    HumanMessage,\n",
    "    SystemMessage\n",
    ")\n"
   ]
  },
  {
   "cell_type": "code",
   "execution_count": 9,
   "metadata": {},
   "outputs": [
    {
     "name": "stdout",
     "output_type": "stream",
     "text": [
      "Carregando a minha chave Key:  True\n"
     ]
    }
   ],
   "source": [
    "# Isto é quando usas o arquivo .env:\n",
    "import openai \n",
    "from dotenv import load_dotenv\n",
    "import os\n",
    "print('Carregando a minha chave Key: ', load_dotenv())\n",
    "Eddy_API_KEY_OpenAI = os.environ['OPENAI_API_KEY']  \n",
    "Eddy_API_KEY_Cohere = os.environ[\"COHERE_API_KEY\"]\n",
    "Eddy_API_KEY_HuggingFace = os.environ[\"HUGGINGFACEHUB_API_TOKEN\"]\n",
    "#Eddy_API_KEY_SerpApi = os.environ[\"SERPAPI_API_KEY\"]"
   ]
  },
  {
   "attachments": {},
   "cell_type": "markdown",
   "metadata": {},
   "source": [
    "<font color=\"orange\">Então podemos dar um `prompt` para cada um desses modelos (a seguir) e ver o que eles retornam. Uma coisa a observar é que, para modelos de bate-papo, podemos especificar se a mensagem é uma `mensagem humana`, uma `mensagem de IA` ou uma `mensagem do sistema`. É por isso que, para o modelo `ChatGPT, especifiquei minha mensagem como uma mensagem humana`.</font>"
   ]
  },
  {
   "cell_type": "code",
   "execution_count": 22,
   "metadata": {},
   "outputs": [],
   "source": [
    "text = \"Como é ser feliz?\""
   ]
  },
  {
   "attachments": {},
   "cell_type": "markdown",
   "metadata": {},
   "source": [
    "## <font color=\"red\">Modelo ChatGPT</font>"
   ]
  },
  {
   "cell_type": "code",
   "execution_count": 23,
   "metadata": {},
   "outputs": [],
   "source": [
    "chatgpt = ChatOpenAI(model_name='gpt-3.5-turbo')"
   ]
  },
  {
   "cell_type": "code",
   "execution_count": 24,
   "metadata": {},
   "outputs": [
    {
     "name": "stdout",
     "output_type": "stream",
     "text": [
      "content='Como sou uma inteligência artificial, não possuo a capacidade de sentir emoções. Ser feliz pode ser descrito como ter uma sensação de satisfação, alegria, contentamento e bem-estar em relação à sua vida e às coisas que a cercam. Isso pode ser alcançado por meio de diversas experiências positivas, como relacionamentos saudáveis, realização pessoal, conquistas profissionais, atividades de lazer, entre outros. Cada pessoa pode ter sua própria definição e caminho para a felicidade.' additional_kwargs={}\n"
     ]
    }
   ],
   "source": [
    "print(chatgpt([HumanMessage(content=text)]))"
   ]
  },
  {
   "attachments": {},
   "cell_type": "markdown",
   "metadata": {},
   "source": [
    "## <font color=\"red\">Modelo GPT3</font>"
   ]
  },
  {
   "cell_type": "code",
   "execution_count": 25,
   "metadata": {},
   "outputs": [],
   "source": [
    "gpt3 = OpenAI(model_name='text-davinci-003')"
   ]
  },
  {
   "cell_type": "code",
   "execution_count": 26,
   "metadata": {},
   "outputs": [
    {
     "name": "stdout",
     "output_type": "stream",
     "text": [
      "\n",
      "\n",
      "Ser feliz é um estado de espírito que vem de dentro. Para alcançar esse estado, é preciso encontrar um propósito, ter relacionamentos saudáveis, cuidar da saúde, buscar o equilíbrio emocional e mental, além de praticar atividades que trazem satisfação e prazer. É importante cuidar de si mesmo, aceitando seus sentimentos e emoções, aprendendo a expressá-los de forma adequada, e cultivando o otimismo.\n"
     ]
    }
   ],
   "source": [
    "print(gpt3(text))"
   ]
  },
  {
   "attachments": {},
   "cell_type": "markdown",
   "metadata": {},
   "source": [
    "## <font color=\"red\">Modelo Cohere</font>"
   ]
  },
  {
   "cell_type": "code",
   "execution_count": 29,
   "metadata": {},
   "outputs": [],
   "source": [
    "cohere = Cohere(model='command-xlarge')"
   ]
  },
  {
   "cell_type": "code",
   "execution_count": 30,
   "metadata": {},
   "outputs": [
    {
     "name": "stdout",
     "output_type": "stream",
     "text": [
      "\n",
      "É ser feliz.\n"
     ]
    }
   ],
   "source": [
    "print(cohere(text))"
   ]
  },
  {
   "attachments": {},
   "cell_type": "markdown",
   "metadata": {},
   "source": [
    "## <font color=\"red\">Modelo Flan</font>"
   ]
  },
  {
   "cell_type": "code",
   "execution_count": 13,
   "metadata": {},
   "outputs": [],
   "source": [
    "flan = HuggingFaceHub(repo_id=\"google/flan-t5-xl\")"
   ]
  },
  {
   "cell_type": "code",
   "execution_count": 31,
   "metadata": {},
   "outputs": [
    {
     "name": "stdout",
     "output_type": "stream",
     "text": [
      "eu no tenho ninguém que \n"
     ]
    }
   ],
   "source": [
    "print(flan(text))"
   ]
  },
  {
   "attachments": {},
   "cell_type": "markdown",
   "metadata": {},
   "source": [
    "# <font color=\"yellow\">2.</font> Resposta a perguntas com documentos externos"
   ]
  },
  {
   "attachments": {},
   "cell_type": "markdown",
   "metadata": {},
   "source": []
  },
  {
   "cell_type": "code",
   "execution_count": null,
   "metadata": {},
   "outputs": [],
   "source": []
  }
 ],
 "metadata": {
  "kernelspec": {
   "display_name": "venv_LLMs",
   "language": "python",
   "name": "python3"
  },
  "language_info": {
   "codemirror_mode": {
    "name": "ipython",
    "version": 3
   },
   "file_extension": ".py",
   "mimetype": "text/x-python",
   "name": "python",
   "nbconvert_exporter": "python",
   "pygments_lexer": "ipython3",
   "version": "3.10.6"
  },
  "orig_nbformat": 4,
  "vscode": {
   "interpreter": {
    "hash": "6e1f61a9d800d8d7b3909976e7b91d21ea533d3244cb881687ab788269722b79"
   }
  }
 },
 "nbformat": 4,
 "nbformat_minor": 2
}
