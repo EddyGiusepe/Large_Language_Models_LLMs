{
 "cells": [
  {
   "attachments": {},
   "cell_type": "markdown",
   "metadata": {},
   "source": [
    "<h1 align=\"center\"><font color=\"yellow\">Uma visão geral do LangChain</font></h1>"
   ]
  },
  {
   "attachments": {},
   "cell_type": "markdown",
   "metadata": {},
   "source": [
    "<font color=\"yellow\">Data Scientist.: Dr.Eddy Giusepe Chirinos Isidro</font>"
   ]
  },
  {
   "attachments": {},
   "cell_type": "markdown",
   "metadata": {},
   "source": [
    "# Contextualizando"
   ]
  },
  {
   "attachments": {},
   "cell_type": "markdown",
   "metadata": {},
   "source": [
    "LangChain, é uma ferramenta de código aberto e adicionou recentemente `Plugins ChatGPT`. Ele fornece tantos recursos que considero úteis:\n",
    "\n",
    "\n",
    "🤗 integração com vários fornecedores de `LLM`, incluindo `OpenAI`, `Cohere`, `Huggingface` e muito mais.\n",
    "\n",
    "🤗 crie um bot de `Question-Answering` ou `Text Summarization` com seu próprio documento\n",
    "\n",
    "🤗 forneça o `plug-in` OpenAI ChatGPT Retriever\n",
    "\n",
    "🤗 lide com o histórico de bate-papo com memória LangChain\n",
    "\n",
    "🤗 encadeie vários `LLMs` e use `LLMs` com um conjunto de ferramentas como `Google Search`, `Python REPL` e muito mais.\n",
    "\n",
    "\n",
    "\n",
    "O mais incrível é que o `LangChain` é de código aberto e é um esforço da comunidade. Nesta postagem, a [Cientista de Dados Sênior: Sophia Yang](https://www.youtube.com/SophiaYangDS), abordará 6 funcionalidades do `LangChain`.\n",
    "\n"
   ]
  },
  {
   "attachments": {},
   "cell_type": "markdown",
   "metadata": {},
   "source": [
    "# <font color=\"yellow\">1.</font> LangChain integra-se com muitos fornecedores de `LLM`"
   ]
  },
  {
   "attachments": {},
   "cell_type": "markdown",
   "metadata": {},
   "source": [
    "Com a mesma interface, você obtém acesso a muitos modelos `LLM` de vários provedores LLM, incluindo `OpenAI`, `Cohere`, `AI21`, `Huggingface Hub`, `Azure OpenAI`, `Manifest`, `Goose AI`, `Writer`, `Banana`, `Modal`, `StochasticAI`, `Cerebrium`, `Petals`, `Forefront AI`, `PromptLayer Modelos OpenAI`, `Anthropic`, `DeepInfra` e `auto-hospedados`.\n",
    "\n",
    "Aqui está um exemplo de acesso ao `modelo OpenAI ChatGPT` e ao `modelo GPT3`, ao `modelo command-xlarge do Cohere` e ao `modelo Flan T5` do Google hospedado no `Hugging Face Hub`."
   ]
  },
  {
   "cell_type": "code",
   "execution_count": null,
   "metadata": {},
   "outputs": [],
   "source": [
    "# Instalamos as bibliotecas\n",
    "%pip install langchain openai cohere huggingface_hub ipywidgets chromadb google-search-results\n"
   ]
  },
  {
   "cell_type": "code",
   "execution_count": 2,
   "metadata": {},
   "outputs": [],
   "source": [
    "import os\n",
    "import langchain\n",
    "from langchain.llms import OpenAI, Cohere, HuggingFaceHub\n",
    "from langchain.chat_models import ChatOpenAI\n",
    "from langchain.schema import (\n",
    "    AIMessage,\n",
    "    HumanMessage,\n",
    "    SystemMessage\n",
    ")\n"
   ]
  },
  {
   "cell_type": "code",
   "execution_count": 3,
   "metadata": {},
   "outputs": [
    {
     "name": "stdout",
     "output_type": "stream",
     "text": [
      "Carregando a minha chave Key:  True\n"
     ]
    }
   ],
   "source": [
    "# Isto é quando usas o arquivo .env:\n",
    "import openai \n",
    "from dotenv import load_dotenv\n",
    "import os\n",
    "print('Carregando a minha chave Key: ', load_dotenv())\n",
    "Eddy_API_KEY_OpenAI = os.environ['OPENAI_API_KEY']  \n",
    "Eddy_API_KEY_Cohere = os.environ[\"COHERE_API_KEY\"]\n",
    "Eddy_API_KEY_HuggingFace = os.environ[\"HUGGINGFACEHUB_API_TOKEN\"]\n",
    "#Eddy_API_KEY_SerpApi = os.environ[\"SERPAPI_API_KEY\"]"
   ]
  },
  {
   "attachments": {},
   "cell_type": "markdown",
   "metadata": {},
   "source": [
    "<font color=\"orange\">Então podemos dar um `prompt` para cada um desses modelos (a seguir) e ver o que eles retornam. Uma coisa a observar é que, para modelos de bate-papo, podemos especificar se a mensagem é uma `mensagem humana`, uma `mensagem de IA` ou uma `mensagem do sistema`. É por isso que, para o modelo `ChatGPT, especifiquei minha mensagem como uma mensagem humana`.</font>"
   ]
  },
  {
   "cell_type": "code",
   "execution_count": 4,
   "metadata": {},
   "outputs": [],
   "source": [
    "text = \"Como é ser feliz?\""
   ]
  },
  {
   "attachments": {},
   "cell_type": "markdown",
   "metadata": {},
   "source": [
    "## <font color=\"red\">Modelo ChatGPT</font>"
   ]
  },
  {
   "cell_type": "code",
   "execution_count": 5,
   "metadata": {},
   "outputs": [],
   "source": [
    "chatgpt = ChatOpenAI(model_name='gpt-3.5-turbo')"
   ]
  },
  {
   "cell_type": "code",
   "execution_count": 6,
   "metadata": {},
   "outputs": [
    {
     "name": "stdout",
     "output_type": "stream",
     "text": [
      "content='Como sou uma inteligência artificial, não sou capaz de experimentar emoções como um ser humano. No entanto, posso explicar que a felicidade é um estado de espírito em que uma pessoa se sente satisfeita, grata e alegre com sua vida. Ela pode ser alcançada de várias maneiras, como cultivando relações saudáveis, praticando atividades que trazem prazer, buscando e alcançando seus objetivos e metas pessoais, estando em paz consigo mesma, entre outras. Cada indivíduo experimenta a felicidade de maneira diferente, mas é um estado que todos buscam e que pode trazer muita satisfação e bem-estar.' additional_kwargs={}\n"
     ]
    }
   ],
   "source": [
    "print(chatgpt([HumanMessage(content=text)]))"
   ]
  },
  {
   "attachments": {},
   "cell_type": "markdown",
   "metadata": {},
   "source": [
    "## <font color=\"red\">Modelo GPT3</font>"
   ]
  },
  {
   "cell_type": "code",
   "execution_count": 7,
   "metadata": {},
   "outputs": [],
   "source": [
    "gpt3 = OpenAI(model_name='text-davinci-003')"
   ]
  },
  {
   "cell_type": "code",
   "execution_count": 8,
   "metadata": {},
   "outputs": [
    {
     "name": "stdout",
     "output_type": "stream",
     "text": [
      "\n",
      "\n",
      "Ser feliz é sentir-se plenamente realizado e satisfeito com a sua vida, ter um senso de propósito e alegria, e aproveitar o momento presente. É também sentir-se conectado aos outros e à natureza e apreciar as pequenas coisas da vida. Significa ter esperança e otimismo para o futuro.\n"
     ]
    }
   ],
   "source": [
    "print(gpt3(text))"
   ]
  },
  {
   "attachments": {},
   "cell_type": "markdown",
   "metadata": {},
   "source": [
    "## <font color=\"red\">Modelo Cohere</font>"
   ]
  },
  {
   "cell_type": "code",
   "execution_count": 9,
   "metadata": {},
   "outputs": [],
   "source": [
    "cohere = Cohere(model='command-xlarge')"
   ]
  },
  {
   "cell_type": "code",
   "execution_count": 10,
   "metadata": {},
   "outputs": [
    {
     "name": "stdout",
     "output_type": "stream",
     "text": [
      "\n",
      "Essa pergunta é muito interessante. Eu acho que ser feliz é respeitar as suas belezas e suas vertentes, lidar com as suas falhas, pasmando pelas suas situações, e sentindo que, nos seus momentos mais difíceis, algo \"outside\" o teu controle estará a ajudá-lo a ultrapassar esses momentos. Seja feliz significa sentir o seu lado humano, sentindo aos poucos que temos a satisfação de \"conquistá-lo\", e ao mesmo tempo ter a certeza de que, no entanto, algum outro homem poderá \"conquistá-lo\", apesar de tudo o que nós temos e o que podemos fazer. Seja feliz é acreditar.\n",
      "Being happy is ...\n",
      "this is a very interesting question. I think being happy is showing respect for your beauty and your facets, dealing with your flaws, going through your situations, and feeling that, in your most difficult moments, something \"outside\" your control will help you overcome these moments. Being happy means feeling human, feeling from time to time that we have the satisfaction of \"conquering\" it, and at the same time feeling that, however, another man could\n"
     ]
    }
   ],
   "source": [
    "print(cohere(text))"
   ]
  },
  {
   "attachments": {},
   "cell_type": "markdown",
   "metadata": {},
   "source": [
    "## <font color=\"red\">Modelo Flan</font>"
   ]
  },
  {
   "cell_type": "code",
   "execution_count": 11,
   "metadata": {},
   "outputs": [],
   "source": [
    "flan = HuggingFaceHub(repo_id=\"google/flan-t5-xl\")"
   ]
  },
  {
   "cell_type": "code",
   "execution_count": 12,
   "metadata": {},
   "outputs": [
    {
     "name": "stdout",
     "output_type": "stream",
     "text": [
      "eu no tenho ninguém que \n"
     ]
    }
   ],
   "source": [
    "print(flan(text))"
   ]
  },
  {
   "attachments": {},
   "cell_type": "markdown",
   "metadata": {},
   "source": [
    "# <font color=\"yellow\">2.</font> Resposta a perguntas com documentos externos"
   ]
  },
  {
   "attachments": {},
   "cell_type": "markdown",
   "metadata": {},
   "source": [
    "Você está interessado em criar um `bot` de resposta a perguntas com documentos externos? Seus documentos são salvos em `PDF`, `arquivo txt` ou `mesmo Notion`? E se eu quiser fazer perguntas e respostas com vídeos do YouTube?\n",
    "\n",
    "Sem problemas, a `LangChain` cuida de você. LangChain fornece muitos carregadores de documentos: `File Loader`, `Directory Loader`, `Notion`, `ReadTheDocs`, `HTML`, `PDF`, `PowerPoint`, `Email`, `GoogleDrive`, `Obsidian`, `Roam`, `EverNote`, `YouTube`, `Hacker News`, `GitBook`, `Arquivo S3`, `Diretório S3`, `Arquivo GCS`, `GCS Directory`, `Web Base`, `IMSDb`, `AZLyrics`, `College Confidential`, `Gutenberg`, `Airbyte Json`, `CoNLL-U`, `iFixit`, `Notebook`, `Copypaste`, `CSV`, `Facebook Chat`, `Image`, `Markdown`, `SRT`, `Telegram`, `URL`, `Word Document`, `Blackboard`. <font color=\"orange\">Você tem outra fonte que não está listada aqui? Você pode contribuir e adicionar ao LangChain, pois é de código aberto!</font>\n",
    "\n",
    "\n",
    "Aqui está um exemplo em que usamos o `TextLoader` para carregar um `arquivo txt local`, criar o `índice VectoreStore` e fazer uma query do seu índice. Intuitivamente, seus documentos serão divididos e incorporados em vetores e armazenados em um `banco de dados de vetores`. A `query` localiza qual vetor está mais próximo do vetor da pergunta no banco de dados de vetores."
   ]
  },
  {
   "cell_type": "code",
   "execution_count": 13,
   "metadata": {},
   "outputs": [
    {
     "data": {
      "text/plain": [
       "<langchain.document_loaders.text.TextLoader at 0x7f29978f2ad0>"
      ]
     },
     "execution_count": 13,
     "metadata": {},
     "output_type": "execute_result"
    }
   ],
   "source": [
    "# Carregamos nosso documento:\n",
    "from langchain.document_loaders import TextLoader\n",
    "loader = TextLoader('./estado_da_Uniao.txt')\n",
    "loader\n"
   ]
  },
  {
   "cell_type": "code",
   "execution_count": 14,
   "metadata": {},
   "outputs": [
    {
     "name": "stderr",
     "output_type": "stream",
     "text": [
      "Using embedded DuckDB without persistence: data will be transient\n"
     ]
    }
   ],
   "source": [
    "from langchain.indexes import VectorstoreIndexCreator\n",
    "\n",
    "index = VectorstoreIndexCreator().from_loaders([loader])"
   ]
  },
  {
   "cell_type": "code",
   "execution_count": 15,
   "metadata": {},
   "outputs": [
    {
     "data": {
      "text/plain": [
       "' O presidente disse que ela é uma das maiores mentes jurídicas de nosso país e que ela continuará o legado de excelência do juiz Breyer. Ele também disse que ela é um ex-litigante superior em prática privada, ex-defensor público federal e de uma família de educadores de escola pública e policiais. Ele disse que ela é um construtor de consenso e que recebeu amplo apoio desde que foi nomeada.'"
      ]
     },
     "execution_count": 15,
     "metadata": {},
     "output_type": "execute_result"
    }
   ],
   "source": [
    "query = \"O que o presidente disse sobre Ketanji Brown Jackson\"\n",
    "index.query(query)\n"
   ]
  },
  {
   "attachments": {},
   "cell_type": "markdown",
   "metadata": {},
   "source": [
    "<font color=\"orange\">A notícia empolgante é que o `LangChain` integrou recentemente o `plug-in de recuperação ChatGPT` para que as pessoas possam usar esse recuperador em vez de um índice. Qual é a diferença entre um `índice` e um `recuperador`(retriever)? De acordo com `LangChain`, “Um índice é uma estrutura de dados que oferece suporte à pesquisa eficiente, `e um recuperador é o componente que usa o índice para localizar e retornar documentos relevantes em resposta à consulta de um usuário`. O índice é um componente chave do qual o retriever depende para desempenhar sua função.”</font>"
   ]
  },
  {
   "attachments": {},
   "cell_type": "markdown",
   "metadata": {},
   "source": [
    "# <font color=\"yellow\">3.</font> Manter/resumir o histórico de bate-papo (Chat)"
   ]
  },
  {
   "attachments": {},
   "cell_type": "markdown",
   "metadata": {},
   "source": [
    "<font color=\"orange\">Quando você conversa com o ChatGPT, ele não mantém seu histórico de bate-papo.</font> Você precisará copiar e colar seu chat no novo prompt para deixá-lo ciente do histórico. O `LangChain` resolve esse problema fornecendo várias opções diferentes para lidar com o histórico de bate-papo - `manter todas as conversas`, `manter as k conversas mais recentes`, `resumir a conversa` e uma combinação dos itens acima.\n",
    "\n",
    "Aqui está um exemplo onde usamos `ConversationBufferWindowMemory` para manter a última rodada de conversa, usamos `ConversationSummaryMemory` para resumir conversas anteriores e usamos `CombinedMemory` para combinar dois métodos:"
   ]
  },
  {
   "cell_type": "code",
   "execution_count": 20,
   "metadata": {},
   "outputs": [],
   "source": [
    "from langchain.llms import OpenAI\n",
    "from langchain.prompts import PromptTemplate\n",
    "from langchain.chains import ConversationChain\n",
    "from langchain.memory import ConversationBufferWindowMemory, CombinedMemory, ConversationSummaryMemory\n",
    "\n",
    "\n",
    "conv_memory = ConversationBufferWindowMemory(\n",
    "    memory_key=\"chat_history_lines\",\n",
    "    input_key=\"input\",\n",
    "    k=1\n",
    "    )\n",
    "\n",
    "summary_memory = ConversationSummaryMemory(\n",
    "    llm=OpenAI(),\n",
    "    input_key=\"input\"\n",
    "    )\n",
    "\n",
    "# Combinado\n",
    "memory = CombinedMemory(memories=[conv_memory, summary_memory])\n",
    "\n",
    "_DEFAULT_TEMPLATE = \"\"\"O que se segue é uma conversa amigável entre um humano e uma IA. A IA é falante e fornece muitos detalhes específicos de seu contexto. Se a IA não souber a resposta para uma pergunta, ela diz com sinceridade que não sabe.\n",
    "\n",
    "Summary of conversation:\n",
    "{history}\n",
    "Current conversation:\n",
    "{chat_history_lines}\n",
    "Human: {input}\n",
    "AI:\"\"\"\n",
    "\n",
    "PROMPT = PromptTemplate(\n",
    "    input_variables=[\"history\", \"input\", \"chat_history_lines\"], template=_DEFAULT_TEMPLATE\n",
    ")\n",
    "\n",
    "llm = OpenAI(temperature=0)\n",
    "\n",
    "conversation = ConversationChain(\n",
    "    llm=llm, \n",
    "    verbose=True, \n",
    "    memory=memory,\n",
    "    prompt=PROMPT\n",
    ")\n"
   ]
  },
  {
   "attachments": {},
   "cell_type": "markdown",
   "metadata": {},
   "source": [
    "<font color=\"orange\">Aqui está o resultado onde você pode ver o `resumo da conversa` e a `última conversa passada` para o prompt.</font>"
   ]
  },
  {
   "cell_type": "code",
   "execution_count": 21,
   "metadata": {},
   "outputs": [
    {
     "name": "stdout",
     "output_type": "stream",
     "text": [
      "\n",
      "\n",
      "\u001b[1m> Entering new ConversationChain chain...\u001b[0m\n",
      "Prompt after formatting:\n",
      "\u001b[32;1m\u001b[1;3mO que se segue é uma conversa amigável entre um humano e uma IA. A IA é falante e fornece muitos detalhes específicos de seu contexto. Se a IA não souber a resposta para uma pergunta, ela diz com sinceridade que não sabe.\n",
      "\n",
      "Summary of conversation:\n",
      "\n",
      "Current conversation:\n",
      "\n",
      "Human: Olá!\n",
      "AI:\u001b[0m\n",
      "\n",
      "\u001b[1m> Finished chain.\u001b[0m\n"
     ]
    },
    {
     "data": {
      "text/plain": [
       "' Olá! Meu nome é AI. Como posso ajudar?'"
      ]
     },
     "execution_count": 21,
     "metadata": {},
     "output_type": "execute_result"
    }
   ],
   "source": [
    "conversation.run(\"Olá!\")"
   ]
  },
  {
   "cell_type": "code",
   "execution_count": 22,
   "metadata": {},
   "outputs": [
    {
     "name": "stdout",
     "output_type": "stream",
     "text": [
      "\n",
      "\n",
      "\u001b[1m> Entering new ConversationChain chain...\u001b[0m\n",
      "Prompt after formatting:\n",
      "\u001b[32;1m\u001b[1;3mO que se segue é uma conversa amigável entre um humano e uma IA. A IA é falante e fornece muitos detalhes específicos de seu contexto. Se a IA não souber a resposta para uma pergunta, ela diz com sinceridade que não sabe.\n",
      "\n",
      "Summary of conversation:\n",
      "\n",
      "The human greets the AI, to which the AI responds with a greeting and introduces itself as AI, offering to help.\n",
      "Current conversation:\n",
      "Human: Olá!\n",
      "AI:  Olá! Meu nome é AI. Como posso ajudar?\n",
      "Human: Você pode me contar uma piada??\n",
      "AI:\u001b[0m\n",
      "\n",
      "\u001b[1m> Finished chain.\u001b[0m\n"
     ]
    },
    {
     "data": {
      "text/plain": [
       "' Claro! Qual é o animal mais preguiçoso? Um panda, porque ele passa 12 horas por dia comendo e 12 horas por dia dormindo!'"
      ]
     },
     "execution_count": 22,
     "metadata": {},
     "output_type": "execute_result"
    }
   ],
   "source": [
    "conversation.run(\"Você pode me contar uma piada??\")"
   ]
  },
  {
   "cell_type": "code",
   "execution_count": 23,
   "metadata": {},
   "outputs": [
    {
     "name": "stdout",
     "output_type": "stream",
     "text": [
      "\n",
      "\n",
      "\u001b[1m> Entering new ConversationChain chain...\u001b[0m\n",
      "Prompt after formatting:\n",
      "\u001b[32;1m\u001b[1;3mO que se segue é uma conversa amigável entre um humano e uma IA. A IA é falante e fornece muitos detalhes específicos de seu contexto. Se a IA não souber a resposta para uma pergunta, ela diz com sinceridade que não sabe.\n",
      "\n",
      "Summary of conversation:\n",
      "\n",
      "\n",
      "The human greets the AI, to which the AI responds with a greeting and introduces itself as AI, offering to help. The human then asks the AI to tell them a joke, to which the AI responds with a joke about a lazy panda.\n",
      "Current conversation:\n",
      "Human: Você pode me contar uma piada??\n",
      "AI:  Claro! Qual é o animal mais preguiçoso? Um panda, porque ele passa 12 horas por dia comendo e 12 horas por dia dormindo!\n",
      "Human: Você pode me contar uma piada parecida?\n",
      "AI:\u001b[0m\n",
      "\n",
      "\u001b[1m> Finished chain.\u001b[0m\n"
     ]
    },
    {
     "data": {
      "text/plain": [
       "' Sim, com certeza! Qual é o animal mais preguiçoso do mundo? Um hipopótamo, porque ele passa 16 horas por dia na água e 8 horas por dia dormindo!'"
      ]
     },
     "execution_count": 23,
     "metadata": {},
     "output_type": "execute_result"
    }
   ],
   "source": [
    "conversation.run(\"Você pode me contar uma piada parecida?\")"
   ]
  },
  {
   "attachments": {},
   "cell_type": "markdown",
   "metadata": {},
   "source": [
    "# <font color=\"yellow\">4.</font> Chains"
   ]
  },
  {
   "attachments": {},
   "cell_type": "markdown",
   "metadata": {},
   "source": [
    "Às vezes, você pode querer encadear (`chain`) diferentes `LLMs`. <font color=\"pink\">Por exemplo:</font>\n",
    "\n",
    "🤓 Você pode querer que a saída do `primeiro LLM` sirva como entrada do `segundo LLM`.\n",
    "\n",
    "🤓 Ou você pode querer `resumir` (summarize) as saídas do `primeiro` e do `segundo` LLM e passar o resumo como entrada para o `terceiro LLM`.\n",
    "\n",
    "🤓 Ou você pode querer `encadear seu modelo de linguagem` com outra cadeia de utilitários para fazer `operações matemáticas` ou Python.\n",
    "\n",
    "\n",
    "<font color=\"orange\">Aqui está um exemplo básico do método `SimpleSequentialChain`. <font color=\"pink\">A primeira rede (chain) pede ao `ChatGPT` para obter um bom nome de produto para uma empresa que fabrica meias coloridas. ChatGPT retorna `“Rainbow Sox Co.”`</font> <font color=\"green\">A segunda cadeia usa esse nome como entrada e pede ao ChatGPT para escrever uma frase de efeito para a empresa `“Rainbow Sox Co.”` ChatGPT escreveu: “Coloque um pouco de cor no seu passo com Rainbow Sox Co!”</font>"
   ]
  },
  {
   "cell_type": "code",
   "execution_count": 31,
   "metadata": {},
   "outputs": [],
   "source": [
    "from langchain.chat_models import ChatOpenAI\n",
    "from langchain import LLMChain\n",
    "from langchain.prompts.chat import (\n",
    "    ChatPromptTemplate,\n",
    "    HumanMessagePromptTemplate,\n",
    ")\n",
    "\n",
    "\n",
    "human_message_prompt = HumanMessagePromptTemplate(\n",
    "    prompt = PromptTemplate(template=\"Qual é um bom nome para uma empresa que faz {product}?\",\n",
    "                            input_variables=[\"product\"],\n",
    "                           )\n",
    "                                                )\n",
    "\n",
    "chat_prompt_template = ChatPromptTemplate.from_messages([human_message_prompt])\n",
    "\n",
    "chat = ChatOpenAI(temperature=0.9)\n",
    "chain = LLMChain(llm=chat, prompt=chat_prompt_template)\n",
    "\n",
    "#print(chain.run(\"Meias coloridas\"))\n"
   ]
  },
  {
   "cell_type": "code",
   "execution_count": 32,
   "metadata": {},
   "outputs": [],
   "source": [
    "second_prompt = PromptTemplate(input_variables=[\"company_name\"],\n",
    "                               template=\"Escreva uma frase de efeito para a seguinte empresa: {company_name}\",\n",
    "                              )\n",
    "\n",
    "chain_two = LLMChain(llm=llm, prompt=second_prompt)\n",
    "\n",
    "#print(chain_two.run(\"Meias coloridas\"))"
   ]
  },
  {
   "cell_type": "code",
   "execution_count": 33,
   "metadata": {},
   "outputs": [
    {
     "name": "stdout",
     "output_type": "stream",
     "text": [
      "\n",
      "\n",
      "\u001b[1m> Entering new SimpleSequentialChain chain...\u001b[0m\n",
      "\u001b[36;1m\u001b[1;3mSocktastic.\u001b[0m\n",
      "\u001b[33;1m\u001b[1;3m\n",
      "\n",
      "\"A Socktastic tem o poder de transformar os seus pés em obras de arte!\"\u001b[0m\n",
      "\n",
      "\u001b[1m> Finished chain.\u001b[0m\n",
      "\n",
      "\n",
      "\"A Socktastic tem o poder de transformar os seus pés em obras de arte!\"\n"
     ]
    }
   ],
   "source": [
    "from langchain.chains import SimpleSequentialChain\n",
    "\n",
    "overall_chain = SimpleSequentialChain(chains=[chain, chain_two], verbose=True)\n",
    "\n",
    "# Execute a cadeia (chain) especificando apenas a variável de entrada para a primeira cadeia.\n",
    "catchphrase = overall_chain.run(\"Meias coloridas\")\n",
    "print(catchphrase)"
   ]
  },
  {
   "cell_type": "code",
   "execution_count": null,
   "metadata": {},
   "outputs": [],
   "source": []
  }
 ],
 "metadata": {
  "kernelspec": {
   "display_name": "venv_LLMs",
   "language": "python",
   "name": "python3"
  },
  "language_info": {
   "codemirror_mode": {
    "name": "ipython",
    "version": 3
   },
   "file_extension": ".py",
   "mimetype": "text/x-python",
   "name": "python",
   "nbconvert_exporter": "python",
   "pygments_lexer": "ipython3",
   "version": "3.10.6"
  },
  "orig_nbformat": 4,
  "vscode": {
   "interpreter": {
    "hash": "6e1f61a9d800d8d7b3909976e7b91d21ea533d3244cb881687ab788269722b79"
   }
  }
 },
 "nbformat": 4,
 "nbformat_minor": 2
}
