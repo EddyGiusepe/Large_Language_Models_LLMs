{
 "cells": [
  {
   "attachments": {},
   "cell_type": "markdown",
   "metadata": {},
   "source": [
    "<h1 align=\"center\"><font color=\"yellow\">Quatro maneiras de Question-Answering in LangChain</font></h1>"
   ]
  },
  {
   "attachments": {},
   "cell_type": "markdown",
   "metadata": {},
   "source": [
    "<font color=\"yellow\">Data Scientist.: Dr.Eddy Giusepe Chirinos Isidro</font>"
   ]
  },
  {
   "attachments": {},
   "cell_type": "markdown",
   "metadata": {},
   "source": [
    "Este script está baseado nos trabalhos da [Sophia Yang]()"
   ]
  },
  {
   "attachments": {},
   "cell_type": "markdown",
   "metadata": {},
   "source": [
    "# Contextualizando"
   ]
  },
  {
   "attachments": {},
   "cell_type": "markdown",
   "metadata": {},
   "source": [
    "Converse com seus longos documentos `PDF`: load_qa_chain, RetrievalQA, VectorstoreIndexCreator, ConversationalRetrievalChain.\n",
    "\n",
    "\n",
    "Você está interessado em conversar com seus próprios documentos, seja um `arquivo de texto`, um `PDF` ou um `site`? O `LangChain` torna mais fácil para você responder a perguntas com seus documentos. Mas você sabia que existem pelo menos `4` maneiras de responder a perguntas no LangChain? Nesta postagem do blog, exploraremos quatro maneiras diferentes de responder a perguntas e as várias opções que você pode considerar para seus casos de uso.\n",
    "\n",
    "Só lembrando que é `LangChain`, na opinião de `Sophia Yang`, é a maneira mais fácil de interagir com modelos de linguagem e criar aplicativos. É uma ferramenta de código aberto que envolve muitos `LLMs` e ferramentas. \n",
    "\n",
    "Ok, agora vamos começar a responder perguntas em documentos externos.\n"
   ]
  },
  {
   "attachments": {},
   "cell_type": "markdown",
   "metadata": {},
   "source": [
    "# Configurando a API da OpenAI e importando as Bibliotecas necessárias"
   ]
  },
  {
   "attachments": {},
   "cell_type": "markdown",
   "metadata": {},
   "source": [
    "Observe que a [API OpenAI](https://platform.openai.com/account) não é gratuita. Você precisará configurar as informações de cobrança para poder usar a `API OpenAI`. Como alternativa, você pode usar modelos do `HuggingFace Hub` ou de outros lugares.\n"
   ]
  },
  {
   "cell_type": "code",
   "execution_count": null,
   "metadata": {},
   "outputs": [],
   "source": [
    "#%pip install langchain==0.0.137 openai chromadb tiktoken pypdf"
   ]
  },
  {
   "cell_type": "code",
   "execution_count": 1,
   "metadata": {},
   "outputs": [
    {
     "name": "stdout",
     "output_type": "stream",
     "text": [
      "Carregando a minha chave Key:  True\n"
     ]
    }
   ],
   "source": [
    "# Isto é quando usas o arquivo .env:\n",
    "from dotenv import load_dotenv\n",
    "import os\n",
    "print('Carregando a minha chave Key: ', load_dotenv())\n",
    "Eddy_API_KEY_OpenAI = os.environ['OPENAI_API_KEY'] "
   ]
  },
  {
   "cell_type": "code",
   "execution_count": 2,
   "metadata": {},
   "outputs": [],
   "source": [
    "from langchain.chains import RetrievalQA # Tem que atualizar --> pip install langchai==0.0.137\n",
    "from langchain.llms import OpenAI\n",
    "from langchain.document_loaders import TextLoader\n",
    "from langchain.document_loaders import PyPDFLoader\n",
    "from langchain.indexes import VectorstoreIndexCreator\n",
    "from langchain.text_splitter import CharacterTextSplitter\n",
    "from langchain.embeddings import OpenAIEmbeddings\n",
    "from langchain.vectorstores import Chroma\n"
   ]
  },
  {
   "attachments": {},
   "cell_type": "markdown",
   "metadata": {},
   "source": [
    "# Carregando Documentos"
   ]
  },
  {
   "attachments": {},
   "cell_type": "markdown",
   "metadata": {},
   "source": [
    "O `LangChain` suporta muitos [carregadores de documentos](https://python.langchain.com/en/latest/modules/indexes/document_loaders.html), como `Notion`, `YouTube` e `Figma`. Neste exemplo, gostaria de conversar com meu arquivo `PDF`. Assim, usei o `PyPDFLoader` para carregar meu arquivo.\n",
    "\n",
    "Eu recomendo usar um PDF pequeno. Eu usei, só para demonstração mesmo, um boleto de pagamento da minha conta de energia que contém apenas uma página (você pode usar qualquer outro documento). Meu boleto contém certas entidades e em base a elas farei certas perguntas! \n"
   ]
  },
  {
   "cell_type": "code",
   "execution_count": 3,
   "metadata": {},
   "outputs": [
    {
     "name": "stdout",
     "output_type": "stream",
     "text": [
      "\n",
      "\n",
      "O que aconteceu quando o tijolo caiu do céu? Ele deu um tijolo no chão.\n"
     ]
    }
   ],
   "source": [
    "# Verificamos nosso Modelo Instanciado:\n",
    "\n",
    "llm = OpenAI()\n",
    "print(llm(\"Conte-me uma piada.\"))\n"
   ]
  },
  {
   "cell_type": "code",
   "execution_count": 4,
   "metadata": {},
   "outputs": [],
   "source": [
    "# Carregando meu documento (Boleto de energia):\n",
    "from langchain.document_loaders import PyPDFLoader\n",
    "\n",
    "loader = PyPDFLoader(\"./Karina_boleto_FACULDADE.pdf\")\n",
    "documents = loader.load()"
   ]
  },
  {
   "cell_type": "code",
   "execution_count": 7,
   "metadata": {},
   "outputs": [
    {
     "data": {
      "text/plain": [
       "[Document(page_content=' \\nRECIBO DO PAGADOR\\nBeneficiário\\nUNIFRAN - GRADUAÇÃO EAD - CNPJ: 046.722.831/0001-78 \\nAv. Dr. Armando Salles Oliveira - Franca/SPAgência/Cód. Beneficiário\\n3393 - 6 / 0001544 - PData do Documento\\n02/03/2023Vencimento\\n27/03/2023\\nPagador\\nKARINA GONÇALVES SOARESNúmero Documento\\n23103/06Nosso Número\\n19/00236419200-6Valor do Documento\\nR$ 551,26\\nInstruções: (Todas as informações deste bloqueto são de exclusiva responsabilidade do beneficiário)\\n* SR. CAIXA NAO RECEBER APOS VENCIMENTO; \\n* DESCONTO DE R$ 320,43 ATE 07/03/23; R$ 289,64 ATE 27/03/23; \\n* (3A CST EM CIÊNCIA DE DADOS) - RGM:22-30419841 \\nAutenticação Mecânica\\n237-2 23793.39316 90023.641922 00000.154401 2 93020000055126\\nLocal de Pagamento\\nPagável preferencialmente nas agências BRADESCOVencimento\\n27/03/2023\\nBeneficiário\\nUNIFRAN - GRADUAÇÃO EAD - CNPJ: 046.722.831/0001-78 - Av. Dr. Armando Salles Oliveira - Franca/SPAgência/Código Beneficiário\\n3393 - 6 / 0001544 - P\\nData do Documento\\n02/03/2023N°. do Documento\\n23103/06Espécie doc.\\nDMAceite\\nNData Processamento\\n02/03/2023Nosso Número\\n19/00236419200-6\\nUso do Banco Carteira\\n19Espécie Moeda\\nREALQuantidade (X) Valor 1 (=) Valor do Documento\\nR$ 551,26\\nInstruções: (Todas as informações deste bloqueto são de exclusiva responsabilidade do beneficiário)\\n *** VALORES EXPRESSOS EM REAIS ***\\n* SR. CAIXA NAO RECEBER APOS VENCIMENTO; \\n* DESCONTO DE R$ 320,43 ATE 07/03/23; R$ 289,64 ATE 27/03/23; \\n* (3A CST EM CIÊNCIA DE DADOS) - RGM:22-30419841 2 (-) Descontos/Abatimento\\n3 (-) Outras Deduções\\n4 (+) Mora / Multa\\n5 (+) Outros Acréscimos\\n6 (=) Valor Cobrado\\nPagador: KARINA GONÇALVES SOARES\\nRua Hélio Soares,115 - Próximo ao UP.\\n29062140 Pontal de Camburi Vitória Ficha de Compensação\\nAutenticação Mecânica', metadata={'source': './Karina_boleto_FACULDADE.pdf', 'page': 0})]"
      ]
     },
     "execution_count": 7,
     "metadata": {},
     "output_type": "execute_result"
    }
   ],
   "source": [
    "documents"
   ]
  },
  {
   "attachments": {},
   "cell_type": "markdown",
   "metadata": {},
   "source": [
    "# Método 1: <font color=\"red\">load_qa_chain</font>"
   ]
  },
  {
   "attachments": {},
   "cell_type": "markdown",
   "metadata": {},
   "source": [
    "`load_qa_chain` fornece a interface mais genérica para responder a perguntas. Ele carrega uma cadeia que você pode fazer `QA` para seus documentos de entrada e usa TODO o texto nos documentos.\n",
    "\n",
    "`chain_type=\"stuff\"` não funcionará porque o número de tokens excede o limite. Podemos tentar outros tipos de cadeia como `\"map_reduce\"`."
   ]
  },
  {
   "cell_type": "code",
   "execution_count": 8,
   "metadata": {},
   "outputs": [
    {
     "data": {
      "text/plain": [
       "' O nome do pagador é KARINA GONÇALVES SOARES.'"
      ]
     },
     "execution_count": 8,
     "metadata": {},
     "output_type": "execute_result"
    }
   ],
   "source": [
    "from langchain.chains.question_answering import load_qa_chain\n",
    "\n",
    "\n",
    "chain = load_qa_chain(llm=OpenAI(),\n",
    "                      chain_type=\"map_reduce\"\n",
    "                     )\n",
    "\n",
    "\n",
    "query = \"Qual é o nome do pagador?\"\n",
    "\n",
    "chain.run(input_documents=documents,\n",
    "          question=query\n",
    "         )\n"
   ]
  },
  {
   "attachments": {},
   "cell_type": "markdown",
   "metadata": {},
   "source": [
    "<font color=\"orange\">Ele também permite que você faça QA em um conjunto de documentos:</font>"
   ]
  },
  {
   "cell_type": "code",
   "execution_count": null,
   "metadata": {},
   "outputs": [],
   "source": [
    "### Para vários Documentos:\n",
    "# loaders = [....]\n",
    "# documents = []\n",
    "# for loader in loaders:\n",
    "#     documents.extend(loader.load())"
   ]
  },
  {
   "attachments": {},
   "cell_type": "markdown",
   "metadata": {},
   "source": [
    "🤔 Mas e se meu documento for muito longo e ultrapassar o limite de token?\n",
    "\n",
    "Existem duas maneiras de corrigi-lo:"
   ]
  },
  {
   "attachments": {},
   "cell_type": "markdown",
   "metadata": {},
   "source": [
    "## <font color=\"pink\">Solução 1: Tipo de Cadeia (chain)</font>"
   ]
  },
  {
   "attachments": {},
   "cell_type": "markdown",
   "metadata": {},
   "source": [
    "O padrão `chain_type=\"stuff\"` usa `TODO` o texto dos documentos no prompt. Se você tiver um arquivo muito grande (`tal como fez Sophia Yang, com um PDF de `50` páginas`) não funcionará porque excede o `limite de token` e causa erros de limitação de taxa. É por isso que para o exemplo da Sophia Yang, ela teve que usar outro tipo de cadeia, por exemplo `\"map_reduce\"`. \n",
    "\n",
    "A seguir vamos estudar outros tipos de cadeias:\n",
    "\n",
    "🤩 `map_reduce:` Separa os textos em lotes (<font color=\"red\">por exemplo</font>, você pode definir o tamanho do lote em `llm=OpenAI(batch_size=5)`), alimenta cada lote com a pergunta para o `LLM` separadamente e apresenta a resposta final com base nas respostas de cada lote.\n",
    "\n",
    "🤩 `refine:` Separa os textos em lotes, alimenta o primeiro lote para o LLM e alimenta a resposta e o segundo lote para o LLM. Ele refina a resposta passando por todos os lotes.\n",
    "\n",
    "🤩 `map-rerank:` ele separa os textos em lotes, alimenta cada lote para o LLM, retorna uma pontuação de como responde completamente à pergunta e apresenta a resposta final com base nas respostas com pontuação mais alta de cada lote."
   ]
  },
  {
   "attachments": {},
   "cell_type": "markdown",
   "metadata": {},
   "source": [
    "## <font color=\"pink\">Solução 2: Recuperação QA (`RetrievalQA`)</font>"
   ]
  },
  {
   "attachments": {},
   "cell_type": "markdown",
   "metadata": {},
   "source": [
    "Um problema com o uso de `TODO` o texto é que pode ser `muito caro` porque você está alimentando todos os textos para a `API OpenAI` e a `API` é cobrada pelo número de tokens. Uma solução melhor é recuperar os blocos (`chunks`) de texto relevantes primeiro e usar apenas os blocos de texto relevantes no modelo de linguagem. A seguir, examinarei os detalhes do `RetrievalQA`."
   ]
  },
  {
   "attachments": {},
   "cell_type": "markdown",
   "metadata": {},
   "source": [
    "# Método 2: <font color=\"red\">RetrievalQA</font>"
   ]
  },
  {
   "cell_type": "code",
   "execution_count": null,
   "metadata": {},
   "outputs": [],
   "source": []
  },
  {
   "cell_type": "code",
   "execution_count": null,
   "metadata": {},
   "outputs": [],
   "source": []
  },
  {
   "cell_type": "code",
   "execution_count": null,
   "metadata": {},
   "outputs": [],
   "source": []
  }
 ],
 "metadata": {
  "kernelspec": {
   "display_name": "venv_LLMs",
   "language": "python",
   "name": "python3"
  },
  "language_info": {
   "codemirror_mode": {
    "name": "ipython",
    "version": 3
   },
   "file_extension": ".py",
   "mimetype": "text/x-python",
   "name": "python",
   "nbconvert_exporter": "python",
   "pygments_lexer": "ipython3",
   "version": "3.10.6"
  },
  "orig_nbformat": 4
 },
 "nbformat": 4,
 "nbformat_minor": 2
}
