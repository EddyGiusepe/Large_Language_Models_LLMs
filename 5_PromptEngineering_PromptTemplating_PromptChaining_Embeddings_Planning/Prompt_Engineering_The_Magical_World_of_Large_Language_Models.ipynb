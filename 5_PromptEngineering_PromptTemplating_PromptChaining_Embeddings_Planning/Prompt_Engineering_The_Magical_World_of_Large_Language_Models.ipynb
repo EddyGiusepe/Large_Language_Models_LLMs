{
 "cells": [
  {
   "attachments": {},
   "cell_type": "markdown",
   "metadata": {},
   "source": [
    "<h1 align=\"center\"><font color=\"yellow\">Engenharia de Prompt: O Mundo Mágico dos Grandes Modelos de Linguagem</font></h1>"
   ]
  },
  {
   "attachments": {},
   "cell_type": "markdown",
   "metadata": {},
   "source": [
    "<font color=\"yellow\">Data Scientist.: PhD.Eddy Giusepe Chirinos Isidro</font>"
   ]
  },
  {
   "attachments": {},
   "cell_type": "markdown",
   "metadata": {},
   "source": [
    "![](https://marmof.com/storage/1561/S4qVfORqC6voHAjKUitH2bYHBfm1MS-metaVGhlIEFydCBvZiBQcm9tcHQgRW5naW5lZXJpbmcgKDEpLmpwZw==-.jpg)"
   ]
  },
  {
   "attachments": {},
   "cell_type": "markdown",
   "metadata": {},
   "source": [
    "# <font color=\"red\">A arte e a ciência</font>"
   ]
  },
  {
   "attachments": {},
   "cell_type": "markdown",
   "metadata": {},
   "source": [
    "É possível combinar aprendizado de máquina com `Prompt Engineering` para grandes modelos de linguagem?\n",
    "\n",
    "Uma abordagem sistemática baseada em dados para a engenharia de prompts pode ser uma das maneiras mais bem-sucedidas de gerar os melhores prompts.\n",
    "\n",
    "Neste script, o qual é um resumo do artigo de [Kory Becker](), veremos exatamente como isso funciona medindo e pontuando diferentes prompts para tarefas de Processamento de Linguagem Natural (NLP)."
   ]
  },
  {
   "attachments": {},
   "cell_type": "markdown",
   "metadata": {},
   "source": [
    "# <font color=\"red\">Otimismo para tudo IA</font>"
   ]
  },
  {
   "attachments": {},
   "cell_type": "markdown",
   "metadata": {},
   "source": [
    "O potencial crescente de grandes modelos de linguagem, como o `ChatGPT`, tem impulsionado as empresas a trabalhar o mais rápido possível para integrar a `IA` em seus produtos. De empresas a usuários comuns, o potencial que vem da integração de grandes modelos de linguagem parece infinito.\n",
    "\n",
    "Juntamente com a explosão da inovação de IA de `Transformers pré-treinados generativos` (GPT), surgiu uma especialização aparentemente mística, chamada `Engenharia de Prompt`.\n",
    "\n",
    "Bem, inicialmente fiquei cético em relação a esse título emergente. Eu preferiria ver o uso corporativo significativo de grandes modelos de linguagem (por exemplo, `ChatGPT`) antes de criar a necessidade de uma carreira totalmente nova.\n",
    "\n",
    "No entanto, devo concordar que uma abordagem cuidadosa e científica para a `Engenharia de Prompt`, medindo a produção, de fato, parece bastante promissora.\n",
    "\n",
    "Como tal, isso despertou meu interesse em `Engenharia de Prompt` para grandes modelos de linguagem, especialmente para tarefas de processamento de linguagem natural, e espero que esta técnica também inspire você!\n",
    "\n",
    "Antes de fazermos alguma mágica, vamos mergulhar em uma definição de `Engenharia de Prompt`."
   ]
  },
  {
   "attachments": {},
   "cell_type": "markdown",
   "metadata": {},
   "source": [
    "# <font color=\"red\">O que é Engenharia de Prompt?</font>"
   ]
  },
  {
   "attachments": {},
   "cell_type": "markdown",
   "metadata": {},
   "source": [
    "A `Engenharia de Prompt` é o nome dado ao processo de encontrar a melhor frase ou frase para perguntar a grandes modelos de linguagem, como o `ChatGPT`, a fim de obter a melhor resposta possível.\n",
    "\n",
    "Embora os modelos de linguagem grandes sejam destinados à comunicação em estilo de conversação, os especialistas determinaram rapidamente que algumas perguntas funcionam melhor do que outras. É esse processo de determinar quais palavras, declarações e frases funcionam melhor para diferentes situações que forma o núcleo por trás da `Engenharia de Prompt`."
   ]
  },
  {
   "attachments": {},
   "cell_type": "markdown",
   "metadata": {},
   "source": [
    "# <font color=\"red\">O que é `Prompt`?</font>"
   ]
  },
  {
   "attachments": {},
   "cell_type": "markdown",
   "metadata": {},
   "source": [
    "`Um Prompt é a pergunta inicial feita a um modelo de linguagem grande`. O prompt define o tom, o conhecimento prévio e geralmente inclui a pergunta central para um problema específico.\n",
    "\n",
    "<font color=\"orange\">Abaixo estão alguns exemplos de prompts:</font>\n",
    "\n",
    ">Por favor, liste todas as datas do seguinte texto …\n",
    "\n",
    ">Converta a seguinte lista de números de telefone em números de 7 dígitos …\n",
    "\n",
    ">Responda com sim ou não se as histórias a seguir forem sobre a natureza …"
   ]
  },
  {
   "attachments": {},
   "cell_type": "markdown",
   "metadata": {},
   "source": [
    "# <font color=\"red\">Um Prompt precisa de conteúdo</font>\n"
   ]
  },
  {
   "attachments": {},
   "cell_type": "markdown",
   "metadata": {},
   "source": [
    "Além de um `prompt`, também precisamos de conteúdo.\n",
    "\n",
    "Ao pedir a um grande modelo de linguagem para executar uma tarefa, alguma forma de conteúdo é normalmente fornecida para o modelo agir. `Pode ser texto, imagens, vídeo ou áudio`.\n",
    "\n",
    "O conteúdo pode ser incluído antes ou depois do `prompt`, mas geralmente é anexado junto com o prompt e enviado para o modelo de linguagem grande como parte da conversa inicial.\n",
    "\n",
    "Ao incluir um prompt e conteúdo, podemos consultar uma resposta.\n",
    "\n",
    "É essa metodologia central que nos permite recuperar uma resposta válida e precisa, que completa o ofício chamado `Engenharia de Prompt`.\n",
    "\n",
    "🥹 Claro, a `Engenharia de Prompt` não vem sem suas dificuldades. 🥹"
   ]
  },
  {
   "attachments": {},
   "cell_type": "markdown",
   "metadata": {},
   "source": [
    "# <font color=\"red\">Sensibilidade do fraseado</font>"
   ]
  },
  {
   "attachments": {},
   "cell_type": "markdown",
   "metadata": {},
   "source": [
    "Modelos de linguagem grandes geralmente são `muito sensíveis a pequenas mudanças na redação das perguntas`.\n",
    "\n",
    "Uma única alteração em uma palavra, emoção ou tom de um prompt pode afetar substancialmente a resposta de um grande modelo de linguagem. Por esta razão, um meio de medir e avaliar o desempenho de um prompt é uma necessidade.\n",
    "\n",
    "Pode ser conveniente usar uma estimativa aproximada para determinar se um prompt específico é eficaz. No entanto, podemos fazer muito melhor!\n",
    "\n",
    "`Só é preciso um pouco de matemática`."
   ]
  },
  {
   "attachments": {},
   "cell_type": "markdown",
   "metadata": {},
   "source": [
    "# <font color=\"red\">O bom e velho aprendizado de máquina</font>"
   ]
  },
  {
   "attachments": {},
   "cell_type": "markdown",
   "metadata": {},
   "source": [
    "Considere a tarefa de executar Processamento de Linguagem Natural (NLP) ou classificação de texto.\n",
    "\n",
    "Os problemas de NLP geralmente são processados ​​por modelos tradicionais de aprendizado de máquina, como `regressão logística`, `máquinas de vetores de suporte` ou `aprendizado profundo` (Deep Learning).\n",
    "\n",
    "Como o aprendizado de máquina é uma abordagem baseada em estatística para inteligência artificial, os modelos criados usando esse método vêm com estatísticas de precisão resultantes, incluindo `precision`, `recall` e `overall accuracy`. Esses números são calculados observando o número de `positivos` e `negativos` corretos que resultam das previsões do modelo em um conjunto de treinamento.\n",
    "\n",
    "<font color=\"orange\">A questão é: isso também pode ser feito com `Engenharia de prompt`?</font>\n",
    "\n"
   ]
  },
  {
   "cell_type": "code",
   "execution_count": null,
   "metadata": {},
   "outputs": [],
   "source": []
  }
 ],
 "metadata": {
  "language_info": {
   "name": "python"
  },
  "orig_nbformat": 4
 },
 "nbformat": 4,
 "nbformat_minor": 2
}
