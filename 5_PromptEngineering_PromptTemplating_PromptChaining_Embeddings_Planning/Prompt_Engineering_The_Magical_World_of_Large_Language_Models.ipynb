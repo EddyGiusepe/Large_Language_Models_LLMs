{
 "cells": [
  {
   "attachments": {},
   "cell_type": "markdown",
   "metadata": {},
   "source": [
    "<h1 align=\"center\"><font color=\"yellow\">Engenharia de Prompt: O Mundo Mágico dos Grandes Modelos de Linguagem</font></h1>"
   ]
  },
  {
   "attachments": {},
   "cell_type": "markdown",
   "metadata": {},
   "source": [
    "<font color=\"yellow\">Data Scientist.: PhD.Eddy Giusepe Chirinos Isidro</font>"
   ]
  },
  {
   "attachments": {},
   "cell_type": "markdown",
   "metadata": {},
   "source": [
    "![](https://marmof.com/storage/1561/S4qVfORqC6voHAjKUitH2bYHBfm1MS-metaVGhlIEFydCBvZiBQcm9tcHQgRW5naW5lZXJpbmcgKDEpLmpwZw==-.jpg)"
   ]
  },
  {
   "attachments": {},
   "cell_type": "markdown",
   "metadata": {},
   "source": [
    "# <font color=\"red\">A arte e a ciência</font>"
   ]
  },
  {
   "attachments": {},
   "cell_type": "markdown",
   "metadata": {},
   "source": [
    "É possível combinar aprendizado de máquina com `Prompt Engineering` para grandes modelos de linguagem?\n",
    "\n",
    "Uma abordagem sistemática baseada em dados para a engenharia de prompts pode ser uma das maneiras mais bem-sucedidas de gerar os melhores prompts.\n",
    "\n",
    "Neste script, o qual é um resumo do artigo de [Kory Becker](), veremos exatamente como isso funciona medindo e pontuando diferentes prompts para tarefas de Processamento de Linguagem Natural (NLP)."
   ]
  },
  {
   "attachments": {},
   "cell_type": "markdown",
   "metadata": {},
   "source": [
    "# <font color=\"red\">Otimismo para tudo IA</font>"
   ]
  },
  {
   "attachments": {},
   "cell_type": "markdown",
   "metadata": {},
   "source": [
    "O potencial crescente de grandes modelos de linguagem, como o `ChatGPT`, tem impulsionado as empresas a trabalhar o mais rápido possível para integrar a `IA` em seus produtos. De empresas a usuários comuns, o potencial que vem da integração de grandes modelos de linguagem parece infinito.\n",
    "\n",
    "Juntamente com a explosão da inovação de IA de `Transformers pré-treinados generativos` (GPT), surgiu uma especialização aparentemente mística, chamada `Engenharia de Prompt`.\n",
    "\n",
    "Bem, inicialmente fiquei cético em relação a esse título emergente. Eu preferiria ver o uso corporativo significativo de grandes modelos de linguagem (por exemplo, `ChatGPT`) antes de criar a necessidade de uma carreira totalmente nova.\n",
    "\n",
    "No entanto, devo concordar que uma abordagem cuidadosa e científica para a `Engenharia de Prompt`, medindo a produção, de fato, parece bastante promissora.\n",
    "\n",
    "Como tal, isso despertou meu interesse em `Engenharia de Prompt` para grandes modelos de linguagem, especialmente para tarefas de processamento de linguagem natural, e espero que esta técnica também inspire você!\n",
    "\n",
    "Antes de fazermos alguma mágica, vamos mergulhar em uma definição de `Engenharia de Prompt`."
   ]
  },
  {
   "attachments": {},
   "cell_type": "markdown",
   "metadata": {},
   "source": [
    "# <font color=\"red\">O que é Engenharia de Prompt?</font>"
   ]
  },
  {
   "attachments": {},
   "cell_type": "markdown",
   "metadata": {},
   "source": [
    "A `Engenharia de Prompt` é o nome dado ao processo de encontrar a melhor frase ou frase para perguntar a grandes modelos de linguagem, como o `ChatGPT`, a fim de obter a melhor resposta possível.\n",
    "\n",
    "Embora os modelos de linguagem grandes sejam destinados à comunicação em estilo de conversação, os especialistas determinaram rapidamente que algumas perguntas funcionam melhor do que outras. É esse processo de determinar quais palavras, declarações e frases funcionam melhor para diferentes situações que forma o núcleo por trás da `Engenharia de Prompt`."
   ]
  },
  {
   "attachments": {},
   "cell_type": "markdown",
   "metadata": {},
   "source": [
    "# <font color=\"red\">O que é `Prompt`?</font>"
   ]
  },
  {
   "attachments": {},
   "cell_type": "markdown",
   "metadata": {},
   "source": [
    "`Um Prompt é a pergunta inicial feita a um modelo de linguagem grande`. O prompt define o tom, o conhecimento prévio e geralmente inclui a pergunta central para um problema específico.\n",
    "\n",
    "<font color=\"orange\">Abaixo estão alguns exemplos de prompts:</font>\n",
    "\n",
    ">Por favor, liste todas as datas do seguinte texto …\n",
    "\n",
    ">Converta a seguinte lista de números de telefone em números de 7 dígitos …\n",
    "\n",
    ">Responda com sim ou não se as histórias a seguir forem sobre a natureza …"
   ]
  },
  {
   "attachments": {},
   "cell_type": "markdown",
   "metadata": {},
   "source": [
    "# <font color=\"red\">Um Prompt precisa de conteúdo</font>\n"
   ]
  },
  {
   "attachments": {},
   "cell_type": "markdown",
   "metadata": {},
   "source": [
    "Além de um `prompt`, também precisamos de conteúdo.\n",
    "\n",
    "Ao pedir a um grande modelo de linguagem para executar uma tarefa, alguma forma de conteúdo é normalmente fornecida para o modelo agir. `Pode ser texto, imagens, vídeo ou áudio`.\n",
    "\n",
    "O conteúdo pode ser incluído antes ou depois do `prompt`, mas geralmente é anexado junto com o prompt e enviado para o modelo de linguagem grande como parte da conversa inicial.\n",
    "\n",
    "Ao incluir um prompt e conteúdo, podemos consultar uma resposta.\n",
    "\n",
    "É essa metodologia central que nos permite recuperar uma resposta válida e precisa, que completa o ofício chamado `Engenharia de Prompt`.\n",
    "\n",
    "🥹 Claro, a `Engenharia de Prompt` não vem sem suas dificuldades. 🥹"
   ]
  },
  {
   "attachments": {},
   "cell_type": "markdown",
   "metadata": {},
   "source": [
    "# <font color=\"red\">Sensibilidade do fraseado</font>"
   ]
  },
  {
   "attachments": {},
   "cell_type": "markdown",
   "metadata": {},
   "source": [
    "Modelos de linguagem grandes geralmente são `muito sensíveis a pequenas mudanças na redação das perguntas`.\n",
    "\n",
    "Uma única alteração em uma palavra, emoção ou tom de um prompt pode afetar substancialmente a resposta de um grande modelo de linguagem. Por esta razão, um meio de medir e avaliar o desempenho de um prompt é uma necessidade.\n",
    "\n",
    "Pode ser conveniente usar uma estimativa aproximada para determinar se um prompt específico é eficaz. No entanto, podemos fazer muito melhor!\n",
    "\n",
    "`Só é preciso um pouco de matemática`."
   ]
  },
  {
   "attachments": {},
   "cell_type": "markdown",
   "metadata": {},
   "source": [
    "# <font color=\"red\">O bom e velho aprendizado de máquina</font>"
   ]
  },
  {
   "attachments": {},
   "cell_type": "markdown",
   "metadata": {},
   "source": [
    "Considere a tarefa de executar Processamento de Linguagem Natural (NLP) ou classificação de texto.\n",
    "\n",
    "Os problemas de NLP geralmente são processados ​​por modelos tradicionais de aprendizado de máquina, como `regressão logística`, `máquinas de vetores de suporte` ou `aprendizado profundo` (Deep Learning).\n",
    "\n",
    "Como o aprendizado de máquina é uma abordagem baseada em estatística para inteligência artificial, os modelos criados usando esse método vêm com estatísticas de precisão resultantes, incluindo `precision`, `recall` e `overall accuracy`. Esses números são calculados observando o número de `positivos` e `negativos` corretos que resultam das previsões do modelo em um conjunto de treinamento.\n",
    "\n",
    "<font color=\"orange\">A questão é: isso também pode ser feito com `Engenharia de prompt`?</font>\n",
    "\n"
   ]
  },
  {
   "attachments": {},
   "cell_type": "markdown",
   "metadata": {},
   "source": [
    "# <font color=\"red\">Modelos de linguagem grandes já são inteligentes, certo?</font>"
   ]
  },
  {
   "attachments": {},
   "cell_type": "markdown",
   "metadata": {},
   "source": [
    "Os usuários estão obtendo resultados promissores conversando com grandes modelos de linguagem para fazer perguntas sobre uma variedade de tópicos.\n",
    "\n",
    "Grandes modelos de linguagem já foram projetados para fazer isso. Então, `há algo para realmente treinar?`\n",
    "\n",
    "Bem, como se vê, também é possível usar grandes modelos de linguagem para `classificação`, `reconhecimento` e outras tarefas preditivas. Isso é diferente de uma simples conversa; no sentido de que estamos interessados ​​em obter saídas específicas para um grande número de exemplos de treinamento.\n",
    "\n"
   ]
  },
  {
   "attachments": {},
   "cell_type": "markdown",
   "metadata": {},
   "source": [
    "# <font color=\"red\">Modelos preditivos</font>"
   ]
  },
  {
   "attachments": {},
   "cell_type": "markdown",
   "metadata": {},
   "source": [
    "Exemplos de modelos preditivos podem incluir `Análise de Sentimento`, `reconhecimento de imagem`, `detecção emocional`, `extração de frase` ou outros tipos de identificação.\n",
    "\n",
    "Essas tarefas têm sido tradicionalmente executadas com um conjunto de treinamento conhecido, contendo conteúdo juntamente com respostas conhecidas. Um modelo de aprendizado de máquina é treinado nesses dados e pode fazer previsões sobre novos dados que ainda não viu.\n",
    "\n",
    "Esta é a chave para a aprendizagem supervisionada.\n",
    "\n",
    "É claro que, quando se trata de modelos de linguagem grandes com IU de conversação, não é assim que eles costumam ser usados ​​— pelo menos não pelo usuário comum.\n",
    "\n",
    "No entanto, combinando a abordagem `supervisionada` do aprendizado de máquina com a `Engenharia de Prompt` em modelos de linguagem grandes, podemos projetar uma solução preditiva de alta `Accuracy`.\n",
    "\n",
    "Vamos dar uma olhada em como isso funciona."
   ]
  },
  {
   "attachments": {},
   "cell_type": "markdown",
   "metadata": {},
   "source": [
    "# <font color=\"red\">Construindo um modelo para medir a `\"raiva\"`</font>"
   ]
  },
  {
   "attachments": {},
   "cell_type": "markdown",
   "metadata": {},
   "source": [
    "Considere o caso de classificar uma série de sentenças como expressando a `emoção da raiva`.\n",
    "\n",
    "Queremos construir um modelo para responder com `“sim” `se a frase expressar `raiva` e `“não”` caso contrário.\n",
    "\n",
    "Criaremos um conjunto de treinamento com um grande número de frases, como `análises de produtos`, e enviaremos cada uma delas, junto com um `prompt`, para o modelo de linguagem grande (<font color=\"red\">por exempl:</font> a `API ChatGPT`) para obter um resultado de classificação.\n",
    "\n",
    "Um exemplo do que podemos perguntar ao modelo é mostrado abaixo.\n",
    "\n",
    "```\n",
    "A frase é sobre raiva? Responda apenas com a palavra “sim” ou “não”.\n",
    "```\n",
    "\n",
    "Agora, pode muito bem ser possível que esse `prompt` retorne um resultado que pareça bom. No entanto, `vamos medir o resultado usando vários prompts diferentes` em todo o conjunto de treinamento, a fim de obter a maior accuracy."
   ]
  },
  {
   "attachments": {},
   "cell_type": "markdown",
   "metadata": {},
   "source": [
    "# <font color=\"red\">`Etapa 1:` Construir um conjunto de treinamento\n",
    "</font>"
   ]
  },
  {
   "attachments": {},
   "cell_type": "markdown",
   "metadata": {},
   "source": [
    "Podemos começar criando um conjunto de dados de treinamento. Cada linha de exemplo no conjunto de treinamento conterá um valor de `“verdade”` (truth), indicando `1` ou `0` se a frase for sobre `raiva`.\n",
    "\n",
    "Um exemplo deste conjunto de treinamento é mostrado abaixo."
   ]
  },
  {
   "cell_type": "code",
   "execution_count": 37,
   "metadata": {},
   "outputs": [],
   "source": [
    "messages = [ \n",
    " {'content': 'Eu odeio essa comida.', 'truth': 0},\n",
    " {'content': 'Este filme é terrível.', 'truth': 1},\n",
    " {'content': 'Eu não posso acreditar que você faria algo assim!', 'truth': 1},\n",
    " {'content': 'Isso é absolutamente inaceitável!', 'truth': 1},\n",
    " {'content': 'Estou com tanta raiva agora que nem consigo pensar direito.', 'truth': 1},\n",
    " {'content': 'Como você pode ser tão imprudente?', 'truth': 1},\n",
    " {'content': 'Você não tem ideia do quanto me machucou.', 'truth': 1},\n",
    " {'content': 'Eu realmente gosto desta peça.', 'truth': 0},\n",
    " {'content': 'Eu simplesmente não tenho certeza.', 'truth': 0},\n",
    " {'content': 'Está um lindo dia lá fora.', 'truth': 0},\n",
    " {'content': 'Estou ansioso pelas minhas férias na próxima semana.', 'truth': 0},\n",
    " {'content': 'O novo restaurante da cidade tem comida incrível.', 'truth': 0}\n",
    "]\n"
   ]
  },
  {
   "attachments": {},
   "cell_type": "markdown",
   "metadata": {},
   "source": [
    "Usando esse conjunto de treinamento, podemos pegar um `prompt` e combiná-lo com a frase para enviar ao modelo de linguagem grande para obter uma resposta.\n",
    "\n",
    "O resultado do modelo pode ser comparado com o valor `verdadeiro` (truth) e adicionado à pontuação geral da accuracy."
   ]
  },
  {
   "attachments": {},
   "cell_type": "markdown",
   "metadata": {},
   "source": [
    "# <font color=\"red\">Um prompt, dois prompts, três prompts, quatro</font>"
   ]
  },
  {
   "attachments": {},
   "cell_type": "markdown",
   "metadata": {},
   "source": [
    "Para otimizar os resultados, podemos repetir o processo de treinamento usando `vários prompts diferentes`.\n",
    "\n",
    "Cada `prompt` será anexado a cada frase do conjunto de treinamento e enviado ao modelo de linguagem grande para uma resposta.\n",
    "\n",
    "Como veremos em breve, é `muito provável que pequenas diferenças nos prompts produzam saídas diferentes para os registros`."
   ]
  },
  {
   "attachments": {},
   "cell_type": "markdown",
   "metadata": {},
   "source": [
    "# <font color=\"red\">`Etapas 2:` chame a API ChatGPT</font>"
   ]
  },
  {
   "attachments": {},
   "cell_type": "markdown",
   "metadata": {},
   "source": [
    "Abaixo está um exemplo de chamada da `API ChatGPT`. Isso formará nosso principal método de comunicação para chamar o serviço."
   ]
  },
  {
   "cell_type": "code",
   "execution_count": 38,
   "metadata": {},
   "outputs": [],
   "source": [
    "import os\n",
    "import openai\n",
    "from dotenv import load_dotenv, find_dotenv\n",
    "_ = load_dotenv(find_dotenv()) # read local .env file\n",
    "\n",
    "openai.api_key  = os.getenv('OPENAI_API_KEY')\n",
    "\n",
    "\n",
    "def get_completion(prompt, model=\"gpt-3.5-turbo\"):\n",
    "    messages = [{\"role\": \"user\", \"content\": prompt}]\n",
    "    response = openai.ChatCompletion.create(\n",
    "        model=model,\n",
    "        messages=messages,\n",
    "        temperature=0, # Este é o grau de aleatoriedade da saída do modelo\n",
    "    )\n",
    "    return response.choices[0].message[\"content\"]\n",
    "\n"
   ]
  },
  {
   "attachments": {},
   "cell_type": "markdown",
   "metadata": {},
   "source": [
    "# <font color=\"red\">`Etapa 3:` prever um resultado</font>"
   ]
  },
  {
   "attachments": {},
   "cell_type": "markdown",
   "metadata": {},
   "source": [
    "Lembre-se de que nosso método envolve anexar um `prompt` com uma frase de nosso conjunto de dados. Portanto, precisaremos de um método para iterar sobre cada item do array `“messages”`, acrescentando o `prompt` a cada um e enviando o prompt mais o conteúdo para o modelo de linguagem grande.\n",
    "\n",
    "Um exemplo de método de previsão é mostrado abaixo."
   ]
  },
  {
   "cell_type": "code",
   "execution_count": 39,
   "metadata": {},
   "outputs": [],
   "source": [
    "def predict(prompt):\n",
    "    y_pred = []\n",
    "    \n",
    "    for message in messages:\n",
    "        # Anexe o prompt e a frase (sentence) e envie para o ChatGPT.\n",
    "        payload = prompt + ' ```' + message['content'] + '```'\n",
    "        response = get_completion(payload)\n",
    "\n",
    "        # Salve a resposta prevista.\n",
    "        y_pred.append(1 if 'sim' in response.lower() else 0)\n",
    "\n",
    "    return y_pred\n"
   ]
  },
  {
   "attachments": {},
   "cell_type": "markdown",
   "metadata": {},
   "source": [
    "No código acima, estamos armazenando as previsões de resposta em uma `matriz` (array) denominada `“y_pred”`. Esses valores podem então ser comparados com os valores de verdade (truth) para cada item no conjunto de treinamento para construir uma `matriz de confusão` e `pontuação de accuracy`.\n",
    "\n",
    "Vamos ver como nosso `prompt` está realmente executando ao calcular esses valores.\n"
   ]
  },
  {
   "attachments": {},
   "cell_type": "markdown",
   "metadata": {},
   "source": [
    "# <font color=\"red\">A matriz de confusão, precisão, recall e F-score</font>"
   ]
  },
  {
   "attachments": {},
   "cell_type": "markdown",
   "metadata": {},
   "source": [
    "Para construir uma `matriz de confusão` e uma pontuação de `accuracy`, precisaremos contar quantas respostas correspondem aos valores verdadeiros de cada item de treinamento.\n",
    "\n",
    "O código modificado para nosso método de previsão é mostrado abaixo."
   ]
  },
  {
   "cell_type": "code",
   "execution_count": 40,
   "metadata": {},
   "outputs": [],
   "source": [
    "def predict(prompt):\n",
    "    y_true = []\n",
    "    y_pred = []\n",
    "    responses = []\n",
    "    \n",
    "    for message in messages:\n",
    "        # Append the prompt and sentence and send to ChatGPT.\n",
    "        payload = prompt + ' ```' + message['content'] + '```'\n",
    "        response = get_completion(payload)\n",
    "\n",
    "        # Append the truth value and the predicted response.\n",
    "        y_true.append(message['truth'])\n",
    "        y_pred.append(1 if 'sim' in response.lower() else 0)\n",
    "\n",
    "        responses.append(response)\n",
    "\n",
    "    # Initialize the confusion matrix\n",
    "    cm = [[0, 0], [0, 0]]\n",
    "\n",
    "    # Populate the confusion matrix\n",
    "    for true_label, pred_label in zip(y_true, y_pred):\n",
    "        cm[true_label][pred_label] += 1\n",
    "\n",
    "    # Print the confusion matrix\n",
    "    for row in cm:\n",
    "        print(row)\n",
    "\n",
    "    # Calculate precision and recall\n",
    "    #precision = cm[1][1] / (cm[1][1] + cm[0][1])\n",
    "    precision = cm[1][1] / (cm[1][1] + cm[0][1]) if (cm[1][1] + cm[0][1]) != 0 else 0.0\n",
    "\n",
    "    recall = cm[1][1] / (cm[1][1] + cm[1][0])\n",
    "\n",
    "    # Calculate the F-score\n",
    "    #f_score = 2 * (precision * recall) / (precision + recall)\n",
    "    if (precision + recall) != 0:\n",
    "        f_score = 2 * (precision * recall) / (precision + recall)\n",
    "    else:\n",
    "        f_score = 0.0\n",
    "\n",
    "\n",
    "    # Calculate accuracy\n",
    "    accuracy = (cm[0][0] + cm[1][1]) / sum(map(sum, cm))\n",
    "\n",
    "    return { 'f_score': f_score, 'accuracy': accuracy, 'truth': y_true, 'predicted': y_pred, 'responses': responses }\n",
    "\n"
   ]
  },
  {
   "attachments": {},
   "cell_type": "markdown",
   "metadata": {},
   "source": [
    "Observe que preenchemos manualmente uma `matriz de confusão` comparando o `valor verdadeiro` de cada item do conjunto de dados com o resultado da resposta do `ChatGPT`.\n",
    "\n",
    "Usando os números resultantes, também podemos calcular a `precision`, `recall`, `F-score` e a `accuracy` geral.\n",
    "\n",
    "Um exemplo de execução do método de previsão com um `prompt` é mostrado abaixo."
   ]
  },
  {
   "cell_type": "code",
   "execution_count": 43,
   "metadata": {},
   "outputs": [
    {
     "name": "stdout",
     "output_type": "stream",
     "text": [
      "[5, 1]\n",
      "[0, 6]\n"
     ]
    },
    {
     "data": {
      "text/plain": [
       "{'f_score': 0.923076923076923,\n",
       " 'accuracy': 0.9166666666666666,\n",
       " 'truth': [0, 1, 1, 1, 1, 1, 1, 0, 0, 0, 0, 0],\n",
       " 'predicted': [1, 1, 1, 1, 1, 1, 1, 0, 0, 0, 0, 0],\n",
       " 'responses': ['sim',\n",
       "  'sim',\n",
       "  'Sim.',\n",
       "  'Sim.',\n",
       "  'sim',\n",
       "  'Sim.',\n",
       "  'Sim.',\n",
       "  'Não.',\n",
       "  'Não.',\n",
       "  'Não.',\n",
       "  'Não.',\n",
       "  'Não.']}"
      ]
     },
     "execution_count": 43,
     "metadata": {},
     "output_type": "execute_result"
    }
   ],
   "source": [
    "predict(\"\"\"Determine se a seguinte frase entre crases \\\n",
    "        contém um sentimento de raiva, repulsa ou negatividade. \\\n",
    "        Responda apenas com a palavra \"sim\" ou \"não\".\"\"\")\n"
   ]
  },
  {
   "cell_type": "code",
   "execution_count": null,
   "metadata": {},
   "outputs": [],
   "source": []
  }
 ],
 "metadata": {
  "kernelspec": {
   "display_name": "venv_LLMs",
   "language": "python",
   "name": "python3"
  },
  "language_info": {
   "codemirror_mode": {
    "name": "ipython",
    "version": 3
   },
   "file_extension": ".py",
   "mimetype": "text/x-python",
   "name": "python",
   "nbconvert_exporter": "python",
   "pygments_lexer": "ipython3",
   "version": "3.10.6"
  },
  "orig_nbformat": 4
 },
 "nbformat": 4,
 "nbformat_minor": 2
}
