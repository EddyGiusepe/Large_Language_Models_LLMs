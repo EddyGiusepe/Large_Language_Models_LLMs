{
 "cells": [
  {
   "attachments": {},
   "cell_type": "markdown",
   "metadata": {},
   "source": [
    "<h1 align=\"center\"><font color=\"yellow\">Best Practices in Prompt Engineering</font></h1>"
   ]
  },
  {
   "attachments": {},
   "cell_type": "markdown",
   "metadata": {},
   "source": [
    "<font color=\"yellow\">Data Scientist.: Dr.Eddy Giusepe Chirinos Isidro</font>"
   ]
  },
  {
   "attachments": {},
   "cell_type": "markdown",
   "metadata": {},
   "source": [
    "\n",
    "\n",
    "\n",
    "Este estudo está baseado nos seguintes links:\n",
    "\n",
    "* [ChatGPT Prompt Engineering for Developers](https://learn.deeplearning.ai/chatgpt-prompt-eng/lesson/1/introduction)\n",
    "\n",
    "\n",
    "* [BEST Practices in Prompt Engineering: Learnings and Thoughts from Andrew Ng's New Course](https://www.youtube.com/watch?v=oXo4xdPpzgk)\n",
    "\n",
    "\n",
    "* [Prompt Engineering](https://towardsdatascience.com/best-practices-in-prompt-engineering-a18d6bab904b)"
   ]
  },
  {
   "attachments": {},
   "cell_type": "markdown",
   "metadata": {},
   "source": [
    "# Contextualizando"
   ]
  },
  {
   "attachments": {},
   "cell_type": "markdown",
   "metadata": {},
   "source": [
    "<font color=\"orange\">A Deep Learning AI lançou recentemente um novo curso `ChatGPT Prompt Engineering for Developers`, liderado por `Isa Fulford` e `Andrew Ng`. É um curso curto gratuito de 1.5 horas e este curso é incrível. Neste script seguimos as discussões da `Sophia Yang`: \n",
    "\n",
    "* `Parte 1:` resumo do curso\n",
    "\n",
    "* `Parte 2:` Melhores práticas em engenharia de prompt com 🦜🔗 LangChain e várias dicas e truques de `OpenAI`.</font>"
   ]
  },
  {
   "cell_type": "code",
   "execution_count": 1,
   "metadata": {},
   "outputs": [
    {
     "name": "stdout",
     "output_type": "stream",
     "text": [
      "Carregando a Chave CentralIT:  True\n"
     ]
    }
   ],
   "source": [
    "# Isto é quando usas o arquivo .env:\n",
    "import openai \n",
    "from dotenv import load_dotenv\n",
    "import os\n",
    "\n",
    "print('Carregando a Chave CentralIT: ', load_dotenv())\n",
    "Eddy_API_KEY_OpenAI = os.environ['OPENAI_API_KEY']  \n",
    "Eddy_API_KEY_Cohere = os.environ[\"COHERE_API_KEY\"]\n",
    "Eddy_API_KEY_HuggingFace = os.environ[\"HUGGINGFACEHUB_API_TOKEN\"]\n",
    "Eddy_API_KEY_SerpApi = os.environ[\"SERPAPI_API_KEY\"]\n",
    "Eddy_API_KEY_WolframAlpha = os.environ[\"WOLFRAM_ALPHA_APPID\"]\n",
    "\n",
    "\n",
    "# Adicione isto para usar a sua have:\n",
    "openai.api_key = Eddy_API_KEY_OpenAI\n",
    "\n"
   ]
  },
  {
   "cell_type": "code",
   "execution_count": 2,
   "metadata": {},
   "outputs": [],
   "source": [
    "def get_completion(prompt, model =\"gpt-3.5-turbo\", temperature =0):\n",
    "    messages = [{\"role\": \"user\", \"content\": prompt}]\n",
    "    response = openai.ChatCompletion.create(model = model,\n",
    "                                            messages = messages,\n",
    "                                            temperature=temperature\n",
    "                                            )\n",
    "    \n",
    "\n",
    "    return response.choices[0].message[\"content\"]    \n"
   ]
  },
  {
   "attachments": {},
   "cell_type": "markdown",
   "metadata": {},
   "source": [
    "# Parte 1: Resumo do Curso"
   ]
  },
  {
   "attachments": {},
   "cell_type": "markdown",
   "metadata": {},
   "source": [
    "Este [curso](https://learn.deeplearning.ai/chatgpt-prompt-eng/lesson/1/introduction) inclui três partes: dois princípios prompt, um processo de desenvolvimento iterativo e recursos, incluindo resumo, inferência, transformação, expansão e construção de um chatbot."
   ]
  },
  {
   "attachments": {},
   "cell_type": "markdown",
   "metadata": {},
   "source": [
    "# 1. Dois princípios prompt"
   ]
  },
  {
   "attachments": {},
   "cell_type": "markdown",
   "metadata": {},
   "source": [
    "## <font color=\"red\">Princípio 1: Escreva instruções claras e específicas</font>"
   ]
  },
  {
   "attachments": {},
   "cell_type": "markdown",
   "metadata": {},
   "source": [
    "* <font color=\"yellow\">Tática 1:</font> \n",
    "\n",
    "\n",
    "Use delimitadores como ```, “ “ “, `< >`, `<tag> </tag>` para indicar claramente partes distintas da entrada. Isso ajudará a organizar melhor sua entrada e evitar injeções prompt."
   ]
  },
  {
   "attachments": {},
   "cell_type": "markdown",
   "metadata": {},
   "source": [
    "`Neste exemplo`, os delimitadores ``` são usados ​​para indicar qual texto gostaríamos de resumir."
   ]
  },
  {
   "cell_type": "code",
   "execution_count": null,
   "metadata": {},
   "outputs": [],
   "source": [
    "text = f\"\"\"\n",
    "Você deve expressar o que deseja que um modelo faça\\\n",
    "fornecendo instruções que são tão claras e \\\n",
    "tão específicos quanto possível. \\\n",
    "Isso guiará o modelo em direção à saída desejada, \\\n",
    "e reduza as chances de receber \\\n",
    "irrelevantes ou respostas incorretas. Não confunda escrever um \\\n",
    "prompt claro com escrever um prompt curto. \\\n",
    "Em muitos casos, prompts mais longos fornecem mais clareza \\\n",
    "e contexto para o modelo, o que pode levar a \\\n",
    "resultados mais detalhados e relevantes.\n",
    "\"\"\"\n",
    "prompt = f\"\"\"\n",
    "Resuma o texto delimitado por crases triplos \\ \n",
    "em uma única sentença.\n",
    "```{text}```\n",
    "\"\"\"\n"
   ]
  },
  {
   "attachments": {},
   "cell_type": "markdown",
   "metadata": {},
   "source": [
    "* <font color=\"yellow\">Tática 2:</font> \n",
    "\n",
    "Peça uma saída estruturada. `Por exemplo`, podemos ter a saída em um formato `JSON`, que mais tarde podemos ler facilmente em uma `lista` ou `dicionário` em `Python`."
   ]
  },
  {
   "cell_type": "code",
   "execution_count": null,
   "metadata": {},
   "outputs": [
    {
     "name": "stdout",
     "output_type": "stream",
     "text": [
      "[\n",
      "  {\n",
      "    \"book_id\": 1,\n",
      "    \"title\": \"O Segredo do Jardim\",\n",
      "    \"author\": \"Ana Paula Silva\",\n",
      "    \"genre\": \"Romance\"\n",
      "  },\n",
      "  {\n",
      "    \"book_id\": 2,\n",
      "    \"title\": \"A Última Carta\",\n",
      "    \"author\": \"Pedro Henrique Santos\",\n",
      "    \"genre\": \"Suspense\"\n",
      "  },\n",
      "  {\n",
      "    \"book_id\": 3,\n",
      "    \"title\": \"A Magia da Floresta\",\n",
      "    \"author\": \"Carla Oliveira\",\n",
      "    \"genre\": \"Fantasia\"\n",
      "  }\n",
      "]\n"
     ]
    }
   ],
   "source": [
    "prompt = f\"\"\"\n",
    "Gere uma lista de três títulos de livros inventados \\\n",
    "junto com seus autores e gêneros.\n",
    "Forneça-os no formato JSON com as seguintes chaves: book_id, title, author, genre.\n",
    "\"\"\"\n",
    "response = get_completion(prompt)\n",
    "\n",
    "print(response)\n"
   ]
  },
  {
   "attachments": {},
   "cell_type": "markdown",
   "metadata": {},
   "source": [
    "* <font color=\"yellow\">Tática 3:</font> \n",
    "\n",
    "Verifique se as condições são satisfeitas. Podemos pedir no prompt para verificar as suposições primeiro. Também pode ser útil pensar nas arestas e em como os modelos devem lidar com elas. `Neste exemplo`, o texto não contém instruções, demos a instrução para ele escrever `“Nenhuma etapa fornecida”`."
   ]
  },
  {
   "cell_type": "code",
   "execution_count": 9,
   "metadata": {},
   "outputs": [
    {
     "name": "stdout",
     "output_type": "stream",
     "text": [
      "Completion para Text 2:\n",
      "Nenhuma etapa fornecida.\n"
     ]
    }
   ],
   "source": [
    "text_2 = f\"\"\"\n",
    "O sol está brilhando forte hoje e os pássaros estão \\\n",
    "cantando. Está um lindo dia para passear no parque. \\\n",
    "As flores estão desabrochando e as árvores balançando \\\n",
    "suavemente com a brisa. As pessoas estão fora de casa, \\\n",
    "aproveitando o clima agradável. Alguns estão fazendo piqueniques, \\\n",
    "enquanto outros estão jogando ou simplesmente relaxando na grama. \\\n",
    "É um dia perfeito para passar o tempo ao ar livre e apreciar a beleza da natureza.\n",
    "\"\"\"\n",
    "prompt = f\"\"\"\n",
    "Você receberá um texto delimitado por aspas triplas. se contiver \\\n",
    "uma sequência de instruções, reescreva essas instruções no seguinte formato:\n",
    "\n",
    "Passo 1 - . . .\n",
    "Passo 2 - . . .\n",
    ".\n",
    ".\n",
    ".\n",
    "Passo N - . . .\n",
    "\n",
    "Se o texto não contiver uma sequência de instruções, basta escrever \\\"Nenhuma etapa fornecida. \\\"\n",
    "\\\"\\\"\\\"{text_2}\\\"\\\"\\\"\n",
    "\"\"\"\n",
    "\n",
    "response = get_completion(prompt)\n",
    "\n",
    "print(\"Completion para Text 2:\")\n",
    "print(response)\n"
   ]
  },
  {
   "cell_type": "code",
   "execution_count": 10,
   "metadata": {},
   "outputs": [
    {
     "name": "stdout",
     "output_type": "stream",
     "text": [
      "Completion for Text 1:\n",
      "Step 1 - Get some water boiling.\n",
      "Step 2 - Grab a cup and put a tea bag in it.\n",
      "Step 3 - Once the water is hot enough, pour it over the tea bag.\n",
      "Step 4 - Let it sit for a bit so the tea can steep.\n",
      "Step 5 - After a few minutes, take out the tea bag.\n",
      "Step 6 - Add some sugar or milk to taste.\n",
      "Step 7 - Enjoy your delicious cup of tea!\n"
     ]
    }
   ],
   "source": [
    "text_1 = f\"\"\"\n",
    "Making a cup of tea is easy! First, you need to get some \\ \n",
    "water boiling. While that's happening, \\ \n",
    "grab a cup and put a tea bag in it. Once the water is \\ \n",
    "hot enough, just pour it over the tea bag. \\ \n",
    "Let it sit for a bit so the tea can steep. After a \\ \n",
    "few minutes, take out the tea bag. If you \\ \n",
    "like, you can add some sugar or milk to taste. \\ \n",
    "And that's it! You've got yourself a delicious \\ \n",
    "cup of tea to enjoy.\n",
    "\"\"\"\n",
    "prompt = f\"\"\"\n",
    "You will be provided with text delimited by triple quotes. \n",
    "If it contains a sequence of instructions, \\ \n",
    "re-write those instructions in the following format:\n",
    "\n",
    "Step 1 - ...\n",
    "Step 2 - …\n",
    "…\n",
    "Step N - …\n",
    "\n",
    "If the text does not contain a sequence of instructions, \\ \n",
    "then simply write \\\"No steps provided.\\\"\n",
    "\n",
    "\\\"\\\"\\\"{text_1}\\\"\\\"\\\"\n",
    "\"\"\"\n",
    "response = get_completion(prompt)\n",
    "print(\"Completion for Text 1:\")\n",
    "print(response)\n"
   ]
  },
  {
   "attachments": {},
   "cell_type": "markdown",
   "metadata": {},
   "source": [
    "* <font color=\"yellow\">Tática 4:</font> \n",
    "\n",
    "\n",
    "<font color=\"orange\">few-shot prompting</font>. Damos exemplos bem-sucedidos de conclusão de tarefas e, em seguida, pedimos ao modelo para executar a tarefa."
   ]
  },
  {
   "cell_type": "code",
   "execution_count": 15,
   "metadata": {},
   "outputs": [
    {
     "name": "stdout",
     "output_type": "stream",
     "text": [
      "<grandparent>: A árvore mais forte é aquela que enfrentou as tempestades mais violentas; a flor mais bela é aquela que sobreviveu aos invernos mais rigorosos; o coração mais corajoso é aquele que superou as maiores adversidades. A resiliência é a capacidade de se recuperar e crescer mais forte diante das dificuldades.\n"
     ]
    }
   ],
   "source": [
    "prompt = f\"\"\"\n",
    "Sua tarefa é responder em um estilo consistente.\n",
    "\n",
    "<child>: Ensina-me sobre a paciência.\n",
    "\n",
    "<grandparent>: O rio que esculpe o vale mais profundo \\\n",
    "flui de uma nascente modelo; a maior sinfonia \\\n",
    "se origina de uma única nota; a tapeçaria mais \\\n",
    "intrincada começa com um fio solitário.\n",
    "\n",
    "<child>: Me ensine sobre resiliência.            \n",
    "\"\"\"\n",
    "\n",
    "response = get_completion(prompt)\n",
    "\n",
    "print(response)\n"
   ]
  },
  {
   "attachments": {},
   "cell_type": "markdown",
   "metadata": {},
   "source": [
    "## <font color=\"red\">Princípio 2: Dê tempo ao modelo para `\"pensar\"`</font>"
   ]
  },
  {
   "attachments": {},
   "cell_type": "markdown",
   "metadata": {},
   "source": [
    "* <font color=\"yellow\">Tática 1:</font> \n",
    "\n",
    "\n",
    "`Especifique as etapas necessárias para concluir uma tarefa e solicite a saída em um formato específico.` Às vezes é difícil para os modelos ou humanos chegarem a uma resposta direta. Para tarefas complicadas, as instruções passo a passo costumam ser úteis. Semelhante à forma como os humanos trabalham, podemos solicitar que o modelo tenha uma cadeia ou uma série de raciocínios relevantes antes que o modelo forneça sua resposta final."
   ]
  },
  {
   "cell_type": "code",
   "execution_count": 16,
   "metadata": {},
   "outputs": [
    {
     "name": "stdout",
     "output_type": "stream",
     "text": [
      "Completion for prompt 1:\n",
      "1 - Os irmãos Jack e Jill buscam água na colina, mas sofrem um acidente e voltam para casa ilesos.\n",
      "2 - Los hermanos Jack y Jill buscan agua en la colina, pero sufren un accidente y regresan a casa ilesos.\n",
      "3 - Jack, Jill.\n",
      "4 - {\n",
      "     \"spanish_summary\": \"Los hermanos Jack y Jill buscan agua en la colina, pero sufren un accidente y regresan a casa ilesos.\",\n",
      "     \"num_names\": 2\n",
      "   }\n"
     ]
    }
   ],
   "source": [
    "text = f\"\"\"\n",
    "Em uma charmosa vila, os irmãos Jack e Jill partem \\\n",
    "uma missão para buscar água no topo de uma colina \\\n",
    "bem. Enquanto subiam, cantando alegremente, infortúnio \\\n",
    "atingido - Jack tropeçou em uma pedra e caiu \\\n",
    "descendo a colina, com Jill seguindo o exemplo. \\\n",
    "Embora um pouco maltratados, os dois voltaram para casa para \\\n",
    "abraços reconfortantes. Apesar do contratempo, \\\n",
    "seus espíritos aventureiros permaneceram intactos, e eles \\\n",
    "continuram explorando com prazer.\n",
    "\"\"\"\n",
    "\n",
    "# Example 1:\n",
    "prompt_1 = f\"\"\"\n",
    "Execute as seguintes ações:\n",
    "1 - Resuma o seguinte texto delimitado por aspas \\\n",
    "triplas com 1 frase.\n",
    "2 - Traduza o resumo para o espanhol.\n",
    "3 - Liste cada nome no resumo em espanhol.\n",
    "4 - Gere um objeto json que contém o seguinte \\\n",
    "chaves: spanish_summary, num_names.\n",
    "\n",
    "Separe suas respostas com quebras de linha.\n",
    "\n",
    "\n",
    "Text:\n",
    "```{text}```\n",
    "\"\"\"\n",
    "\n",
    "response = get_completion(prompt_1)\n",
    "print(\"Completion for prompt 1:\")\n",
    "print(response)"
   ]
  },
  {
   "cell_type": "code",
   "execution_count": 17,
   "metadata": {},
   "outputs": [
    {
     "name": "stdout",
     "output_type": "stream",
     "text": [
      "\n",
      "Completion para prompt 2:\n",
      "Summary: Jack and Jill go on a mission to fetch water but have a mishap on the way back, yet remain adventurous.\n",
      "Translation: Jack y Jill van en una misión para buscar agua pero tienen un percance en el camino de vuelta, sin embargo, siguen siendo aventureros.\n",
      "Names: Jack, Jill\n",
      "Output JSON: {\"spanish_summary\": \"Jack y Jill van en una misión para buscar agua pero tienen un percance en el camino de vuelta, sin embargo, siguen siendo aventureros.\", \"num_names\": 2}\n"
     ]
    }
   ],
   "source": [
    "prompt_2 = f\"\"\"\n",
    "sua tarefa é executar as seguintes ações:\n",
    "1 - Resuma o seguinte texto delimitado por <> com 1 sentença.\n",
    "2 - Traduza o resumo para o espanhol.\n",
    "3 - Liste cada nome no resumo em espanhol.\n",
    "4 - Gere um objeto json que contém as seguintes chaves: spanish_summary, num_names.\n",
    "\n",
    "Use o seguinte formato:\n",
    "Text: <texto para resumir>\n",
    "Summary: <resumo>\n",
    "Translation: <tradução resumida>\n",
    "Names: <lista de nomes em resumo italiano>\n",
    "Output JSON: <json com resumo e num_names>\n",
    "\n",
    "Text: <{text}>\n",
    "\"\"\"\n",
    "\n",
    "response = get_completion(prompt_2)\n",
    "print(\"\\nCompletion para prompt 2:\")\n",
    "print(response)\n"
   ]
  },
  {
   "attachments": {},
   "cell_type": "markdown",
   "metadata": {},
   "source": [
    "* <font color=\"yellow\">Tática 2:</font> \n",
    "\n",
    "\n",
    "Instrua o modelo a elaborar sua própria solução antes de chegar a uma conclusão apressada."
   ]
  },
  {
   "cell_type": "code",
   "execution_count": 19,
   "metadata": {},
   "outputs": [
    {
     "name": "stdout",
     "output_type": "stream",
     "text": [
      "The student's solution is correct.\n"
     ]
    }
   ],
   "source": [
    "prompt = f\"\"\"\n",
    "Determine if the student's solution is correct or not.\n",
    "\n",
    "Question:\n",
    "I'm building a solar power installation and I need \\\n",
    " help working out the financials. \n",
    "- Land costs $100 / square foot\n",
    "- I can buy solar panels for $250 / square foot\n",
    "- I negotiated a contract for maintenance that will cost \\ \n",
    "me a flat $100k per year, and an additional $10 / square \\\n",
    "foot\n",
    "What is the total cost for the first year of operations \n",
    "as a function of the number of square feet.\n",
    "\n",
    "Student's Solution:\n",
    "Let x be the size of the installation in square feet.\n",
    "Costs:\n",
    "1. Land cost: 100x\n",
    "2. Solar panel cost: 250x\n",
    "3. Maintenance cost: 100,000 + 100x\n",
    "Total cost: 100x + 250x + 100,000 + 100x = 450x + 100,000\n",
    "\"\"\"\n",
    "response = get_completion(prompt)\n",
    "print(response)"
   ]
  },
  {
   "cell_type": "code",
   "execution_count": 18,
   "metadata": {},
   "outputs": [
    {
     "name": "stdout",
     "output_type": "stream",
     "text": [
      "Para calcular o custo total, precisamos somar o custo do terreno, o custo dos painéis solares e o custo de manutenção. O custo de manutenção é de R$100.000 mais R$10 por pé quadrado, então podemos escrever isso como 100000 + 10x. Portanto, a solução atual é:\n",
      "\n",
      "1. Custo do terreno: 100x\n",
      "2. Custo do painel solar: 250x\n",
      "3. Custo de manutenção: 100000 + 10x\n",
      "Custo total: 100x + 250x + 100000 + 10x = 360x + 100000\n",
      "\n",
      "A solução do aluno é igual à solução atual recém-calculada:\n",
      "```\n",
      "Sim\n",
      "```\n",
      "Nota do aluno:\n",
      "```\n",
      "Correto\n",
      "```\n"
     ]
    }
   ],
   "source": [
    "prompt = f\"\"\"\n",
    "Sua tarefa é determinar se a solução do aluno está correta ou não.\n",
    "Para resolver o problema faça o seguinte:\n",
    "- Primeiro, elabore sua própria solução para o problema.\n",
    "- Em seguida, compare sua solução com a solução do aluno e\n",
    "avalie se a solução do aluno está correta ou não. Não decida\n",
    "se a solução do aluno está correta até que você mesmo tenha resolvido o problema.\n",
    "\n",
    "Use o seguinte formato:\n",
    "Pergunta:\n",
    "```\n",
    "pergunta aqui\n",
    "```\n",
    "Solução do aluno:\n",
    "```\n",
    "solução do aluno aqui\n",
    "```\n",
    "Solução atual:\n",
    "```\n",
    "passos para elaborar a solução e sua solução aqui\n",
    "```\n",
    "A solução do aluno é igual à solução atual recém-calculada:\n",
    "```\n",
    "sim ou não\n",
    "```\n",
    "Nota do aluno:\n",
    "```\n",
    "correto ou incorreto\n",
    "```\n",
    "\n",
    "Pergunta:\n",
    "```\n",
    "Estou construindo uma instalação de energia solar e preciso de ajuda com as finanças.\n",
    "- Terreno custa R$100/pé quadrado\n",
    "- Posso comprar painéis solares por R$250/pé quadrado\n",
    "- Negociei um contrato de manutenção que me custará R$100 mil por ano, \n",
    "  mais R$10 por pé quadrado.\n",
    "Qual é o custo total para o primeiro ano de operação em função do número de pés quadrados.\n",
    "```\n",
    "Solução do aluno:\n",
    "```\n",
    "Seja x o tamanho da instalação em pés quadrados.\n",
    "Custos:\n",
    "1. Custo do terreno: 100x\n",
    "2. Custo do painel solar: 250x\n",
    "3. Custo de manutenção: 100.000 + 100x\n",
    "Custo total: 100x + 250x + 100.000 + 100x = 450x + 100.000\n",
    "```\n",
    "Solução atual:\n",
    "\"\"\"\n",
    "\n",
    "response = get_completion(prompt)\n",
    "print(response)\n"
   ]
  },
  {
   "attachments": {},
   "cell_type": "markdown",
   "metadata": {},
   "source": [
    "`Model Limitations: Hallucinations`\n",
    "\n",
    "\n",
    "Boie is a real company, the product name is not real."
   ]
  },
  {
   "cell_type": "code",
   "execution_count": 20,
   "metadata": {},
   "outputs": [
    {
     "name": "stdout",
     "output_type": "stream",
     "text": [
      "A escova de dentes inteligente AeroGlide UltraSlim da Boie é uma escova de dentes elétrica de alta tecnologia que utiliza a tecnologia de vibração sônica para limpar os dentes de forma eficaz. A escova é projetada com cerdas ultrafinas e macias que são gentis com os dentes e gengivas, mas ainda assim eficazes na remoção da placa bacteriana e manchas.\n",
      "\n",
      "A escova de dentes inteligente AeroGlide UltraSlim da Boie também possui um temporizador integrado que ajuda a garantir que você escove seus dentes pelo tempo recomendado de dois minutos. Além disso, a escova é recarregável e vem com uma base de carregamento que pode ser conectada a uma porta USB.\n",
      "\n",
      "A escova de dentes inteligente AeroGlide UltraSlim da Boie é uma ótima opção para quem procura uma escova de dentes elétrica de alta qualidade que seja gentil com os dentes e gengivas, mas ainda assim eficaz na limpeza. Com sua tecnologia de vibração sônica e cerdas ultrafinas, esta escova de dentes é uma escolha inteligente para quem deseja manter uma boa saúde bucal.\n"
     ]
    }
   ],
   "source": [
    "prompt = f\"\"\"\n",
    "Conte-me sobre a escova de dentes inteligente AeroGlide UltraSlim da Boie\n",
    "\"\"\"\n",
    "response = get_completion(prompt)\n",
    "print(response)\n"
   ]
  },
  {
   "attachments": {},
   "cell_type": "markdown",
   "metadata": {},
   "source": [
    "# 2. Desenvolvimento de Prompt Iterativo"
   ]
  },
  {
   "attachments": {},
   "cell_type": "markdown",
   "metadata": {},
   "source": [
    "O processo de `desenvolvimento de prompt iterativo` é muito semelhante à forma como codificamos. Tentamos algo e, se não funcionar, refinamos e tentamos novamente:\n",
    "\n",
    "* tentar algo\n",
    "\n",
    "* analise onde o resultado não dá o que você quer\n",
    "\n",
    "* esclarecer instruções, dar mais tempo para pensar\n",
    "\n",
    "* refinar prompts com um lote de exemplos\n",
    "\n",
    "* repita\n",
    "\n",
    "No exemplo do [curso](https://learn.deeplearning.ai/chatgpt-prompt-eng/lesson/1/introduction), Andrew percorreu um exemplo para gerar uma cópia de marketing de uma ficha técnica do produto. Ele descobriu e resolveu iterativamente esses três problemas com prompts refinados em cada etapa.\n",
    "\n",
    "* Problema 1: O texto é muito longo -> `Solução:` “Use no máximo 50 palavras”.\n",
    "\n",
    "* Problema 2. O texto se concentra nos detalhes errados -> `Solução:` adicione o público-alvo `“A descrição destina-se a varejistas de móveis . . .”`\n",
    "\n",
    "* Problema 3. A descrição precisa de uma tabela de dimensões -> `Solução:` “Formatar tudo como HTML”"
   ]
  },
  {
   "attachments": {},
   "cell_type": "markdown",
   "metadata": {},
   "source": [
    "<font color=\"orange\">Gere uma descrição de produto de marketing a partir de uma ficha técnica do produto</font>"
   ]
  },
  {
   "cell_type": "code",
   "execution_count": 3,
   "metadata": {},
   "outputs": [],
   "source": [
    "fact_sheet_chair = \"\"\"\n",
    "VISÃO GERAL\n",
    "- Parte de uma bela família de móveis de escritório inspirados em meados do século,\n",
    "incluindo armários de arquivo, mesas, estantes, mesas de reunião e muito mais.\n",
    "- Diversas opções de cores de casca e acabamentos de base.\n",
    "- Disponível com estofamento traseiro e dianteiro de plástico (SWC-100)\n",
    "ou estofamento completo (SWC-110) em 10 opções de tecido e 6 opções de couro.\n",
    "- As opções de acabamento da base são: aço inox, preto fosco,\n",
    "branco brilhante ou cromado.\n",
    "- A cadeira está disponível com ou sem braços.\n",
    "- Adequado para ambientes domésticos ou empresariais.\n",
    "- Qualificado para uso contratual.\n",
    "\n",
    "CONSTRUÇÃO\n",
    "- Base de 5 rodas em alumínio plastificado.\n",
    "- Ajuste pneumático da cadeira para facilitar a ação de levantar/descer.\n",
    "\n",
    "DIMENSÕES\n",
    "- LARGURA 53 CM | 20,87”\n",
    "- PROFUNDIDADE 51 CM | 20.08”\n",
    "- ALTURA 80 CM | 31,50\"\n",
    "- ALTURA DO ASSENTO 44 CM | 17,32\"\n",
    "- PROFUNDIDADE DO ASSENTO 41 CM | 16,14\"\n",
    "\n",
    "OPÇÕES\n",
    "- Opções de rodízios macios ou duros.\n",
    "- Duas opções de densidades de espuma do assento:\n",
    "  médio (1,8 lb/ft3) ou alto (2,8 lb/ft3)\n",
    "- Apoios de braços em PU sem braços ou de 8 posições\n",
    "\n",
    "MATERIAIS\n",
    "PLANADOR COM BASE DE CASCO\n",
    "- Alumínio fundido com revestimento de nylon modificado PA6/PA66.\n",
    "- Espessura da casca: 10 mm.\n",
    "ASSENTO\n",
    "- Espuma HD36\n",
    "\n",
    "PAÍS DE ORIGEM\n",
    "- Brasil\n",
    "\"\"\""
   ]
  },
  {
   "cell_type": "code",
   "execution_count": 4,
   "metadata": {},
   "outputs": [
    {
     "name": "stdout",
     "output_type": "stream",
     "text": [
      "Apresentamos a cadeira de escritório SWC, parte de uma bela família de móveis de escritório inspirados em meados do século. Com diversas opções de cores de casca e acabamentos de base, a SWC está disponível com estofamento traseiro e dianteiro de plástico ou estofamento completo em 10 opções de tecido e 6 opções de couro. A cadeira está disponível com ou sem braços e é adequada para ambientes domésticos ou empresariais, sendo qualificada para uso contratual.\n",
      "\n",
      "A SWC possui uma base de 5 rodas em alumínio plastificado e ajuste pneumático da cadeira para facilitar a ação de levantar/descer. Suas dimensões são: largura de 53 cm, profundidade de 51 cm, altura de 80 cm e altura do assento de 44 cm. O assento possui duas opções de densidades de espuma: médio ou alto, e os apoios de braços são em PU sem braços ou de 8 posições.\n",
      "\n",
      "A SWC é construída com alumínio fundido com revestimento de nylon modificado PA6/PA66 e espessura da casca de 10 mm. O assento é feito de espuma HD36. A cadeira é produzida no Brasil e está disponível com opções de rodízios macios ou duros. Com a SWC, você terá uma cadeira de escritório elegante e confortável para trabalhar por horas a fio.\n"
     ]
    }
   ],
   "source": [
    "prompt = f\"\"\"\n",
    "Sua tarefa é ajudar uma equipe de marketing a criar um\n",
    "descrição para um site de varejo de um produto baseado\n",
    "em uma ficha técnica.\n",
    "\n",
    "Escreva uma descrição do produto com base nas informações\n",
    "previsto nas especificações técnicas delimitadas por aspas\n",
    "triplas.\n",
    "\n",
    "Especificações técnicas: ```{fact_sheet_chair}```\n",
    "\"\"\"\n",
    "\n",
    "response = get_completion(prompt)\n",
    "print(response)"
   ]
  },
  {
   "attachments": {},
   "cell_type": "markdown",
   "metadata": {},
   "source": [
    "* `Problema 1:` O texto é muito longo\n",
    "\n",
    "\n",
    "<font color=\"orange\">Limite o número de palavras/frases/caracteres.</font>"
   ]
  },
  {
   "cell_type": "code",
   "execution_count": 6,
   "metadata": {},
   "outputs": [
    {
     "name": "stdout",
     "output_type": "stream",
     "text": [
      "A cadeira de escritório SWC é parte de uma bela família de móveis inspirados em meados do século. Com diversas opções de cores e acabamentos, é adequada para ambientes domésticos ou empresariais. Possui ajuste pneumático e opções de rodízios macios ou duros. Disponível com ou sem braços. Fabricada no Brasil.\n"
     ]
    }
   ],
   "source": [
    "prompt = f\"\"\"\n",
    "Sua tarefa é ajudar uma equipe de marketing a criar um\n",
    "descrição para um site de varejo de um produto baseado\n",
    "em uma ficha técnica.\n",
    "\n",
    "Escreva uma descrição do produto com base nas informações\n",
    "previsto nas especificações técnicas delimitadas por aspas\n",
    "triplas.\n",
    "\n",
    "Use no máximo 50 palavras.\n",
    "\n",
    "Especificações técnicas: ```{fact_sheet_chair}```\n",
    "\"\"\"\n",
    "\n",
    "response = get_completion(prompt)\n",
    "print(response)"
   ]
  },
  {
   "cell_type": "code",
   "execution_count": 8,
   "metadata": {},
   "outputs": [
    {
     "data": {
      "text/plain": [
       "50"
      ]
     },
     "execution_count": 8,
     "metadata": {},
     "output_type": "execute_result"
    }
   ],
   "source": [
    "# Pode fazer -->  len(response)\n",
    "\n",
    "# Temos 50 palavras:\n",
    "len(response.split(\" \"))"
   ]
  },
  {
   "attachments": {},
   "cell_type": "markdown",
   "metadata": {},
   "source": [
    "* `Problema 2.` O texto foca nos detalhes errados\n",
    "\n",
    "<font color=\"orange\">Peça-lhe para se concentrar nos aspectos que são relevantes para o público-alvo.</font>"
   ]
  },
  {
   "cell_type": "code",
   "execution_count": 9,
   "metadata": {},
   "outputs": [
    {
     "name": "stdout",
     "output_type": "stream",
     "text": [
      "Apresentamos a cadeira de escritório da família de móveis inspirados em meados do século. Com diversas opções de cores de casca e acabamentos de base, esta cadeira está disponível com ou sem braços e em 10 opções de tecido e 6 opções de couro. A base de 5 rodas em alumínio plastificado e o ajuste pneumático da cadeira facilitam a ação de levantar/descer. Adequado para ambientes domésticos ou empresariais, esta cadeira é qualificada para uso contratual. Fabricada no Brasil.\n"
     ]
    }
   ],
   "source": [
    "prompt = f\"\"\"\n",
    "Sua tarefa é ajudar uma equipe de marketing a criar um\n",
    "descrição para um site de varejo de um produto baseado\n",
    "em uma ficha técnica.\n",
    "\n",
    "Escreva uma descrição do produto com base nas informações\n",
    "previsto nas especificações técnicas delimitadas por\n",
    "aspas triplas.\n",
    "\n",
    "A descrição é destinada a varejistas de móveis,\n",
    "portanto, deve ser de natureza técnica e focar no\n",
    "materiais com os quais o produto é construído.\n",
    "\n",
    "Use no máximo 50 palavras.\n",
    "\n",
    "Especificações técnicas: ```{fact_sheet_chair}```\n",
    "\"\"\"\n",
    "response = get_completion(prompt)\n",
    "print(response)\n"
   ]
  },
  {
   "cell_type": "code",
   "execution_count": 10,
   "metadata": {},
   "outputs": [
    {
     "name": "stdout",
     "output_type": "stream",
     "text": [
      "A cadeira de escritório SWC é parte de uma família de móveis inspirados em meados do século, com diversas opções de cores e acabamentos. A base de alumínio plastificado possui 5 rodas e ajuste pneumático para levantar/descer. Disponível com ou sem braços, a cadeira é adequada para ambientes domésticos ou empresariais. ID do produto: SWC-100 ou SWC-110.\n"
     ]
    }
   ],
   "source": [
    "prompt = f\"\"\"\n",
    "Sua tarefa é ajudar uma equipe de marketing a criar um\n",
    "descrição para um site de varejo de um produto baseado\n",
    "em uma ficha técnica.\n",
    "\n",
    "Escreva uma descrição do produto com base nas informações\n",
    "previsto nas especificações técnicas delimitadas por\n",
    "aspas triplas.\n",
    "\n",
    "A descrição é destinada a varejistas de móveis,\n",
    "portanto, deve ser de natureza técnica e focar no\n",
    "materiais com os quais o produto é construído.\n",
    "\n",
    "No final da descrição, inclua todos os 7 caracteres\n",
    "ID do produto na especificação técnica.\n",
    "\n",
    "Use no máximo 50 palavras.\n",
    "\n",
    "Especificações técnicas: ```{fact_sheet_chair}```\n",
    "\"\"\"\n",
    "response = get_completion(prompt)\n",
    "print(response)\n"
   ]
  },
  {
   "attachments": {},
   "cell_type": "markdown",
   "metadata": {},
   "source": [
    "* `Problema 3.` A descrição precisa de uma tabela de dimensões\n",
    "\n",
    "<font color=\"orange\">Peça a ele para extrair informações e organizá-las em uma tabela.</font>"
   ]
  },
  {
   "cell_type": "code",
   "execution_count": 11,
   "metadata": {},
   "outputs": [
    {
     "name": "stdout",
     "output_type": "stream",
     "text": [
      "<div>\n",
      "  <h2>Cadeira de Escritório Mid-Century</h2>\n",
      "  <p>A Cadeira de Escritório Mid-Century é parte de uma bela família de móveis de escritório inspirados em meados do século. Com diversas opções de cores de casca e acabamentos de base, esta cadeira está disponível com estofamento traseiro e dianteiro de plástico ou estofamento completo em 10 opções de tecido e 6 opções de couro. A base de 5 rodas em alumínio plastificado e o ajuste pneumático da cadeira facilitam a ação de levantar/descer. A cadeira está disponível com ou sem braços e é adequada para ambientes domésticos ou empresariais. Qualificada para uso contratual, a Cadeira de Escritório Mid-Century é uma escolha elegante e confortável para qualquer espaço de trabalho.</p>\n",
      "  <p>ID do Produto: SWC-100</p>\n",
      "  \n",
      "  <table>\n",
      "    <caption>Dimensões do produto</caption>\n",
      "    <tr>\n",
      "      <th>Dimensão</th>\n",
      "      <th>Medida (polegadas)</th>\n",
      "    </tr>\n",
      "    <tr>\n",
      "      <td>Largura</td>\n",
      "      <td>20,87\"</td>\n",
      "    </tr>\n",
      "    <tr>\n",
      "      <td>Profundidade</td>\n",
      "      <td>20,08\"</td>\n",
      "    </tr>\n",
      "    <tr>\n",
      "      <td>Altura</td>\n",
      "      <td>31,50\"</td>\n",
      "    </tr>\n",
      "    <tr>\n",
      "      <td>Altura do Assento</td>\n",
      "      <td>17,32\"</td>\n",
      "    </tr>\n",
      "    <tr>\n",
      "      <td>Profundidade do Assento</td>\n",
      "      <td>16,14\"</td>\n",
      "    </tr>\n",
      "  </table>\n",
      "</div>\n"
     ]
    }
   ],
   "source": [
    "prompt = f\"\"\"\n",
    "Sua tarefa é ajudar uma equipe de marketing a criar um\n",
    "descrição para um site de varejo de um produto baseado\n",
    "em uma ficha técnica.\n",
    "\n",
    "Escreva uma descrição do produto com base nas informações\n",
    "previsto nas especificações técnicas delimitadas por\n",
    "aspas triplas.\n",
    "\n",
    "A descrição é destinada a varejistas de móveis,\n",
    "portanto, deve ser de natureza técnica e focar no\n",
    "materiais com os quais o produto é construído.\n",
    "\n",
    "No final da descrição, inclua todos os 7 caracteres\n",
    "Identificação do produto na especificação técnica.\n",
    "\n",
    "Após a descrição, inclua uma tabela que dê as\n",
    "dimensões do produto. A tabela deve ter duas colunas.\n",
    "Na primeira coluna inclua o nome da dimensão.\n",
    "Na segunda coluna inclua apenas as medidas em polegadas.\n",
    "\n",
    "Dê à tabela o título 'Dimensões do produto'.\n",
    "\n",
    "Formate tudo como HTML que pode ser usado em um site.\n",
    "Coloque a descrição em um elemento <div>.\n",
    "\n",
    "Especificações técnicas: ```{fact_sheet_chair}```\n",
    "\"\"\"\n",
    "\n",
    "response = get_completion(prompt)\n",
    "print(response)"
   ]
  },
  {
   "cell_type": "code",
   "execution_count": 12,
   "metadata": {},
   "outputs": [
    {
     "data": {
      "text/html": [
       "<div>\n",
       "  <h2>Cadeira de Escritório Mid-Century</h2>\n",
       "  <p>A Cadeira de Escritório Mid-Century é parte de uma bela família de móveis de escritório inspirados em meados do século. Com diversas opções de cores de casca e acabamentos de base, esta cadeira está disponível com estofamento traseiro e dianteiro de plástico ou estofamento completo em 10 opções de tecido e 6 opções de couro. A base de 5 rodas em alumínio plastificado e o ajuste pneumático da cadeira facilitam a ação de levantar/descer. A cadeira está disponível com ou sem braços e é adequada para ambientes domésticos ou empresariais. Qualificada para uso contratual, a Cadeira de Escritório Mid-Century é uma escolha elegante e confortável para qualquer espaço de trabalho.</p>\n",
       "  <p>ID do Produto: SWC-100</p>\n",
       "  \n",
       "  <table>\n",
       "    <caption>Dimensões do produto</caption>\n",
       "    <tr>\n",
       "      <th>Dimensão</th>\n",
       "      <th>Medida (polegadas)</th>\n",
       "    </tr>\n",
       "    <tr>\n",
       "      <td>Largura</td>\n",
       "      <td>20,87\"</td>\n",
       "    </tr>\n",
       "    <tr>\n",
       "      <td>Profundidade</td>\n",
       "      <td>20,08\"</td>\n",
       "    </tr>\n",
       "    <tr>\n",
       "      <td>Altura</td>\n",
       "      <td>31,50\"</td>\n",
       "    </tr>\n",
       "    <tr>\n",
       "      <td>Altura do Assento</td>\n",
       "      <td>17,32\"</td>\n",
       "    </tr>\n",
       "    <tr>\n",
       "      <td>Profundidade do Assento</td>\n",
       "      <td>16,14\"</td>\n",
       "    </tr>\n",
       "  </table>\n",
       "</div>"
      ],
      "text/plain": [
       "<IPython.core.display.HTML object>"
      ]
     },
     "metadata": {},
     "output_type": "display_data"
    }
   ],
   "source": [
    "# Carregando a Biblioteca do Python para visualizar o HTML\n",
    "from IPython.display import display, HTML\n",
    "\n",
    "display(HTML(response))\n"
   ]
  },
  {
   "attachments": {},
   "cell_type": "markdown",
   "metadata": {},
   "source": [
    "# 3. Capacidades"
   ]
  },
  {
   "attachments": {},
   "cell_type": "markdown",
   "metadata": {},
   "source": [
    "* <font color=\"red\">Resumindo:</font>\n",
    "\n",
    "Muitas pessoas usaram modelos de linguagem grandes para resumir textos. Você pode especificar seu `prompt` para resumir o texto com um foco em tópicos específicos, `por exemplo`, em preço e valor:\n"
   ]
  },
  {
   "cell_type": "code",
   "execution_count": 18,
   "metadata": {},
   "outputs": [],
   "source": [
    "prod_review = \"\"\"\n",
    "Ganhei este panda de pelúcia no aniversário da minha filha, \\\n",
    "que ama e leva para todo lugar. É macio e \\\n",
    "super fofo, e seu rosto tem um ar amigável. Isso é \\\n",
    "um pouco pequeno para o que paguei. Eu acho que lá \\\n",
    "pode haver outras opções maiores para o \\\n",
    "mesmo preço. Chegou um dia antes do previsto, \\\n",
    "então eu tenho que brincar com ele antes de dar \\\n",
    "a ela.\n",
    "\"\"\""
   ]
  },
  {
   "attachments": {},
   "cell_type": "markdown",
   "metadata": {},
   "source": [
    "<font color=\"orange\">O resumo pode ser com um limite de `palavras/frases/caracteres` ou resumo com foco no frete e na entrega ou resumo com foco em preço e valor, etc.</font>"
   ]
  },
  {
   "cell_type": "code",
   "execution_count": 15,
   "metadata": {},
   "outputs": [
    {
     "name": "stdout",
     "output_type": "stream",
     "text": [
      "\"Panda de pelúcia macio e fofo, amado pela filha, mas considerado um pouco pequeno pelo preço pago. Sugere que há outras opções maiores pelo mesmo preço. Entrega rápida.\"\n"
     ]
    }
   ],
   "source": [
    "prompt = f\"\"\"\n",
    "Sua tarefa é gerar um breve resumo de uma revisão de \\\n",
    "produto de um site de comércio eletrônico para dar feedback ao \\\n",
    "departamento de preços, responsável por determinar o \\\n",
    "preço do produto.\n",
    "\n",
    "Resuma a resenha abaixo, delimitada por aspas triplas, \n",
    "em no máximo 30 palavras, e focando em quaisquer aspectos \\\n",
    "que são relevantes para o preço e valor percebido.\n",
    "\n",
    "Review: ```{prod_review}```\n",
    "\"\"\"\n",
    "\n",
    "response = get_completion(prompt)\n",
    "print(response)\n",
    "\n"
   ]
  },
  {
   "attachments": {},
   "cell_type": "markdown",
   "metadata": {},
   "source": [
    "<font color=\"orange\">`Comentário:` Resumos incluem tópicos que não estão relacionados ao tópico de foco.</font>"
   ]
  },
  {
   "cell_type": "code",
   "execution_count": 16,
   "metadata": {},
   "outputs": [
    {
     "name": "stdout",
     "output_type": "stream",
     "text": [
      "\"Chegou um dia antes do previsto\".\n"
     ]
    }
   ],
   "source": [
    "# Podemos tentar \"extrair\" em vez de \"resumir\":\n",
    "\n",
    "prompt = f\"\"\"\n",
    "Sua tarefa é extrair informações relevantes de \\\n",
    "uma avaliação do produto de um site de comércio eletrônico para dar \\\n",
    "feedback ao departamento de envio.\n",
    "\n",
    "Da resenha abaixo, delimitada por aspas triplas \\\n",
    "extrair as informações relevantes para envio e \\\n",
    "entrega. Limite para 30 palavras.\n",
    "\n",
    "Revisão: ```{prod_review}```\n",
    "\"\"\"\n",
    "\n",
    "response = get_completion(prompt)\n",
    "print(response)\n"
   ]
  },
  {
   "attachments": {},
   "cell_type": "markdown",
   "metadata": {},
   "source": [
    "<font color=\"yellow\">Resumir várias análises de produtos</font>\n",
    "\n",
    "Claro, você pode escrever um loop for para resumir vários textos:"
   ]
  },
  {
   "cell_type": "code",
   "execution_count": 21,
   "metadata": {},
   "outputs": [],
   "source": [
    "\n",
    "review_1 = prod_review \n",
    "\n",
    "# Revisão para uma lâmpada de pé\n",
    "review_2 = \"\"\"\n",
    "Precisava de uma luminária bacana para o meu quarto, e essa \\\n",
    "tinha armazenamento adicional e um preço não muito alto \\\n",
    "apontar. Comprei rápido - chegou em 2 dias. A corda \\\n",
    "da lâmpada quebrou durante o trânsito e a empresa \\\n",
    "felizmente enviou um novo. Chegou em poucos dias \\\n",
    "também. Foi fácil de montar. Então eu tinha uma peça\\\n",
    "faltando, então entrei em contato com o suporte deles e eles \\\n",
    "muito rapidamente me deram a peça que faltava! Parece-me \\\n",
    "ser uma grande empresa que se preocupa com seus clientes \\\n",
    "e produtos.\n",
    "\"\"\"\n",
    "\n",
    "# Revisão para uma escova de dentes elétrica\n",
    "review_3 = \"\"\"\n",
    "Meu higienista dental recomendou uma escova de dentes elétrica, e é por \\\n",
    "isso que comprei isso. A duração da bateria parece ser bastante impressionante \\\n",
    "até agora. Após o carregamento inicial e deixar o carregador conectado na primeira \\\n",
    "semana para condicionar a bateria, desconectei o carregador e o usei para escovar \\\n",
    "duas vezes ao dia nas últimas 3 semanas, tudo com a mesma carga. Mas a cabeça da escova \\\n",
    "de dentes é muito pequena. Já vi escovas de dente de bebê maiores que esta. \\\n",
    "Eu gostaria que a cabeça fosse maior com cerdas de comprimento diferente para passar \\\n",
    "melhor entre os dentes porque esta não tem. No geral, se você conseguir este aqui \\\n",
    "em torno da marca de R$30, é um bom negócio. As cabeças de substituição do fabricante \\\n",
    "são muito caras, mas você pode obter as genéricas com preços mais razoáveis. \\\n",
    "Esta escova de dentes me faz sentir como se tivesse ido ao dentista todos os \\\n",
    "dias. Sinto meus dentes limpos e brilhantes!\n",
    "\"\"\"\n",
    "\n",
    "# # review for a blender\n",
    "# review_4 = \"\"\"\n",
    "# So, they still had the 17 piece system on seasonal \\\n",
    "# sale for around $49 in the month of November, about \\\n",
    "# half off, but for some reason (call it price gouging) \\\n",
    "# around the second week of December the prices all went \\\n",
    "# up to about anywhere from between $70-$89 for the same \\\n",
    "# system. And the 11 piece system went up around $10 or \\\n",
    "# so in price also from the earlier sale price of $29. \\\n",
    "# So it looks okay, but if you look at the base, the part \\\n",
    "# where the blade locks into place doesn’t look as good \\\n",
    "# as in previous editions from a few years ago, but I \\\n",
    "# plan to be very gentle with it (example, I crush \\\n",
    "# very hard items like beans, ice, rice, etc. in the \\ \n",
    "# blender first then pulverize them in the serving size \\\n",
    "# I want in the blender then switch to the whipping \\\n",
    "# blade for a finer flour, and use the cross cutting blade \\\n",
    "# first when making smoothies, then use the flat blade \\\n",
    "# if I need them finer/less pulpy). Special tip when making \\\n",
    "# smoothies, finely cut and freeze the fruits and \\\n",
    "# vegetables (if using spinach-lightly stew soften the \\ \n",
    "# spinach then freeze until ready for use-and if making \\\n",
    "# sorbet, use a small to medium sized food processor) \\ \n",
    "# that you plan to use that way you can avoid adding so \\\n",
    "# much ice if at all-when making your smoothie. \\\n",
    "# After about a year, the motor was making a funny noise. \\\n",
    "# I called customer service but the warranty expired \\\n",
    "# already, so I had to buy another one. FYI: The overall \\\n",
    "# quality has gone done in these types of products, so \\\n",
    "# they are kind of counting on brand recognition and \\\n",
    "# consumer loyalty to maintain sales. Got it in about \\\n",
    "# two days.\n",
    "# \"\"\""
   ]
  },
  {
   "cell_type": "code",
   "execution_count": 22,
   "metadata": {},
   "outputs": [
    {
     "name": "stdout",
     "output_type": "stream",
     "text": [
      "0 \"Panda de pelúcia macio e fofo, amado pela minha filha. Um pouco pequeno pelo preço, mas chegou antes do previsto.\" \n",
      "\n",
      "1 Luminária com armazenamento adicional, preço acessível, entrega rápida e bom suporte ao cliente. \n",
      "\n",
      "2 A escova de dentes elétrica tem boa duração de bateria, mas a cabeça é pequena e não tem cerdas de comprimento diferente. É um bom negócio se comprado por cerca de R$30. \n",
      "\n"
     ]
    }
   ],
   "source": [
    "reviews = [review_1, review_2, review_3]\n",
    "\n",
    "for i in range(len(reviews)):\n",
    "    prompt = f\"\"\"\n",
    "    Sua tarefa é gerar um breve resumo de uma revisão de \\\n",
    "    produto de um site de comércio eletrônico.\n",
    "\n",
    "    Resuma a resenha abaixo, delimitada por aspas \\\n",
    "    triplas em no máximo 20 palavras.\n",
    "\n",
    "    Comentário: ```{reviews[i]}```\n",
    "    \"\"\"\n",
    "\n",
    "    response = get_completion(prompt)\n",
    "    print(i, response, \"\\n\")\n",
    "    "
   ]
  },
  {
   "attachments": {},
   "cell_type": "markdown",
   "metadata": {},
   "source": [
    "* <font color=\"red\">Inferência:</font>\n",
    "\n",
    "\n",
    "Você pode usar modelos de linguagem grandes para `inferir sentimentos`, `inferir emoções`, `extrair nomes de produtos`, `extrair nomes de empresas`, `inferir tópicos` e `muito mais`. Você não precisa mais treinar um modelo para uma tarefa específica, os Large Language Models podem inferir todas essas coisas para você sem treinamento."
   ]
  },
  {
   "cell_type": "code",
   "execution_count": 23,
   "metadata": {},
   "outputs": [],
   "source": [
    "# Exemplo: texto de avaliação do produto:\n",
    "\n",
    "lamp_review = \"\"\"\n",
    "Precisava de uma boa luminária para o meu quarto, e esta tinha armazenamento adicional \\\n",
    "e um preço não muito alto. Peguei rápido. A corda da lâmpada quebrou durante o transporte \\\n",
    "e a empresa enviou uma nova com alegria. Veio dentro de alguns dias também. Foi fácil de montar. \\\n",
    "Eu tinha uma peça faltando, então entrei em contato com o suporte deles e eles rapidamente me deram \\\n",
    "a peça que faltava! A Lumina me parece ser uma grande empresa que se preocupa com seus clientes e produtos!!\n",
    "\"\"\""
   ]
  },
  {
   "cell_type": "code",
   "execution_count": 24,
   "metadata": {},
   "outputs": [
    {
     "name": "stdout",
     "output_type": "stream",
     "text": [
      "{\n",
      "  \"Sentimento\": \"positivo\",\n",
      "  \"Raiva\": false,\n",
      "  \"Item\": \"luminária com armazenamento adicional\",\n",
      "  \"Marca\": \"Lumina\"\n",
      "}\n"
     ]
    }
   ],
   "source": [
    "# Aqui você cria um prompt --> Fazendo várias tarefas ao mesmo tempo:\n",
    "prompt = f\"\"\"\n",
    "Identifique os seguintes itens do texto de revisão:\n",
    "- Sentimento (positivo ou negativo)\n",
    "- O revisor está expressando raiva? (verdadeiro ou falso)\n",
    "- Item comprado pelo revisor\n",
    "- Empresa que fez o item\n",
    "\n",
    "A revisão é delimitada com aspas triplas. \\\n",
    "Formate sua resposta como um objeto JSON com \\\n",
    "\"Sentimento\", \"Raiva\", \"Item\" e \"Marca\" como as chaves.\n",
    "Se a informação não estiver presente, use \"desconhecido\" como o valor.\n",
    "Faça sua resposta o mais curta possível.\n",
    "Formate o valor Raiva como um booleano.\n",
    "\n",
    "Texto da revisão: '''{lamp_review}'''\n",
    "\"\"\"\n",
    "\n",
    "response = get_completion(prompt)\n",
    "print(response)\n"
   ]
  },
  {
   "attachments": {},
   "cell_type": "markdown",
   "metadata": {},
   "source": [
    "<font color=\"yellow\">A seguir mostramos um exemplo para `inferir tópicos`:</font>"
   ]
  },
  {
   "cell_type": "code",
   "execution_count": 25,
   "metadata": {},
   "outputs": [],
   "source": [
    "story = \"\"\"\n",
    "Em uma pesquisa recente realizada pelo governo,\n",
    "funcionários do setor público foram solicitados a avaliar seu nível\n",
    "de satisfação com o departamento em que trabalham.\n",
    "Os resultados revelaram que a NASA foi o departamento mais popular\n",
    "com um índice de satisfação de 95%.\n",
    "\n",
    "Um funcionário da NASA, John Smith, comentou sobre as descobertas,\n",
    "afirmando: \"Não estou surpreso que a NASA saiu por cima.\n",
    "É um ótimo lugar para trabalhar com pessoas incríveis e\n",
    "oportunidades incríveis. tenho orgulho de fazer parte\n",
    "uma organização tão inovadora.\"\n",
    "\n",
    "Os resultados também foram bem recebidos pela equipe de gerenciamento da NASA,\n",
    "com o diretor Tom Johnson afirmando: \"Estamos entusiasmados em\n",
    "ouvir que nossos funcionários estão satisfeitos com seu trabalho na NASA.\n",
    "Temos uma equipe talentosa e dedicada que trabalha incansavelmente\n",
    "para alcançar nossos objetivos, e é fantástico ver que \n",
    "o trabalho árduo deles está valendo a pena.\"\n",
    "\n",
    "A pesquisa também revelou que a Administração da Previdência Social teve o\n",
    "menor índice de satisfação, com apenas 45% dos funcionários indicando que eram\n",
    "satisfeitos com seu trabalho. O governo se comprometeu a\n",
    "abordar as preocupações levantadas pelos funcionários na pesquisa e\n",
    "trabalhar para melhorar a satisfação no trabalho em todos os departamentos.\n",
    "\"\"\""
   ]
  },
  {
   "cell_type": "code",
   "execution_count": 26,
   "metadata": {},
   "outputs": [
    {
     "name": "stdout",
     "output_type": "stream",
     "text": [
      "1. Pesquisa de satisfação no setor público\n",
      "2. Departamentos com maior e menor índice de satisfação\n",
      "3. Comentários de funcionários da NASA sobre a pesquisa\n",
      "4. Reação da equipe de gerenciamento da NASA aos resultados\n",
      "5. Compromisso do governo em melhorar a satisfação no trabalho em todos os departamentos.\n"
     ]
    }
   ],
   "source": [
    "prompt = f\"\"\"\n",
    "Determine cinco tópicos que estão sendo discutidos no texto a seguir, delimitado por crases triplos.\n",
    "\n",
    "Faça com que cada item tenha uma ou duas palavras.\n",
    "\n",
    "Formate sua resposta como uma lista de itens separados por vírgulas.\n",
    "\n",
    "Exemplo de texto: '''{story}'''\n",
    "\"\"\"\n",
    "\n",
    "response = get_completion(prompt)\n",
    "print(response)\n"
   ]
  },
  {
   "cell_type": "code",
   "execution_count": 28,
   "metadata": {},
   "outputs": [
    {
     "name": "stdout",
     "output_type": "stream",
     "text": [
      "['1. Pesquisa de satisfação no setor público\\n2. Departamentos com maior e menor índice de satisfação\\n3. Comentários de funcionários da NASA sobre a pesquisa\\n4. Reação da equipe de gerenciamento da NASA aos resultados\\n5. Compromisso do governo em melhorar a satisfação no trabalho em todos os departamentos.']\n"
     ]
    }
   ],
   "source": [
    "response.split(sep=',')"
   ]
  },
  {
   "cell_type": "code",
   "execution_count": 37,
   "metadata": {},
   "outputs": [],
   "source": [
    "topic_list = [\n",
    "    \"nasa\", \"governo local\", \"engenharia\",\n",
    "    \"satisfação dos funcionários\", \"governo federal\"\n",
    "    ]\n"
   ]
  },
  {
   "attachments": {},
   "cell_type": "markdown",
   "metadata": {},
   "source": [
    "<font color=\"orange\">Podemos fazer uma alerta de notícias para determinados tópicos:</font>"
   ]
  },
  {
   "cell_type": "code",
   "execution_count": 38,
   "metadata": {},
   "outputs": [
    {
     "name": "stdout",
     "output_type": "stream",
     "text": [
      "1. nasa - 1\n",
      "2. governo local - 0\n",
      "3. engenharia - 0\n",
      "4. satisfação dos funcionários - 1\n",
      "5. governo federal - 1\n"
     ]
    }
   ],
   "source": [
    "prompt = f\"\"\"\n",
    "Determine se cada item na lista de tópicos a seguir é um tópico no texto abaixo, \\\n",
    "delimitado por aspas triplas.\n",
    "\n",
    "Dê sua resposta como uma lista com 0 ou 1 para cada tópico.\\\n",
    "\n",
    "Lista de tópicos: {\", \".join(topic_list)}\n",
    "\n",
    "Exemplo de texto: '''{story}'''\n",
    "\"\"\"\n",
    "response = get_completion(prompt)\n",
    "print(response)\n"
   ]
  },
  {
   "cell_type": "code",
   "execution_count": 45,
   "metadata": {},
   "outputs": [
    {
     "name": "stdout",
     "output_type": "stream",
     "text": [
      "['1. nasa - 1', '2. governo local - 0', '3. engenharia - 0', '4. satisfação dos funcionários - 1', '5. governo federal - 1']\n"
     ]
    }
   ],
   "source": [
    "print(response.split(\"\\n\"))"
   ]
  },
  {
   "cell_type": "code",
   "execution_count": null,
   "metadata": {},
   "outputs": [],
   "source": [
    "# topic_dict = {i.split(': ')[0]: int(i.split(': ')[1]) for i in response.split(sep='\\n')}\n",
    "# if topic_dict['nasa'] == 1:\n",
    "#     print(\"ALERT: New NASA story!\")"
   ]
  },
  {
   "attachments": {},
   "cell_type": "markdown",
   "metadata": {},
   "source": [
    "* <font color=\"red\">Transformação:</font>\n",
    "\n",
    "Modelos de linguagem grandes podem realizar tarefas de `transformação de texto`, como `tradução de idiomas`, `verificação ortográfica e gramática`, ajuste de tom e `conversão de formato`."
   ]
  },
  {
   "attachments": {},
   "cell_type": "markdown",
   "metadata": {},
   "source": [
    "<font color=\"orange\">ChatGPT é treinado com fontes em vários idiomas. Isso dá ao modelo a capacidade de fazer tradução. Aqui estão alguns exemplos de como usar esse recurso.</font>"
   ]
  },
  {
   "cell_type": "code",
   "execution_count": null,
   "metadata": {},
   "outputs": [
    {
     "name": "stdout",
     "output_type": "stream",
     "text": [
      "Francês: Je voudrais commander un ballon de basket-ball\n",
      "Español: Quiero pedir una pelota de baloncesto\n",
      "Inglês: I want to order a basketball.\n"
     ]
    }
   ],
   "source": [
    "prompt = f\"\"\"\n",
    "Traduza o seguinte texto para o francês e espanhol e inglês: \\\n",
    "```Quero pedir uma bola de basquete```\n",
    "\"\"\"\n",
    "\n",
    "response = get_completion(prompt)\n",
    "print(response)\n",
    "\n"
   ]
  },
  {
   "cell_type": "code",
   "execution_count": 66,
   "metadata": {},
   "outputs": [
    {
     "name": "stdout",
     "output_type": "stream",
     "text": [
      "Esse é o idioma francês. A frase significa \"Quanto custa o poste de luz?\" em português.\n"
     ]
    }
   ],
   "source": [
    "prompt = f\"\"\"\n",
    "Diga-me que idioma é esse: \n",
    "```Combien coûte le lampadaire?```\n",
    "\"\"\"\n",
    "response = get_completion(prompt)\n",
    "print(response)\n"
   ]
  },
  {
   "cell_type": "code",
   "execution_count": 67,
   "metadata": {},
   "outputs": [
    {
     "name": "stdout",
     "output_type": "stream",
     "text": [
      "Formal: ¿Le gustaría ordenar una almohada?\n",
      "Informal: ¿Te gustaría ordenar una almohada?\n"
     ]
    }
   ],
   "source": [
    "prompt = f\"\"\"\n",
    "Traduza o seguinte texto para o espanhol nas \\\n",
    "formas formal e informal:\n",
    "'Would you like to order a pillow?'\n",
    "\"\"\"\n",
    "response = get_completion(prompt)\n",
    "print(response)"
   ]
  },
  {
   "attachments": {},
   "cell_type": "markdown",
   "metadata": {},
   "source": [
    "<font color=\"orange\">`Tradutor universal`\n",
    "\n",
    "\n",
    "Imagine que você é responsável pela TI em uma grande empresa multinacional de comércio eletrônico. Os usuários estão enviando mensagens para você com problemas de TI em todos os seus idiomas nativos. Sua equipe é de todo o mundo e fala apenas seus idiomas nativos. Você precisa de um tradutor universal!</font>"
   ]
  },
  {
   "cell_type": "code",
   "execution_count": 68,
   "metadata": {},
   "outputs": [
    {
     "name": "stdout",
     "output_type": "stream",
     "text": [
      "Mensagem original (Esse idioma é o francês. A frase significa \"O desempenho do sistema está mais lento do que o habitual\".): La performance du système est plus lente que d'habitude.\n",
      "Inglês: The system performance is slower than usual.\n",
      "Espanhol: El rendimiento del sistema es más lento de lo habitual. \n",
      "\n",
      "\n",
      "Mensagem original (Esse idioma é espanhol. A frase significa \"Meu monitor tem pixels que não se iluminam\".): Mi monitor tiene píxeles que no se iluminan.\n",
      "Inglês: My monitor has pixels that don't light up.\n",
      "Espanhol: Mi monitor tiene píxeles que no se iluminan. \n",
      "\n",
      "\n",
      "Mensagem original (Esse idioma é italiano. A frase significa \"Meu mouse não está funcionando\".): Il mio mouse non funziona\n",
      "Inglês: My mouse is not working\n",
      "Espanhol: Mi ratón no funciona \n",
      "\n",
      "\n",
      "Mensagem original (Polonês. A frase significa \"Minha tecla Ctrl está quebrada\".): Mój klawisz Ctrl jest zepsuty\n",
      "In English: My Ctrl key is broken.\n",
      "En español: Mi tecla Ctrl está rota. \n",
      "\n",
      "\n",
      "Mensagem original (Esse é o idioma chinês (simplificado). A tradução para o português é \"Minha tela está piscando\".): 我的屏幕在闪烁\n",
      "Inglês: My screen is flickering.\n",
      "Espanhol: Mi pantalla está parpadeando. \n",
      "\n",
      "\n"
     ]
    }
   ],
   "source": [
    "user_messages = [\n",
    "  \"La performance du système est plus lente que d'habitude.\",  # O desempenho do sistema é mais lento que o normal       \n",
    "  \"Mi monitor tiene píxeles que no se iluminan.\",              # Meu monitor tem pixels que não estão acendendo\n",
    "  \"Il mio mouse non funziona\",                                 # Meu mouse não está funcionando\n",
    "  \"Mój klawisz Ctrl jest zepsuty\",                             # Meu teclado tem uma tecla de controle quebrada\n",
    "  \"我的屏幕在闪烁\"                                               # minha tela esta piscando\n",
    "] \n",
    "\n",
    "\n",
    "for issue in user_messages:\n",
    "    prompt = f\"Diga-me que idioma é esse: ```{issue}```\"\n",
    "    lang = get_completion(prompt)\n",
    "    print(f\"Mensagem original ({lang}): {issue}\")\n",
    "\n",
    "    prompt = f\"\"\"\n",
    "    Traduza o seguinte texto para o inglês \\\n",
    "    e para o espanhol: ```{issue}```\n",
    "    \"\"\"\n",
    "    response = get_completion(prompt)\n",
    "    print(response, \"\\n\\n\")\n",
    "    "
   ]
  },
  {
   "attachments": {},
   "cell_type": "markdown",
   "metadata": {},
   "source": [
    "<font color=\"orange\">`Transformação de tom`\n",
    "\n",
    "\n",
    "A escrita pode variar de acordo com o público-alvo. ChatGPT pode produzir tons diferentes.</font>"
   ]
  },
  {
   "cell_type": "code",
   "execution_count": 69,
   "metadata": {},
   "outputs": [
    {
     "name": "stdout",
     "output_type": "stream",
     "text": [
      "Prezado(a), \n",
      "\n",
      "Meu nome é Joe e gostaria de solicitar sua atenção para a especificação da luminária de pé em questão. \n",
      "\n",
      "Atenciosamente, \n",
      "Joe\n"
     ]
    }
   ],
   "source": [
    "prompt = f\"\"\"\n",
    "Traduza o seguinte de gíria para uma carta comercial:\n",
    "'Cara, aqui é o Joe, dá uma olhada nessa especificação dessa luminária de pé.'\n",
    "\"\"\"\n",
    "response = get_completion(prompt)\n",
    "print(response)"
   ]
  },
  {
   "attachments": {},
   "cell_type": "markdown",
   "metadata": {},
   "source": [
    "<font color=\"orange\">`Conversão de formato`\n",
    "\n",
    "ChatGPT pode traduzir entre formatos. O prompt deve descrever os formatos de entrada e saída.</font>"
   ]
  },
  {
   "cell_type": "code",
   "execution_count": 70,
   "metadata": {},
   "outputs": [
    {
     "name": "stdout",
     "output_type": "stream",
     "text": [
      "<table>\n",
      "  <caption>Funcionários do restaurante</caption>\n",
      "  <thead>\n",
      "    <tr>\n",
      "      <th>Nome</th>\n",
      "      <th>Email</th>\n",
      "    </tr>\n",
      "  </thead>\n",
      "  <tbody>\n",
      "    <tr>\n",
      "      <td>Shyam</td>\n",
      "      <td>shyamjaiswal@gmail.com</td>\n",
      "    </tr>\n",
      "    <tr>\n",
      "      <td>Bob</td>\n",
      "      <td>bob32@gmail.com</td>\n",
      "    </tr>\n",
      "    <tr>\n",
      "      <td>Jai</td>\n",
      "      <td>jai87@gmail.com</td>\n",
      "    </tr>\n",
      "  </tbody>\n",
      "</table>\n"
     ]
    }
   ],
   "source": [
    "data_json = { \"Funcionários do restaurante\" :[ \n",
    "    {\"name\":\"Shyam\", \"email\":\"shyamjaiswal@gmail.com\"},\n",
    "    {\"name\":\"Bob\", \"email\":\"bob32@gmail.com\"},\n",
    "    {\"name\":\"Jai\", \"email\":\"jai87@gmail.com\"}\n",
    "]}\n",
    "\n",
    "prompt = f\"\"\"\n",
    "Traduza o seguinte dicionário Python de JSON para uma tabela HTML \\\n",
    "com cabeçalhos de coluna e título: {data_json}\n",
    "\"\"\"\n",
    "response = get_completion(prompt)\n",
    "print(response)\n"
   ]
  },
  {
   "cell_type": "code",
   "execution_count": 71,
   "metadata": {},
   "outputs": [
    {
     "data": {
      "text/html": [
       "<table>\n",
       "  <caption>Funcionários do restaurante</caption>\n",
       "  <thead>\n",
       "    <tr>\n",
       "      <th>Nome</th>\n",
       "      <th>Email</th>\n",
       "    </tr>\n",
       "  </thead>\n",
       "  <tbody>\n",
       "    <tr>\n",
       "      <td>Shyam</td>\n",
       "      <td>shyamjaiswal@gmail.com</td>\n",
       "    </tr>\n",
       "    <tr>\n",
       "      <td>Bob</td>\n",
       "      <td>bob32@gmail.com</td>\n",
       "    </tr>\n",
       "    <tr>\n",
       "      <td>Jai</td>\n",
       "      <td>jai87@gmail.com</td>\n",
       "    </tr>\n",
       "  </tbody>\n",
       "</table>"
      ],
      "text/plain": [
       "<IPython.core.display.HTML object>"
      ]
     },
     "metadata": {},
     "output_type": "display_data"
    }
   ],
   "source": [
    "from IPython.display import display, Markdown, Latex, HTML, JSON\n",
    "\n",
    "display(HTML(response))\n"
   ]
  },
  {
   "attachments": {},
   "cell_type": "markdown",
   "metadata": {},
   "source": [
    "<font color=\"orange\">`Verificação ortográfica/gramática.`\n",
    "\n",
    "\n",
    "Aqui estão alguns exemplos de problemas comuns de gramática e ortografia e a resposta do LLM.\n",
    "\n",
    "Para sinalizar ao LLM que você deseja revisar seu texto, você instrui o modelo a `'revisar'` ou `'revisar e corrigir'`.</font>"
   ]
  },
  {
   "cell_type": "code",
   "execution_count": 73,
   "metadata": {},
   "outputs": [
    {
     "name": "stdout",
     "output_type": "stream",
     "text": [
      "A menina com os cachorrinhos preto e branco tem uma bola.\n",
      "Nenhum erro encontrado.\n",
      "Nenhum erro encontrado.\n",
      "Nenhum erro encontrado.\n",
      "Nenhum erro encontrado.\n",
      "Nenhum erro encontrado. \n",
      "\n",
      "Versão corrigida: Esse remédio afeta minha capacidade de dormir. Você já ouviu falar do efeito borboleta?\n",
      "Nenhum erro encontrado.\n"
     ]
    }
   ],
   "source": [
    "text = [ \n",
    "\"A menina com os cachorrinhos preto a branco tem uma vola.\", # A menina tem uma bola.\n",
    "\"Yolanda está com o caderno dela.\", # ok\n",
    "\"Vai ser um longo dia. O carro precisa trocar o óleo?\", # Homônimos\n",
    "\"Delas vai minha liberdade. Lá vão trazer suas malas.\", # Homônimos\n",
    "\"Você vai precisar do seu notebook.\", # Homônimos\n",
    "\"Esse remédio afeta minha capacidade de dormir. Você já ouviu falar do efeito borboleta?\", # Homônimos\n",
    "\"Esta frase é para checar o chatGPT quanto à habilidade de ortografia\" # ortografia\n",
    "]\n",
    "for t in text:\n",
    "    prompt = f\"\"\"Revise e corrija o seguinte texto\n",
    "     e reescreva a versão corrigida. Se você não encontrar\n",
    "     e erros, basta dizer \"Nenhum erro encontrado\". não use\n",
    "     qualquer pontuação ao redor do texto:\n",
    "    ```{t}```\"\"\"\n",
    "    response = get_completion(prompt)\n",
    "    print(response)\n"
   ]
  },
  {
   "cell_type": "code",
   "execution_count": 74,
   "metadata": {},
   "outputs": [
    {
     "name": "stdout",
     "output_type": "stream",
     "text": [
      "Comprei isso para dar de presente à minha filha no aniversário dela, pois ela sempre pega o meu panda de pelúcia do meu quarto. Sim, os adultos também gostam de pandas. Ela leva o novo panda para todos os lugares, pois é super macio e fofo. No entanto, uma das orelhas é um pouco mais baixa que a outra, o que não parece ter sido intencional. Além disso, achei que o tamanho do panda é um pouco pequeno em relação ao preço que paguei. Talvez haja outras opções maiores pelo mesmo valor. O produto chegou um dia antes do esperado, o que foi ótimo, pois pude brincar com ele antes de entregá-lo à minha filha.\n"
     ]
    }
   ],
   "source": [
    "text = f\"\"\"\n",
    "Comprei isso para minha filha no aniversário dela porque ela continua \\\n",
    "tirando a minha do meu quarto. Sim, os adultos também gostam de pandas. \\\n",
    "Ela leva ele para todos os lugares, e é super macio e fofo. Uma das orelhas \\\n",
    "é um pouco mais baixa que a outra, e não acho que foi desenhada para ser assimétrica. \\\n",
    "É um pouco pequeno para o que paguei por ele. Acho que pode haver outras opções maiores \\\n",
    "pelo mesmo preço. Chegou um dia antes do esperado, então eu mesma brinquei com ele \\\n",
    "antes de dar para minha filha.\n",
    "\"\"\"\n",
    "prompt = f\"Revise e corrija essa avaliação: ```{text}```\"\n",
    "response = get_completion(prompt)\n",
    "print(response)\n"
   ]
  },
  {
   "cell_type": "code",
   "execution_count": 75,
   "metadata": {},
   "outputs": [
    {
     "data": {
      "text/markdown": [
       "Comprei isso para <span style=\"color:red;font-weight:700;\">dar de presente à </span>minha filha no aniversário <span style=\"color:red;font-weight:700;text-decoration:line-through;\">dela porque </span><span style=\"color:red;font-weight:700;\">dela, pois </span>ela <span style=\"color:red;font-weight:700;text-decoration:line-through;\">continua tirando a minha </span><span style=\"color:red;font-weight:700;\">sempre pega o meu panda de pelúcia </span>do meu quarto. Sim, os adultos também gostam de pandas. Ela leva <span style=\"color:red;font-weight:700;text-decoration:line-through;\">ele </span><span style=\"color:red;font-weight:700;\">o novo panda </span>para todos os lugares, <span style=\"color:red;font-weight:700;text-decoration:line-through;\">e </span><span style=\"color:red;font-weight:700;\">pois </span>é super macio e fofo. <span style=\"color:red;font-weight:700;text-decoration:line-through;\">Uma </span><span style=\"color:red;font-weight:700;\">No entanto, uma </span>das orelhas é um pouco mais baixa que a outra, <span style=\"color:red;font-weight:700;text-decoration:line-through;\">e </span><span style=\"color:red;font-weight:700;\">o que </span>não <span style=\"color:red;font-weight:700;text-decoration:line-through;\">acho </span><span style=\"color:red;font-weight:700;\">parece ter sido intencional. Além disso, achei </span>que <span style=\"color:red;font-weight:700;text-decoration:line-through;\">foi desenhada para ser assimétrica. É </span><span style=\"color:red;font-weight:700;\">o tamanho do panda é </span>um pouco pequeno <span style=\"color:red;font-weight:700;text-decoration:line-through;\">para o </span><span style=\"color:red;font-weight:700;\">em relação ao preço </span>que <span style=\"color:red;font-weight:700;text-decoration:line-through;\">paguei por ele. Acho que pode haver </span><span style=\"color:red;font-weight:700;\">paguei. Talvez haja </span>outras opções maiores pelo mesmo <span style=\"color:red;font-weight:700;text-decoration:line-through;\">preço. Chegou </span><span style=\"color:red;font-weight:700;\">valor. O produto chegou </span>um dia antes do esperado, <span style=\"color:red;font-weight:700;text-decoration:line-through;\">então eu mesma brinquei </span><span style=\"color:red;font-weight:700;\">o que foi ótimo, pois pude brincar </span>com ele antes de <span style=\"color:red;font-weight:700;text-decoration:line-through;\">dar para </span><span style=\"color:red;font-weight:700;\">entregá-lo à </span>minha <span style=\"color:red;font-weight:700;text-decoration:line-through;\">filha.\n",
       "</span><span style=\"color:red;font-weight:700;\">filha.</span>"
      ],
      "text/plain": [
       "<IPython.core.display.Markdown object>"
      ]
     },
     "metadata": {},
     "output_type": "display_data"
    }
   ],
   "source": [
    "from redlines import Redlines\n",
    "\n",
    "diff = Redlines(text, response)\n",
    "display(Markdown(diff.output_markdown))\n"
   ]
  },
  {
   "cell_type": "code",
   "execution_count": 76,
   "metadata": {},
   "outputs": [
    {
     "data": {
      "text/markdown": [
       "Eu comprei este adorável panda de pelúcia para presentear minha filha no aniversário dela, já que ela sempre pega o meu panda do meu quarto. E não é só criança que gosta de pandas, eu também adoro! O panda é super macio e fofo, e minha filha o leva para todos os lugares. No entanto, notei que uma das orelhas é um pouco mais baixa que a outra, o que não parece ter sido intencional. Além disso, achei que o tamanho do panda é um pouco pequeno em relação ao preço que paguei. Talvez haja outras opções maiores pelo mesmo valor. Mas, apesar disso, fiquei feliz em receber o produto um dia antes do esperado e aproveitei para brincar com ele antes de entregá-lo para minha filha."
      ],
      "text/plain": [
       "<IPython.core.display.Markdown object>"
      ]
     },
     "metadata": {},
     "output_type": "display_data"
    }
   ],
   "source": [
    "prompt = f\"\"\"\n",
    "Revise e corrija esta revisão. Torne-o mais atraente. Certifique-se de que \\\n",
    "segue o guia de estilo da APA e visa um leitor avançado.\n",
    "Saída em formato markdown.\n",
    "Texto: ```{text}```\n",
    "\"\"\"\n",
    "response = get_completion(prompt)\n",
    "display(Markdown(response))\n",
    "\n"
   ]
  },
  {
   "attachments": {},
   "cell_type": "markdown",
   "metadata": {},
   "source": [
    "* <font color=\"red\">Expansão:</font>\n",
    "\n",
    "Large Language Models podem gerar e-mails de atendimento ao cliente personalizados para a avaliação de cada cliente:"
   ]
  },
  {
   "cell_type": "code",
   "execution_count": 3,
   "metadata": {},
   "outputs": [],
   "source": [
    "# Personalize a resposta automática a um e-mail de cliente\n",
    "\n",
    "\n",
    "# Dado o sentimento da lição sobre \"inferir\",\n",
    "# e a mensagem original do cliente, personalize o e-mail\n",
    "sentiment = \"negative\"\n",
    "\n",
    "# Revisão para um Liquidificador\n",
    "review = f\"\"\"\n",
    "Então, eles ainda tinham o sistema de 17 peças na venda sazonal por cerca de R$ 49 no mês \\\n",
    "de novembro, cerca de metade do preço, mas por algum motivo (chame de manipulação de preços) por \\\n",
    "volta da segunda semana de dezembro os preços subiram entre R$ 70 - R$ 89 para o mesmo sistema. \\\n",
    "E o sistema de 11 peças subiu cerca de R$ 10 ou mais de preço também em relação ao preço de venda \\\n",
    "anterior de R$ 29. Parece bom, mas se você olhar para a base, a parte onde a lâmina se encaixa não \\\n",
    "parece tão boa quanto nas edições anteriores de alguns anos atrás, mas pretendo ser muito gentil com ela \\\n",
    "(exemplo, eu esmague itens muito duros como feijão, gelo, arroz, etc. no liquidificador primeiro, em seguida, \\\n",
    "pulverize-os no tamanho da porção que eu quero no liquidificador, em seguida, mude para a lâmina de bater \\\n",
    "para obter uma farinha mais fina e use a lâmina de corte transversal primeiro ao fazer smoothies , \\\n",
    "depois use a lâmina plana se precisar deles mais finos/menos polpudos). Dica especial ao fazer smoothies, \\\n",
    "corte finamente e congele as frutas e legumes (se estiver usando espinafre - refogue levemente, amoleça o espinafre e \\\n",
    "congele até que esteja pronto para uso - e se estiver fazendo sorvete, use um processador de alimentos de tamanho pequeno \\\n",
    "a médio) que você planeja usar dessa forma, você pode evitar adicionar muito gelo ao fazer seu smoothie. \\\n",
    "Após cerca de um ano, o motor estava fazendo um barulho estranho. Liguei para o atendimento ao cliente, \\\n",
    "mas a garantia já expirou, então tive que comprar outro. FYI: A qualidade geral foi feita nesses tipos de produtos, \\\n",
    "então eles estão contando com o reconhecimento da marca e a fidelidade do consumidor para manter as vendas. Consegui em cerca de dois dias.\n",
    "\"\"\""
   ]
  },
  {
   "cell_type": "code",
   "execution_count": 4,
   "metadata": {},
   "outputs": [
    {
     "name": "stdout",
     "output_type": "stream",
     "text": [
      "Caro cliente,\n",
      "\n",
      "Gostaríamos de agradecer por sua avaliação e feedback sobre o produto que você adquiriu conosco. Lamentamos muito que você tenha tido uma experiência negativa com o aumento de preços e a qualidade do produto.\n",
      "\n",
      "Pedimos desculpas por qualquer inconveniente que isso possa ter causado. Se você tiver alguma dúvida ou preocupação adicional, por favor, não hesite em entrar em contato com o nosso atendimento ao cliente para que possamos ajudá-lo da melhor maneira possível.\n",
      "\n",
      "Mais uma vez, agradecemos por sua avaliação e esperamos ter a oportunidade de atendê-lo novamente no futuro.\n",
      "\n",
      "Atenciosamente,\n",
      "Agente de cliente AI\n"
     ]
    }
   ],
   "source": [
    "prompt = f\"\"\"\n",
    "Você é um assistente de IA de atendimento ao cliente.\n",
    "Sua tarefa é enviar uma resposta por e-mail a um cliente valioso.\n",
    "Dado o e-mail do cliente delimitado por ```, \\\n",
    "Gere uma resposta para agradecer ao cliente pela avaliação.\n",
    "Se o sentimento for positivo ou neutro, agradeça por \\\n",
    "sua revisão.\n",
    "Se o sentimento for negativo, peça desculpas e sugira que \\\n",
    "eles podem entrar em contato com o atendimento ao cliente.\n",
    "Certifique-se de usar detalhes específicos da revisão.\n",
    "Escreva em um tom conciso e profissional.\n",
    "Assine o e-mail como `agente de cliente AI`.\n",
    "Avaliação do cliente: ```{review}```\n",
    "Avaliação do sentimento: {sentiment}\n",
    "\"\"\"\n",
    "\n",
    "response = get_completion(prompt\n",
    "                         )\n",
    "\n",
    "print(response)\n"
   ]
  },
  {
   "attachments": {},
   "cell_type": "markdown",
   "metadata": {},
   "source": [
    "<font color=\"orange\">Lembre ao modelo de usar os detalhes do e-mail do cliente:</font>"
   ]
  },
  {
   "cell_type": "code",
   "execution_count": 5,
   "metadata": {},
   "outputs": [
    {
     "name": "stdout",
     "output_type": "stream",
     "text": [
      "Prezado cliente,\n",
      "\n",
      "Gostaríamos de agradecer por compartilhar sua experiência conosco. Lamentamos muito que você não tenha ficado totalmente satisfeito com o produto. Pedimos desculpas pelo inconveniente causado pela variação de preços e pela qualidade do produto.\n",
      "\n",
      "Por favor, saiba que estamos sempre procurando melhorar nossos produtos e serviços para atender às necessidades de nossos clientes. Se você precisar de assistência adicional, não hesite em entrar em contato com nosso atendimento ao cliente.\n",
      "\n",
      "Agradecemos novamente por sua revisão e esperamos ter a oportunidade de atendê-lo novamente no futuro.\n",
      "\n",
      "Atenciosamente,\n",
      "Agente de cliente AI\n"
     ]
    }
   ],
   "source": [
    "prompt = f\"\"\"\n",
    "Você é um assistente de IA de atendimento ao cliente.\n",
    "Sua tarefa é enviar uma resposta por e-mail a um cliente valioso.\n",
    "Dado o e-mail do cliente delimitado por ```, \\\n",
    "Gere uma resposta para agradecer ao cliente pela avaliação.\n",
    "Se o sentimento for positivo ou neutro, agradeça por \\\n",
    "sua revisão.\n",
    "Se o sentimento for negativo, peça desculpas e sugira que \\\n",
    "eles podem entrar em contato com o atendimento ao cliente.\n",
    "Certifique-se de usar detalhes específicos da revisão.\n",
    "Escreva em um tom conciso e profissional.\n",
    "Assine o e-mail como `agente de cliente AI`.\n",
    "Avaliação do cliente: ```{review}```\n",
    "Avaliação do sentimento: {sentiment}\n",
    "\"\"\"\n",
    "\n",
    "response = get_completion(prompt, temperature=0.7)\n",
    "\n",
    "print(response)"
   ]
  },
  {
   "attachments": {},
   "cell_type": "markdown",
   "metadata": {},
   "source": [
    "* `Construindo um chatbot:` \n",
    "\n",
    "\n",
    "Estou muito grato por eles terem escolhido usar o [Panel](https://panel.holoviz.org/) para construir um chatbot!\n",
    "\n",
    "Aqui, você explorará como pode utilizar o formato de chat para ter conversas estendidas com chatbots personalizados ou especializados para tarefas ou comportamentos específicos."
   ]
  },
  {
   "cell_type": "code",
   "execution_count": 8,
   "metadata": {},
   "outputs": [],
   "source": [
    "\n",
    "\n",
    "def get_completion(prompt, model=\"gpt-3.5-turbo\"):\n",
    "    messages = [{\"role\": \"user\", \"content\": prompt}]\n",
    "    response = openai.ChatCompletion.create(\n",
    "        model=model,\n",
    "        messages=messages,\n",
    "        temperature=0, # this is the degree of randomness of the model's output\n",
    "    )\n",
    "    return response.choices[0].message[\"content\"]\n",
    "\n",
    "\n",
    "\n",
    "def get_completion_from_messages(messages, model=\"gpt-3.5-turbo\", temperature=0):\n",
    "    response = openai.ChatCompletion.create(\n",
    "        model=model,\n",
    "        messages=messages,\n",
    "        temperature=temperature, # this is the degree of randomness of the model's output\n",
    "    )\n",
    "#     print(str(response.choices[0].message))\n",
    "    return response.choices[0].message[\"content\"]"
   ]
  },
  {
   "cell_type": "code",
   "execution_count": 11,
   "metadata": {},
   "outputs": [],
   "source": [
    "messages =  [  \n",
    "{'role':'system', 'content':'Você é um assistente que fala como Shakespeare.'},    \n",
    "{'role':'user', 'content':'Conte-me uma piada.'},   \n",
    "{'role':'system', 'content':'Por que a galinha atravessou a estrada'},   \n",
    "{'role':'user', 'content':'Não sei'}  ]\n"
   ]
  },
  {
   "cell_type": "code",
   "execution_count": 12,
   "metadata": {},
   "outputs": [
    {
     "name": "stdout",
     "output_type": "stream",
     "text": [
      "Para chegar ao outro lado, meu caro. É uma piada clássica, mas ainda assim engraçada.\n"
     ]
    }
   ],
   "source": [
    "response = get_completion_from_messages(messages, temperature=0)\n",
    "print(response)\n"
   ]
  },
  {
   "cell_type": "code",
   "execution_count": 9,
   "metadata": {},
   "outputs": [
    {
     "name": "stdout",
     "output_type": "stream",
     "text": [
      "Olá, Eddy! É um prazer conversar com você. Como posso ajudá-lo hoje?\n"
     ]
    }
   ],
   "source": [
    "messages =  [  \n",
    "{'role':'system', 'content':'Você é um chatbot amigável.'},    \n",
    "{'role':'user', 'content':'Oi meu nome é Eddy'}  ]\n",
    "response = get_completion_from_messages(messages, temperature=1)\n",
    "print(response)\n"
   ]
  },
  {
   "cell_type": "code",
   "execution_count": 10,
   "metadata": {},
   "outputs": [
    {
     "name": "stdout",
     "output_type": "stream",
     "text": [
      "Desculpe, mas eu não tenho essa informação. Como um chatbot, eu não tenho a capacidade de lembrar nomes de usuários anteriores a menos que você os forneça novamente. No entanto, estarei sempre aqui para ajudá-lo no que precisar. O que você gostaria de saber?\n"
     ]
    }
   ],
   "source": [
    "messages =  [  \n",
    "{'role':'system', 'content':'Você é um chatbot amigável.'},    \n",
    "{'role':'user', 'content':'Sim, você pode me lembrar, Qual é o meu nome?'}  ]\n",
    "response = get_completion_from_messages(messages, temperature=1)\n",
    "print(response)\n"
   ]
  },
  {
   "cell_type": "code",
   "execution_count": 11,
   "metadata": {},
   "outputs": [
    {
     "name": "stdout",
     "output_type": "stream",
     "text": [
      "Seu nome é Eddy! Lembrei isso da última vez que você se apresentou. Algo mais que eu possa fazer por você?\n"
     ]
    }
   ],
   "source": [
    "messages =  [  \n",
    "{'role':'system', 'content':'Você é um chatbot amigável.'},\n",
    "{'role':'user', 'content':'Olá, meu nome é Eddy'},\n",
    "{'role':'assistant', 'content': \"Olá Eddy! Prazer em conhecê-lo. \\\n",
    "Há algo em que eu possa ajudá-lo hoje?\"},\n",
    "{'role':'user', 'content':'Sim, você pode me lembrar, Qual é o meu nome?'}  ]\n",
    "response = get_completion_from_messages(messages, temperature=1)\n",
    "print(response)\n"
   ]
  },
  {
   "attachments": {},
   "cell_type": "markdown",
   "metadata": {},
   "source": [
    "<font color=\"orange\">`OrderBot`\n",
    "\n",
    "Podemos automatizar a coleta de prompts do usuário e respostas do assistente para criar um `OrderBot`. O `OrderBot` receberá pedidos em uma pizzaria.</font>"
   ]
  },
  {
   "cell_type": "code",
   "execution_count": 10,
   "metadata": {},
   "outputs": [
    {
     "ename": "ImportError",
     "evalue": "cannot import name 'Box' from 'bokeh.models' (/home/eddygiusepe/1_Eddy_Giusepe/3_estudando_LLMs/Large_Language_Models_LLMs/venv_LLMs/lib/python3.10/site-packages/bokeh/models/__init__.py)",
     "output_type": "error",
     "traceback": [
      "\u001b[0;31m---------------------------------------------------------------------------\u001b[0m",
      "\u001b[0;31mImportError\u001b[0m                               Traceback (most recent call last)",
      "Cell \u001b[0;32mIn[10], line 1\u001b[0m\n\u001b[0;32m----> 1\u001b[0m \u001b[39mimport\u001b[39;00m \u001b[39mpanel\u001b[39;00m \u001b[39mas\u001b[39;00m \u001b[39mpn\u001b[39;00m\n\u001b[1;32m      2\u001b[0m \u001b[39mimport\u001b[39;00m \u001b[39mnumpy\u001b[39;00m \u001b[39mas\u001b[39;00m \u001b[39mnp\u001b[39;00m\n\u001b[1;32m      3\u001b[0m \u001b[39mimport\u001b[39;00m \u001b[39mipywidgets\u001b[39;00m \u001b[39mas\u001b[39;00m \u001b[39mwidgets\u001b[39;00m\n",
      "File \u001b[0;32m~/1_Eddy_Giusepe/3_estudando_LLMs/Large_Language_Models_LLMs/venv_LLMs/lib/python3.10/site-packages/panel/__init__.py:48\u001b[0m\n\u001b[1;32m      1\u001b[0m \u001b[39m\"\"\"\u001b[39;00m\n\u001b[1;32m      2\u001b[0m \u001b[39mPanel is a high level app and dashboarding framework\u001b[39;00m\n\u001b[1;32m      3\u001b[0m \u001b[39m====================================================\u001b[39;00m\n\u001b[0;32m   (...)\u001b[0m\n\u001b[1;32m     46\u001b[0m \u001b[39mhttps://panel.holoviz.org/getting_started/index.html\u001b[39;00m\n\u001b[1;32m     47\u001b[0m \u001b[39m\"\"\"\u001b[39;00m\n\u001b[0;32m---> 48\u001b[0m \u001b[39mfrom\u001b[39;00m \u001b[39m.\u001b[39;00m \u001b[39mimport\u001b[39;00m layout  \u001b[39m# noqa\u001b[39;00m\n\u001b[1;32m     49\u001b[0m \u001b[39mfrom\u001b[39;00m \u001b[39m.\u001b[39;00m \u001b[39mimport\u001b[39;00m links  \u001b[39m# noqa\u001b[39;00m\n\u001b[1;32m     50\u001b[0m \u001b[39mfrom\u001b[39;00m \u001b[39m.\u001b[39;00m \u001b[39mimport\u001b[39;00m pane  \u001b[39m# noqa\u001b[39;00m\n",
      "File \u001b[0;32m~/1_Eddy_Giusepe/3_estudando_LLMs/Large_Language_Models_LLMs/venv_LLMs/lib/python3.10/site-packages/panel/layout/__init__.py:31\u001b[0m\n\u001b[1;32m      1\u001b[0m \u001b[39m\"\"\"\u001b[39;00m\n\u001b[1;32m      2\u001b[0m \u001b[39mLayout\u001b[39;00m\n\u001b[1;32m      3\u001b[0m \u001b[39m======\u001b[39;00m\n\u001b[0;32m   (...)\u001b[0m\n\u001b[1;32m     29\u001b[0m \u001b[39mhttps://panel.holoviz.org/getting_started/index.html\u001b[39;00m\n\u001b[1;32m     30\u001b[0m \u001b[39m\"\"\"\u001b[39;00m\n\u001b[0;32m---> 31\u001b[0m \u001b[39mfrom\u001b[39;00m \u001b[39m.\u001b[39;00m\u001b[39maccordion\u001b[39;00m \u001b[39mimport\u001b[39;00m Accordion  \u001b[39m# noqa\u001b[39;00m\n\u001b[1;32m     32\u001b[0m \u001b[39mfrom\u001b[39;00m \u001b[39m.\u001b[39;00m\u001b[39mbase\u001b[39;00m \u001b[39mimport\u001b[39;00m (  \u001b[39m# noqa\u001b[39;00m\n\u001b[1;32m     33\u001b[0m     Column, ListLike, ListPanel, Panel, Row, WidgetBox,\n\u001b[1;32m     34\u001b[0m )\n\u001b[1;32m     35\u001b[0m \u001b[39mfrom\u001b[39;00m \u001b[39m.\u001b[39;00m\u001b[39mcard\u001b[39;00m \u001b[39mimport\u001b[39;00m Card  \u001b[39m# noqa\u001b[39;00m\n",
      "File \u001b[0;32m~/1_Eddy_Giusepe/3_estudando_LLMs/Large_Language_Models_LLMs/venv_LLMs/lib/python3.10/site-packages/panel/layout/accordion.py:9\u001b[0m\n\u001b[1;32m      5\u001b[0m \u001b[39mimport\u001b[39;00m \u001b[39mparam\u001b[39;00m\n\u001b[1;32m      7\u001b[0m \u001b[39mfrom\u001b[39;00m \u001b[39mbokeh\u001b[39;00m\u001b[39m.\u001b[39;00m\u001b[39mmodels\u001b[39;00m \u001b[39mimport\u001b[39;00m Column \u001b[39mas\u001b[39;00m BkColumn, CustomJS\n\u001b[0;32m----> 9\u001b[0m \u001b[39mfrom\u001b[39;00m \u001b[39m.\u001b[39;00m\u001b[39mbase\u001b[39;00m \u001b[39mimport\u001b[39;00m NamedListPanel\n\u001b[1;32m     10\u001b[0m \u001b[39mfrom\u001b[39;00m \u001b[39m.\u001b[39;00m\u001b[39mcard\u001b[39;00m \u001b[39mimport\u001b[39;00m Card\n\u001b[1;32m     12\u001b[0m \u001b[39mif\u001b[39;00m TYPE_CHECKING:\n",
      "File \u001b[0;32m~/1_Eddy_Giusepe/3_estudando_LLMs/Large_Language_Models_LLMs/venv_LLMs/lib/python3.10/site-packages/panel/layout/base.py:17\u001b[0m\n\u001b[1;32m     13\u001b[0m \u001b[39mimport\u001b[39;00m \u001b[39mparam\u001b[39;00m\n\u001b[1;32m     15\u001b[0m \u001b[39mfrom\u001b[39;00m \u001b[39mbokeh\u001b[39;00m\u001b[39m.\u001b[39;00m\u001b[39mmodels\u001b[39;00m \u001b[39mimport\u001b[39;00m Column \u001b[39mas\u001b[39;00m BkColumn, Row \u001b[39mas\u001b[39;00m BkRow\n\u001b[0;32m---> 17\u001b[0m \u001b[39mfrom\u001b[39;00m \u001b[39m.\u001b[39;00m\u001b[39m.\u001b[39;00m\u001b[39mio\u001b[39;00m\u001b[39m.\u001b[39;00m\u001b[39mmodel\u001b[39;00m \u001b[39mimport\u001b[39;00m hold\n\u001b[1;32m     18\u001b[0m \u001b[39mfrom\u001b[39;00m \u001b[39m.\u001b[39;00m\u001b[39m.\u001b[39;00m\u001b[39mio\u001b[39;00m\u001b[39m.\u001b[39;00m\u001b[39mstate\u001b[39;00m \u001b[39mimport\u001b[39;00m state\n\u001b[1;32m     19\u001b[0m \u001b[39mfrom\u001b[39;00m \u001b[39m.\u001b[39;00m\u001b[39m.\u001b[39;00m\u001b[39mreactive\u001b[39;00m \u001b[39mimport\u001b[39;00m Reactive\n",
      "File \u001b[0;32m~/1_Eddy_Giusepe/3_estudando_LLMs/Large_Language_Models_LLMs/venv_LLMs/lib/python3.10/site-packages/panel/io/__init__.py:9\u001b[0m\n\u001b[1;32m      7\u001b[0m \u001b[39mfrom\u001b[39;00m \u001b[39m.\u001b[39;00m\u001b[39mcache\u001b[39;00m \u001b[39mimport\u001b[39;00m cache  \u001b[39m# noqa\u001b[39;00m\n\u001b[1;32m      8\u001b[0m \u001b[39mfrom\u001b[39;00m \u001b[39m.\u001b[39;00m\u001b[39mcallbacks\u001b[39;00m \u001b[39mimport\u001b[39;00m PeriodicCallback  \u001b[39m# noqa\u001b[39;00m\n\u001b[0;32m----> 9\u001b[0m \u001b[39mfrom\u001b[39;00m \u001b[39m.\u001b[39;00m\u001b[39mdocument\u001b[39;00m \u001b[39mimport\u001b[39;00m init_doc, unlocked, with_lock  \u001b[39m# noqa\u001b[39;00m\n\u001b[1;32m     10\u001b[0m \u001b[39mfrom\u001b[39;00m \u001b[39m.\u001b[39;00m\u001b[39membed\u001b[39;00m \u001b[39mimport\u001b[39;00m embed_state  \u001b[39m# noqa\u001b[39;00m\n\u001b[1;32m     11\u001b[0m \u001b[39mfrom\u001b[39;00m \u001b[39m.\u001b[39;00m\u001b[39mlogging\u001b[39;00m \u001b[39mimport\u001b[39;00m panel_logger  \u001b[39m# noqa\u001b[39;00m\n",
      "File \u001b[0;32m~/1_Eddy_Giusepe/3_estudando_LLMs/Large_Language_Models_LLMs/venv_LLMs/lib/python3.10/site-packages/panel/io/document.py:20\u001b[0m\n\u001b[1;32m     17\u001b[0m \u001b[39mfrom\u001b[39;00m \u001b[39mbokeh\u001b[39;00m\u001b[39m.\u001b[39;00m\u001b[39mdocument\u001b[39;00m\u001b[39m.\u001b[39;00m\u001b[39mdocument\u001b[39;00m \u001b[39mimport\u001b[39;00m Document\n\u001b[1;32m     18\u001b[0m \u001b[39mfrom\u001b[39;00m \u001b[39mbokeh\u001b[39;00m\u001b[39m.\u001b[39;00m\u001b[39mdocument\u001b[39;00m\u001b[39m.\u001b[39;00m\u001b[39mevents\u001b[39;00m \u001b[39mimport\u001b[39;00m DocumentChangedEvent, ModelChangedEvent\n\u001b[0;32m---> 20\u001b[0m \u001b[39mfrom\u001b[39;00m \u001b[39m.\u001b[39;00m\u001b[39mmodel\u001b[39;00m \u001b[39mimport\u001b[39;00m monkeypatch_events\n\u001b[1;32m     21\u001b[0m \u001b[39mfrom\u001b[39;00m \u001b[39m.\u001b[39;00m\u001b[39mstate\u001b[39;00m \u001b[39mimport\u001b[39;00m curdoc_locked, state\n\u001b[1;32m     23\u001b[0m logger \u001b[39m=\u001b[39m logging\u001b[39m.\u001b[39mgetLogger(\u001b[39m__name__\u001b[39m)\n",
      "File \u001b[0;32m~/1_Eddy_Giusepe/3_estudando_LLMs/Large_Language_Models_LLMs/venv_LLMs/lib/python3.10/site-packages/panel/io/model.py:20\u001b[0m\n\u001b[1;32m     16\u001b[0m \u001b[39mfrom\u001b[39;00m \u001b[39mbokeh\u001b[39;00m\u001b[39m.\u001b[39;00m\u001b[39mdocument\u001b[39;00m\u001b[39m.\u001b[39;00m\u001b[39mevents\u001b[39;00m \u001b[39mimport\u001b[39;00m (\n\u001b[1;32m     17\u001b[0m     ColumnDataChangedEvent, DocumentPatchedEvent, ModelChangedEvent,\n\u001b[1;32m     18\u001b[0m )\n\u001b[1;32m     19\u001b[0m \u001b[39mfrom\u001b[39;00m \u001b[39mbokeh\u001b[39;00m\u001b[39m.\u001b[39;00m\u001b[39mmodel\u001b[39;00m \u001b[39mimport\u001b[39;00m DataModel\n\u001b[0;32m---> 20\u001b[0m \u001b[39mfrom\u001b[39;00m \u001b[39mbokeh\u001b[39;00m\u001b[39m.\u001b[39;00m\u001b[39mmodels\u001b[39;00m \u001b[39mimport\u001b[39;00m Box, ColumnDataSource, Model\n\u001b[1;32m     21\u001b[0m \u001b[39mfrom\u001b[39;00m \u001b[39mbokeh\u001b[39;00m\u001b[39m.\u001b[39;00m\u001b[39mprotocol\u001b[39;00m \u001b[39mimport\u001b[39;00m Protocol\n\u001b[1;32m     22\u001b[0m \u001b[39mfrom\u001b[39;00m \u001b[39mtyping_extensions\u001b[39;00m \u001b[39mimport\u001b[39;00m Literal\n",
      "\u001b[0;31mImportError\u001b[0m: cannot import name 'Box' from 'bokeh.models' (/home/eddygiusepe/1_Eddy_Giusepe/3_estudando_LLMs/Large_Language_Models_LLMs/venv_LLMs/lib/python3.10/site-packages/bokeh/models/__init__.py)"
     ]
    }
   ],
   "source": [
    "import panel as pn\n",
    "import numpy as np\n",
    "import ipywidgets as widgets\n",
    "from IPython.display import display\n",
    "\n",
    "\n",
    "from bokeh.models import HoverTool\n",
    "\n",
    "\n",
    "\n",
    "context = np.array([])  # inicializa o contexto como uma matriz vazia\n",
    "panels = []\n",
    "\n",
    "inp = widgets.Text()  # cria uma entrada do usuário usando ipywidgets\n",
    "\n",
    "\n",
    "def collect_messages(_):\n",
    "    prompt = inp.value_input\n",
    "    inp.value = ''\n",
    "    context.append({'role':'user', 'content':f\"{prompt}\"})\n",
    "    response = get_completion_from_messages(context) \n",
    "    context.append({'role':'assistant', 'content':f\"{response}\"})\n",
    "    panels.append(\n",
    "        pn.Row('User:', pn.pane.Markdown(prompt, width=600)))\n",
    "    panels.append(\n",
    "        pn.Row('Assistant:', pn.pane.Markdown(response, width=600, style={'background-color': '#F6F6F6'})))\n",
    " \n",
    "    return pn.Column(*panels)\n",
    "\n",
    "\n",
    "\n",
    "inp.on_submit(collect_messages)\n",
    "\n",
    "display(inp)\n",
    "\n",
    "\n",
    "\n"
   ]
  },
  {
   "cell_type": "code",
   "execution_count": null,
   "metadata": {},
   "outputs": [],
   "source": [
    "import panel as pn # GUI\n",
    "pn.extension()\n",
    "\n",
    "\n",
    "panels = [] # Collect display\n",
    "\n",
    "\n",
    "context = [{'role': 'system', 'content': \"\"\"\n",
    "Você é o OrderBot, um serviço automatizado de coleta de pedidos para uma pizzaria. \\\n",
    "Você primeiro cumprimenta o cliente, depois coleta o pedido, \\\n",
    "e então pergunta se é uma coleta ou entrega. \\\n",
    "Você espera para coletar todo o pedido, depois resuma e verifique pela última vez \\\n",
    "se o cliente quiser adicionar mais alguma coisa. \\\n",
    "Se for uma entrega, você pede um endereço. \\\n",
    "Finalmente você recebe o pagamento. \\\n",
    "Certifique-se de esclarecer todas as opções, extras e tamanhos para \\\n",
    "identificar o item no menu. \\\n",
    "Você responde em um estilo amigável, curto e muito coloquial. \\\n",
    "O menu inclui \\\n",
    "pizza de calabresa 12.95, 10.00, 7.00 \\\n",
    "pizza de queijo 10.95, 9.25, 6.50 \\\n",
    "pizza de berinjela 11.95, 9.75, 6.75\n",
    "fritas 4.50, 3.50 \\\n",
    "salada grega 7,25 \\\n",
    "Coberturas: \\\n",
    "queijo extra 2,00, \\\n",
    "cogumelos 1,50 \\\n",
    "salsicha 3,00 \\\n",
    "bacon canadense 3,50 \\\n",
    "Molho IA 1.50 \\\n",
    "pimentão 1,00 \\\n",
    "Bebidas: \\\n",
    "coca 3,00, 2,00, 1,00 \\\n",
    "sprite 3.00, 2.00, 1.00 \\\n",
    "garrafa de água 5,00 \\\n",
    "\"\"\"}] # accumulate messages\n",
    "\n",
    "\n",
    "inp = pn.widgets.TextInput(value=\"Olá\", placeholder=\"Insira o texto aqui . . .\")\n",
    "button_conversation = pn.widgets.Button(name=\"Chat: \")\n",
    "\n",
    "interactive_conversation = pn.bind(collect_messages, button_conversation)\n",
    "\n",
    "\n",
    "dashboard = pn.Column(\n",
    "    inp,\n",
    "    pn.Row(button_conversation),\n",
    "    pn.panel(interactive_conversation, loading_indicator=True, height=300),\n",
    ")\n",
    "\n",
    "dashboard\n"
   ]
  },
  {
   "cell_type": "code",
   "execution_count": null,
   "metadata": {},
   "outputs": [],
   "source": [
    "messages =  context.copy()\n",
    "messages.append(\n",
    "{'role':'system', 'content':'create a json summary of the previous food order. Itemize the price for each item\\\n",
    " The fields should be 1) pizza, include size 2) list of toppings 3) list of drinks, include size   4) list of sides include size  5)total price '},    \n",
    ")\n",
    " #The fields should be 1) pizza, price 2) list of toppings 3) list of drinks, include size include price  4) list of sides include size include price, 5)total price '},    \n",
    "\n",
    "response = get_completion_from_messages(messages, temperature=0)\n",
    "print(response)"
   ]
  },
  {
   "cell_type": "code",
   "execution_count": null,
   "metadata": {},
   "outputs": [],
   "source": []
  }
 ],
 "metadata": {
  "kernelspec": {
   "display_name": "venv_LLMs",
   "language": "python",
   "name": "python3"
  },
  "language_info": {
   "codemirror_mode": {
    "name": "ipython",
    "version": 3
   },
   "file_extension": ".py",
   "mimetype": "text/x-python",
   "name": "python",
   "nbconvert_exporter": "python",
   "pygments_lexer": "ipython3",
   "version": "3.9.16"
  },
  "orig_nbformat": 4
 },
 "nbformat": 4,
 "nbformat_minor": 2
}
