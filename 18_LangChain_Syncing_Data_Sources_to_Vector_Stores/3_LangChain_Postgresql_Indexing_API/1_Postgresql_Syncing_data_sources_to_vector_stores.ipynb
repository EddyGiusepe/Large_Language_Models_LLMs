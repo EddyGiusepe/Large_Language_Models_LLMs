{
 "cells": [
  {
   "cell_type": "markdown",
   "metadata": {},
   "source": [
    "<h1 align=\"center\"><font color=\"yellow\">Sincronizando fontes de dados com armazenamentos de vetores</font></h1>"
   ]
  },
  {
   "cell_type": "markdown",
   "metadata": {},
   "source": [
    "<font color=\"yellow\">Data Scientist.: Dr.Eddy Giusepe Chirinos Isidro</font>"
   ]
  },
  {
   "cell_type": "markdown",
   "metadata": {},
   "source": [
    "Links de estudo:\n",
    "\n",
    "* [Syncing data sources to vector stores](https://blog.langchain.dev/syncing-data-sources-to-vector-stores/?ref=langchain-blog-newsletter)\n",
    "\n",
    "* [LangChain Indexing API](https://python.langchain.com/docs/modules/data_connection/indexing?ref=blog.langchain.dev)"
   ]
  },
  {
   "cell_type": "markdown",
   "metadata": {},
   "source": [
    "# <font color=\"red\">Contextualizando</font>"
   ]
  },
  {
   "cell_type": "markdown",
   "metadata": {},
   "source": [
    "<font color=\"orange\">Os aplicativos LLM mais complexos e com uso intensivo de conhecimento exigem recuperação de dados em tempo de execução para `Retrieval Augmented Generation` (RAG). Um componente central da pilha RAG típica é um armazenamento de vetores, que é usado para potencializar a recuperação de documentos.</font>"
   ]
  },
  {
   "cell_type": "markdown",
   "metadata": {},
   "source": [
    "![Alt text](image.png)"
   ]
  },
  {
   "cell_type": "markdown",
   "metadata": {},
   "source": [
    "<font color=\"orange\">O uso de um armazenamento de vetores requer a configuração de um `pipeline de indexação` para carregar dados de fontes (`um site, um arquivo, etc.`), transformar os dados em documentos, incorporar esses documentos e inserir os `Embeddings` e documentos no armazenamento de vetores.\n",
    "\n",
    "Se suas fontes de dados ou etapas de processamento mudarem, os dados precisarão ser reindexados. Se isso acontecer regularmente e as alterações forem incrementais, torna-se valioso desduplicar o conteúdo que está sendo indexado com o conteúdo já no armazenamento de vetores. Isso evita gastar tempo e dinheiro com trabalho redundante. Também se torna importante configurar processos de limpeza de armazenamento de vetores para remover dados obsoletos de seu armazenamento de vetores.</font>"
   ]
  },
  {
   "cell_type": "markdown",
   "metadata": {},
   "source": [
    "# <font color=\"red\">API de indexação LangChain</font>"
   ]
  },
  {
   "cell_type": "markdown",
   "metadata": {},
   "source": [
    "A nova `API de indexação LangChain` facilita carregar e manter sincronizados (`sync`) documentos de qualquer fonte em um armazenamento de vetores. Especificamente, isso ajuda:\n",
    "\n",
    "* Evitar escrever conteúdo duplicado no armazenamento de vetores\n",
    "\n",
    "* Evitar reescrever conteúdo inalterado\n",
    "\n",
    "* Evitar recalcular `Embeddings` sobre conteúdo inalterado\n",
    "\n",
    "\n",
    "Fundamentalmente, a `API de indexação` funcionará mesmo com documentos que passaram por diversas etapas de transformação (`por exemplo`, através de chunking de texto) em relação aos documentos de origem originais."
   ]
  },
  {
   "cell_type": "markdown",
   "metadata": {},
   "source": [
    "# <font color=\"red\">Como funciona</font>"
   ]
  },
  {
   "cell_type": "markdown",
   "metadata": {},
   "source": [
    "A `indexação LangChain` utiliza um gerenciador de registros (`RecordManager`) que monitora as gravações de documentos em um armazenamento de vetores (`Vector Store`).\n",
    "\n",
    "Ao indexar o conteúdo, os `hashes` são calculados para cada documento e as seguintes informações são armazenadas no gerenciador de registros:\n",
    "\n",
    "* o hash do documento (hash do conteúdo da página e dos metadados)\n",
    "\n",
    "* hora de escrever\n",
    "\n",
    "* o ID da fonte – cada documento deve incluir informações em seus metadados para nos permitir determinar a fonte final deste documento"
   ]
  },
  {
   "cell_type": "markdown",
   "metadata": {},
   "source": [
    "# <font color=\"red\">Modos de limpeza</font>"
   ]
  },
  {
   "cell_type": "markdown",
   "metadata": {},
   "source": [
    "Ao `reindexar documentos em um armazenamento de vetores`, é possível que alguns documentos existentes no armazenamento de vetores sejam excluídos. Se você fez alterações na forma como os documentos são processados ​​antes da inserção ou os documentos de origem foram alterados, você desejará remover quaisquer documentos existentes que venham da mesma origem dos novos documentos que estão sendo indexados. Se alguns documentos de origem foram excluídos, você desejará excluir todos os documentos existentes no armazenamento de vetores e substituí-los pelos documentos reindexados.\n",
    "\n",
    "Os modos de limpeza da `API de indexação` permitem escolher o comportamento desejado:"
   ]
  },
  {
   "cell_type": "markdown",
   "metadata": {},
   "source": [
    "![Alt text](image-1.png)"
   ]
  },
  {
   "cell_type": "markdown",
   "metadata": {},
   "source": [
    "# <font color=\"red\">Vendo isso em ação</font>"
   ]
  },
  {
   "cell_type": "markdown",
   "metadata": {},
   "source": [
    "<font color=\"orange\">`Primeiro` vamos inicializar nosso armazenamento de vetores. Faremos uma demonstração com o `ElasticsearchStore`, pois ele atende aos pré-requisitos de suporte à `inserção` (insertion) e `exclusão` (deletion). Consulte a seção Documentos de [requisitos](https://python.langchain.com/docs/modules/data_connection/indexing?ref=blog.langchain.dev#requirements) para obter mais informações sobre os requisitos do armazenamento de vetores.</font>"
   ]
  },
  {
   "cell_type": "code",
   "execution_count": null,
   "metadata": {},
   "outputs": [],
   "source": [
    "# pip install -U -q langchain\n",
    "\n",
    "%pip show langchain"
   ]
  },
  {
   "cell_type": "code",
   "execution_count": 1,
   "metadata": {},
   "outputs": [],
   "source": [
    "import os\n",
    "import openai\n",
    "from dotenv import find_dotenv, load_dotenv\n",
    "_ = load_dotenv(find_dotenv()) # read local .env file\n",
    "openai.api_key  = os.getenv('OPENAI_API_KEY')\n"
   ]
  },
  {
   "cell_type": "code",
   "execution_count": 2,
   "metadata": {},
   "outputs": [],
   "source": [
    "# # !pip install openai elasticsearch\n",
    "\n",
    "# from langchain.embeddings import OpenAIEmbeddings\n",
    "# from langchain.vectorstores import ElasticsearchStore\n",
    "\n",
    "# collection_name = \"eddy_test_index\"\n",
    "\n",
    "# # Set env var OPENAI_API_KEY:\n",
    "# embedding = OpenAIEmbeddings()\n",
    "\n",
    "# # Execute uma instância do Elasticsearch localmente:\n",
    "# # !docker run -p 9200:9200 -e \"discovery.type=single-node\" -e \"xpack.security.enabled=false\" -e \"xpack.security.http.ssl.enabled=false\" docker.elastic.co/elasticsearch/elasticsearch:8.9.0\n",
    "# vector_store = ElasticsearchStore(es_url=\"http://localhost:9200\",\n",
    "#                                   index_name=collection_name,\n",
    "#                                   embedding=embedding\n",
    "#                                  )\n",
    "\n",
    "\n",
    "from langchain.embeddings import OpenAIEmbeddings\n",
    "from langchain.text_splitter import CharacterTextSplitter\n",
    "from langchain.vectorstores.pgvector import PGVector\n",
    "from langchain.document_loaders import TextLoader\n",
    "\n",
    "embeddings = OpenAIEmbeddings()\n",
    "\n",
    "import psycopg2\n",
    "\n",
    "# Constrói a string de conexão PGVector a partir dos parâmetros.\n",
    "host= os.environ['DB_HOST']\n",
    "port= os.environ['DB_PORT']\n",
    "user= os.environ['DB_USER']\n",
    "password= os.environ['DB_PASSWORD']\n",
    "dbname= os.environ['DB_NAME']\n",
    "\n",
    "CONNECTION_STRING = f\"postgresql://{user}:{password}@{host}:{port}/{dbname}\"\n",
    "COLLECTION_NAME = \"Eddy_vectordb\"\n",
    "\n",
    "\n",
    "vectorstore = PGVector.from_documents(\n",
    "    [],\n",
    "    embeddings,\n",
    "    collection_name=COLLECTION_NAME,\n",
    "    connection_string=CONNECTION_STRING\n",
    ")\n",
    "\n",
    "\n"
   ]
  },
  {
   "cell_type": "markdown",
   "metadata": {},
   "source": [
    "<font color=\"orange\">E agora vamos inicializar e criar um esquema para nosso gerenciador de registros, para o qual usaremos apenas uma tabela `SQLite`:</font>"
   ]
  },
  {
   "cell_type": "code",
   "execution_count": 3,
   "metadata": {},
   "outputs": [],
   "source": [
    "# from langchain.indexes import SQLRecordManager\n",
    "\n",
    "# namespace = f\"elasticsearch/{collection_name}\"\n",
    "\n",
    "# record_manager = SQLRecordManager(namespace, db_url=\"sqlite:///eddy_record_manager_cache.sql\")\n",
    "# record_manager.create_schema()\n",
    "\n",
    "\n",
    "from langchain.indexes import SQLRecordManager\n",
    "\n",
    "# Atualize o namespace para refletir PGVector:\n",
    "namespace = f\"pgvector/{COLLECTION_NAME}\"\n",
    "\n",
    "record_manager = SQLRecordManager(namespace,\n",
    "                                  db_url=CONNECTION_STRING\n",
    "                                 )\n",
    "\n",
    "\n",
    "# Criar schema para o Gerenciador de registros (record):\n",
    "record_manager.create_schema()\n"
   ]
  },
  {
   "cell_type": "markdown",
   "metadata": {},
   "source": [
    "<font color=\"orange\">Suponha que queiramos indexar a página inicial do [reuters.com](https://www.reuters.com/?ref=blog.langchain.dev). Podemos carregar e dividir o conteúdo do URL com:</font>"
   ]
  },
  {
   "cell_type": "code",
   "execution_count": 4,
   "metadata": {},
   "outputs": [],
   "source": [
    "# !pip install beautifulsoup4 tiktoken\n",
    "\n",
    "#import bs4\n",
    "from bs4 import BeautifulSoup\n",
    "\n",
    "from langchain.document_loaders import RecursiveUrlLoader\n",
    "from langchain.text_splitter import RecursiveCharacterTextSplitter\n",
    "\n",
    "\n",
    "raw_docs = RecursiveUrlLoader(\"https://www.folhavitoria.com.br/\",  #\"https://www.reuters.com\", \n",
    "                              max_depth=0,\n",
    "                              extractor=lambda x: BeautifulSoup(x, \"lxml\").text\n",
    "                             ).load()\n",
    "\n",
    "\n",
    "#processed_docs = RecursiveCharacterTextSplitter.from_tiktoken_encoder(chunk_size=200).split_documents(raw_docs)\n"
   ]
  },
  {
   "cell_type": "code",
   "execution_count": null,
   "metadata": {},
   "outputs": [],
   "source": [
    "raw_docs"
   ]
  },
  {
   "cell_type": "code",
   "execution_count": 6,
   "metadata": {},
   "outputs": [
    {
     "data": {
      "text/plain": [
       "186"
      ]
     },
     "execution_count": 6,
     "metadata": {},
     "output_type": "execute_result"
    }
   ],
   "source": [
    "len(raw_docs)"
   ]
  },
  {
   "cell_type": "code",
   "execution_count": null,
   "metadata": {},
   "outputs": [],
   "source": [
    "processed_docs = RecursiveCharacterTextSplitter.from_tiktoken_encoder(chunk_size=300).split_documents(raw_docs)\n",
    "processed_docs\n",
    "\n",
    "\n",
    "# text_splitter = CharacterTextSplitter(chunk_size=150,\n",
    "#                                       chunk_overlap=20\n",
    "#                                      )\n",
    "\n",
    "\n",
    "# docs = text_splitter.split_documents(raw_docs)\n",
    "# #print(len(docs))"
   ]
  },
  {
   "cell_type": "code",
   "execution_count": 8,
   "metadata": {},
   "outputs": [
    {
     "data": {
      "text/plain": [
       "6986"
      ]
     },
     "execution_count": 8,
     "metadata": {},
     "output_type": "execute_result"
    }
   ],
   "source": [
    "len(processed_docs)\n",
    "\n",
    "#docs"
   ]
  },
  {
   "cell_type": "markdown",
   "metadata": {},
   "source": [
    "<font color=\"orange\">E agora estamos prontos para indexar! Suponha que quando indexamos pela primeira vez apenas os primeiros `10` documentos estejam na primeira página:</font>"
   ]
  },
  {
   "cell_type": "code",
   "execution_count": 11,
   "metadata": {},
   "outputs": [
    {
     "data": {
      "text/plain": [
       "{'num_added': 6930, 'num_updated': 0, 'num_skipped': 54, 'num_deleted': 0}"
      ]
     },
     "execution_count": 11,
     "metadata": {},
     "output_type": "execute_result"
    }
   ],
   "source": [
    "from langchain.indexes import index\n",
    "\n",
    "index(docs_source=processed_docs,\n",
    "      record_manager=record_manager,\n",
    "      vector_store=vectorstore,\n",
    "      cleanup=None, #\"full\",\n",
    "      #delete_mode=None,\n",
    "      source_id_key=\"source\"\n",
    "     )\n"
   ]
  },
  {
   "cell_type": "code",
   "execution_count": 13,
   "metadata": {},
   "outputs": [
    {
     "data": {
      "text/plain": [
       "[Document(page_content='Homem mata irmão para proteger a mãe de agressões em Vila Velha\\n\\n\\n\\n\\n\\n\\n\\n\\n\\n\\n\\n\\n\\n\\n\\n\\n\\n\\n\\n\\n\\n\\n\\n\\n\\n\\n\\n\\n\\n\\n\\n\\n\\n\\n\\n\\n\\n\\n\\n\\n\\n\\n\\n\\n\\n\\n\\n\\n\\n\\n\\n\\n\\n\\n\\n\\n\\n\\n\\n\\n\\n\\n\\n\\n\\n\\n\\n\\n\\n\\n\\n\\n\\n\\n\\n\\n\\n\\n\\n\\n\\n\\n\\n\\n\\n\\n\\n\\n\\t\\t\\t\\t\\t\\t\\t\\t\\tMENU\\n\\t\\t\\t\\t\\t\\t\\t\\t\\n\\n\\n\\n\\n\\nInscreva-se \\n\\n\\n\\n\\n\\n\\n\\n\\n\\n\\n\\n\\n\\n\\n\\n\\n\\nConquistas\\nMeu Folha\\nConfigurações\\nSair\\n\\n\\n\\n\\n\\n\\n\\n\\n\\n\\n\\n\\n\\nCompartilhar\\n\\n\\n\\n\\n\\n\\n\\n\\n\\n\\n\\n\\n\\n\\n\\n\\n\\n\\n\\n\\n\\n\\n\\n\\n\\n\\n\\n\\n\\n\\nCopiado\\n\\n\\n\\n\\n\\n\\n\\n\\n\\n\\n\\n\\n\\n\\n\\nMeu Folha\\n\\n\\nGeral\\nEntretenimento e Cultura\\nEconomia\\nSaúde\\nTrabalho\\nPolícia\\nPolítica\\nEsportes\\nGames\\n\\nVídeos\\n\\nTV Vitória\\nFolha Vitória\\n\\n\\n\\nColunas\\n\\nHelio Dórea\\nAndrea Pena\\nMundo Business\\nFaz a Conta\\nPedro Permuy\\nMomento Décor\\nDe Olho no Poder\\nVida Saudável\\nSuperestilosa\\n\\n\\n\\nBlogs', metadata={'source': 'https://www.folhavitoria.com.br/policia/noticia/09/2023/crime-em-familia-homem-mata-irmao-para-proteger-a-mae-de-agressoes-em-vila-velha', 'title': 'Homem mata irmão para proteger a mãe de agressões em Vila Velha', 'description': 'Segundo familiares, a vítima era usuária de drogas e havia invadido a casa da mãe após ela conseguir uma medida protetiva. Entenda!', 'language': 'pt-br'}),\n",
       " Document(page_content='o outro irmão, de 52 anos, entrou na briga para defender a mãe e pegou uma faca. A intenção, pelo que ele contou aos policiais, era só assustar o irmão. No entanto, ele acabou acertando uma facada em Fabrício, que morreu no local.LEIA TAMBÉM:\\xa0Detento que fugiu do presídio de Xuri é encontrado no Sul do ESEm conversa com os policiais, o irmão que matou o outro disse que trabalha na área da saúde e, ao ver a situação do irmão, tentou socorrê-lo, mas sem sucesso.Um vizinho da família disse que eles são bem queridos na região, e que Fabrício nunca havia trazido problemas para os moradores. No entanto, os vizinhos já precisaram interferir em brigas entre a vítima e os familiares.De acordo com a Secretaria Estadual de Justiça (Sejus), a vítima já tinha passagens por furto e roubo. A', metadata={'source': 'https://www.folhavitoria.com.br/policia/noticia/09/2023/crime-em-familia-homem-mata-irmao-para-proteger-a-mae-de-agressoes-em-vila-velha', 'title': 'Homem mata irmão para proteger a mãe de agressões em Vila Velha', 'description': 'Segundo familiares, a vítima era usuária de drogas e havia invadido a casa da mãe após ela conseguir uma medida protetiva. Entenda!', 'language': 'pt-br'}),\n",
       " Document(page_content='Um homem de 47 anos foi morto a facadas pelo próprio irmão, no início da tarde de terça-feira (12), no bairro\\xa0Vila Nova, em Vila Velha. O autor dos golpes alegou que fez isso para proteger a mãe, que estaria sendo agredida e ameaçada pela vítima.\\xa0De acordo com informações da TV Vitória/Record TV, o homem que morreu era usuário de drogas há alguns anos e costumava brigar com o irmão e com a mãe para conseguir dinheiro para comprar entorpecentes.Inclusive, a mãe, que tem 71 anos, já teria sido agredida algumas vezes por esse homem, identificado como Fabrício Antônio de Souza.>> Quer receber nossas notícias 100% gratuitas? Participe da nossa comunidade no WhatsApp ou entre no nosso canal do Telegram!Na última segunda-feira (11), a idosa conseguiu uma medida protetiva contra o', metadata={'source': 'https://www.folhavitoria.com.br/policia/noticia/09/2023/crime-em-familia-homem-mata-irmao-para-proteger-a-mae-de-agressoes-em-vila-velha', 'title': 'Homem mata irmão para proteger a mãe de agressões em Vila Velha', 'description': 'Segundo familiares, a vítima era usuária de drogas e havia invadido a casa da mãe após ela conseguir uma medida protetiva. Entenda!', 'language': 'pt-br'}),\n",
       " Document(page_content='Com isso, ele não poderia mais se aproximar dela.No entanto, nesta terça-feira, Fabrício descumpriu a decisão judicial. Ele pulou o muro da casa da mãe, invadiu a residência e começou a agredir a idosa.Policiais contaram que, ao ver toda a situação, o outro irmão, de 52 anos, entrou na briga para defender a mãe e pegou uma faca. A intenção, pelo que ele contou aos policiais, era só assustar o irmão. No entanto, ele acabou acertando uma facada em Fabrício, que morreu no local.LEIA TAMBÉM:\\xa0Detento que fugiu do presídio de Xuri é encontrado no Sul do ESEm conversa com os policiais, o irmão que matou o outro disse que trabalha na área da saúde e, ao ver a situação do irmão, tentou socorrê-lo, mas sem sucesso.Um vizinho da família disse que eles são bem queridos na', metadata={'source': 'https://www.folhavitoria.com.br/policia/noticia/09/2023/crime-em-familia-homem-mata-irmao-para-proteger-a-mae-de-agressoes-em-vila-velha', 'title': 'Homem mata irmão para proteger a mãe de agressões em Vila Velha', 'description': 'Segundo familiares, a vítima era usuária de drogas e havia invadido a casa da mãe após ela conseguir uma medida protetiva. Entenda!', 'language': 'pt-br'})]"
      ]
     },
     "execution_count": 13,
     "metadata": {},
     "output_type": "execute_result"
    }
   ],
   "source": [
    "vectorstore.as_retriever(search_type=\"similarity_score_threshold\",\n",
    "                search_kwargs={'score_threshold': 0.85,\n",
    "                               'k':5}).get_relevant_documents(\"Matou irmão para defender\")\n"
   ]
  },
  {
   "cell_type": "code",
   "execution_count": null,
   "metadata": {},
   "outputs": [],
   "source": []
  }
 ],
 "metadata": {
  "kernelspec": {
   "display_name": "venv_LLMs",
   "language": "python",
   "name": "python3"
  },
  "language_info": {
   "codemirror_mode": {
    "name": "ipython",
    "version": 3
   },
   "file_extension": ".py",
   "mimetype": "text/x-python",
   "name": "python",
   "nbconvert_exporter": "python",
   "pygments_lexer": "ipython3",
   "version": "3.10.12"
  },
  "orig_nbformat": 4
 },
 "nbformat": 4,
 "nbformat_minor": 2
}
