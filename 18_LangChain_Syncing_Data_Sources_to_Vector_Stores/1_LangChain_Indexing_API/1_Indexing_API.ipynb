{
 "cells": [
  {
   "cell_type": "markdown",
   "metadata": {},
   "source": [
    "<h1 align=\"center\"><font color=\"yellow\">LangChain: Indexing API</font></h1>"
   ]
  },
  {
   "cell_type": "markdown",
   "metadata": {},
   "source": [
    "<font color=\"yellow\">Data Scientist.: Dr.Eddy Giusepe Chirinos Isidro</font>"
   ]
  },
  {
   "cell_type": "markdown",
   "metadata": {},
   "source": [
    "# <font color=\"red\">Indexing API</font>"
   ]
  },
  {
   "cell_type": "markdown",
   "metadata": {},
   "source": [
    "Links de estudo:\n",
    "\n",
    "* [LangChain Indexing API - Update your Embeddings SURGICALLY!](https://www.youtube.com/watch?v=PvOb0gKMDzo)\n",
    "\n",
    "* [GitHub: Vector Search with LangChain Indexing API](https://github.com/Coding-Crashkurse/LangChain-Indexing-API/tree/main)"
   ]
  },
  {
   "cell_type": "code",
   "execution_count": 1,
   "metadata": {},
   "outputs": [],
   "source": [
    "import os\n",
    "import openai\n",
    "from dotenv import find_dotenv, load_dotenv\n",
    "_ = load_dotenv(find_dotenv()) # read local .env file\n",
    "openai.api_key  = os.getenv('OPENAI_API_KEY')"
   ]
  },
  {
   "cell_type": "code",
   "execution_count": 2,
   "metadata": {},
   "outputs": [],
   "source": [
    "from langchain.embeddings import OpenAIEmbeddings\n",
    "from langchain.text_splitter import CharacterTextSplitter\n",
    "from langchain.vectorstores.pgvector import PGVector\n",
    "from langchain.document_loaders import TextLoader\n",
    "\n",
    "embeddings = OpenAIEmbeddings()\n",
    "\n",
    "import psycopg2\n",
    "\n",
    "# Constrói a string de conexão PGVector a partir dos parâmetros.\n",
    "host= os.environ['DB_HOST']\n",
    "port= os.environ['DB_PORT']\n",
    "user= os.environ['DB_USER']\n",
    "password= os.environ['DB_PASSWORD']\n",
    "dbname= os.environ['DB_NAME']\n",
    "\n",
    "CONNECTION_STRING = f\"postgresql://{user}:{password}@{host}:{port}/{dbname}\"\n",
    "COLLECTION_NAME = \"Eddy_vectordb\"\n",
    "\n",
    "\n",
    "vectorstore = PGVector.from_documents(\n",
    "    [],\n",
    "    embeddings,\n",
    "    collection_name=COLLECTION_NAME,\n",
    "    connection_string=CONNECTION_STRING\n",
    ")\n"
   ]
  },
  {
   "cell_type": "markdown",
   "metadata": {},
   "source": [
    "Vamos adicionar documentos e Embeddings!"
   ]
  },
  {
   "cell_type": "code",
   "execution_count": 3,
   "metadata": {},
   "outputs": [
    {
     "name": "stderr",
     "output_type": "stream",
     "text": [
      "Created a chunk of size 179, which is longer than the specified 150\n",
      "Created a chunk of size 231, which is longer than the specified 150\n",
      "Created a chunk of size 280, which is longer than the specified 150\n",
      "Created a chunk of size 210, which is longer than the specified 150\n",
      "Created a chunk of size 231, which is longer than the specified 150\n",
      "Created a chunk of size 317, which is longer than the specified 150\n"
     ]
    },
    {
     "name": "stdout",
     "output_type": "stream",
     "text": [
      "7\n"
     ]
    }
   ],
   "source": [
    "loader = TextLoader(\"./bella_vista.txt\")\n",
    "\n",
    "documents = loader.load()\n",
    "text_splitter = CharacterTextSplitter(chunk_size=150,\n",
    "                                      chunk_overlap=20\n",
    "                                     )\n",
    "\n",
    "\n",
    "docs = text_splitter.split_documents(documents)\n",
    "print(len(docs))"
   ]
  },
  {
   "cell_type": "code",
   "execution_count": 4,
   "metadata": {},
   "outputs": [
    {
     "data": {
      "text/plain": [
       "[Document(page_content='Q: Eddy, Qual é o horário de funcionamento do Bella Vista?\\nA: O Bella Vista funciona das 11h às 23h. de segunda a Sábado. Aos domingos, recebemos hóspedes a partir das 12h. às 22h', metadata={'source': './bella_vista.txt'}),\n",
       " Document(page_content='Q: Que tipo de culinária o Bella Vista serve?\\nA: Bella Vista oferece uma deliciosa mistura de cozinha mediterrânea e americana contemporânea. Orgulhamo-nos de usar os ingredientes mais frescos, muitos dos quais são de origem local.', metadata={'source': './bella_vista.txt'}),\n",
       " Document(page_content='Q: Vocês oferecem opções vegetarianas ou veganas no Bella Vista?\\nA: Absolutamente! Bella Vista possui um cardápio diversificado que inclui uma variedade de pratos vegetarianos e veganos. Nossos chefs também terão prazer em personalizar pratos com base nas necessidades dietéticas.', metadata={'source': './bella_vista.txt'}),\n",
       " Document(page_content='Q: Bella Vista é ideal para famílias?\\nA: Sim, o Bella Vista é um estabelecimento familiar. Temos um menu infantil dedicado e oferecemos cadeiras altas e assentos elevatórios para os nossos hóspedes mais jovens.', metadata={'source': './bella_vista.txt'}),\n",
       " Document(page_content='Q: Posso reservar eventos privados no Bella Vista?\\nA: Certamente! Bella Vista possui uma área de jantar privativa perfeita para eventos, festas ou reuniões corporativas. Também oferecemos serviços de catering para eventos externos.', metadata={'source': './bella_vista.txt'}),\n",
       " Document(page_content='Q: Como é o ambiente no Bella Vista?\\nA: Bella Vista possui um ambiente aconchegante e elegante, com iluminação ambiente, assentos confortáveis e uma vista deslumbrante do horizonte da cidade. Quer você esteja procurando um jantar romântico ou uma refeição casual com amigos, o Bella Vista oferece o ambiente perfeito.', metadata={'source': './bella_vista.txt'}),\n",
       " Document(page_content='Q: Preciso de reserva para o Bella Vista?\\nA: Embora os visitantes sejam sempre bem-vindos, recomendamos fazer uma reserva, especialmente durante fins de semana e feriados, para garantir uma experiência gastronômica perfeita.', metadata={'source': './bella_vista.txt'})]"
      ]
     },
     "execution_count": 4,
     "metadata": {},
     "output_type": "execute_result"
    }
   ],
   "source": [
    "docs"
   ]
  },
  {
   "cell_type": "code",
   "execution_count": 5,
   "metadata": {},
   "outputs": [],
   "source": [
    "from langchain.indexes import SQLRecordManager\n",
    "\n",
    "# Atualize o namespace para refletir PGVector:\n",
    "namespace = f\"pgvector/{COLLECTION_NAME}\"\n",
    "\n",
    "record_manager = SQLRecordManager(namespace,\n",
    "                                  db_url=CONNECTION_STRING\n",
    "                                 )\n",
    "\n",
    "\n",
    "# Criar schema para o Gerenciador de registros (record):\n",
    "record_manager.create_schema()\n"
   ]
  },
  {
   "cell_type": "markdown",
   "metadata": {},
   "source": [
    "<font color=\"orange\">Atualize os documentos para ver algumas mudanças:</font>"
   ]
  },
  {
   "cell_type": "code",
   "execution_count": null,
   "metadata": {},
   "outputs": [],
   "source": [
    "# loader = TextLoader(\"./bella_vista.txt\")\n",
    "\n",
    "# documents = loader.load()\n",
    "\n",
    "# text_splitter = CharacterTextSplitter(chunk_size=150, chunk_overlap=20)\n",
    "# docs = text_splitter.split_documents(documents)\n",
    "\n",
    "\n",
    "# for doc in docs:\n",
    "#     print(doc)"
   ]
  },
  {
   "cell_type": "code",
   "execution_count": 6,
   "metadata": {},
   "outputs": [
    {
     "data": {
      "text/plain": [
       "{'num_added': 7, 'num_updated': 0, 'num_skipped': 0, 'num_deleted': 0}"
      ]
     },
     "execution_count": 6,
     "metadata": {},
     "output_type": "execute_result"
    }
   ],
   "source": [
    "from langchain.indexes import index\n",
    "\n",
    "index(\n",
    "    docs,\n",
    "    record_manager,\n",
    "    vectorstore,\n",
    "    #cleanup=None,\n",
    "    delete_mode=None,\n",
    "    source_id_key=\"source\",\n",
    ")\n"
   ]
  },
  {
   "cell_type": "code",
   "execution_count": 7,
   "metadata": {},
   "outputs": [],
   "source": [
    "from langchain.schema import Document\n",
    "\n",
    "# A seguir fazemos três MUDANÇAS no Dataset:\n",
    "docs[0].page_content = \"Q: Quem é o secretário do Ally?\\nA: É o Josemar\"\n",
    "\n",
    "del docs[1]\n",
    "\n",
    "docs.append(Document(page_content=\"new content\", metadata={\"source\": \"important\"}))\n"
   ]
  },
  {
   "cell_type": "code",
   "execution_count": 8,
   "metadata": {},
   "outputs": [
    {
     "data": {
      "text/plain": [
       "[Document(page_content='Q: Quem é o secretário do Ally?\\nA: É o Josemar', metadata={'source': './bella_vista.txt'}),\n",
       " Document(page_content='Q: Vocês oferecem opções vegetarianas ou veganas no Bella Vista?\\nA: Absolutamente! Bella Vista possui um cardápio diversificado que inclui uma variedade de pratos vegetarianos e veganos. Nossos chefs também terão prazer em personalizar pratos com base nas necessidades dietéticas.', metadata={'source': './bella_vista.txt'}),\n",
       " Document(page_content='Q: Bella Vista é ideal para famílias?\\nA: Sim, o Bella Vista é um estabelecimento familiar. Temos um menu infantil dedicado e oferecemos cadeiras altas e assentos elevatórios para os nossos hóspedes mais jovens.', metadata={'source': './bella_vista.txt'}),\n",
       " Document(page_content='Q: Posso reservar eventos privados no Bella Vista?\\nA: Certamente! Bella Vista possui uma área de jantar privativa perfeita para eventos, festas ou reuniões corporativas. Também oferecemos serviços de catering para eventos externos.', metadata={'source': './bella_vista.txt'}),\n",
       " Document(page_content='Q: Como é o ambiente no Bella Vista?\\nA: Bella Vista possui um ambiente aconchegante e elegante, com iluminação ambiente, assentos confortáveis e uma vista deslumbrante do horizonte da cidade. Quer você esteja procurando um jantar romântico ou uma refeição casual com amigos, o Bella Vista oferece o ambiente perfeito.', metadata={'source': './bella_vista.txt'}),\n",
       " Document(page_content='Q: Preciso de reserva para o Bella Vista?\\nA: Embora os visitantes sejam sempre bem-vindos, recomendamos fazer uma reserva, especialmente durante fins de semana e feriados, para garantir uma experiência gastronômica perfeita.', metadata={'source': './bella_vista.txt'}),\n",
       " Document(page_content='new content', metadata={'source': 'important'})]"
      ]
     },
     "execution_count": 8,
     "metadata": {},
     "output_type": "execute_result"
    }
   ],
   "source": [
    "docs"
   ]
  },
  {
   "cell_type": "code",
   "execution_count": 9,
   "metadata": {},
   "outputs": [
    {
     "data": {
      "text/plain": [
       "{'num_added': 2, 'num_updated': 0, 'num_skipped': 5, 'num_deleted': 0}"
      ]
     },
     "execution_count": 9,
     "metadata": {},
     "output_type": "execute_result"
    }
   ],
   "source": [
    "index(\n",
    "    docs,\n",
    "    record_manager,\n",
    "    vectorstore,\n",
    "    #cleanup=None,\n",
    "    delete_mode=None,\n",
    "    source_id_key=\"source\",\n",
    ")\n"
   ]
  },
  {
   "cell_type": "code",
   "execution_count": 10,
   "metadata": {},
   "outputs": [
    {
     "data": {
      "text/plain": [
       "{'num_added': 0, 'num_updated': 0, 'num_skipped': 7, 'num_deleted': 2}"
      ]
     },
     "execution_count": 10,
     "metadata": {},
     "output_type": "execute_result"
    }
   ],
   "source": [
    "index(\n",
    "    docs,\n",
    "    record_manager,\n",
    "    vectorstore,\n",
    "    #cleanup=\"incremental\",\n",
    "    delete_mode=\"incremental\",\n",
    "    source_id_key=\"source\",\n",
    ")\n"
   ]
  },
  {
   "cell_type": "code",
   "execution_count": 11,
   "metadata": {},
   "outputs": [
    {
     "data": {
      "text/plain": [
       "[Document(page_content='Q: Quem é o secretário do Ally?\\nA: É o Josemar', metadata={'source': './bella_vista.txt'})]"
      ]
     },
     "execution_count": 11,
     "metadata": {},
     "output_type": "execute_result"
    }
   ],
   "source": [
    "vectorstore.as_retriever(search_type=\"similarity_score_threshold\",\n",
    "                search_kwargs={'score_threshold': 0.80,\n",
    "                               'k':5}).get_relevant_documents(\"Quem é o secretário?\")\n"
   ]
  },
  {
   "cell_type": "code",
   "execution_count": 12,
   "metadata": {},
   "outputs": [],
   "source": [
    "docs[0].page_content = \"Q: Quem é o secretário?\\nA: É Eddy\"\n"
   ]
  },
  {
   "cell_type": "code",
   "execution_count": 13,
   "metadata": {},
   "outputs": [
    {
     "data": {
      "text/plain": [
       "{'num_added': 1, 'num_updated': 0, 'num_skipped': 6, 'num_deleted': 1}"
      ]
     },
     "execution_count": 13,
     "metadata": {},
     "output_type": "execute_result"
    }
   ],
   "source": [
    "index(docs,\n",
    "      record_manager,\n",
    "      vectorstore,\n",
    "      #cleanup=\"full\",\n",
    "      delete_mode='incremental',\n",
    "      source_id_key=\"source\"\n",
    "     )\n"
   ]
  },
  {
   "cell_type": "code",
   "execution_count": null,
   "metadata": {},
   "outputs": [],
   "source": [
    "del docs[5]"
   ]
  }
 ],
 "metadata": {
  "kernelspec": {
   "display_name": "venv_LLMs",
   "language": "python",
   "name": "python3"
  },
  "language_info": {
   "codemirror_mode": {
    "name": "ipython",
    "version": 3
   },
   "file_extension": ".py",
   "mimetype": "text/x-python",
   "name": "python",
   "nbconvert_exporter": "python",
   "pygments_lexer": "ipython3",
   "version": "3.10.12"
  },
  "orig_nbformat": 4
 },
 "nbformat": 4,
 "nbformat_minor": 2
}
