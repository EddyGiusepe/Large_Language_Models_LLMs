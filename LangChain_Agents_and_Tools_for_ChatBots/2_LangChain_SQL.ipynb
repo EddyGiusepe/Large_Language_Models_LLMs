{
 "cells": [
  {
   "cell_type": "markdown",
   "metadata": {},
   "source": [
    "<h1 align=\"center\"><font color=\"yellow\">LangChain: SQL</font></h1>"
   ]
  },
  {
   "cell_type": "markdown",
   "metadata": {},
   "source": [
    "<font color=\"yellow\">Data Scientist.: Dr.Eddy Giusepe Chirinos Isidro</font>"
   ]
  },
  {
   "cell_type": "markdown",
   "metadata": {},
   "source": [
    "Links de estudo:\n",
    "\n",
    "* [Natural Language to SQL | LangChain, SQL Database & OpenAI LLMs](https://www.youtube.com/watch?v=w-eTS8YlbZ4)\n",
    "\n",
    "* [SQL Chain Implementation in LangChain | Query SQL Database using gpt3| Complete Tutorial | Langchain](https://www.youtube.com/watch?v=JymsOssrhsY)\n",
    "\n",
    "* [SQL Chain Example | 🦜🔗 LangChain UseCases](https://www.youtube.com/watch?v=ylWAxc0Mrjc)\n",
    "\n",
    "* [LangChain SQL Database agent with OpenAI to query PostgreSQL](https://www.youtube.com/watch?v=qWSeDgun6HQ)\n"
   ]
  },
  {
   "cell_type": "code",
   "execution_count": null,
   "metadata": {},
   "outputs": [],
   "source": []
  },
  {
   "cell_type": "code",
   "execution_count": null,
   "metadata": {},
   "outputs": [],
   "source": []
  },
  {
   "cell_type": "code",
   "execution_count": null,
   "metadata": {},
   "outputs": [],
   "source": []
  },
  {
   "cell_type": "code",
   "execution_count": null,
   "metadata": {},
   "outputs": [],
   "source": []
  },
  {
   "cell_type": "code",
   "execution_count": null,
   "metadata": {},
   "outputs": [],
   "source": []
  }
 ],
 "metadata": {
  "language_info": {
   "name": "python"
  },
  "orig_nbformat": 4
 },
 "nbformat": 4,
 "nbformat_minor": 2
}
