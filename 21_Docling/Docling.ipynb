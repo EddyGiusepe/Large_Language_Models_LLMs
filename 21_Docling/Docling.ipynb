{
 "cells": [
  {
   "cell_type": "markdown",
   "metadata": {},
   "source": [
    "# <h1 align=\"center\"><font color=\"red\">Docling</font></h1>"
   ]
  },
  {
   "cell_type": "markdown",
   "metadata": {},
   "source": [
    "<font color=\"pink\">Senior Data Scientist.: Dr. Eddy Giusepe Chirinos Isidro</font>"
   ]
  },
  {
   "cell_type": "markdown",
   "metadata": {},
   "source": [
    "Links de estudo:\n",
    "\n",
    "* [GitHub: docling](https://github.com/DS4SD/docling?tab=readme-ov-file)\n",
    "\n",
    "* [Documentação: docling](https://ds4sd.github.io/docling/)\n",
    "\n",
    "* [paper: Docling Technical Report](https://arxiv.org/pdf/2408.09869)\n",
    "\n",
    "IBM ❤️ IA de código aberto\n",
    "\n",
    "O Docling foi trazido a você pela IBM."
   ]
  },
  {
   "cell_type": "markdown",
   "metadata": {},
   "source": [
    "![docling](https://ds4sd.github.io/docling/assets/docling_processing.png)\n"
   ]
  },
  {
   "cell_type": "markdown",
   "metadata": {},
   "source": [
    "# <font color=\"gree\">Simple conversion</font>"
   ]
  },
  {
   "cell_type": "code",
   "execution_count": 10,
   "metadata": {},
   "outputs": [
    {
     "data": {
      "application/vnd.jupyter.widget-view+json": {
       "model_id": "3d8d34d98dac4e718369b133c727dafd",
       "version_major": 2,
       "version_minor": 0
      },
      "text/plain": [
       "Fetching 9 files:   0%|          | 0/9 [00:00<?, ?it/s]"
      ]
     },
     "metadata": {},
     "output_type": "display_data"
    }
   ],
   "source": [
    "from docling.document_converter import DocumentConverter\n",
    "\n",
    "source = \"https://arxiv.org/pdf/2408.09869\"  # document for local path or URL\n",
    "\n",
    "converter = DocumentConverter()\n",
    "\n",
    "result = converter.convert(source)\n"
   ]
  },
  {
   "cell_type": "code",
   "execution_count": 11,
   "metadata": {},
   "outputs": [
    {
     "data": {
      "text/plain": [
       "'<missing-text>\\nDocling Technical Report\\n\\nVersion 1.0\\n\\nChristoph Auer Maksym Lysak Ahmed Nassar Michele Dolfi Nikolaos Livathinos Panos Vagenas Cesar Berrospi Ramis Matteo Omenetti Fabian Lindlbauer Kasper Dinkla Lokesh Mishra Yusik Kim Shubham Gupta Rafael Teixeira de Lima Valery Weber Lucas Morin Ingmar Meijer Viktor Kuropiatnyk Peter W. J. Staar\\n\\nAI4K Group, IBM Research Ruschlikon, Switzerland\\n\\nAbstract\\n\\nThis technical report introduces Docling , an easy to use, self-contained, MITlicensed open-source package for PDF document conversion. It is powered by state-of-the-art specialized AI models for layout analysis (DocLayNet) and table structure recognition (TableFormer), and runs efficiently on commodity hardware in a small resource budget. The code interface allows for easy extensibility and addition of new features and models.\\n\\n1 Introduction\\n\\nConverting PDF documents back into a machine-processable format has been a major challenge for decades due to their huge variability in formats, weak standardization and printing-optimized characteristic, which discards most structural features and metadata. With the advent of LLMs and popular application patterns such as retrieval-augmented generation (RAG), leveraging the rich content embedded in PDFs has become ever more relevant. In the past decade, several powerful document understanding solutions have emerged on the market, most of which are commercial software, cloud offerings [3] and most recently, multi-modal vision-language models. As of today, only a handful of open-source tools cover PDF conversion, leaving a significant feature and quality gap to proprietary solutions.\\n\\nWith Docling , we open-source a very capable and efficient document conversion tool which builds on the powerful, specialized AI models and datasets for layout analysis and table structure recognition we developed and presented in the recent past [12, 13, 9]. Docling is designed as a simple, self-contained python library with permissive license, running entirely locally on commodity hardware. Its code architecture allows for easy extensibility and addition of new features and models.\\n\\nHere is what Docling delivers today:\\n\\n · Converts PDF documents to JSON or Markdown format, stable and lightning fast\\n · Understands detailed page layout, reading order, locates figures and recovers table structures\\n · Extracts metadata from the document, such as title, authors, references and language\\n · Optionally applies OCR, e.g. for scanned PDFs\\n · Can be configured to be optimal for batch-mode (i.e high throughput, low time-to-solution) or interactive mode (compromise on efficiency, low time-to-solution)\\n · Can leverage different accelerators (GPU, MPS, etc).\\n\\n2 Getting Started\\n\\nTo use Docling, you can simply install the docling package from PyPI. Documentation and examples are available in our GitHub repository at github.com/DS4SD/docling. All required model assets 1 are downloaded to a local huggingface datasets cache on first use, unless you choose to pre-install the model assets in advance.\\n\\nDocling provides an easy code interface to convert PDF documents from file system, URLs or binary streams, and retrieve the output in either JSON or Markdown format. For convenience, separate methods are offered to convert single documents or batches of documents. A basic usage example is illustrated below. Further examples are available in the Doclign code repository.\\n\\n```\\nfrom docling.document\\\\_converter import DocumentConverter source = \"https :// arxiv.org/pdf /2206.01062\" # PDF path or URL converter = DocumentConverter () result = converter.convert\\\\_single(source) print(result.render\\\\_as\\\\_markdown ()) # output: \"## DocLayNet: A Large Human -Annotated Dataset for Document -Layout Analysis [...]\"\\n```\\n\\nOptionally, you can configure custom pipeline features and runtime options, such as turning on or off features (e.g. OCR, table structure recognition), enforcing limits on the input document size, and defining the budget of CPU threads. Advanced usage examples and options are documented in the README file. Docling also provides a Dockerfile to demonstrate how to install and run it inside a container.\\n\\n3 Processing pipeline\\n\\nDocling implements a linear pipeline of operations, which execute sequentially on each given document (see Fig. 1). Each document is first parsed by a PDF backend, which retrieves the programmatic text tokens, consisting of string content and its coordinates on the page, and also renders a bitmap image of each page to support downstream operations. Then, the standard model pipeline applies a sequence of AI models independently on every page in the document to extract features and content, such as layout and table structures. Finally, the results from all pages are aggregated and passed through a post-processing stage, which augments metadata, detects the document language, infers reading-order and eventually assembles a typed document object which can be serialized to JSON or Markdown.\\n\\n3.1 PDF backends\\n\\nTwo basic requirements to process PDF documents in our pipeline are a) to retrieve all text content and their geometric coordinates on each page and b) to render the visual representation of each page as it would appear in a PDF viewer. Both these requirements are encapsulated in Docling\\'s PDF backend interface. While there are several open-source PDF parsing libraries available for python, we faced major obstacles with all of them for different reasons, among which were restrictive\\n\\n<missing-text>\\nlicensing (e.g. pymupdf [7]), poor speed or unrecoverable quality issues, such as merged text cells across far-apart text tokens or table columns (pypdfium, PyPDF) [15, 14].\\n\\nWe therefore decided to provide multiple backend choices, and additionally open-source a custombuilt PDF parser, which is based on the low-level qpdf [4] library. It is made available in a separate package named docling-parse and powers the default PDF backend in Docling. As an alternative, we provide a PDF backend relying on pypdfium , which may be a safe backup choice in certain cases, e.g. if issues are seen with particular font encodings.\\n\\n3.2 AI models\\n\\nAs part of Docling, we initially release two highly capable AI models to the open-source community, which have been developed and published recently by our team. The first model is a layout analysis model, an accurate object-detector for page elements [13]. The second model is TableFormer [12, 9], a state-of-the-art table structure recognition model. We provide the pre-trained weights (hosted on huggingface) and a separate package for the inference code as docling-ibm-models . Both models are also powering the open-access deepsearch-experience, our cloud-native service for knowledge exploration tasks.\\n\\nLayout Analysis Model\\n\\nOur layout analysis model is an object-detector which predicts the bounding-boxes and classes of various elements on the image of a given page. Its architecture is derived from RT-DETR [16] and re-trained on DocLayNet [13], our popular human-annotated dataset for document-layout analysis, among other proprietary datasets. For inference, our implementation relies on the onnxruntime [5].\\n\\nThe Docling pipeline feeds page images at 72 dpi resolution, which can be processed on a single CPU with sub-second latency. All predicted bounding-box proposals for document elements are post-processed to remove overlapping proposals based on confidence and size, and then intersected with the text tokens in the PDF to group them into meaningful and complete units such as paragraphs, section titles, list items, captions, figures or tables.\\n\\nTable Structure Recognition\\n\\nThe TableFormer model [12], first published in 2022 and since refined with a custom structure token language [9], is a vision-transformer model for table structure recovery. It can predict the logical row and column structure of a given table based on an input image, and determine which table cells belong to column headers, row headers or the table body. Compared to earlier approaches, TableFormer handles many characteristics of tables, such as partial or no borderlines, empty cells, rows or columns, cell spans and hierarchy both on column-heading or row-heading level, tables with inconsistent indentation or alignment and other complexities. For inference, our implementation relies on PyTorch [2].\\n\\nThe Docling pipeline feeds all table objects detected in the layout analysis to the TableFormer model, by providing an image-crop of the table and the included text cells. TableFormer structure predictions are matched back to the PDF cells in post-processing to avoid expensive re-transcription text in the table image. Typical tables require between 2 and 6 seconds to be processed on a standard CPU, strongly depending on the amount of included table cells.\\n\\nOCR\\n\\nDocling provides optional support for OCR, for example to cover scanned PDFs or content in bitmaps images embedded on a page. In our initial release, we rely on EasyOCR [1], a popular thirdparty OCR library with support for many languages. Docling, by default, feeds a high-resolution page image (216 dpi) to the OCR engine, to allow capturing small print detail in decent quality. While EasyOCR delivers reasonable transcription quality, we observe that it runs fairly slow on CPU (upwards of 30 seconds per page).\\n\\nWe are actively seeking collaboration from the open-source community to extend Docling with additional OCR backends and speed improvements.\\n\\n3.3 Assembly\\n\\nIn the final pipeline stage, Docling assembles all prediction results produced on each page into a well-defined datatype that encapsulates a converted document, as defined in the auxiliary package docling-core . The generated document object is passed through a post-processing model which leverages several algorithms to augment features, such as detection of the document language, correcting the reading order, matching figures with captions and labelling metadata such as title, authors and references. The final output can then be serialized to JSON or transformed into a Markdown representation at the users request.\\n\\n3.4 Extensibility\\n\\nDocling provides a straight-forward interface to extend its capabilities, namely the model pipeline. A model pipeline constitutes the central part in the processing, following initial document parsing and preceding output assembly, and can be fully customized by sub-classing from an abstract baseclass ( BaseModelPipeline ) or cloning the default model pipeline. This effectively allows to fully customize the chain of models, add or replace models, and introduce additional pipeline configuration parameters. To use a custom model pipeline, the custom pipeline class to instantiate can be provided as an argument to the main document conversion methods. We invite everyone in the community to propose additional or alternative models and improvements.\\n\\nImplementations of model classes must satisfy the python Callable interface. The \\\\_\\\\_call\\\\_\\\\_ method must accept an iterator over page objects, and produce another iterator over the page objects which were augmented with the additional features predicted by the model, by extending the provided PagePredictions data model accordingly.\\n\\n4 Performance\\n\\nIn this section, we establish some reference numbers for the processing speed of Docling and the resource budget it requires. All tests in this section are run with default options on our standard test set distributed with Docling, which consists of three papers from arXiv and two IBM Redbooks, with a total of 225 pages. Measurements were taken using both available PDF backends on two different hardware systems: one MacBook Pro M3 Max, and one bare-metal server running Ubuntu 20.04 LTS on an Intel Xeon E5-2690 CPU. For reproducibility, we fixed the thread budget (through setting OMP NUM THREADS environment variable ) once to 4 (Docling default) and once to 16 (equal to full core count on the test hardware). All results are shown in Table 1.\\n\\nIf you need to run Docling in very low-resource environments, please consider configuring the pypdfium backend. While it is faster and more memory efficient than the default docling-parse backend, it will come at the expense of worse quality results, especially in table structure recovery.\\n\\nEstablishing GPU acceleration support for the AI models is currently work-in-progress and largely untested, but may work implicitly when CUDA is available and discovered by the onnxruntime and\\n\\ntorch runtimes backing the Docling pipeline. We will deliver updates on this topic at in a future version of this report.\\n\\n<missing-text>\\n5 Applications\\n\\nThanks to the high-quality, richly structured document conversion achieved by Docling, its output qualifies for numerous downstream applications. For example, Docling can provide a base for detailed enterprise document search, passage retrieval or classification use-cases, or support knowledge extraction pipelines, allowing specific treatment of different structures in the document, such as tables, figures, section structure or references. For popular generative AI application patterns, such as retrieval-augmented generation (RAG), we provide quackling , an open-source package which capitalizes on Docling\\'s feature-rich document output to enable document-native optimized vector embedding and chunking. It plugs in seamlessly with LLM frameworks such as LlamaIndex [8]. Since Docling is fast, stable and cheap to run, it also makes for an excellent choice to build document-derived datasets. With its powerful table structure recognition, it provides significant benefit to automated knowledge-base construction [11, 10]. Docling is also integrated within the open IBM data prep kit [6], which implements scalable data transforms to build large-scale multi-modal training datasets.\\n\\n6 Future work and contributions\\n\\nDocling is designed to allow easy extension of the model library and pipelines. In the future, we plan to extend Docling with several more models, such as a figure-classifier model, an equationrecognition model, a code-recognition model and more. This will help improve the quality of conversion for specific types of content, as well as augment extracted document metadata with additional information. Further investment into testing and optimizing GPU acceleration as well as improving the Docling-native PDF backend are on our roadmap, too.\\n\\nWe encourage everyone to propose or implement additional features and models, and will gladly take your inputs and contributions under review . The codebase of Docling is open for use and contribution, under the MIT license agreement and in alignment with our contributing guidelines included in the Docling repository. If you use Docling in your projects, please consider citing this technical report.\\n\\nReferences\\n\\n [1] J. AI. Easyocr: Ready-to-use ocr with 80+ supported languages. https://github.com/ JaidedAI/EasyOCR , 2024. Version: 1.7.0.\\n [2] J. Ansel, E. Yang, H. He, N. Gimelshein, A. Jain, M. Voznesensky, B. Bao, P. Bell, D. Berard, E. Burovski, G. Chauhan, A. Chourdia, W. Constable, A. Desmaison, Z. DeVito, E. Ellison, W. Feng, J. Gong, M. Gschwind, B. Hirsh, S. Huang, K. Kalambarkar, L. Kirsch, M. Lazos, M. Lezcano, Y. Liang, J. Liang, Y. Lu, C. Luk, B. Maher, Y. Pan, C. Puhrsch, M. Reso, M. Saroufim, M. Y. Siraichi, H. Suk, M. Suo, P. Tillet, E. Wang, X. Wang, W. Wen, S. Zhang, X. Zhao, K. Zhou, R. Zou, A. Mathews, G. Chanan, P. Wu, and S. Chintala. Pytorch 2: Faster\\n\\nmachine learning through dynamic python bytecode transformation and graph compilation. In Proceedings of the 29th ACM International Conference on Architectural Support for Programming Languages and Operating Systems, Volume 2 (ASPLOS \\'24) . ACM, 4 2024. doi: 10.1145/3620665.3640366. URL https://pytorch.org/assets/pytorch2-2.pdf .\\n\\n [3] C. Auer, M. Dolfi, A. Carvalho, C. B. Ramis, and P. W. Staar. Delivering document conversion as a cloud service with high throughput and responsiveness. In 2022 IEEE 15th International Conference on Cloud Computing (CLOUD) , pages 363-373. IEEE, 2022.\\n [4] J. Berkenbilt. Qpdf: A content-preserving pdf document transformer, 2024. URL https: //github.com/qpdf/qpdf .\\n [5] O. R. developers. Onnx runtime. https://onnxruntime.ai/ , 2024. Version: 1.18.1.\\n [6] IBM. Data Prep Kit: a community project to democratize and accelerate unstructured data preparation for LLM app developers, 2024. URL https://github.com/IBM/ data-prep-kit .\\n [7] A. S. Inc. PyMuPDF, 2024. URL https://github.com/pymupdf/PyMuPDF .\\n [8] J. Liu. LlamaIndex, 11 2022. URL https://github.com/jerryjliu/llama\\\\_index .\\n [9] M. Lysak, A. Nassar, N. Livathinos, C. Auer, and P. Staar. Optimized Table Tokenization for Table Structure Recognition. In Document Analysis and Recognition - ICDAR 2023: 17th International Conference, San Jos\\'e, CA, USA, August 21-26, 2023, Proceedings, Part II , pages 37-50, Berlin, Heidelberg, Aug. 2023. Springer-Verlag. ISBN 978-3-031-41678-1. doi: 10. 1007/978-3-031-41679-8 3. URL https://doi.org/10.1007/978-3-031-41679-8\\\\_3 .\\n [10] L. Mishra, S. Dhibi, Y. Kim, C. Berrospi Ramis, S. Gupta, M. Dolfi, and P. Staar. Statements: Universal information extraction from tables with large language models for ESG KPIs. In D. Stammbach, J. Ni, T. Schimanski, K. Dutia, A. Singh, J. Bingler, C. Christiaen, N. Kushwaha, V. Muccione, S. A. Vaghefi, and M. Leippold, editors, Proceedings of the 1st Workshop on Natural Language Processing Meets Climate Change (ClimateNLP 2024) , pages 193-214, Bangkok, Thailand, Aug. 2024. Association for Computational Linguistics. URL https://aclanthology.org/2024.climatenlp-1.15 .\\n [11] L. Morin, V. Weber, G. I. Meijer, F. Yu, and P. W. J. Staar. Patcid: an open-access dataset of chemical structures in patent documents. Nature Communications , 15(1):6532, August 2024. ISSN 2041-1723. doi: 10.1038/s41467-024-50779-y. URL https://doi.org/10.1038/ s41467-024-50779-y .\\n [12] A. Nassar, N. Livathinos, M. Lysak, and P. Staar. Tableformer: Table structure understanding with transformers. In Proceedings of the IEEE/CVF Conference on Computer Vision and Pattern Recognition , pages 4614-4623, 2022.\\n [13] B. Pfitzmann, C. Auer, M. Dolfi, A. S. Nassar, and P. Staar. Doclaynet: a large humanannotated dataset for document-layout segmentation. pages 3743-3751, 2022.\\n [14] pypdf Maintainers. pypdf: A Pure-Python PDF Library, 2024. URL https://github.com/ py-pdf/pypdf .\\n [15] P. Team. PyPDFium2: Python bindings for PDFium, 2024. URL https://github.com/ pypdfium2-team/pypdfium2 .\\n [16] Y. Zhao, W. Lv, S. Xu, J. Wei, G. Wang, Q. Dang, Y. Liu, and J. Chen. Detrs beat yolos on real-time object detection, 2023.\\n\\nAppendix\\n\\nIn this section, we illustrate a few examples of Docling\\' s output in Markdown and JSON.\\n\\nDocLayNet: A Large Human-Annotated Dataset for Document-Layout Analysis\\n\\nBirgit Pfitzmann IBM Research Rueschlikon, Switzerland bpf@zurich.ibm.com\\n\\nChristoph Auer IBM Research Rueschlikon, Switzerland cau@zurich.ibm.com\\n\\nMichele Dolfi IBM Research Rueschlikon, Switzerland dol@zurich.ibm.com\\n\\nAhmed S. Nassar IBM Research Rueschlikon, Switzerland ahn@zurich.ibm.com\\n\\nPeter Staar IBM Research Rueschlikon, Switzerland taa@zurich.ibm.com\\n\\nABSTRACT\\n\\nAccurate document layout analysis is a key requirement for highquality PDF document conversion. With the recent availability of public, large ground-truth datasets such as PubLayNet and DocBank, deep-learning models have proven to be very effective at layout detection and segmentation. While these datasets are of adequate size to train such models, they severely lack in layout variability since they are sourced from scientific article repositories such as PubMed and arXiv only. Consequently, the accuracy of the layout segmentation drops significantly when these models are applied on more challenging and diverse layouts. In this paper, we present $\\\\_{DocLayNet}$, a new, publicly available, document-layout annotation dataset in COCO format. It contains 80863 manually annotated pages from diverse data sources to represent a wide variability in layouts. For each PDF page, the layout annotations provide labelled bounding-boxes with a choice of 11 distinct classes. DocLayNet also provides a subset of double- and triple-annotated pages to determine the inter-annotator agreement. In multiple experiments, we provide baseline accuracy scores (in mAP) for a set of popular object detection models. We also demonstrate that these models fall approximately 10% behind the inter-annotator agreement. Furthermore, we provide evidence that DocLayNet is of sufficient size. Lastly, we compare models trained on PubLayNet, DocBank and DocLayNet, showing that layout predictions of the DocLayNettrained models are more robust and thus the preferred choice for general-purpose document-layout analysis.\\n\\nCCS CONCEPTS\\n\\n· Information systems → Document structure ; · Applied computing → Document analysis ; · Computing methodologies → Machine learning ; Computer vision ; $\\\\_{Object detection}$;\\n\\nPermission to make digital or hard copies of part or all of this work for personal or classroom use is granted without fee provided that copies are not made or distributed for profi t or commercial advantage and that copies bear this notice and the full citation on thefirst page. Copyrights for third-party components of this work must be honored. For all other uses, contact the owner/author(s). KDD \\'22, August 14-18, 2022, Washington, DC, USA © 2022 Copyright held by the owner/author(s). ACM ISBN 978-1-4503-9385-0/22/08. https://doi.org/10.1145/3534678.3539043\\n\\nDocLayNet: A Large Human-Annotated Dataset for Document-Layout Analysis\\n\\nBirgit Pfitzmann IBM Research Rueschlikon, Switzerland bpf@zurich.ibm.com\\n\\nChristoph Auer IBM Research Rueschlikon, Switzerland cau@zurich.ibm.com\\n\\nMichele Dolfi IBM Research Rueschlikon, Switzerland dol@zurich.ibm.com\\n\\nAhmed S. Nassar IBM Research Rueschlikon, Switzerland ahn@zurich.ibm.com\\n\\nPeter Staar IBM Research Rueschlikon, Switzerland taa@zurich.ibm.com\\n\\nABSTRACT\\n\\nAccurate document layout analysis is a key requirement for highquality PDF document conversion. With the recent availability of public, large groundtruth datasets such as PubLayNet and DocBank, deep-learning models have proven to be very effective at layout detection and segmentation. While these datasets are of adequate size to train such models, they severely lack in layout variability since they are sourced from scientific article repositories such as PubMed and arXiv only. Consequently, the accuracy of the layout segmentation drops significantly when these models are applied on more challenging and diverse layouts. In this paper, we present DocLayNet , a new, publicly available, document-layout annotation dataset in COCO format. It contains 80863 manually annotated pages from diverse data sources to represent a wide variability in layouts. For each PDF page, the layout annotations provide labelled bounding-boxes with a choice of 11 distinct classes. DocLayNet also provides a subset of double- and triple-annotated pages to determine the inter-annotator agreement. In multiple experiments, we provide baseline accuracy scores (in mAP) for a set of popular object detection models. We also demonstrate that these models fall approximately 10% behind the inter-annotator agreement. Furthermore, we provide evidence that DocLayNet is of sufficient size. Lastly, we compare models trained on PubLayNet, DocBank and DocLayNet, showing that layout predictions of the DocLayNettrained models are more robust and thus the preferred choice for general-purpose document-layout analysis.\\n\\nCCS CONCEPTS\\n\\n$\\\\_{· Information systems }$→$\\\\_{ Document structure ; · Applied computing }$ →$\\\\_{ Document analysis ; · Computing methodologies }$→$\\\\_{ Machine learning ;}$ Computer vision ; Object detection ;\\n\\nPermission to make digital or hard copies of part or all of this work for personal or classroom use is granted without fee provided that copies are not made or distributed for profit or commercial advantage and that copies bear this notice and the full citation on the first page. Copyrights for third-party components of this work must be honored. For all other uses, contact the owner/author(s).\\n\\nKDD \\'22, August 14-18, 2022, Washington, DC, USA © 2022 Copyright held by the owner/author(s). ACM ISBN 978-1-4503-9385-0/22/08. https://doi.org/10.1145/3534678.3539043\\n\\nFigure 1: Four examples of complex page layouts across different document categories\\n\\nKEYWORDS\\n\\nPDF document conversion, layout segmentation, object-detection, data set, Machine Learning\\n\\nACM Reference Format:\\n\\nBirgit Pfitzmann, Christoph Auer, Michele Dolfi, Ahmed S. Nassar, and Peter Staar. 2022. DocLayNet: A Large Human-Annotated Dataset for DocumentLayout Analysis. In Proceedings of the 28th ACM SIGKDD Conference on Knowledge Discovery and Data Mining (KDD \\'22), August 14-18, 2022, Washington, DC, USA. ACM, New York, NY, USA, 9 pages. https://doi.org/10.1145/ 3534678.3539043\\n\\n<missing-text>\\n<missing-text>\\n<missing-text>\\n<missing-text>\\nKEYWORDS\\n\\nPDF document conversion, layout segmentation, object-detection, data set, Machine Learning\\n\\nACM Reference Format:\\n\\nBirgit Pfitzmann, Christoph Auer, Michele Dolfi , Ahmed S. Nassar, and Peter Staar. 2022. DocLayNet: A Large Human-Annotated Dataset for DocumentLayout Analysis. In Proceedings of the 28th ACM SIGKDD Conference on Knowledge Discovery and Data Mining (KDD \\'22), August 14-18, 2022, Wash-$\\\\_{ington, DC, USA.}$ACM, New York, NY, USA, 9 pages. https://doi.org/10.1145/ 3534678.3539043\\n\\n1 INTRODUCTION\\n\\nDespite the substantial improvements achieved with machine-learning (ML) approaches and deep neural networks in recent years, document conversion remains a challenging problem, as demonstrated by the numerous public competitions held on this topic [1-4]. The challenge originates from the huge variability in PDF documents regarding layout, language and formats (scanned, programmatic or a combination of both). Engineering a single ML model that can be applied on all types of documents and provides high-quality layout segmentation remains to this day extremely challenging [5]. To highlight the variability in document layouts, we show a few example documents from the DocLayNet dataset in Figure 1. Figure 2: Title page of the DocLayNet paper (arxiv .org/pdf/2206.01062) - left PDF, right rendered Markdown. If recognized, metadata such as authors are appearing first under the title. Text content inside figures is currently dropped, the caption is retained and linked to the figure in the JSON representation (not shown).\\n\\nKDD \\'22, August 14-18, 2022, Washington, DC, USA Birgit Pfitzmann, Christoph Auer, Michele Dolfi, Ahmed S. Nassar, and Peter Staar\\n\\n<missing-text>\\nto avoid this at any cost in order to have clear, unbiased baseline numbers for human document-layout annotation. Third, we introduced the feature of snapping boxes around text segments to obtain a pixel-accurate annotation and again reduce time and effort. The CCS annotation tool automatically shrinks every user-drawn box to the minimum bounding-box around the enclosed text-cells for all purely text-based segments, which excludes only Table and $\\\\_{Picture}$. For the latter, we instructed annotation staffto minimise inclusion of surrounding whitespace while including all graphical lines. A downside of snapping boxes to enclosed text cells is that some wrongly parsed PDF pages cannot be annotated correctly and need to be skipped. Fourth, we established a way toflag pages as rejected for cases where no valid annotation according to the label guidelines could be achieved. Example cases for this would be PDF pages that render incorrectly or contain layouts that are impossible to capture with non-overlapping rectangles. Such rejected pages are not contained in thefinal dataset. With all these measures in place, experienced annotation staffmanaged to annotate a single page in a typical timeframe of 20s to 60s, depending on its complexity.\\n\\n5 EXPERIMENTS\\n\\nThe primary goal of DocLayNet is to obtain high-quality ML models capable of accurate document-layout analysis on a wide variety of challenging layouts. As discussed in Section 2, object detection models are currently the easiest to use, due to the standardisation of ground-truth data in COCO format [16] and the availability of general frameworks such as detectron2 [17]. Furthermore, baseline numbers in PubLayNet and DocBank were obtained using standard object detection models such as Mask R-CNN and Faster R-CNN. As such, we will relate to these object detection methods in this\\n\\n<missing-text>\\nFigure 5: Prediction performance (mAP@0.5-0.95) of a Mask R-CNN network with ResNet50 backbone trained on increasing fractions of the DocLayNet dataset. The learning curv eflattens around the 80% mark, indicating that increasing the size of the DocLayNet dataset with similar data will not yield significantly better predictions.\\n\\npaper and leave the detailed evaluation of more recent methods mentioned in Section 2 for future work.\\n\\nIn this section, we will present several aspects related to the performance of object detection models on DocLayNet. Similarly as in PubLayNet, we will evaluate the quality of their predictions using mean average precision (mAP) with 10 overlaps that range from 0.5 to 0.95 in steps of 0.05 (mAP@0.5-0.95). These scores are computed by leveraging the evaluation code provided by the COCO API [16].\\n\\nBaselines for Object Detection\\n\\nIn Table 2, we present baseline experiments (given in mAP) on Mask R-CNN [12], Faster R-CNN [11], and YOLOv5 [13]. Both training and evaluation were performed on RGB images with dimensions of $^{1025}$×1025 pixels. For training, we only used one annotation in case of redundantly annotated pages. As one can observe, the variation in mAP between the models is rather low, but overall between 6 and 10% lower than the mAP computed from the pairwise human annotations on triple-annotated pages. This gives a good indication that the DocLayNet dataset poses a worthwhile challenge for the research community to close the gap between human recognition and ML approaches. It is interesting to see that Mask R-CNN and Faster R-CNN produce very comparable mAP scores, indicating that pixel-based image segmentation derived from bounding-boxes does not help to obtain better predictions. On the other hand, the more recent Yolov5x model does very well and even out-performs humans on selected labels such as $\\\\_{Text}$, Table and $\\\\_{Picture}$. This is not entirely surprising, as and Picture are abundant and the most visually distinctive in a document.\\n\\nPrediclion Derormance (ip80.5-0.85 ohobeci detecion Lalo ks Doclaynal Lest seL Ine VACNN (Mask R-CNNI and FACNN (Faster A-CNM) mcdcs mith PosNc: 50 PosNo: 101 backtone woro trainod based on Enc nchwwcrk achrocturos tom Ihc Oecvonahaahooash a-CNn aso rioi-Fpn 3x, FasieA-Cnn a1o1-FPN Jx), wilh delaui conlwuralions The Yolg mpomorcabon utilzod was YoloSyb(i3| modos woro inbalsod usino cro-trunodmonhts hron Coco 2017 datasot\\n\\n<missing-text>\\niD avodIhbs arcost cha unbasndbasolino numoc human cocumnnt-Laycut annotalion; Thrd Inirooucod leatura 0i snapoina Doxes around lerl scainunis cblan & pixel-accuiale annolaton and aJan feduce lifre and elonThe CCS annoinbon aloMala shruks Ovory Usor-drawnboro mnmum coundino-borarounaIho onclosod coxt-colls Purolytort basud scoitontwhich uxclldcs Ort Tatlo and Picluo latsor inssucicdannjlabon sha mnim so inclusion Suitcurding mlospeco whloIncvon Oenoncang doans d0 oisnaocmnbors Onchseo Ihal So10 wioogly Daisoc Pogcs Cannol be annotalcd coTcCEY and nccd Supood Foudn Oshdned Wuyio(aq Dagcs (ccclcd Cases whcion valid anncuabon eccofding abeiqu Oelines coukbe acheneu Eamnole Case, fliswouk PDF peoe3 Ihal rendernnccrrecUy contanlavuts hat Imnosshk cantro mith Vananonnyogannio{ Suchiceciodoaoos not coralnon Ihofnn hr Aroknacoarreehetye annollca slall nuunuocd unnoln sina @ Puou lypical Lmnetamre 0l 20s 10 605 cecendng conoanty\\n\\n5 EXPERIMENTS\\n\\nIne crimary goal DochayNor cblan hion-quality Modols AccuaiodoaMoiuvana as WMeVanalon chalcnonglayoul: Cecurdg echon Doicdi Delccion modcbs Gurenl Casistlo Usc, Quulo Hhodandiubon ground-vuth data COCO lornat [16] and avaladily enetal IrarnenOiks uch derectrcnzn7] Furnemmore, baseline nmnoe < I Putun: Notand DocBank calanodusnsuandad coict dosnchonmodols such Mas< A CNN and Fasior A CNN Suan6 blramhdelecha nonInn Canacle\\n\\nFaur Prco chon ocrloianC( 605-095) ola Mask A-CNNncthoik ilh AcsNciSo backtono brainod on incrcasing Iracbons oi DocLaynei calasot Tne loannp auro altons around Ih0 €03 noicahino Ihal inxreasing /e 520 Q Iho DocLøy Nel dalasot Amardaen nol Ycid sin: dorOocC Chons AA\\n\\npangrandloave detallod evalvallon Mmoro rcoarimolhods monionan Secilg Jorhlure work\\n\\nInuhs sechon All Deseni seur8/ asoecis relas00 Perormane ouieci celecon DoxclayNet Simamtas In PLoLaynnt oynuato Inn qualmy cutholr crodictionsusiramnanavnna prncisicn (TTAP) wch IDovrdaos that rangn trom 0 5ta 005 (nap,o6-00: Ml olue Fnoula Croluoi uvalaion coou piayIed DY Ihu COCO AFI/161 ook\\n\\nBaselines for Object Detection\\n\\nptesenl baselne expenrnenls (Qvenin MAF) on Mass R-CNN /121 Fasler F-CNN [11] an1 YOLOvS [13] Bou1 brann anavailang woropomormon AGa Imaops vith dimonsions 1025 phxrols For tralring onN usodomnannolatln Incaso ohcuunourfhunnolulco Dlac3 Ohaen Vuruhoninaptalunhamagny usnaoA en hn 10?7 lovorrnannomap conoutec paicaisehuman anncrbons Aoo-amnculeopnnos Ins Cves nacaton thatrhe DocLayNot daasci DO;o s mornwro clagnoo [csoarcncamurt gap bcthoon human focogniticn and VL aporoaces nlelesuno IharNaska-CNNead Fasler GNincroova cmnanen Maseoes nnocauna Ulbi AICBasodnanc scomorubon oormvod Irom bounon)ooros Ooo{ abuin totororcocbons Ontho chornnno Mcroicconi YolavSrmrodel does verywell und even Dul-Perdorins selectedlubels such Tedle undpcturl enbeh surcrisio Ta oloandPchre poincant amimemostasiaIl Cishinsine documen: Oun hunne\\n\\nKDD \\'22, August 14-18, 2022, Washington, DC, USA Birgit Pfitzmann, Christoph Auer, Michele Dolfi, Ahmed S. Nassar, and Peter Staar\\n\\n<missing-text>\\n<missing-text>\\n<missing-text>\\nwe distribute d the annotation workload and performed continuous quality contr ols. Phase one and two required a small team of experts only. For phases three and four, a group of 40 dedicated annotators were assembled and supervised. Phase 1: Data selection and preparation. Our inclusion cri-\\n\\n<missing-text>\\nof pages ed by seerties. For cument figur es or object how\\n\\nd the colfealayout labels. Pageand $\\\\_{Title}$. class cificity ed for of the ambiguous, while coverage ensures that all meaningful items on a page can be annotated. We refrained from class labels that are very specific to a document category, such as Abstract in the Scientific Articles category. We also avoided class labels that are tightly linked to the semantics of the text. Labels such as Author and $\\\\_{Affiliation}$, as seen\\n\\nteria for documents were described in Section 3. A large effort went into ensuring that all documents are free to use. The data sources in DocBank, are often only distinguishable by discriminating on $^{3}$https://arxiv.org/ Figure 4: Table 1 from the DocLayNet paper in the original PDF (A), as rendered Markdown (B) and in JSON representation (C). Spanning table cells, such as the multi-column header \"triple interannotator mAP@0.5-0.95 (%)\", is repeated for each column in the Markdown representation (B), which guarantees that every data point can be traced back to row and column headings only by its grid coordinates in the table. In the JSON representation, the span information is reflected in the fields of each table cell (C).'"
      ]
     },
     "execution_count": 11,
     "metadata": {},
     "output_type": "execute_result"
    }
   ],
   "source": [
    "result.document.export_to_markdown(strict_text=True, indent=10)"
   ]
  },
  {
   "cell_type": "markdown",
   "metadata": {},
   "source": [
    "# <font color=\"gree\">Custom conversion</font>"
   ]
  },
  {
   "cell_type": "code",
   "execution_count": 22,
   "metadata": {},
   "outputs": [
    {
     "name": "stdout",
     "output_type": "stream",
     "text": [
      "--2024-11-29 18:44:33--  https://arxiv.org/pdf/2408.09869\n",
      "Resolving arxiv.org (arxiv.org)... 151.101.195.42, 151.101.3.42, 151.101.131.42, ...\n",
      "Connecting to arxiv.org (arxiv.org)|151.101.195.42|:443... connected.\n",
      "HTTP request sent, awaiting response... 200 OK\n",
      "Length: 5566574 (5,3M) [application/pdf]\n",
      "Saving to: ‘paper_Docling.pdf’\n",
      "\n",
      "paper_Docling.pdf   100%[===================>]   5,31M  3,18MB/s    in 1,7s    \n",
      "\n",
      "2024-11-29 18:44:35 (3,18 MB/s) - ‘paper_Docling.pdf’ saved [5566574/5566574]\n",
      "\n"
     ]
    }
   ],
   "source": [
    "!wget -O paper_Docling.pdf https://arxiv.org/pdf/2408.09869\n"
   ]
  },
  {
   "cell_type": "code",
   "execution_count": 23,
   "metadata": {},
   "outputs": [],
   "source": [
    "import json\n",
    "import logging\n",
    "import time\n",
    "from pathlib import Path\n",
    "\n",
    "from docling.backend.pypdfium2_backend import PyPdfiumDocumentBackend\n",
    "from docling.datamodel.base_models import InputFormat\n",
    "from docling.datamodel.pipeline_options import PdfPipelineOptions\n",
    "from docling.document_converter import DocumentConverter, PdfFormatOption\n",
    "from docling.models.ocr_mac_model import OcrMacOptions\n",
    "from docling.models.tesseract_ocr_cli_model import TesseractCliOcrOptions\n",
    "from docling.models.tesseract_ocr_model import TesseractOcrOptions\n",
    "\n",
    "\n",
    "_log = logging.getLogger(__name__)\n",
    "\n",
    "\n",
    "def main():\n",
    "    logging.basicConfig(level=logging.INFO)\n",
    "\n",
    "    input_doc_path = Path(\"./paper_Docling.pdf\")\n",
    "\n",
    "    ###########################################################################\n",
    "\n",
    "    # The following sections contain a combination of PipelineOptions\n",
    "    # and PDF Backends for various configurations.\n",
    "    # Uncomment one section at the time to see the differences in the output.\n",
    "\n",
    "    # PyPdfium without EasyOCR\n",
    "    # --------------------\n",
    "    # pipeline_options = PdfPipelineOptions()\n",
    "    # pipeline_options.do_ocr = False\n",
    "    # pipeline_options.do_table_structure = True\n",
    "    # pipeline_options.table_structure_options.do_cell_matching = False\n",
    "\n",
    "    # doc_converter = DocumentConverter(\n",
    "    #     format_options={\n",
    "    #         InputFormat.PDF: PdfFormatOption(\n",
    "    #             pipeline_options=pipeline_options, backend=PyPdfiumDocumentBackend\n",
    "    #         )\n",
    "    #     }\n",
    "    # )\n",
    "\n",
    "    # PyPdfium with EasyOCR\n",
    "    # -----------------\n",
    "    # pipeline_options = PdfPipelineOptions()\n",
    "    # pipeline_options.do_ocr = True\n",
    "    # pipeline_options.do_table_structure = True\n",
    "    # pipeline_options.table_structure_options.do_cell_matching = True\n",
    "\n",
    "    # doc_converter = DocumentConverter(\n",
    "    #     format_options={\n",
    "    #         InputFormat.PDF: PdfFormatOption(\n",
    "    #             pipeline_options=pipeline_options, backend=PyPdfiumDocumentBackend\n",
    "    #         )\n",
    "    #     }\n",
    "    # )\n",
    "\n",
    "    # Docling Parse without EasyOCR\n",
    "    # -------------------------\n",
    "    # pipeline_options = PdfPipelineOptions()\n",
    "    # pipeline_options.do_ocr = False\n",
    "    # pipeline_options.do_table_structure = True\n",
    "    # pipeline_options.table_structure_options.do_cell_matching = True\n",
    "\n",
    "    # doc_converter = DocumentConverter(\n",
    "    #     format_options={\n",
    "    #         InputFormat.PDF: PdfFormatOption(pipeline_options=pipeline_options)\n",
    "    #     }\n",
    "    # )\n",
    "\n",
    "    # Docling Parse with EasyOCR\n",
    "    # ----------------------\n",
    "    pipeline_options = PdfPipelineOptions()\n",
    "    pipeline_options.do_ocr = True\n",
    "    pipeline_options.do_table_structure = True\n",
    "    pipeline_options.table_structure_options.do_cell_matching = True\n",
    "\n",
    "    doc_converter = DocumentConverter(\n",
    "        format_options={\n",
    "            InputFormat.PDF: PdfFormatOption(pipeline_options=pipeline_options)\n",
    "        }\n",
    "    )\n",
    "\n",
    "    # Docling Parse with EasyOCR (CPU only)\n",
    "    # ----------------------\n",
    "    # pipeline_options = PdfPipelineOptions()\n",
    "    # pipeline_options.do_ocr = True\n",
    "    # pipeline_options.ocr_options.use_gpu = False  # <-- set this.\n",
    "    # pipeline_options.do_table_structure = True\n",
    "    # pipeline_options.table_structure_options.do_cell_matching = True\n",
    "\n",
    "    # doc_converter = DocumentConverter(\n",
    "    #     format_options={\n",
    "    #         InputFormat.PDF: PdfFormatOption(pipeline_options=pipeline_options)\n",
    "    #     }\n",
    "    # )\n",
    "\n",
    "    # Docling Parse with Tesseract\n",
    "    # ----------------------\n",
    "    # pipeline_options = PdfPipelineOptions()\n",
    "    # pipeline_options.do_ocr = True\n",
    "    # pipeline_options.do_table_structure = True\n",
    "    # pipeline_options.table_structure_options.do_cell_matching = True\n",
    "    # pipeline_options.ocr_options = TesseractOcrOptions()\n",
    "\n",
    "    # doc_converter = DocumentConverter(\n",
    "    #     format_options={\n",
    "    #         InputFormat.PDF: PdfFormatOption(pipeline_options=pipeline_options)\n",
    "    #     }\n",
    "    # )\n",
    "\n",
    "    # Docling Parse with Tesseract CLI\n",
    "    # ----------------------\n",
    "    # pipeline_options = PdfPipelineOptions()\n",
    "    # pipeline_options.do_ocr = True\n",
    "    # pipeline_options.do_table_structure = True\n",
    "    # pipeline_options.table_structure_options.do_cell_matching = True\n",
    "    # pipeline_options.ocr_options = TesseractCliOcrOptions()\n",
    "\n",
    "    # doc_converter = DocumentConverter(\n",
    "    #     format_options={\n",
    "    #         InputFormat.PDF: PdfFormatOption(pipeline_options=pipeline_options)\n",
    "    #     }\n",
    "    # )\n",
    "\n",
    "    # Docling Parse with ocrmac(Mac only)\n",
    "    # ----------------------\n",
    "    # pipeline_options = PdfPipelineOptions()\n",
    "    # pipeline_options.do_ocr = True\n",
    "    # pipeline_options.do_table_structure = True\n",
    "    # pipeline_options.table_structure_options.do_cell_matching = True\n",
    "    # pipeline_options.ocr_options = OcrMacOptions()\n",
    "\n",
    "    # doc_converter = DocumentConverter(\n",
    "    #     format_options={\n",
    "    #         InputFormat.PDF: PdfFormatOption(pipeline_options=pipeline_options)\n",
    "    #     }\n",
    "    # )\n",
    "\n",
    "    ###########################################################################\n",
    "\n",
    "    start_time = time.time()\n",
    "    conv_result = doc_converter.convert(input_doc_path)\n",
    "    end_time = time.time() - start_time\n",
    "\n",
    "    _log.info(f\"Document converted in {end_time:.2f} seconds.\")\n",
    "\n",
    "    ## Export results:\n",
    "    output_dir = Path(\"scratch\")\n",
    "    output_dir.mkdir(parents=True, exist_ok=True)\n",
    "    doc_filename = conv_result.input.file.stem\n",
    "\n",
    "    # Export Deep Search document JSON format:\n",
    "    with (output_dir / f\"{doc_filename}.json\").open(\"w\", encoding=\"utf-8\") as fp:\n",
    "        fp.write(json.dumps(conv_result.document.export_to_dict()))\n",
    "\n",
    "    # Export Text format:\n",
    "    with (output_dir / f\"{doc_filename}.txt\").open(\"w\", encoding=\"utf-8\") as fp:\n",
    "        fp.write(conv_result.document.export_to_text())\n",
    "\n",
    "    # Export Markdown format:\n",
    "    with (output_dir / f\"{doc_filename}.md\").open(\"w\", encoding=\"utf-8\") as fp:\n",
    "        fp.write(conv_result.document.export_to_markdown())\n",
    "\n",
    "    # Export Document Tags format:\n",
    "    with (output_dir / f\"{doc_filename}.doctags\").open(\"w\", encoding=\"utf-8\") as fp:\n",
    "        fp.write(conv_result.document.export_to_document_tokens())"
   ]
  },
  {
   "cell_type": "code",
   "execution_count": 24,
   "metadata": {},
   "outputs": [
    {
     "name": "stderr",
     "output_type": "stream",
     "text": [
      "INFO:docling.document_converter:Going to convert document batch...\n"
     ]
    },
    {
     "data": {
      "application/vnd.jupyter.widget-view+json": {
       "model_id": "ebcd4cb563eb4696ad71ea9fafa977bb",
       "version_major": 2,
       "version_minor": 0
      },
      "text/plain": [
       "Fetching 9 files:   0%|          | 0/9 [00:00<?, ?it/s]"
      ]
     },
     "metadata": {},
     "output_type": "display_data"
    },
    {
     "name": "stderr",
     "output_type": "stream",
     "text": [
      "INFO:docling.pipeline.base_pipeline:Processing document paper_Docling.pdf\n",
      "INFO:docling.document_converter:Finished converting document paper_Docling.pdf in 18.65 sec.\n",
      "INFO:__main__:Document converted in 18.65 seconds.\n"
     ]
    }
   ],
   "source": [
    "if __name__ == \"__main__\":\n",
    "    main()"
   ]
  }
 ],
 "metadata": {
  "kernelspec": {
   "display_name": "venv_LLMs",
   "language": "python",
   "name": "python3"
  },
  "language_info": {
   "codemirror_mode": {
    "name": "ipython",
    "version": 3
   },
   "file_extension": ".py",
   "mimetype": "text/x-python",
   "name": "python",
   "nbconvert_exporter": "python",
   "pygments_lexer": "ipython3",
   "version": "3.10.12"
  }
 },
 "nbformat": 4,
 "nbformat_minor": 2
}
