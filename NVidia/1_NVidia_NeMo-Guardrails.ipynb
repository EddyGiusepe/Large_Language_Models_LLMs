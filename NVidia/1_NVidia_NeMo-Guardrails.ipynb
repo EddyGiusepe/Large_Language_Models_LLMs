{
 "cells": [
  {
   "cell_type": "markdown",
   "metadata": {},
   "source": [
    "<h1 align=\"center\"><font color=\"yellow\">NVidia: NeMo-Guardrails</font></h1>"
   ]
  },
  {
   "cell_type": "markdown",
   "metadata": {},
   "source": [
    "<font color=\"yellow\">Data Scientist.: Dr.Eddy Giusepe Chirinos Isidro</font>"
   ]
  },
  {
   "cell_type": "markdown",
   "metadata": {},
   "source": [
    "Links de estudo:\n",
    "\n",
    "* [GitHub: NVIDIA/NeMo-Guardrails](https://github.com/NVIDIA/NeMo-Guardrails/tree/main/examples)\n",
    "\n",
    "\n",
    "* [How To Build Better Conversational Apps with NeMo Guardrails](https://medium.com/enfuse-io/how-to-build-better-conversational-apps-with-nemo-guardrails-6cbe7a9d9964)\n",
    "\n",
    "\n",
    "* [Configuring Nemo-Guardrails Your Way: An Alternative Method for Large Language Models](https://towardsdatascience.com/configuring-nemo-guardrails-your-way-an-alternative-method-for-large-language-models-c82aaff78f6e)\n",
    "\n",
    "\n",
    "* [Taming Toxic Language with NVIDIA NeMo Guardrails](https://medium.com/@ben.burtenshaw/taming-toxic-language-with-prompt-engineering-and-nvidia-nemo-guardrails-536789f4c6b6)\n",
    "\n",
    "\n",
    "* [Safeguarding LLMs with Guardrails](https://towardsdatascience.com/safeguarding-llms-with-guardrails-4f5d9f57cff2)\n",
    "\n",
    "\n",
    "* [NVIDIA releases Trustworthy, Safe, and Secure LLM Conversational Systems](https://levelup.gitconnected.com/nvidia-releases-trustworthy-safe-and-secure-llm-conversational-systems-bf5cc13c4647)\n"
   ]
  },
  {
   "cell_type": "code",
   "execution_count": 6,
   "metadata": {},
   "outputs": [],
   "source": [
    "import os\n",
    "import openai\n",
    "import tiktoken\n",
    "from dotenv import load_dotenv, find_dotenv\n",
    "_ = load_dotenv(find_dotenv()) # read local .env file\n",
    "\n",
    "openai.api_key  = os.environ['OPENAI_API_KEY']"
   ]
  },
  {
   "cell_type": "code",
   "execution_count": 7,
   "metadata": {},
   "outputs": [
    {
     "name": "stdout",
     "output_type": "stream",
     "text": [
      "Usage: nemoguardrails [OPTIONS] COMMAND [ARGS]...\n",
      "\n",
      "Options:\n",
      "  --install-completion [bash|zsh|fish|powershell|pwsh]\n",
      "                                  Install completion for the specified shell.\n",
      "  --show-completion [bash|zsh|fish|powershell|pwsh]\n",
      "                                  Show completion for the specified shell, to\n",
      "                                  copy it or customize the installation.\n",
      "  --help                          Show this message and exit.\n",
      "\n",
      "Commands:\n",
      "  actions-server  Starts a NeMo Guardrails actions server.\n",
      "  chat            Starts an interactive chat session.\n",
      "  evaluate\n",
      "  server          Starts a NeMo Guardrails server.\n"
     ]
    }
   ],
   "source": [
    "!nemoguardrails --help"
   ]
  },
  {
   "cell_type": "code",
   "execution_count": null,
   "metadata": {},
   "outputs": [],
   "source": []
  }
 ],
 "metadata": {
  "kernelspec": {
   "display_name": "venv_LLMs",
   "language": "python",
   "name": "python3"
  },
  "language_info": {
   "codemirror_mode": {
    "name": "ipython",
    "version": 3
   },
   "file_extension": ".py",
   "mimetype": "text/x-python",
   "name": "python",
   "nbconvert_exporter": "python",
   "pygments_lexer": "ipython3",
   "version": "3.9.16"
  },
  "orig_nbformat": 4
 },
 "nbformat": 4,
 "nbformat_minor": 2
}
